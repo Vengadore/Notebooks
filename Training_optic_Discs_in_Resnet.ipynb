{
  "nbformat": 4,
  "nbformat_minor": 0,
  "metadata": {
    "accelerator": "GPU",
    "colab": {
      "name": "Training_optic_Discs_in_Resnet.ipynb",
      "provenance": [],
      "toc_visible": true,
      "include_colab_link": true
    },
    "kernelspec": {
      "display_name": "Python 3",
      "language": "python",
      "name": "python3"
    },
    "language_info": {
      "codemirror_mode": {
        "name": "ipython",
        "version": 3
      },
      "file_extension": ".py",
      "mimetype": "text/x-python",
      "name": "python",
      "nbconvert_exporter": "python",
      "pygments_lexer": "ipython3",
      "version": "3.6.10"
    },
    "widgets": {
      "application/vnd.jupyter.widget-state+json": {
        "e6f791079c6d4de2adf368fc5621ef7e": {
          "model_module": "@jupyter-widgets/controls",
          "model_name": "HBoxModel",
          "state": {
            "_view_name": "HBoxView",
            "_dom_classes": [],
            "_model_name": "HBoxModel",
            "_view_module": "@jupyter-widgets/controls",
            "_model_module_version": "1.5.0",
            "_view_count": null,
            "_view_module_version": "1.5.0",
            "box_style": "",
            "layout": "IPY_MODEL_cc63bf33a84b4fe587a314ed27261802",
            "_model_module": "@jupyter-widgets/controls",
            "children": [
              "IPY_MODEL_bc7bee4b701f4afaa73a3bcecd996593",
              "IPY_MODEL_174423cb5dba44e1ad945e89f1a53240"
            ]
          }
        },
        "cc63bf33a84b4fe587a314ed27261802": {
          "model_module": "@jupyter-widgets/base",
          "model_name": "LayoutModel",
          "state": {
            "_view_name": "LayoutView",
            "grid_template_rows": null,
            "right": null,
            "justify_content": null,
            "_view_module": "@jupyter-widgets/base",
            "overflow": null,
            "_model_module_version": "1.2.0",
            "_view_count": null,
            "flex_flow": null,
            "width": null,
            "min_width": null,
            "border": null,
            "align_items": null,
            "bottom": null,
            "_model_module": "@jupyter-widgets/base",
            "top": null,
            "grid_column": null,
            "overflow_y": null,
            "overflow_x": null,
            "grid_auto_flow": null,
            "grid_area": null,
            "grid_template_columns": null,
            "flex": null,
            "_model_name": "LayoutModel",
            "justify_items": null,
            "grid_row": null,
            "max_height": null,
            "align_content": null,
            "visibility": null,
            "align_self": null,
            "height": null,
            "min_height": null,
            "padding": null,
            "grid_auto_rows": null,
            "grid_gap": null,
            "max_width": null,
            "order": null,
            "_view_module_version": "1.2.0",
            "grid_template_areas": null,
            "object_position": null,
            "object_fit": null,
            "grid_auto_columns": null,
            "margin": null,
            "display": null,
            "left": null
          }
        },
        "bc7bee4b701f4afaa73a3bcecd996593": {
          "model_module": "@jupyter-widgets/controls",
          "model_name": "FloatProgressModel",
          "state": {
            "_view_name": "ProgressView",
            "style": "IPY_MODEL_66acb1e3eb474e27bc042d169c2b2ba9",
            "_dom_classes": [],
            "description": "100%",
            "_model_name": "FloatProgressModel",
            "bar_style": "success",
            "max": 46827520,
            "_view_module": "@jupyter-widgets/controls",
            "_model_module_version": "1.5.0",
            "value": 46827520,
            "_view_count": null,
            "_view_module_version": "1.5.0",
            "orientation": "horizontal",
            "min": 0,
            "description_tooltip": null,
            "_model_module": "@jupyter-widgets/controls",
            "layout": "IPY_MODEL_e79f010720ec4ac8b2a98b2086914434"
          }
        },
        "174423cb5dba44e1ad945e89f1a53240": {
          "model_module": "@jupyter-widgets/controls",
          "model_name": "HTMLModel",
          "state": {
            "_view_name": "HTMLView",
            "style": "IPY_MODEL_3f31d3d799554603afeb90526706f1bf",
            "_dom_classes": [],
            "description": "",
            "_model_name": "HTMLModel",
            "placeholder": "​",
            "_view_module": "@jupyter-widgets/controls",
            "_model_module_version": "1.5.0",
            "value": " 44.7M/44.7M [00:00&lt;00:00, 85.0MB/s]",
            "_view_count": null,
            "_view_module_version": "1.5.0",
            "description_tooltip": null,
            "_model_module": "@jupyter-widgets/controls",
            "layout": "IPY_MODEL_ebc7a33f6ea840d69817cf969d45aaa9"
          }
        },
        "66acb1e3eb474e27bc042d169c2b2ba9": {
          "model_module": "@jupyter-widgets/controls",
          "model_name": "ProgressStyleModel",
          "state": {
            "_view_name": "StyleView",
            "_model_name": "ProgressStyleModel",
            "description_width": "initial",
            "_view_module": "@jupyter-widgets/base",
            "_model_module_version": "1.5.0",
            "_view_count": null,
            "_view_module_version": "1.2.0",
            "bar_color": null,
            "_model_module": "@jupyter-widgets/controls"
          }
        },
        "e79f010720ec4ac8b2a98b2086914434": {
          "model_module": "@jupyter-widgets/base",
          "model_name": "LayoutModel",
          "state": {
            "_view_name": "LayoutView",
            "grid_template_rows": null,
            "right": null,
            "justify_content": null,
            "_view_module": "@jupyter-widgets/base",
            "overflow": null,
            "_model_module_version": "1.2.0",
            "_view_count": null,
            "flex_flow": null,
            "width": null,
            "min_width": null,
            "border": null,
            "align_items": null,
            "bottom": null,
            "_model_module": "@jupyter-widgets/base",
            "top": null,
            "grid_column": null,
            "overflow_y": null,
            "overflow_x": null,
            "grid_auto_flow": null,
            "grid_area": null,
            "grid_template_columns": null,
            "flex": null,
            "_model_name": "LayoutModel",
            "justify_items": null,
            "grid_row": null,
            "max_height": null,
            "align_content": null,
            "visibility": null,
            "align_self": null,
            "height": null,
            "min_height": null,
            "padding": null,
            "grid_auto_rows": null,
            "grid_gap": null,
            "max_width": null,
            "order": null,
            "_view_module_version": "1.2.0",
            "grid_template_areas": null,
            "object_position": null,
            "object_fit": null,
            "grid_auto_columns": null,
            "margin": null,
            "display": null,
            "left": null
          }
        },
        "3f31d3d799554603afeb90526706f1bf": {
          "model_module": "@jupyter-widgets/controls",
          "model_name": "DescriptionStyleModel",
          "state": {
            "_view_name": "StyleView",
            "_model_name": "DescriptionStyleModel",
            "description_width": "",
            "_view_module": "@jupyter-widgets/base",
            "_model_module_version": "1.5.0",
            "_view_count": null,
            "_view_module_version": "1.2.0",
            "_model_module": "@jupyter-widgets/controls"
          }
        },
        "ebc7a33f6ea840d69817cf969d45aaa9": {
          "model_module": "@jupyter-widgets/base",
          "model_name": "LayoutModel",
          "state": {
            "_view_name": "LayoutView",
            "grid_template_rows": null,
            "right": null,
            "justify_content": null,
            "_view_module": "@jupyter-widgets/base",
            "overflow": null,
            "_model_module_version": "1.2.0",
            "_view_count": null,
            "flex_flow": null,
            "width": null,
            "min_width": null,
            "border": null,
            "align_items": null,
            "bottom": null,
            "_model_module": "@jupyter-widgets/base",
            "top": null,
            "grid_column": null,
            "overflow_y": null,
            "overflow_x": null,
            "grid_auto_flow": null,
            "grid_area": null,
            "grid_template_columns": null,
            "flex": null,
            "_model_name": "LayoutModel",
            "justify_items": null,
            "grid_row": null,
            "max_height": null,
            "align_content": null,
            "visibility": null,
            "align_self": null,
            "height": null,
            "min_height": null,
            "padding": null,
            "grid_auto_rows": null,
            "grid_gap": null,
            "max_width": null,
            "order": null,
            "_view_module_version": "1.2.0",
            "grid_template_areas": null,
            "object_position": null,
            "object_fit": null,
            "grid_auto_columns": null,
            "margin": null,
            "display": null,
            "left": null
          }
        }
      }
    }
  },
  "cells": [
    {
      "cell_type": "markdown",
      "metadata": {
        "id": "view-in-github",
        "colab_type": "text"
      },
      "source": [
        "<a href=\"https://colab.research.google.com/github/Vengadore/Notebooks/blob/master/Training_optic_Discs_in_Resnet.ipynb\" target=\"_parent\"><img src=\"https://colab.research.google.com/assets/colab-badge.svg\" alt=\"Open In Colab\"/></a>"
      ]
    },
    {
      "cell_type": "markdown",
      "metadata": {
        "id": "nVm5Ats_YVEZ"
      },
      "source": [
        "# Diabetic Retinopathy Detection\n",
        "\n",
        "Kaggle has a large competition of Diabetic Retinopathy detection which can be found here:\n",
        "https://www.kaggle.com/c/diabetic-retinopathy-detection/\n",
        "\n",
        "Their dataset consists in 35126 images labeled from 0 to 4 according to the degree of Retinopathy.\n",
        "An analysis of the data is provided in this notebook."
      ]
    },
    {
      "cell_type": "code",
      "metadata": {
        "colab": {
          "base_uri": "https://localhost:8080/"
        },
        "id": "QABUN5czaGrr",
        "outputId": "7e0d2649-81d3-4dff-f68d-dd661b3c7133"
      },
      "source": [
        "!rm -rf sample_data\n",
        "!nvidia-smi"
      ],
      "execution_count": 1,
      "outputs": [
        {
          "output_type": "stream",
          "text": [
            "Wed May  5 17:04:30 2021       \n",
            "+-----------------------------------------------------------------------------+\n",
            "| NVIDIA-SMI 465.19.01    Driver Version: 460.32.03    CUDA Version: 11.2     |\n",
            "|-------------------------------+----------------------+----------------------+\n",
            "| GPU  Name        Persistence-M| Bus-Id        Disp.A | Volatile Uncorr. ECC |\n",
            "| Fan  Temp  Perf  Pwr:Usage/Cap|         Memory-Usage | GPU-Util  Compute M. |\n",
            "|                               |                      |               MIG M. |\n",
            "|===============================+======================+======================|\n",
            "|   0  Tesla K80           Off  | 00000000:00:04.0 Off |                    0 |\n",
            "| N/A   35C    P8    28W / 149W |      0MiB / 11441MiB |      0%      Default |\n",
            "|                               |                      |                  N/A |\n",
            "+-------------------------------+----------------------+----------------------+\n",
            "                                                                               \n",
            "+-----------------------------------------------------------------------------+\n",
            "| Processes:                                                                  |\n",
            "|  GPU   GI   CI        PID   Type   Process name                  GPU Memory |\n",
            "|        ID   ID                                                   Usage      |\n",
            "|=============================================================================|\n",
            "|  No running processes found                                                 |\n",
            "+-----------------------------------------------------------------------------+\n"
          ],
          "name": "stdout"
        }
      ]
    },
    {
      "cell_type": "markdown",
      "metadata": {
        "id": "MrtmQaiBbcy5"
      },
      "source": [
        "### Install dependencies"
      ]
    },
    {
      "cell_type": "code",
      "metadata": {
        "id": "gKfg7kcTbb4h"
      },
      "source": [
        "from IPython.display import clear_output\n",
        "\n",
        "#!pip install torch==1.7.1+cu101 torchvision==0.8.1+cu101 -f https://download.pytorch.org/whl/torch_stable.html\n",
        "#!pip install efficientnet_pytorch\n",
        "clear_output(wait=False)"
      ],
      "execution_count": 2,
      "outputs": []
    },
    {
      "cell_type": "markdown",
      "metadata": {
        "id": "AO_cEyuIeDjq"
      },
      "source": [
        "## Load data from local drive\n"
      ]
    },
    {
      "cell_type": "code",
      "metadata": {
        "colab": {
          "base_uri": "https://localhost:8080/"
        },
        "id": "BWk0Ox2ueHNB",
        "outputId": "29e3ebe3-8e30-4dab-cc3b-ed22709c68eb"
      },
      "source": [
        "!wget -O File.zip \"https://correoipn-my.sharepoint.com/:u:/g/personal/ccarrillog1400_alumno_ipn_mx/ETdcB8GscyBAkhUFvNMzpoUBLLgg7ej9Q3t4rK_bR8ngSA?download=1\"\n",
        "!unzip File.zip\n",
        "!rm File.zip\n",
        "clear_output(wait=False)\n",
        "print(\"Data Downloaded\")"
      ],
      "execution_count": null,
      "outputs": [
        {
          "output_type": "stream",
          "text": [
            "Data Downloaded\n"
          ],
          "name": "stdout"
        }
      ]
    },
    {
      "cell_type": "code",
      "metadata": {
        "id": "i1yx9VF8fKgz"
      },
      "source": [
        "!wget -O File.zip \"https://correoipn-my.sharepoint.com/:u:/g/personal/ccarrillog1400_alumno_ipn_mx/Ea5EziAZKiVGgvYIqubZk04BSQOx4B1IMXLqQu8Fc5nKOA?download=1\"\n",
        "!unzip File.zip\n",
        "!rm File.zip\n",
        "clear_output(wait = False)"
      ],
      "execution_count": 3,
      "outputs": []
    },
    {
      "cell_type": "code",
      "metadata": {
        "colab": {
          "base_uri": "https://localhost:8080/"
        },
        "id": "PUCY7oQLorC9",
        "outputId": "7f1ce4c1-f822-422b-e65e-f61116a3167f"
      },
      "source": [
        "!rm checkpoint*"
      ],
      "execution_count": null,
      "outputs": [
        {
          "output_type": "stream",
          "text": [
            "rm: cannot remove 'checkpoint*': No such file or directory\n"
          ],
          "name": "stdout"
        }
      ]
    },
    {
      "cell_type": "code",
      "metadata": {
        "colab": {
          "base_uri": "https://localhost:8080/",
          "height": 206
        },
        "id": "NZ0It8aRfS8M",
        "outputId": "b76a2390-0a9a-4504-93e4-e6387dd727ed"
      },
      "source": [
        "import pandas as pd\n",
        "import os\n",
        "\n",
        "Bad =  pd.DataFrame({\"imageFilename\":[os.path.join(\"./OpticDiscs/LVL4_OD\",File) for File in os.listdir(\"./OpticDiscs/LVL4_OD\") if \".jpeg\" in File]})\n",
        "Good = pd.DataFrame({\"imageFilename\":[os.path.join(\"./OpticDiscs/LVL0_OD\",File) for File in os.listdir(\"./OpticDiscs/LVL0_OD\") if \".jpeg\" in File]}).sample(len(Bad),random_state = 42)\n",
        "\n",
        "data = pd.concat((Good,Bad),axis = 0)\n",
        "data.head()\n",
        "data['class'] = data['imageFilename'].apply(lambda x : 1 if \"LVL0\" in x else 0)\n",
        "data = data.reset_index()\n",
        "data = data[['imageFilename','class']]\n",
        "data.head()"
      ],
      "execution_count": 4,
      "outputs": [
        {
          "output_type": "execute_result",
          "data": {
            "text/html": [
              "<div>\n",
              "<style scoped>\n",
              "    .dataframe tbody tr th:only-of-type {\n",
              "        vertical-align: middle;\n",
              "    }\n",
              "\n",
              "    .dataframe tbody tr th {\n",
              "        vertical-align: top;\n",
              "    }\n",
              "\n",
              "    .dataframe thead th {\n",
              "        text-align: right;\n",
              "    }\n",
              "</style>\n",
              "<table border=\"1\" class=\"dataframe\">\n",
              "  <thead>\n",
              "    <tr style=\"text-align: right;\">\n",
              "      <th></th>\n",
              "      <th>imageFilename</th>\n",
              "      <th>class</th>\n",
              "    </tr>\n",
              "  </thead>\n",
              "  <tbody>\n",
              "    <tr>\n",
              "      <th>0</th>\n",
              "      <td>./OpticDiscs/LVL0_OD/201_p_31501_left.jpeg</td>\n",
              "      <td>1</td>\n",
              "    </tr>\n",
              "    <tr>\n",
              "      <th>1</th>\n",
              "      <td>./OpticDiscs/LVL0_OD/90_p_15315_left.jpeg</td>\n",
              "      <td>1</td>\n",
              "    </tr>\n",
              "    <tr>\n",
              "      <th>2</th>\n",
              "      <td>./OpticDiscs/LVL0_OD/179_p_28033_right.jpeg</td>\n",
              "      <td>1</td>\n",
              "    </tr>\n",
              "    <tr>\n",
              "      <th>3</th>\n",
              "      <td>./OpticDiscs/LVL0_OD/106_p_17901_right.jpeg</td>\n",
              "      <td>1</td>\n",
              "    </tr>\n",
              "    <tr>\n",
              "      <th>4</th>\n",
              "      <td>./OpticDiscs/LVL0_OD/245_p_38364_left.jpeg</td>\n",
              "      <td>1</td>\n",
              "    </tr>\n",
              "  </tbody>\n",
              "</table>\n",
              "</div>"
            ],
            "text/plain": [
              "                                 imageFilename  class\n",
              "0   ./OpticDiscs/LVL0_OD/201_p_31501_left.jpeg      1\n",
              "1    ./OpticDiscs/LVL0_OD/90_p_15315_left.jpeg      1\n",
              "2  ./OpticDiscs/LVL0_OD/179_p_28033_right.jpeg      1\n",
              "3  ./OpticDiscs/LVL0_OD/106_p_17901_right.jpeg      1\n",
              "4   ./OpticDiscs/LVL0_OD/245_p_38364_left.jpeg      1"
            ]
          },
          "metadata": {
            "tags": []
          },
          "execution_count": 4
        }
      ]
    },
    {
      "cell_type": "code",
      "metadata": {
        "colab": {
          "base_uri": "https://localhost:8080/",
          "height": 206
        },
        "id": "dNqkjvcUetED",
        "outputId": "4a98e461-b299-4f90-9bbe-1c46b69f72b5"
      },
      "source": [
        "import pandas as pd\n",
        "import os\n",
        "\n",
        "Bad =  pd.DataFrame({\"imageFilename\":[os.path.join(\"./OpticDiscs/Neovessels\",File) for File in os.listdir(\"./OpticDiscs/Neovessels\") if \".jpeg\" in File]})\n",
        "Good = pd.DataFrame({\"imageFilename\":[os.path.join(\"./OpticDiscs/Good images\",File) for File in os.listdir(\"./OpticDiscs/Good images\") if \".jpeg\" in File]}).sample(len(Bad),random_state = 42)\n",
        "\n",
        "data = pd.concat((Good,Bad),axis = 0)\n",
        "data.head()\n",
        "data['class'] = data['imageFilename'].apply(lambda x : 1 if \"Good\" in x else 0)\n",
        "data = data.reset_index()\n",
        "data = data[['imageFilename','class']]\n",
        "data.head()"
      ],
      "execution_count": null,
      "outputs": [
        {
          "output_type": "execute_result",
          "data": {
            "text/html": [
              "<div>\n",
              "<style scoped>\n",
              "    .dataframe tbody tr th:only-of-type {\n",
              "        vertical-align: middle;\n",
              "    }\n",
              "\n",
              "    .dataframe tbody tr th {\n",
              "        vertical-align: top;\n",
              "    }\n",
              "\n",
              "    .dataframe thead th {\n",
              "        text-align: right;\n",
              "    }\n",
              "</style>\n",
              "<table border=\"1\" class=\"dataframe\">\n",
              "  <thead>\n",
              "    <tr style=\"text-align: right;\">\n",
              "      <th></th>\n",
              "      <th>imageFilename</th>\n",
              "      <th>class</th>\n",
              "    </tr>\n",
              "  </thead>\n",
              "  <tbody>\n",
              "    <tr>\n",
              "      <th>0</th>\n",
              "      <td>./OpticDiscs/Good images/4270_left.jpeg</td>\n",
              "      <td>1</td>\n",
              "    </tr>\n",
              "    <tr>\n",
              "      <th>1</th>\n",
              "      <td>./OpticDiscs/Good images/26079_left.jpeg</td>\n",
              "      <td>1</td>\n",
              "    </tr>\n",
              "    <tr>\n",
              "      <th>2</th>\n",
              "      <td>./OpticDiscs/Good images/4998_right.jpeg</td>\n",
              "      <td>1</td>\n",
              "    </tr>\n",
              "    <tr>\n",
              "      <th>3</th>\n",
              "      <td>./OpticDiscs/Good images/21026_right.jpeg</td>\n",
              "      <td>1</td>\n",
              "    </tr>\n",
              "    <tr>\n",
              "      <th>4</th>\n",
              "      <td>./OpticDiscs/Good images/40631_left.jpeg</td>\n",
              "      <td>1</td>\n",
              "    </tr>\n",
              "  </tbody>\n",
              "</table>\n",
              "</div>"
            ],
            "text/plain": [
              "                               imageFilename  class\n",
              "0    ./OpticDiscs/Good images/4270_left.jpeg      1\n",
              "1   ./OpticDiscs/Good images/26079_left.jpeg      1\n",
              "2   ./OpticDiscs/Good images/4998_right.jpeg      1\n",
              "3  ./OpticDiscs/Good images/21026_right.jpeg      1\n",
              "4   ./OpticDiscs/Good images/40631_left.jpeg      1"
            ]
          },
          "metadata": {
            "tags": []
          },
          "execution_count": 5
        }
      ]
    },
    {
      "cell_type": "code",
      "metadata": {
        "colab": {
          "base_uri": "https://localhost:8080/"
        },
        "id": "s3N0Ue5MCvlk",
        "outputId": "166d653b-6faf-475d-8116-7cf95e5a4891"
      },
      "source": [
        "len(data)"
      ],
      "execution_count": 5,
      "outputs": [
        {
          "output_type": "execute_result",
          "data": {
            "text/plain": [
              "396"
            ]
          },
          "metadata": {
            "tags": []
          },
          "execution_count": 5
        }
      ]
    },
    {
      "cell_type": "markdown",
      "metadata": {
        "id": "deKSOu-Kd8Yk"
      },
      "source": [
        "#### Split data"
      ]
    },
    {
      "cell_type": "code",
      "metadata": {
        "id": "4w3TUlaqd7qi"
      },
      "source": [
        "from sklearn.model_selection import train_test_split\n",
        "\n",
        "Train,Validation = train_test_split(data,test_size = 0.40,random_state = 65)\n",
        "X_train = Train['imageFilename']\n",
        "y_train = Train['class']\n",
        "#Split data\n",
        "X_validation, X_test, y_validation, y_test = train_test_split(Validation['imageFilename'], Validation['class'], test_size=0.50, random_state=65)\n"
      ],
      "execution_count": 6,
      "outputs": []
    },
    {
      "cell_type": "code",
      "metadata": {
        "colab": {
          "base_uri": "https://localhost:8080/"
        },
        "id": "n3hQn37YfvsA",
        "outputId": "f7a99a4b-2c11-4c7c-9417-4aa045c02eb4"
      },
      "source": [
        "print(\"Datos de entrenamiento:\")\n",
        "print(y_train.value_counts())\n",
        "print(\"Datos de validación:\")\n",
        "print(y_validation.value_counts())\n",
        "print(\"Datos de test:\")\n",
        "print(y_test.value_counts())"
      ],
      "execution_count": 7,
      "outputs": [
        {
          "output_type": "stream",
          "text": [
            "Datos de entrenamiento:\n",
            "0    122\n",
            "1    115\n",
            "Name: class, dtype: int64\n",
            "Datos de validación:\n",
            "0    40\n",
            "1    39\n",
            "Name: class, dtype: int64\n",
            "Datos de test:\n",
            "1    44\n",
            "0    36\n",
            "Name: class, dtype: int64\n"
          ],
          "name": "stdout"
        }
      ]
    },
    {
      "cell_type": "code",
      "metadata": {
        "colab": {
          "base_uri": "https://localhost:8080/",
          "height": 206
        },
        "id": "nVIy3dn7eKFq",
        "outputId": "aa749cab-d331-4cd9-ef47-6dd3d9995df4"
      },
      "source": [
        "test_data = pd.DataFrame({'image':X_test,'class':y_test})\n",
        "test_data['image'] = test_data['image'].apply(lambda x : x.split('/')[-1])\n",
        "test_data.head()"
      ],
      "execution_count": 8,
      "outputs": [
        {
          "output_type": "execute_result",
          "data": {
            "text/html": [
              "<div>\n",
              "<style scoped>\n",
              "    .dataframe tbody tr th:only-of-type {\n",
              "        vertical-align: middle;\n",
              "    }\n",
              "\n",
              "    .dataframe tbody tr th {\n",
              "        vertical-align: top;\n",
              "    }\n",
              "\n",
              "    .dataframe thead th {\n",
              "        text-align: right;\n",
              "    }\n",
              "</style>\n",
              "<table border=\"1\" class=\"dataframe\">\n",
              "  <thead>\n",
              "    <tr style=\"text-align: right;\">\n",
              "      <th></th>\n",
              "      <th>image</th>\n",
              "      <th>class</th>\n",
              "    </tr>\n",
              "  </thead>\n",
              "  <tbody>\n",
              "    <tr>\n",
              "      <th>43</th>\n",
              "      <td>134_p_22678_right.jpeg</td>\n",
              "      <td>1</td>\n",
              "    </tr>\n",
              "    <tr>\n",
              "      <th>156</th>\n",
              "      <td>248_p_38725_right.jpeg</td>\n",
              "      <td>1</td>\n",
              "    </tr>\n",
              "    <tr>\n",
              "      <th>56</th>\n",
              "      <td>244_p_38232_right.jpeg</td>\n",
              "      <td>1</td>\n",
              "    </tr>\n",
              "    <tr>\n",
              "      <th>67</th>\n",
              "      <td>153_p_24171_right.jpeg</td>\n",
              "      <td>1</td>\n",
              "    </tr>\n",
              "    <tr>\n",
              "      <th>190</th>\n",
              "      <td>146_p_23548_right.jpeg</td>\n",
              "      <td>1</td>\n",
              "    </tr>\n",
              "  </tbody>\n",
              "</table>\n",
              "</div>"
            ],
            "text/plain": [
              "                      image  class\n",
              "43   134_p_22678_right.jpeg      1\n",
              "156  248_p_38725_right.jpeg      1\n",
              "56   244_p_38232_right.jpeg      1\n",
              "67   153_p_24171_right.jpeg      1\n",
              "190  146_p_23548_right.jpeg      1"
            ]
          },
          "metadata": {
            "tags": []
          },
          "execution_count": 8
        }
      ]
    },
    {
      "cell_type": "code",
      "metadata": {
        "id": "1YsYT7VjerXq"
      },
      "source": [
        "test_data.to_csv('test_data.csv',index=False)"
      ],
      "execution_count": 9,
      "outputs": []
    },
    {
      "cell_type": "markdown",
      "metadata": {
        "id": "mPh3qDdIdkHh"
      },
      "source": [
        "## Definition of the model"
      ]
    },
    {
      "cell_type": "code",
      "metadata": {
        "id": "Z-FUmuJidoy3",
        "colab": {
          "base_uri": "https://localhost:8080/",
          "height": 86,
          "referenced_widgets": [
            "e6f791079c6d4de2adf368fc5621ef7e",
            "cc63bf33a84b4fe587a314ed27261802",
            "bc7bee4b701f4afaa73a3bcecd996593",
            "174423cb5dba44e1ad945e89f1a53240",
            "66acb1e3eb474e27bc042d169c2b2ba9",
            "e79f010720ec4ac8b2a98b2086914434",
            "3f31d3d799554603afeb90526706f1bf",
            "ebc7a33f6ea840d69817cf969d45aaa9"
          ]
        },
        "outputId": "dcb3557a-69bc-43b1-8d61-b277512b084d"
      },
      "source": [
        "import torchvision.models as models\n",
        "import torch\n",
        "network_name = 'resnet18'\n",
        "model = models.resnet18(pretrained = True)"
      ],
      "execution_count": 10,
      "outputs": [
        {
          "output_type": "stream",
          "text": [
            "Downloading: \"https://download.pytorch.org/models/resnet18-5c106cde.pth\" to /root/.cache/torch/hub/checkpoints/resnet18-5c106cde.pth\n"
          ],
          "name": "stderr"
        },
        {
          "output_type": "display_data",
          "data": {
            "application/vnd.jupyter.widget-view+json": {
              "model_id": "e6f791079c6d4de2adf368fc5621ef7e",
              "version_minor": 0,
              "version_major": 2
            },
            "text/plain": [
              "HBox(children=(FloatProgress(value=0.0, max=46827520.0), HTML(value='')))"
            ]
          },
          "metadata": {
            "tags": []
          }
        },
        {
          "output_type": "stream",
          "text": [
            "\n"
          ],
          "name": "stdout"
        }
      ]
    },
    {
      "cell_type": "code",
      "metadata": {
        "colab": {
          "base_uri": "https://localhost:8080/"
        },
        "id": "drpW39Qwj3l9",
        "outputId": "c4a940fd-58c6-43d3-fd05-98f79c81ee63"
      },
      "source": [
        "model.fc"
      ],
      "execution_count": 11,
      "outputs": [
        {
          "output_type": "execute_result",
          "data": {
            "text/plain": [
              "Linear(in_features=512, out_features=1000, bias=True)"
            ]
          },
          "metadata": {
            "tags": []
          },
          "execution_count": 11
        }
      ]
    },
    {
      "cell_type": "code",
      "metadata": {
        "id": "Cu_aoH7-tBsT"
      },
      "source": [
        "## Change efficientnet final layer\n",
        "model.fc = torch.nn.Linear(in_features=512,out_features=2,bias = True)"
      ],
      "execution_count": 12,
      "outputs": []
    },
    {
      "cell_type": "code",
      "metadata": {
        "colab": {
          "base_uri": "https://localhost:8080/"
        },
        "id": "dNns-LOy6TrK",
        "outputId": "85e299ee-69b2-4758-ef4b-09b802c88308"
      },
      "source": [
        "def count_parameters(model):\n",
        "    return sum(p.numel() for p in model.parameters() if p.requires_grad)\n",
        "\n",
        "count_parameters(model)"
      ],
      "execution_count": 13,
      "outputs": [
        {
          "output_type": "execute_result",
          "data": {
            "text/plain": [
              "11177538"
            ]
          },
          "metadata": {
            "tags": []
          },
          "execution_count": 13
        }
      ]
    },
    {
      "cell_type": "code",
      "metadata": {
        "id": "5BR_Hs12gAqx"
      },
      "source": [
        "from torchvision.transforms import Resize,ToTensor,Compose,Normalize\n",
        "from torchvision.transforms import RandomHorizontalFlip,RandomVerticalFlip,RandomRotation,ColorJitter,RandomResizedCrop,RandomPerspective,GaussianBlur\n",
        "from PIL import Image\n",
        "\n",
        "transforms = Compose([RandomHorizontalFlip(),RandomVerticalFlip(),\n",
        "                      RandomRotation(180),\n",
        "                      RandomResizedCrop((224 ,224), scale=(0.7, 1.2)),\n",
        "                      RandomPerspective(),\n",
        "                      GaussianBlur((3,3))]) # Transformations for the training images\n",
        "\n",
        "composed = Compose([Resize(224), # Resize to a fit size for efficientnet\n",
        "                    ToTensor(),  # Convert into sensor\n",
        "                    Normalize((0.5, 0.5, 0.5), (0.5, 0.5, 0.5))]) # Normalize image"
      ],
      "execution_count": 15,
      "outputs": []
    },
    {
      "cell_type": "markdown",
      "metadata": {
        "id": "mWg1p7EQtqVZ"
      },
      "source": [
        "### Training parameters"
      ]
    },
    {
      "cell_type": "code",
      "metadata": {
        "id": "EiT-MlPutsZR"
      },
      "source": [
        "device = torch.device('cuda' if torch.cuda.is_available() else 'cpu')\n",
        "model.to(device);\n",
        "seed = 17\n",
        "torch.manual_seed(seed)\n",
        "criterion = torch.nn.CrossEntropyLoss()\n",
        "optimizer = torch.optim.Adam(model.parameters(), lr=0.00001)"
      ],
      "execution_count": 16,
      "outputs": []
    },
    {
      "cell_type": "code",
      "metadata": {
        "colab": {
          "base_uri": "https://localhost:8080/"
        },
        "id": "iJWflI4JoVRW",
        "outputId": "83dfa0bd-73d1-4836-dc1b-b68e4978ee9e"
      },
      "source": [
        "try:\n",
        "    model = torch.load('./checkpoint_b0_11.ph', map_location=device)\n",
        "except:\n",
        "    print(\"No Checkpoint loaded\")"
      ],
      "execution_count": 17,
      "outputs": [
        {
          "output_type": "stream",
          "text": [
            "No Checkpoint loaded\n"
          ],
          "name": "stdout"
        }
      ]
    },
    {
      "cell_type": "code",
      "metadata": {
        "id": "lcTzzyr5uUdr"
      },
      "source": [
        "classes = {0:[0,0,0,0,1],\n",
        "           1:[0,0,0,1,0],\n",
        "           2:[0,0,1,0,0],\n",
        "           3:[0,1,0,0,0],\n",
        "           4:[1,0,0,0,0]}"
      ],
      "execution_count": 18,
      "outputs": []
    },
    {
      "cell_type": "code",
      "metadata": {
        "colab": {
          "base_uri": "https://localhost:8080/"
        },
        "id": "RkvlQWRQtjXo",
        "outputId": "6c3c2100-a71f-4d2a-b66b-07296cf0241b"
      },
      "source": [
        "from tqdm import tqdm\n",
        "import random\n",
        "random.seed(seed)\n",
        "\n",
        "epochs = 100\n",
        "batch_size = 1  # I will use batch size of 1 to keep the ratio of each image\n",
        "\n",
        "TRAINING_acc = []\n",
        "VALIDATION_acc = []\n",
        "BEST_val_acc = 0.0\n",
        "\n",
        "for epoch in range(epochs):\n",
        "    \n",
        "    indexes = [idx for idx in range(len(X_train))]\n",
        "    pbar = tqdm( range(len(X_train)//batch_size),ncols = 100)\n",
        "    running_loss = 0.0\n",
        "    running_acc = 0.0\n",
        "    t = 0\n",
        "\n",
        "    for step in pbar:\n",
        "        # Load data\n",
        "        idx = random.sample(indexes,batch_size)\n",
        "        X = X_train.iloc[idx]\n",
        "        y = y_train.iloc[idx]\n",
        "\n",
        "        # Remove indexes\n",
        "        [indexes.remove(i) for i in idx]\n",
        "\n",
        "        # Load images\n",
        "        try:\n",
        "            images = [Image.open(File) for File in X]\n",
        "        except:\n",
        "            continue\n",
        "        # Load y_true\n",
        "        y_true = torch.LongTensor([c for c in y]).to(device)\n",
        "        \n",
        "        # Convert images to tensor\n",
        "        x_batch = torch.FloatTensor().to(device)\n",
        "        for image in images:\n",
        "            P = transforms(image)\n",
        "            P = composed(P).unsqueeze(0).to(device)\n",
        "            x_batch = torch.cat((x_batch,P))\n",
        "\n",
        "        # zero the parameter gradients\n",
        "        optimizer.zero_grad()\n",
        "        # forward + backward + optimize\n",
        "        outputs = model(x_batch)\n",
        "        loss = criterion(outputs, y_true)\n",
        "        loss.backward()\n",
        "        optimizer.step()\n",
        "        # print statistics\n",
        "        running_loss += loss.item()\n",
        "        t += batch_size\n",
        "\n",
        "        _, preds = torch.max(outputs, 1)\n",
        "        running_acc += torch.sum(preds == y_true).cpu().detach().numpy()\n",
        "        acc = torch.sum(preds == y_true).cpu().detach().numpy()/batch_size;\n",
        "        pbar.set_description(\"Epoch: {} Accuracy: {:0.5f} Loss: {:0.5f} \".format(epoch+1,running_acc/t,loss.item()))\n",
        "    #Validation\n",
        "    TRAINING_acc.append(running_acc/t)\n",
        "    val_acc = 0.0\n",
        "    val_loss = 0.0\n",
        "    t = 0\n",
        "    for point in range(len(X_validation)//batch_size):\n",
        "        with torch.no_grad():\n",
        "\n",
        "            X = X_validation.iloc[point*batch_size:(point+1)*batch_size]\n",
        "            y = y_validation.iloc[point*batch_size:(point+1)*batch_size]\n",
        "\n",
        "\n",
        "            # Load images\n",
        "            try:\n",
        "                images = [Image.open(File) for File in X]\n",
        "            except:\n",
        "                continue\n",
        "            # Load y_true\n",
        "            y_true = torch.LongTensor([c for c in y]).to(device)\n",
        "            \n",
        "            # Convert images to tensor\n",
        "            x_batch = torch.FloatTensor().to(device)\n",
        "            for image in images:\n",
        "                P = composed(image).unsqueeze(0).to(device)\n",
        "                x_batch = torch.cat((x_batch,P))\n",
        "\n",
        "            \n",
        "            outputs = model(x_batch)\n",
        "            loss = criterion(outputs, y_true)\n",
        "            val_loss += loss.item()\n",
        "            t += batch_size\n",
        "            _, preds = torch.max(outputs, 1)\n",
        "            val_acc += torch.sum(preds == y_true).cpu().detach().numpy()\n",
        "    VALIDATION_acc.append(val_acc/t)\n",
        "    print(\"Validation -- Accuracy: {:0.5f} Loss: {:0.5f} \\n\".format(val_acc/t,loss.item()))\n",
        "    if val_acc/t > BEST_val_acc:\n",
        "        try:\n",
        "            torch.save(model,\"/content/checkpoint_{}_{}_{:0.5f}.ph\".format(network_name,epoch+1,val_acc/t))\n",
        "            BEST_val_acc = val_acc/t\n",
        "        except:\n",
        "            continue"
      ],
      "execution_count": 19,
      "outputs": [
        {
          "output_type": "stream",
          "text": [
            "Epoch: 1 Accuracy: 0.51477 Loss: 0.77617 : 100%|██████████████████| 237/237 [00:18<00:00, 12.98it/s]\n",
            "Epoch: 2 Accuracy: 0.00000 Loss: 0.81104 :   0%|                            | 0/237 [00:00<?, ?it/s]"
          ],
          "name": "stderr"
        },
        {
          "output_type": "stream",
          "text": [
            "Validation -- Accuracy: 0.50633 Loss: 0.80634 \n",
            "\n"
          ],
          "name": "stdout"
        },
        {
          "output_type": "stream",
          "text": [
            "Epoch: 2 Accuracy: 0.51477 Loss: 0.73045 : 100%|██████████████████| 237/237 [00:17<00:00, 13.66it/s]\n",
            "Epoch: 3 Accuracy: 1.00000 Loss: 0.64047 :   1%|▏                   | 2/237 [00:00<00:14, 16.08it/s]"
          ],
          "name": "stderr"
        },
        {
          "output_type": "stream",
          "text": [
            "Validation -- Accuracy: 0.50633 Loss: 0.75690 \n",
            "\n"
          ],
          "name": "stdout"
        },
        {
          "output_type": "stream",
          "text": [
            "Epoch: 3 Accuracy: 0.54008 Loss: 0.63194 : 100%|██████████████████| 237/237 [00:17<00:00, 13.64it/s]\n",
            "Epoch: 4 Accuracy: 1.00000 Loss: 0.64780 :   0%|                            | 0/237 [00:00<?, ?it/s]"
          ],
          "name": "stderr"
        },
        {
          "output_type": "stream",
          "text": [
            "Validation -- Accuracy: 0.53165 Loss: 0.72554 \n",
            "\n"
          ],
          "name": "stdout"
        },
        {
          "output_type": "stream",
          "text": [
            "Epoch: 4 Accuracy: 0.50633 Loss: 0.76031 : 100%|██████████████████| 237/237 [00:17<00:00, 13.94it/s]\n",
            "Epoch: 5 Accuracy: 0.50000 Loss: 0.62901 :   1%|▏                   | 2/237 [00:00<00:17, 13.22it/s]"
          ],
          "name": "stderr"
        },
        {
          "output_type": "stream",
          "text": [
            "Validation -- Accuracy: 0.50633 Loss: 0.74967 \n",
            "\n"
          ],
          "name": "stdout"
        },
        {
          "output_type": "stream",
          "text": [
            "Epoch: 5 Accuracy: 0.54008 Loss: 0.57262 : 100%|██████████████████| 237/237 [00:16<00:00, 14.29it/s]\n",
            "Epoch: 6 Accuracy: 0.50000 Loss: 0.78811 :   1%|▏                   | 2/237 [00:00<00:17, 13.54it/s]"
          ],
          "name": "stderr"
        },
        {
          "output_type": "stream",
          "text": [
            "Validation -- Accuracy: 0.50633 Loss: 0.73266 \n",
            "\n"
          ],
          "name": "stdout"
        },
        {
          "output_type": "stream",
          "text": [
            "Epoch: 6 Accuracy: 0.62869 Loss: 0.63909 : 100%|██████████████████| 237/237 [00:17<00:00, 13.60it/s]\n",
            "Epoch: 7 Accuracy: 1.00000 Loss: 0.62907 :   1%|▏                   | 2/237 [00:00<00:15, 14.96it/s]"
          ],
          "name": "stderr"
        },
        {
          "output_type": "stream",
          "text": [
            "Validation -- Accuracy: 0.51899 Loss: 0.72456 \n",
            "\n"
          ],
          "name": "stdout"
        },
        {
          "output_type": "stream",
          "text": [
            "Epoch: 7 Accuracy: 0.56118 Loss: 0.70025 : 100%|██████████████████| 237/237 [00:17<00:00, 13.65it/s]\n",
            "Epoch: 8 Accuracy: 1.00000 Loss: 0.65387 :   0%|                            | 0/237 [00:00<?, ?it/s]"
          ],
          "name": "stderr"
        },
        {
          "output_type": "stream",
          "text": [
            "Validation -- Accuracy: 0.59494 Loss: 0.70772 \n",
            "\n"
          ],
          "name": "stdout"
        },
        {
          "output_type": "stream",
          "text": [
            "Epoch: 8 Accuracy: 0.64135 Loss: 0.61986 : 100%|██████████████████| 237/237 [00:16<00:00, 14.00it/s]\n",
            "Epoch: 9 Accuracy: 0.50000 Loss: 0.71232 :   1%|▏                   | 2/237 [00:00<00:18, 12.93it/s]"
          ],
          "name": "stderr"
        },
        {
          "output_type": "stream",
          "text": [
            "Validation -- Accuracy: 0.59494 Loss: 0.67324 \n",
            "\n"
          ],
          "name": "stdout"
        },
        {
          "output_type": "stream",
          "text": [
            "Epoch: 9 Accuracy: 0.63713 Loss: 0.65193 : 100%|██████████████████| 237/237 [00:17<00:00, 13.42it/s]\n",
            "Epoch: 10 Accuracy: 0.50000 Loss: 0.61840 :   1%|▏                  | 2/237 [00:00<00:17, 13.19it/s]"
          ],
          "name": "stderr"
        },
        {
          "output_type": "stream",
          "text": [
            "Validation -- Accuracy: 0.56962 Loss: 0.67475 \n",
            "\n"
          ],
          "name": "stdout"
        },
        {
          "output_type": "stream",
          "text": [
            "Epoch: 10 Accuracy: 0.74262 Loss: 0.68417 : 100%|█████████████████| 237/237 [00:17<00:00, 13.68it/s]\n",
            "Epoch: 11 Accuracy: 1.00000 Loss: 0.59655 :   0%|                           | 0/237 [00:00<?, ?it/s]"
          ],
          "name": "stderr"
        },
        {
          "output_type": "stream",
          "text": [
            "Validation -- Accuracy: 0.62025 Loss: 0.61418 \n",
            "\n"
          ],
          "name": "stdout"
        },
        {
          "output_type": "stream",
          "text": [
            "Epoch: 11 Accuracy: 0.70042 Loss: 0.51705 : 100%|█████████████████| 237/237 [00:17<00:00, 13.57it/s]\n",
            "Epoch: 12 Accuracy: 1.00000 Loss: 0.38996 :   0%|                           | 0/237 [00:00<?, ?it/s]"
          ],
          "name": "stderr"
        },
        {
          "output_type": "stream",
          "text": [
            "Validation -- Accuracy: 0.70886 Loss: 0.60723 \n",
            "\n"
          ],
          "name": "stdout"
        },
        {
          "output_type": "stream",
          "text": [
            "Epoch: 12 Accuracy: 0.74684 Loss: 1.15578 : 100%|█████████████████| 237/237 [00:17<00:00, 13.41it/s]\n",
            "Epoch: 13 Accuracy: 1.00000 Loss: 0.39822 :   1%|▏                  | 2/237 [00:00<00:16, 13.92it/s]"
          ],
          "name": "stderr"
        },
        {
          "output_type": "stream",
          "text": [
            "Validation -- Accuracy: 0.65823 Loss: 0.50778 \n",
            "\n"
          ],
          "name": "stdout"
        },
        {
          "output_type": "stream",
          "text": [
            "Epoch: 13 Accuracy: 0.72996 Loss: 0.29467 : 100%|█████████████████| 237/237 [00:17<00:00, 13.48it/s]\n",
            "Epoch: 14 Accuracy: 1.00000 Loss: 0.39168 :   1%|▏                  | 2/237 [00:00<00:16, 14.33it/s]"
          ],
          "name": "stderr"
        },
        {
          "output_type": "stream",
          "text": [
            "Validation -- Accuracy: 0.62025 Loss: 0.40464 \n",
            "\n"
          ],
          "name": "stdout"
        },
        {
          "output_type": "stream",
          "text": [
            "Epoch: 14 Accuracy: 0.76371 Loss: 0.25153 : 100%|█████████████████| 237/237 [00:17<00:00, 13.59it/s]\n",
            "Epoch: 15 Accuracy: 0.50000 Loss: 0.30586 :   1%|▏                  | 2/237 [00:00<00:16, 14.38it/s]"
          ],
          "name": "stderr"
        },
        {
          "output_type": "stream",
          "text": [
            "Validation -- Accuracy: 0.64557 Loss: 0.34974 \n",
            "\n"
          ],
          "name": "stdout"
        },
        {
          "output_type": "stream",
          "text": [
            "Epoch: 15 Accuracy: 0.77215 Loss: 0.19501 : 100%|█████████████████| 237/237 [00:17<00:00, 13.65it/s]\n",
            "Epoch: 16 Accuracy: 0.50000 Loss: 0.61782 :   1%|▏                  | 2/237 [00:00<00:16, 14.52it/s]"
          ],
          "name": "stderr"
        },
        {
          "output_type": "stream",
          "text": [
            "Validation -- Accuracy: 0.59494 Loss: 0.27566 \n",
            "\n"
          ],
          "name": "stdout"
        },
        {
          "output_type": "stream",
          "text": [
            "Epoch: 16 Accuracy: 0.77215 Loss: 0.15778 : 100%|█████████████████| 237/237 [00:17<00:00, 13.77it/s]\n",
            "Epoch: 17 Accuracy: 1.00000 Loss: 0.33915 :   1%|▏                  | 2/237 [00:00<00:16, 14.25it/s]"
          ],
          "name": "stderr"
        },
        {
          "output_type": "stream",
          "text": [
            "Validation -- Accuracy: 0.56962 Loss: 0.24102 \n",
            "\n"
          ],
          "name": "stdout"
        },
        {
          "output_type": "stream",
          "text": [
            "Epoch: 17 Accuracy: 0.77215 Loss: 0.50954 : 100%|█████████████████| 237/237 [00:17<00:00, 13.87it/s]\n",
            "Epoch: 18 Accuracy: 1.00000 Loss: 0.48102 :   1%|▏                  | 2/237 [00:00<00:15, 14.88it/s]"
          ],
          "name": "stderr"
        },
        {
          "output_type": "stream",
          "text": [
            "Validation -- Accuracy: 0.60759 Loss: 0.23971 \n",
            "\n"
          ],
          "name": "stdout"
        },
        {
          "output_type": "stream",
          "text": [
            "Epoch: 18 Accuracy: 0.84810 Loss: 0.39393 : 100%|█████████████████| 237/237 [00:17<00:00, 13.72it/s]\n",
            "Epoch: 19 Accuracy: 1.00000 Loss: 0.68341 :   1%|▏                  | 2/237 [00:00<00:17, 13.76it/s]"
          ],
          "name": "stderr"
        },
        {
          "output_type": "stream",
          "text": [
            "Validation -- Accuracy: 0.63291 Loss: 0.21843 \n",
            "\n"
          ],
          "name": "stdout"
        },
        {
          "output_type": "stream",
          "text": [
            "Epoch: 19 Accuracy: 0.79325 Loss: 0.68545 : 100%|█████████████████| 237/237 [00:17<00:00, 13.40it/s]\n",
            "Epoch: 20 Accuracy: 1.00000 Loss: 0.27320 :   1%|▏                  | 2/237 [00:00<00:16, 13.87it/s]"
          ],
          "name": "stderr"
        },
        {
          "output_type": "stream",
          "text": [
            "Validation -- Accuracy: 0.62025 Loss: 0.19172 \n",
            "\n"
          ],
          "name": "stdout"
        },
        {
          "output_type": "stream",
          "text": [
            "Epoch: 20 Accuracy: 0.82700 Loss: 0.12508 : 100%|█████████████████| 237/237 [00:17<00:00, 13.66it/s]\n",
            "Epoch: 21 Accuracy: 1.00000 Loss: 0.14658 :   1%|▏                  | 2/237 [00:00<00:17, 13.81it/s]"
          ],
          "name": "stderr"
        },
        {
          "output_type": "stream",
          "text": [
            "Validation -- Accuracy: 0.65823 Loss: 0.17998 \n",
            "\n"
          ],
          "name": "stdout"
        },
        {
          "output_type": "stream",
          "text": [
            "Epoch: 21 Accuracy: 0.83122 Loss: 0.12163 : 100%|█████████████████| 237/237 [00:17<00:00, 13.76it/s]\n",
            "Epoch: 22 Accuracy: 1.00000 Loss: 0.12244 :   1%|▏                  | 2/237 [00:00<00:16, 14.35it/s]"
          ],
          "name": "stderr"
        },
        {
          "output_type": "stream",
          "text": [
            "Validation -- Accuracy: 0.62025 Loss: 0.15683 \n",
            "\n"
          ],
          "name": "stdout"
        },
        {
          "output_type": "stream",
          "text": [
            "Epoch: 22 Accuracy: 0.79747 Loss: 0.17367 : 100%|█████████████████| 237/237 [00:17<00:00, 13.75it/s]\n",
            "Epoch: 23 Accuracy: 1.00000 Loss: 0.12444 :   1%|▏                  | 2/237 [00:00<00:16, 14.65it/s]"
          ],
          "name": "stderr"
        },
        {
          "output_type": "stream",
          "text": [
            "Validation -- Accuracy: 0.64557 Loss: 0.15559 \n",
            "\n"
          ],
          "name": "stdout"
        },
        {
          "output_type": "stream",
          "text": [
            "Epoch: 23 Accuracy: 0.83544 Loss: 0.72203 : 100%|█████████████████| 237/237 [00:16<00:00, 14.14it/s]\n",
            "Epoch: 24 Accuracy: 1.00000 Loss: 0.17842 :   1%|▏                  | 2/237 [00:00<00:16, 14.60it/s]"
          ],
          "name": "stderr"
        },
        {
          "output_type": "stream",
          "text": [
            "Validation -- Accuracy: 0.67089 Loss: 0.15169 \n",
            "\n"
          ],
          "name": "stdout"
        },
        {
          "output_type": "stream",
          "text": [
            "Epoch: 24 Accuracy: 0.84810 Loss: 0.80120 : 100%|█████████████████| 237/237 [00:17<00:00, 13.85it/s]\n",
            "Epoch: 25 Accuracy: 1.00000 Loss: 0.40146 :   1%|▏                  | 2/237 [00:00<00:16, 14.19it/s]"
          ],
          "name": "stderr"
        },
        {
          "output_type": "stream",
          "text": [
            "Validation -- Accuracy: 0.65823 Loss: 0.14813 \n",
            "\n"
          ],
          "name": "stdout"
        },
        {
          "output_type": "stream",
          "text": [
            "Epoch: 25 Accuracy: 0.86076 Loss: 0.22742 : 100%|█████████████████| 237/237 [00:17<00:00, 13.80it/s]\n",
            "Epoch: 26 Accuracy: 1.00000 Loss: 0.17150 :   1%|▏                  | 2/237 [00:00<00:16, 14.27it/s]"
          ],
          "name": "stderr"
        },
        {
          "output_type": "stream",
          "text": [
            "Validation -- Accuracy: 0.63291 Loss: 0.12750 \n",
            "\n"
          ],
          "name": "stdout"
        },
        {
          "output_type": "stream",
          "text": [
            "Epoch: 26 Accuracy: 0.85654 Loss: 0.08442 : 100%|█████████████████| 237/237 [00:17<00:00, 13.90it/s]\n",
            "Epoch: 27 Accuracy: 0.00000 Loss: 2.18391 :   1%|▏                  | 2/237 [00:00<00:15, 15.57it/s]"
          ],
          "name": "stderr"
        },
        {
          "output_type": "stream",
          "text": [
            "Validation -- Accuracy: 0.70886 Loss: 0.14695 \n",
            "\n"
          ],
          "name": "stdout"
        },
        {
          "output_type": "stream",
          "text": [
            "Epoch: 27 Accuracy: 0.87342 Loss: 0.31469 : 100%|█████████████████| 237/237 [00:16<00:00, 13.94it/s]\n",
            "Epoch: 28 Accuracy: 1.00000 Loss: 0.22122 :   1%|▏                  | 2/237 [00:00<00:17, 13.54it/s]"
          ],
          "name": "stderr"
        },
        {
          "output_type": "stream",
          "text": [
            "Validation -- Accuracy: 0.70886 Loss: 0.13733 \n",
            "\n"
          ],
          "name": "stdout"
        },
        {
          "output_type": "stream",
          "text": [
            "Epoch: 28 Accuracy: 0.86920 Loss: 0.15140 : 100%|█████████████████| 237/237 [00:17<00:00, 13.71it/s]\n",
            "Epoch: 29 Accuracy: 1.00000 Loss: 0.06919 :   0%|                           | 0/237 [00:00<?, ?it/s]"
          ],
          "name": "stderr"
        },
        {
          "output_type": "stream",
          "text": [
            "Validation -- Accuracy: 0.74684 Loss: 0.13536 \n",
            "\n"
          ],
          "name": "stdout"
        },
        {
          "output_type": "stream",
          "text": [
            "Epoch: 29 Accuracy: 0.86076 Loss: 0.08154 : 100%|█████████████████| 237/237 [00:16<00:00, 13.97it/s]\n",
            "Epoch: 30 Accuracy: 0.50000 Loss: 0.37423 :   1%|▏                  | 2/237 [00:00<00:16, 14.39it/s]"
          ],
          "name": "stderr"
        },
        {
          "output_type": "stream",
          "text": [
            "Validation -- Accuracy: 0.70886 Loss: 0.11860 \n",
            "\n"
          ],
          "name": "stdout"
        },
        {
          "output_type": "stream",
          "text": [
            "Epoch: 30 Accuracy: 0.87342 Loss: 0.62267 : 100%|█████████████████| 237/237 [00:17<00:00, 13.41it/s]\n",
            "Epoch: 31 Accuracy: 1.00000 Loss: 0.06914 :   1%|▏                  | 2/237 [00:00<00:17, 13.39it/s]"
          ],
          "name": "stderr"
        },
        {
          "output_type": "stream",
          "text": [
            "Validation -- Accuracy: 0.72152 Loss: 0.10799 \n",
            "\n"
          ],
          "name": "stdout"
        },
        {
          "output_type": "stream",
          "text": [
            "Epoch: 31 Accuracy: 0.89030 Loss: 0.16336 : 100%|█████████████████| 237/237 [00:17<00:00, 13.45it/s]\n",
            "Epoch: 32 Accuracy: 1.00000 Loss: 0.09043 :   0%|                           | 0/237 [00:00<?, ?it/s]"
          ],
          "name": "stderr"
        },
        {
          "output_type": "stream",
          "text": [
            "Validation -- Accuracy: 0.75949 Loss: 0.11325 \n",
            "\n"
          ],
          "name": "stdout"
        },
        {
          "output_type": "stream",
          "text": [
            "Epoch: 32 Accuracy: 0.88608 Loss: 0.56427 : 100%|█████████████████| 237/237 [00:17<00:00, 13.59it/s]\n",
            "Epoch: 33 Accuracy: 1.00000 Loss: 0.26321 :   1%|▏                  | 2/237 [00:00<00:16, 14.26it/s]"
          ],
          "name": "stderr"
        },
        {
          "output_type": "stream",
          "text": [
            "Validation -- Accuracy: 0.74684 Loss: 0.10745 \n",
            "\n"
          ],
          "name": "stdout"
        },
        {
          "output_type": "stream",
          "text": [
            "Epoch: 33 Accuracy: 0.88608 Loss: 0.08827 : 100%|█████████████████| 237/237 [00:17<00:00, 13.60it/s]\n",
            "Epoch: 34 Accuracy: 0.50000 Loss: 0.07381 :   1%|▏                  | 2/237 [00:00<00:15, 14.78it/s]"
          ],
          "name": "stderr"
        },
        {
          "output_type": "stream",
          "text": [
            "Validation -- Accuracy: 0.70886 Loss: 0.09193 \n",
            "\n"
          ],
          "name": "stdout"
        },
        {
          "output_type": "stream",
          "text": [
            "Epoch: 34 Accuracy: 0.86920 Loss: 0.08050 : 100%|█████████████████| 237/237 [00:17<00:00, 13.59it/s]\n",
            "Epoch: 35 Accuracy: 1.00000 Loss: 0.15736 :   0%|                           | 0/237 [00:00<?, ?it/s]"
          ],
          "name": "stderr"
        },
        {
          "output_type": "stream",
          "text": [
            "Validation -- Accuracy: 0.79747 Loss: 0.10861 \n",
            "\n"
          ],
          "name": "stdout"
        },
        {
          "output_type": "stream",
          "text": [
            "Epoch: 35 Accuracy: 0.90295 Loss: 0.12436 : 100%|█████████████████| 237/237 [00:17<00:00, 13.85it/s]\n",
            "Epoch: 36 Accuracy: 1.00000 Loss: 0.08108 :   1%|▏                  | 2/237 [00:00<00:17, 13.14it/s]"
          ],
          "name": "stderr"
        },
        {
          "output_type": "stream",
          "text": [
            "Validation -- Accuracy: 0.74684 Loss: 0.08695 \n",
            "\n"
          ],
          "name": "stdout"
        },
        {
          "output_type": "stream",
          "text": [
            "Epoch: 36 Accuracy: 0.89030 Loss: 0.80451 : 100%|█████████████████| 237/237 [00:16<00:00, 13.97it/s]\n",
            "Epoch: 37 Accuracy: 1.00000 Loss: 0.10137 :   1%|▏                  | 2/237 [00:00<00:17, 13.08it/s]"
          ],
          "name": "stderr"
        },
        {
          "output_type": "stream",
          "text": [
            "Validation -- Accuracy: 0.73418 Loss: 0.09158 \n",
            "\n"
          ],
          "name": "stdout"
        },
        {
          "output_type": "stream",
          "text": [
            "Epoch: 37 Accuracy: 0.89873 Loss: 0.06721 : 100%|█████████████████| 237/237 [00:17<00:00, 13.75it/s]\n",
            "Epoch: 38 Accuracy: 1.00000 Loss: 0.24813 :   1%|▏                  | 2/237 [00:00<00:16, 14.13it/s]"
          ],
          "name": "stderr"
        },
        {
          "output_type": "stream",
          "text": [
            "Validation -- Accuracy: 0.70886 Loss: 0.07498 \n",
            "\n"
          ],
          "name": "stdout"
        },
        {
          "output_type": "stream",
          "text": [
            "Epoch: 38 Accuracy: 0.89873 Loss: 0.07865 : 100%|█████████████████| 237/237 [00:17<00:00, 13.60it/s]\n",
            "Epoch: 39 Accuracy: 1.00000 Loss: 0.07660 :   0%|                   | 1/237 [00:00<00:27,  8.57it/s]"
          ],
          "name": "stderr"
        },
        {
          "output_type": "stream",
          "text": [
            "Validation -- Accuracy: 0.72152 Loss: 0.08036 \n",
            "\n"
          ],
          "name": "stdout"
        },
        {
          "output_type": "stream",
          "text": [
            "Epoch: 39 Accuracy: 0.88608 Loss: 0.05807 : 100%|█████████████████| 237/237 [00:17<00:00, 13.58it/s]\n",
            "Epoch: 40 Accuracy: 1.00000 Loss: 0.03908 :   1%|▏                  | 2/237 [00:00<00:17, 13.60it/s]"
          ],
          "name": "stderr"
        },
        {
          "output_type": "stream",
          "text": [
            "Validation -- Accuracy: 0.72152 Loss: 0.07846 \n",
            "\n"
          ],
          "name": "stdout"
        },
        {
          "output_type": "stream",
          "text": [
            "Epoch: 40 Accuracy: 0.91983 Loss: 0.07948 : 100%|█████████████████| 237/237 [00:17<00:00, 13.47it/s]\n",
            "Epoch: 41 Accuracy: 0.50000 Loss: 0.46595 :   1%|▏                  | 2/237 [00:00<00:16, 14.54it/s]"
          ],
          "name": "stderr"
        },
        {
          "output_type": "stream",
          "text": [
            "Validation -- Accuracy: 0.74684 Loss: 0.07257 \n",
            "\n"
          ],
          "name": "stdout"
        },
        {
          "output_type": "stream",
          "text": [
            "Epoch: 41 Accuracy: 0.90717 Loss: 0.07364 : 100%|█████████████████| 237/237 [00:17<00:00, 13.76it/s]\n",
            "Epoch: 42 Accuracy: 1.00000 Loss: 0.10881 :   1%|▏                  | 2/237 [00:00<00:16, 14.28it/s]"
          ],
          "name": "stderr"
        },
        {
          "output_type": "stream",
          "text": [
            "Validation -- Accuracy: 0.74684 Loss: 0.07808 \n",
            "\n"
          ],
          "name": "stdout"
        },
        {
          "output_type": "stream",
          "text": [
            "Epoch: 42 Accuracy: 0.91139 Loss: 0.03534 : 100%|█████████████████| 237/237 [00:17<00:00, 13.83it/s]\n",
            "Epoch: 43 Accuracy: 1.00000 Loss: 0.07605 :   1%|▏                  | 2/237 [00:00<00:22, 10.64it/s]"
          ],
          "name": "stderr"
        },
        {
          "output_type": "stream",
          "text": [
            "Validation -- Accuracy: 0.73418 Loss: 0.07271 \n",
            "\n"
          ],
          "name": "stdout"
        },
        {
          "output_type": "stream",
          "text": [
            "Epoch: 43 Accuracy: 0.88186 Loss: 0.03769 : 100%|█████████████████| 237/237 [00:17<00:00, 13.68it/s]\n",
            "Epoch: 44 Accuracy: 1.00000 Loss: 0.10655 :   1%|▏                  | 2/237 [00:00<00:16, 14.53it/s]"
          ],
          "name": "stderr"
        },
        {
          "output_type": "stream",
          "text": [
            "Validation -- Accuracy: 0.73418 Loss: 0.06850 \n",
            "\n"
          ],
          "name": "stdout"
        },
        {
          "output_type": "stream",
          "text": [
            "Epoch: 44 Accuracy: 0.93671 Loss: 0.18451 : 100%|█████████████████| 237/237 [00:17<00:00, 13.76it/s]\n",
            "Epoch: 45 Accuracy: 1.00000 Loss: 0.14992 :   1%|▏                  | 2/237 [00:00<00:16, 14.38it/s]"
          ],
          "name": "stderr"
        },
        {
          "output_type": "stream",
          "text": [
            "Validation -- Accuracy: 0.73418 Loss: 0.06493 \n",
            "\n"
          ],
          "name": "stdout"
        },
        {
          "output_type": "stream",
          "text": [
            "Epoch: 45 Accuracy: 0.89451 Loss: 0.06425 : 100%|█████████████████| 237/237 [00:17<00:00, 13.92it/s]\n",
            "Epoch: 46 Accuracy: 1.00000 Loss: 0.07251 :   1%|▏                  | 2/237 [00:00<00:16, 14.35it/s]"
          ],
          "name": "stderr"
        },
        {
          "output_type": "stream",
          "text": [
            "Validation -- Accuracy: 0.78481 Loss: 0.07505 \n",
            "\n"
          ],
          "name": "stdout"
        },
        {
          "output_type": "stream",
          "text": [
            "Epoch: 46 Accuracy: 0.91561 Loss: 0.05315 : 100%|█████████████████| 237/237 [00:16<00:00, 14.31it/s]\n",
            "Epoch: 47 Accuracy: 1.00000 Loss: 0.08164 :   1%|▏                  | 2/237 [00:00<00:16, 14.18it/s]"
          ],
          "name": "stderr"
        },
        {
          "output_type": "stream",
          "text": [
            "Validation -- Accuracy: 0.78481 Loss: 0.07843 \n",
            "\n"
          ],
          "name": "stdout"
        },
        {
          "output_type": "stream",
          "text": [
            "Epoch: 47 Accuracy: 0.93249 Loss: 0.82636 : 100%|█████████████████| 237/237 [00:17<00:00, 13.62it/s]\n",
            "Epoch: 48 Accuracy: 1.00000 Loss: 0.11831 :   1%|▏                  | 2/237 [00:00<00:17, 13.55it/s]"
          ],
          "name": "stderr"
        },
        {
          "output_type": "stream",
          "text": [
            "Validation -- Accuracy: 0.79747 Loss: 0.06940 \n",
            "\n"
          ],
          "name": "stdout"
        },
        {
          "output_type": "stream",
          "text": [
            "Epoch: 48 Accuracy: 0.93671 Loss: 0.30030 : 100%|█████████████████| 237/237 [00:17<00:00, 13.54it/s]\n",
            "Epoch: 49 Accuracy: 1.00000 Loss: 0.53464 :   1%|▏                  | 2/237 [00:00<00:16, 14.56it/s]"
          ],
          "name": "stderr"
        },
        {
          "output_type": "stream",
          "text": [
            "Validation -- Accuracy: 0.75949 Loss: 0.05816 \n",
            "\n"
          ],
          "name": "stdout"
        },
        {
          "output_type": "stream",
          "text": [
            "Epoch: 49 Accuracy: 0.91561 Loss: 0.06835 : 100%|█████████████████| 237/237 [00:17<00:00, 13.62it/s]\n",
            "Epoch: 50 Accuracy: 1.00000 Loss: 0.17653 :   1%|▏                  | 2/237 [00:00<00:15, 14.86it/s]"
          ],
          "name": "stderr"
        },
        {
          "output_type": "stream",
          "text": [
            "Validation -- Accuracy: 0.78481 Loss: 0.05125 \n",
            "\n"
          ],
          "name": "stdout"
        },
        {
          "output_type": "stream",
          "text": [
            "Epoch: 50 Accuracy: 0.89451 Loss: 0.03817 : 100%|█████████████████| 237/237 [00:17<00:00, 13.75it/s]\n",
            "Epoch: 51 Accuracy: 1.00000 Loss: 0.28635 :   1%|▏                  | 2/237 [00:00<00:16, 13.98it/s]"
          ],
          "name": "stderr"
        },
        {
          "output_type": "stream",
          "text": [
            "Validation -- Accuracy: 0.75949 Loss: 0.04834 \n",
            "\n"
          ],
          "name": "stdout"
        },
        {
          "output_type": "stream",
          "text": [
            "Epoch: 51 Accuracy: 0.94093 Loss: 0.04793 : 100%|█████████████████| 237/237 [00:17<00:00, 13.74it/s]\n",
            "Epoch: 52 Accuracy: 0.50000 Loss: 0.03547 :   1%|▏                  | 2/237 [00:00<00:15, 15.42it/s]"
          ],
          "name": "stderr"
        },
        {
          "output_type": "stream",
          "text": [
            "Validation -- Accuracy: 0.74684 Loss: 0.04715 \n",
            "\n"
          ],
          "name": "stdout"
        },
        {
          "output_type": "stream",
          "text": [
            "Epoch: 52 Accuracy: 0.92405 Loss: 0.22475 : 100%|█████████████████| 237/237 [00:17<00:00, 13.68it/s]\n",
            "Epoch: 53 Accuracy: 1.00000 Loss: 0.03965 :   0%|                           | 0/237 [00:00<?, ?it/s]"
          ],
          "name": "stderr"
        },
        {
          "output_type": "stream",
          "text": [
            "Validation -- Accuracy: 0.82278 Loss: 0.05000 \n",
            "\n"
          ],
          "name": "stdout"
        },
        {
          "output_type": "stream",
          "text": [
            "Epoch: 53 Accuracy: 0.93249 Loss: 1.74657 : 100%|█████████████████| 237/237 [00:17<00:00, 13.35it/s]\n",
            "Epoch: 54 Accuracy: 1.00000 Loss: 0.05747 :   1%|▏                  | 2/237 [00:00<00:17, 13.51it/s]"
          ],
          "name": "stderr"
        },
        {
          "output_type": "stream",
          "text": [
            "Validation -- Accuracy: 0.78481 Loss: 0.04649 \n",
            "\n"
          ],
          "name": "stdout"
        },
        {
          "output_type": "stream",
          "text": [
            "Epoch: 54 Accuracy: 0.93671 Loss: 0.05313 : 100%|█████████████████| 237/237 [00:17<00:00, 13.44it/s]\n",
            "Epoch: 55 Accuracy: 0.50000 Loss: 0.74272 :   1%|▏                  | 2/237 [00:00<00:15, 14.71it/s]"
          ],
          "name": "stderr"
        },
        {
          "output_type": "stream",
          "text": [
            "Validation -- Accuracy: 0.81013 Loss: 0.04486 \n",
            "\n"
          ],
          "name": "stdout"
        },
        {
          "output_type": "stream",
          "text": [
            "Epoch: 55 Accuracy: 0.91139 Loss: 0.15294 : 100%|█████████████████| 237/237 [00:17<00:00, 13.39it/s]\n",
            "Epoch: 56 Accuracy: 0.50000 Loss: 0.93289 :   1%|▏                  | 2/237 [00:00<00:16, 13.86it/s]"
          ],
          "name": "stderr"
        },
        {
          "output_type": "stream",
          "text": [
            "Validation -- Accuracy: 0.79747 Loss: 0.04607 \n",
            "\n"
          ],
          "name": "stdout"
        },
        {
          "output_type": "stream",
          "text": [
            "Epoch: 56 Accuracy: 0.91983 Loss: 0.08165 : 100%|█████████████████| 237/237 [00:17<00:00, 13.39it/s]\n",
            "Epoch: 57 Accuracy: 1.00000 Loss: 0.04014 :   1%|▏                  | 2/237 [00:00<00:16, 13.84it/s]"
          ],
          "name": "stderr"
        },
        {
          "output_type": "stream",
          "text": [
            "Validation -- Accuracy: 0.77215 Loss: 0.04217 \n",
            "\n"
          ],
          "name": "stdout"
        },
        {
          "output_type": "stream",
          "text": [
            "Epoch: 57 Accuracy: 0.96624 Loss: 0.15223 : 100%|█████████████████| 237/237 [00:17<00:00, 13.48it/s]\n",
            "Epoch: 58 Accuracy: 1.00000 Loss: 0.04365 :   0%|                           | 0/237 [00:00<?, ?it/s]"
          ],
          "name": "stderr"
        },
        {
          "output_type": "stream",
          "text": [
            "Validation -- Accuracy: 0.83544 Loss: 0.04396 \n",
            "\n"
          ],
          "name": "stdout"
        },
        {
          "output_type": "stream",
          "text": [
            "Epoch: 58 Accuracy: 0.93249 Loss: 0.03383 : 100%|█████████████████| 237/237 [00:16<00:00, 13.98it/s]\n",
            "Epoch: 59 Accuracy: 1.00000 Loss: 0.05320 :   1%|▏                  | 2/237 [00:00<00:16, 14.47it/s]"
          ],
          "name": "stderr"
        },
        {
          "output_type": "stream",
          "text": [
            "Validation -- Accuracy: 0.82278 Loss: 0.04095 \n",
            "\n"
          ],
          "name": "stdout"
        },
        {
          "output_type": "stream",
          "text": [
            "Epoch: 59 Accuracy: 0.94937 Loss: 0.03217 : 100%|█████████████████| 237/237 [00:16<00:00, 13.99it/s]\n",
            "Epoch: 60 Accuracy: 1.00000 Loss: 0.03418 :   1%|▏                  | 2/237 [00:00<00:16, 14.67it/s]"
          ],
          "name": "stderr"
        },
        {
          "output_type": "stream",
          "text": [
            "Validation -- Accuracy: 0.82278 Loss: 0.04183 \n",
            "\n"
          ],
          "name": "stdout"
        },
        {
          "output_type": "stream",
          "text": [
            "Epoch: 60 Accuracy: 0.93671 Loss: 0.05507 : 100%|█████████████████| 237/237 [00:17<00:00, 13.70it/s]\n",
            "Epoch: 61 Accuracy: 1.00000 Loss: 0.07190 :   1%|▏                  | 2/237 [00:00<00:17, 13.77it/s]"
          ],
          "name": "stderr"
        },
        {
          "output_type": "stream",
          "text": [
            "Validation -- Accuracy: 0.79747 Loss: 0.04320 \n",
            "\n"
          ],
          "name": "stdout"
        },
        {
          "output_type": "stream",
          "text": [
            "Epoch: 61 Accuracy: 0.94937 Loss: 0.02322 : 100%|█████████████████| 237/237 [00:17<00:00, 13.23it/s]\n",
            "Epoch: 62 Accuracy: 1.00000 Loss: 0.02685 :   1%|▏                  | 2/237 [00:00<00:17, 13.18it/s]"
          ],
          "name": "stderr"
        },
        {
          "output_type": "stream",
          "text": [
            "Validation -- Accuracy: 0.79747 Loss: 0.04285 \n",
            "\n"
          ],
          "name": "stdout"
        },
        {
          "output_type": "stream",
          "text": [
            "Epoch: 62 Accuracy: 0.93671 Loss: 0.04456 : 100%|█████████████████| 237/237 [00:17<00:00, 13.34it/s]\n",
            "Epoch: 63 Accuracy: 1.00000 Loss: 0.02649 :   1%|▏                  | 2/237 [00:00<00:14, 15.79it/s]"
          ],
          "name": "stderr"
        },
        {
          "output_type": "stream",
          "text": [
            "Validation -- Accuracy: 0.83544 Loss: 0.03887 \n",
            "\n"
          ],
          "name": "stdout"
        },
        {
          "output_type": "stream",
          "text": [
            "Epoch: 63 Accuracy: 0.94937 Loss: 0.31736 : 100%|█████████████████| 237/237 [00:17<00:00, 13.79it/s]\n",
            "Epoch: 64 Accuracy: 1.00000 Loss: 0.03009 :   1%|▏                  | 2/237 [00:00<00:16, 14.06it/s]"
          ],
          "name": "stderr"
        },
        {
          "output_type": "stream",
          "text": [
            "Validation -- Accuracy: 0.82278 Loss: 0.03795 \n",
            "\n"
          ],
          "name": "stdout"
        },
        {
          "output_type": "stream",
          "text": [
            "Epoch: 64 Accuracy: 0.94515 Loss: 0.04223 : 100%|█████████████████| 237/237 [00:17<00:00, 13.41it/s]\n",
            "Epoch: 65 Accuracy: 0.50000 Loss: 1.21916 :   1%|▏                  | 2/237 [00:00<00:16, 14.61it/s]"
          ],
          "name": "stderr"
        },
        {
          "output_type": "stream",
          "text": [
            "Validation -- Accuracy: 0.77215 Loss: 0.03402 \n",
            "\n"
          ],
          "name": "stdout"
        },
        {
          "output_type": "stream",
          "text": [
            "Epoch: 65 Accuracy: 0.92405 Loss: 0.03430 : 100%|█████████████████| 237/237 [00:17<00:00, 13.45it/s]\n",
            "Epoch: 66 Accuracy: 1.00000 Loss: 0.02275 :   1%|▏                  | 2/237 [00:00<00:17, 13.52it/s]"
          ],
          "name": "stderr"
        },
        {
          "output_type": "stream",
          "text": [
            "Validation -- Accuracy: 0.78481 Loss: 0.03449 \n",
            "\n"
          ],
          "name": "stdout"
        },
        {
          "output_type": "stream",
          "text": [
            "Epoch: 66 Accuracy: 0.94093 Loss: 0.37348 : 100%|█████████████████| 237/237 [00:17<00:00, 13.44it/s]\n",
            "Epoch: 67 Accuracy: 1.00000 Loss: 0.04916 :   1%|▏                  | 2/237 [00:00<00:17, 13.36it/s]"
          ],
          "name": "stderr"
        },
        {
          "output_type": "stream",
          "text": [
            "Validation -- Accuracy: 0.79747 Loss: 0.03480 \n",
            "\n"
          ],
          "name": "stdout"
        },
        {
          "output_type": "stream",
          "text": [
            "Epoch: 67 Accuracy: 0.92827 Loss: 2.43036 : 100%|█████████████████| 237/237 [00:17<00:00, 13.43it/s]\n",
            "Epoch: 68 Accuracy: 1.00000 Loss: 0.01685 :   1%|▏                  | 2/237 [00:00<00:16, 13.98it/s]"
          ],
          "name": "stderr"
        },
        {
          "output_type": "stream",
          "text": [
            "Validation -- Accuracy: 0.82278 Loss: 0.03544 \n",
            "\n"
          ],
          "name": "stdout"
        },
        {
          "output_type": "stream",
          "text": [
            "Epoch: 68 Accuracy: 0.93249 Loss: 0.02164 : 100%|█████████████████| 237/237 [00:17<00:00, 13.60it/s]\n",
            "Epoch: 69 Accuracy: 1.00000 Loss: 0.01676 :   0%|                           | 0/237 [00:00<?, ?it/s]"
          ],
          "name": "stderr"
        },
        {
          "output_type": "stream",
          "text": [
            "Validation -- Accuracy: 0.84810 Loss: 0.03280 \n",
            "\n"
          ],
          "name": "stdout"
        },
        {
          "output_type": "stream",
          "text": [
            "Epoch: 69 Accuracy: 0.95781 Loss: 0.01258 : 100%|█████████████████| 237/237 [00:17<00:00, 13.42it/s]\n",
            "Epoch: 70 Accuracy: 1.00000 Loss: 0.01657 :   1%|▏                  | 2/237 [00:00<00:18, 12.84it/s]"
          ],
          "name": "stderr"
        },
        {
          "output_type": "stream",
          "text": [
            "Validation -- Accuracy: 0.79747 Loss: 0.03767 \n",
            "\n"
          ],
          "name": "stdout"
        },
        {
          "output_type": "stream",
          "text": [
            "Epoch: 70 Accuracy: 0.95781 Loss: 0.02416 : 100%|█████████████████| 237/237 [00:17<00:00, 13.65it/s]\n",
            "Epoch: 71 Accuracy: 1.00000 Loss: 0.03277 :   1%|▏                  | 2/237 [00:00<00:15, 14.69it/s]"
          ],
          "name": "stderr"
        },
        {
          "output_type": "stream",
          "text": [
            "Validation -- Accuracy: 0.81013 Loss: 0.03012 \n",
            "\n"
          ],
          "name": "stdout"
        },
        {
          "output_type": "stream",
          "text": [
            "Epoch: 71 Accuracy: 0.95781 Loss: 0.02124 : 100%|█████████████████| 237/237 [00:17<00:00, 13.83it/s]\n",
            "Epoch: 72 Accuracy: 1.00000 Loss: 0.03489 :   1%|▏                  | 2/237 [00:00<00:16, 14.40it/s]"
          ],
          "name": "stderr"
        },
        {
          "output_type": "stream",
          "text": [
            "Validation -- Accuracy: 0.83544 Loss: 0.03203 \n",
            "\n"
          ],
          "name": "stdout"
        },
        {
          "output_type": "stream",
          "text": [
            "Epoch: 72 Accuracy: 0.94937 Loss: 0.03275 : 100%|█████████████████| 237/237 [00:16<00:00, 13.99it/s]\n",
            "Epoch: 73 Accuracy: 1.00000 Loss: 0.01824 :   1%|▏                  | 2/237 [00:00<00:17, 13.79it/s]"
          ],
          "name": "stderr"
        },
        {
          "output_type": "stream",
          "text": [
            "Validation -- Accuracy: 0.83544 Loss: 0.04028 \n",
            "\n"
          ],
          "name": "stdout"
        },
        {
          "output_type": "stream",
          "text": [
            "Epoch: 73 Accuracy: 0.94515 Loss: 1.12742 : 100%|█████████████████| 237/237 [00:17<00:00, 13.57it/s]\n",
            "Epoch: 74 Accuracy: 1.00000 Loss: 0.01665 :   1%|▏                  | 2/237 [00:00<00:16, 14.32it/s]"
          ],
          "name": "stderr"
        },
        {
          "output_type": "stream",
          "text": [
            "Validation -- Accuracy: 0.83544 Loss: 0.03938 \n",
            "\n"
          ],
          "name": "stdout"
        },
        {
          "output_type": "stream",
          "text": [
            "Epoch: 74 Accuracy: 0.96624 Loss: 0.02845 : 100%|█████████████████| 237/237 [00:17<00:00, 13.74it/s]\n",
            "Epoch: 75 Accuracy: 1.00000 Loss: 0.03249 :   1%|▏                  | 2/237 [00:00<00:17, 13.56it/s]"
          ],
          "name": "stderr"
        },
        {
          "output_type": "stream",
          "text": [
            "Validation -- Accuracy: 0.83544 Loss: 0.03521 \n",
            "\n"
          ],
          "name": "stdout"
        },
        {
          "output_type": "stream",
          "text": [
            "Epoch: 75 Accuracy: 0.94515 Loss: 0.03837 : 100%|█████████████████| 237/237 [00:17<00:00, 13.75it/s]\n",
            "Epoch: 76 Accuracy: 1.00000 Loss: 0.28373 :   1%|▏                  | 2/237 [00:00<00:15, 15.11it/s]"
          ],
          "name": "stderr"
        },
        {
          "output_type": "stream",
          "text": [
            "Validation -- Accuracy: 0.82278 Loss: 0.02905 \n",
            "\n"
          ],
          "name": "stdout"
        },
        {
          "output_type": "stream",
          "text": [
            "Epoch: 76 Accuracy: 0.95359 Loss: 0.79443 : 100%|█████████████████| 237/237 [00:17<00:00, 13.63it/s]\n",
            "Epoch: 77 Accuracy: 1.00000 Loss: 0.01555 :   1%|▏                  | 2/237 [00:00<00:16, 13.93it/s]"
          ],
          "name": "stderr"
        },
        {
          "output_type": "stream",
          "text": [
            "Validation -- Accuracy: 0.83544 Loss: 0.02816 \n",
            "\n"
          ],
          "name": "stdout"
        },
        {
          "output_type": "stream",
          "text": [
            "Epoch: 77 Accuracy: 0.95781 Loss: 0.01673 : 100%|█████████████████| 237/237 [00:17<00:00, 13.18it/s]\n",
            "Epoch: 78 Accuracy: 1.00000 Loss: 0.01673 :   0%|                   | 1/237 [00:00<00:28,  8.42it/s]"
          ],
          "name": "stderr"
        },
        {
          "output_type": "stream",
          "text": [
            "Validation -- Accuracy: 0.84810 Loss: 0.02947 \n",
            "\n"
          ],
          "name": "stdout"
        },
        {
          "output_type": "stream",
          "text": [
            "Epoch: 78 Accuracy: 0.95359 Loss: 0.87494 : 100%|█████████████████| 237/237 [00:17<00:00, 13.39it/s]\n",
            "Epoch: 79 Accuracy: 1.00000 Loss: 0.01427 :   1%|▏                  | 2/237 [00:00<00:16, 14.32it/s]"
          ],
          "name": "stderr"
        },
        {
          "output_type": "stream",
          "text": [
            "Validation -- Accuracy: 0.82278 Loss: 0.02662 \n",
            "\n"
          ],
          "name": "stdout"
        },
        {
          "output_type": "stream",
          "text": [
            "Epoch: 79 Accuracy: 0.95781 Loss: 0.12105 : 100%|█████████████████| 237/237 [00:17<00:00, 13.38it/s]\n",
            "Epoch: 80 Accuracy: 1.00000 Loss: 0.12059 :   1%|▏                  | 2/237 [00:00<00:17, 13.28it/s]"
          ],
          "name": "stderr"
        },
        {
          "output_type": "stream",
          "text": [
            "Validation -- Accuracy: 0.84810 Loss: 0.02816 \n",
            "\n"
          ],
          "name": "stdout"
        },
        {
          "output_type": "stream",
          "text": [
            "Epoch: 80 Accuracy: 0.96203 Loss: 0.03452 : 100%|█████████████████| 237/237 [00:17<00:00, 13.54it/s]\n",
            "Epoch: 81 Accuracy: 1.00000 Loss: 0.01876 :   0%|                   | 1/237 [00:00<00:43,  5.46it/s]"
          ],
          "name": "stderr"
        },
        {
          "output_type": "stream",
          "text": [
            "Validation -- Accuracy: 0.77215 Loss: 0.02383 \n",
            "\n"
          ],
          "name": "stdout"
        },
        {
          "output_type": "stream",
          "text": [
            "Epoch: 81 Accuracy: 0.96624 Loss: 0.01497 : 100%|█████████████████| 237/237 [00:17<00:00, 13.18it/s]\n",
            "Epoch: 82 Accuracy: 1.00000 Loss: 0.08710 :   1%|▏                  | 2/237 [00:00<00:16, 14.42it/s]"
          ],
          "name": "stderr"
        },
        {
          "output_type": "stream",
          "text": [
            "Validation -- Accuracy: 0.84810 Loss: 0.03221 \n",
            "\n"
          ],
          "name": "stdout"
        },
        {
          "output_type": "stream",
          "text": [
            "Epoch: 82 Accuracy: 0.96624 Loss: 0.01027 : 100%|█████████████████| 237/237 [00:17<00:00, 13.20it/s]\n",
            "Epoch: 83 Accuracy: 1.00000 Loss: 0.06811 :   1%|▏                  | 2/237 [00:00<00:17, 13.65it/s]"
          ],
          "name": "stderr"
        },
        {
          "output_type": "stream",
          "text": [
            "Validation -- Accuracy: 0.83544 Loss: 0.02678 \n",
            "\n"
          ],
          "name": "stdout"
        },
        {
          "output_type": "stream",
          "text": [
            "Epoch: 83 Accuracy: 0.95781 Loss: 0.03845 : 100%|█████████████████| 237/237 [00:17<00:00, 13.82it/s]\n",
            "Epoch: 84 Accuracy: 1.00000 Loss: 0.00953 :   1%|▏                  | 2/237 [00:00<00:15, 14.92it/s]"
          ],
          "name": "stderr"
        },
        {
          "output_type": "stream",
          "text": [
            "Validation -- Accuracy: 0.79747 Loss: 0.02400 \n",
            "\n"
          ],
          "name": "stdout"
        },
        {
          "output_type": "stream",
          "text": [
            "Epoch: 84 Accuracy: 0.95781 Loss: 0.11878 : 100%|█████████████████| 237/237 [00:17<00:00, 13.69it/s]\n",
            "Epoch: 85 Accuracy: 1.00000 Loss: 0.05422 :   1%|▏                  | 2/237 [00:00<00:16, 14.29it/s]"
          ],
          "name": "stderr"
        },
        {
          "output_type": "stream",
          "text": [
            "Validation -- Accuracy: 0.82278 Loss: 0.02191 \n",
            "\n"
          ],
          "name": "stdout"
        },
        {
          "output_type": "stream",
          "text": [
            "Epoch: 85 Accuracy: 0.97046 Loss: 0.02237 : 100%|█████████████████| 237/237 [00:17<00:00, 13.77it/s]\n",
            "Epoch: 86 Accuracy: 1.00000 Loss: 0.00934 :   1%|▏                  | 2/237 [00:00<00:15, 14.92it/s]"
          ],
          "name": "stderr"
        },
        {
          "output_type": "stream",
          "text": [
            "Validation -- Accuracy: 0.77215 Loss: 0.01822 \n",
            "\n"
          ],
          "name": "stdout"
        },
        {
          "output_type": "stream",
          "text": [
            "Epoch: 86 Accuracy: 0.94937 Loss: 0.01635 : 100%|█████████████████| 237/237 [00:17<00:00, 13.39it/s]\n",
            "Epoch: 87 Accuracy: 1.00000 Loss: 0.01382 :   1%|▏                  | 2/237 [00:00<00:17, 13.13it/s]"
          ],
          "name": "stderr"
        },
        {
          "output_type": "stream",
          "text": [
            "Validation -- Accuracy: 0.79747 Loss: 0.02152 \n",
            "\n"
          ],
          "name": "stdout"
        },
        {
          "output_type": "stream",
          "text": [
            "Epoch: 87 Accuracy: 0.95359 Loss: 0.01018 : 100%|█████████████████| 237/237 [00:18<00:00, 13.08it/s]\n",
            "Epoch: 88 Accuracy: 1.00000 Loss: 0.03754 :   1%|▏                  | 2/237 [00:00<00:18, 12.73it/s]"
          ],
          "name": "stderr"
        },
        {
          "output_type": "stream",
          "text": [
            "Validation -- Accuracy: 0.79747 Loss: 0.02060 \n",
            "\n"
          ],
          "name": "stdout"
        },
        {
          "output_type": "stream",
          "text": [
            "Epoch: 88 Accuracy: 0.96624 Loss: 0.02273 : 100%|█████████████████| 237/237 [00:17<00:00, 13.37it/s]\n",
            "Epoch: 89 Accuracy: 1.00000 Loss: 0.00842 :   1%|▏                  | 2/237 [00:00<00:16, 14.15it/s]"
          ],
          "name": "stderr"
        },
        {
          "output_type": "stream",
          "text": [
            "Validation -- Accuracy: 0.78481 Loss: 0.02042 \n",
            "\n"
          ],
          "name": "stdout"
        },
        {
          "output_type": "stream",
          "text": [
            "Epoch: 89 Accuracy: 0.96203 Loss: 0.45385 : 100%|█████████████████| 237/237 [00:17<00:00, 13.63it/s]\n",
            "Epoch: 90 Accuracy: 1.00000 Loss: 0.04661 :   1%|▏                  | 2/237 [00:00<00:16, 14.34it/s]"
          ],
          "name": "stderr"
        },
        {
          "output_type": "stream",
          "text": [
            "Validation -- Accuracy: 0.83544 Loss: 0.02168 \n",
            "\n"
          ],
          "name": "stdout"
        },
        {
          "output_type": "stream",
          "text": [
            "Epoch: 90 Accuracy: 0.94937 Loss: 2.66491 : 100%|█████████████████| 237/237 [00:17<00:00, 13.29it/s]\n",
            "Epoch: 91 Accuracy: 1.00000 Loss: 0.53596 :   1%|▏                  | 2/237 [00:00<00:15, 15.21it/s]"
          ],
          "name": "stderr"
        },
        {
          "output_type": "stream",
          "text": [
            "Validation -- Accuracy: 0.79747 Loss: 0.01932 \n",
            "\n"
          ],
          "name": "stdout"
        },
        {
          "output_type": "stream",
          "text": [
            "Epoch: 91 Accuracy: 0.96203 Loss: 0.01391 : 100%|█████████████████| 237/237 [00:17<00:00, 13.76it/s]\n",
            "Epoch: 92 Accuracy: 1.00000 Loss: 0.01327 :   1%|▏                  | 2/237 [00:00<00:15, 14.71it/s]"
          ],
          "name": "stderr"
        },
        {
          "output_type": "stream",
          "text": [
            "Validation -- Accuracy: 0.78481 Loss: 0.01993 \n",
            "\n"
          ],
          "name": "stdout"
        },
        {
          "output_type": "stream",
          "text": [
            "Epoch: 92 Accuracy: 0.97468 Loss: 0.07325 : 100%|█████████████████| 237/237 [00:17<00:00, 13.59it/s]\n",
            "Epoch: 93 Accuracy: 1.00000 Loss: 0.02251 :   1%|▏                  | 2/237 [00:00<00:17, 13.66it/s]"
          ],
          "name": "stderr"
        },
        {
          "output_type": "stream",
          "text": [
            "Validation -- Accuracy: 0.81013 Loss: 0.01988 \n",
            "\n"
          ],
          "name": "stdout"
        },
        {
          "output_type": "stream",
          "text": [
            "Epoch: 93 Accuracy: 0.94937 Loss: 0.01616 : 100%|█████████████████| 237/237 [00:17<00:00, 13.23it/s]\n",
            "Epoch: 94 Accuracy: 1.00000 Loss: 0.01325 :   1%|▏                  | 2/237 [00:00<00:16, 14.02it/s]"
          ],
          "name": "stderr"
        },
        {
          "output_type": "stream",
          "text": [
            "Validation -- Accuracy: 0.82278 Loss: 0.01871 \n",
            "\n"
          ],
          "name": "stdout"
        },
        {
          "output_type": "stream",
          "text": [
            "Epoch: 94 Accuracy: 0.97468 Loss: 0.01368 : 100%|█████████████████| 237/237 [00:17<00:00, 13.59it/s]\n",
            "Epoch: 95 Accuracy: 1.00000 Loss: 0.02193 :   1%|▏                  | 2/237 [00:00<00:17, 13.38it/s]"
          ],
          "name": "stderr"
        },
        {
          "output_type": "stream",
          "text": [
            "Validation -- Accuracy: 0.79747 Loss: 0.01921 \n",
            "\n"
          ],
          "name": "stdout"
        },
        {
          "output_type": "stream",
          "text": [
            "Epoch: 95 Accuracy: 0.97046 Loss: 0.01554 : 100%|█████████████████| 237/237 [00:17<00:00, 13.42it/s]\n",
            "Epoch: 96 Accuracy: 1.00000 Loss: 0.01119 :   1%|▏                  | 2/237 [00:00<00:17, 13.38it/s]"
          ],
          "name": "stderr"
        },
        {
          "output_type": "stream",
          "text": [
            "Validation -- Accuracy: 0.79747 Loss: 0.01855 \n",
            "\n"
          ],
          "name": "stdout"
        },
        {
          "output_type": "stream",
          "text": [
            "Epoch: 96 Accuracy: 0.96203 Loss: 0.01396 : 100%|█████████████████| 237/237 [00:18<00:00, 13.08it/s]\n",
            "Epoch: 97 Accuracy: 1.00000 Loss: 0.05280 :   1%|▏                  | 2/237 [00:00<00:17, 13.45it/s]"
          ],
          "name": "stderr"
        },
        {
          "output_type": "stream",
          "text": [
            "Validation -- Accuracy: 0.79747 Loss: 0.01980 \n",
            "\n"
          ],
          "name": "stdout"
        },
        {
          "output_type": "stream",
          "text": [
            "Epoch: 97 Accuracy: 0.94515 Loss: 0.01424 : 100%|█████████████████| 237/237 [00:18<00:00, 13.14it/s]\n",
            "Epoch: 98 Accuracy: 1.00000 Loss: 0.04990 :   1%|▏                  | 2/237 [00:00<00:15, 14.82it/s]"
          ],
          "name": "stderr"
        },
        {
          "output_type": "stream",
          "text": [
            "Validation -- Accuracy: 0.77215 Loss: 0.01682 \n",
            "\n"
          ],
          "name": "stdout"
        },
        {
          "output_type": "stream",
          "text": [
            "Epoch: 98 Accuracy: 0.95359 Loss: 0.01638 : 100%|█████████████████| 237/237 [00:17<00:00, 13.68it/s]\n",
            "Epoch: 99 Accuracy: 1.00000 Loss: 0.01727 :   1%|▏                  | 2/237 [00:00<00:16, 13.97it/s]"
          ],
          "name": "stderr"
        },
        {
          "output_type": "stream",
          "text": [
            "Validation -- Accuracy: 0.84810 Loss: 0.01938 \n",
            "\n"
          ],
          "name": "stdout"
        },
        {
          "output_type": "stream",
          "text": [
            "Epoch: 99 Accuracy: 0.97890 Loss: 0.01414 : 100%|█████████████████| 237/237 [00:17<00:00, 13.48it/s]\n",
            "Epoch: 100 Accuracy: 1.00000 Loss: 0.01957 :   1%|▏                 | 2/237 [00:00<00:17, 13.51it/s]"
          ],
          "name": "stderr"
        },
        {
          "output_type": "stream",
          "text": [
            "Validation -- Accuracy: 0.81013 Loss: 0.01864 \n",
            "\n"
          ],
          "name": "stdout"
        },
        {
          "output_type": "stream",
          "text": [
            "Epoch: 100 Accuracy: 0.95781 Loss: 0.01666 : 100%|████████████████| 237/237 [00:18<00:00, 13.09it/s]\n"
          ],
          "name": "stderr"
        },
        {
          "output_type": "stream",
          "text": [
            "Validation -- Accuracy: 0.83544 Loss: 0.01831 \n",
            "\n"
          ],
          "name": "stdout"
        }
      ]
    },
    {
      "cell_type": "code",
      "metadata": {
        "colab": {
          "base_uri": "https://localhost:8080/",
          "height": 283
        },
        "id": "rpupTOMPlWD8",
        "outputId": "05f3161d-737d-4edc-ee0e-6d1ee0dd7c90"
      },
      "source": [
        "history = pd.DataFrame({\"Train\":TRAINING_acc,\"Validation\":VALIDATION_acc})\n",
        "history.plot()"
      ],
      "execution_count": null,
      "outputs": [
        {
          "output_type": "execute_result",
          "data": {
            "text/plain": [
              "<matplotlib.axes._subplots.AxesSubplot at 0x7f1c58493f60>"
            ]
          },
          "metadata": {
            "tags": []
          },
          "execution_count": 20
        },
        {
          "output_type": "display_data",
          "data": {
            "image/png": "[encoded data removed]",
            "text/plain": [
              "<Figure size 432x288 with 1 Axes>"
            ]
          },
          "metadata": {
            "tags": [],
            "needs_background": "light"
          }
        }
      ]
    },
    {
      "cell_type": "code",
      "metadata": {
        "colab": {
          "base_uri": "https://localhost:8080/",
          "height": 286
        },
        "id": "8OkZ2WVTfiiA",
        "outputId": "f556f895-1ba2-4f66-900b-47f4f6dbc698"
      },
      "source": [
        "history = pd.DataFrame({\"Train\":TRAINING_acc,\"Validation\":VALIDATION_acc})\n",
        "history.plot()"
      ],
      "execution_count": 20,
      "outputs": [
        {
          "output_type": "execute_result",
          "data": {
            "text/plain": [
              "<matplotlib.axes._subplots.AxesSubplot at 0x7f0bef7a3d90>"
            ]
          },
          "metadata": {
            "tags": []
          },
          "execution_count": 20
        },
        {
          "output_type": "display_data",
          "data": {
            "image/png": "[encoded data removed]",
            "text/plain": [
              "<Figure size 432x288 with 1 Axes>"
            ]
          },
          "metadata": {
            "tags": [],
            "needs_background": "light"
          }
        }
      ]
    },
    {
      "cell_type": "code",
      "metadata": {
        "colab": {
          "base_uri": "https://localhost:8080/"
        },
        "id": "_PV_uLtQnaO4",
        "outputId": "a7fe3393-beaa-43b5-c099-48a9190c1aaa"
      },
      "source": [
        "!ls"
      ],
      "execution_count": null,
      "outputs": [
        {
          "output_type": "stream",
          "text": [
            "checkpoint_resnet18_10_0.62667.ph  checkpoint_resnet18_23_0.88000.ph\n",
            "checkpoint_resnet18_1_0.41333.ph   checkpoint_resnet18_26_0.89333.ph\n",
            "checkpoint_resnet18_11_0.72000.ph  checkpoint_resnet18_42_0.90667.ph\n",
            "checkpoint_resnet18_12_0.73333.ph  checkpoint_resnet18_48_0.92000.ph\n",
            "checkpoint_resnet18_13_0.74667.ph  checkpoint_resnet18_9_0.42667.ph\n",
            "checkpoint_resnet18_14_0.76000.ph  checkpoint_resnet18_94_0.93333.ph\n",
            "checkpoint_resnet18_15_0.78667.ph  OpticDiscs\n",
            "checkpoint_resnet18_17_0.85333.ph  test_data.csv\n"
          ],
          "name": "stdout"
        }
      ]
    },
    {
      "cell_type": "code",
      "metadata": {
        "id": "VumKHi2Snf4F"
      },
      "source": [
        "torch.save(model,\"checkpoint.ph\")"
      ],
      "execution_count": null,
      "outputs": []
    },
    {
      "cell_type": "code",
      "metadata": {
        "colab": {
          "base_uri": "https://localhost:8080/"
        },
        "id": "iYI16QYGyqLF",
        "outputId": "98d1f7ea-6778-4672-ffa9-4deb17f7d668"
      },
      "source": [
        "for c in y:\n",
        "  print(c)"
      ],
      "execution_count": null,
      "outputs": [
        {
          "output_type": "stream",
          "text": [
            "1\n"
          ],
          "name": "stdout"
        }
      ]
    },
    {
      "cell_type": "markdown",
      "metadata": {
        "id": "Hv2fODvHJlIM"
      },
      "source": [
        "## Evaluation"
      ]
    },
    {
      "cell_type": "code",
      "metadata": {
        "id": "5ennB90UVVmb"
      },
      "source": [
        "model = torch.load('checkpoint_resnet18_23_0.88000.ph')"
      ],
      "execution_count": null,
      "outputs": []
    },
    {
      "cell_type": "code",
      "metadata": {
        "id": "VLd2H4FrJnXo"
      },
      "source": [
        "from sklearn.metrics import confusion_matrix\n",
        "import numpy as np"
      ],
      "execution_count": null,
      "outputs": []
    },
    {
      "cell_type": "code",
      "metadata": {
        "id": "v6nVWUqYJoDh"
      },
      "source": [
        "predicted = []\n",
        "true_values = []\n",
        "all_predicted = []\n",
        "all_true = []\n",
        "for point in range(len(X_test)//batch_size):\n",
        "    with torch.no_grad():\n",
        "\n",
        "        X = X_test.iloc[point*batch_size:(point+1)*batch_size]\n",
        "        y = y_test.iloc[point*batch_size:(point+1)*batch_size]\n",
        "\n",
        "        true_values.append(y.values)\n",
        "        # Load images\n",
        "        try:\n",
        "            images = [Image.open(File) for File in X]\n",
        "        except:\n",
        "            continue\n",
        "        # Load y_true\n",
        "        y_true = torch.LongTensor([c for c in y]).to(device)\n",
        "        \n",
        "        # Convert images to tensor\n",
        "        x_batch = torch.FloatTensor().to(device)\n",
        "        for image in images:\n",
        "            P = composed(image).unsqueeze(0).to(device)\n",
        "            x_batch = torch.cat((x_batch,P))\n",
        "\n",
        "        \n",
        "        outputs = model(x_batch)\n",
        "        loss = criterion(outputs, y_true)\n",
        "        all_predicted.append(outputs.cpu().detach().numpy()[0][1])\n",
        "        all_true.append(y_true.cpu().detach().numpy()[0])\n",
        "        \n",
        "        _, preds = torch.max(outputs, 1)\n",
        "        predicted.append(preds)"
      ],
      "execution_count": null,
      "outputs": []
    },
    {
      "cell_type": "code",
      "metadata": {
        "id": "NwUWGj_IKoup"
      },
      "source": [
        "true_values = np.array(true_values).reshape(-1)\n",
        "dummy = torch.FloatTensor().to(device)\n",
        "for tensor in predicted:\n",
        "    dummy = torch.cat((dummy,tensor))\n",
        "predicted = dummy.view(-1).cpu().numpy()"
      ],
      "execution_count": null,
      "outputs": []
    },
    {
      "cell_type": "code",
      "metadata": {
        "colab": {
          "base_uri": "https://localhost:8080/"
        },
        "id": "FjxNUd7jk_-j",
        "outputId": "9b11f521-7182-4b57-cb9a-5cbb19a2fe12"
      },
      "source": [
        "confusion_matrix(true_values, predicted)"
      ],
      "execution_count": null,
      "outputs": [
        {
          "output_type": "execute_result",
          "data": {
            "text/plain": [
              "array([[29,  8],\n",
              "       [ 4, 34]])"
            ]
          },
          "metadata": {
            "tags": []
          },
          "execution_count": 39
        }
      ]
    },
    {
      "cell_type": "code",
      "metadata": {
        "id": "ukHy0FRQBGil",
        "colab": {
          "base_uri": "https://localhost:8080/",
          "height": 297
        },
        "outputId": "767c6509-fc21-4fea-8b33-597c294cbf1e"
      },
      "source": [
        "from sklearn.metrics import roc_curve\n",
        "import matplotlib.pyplot as plt\n",
        "from sklearn.metrics import roc_auc_score\n",
        "\n",
        "ns_fpr, ns_tpr, _ = roc_curve(all_true, all_predicted)\n",
        "plt.plot(ns_fpr,ns_tpr)\n",
        "plt.xlabel(\"FPR\")\n",
        "plt.ylabel(\"TPR\")\n",
        "print(roc_auc_score(all_true, all_predicted))"
      ],
      "execution_count": null,
      "outputs": [
        {
          "output_type": "stream",
          "text": [
            "0.9139402560455191\n"
          ],
          "name": "stdout"
        },
        {
          "output_type": "display_data",
          "data": {
            "image/png": "[encoded data removed]",
            "text/plain": [
              "<Figure size 432x288 with 1 Axes>"
            ]
          },
          "metadata": {
            "tags": [],
            "needs_background": "light"
          }
        }
      ]
    },
    {
      "cell_type": "code",
      "metadata": {
        "id": "mDLX21NQMsD7"
      },
      "source": [
        "!mkdir Results\n",
        "roc_data = pd.DataFrame(data = {\"ns_fpr\":ns_fpr,\"ns_tpr\":ns_tpr})\n",
        "roc_data.to_csv(\"./Results/\"+network_name+\".csv\")"
      ],
      "execution_count": null,
      "outputs": []
    },
    {
      "cell_type": "code",
      "metadata": {
        "id": "cSi7ogm5W0ic"
      },
      "source": [
        ""
      ],
      "execution_count": null,
      "outputs": []
    }
  ]
}