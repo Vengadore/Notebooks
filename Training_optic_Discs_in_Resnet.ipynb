{
  "nbformat": 4,
  "nbformat_minor": 0,
  "metadata": {
    "accelerator": "GPU",
    "colab": {
      "name": "Training_optic_Discs_in_Resnet.ipynb",
      "provenance": [],
      "toc_visible": true,
      "include_colab_link": true
    },
    "kernelspec": {
      "display_name": "Python 3",
      "language": "python",
      "name": "python3"
    },
    "language_info": {
      "codemirror_mode": {
        "name": "ipython",
        "version": 3
      },
      "file_extension": ".py",
      "mimetype": "text/x-python",
      "name": "python",
      "nbconvert_exporter": "python",
      "pygments_lexer": "ipython3",
      "version": "3.6.10"
    },
    "widgets": {
      "application/vnd.jupyter.widget-state+json": {
        "d993cdf1e0804a0f9e0ada9126338bfd": {
          "model_module": "@jupyter-widgets/controls",
          "model_name": "HBoxModel",
          "state": {
            "_view_name": "HBoxView",
            "_dom_classes": [],
            "_model_name": "HBoxModel",
            "_view_module": "@jupyter-widgets/controls",
            "_model_module_version": "1.5.0",
            "_view_count": null,
            "_view_module_version": "1.5.0",
            "box_style": "",
            "layout": "IPY_MODEL_43271eac65ef49d2b8da3a96ac3631ec",
            "_model_module": "@jupyter-widgets/controls",
            "children": [
              "IPY_MODEL_0bd5d7273875480989f9a33e2cc7687b",
              "IPY_MODEL_9ba8ccc7334f4dafa851a84aeab598b0"
            ]
          }
        },
        "43271eac65ef49d2b8da3a96ac3631ec": {
          "model_module": "@jupyter-widgets/base",
          "model_name": "LayoutModel",
          "state": {
            "_view_name": "LayoutView",
            "grid_template_rows": null,
            "right": null,
            "justify_content": null,
            "_view_module": "@jupyter-widgets/base",
            "overflow": null,
            "_model_module_version": "1.2.0",
            "_view_count": null,
            "flex_flow": null,
            "width": null,
            "min_width": null,
            "border": null,
            "align_items": null,
            "bottom": null,
            "_model_module": "@jupyter-widgets/base",
            "top": null,
            "grid_column": null,
            "overflow_y": null,
            "overflow_x": null,
            "grid_auto_flow": null,
            "grid_area": null,
            "grid_template_columns": null,
            "flex": null,
            "_model_name": "LayoutModel",
            "justify_items": null,
            "grid_row": null,
            "max_height": null,
            "align_content": null,
            "visibility": null,
            "align_self": null,
            "height": null,
            "min_height": null,
            "padding": null,
            "grid_auto_rows": null,
            "grid_gap": null,
            "max_width": null,
            "order": null,
            "_view_module_version": "1.2.0",
            "grid_template_areas": null,
            "object_position": null,
            "object_fit": null,
            "grid_auto_columns": null,
            "margin": null,
            "display": null,
            "left": null
          }
        },
        "0bd5d7273875480989f9a33e2cc7687b": {
          "model_module": "@jupyter-widgets/controls",
          "model_name": "FloatProgressModel",
          "state": {
            "_view_name": "ProgressView",
            "style": "IPY_MODEL_5b3e356b842d46438c75291dced0ec49",
            "_dom_classes": [],
            "description": "100%",
            "_model_name": "FloatProgressModel",
            "bar_style": "success",
            "max": 46827520,
            "_view_module": "@jupyter-widgets/controls",
            "_model_module_version": "1.5.0",
            "value": 46827520,
            "_view_count": null,
            "_view_module_version": "1.5.0",
            "orientation": "horizontal",
            "min": 0,
            "description_tooltip": null,
            "_model_module": "@jupyter-widgets/controls",
            "layout": "IPY_MODEL_66c1d1de9e744e6cb0a31bcd1ce7116a"
          }
        },
        "9ba8ccc7334f4dafa851a84aeab598b0": {
          "model_module": "@jupyter-widgets/controls",
          "model_name": "HTMLModel",
          "state": {
            "_view_name": "HTMLView",
            "style": "IPY_MODEL_e0fced23f2874787bb4095a5c7e6489c",
            "_dom_classes": [],
            "description": "",
            "_model_name": "HTMLModel",
            "placeholder": "​",
            "_view_module": "@jupyter-widgets/controls",
            "_model_module_version": "1.5.0",
            "value": " 44.7M/44.7M [00:04&lt;00:00, 10.3MB/s]",
            "_view_count": null,
            "_view_module_version": "1.5.0",
            "description_tooltip": null,
            "_model_module": "@jupyter-widgets/controls",
            "layout": "IPY_MODEL_d09c9518c3b44773a0a89f5523bfeacc"
          }
        },
        "5b3e356b842d46438c75291dced0ec49": {
          "model_module": "@jupyter-widgets/controls",
          "model_name": "ProgressStyleModel",
          "state": {
            "_view_name": "StyleView",
            "_model_name": "ProgressStyleModel",
            "description_width": "initial",
            "_view_module": "@jupyter-widgets/base",
            "_model_module_version": "1.5.0",
            "_view_count": null,
            "_view_module_version": "1.2.0",
            "bar_color": null,
            "_model_module": "@jupyter-widgets/controls"
          }
        },
        "66c1d1de9e744e6cb0a31bcd1ce7116a": {
          "model_module": "@jupyter-widgets/base",
          "model_name": "LayoutModel",
          "state": {
            "_view_name": "LayoutView",
            "grid_template_rows": null,
            "right": null,
            "justify_content": null,
            "_view_module": "@jupyter-widgets/base",
            "overflow": null,
            "_model_module_version": "1.2.0",
            "_view_count": null,
            "flex_flow": null,
            "width": null,
            "min_width": null,
            "border": null,
            "align_items": null,
            "bottom": null,
            "_model_module": "@jupyter-widgets/base",
            "top": null,
            "grid_column": null,
            "overflow_y": null,
            "overflow_x": null,
            "grid_auto_flow": null,
            "grid_area": null,
            "grid_template_columns": null,
            "flex": null,
            "_model_name": "LayoutModel",
            "justify_items": null,
            "grid_row": null,
            "max_height": null,
            "align_content": null,
            "visibility": null,
            "align_self": null,
            "height": null,
            "min_height": null,
            "padding": null,
            "grid_auto_rows": null,
            "grid_gap": null,
            "max_width": null,
            "order": null,
            "_view_module_version": "1.2.0",
            "grid_template_areas": null,
            "object_position": null,
            "object_fit": null,
            "grid_auto_columns": null,
            "margin": null,
            "display": null,
            "left": null
          }
        },
        "e0fced23f2874787bb4095a5c7e6489c": {
          "model_module": "@jupyter-widgets/controls",
          "model_name": "DescriptionStyleModel",
          "state": {
            "_view_name": "StyleView",
            "_model_name": "DescriptionStyleModel",
            "description_width": "",
            "_view_module": "@jupyter-widgets/base",
            "_model_module_version": "1.5.0",
            "_view_count": null,
            "_view_module_version": "1.2.0",
            "_model_module": "@jupyter-widgets/controls"
          }
        },
        "d09c9518c3b44773a0a89f5523bfeacc": {
          "model_module": "@jupyter-widgets/base",
          "model_name": "LayoutModel",
          "state": {
            "_view_name": "LayoutView",
            "grid_template_rows": null,
            "right": null,
            "justify_content": null,
            "_view_module": "@jupyter-widgets/base",
            "overflow": null,
            "_model_module_version": "1.2.0",
            "_view_count": null,
            "flex_flow": null,
            "width": null,
            "min_width": null,
            "border": null,
            "align_items": null,
            "bottom": null,
            "_model_module": "@jupyter-widgets/base",
            "top": null,
            "grid_column": null,
            "overflow_y": null,
            "overflow_x": null,
            "grid_auto_flow": null,
            "grid_area": null,
            "grid_template_columns": null,
            "flex": null,
            "_model_name": "LayoutModel",
            "justify_items": null,
            "grid_row": null,
            "max_height": null,
            "align_content": null,
            "visibility": null,
            "align_self": null,
            "height": null,
            "min_height": null,
            "padding": null,
            "grid_auto_rows": null,
            "grid_gap": null,
            "max_width": null,
            "order": null,
            "_view_module_version": "1.2.0",
            "grid_template_areas": null,
            "object_position": null,
            "object_fit": null,
            "grid_auto_columns": null,
            "margin": null,
            "display": null,
            "left": null
          }
        }
      }
    }
  },
  "cells": [
    {
      "cell_type": "markdown",
      "metadata": {
        "id": "view-in-github",
        "colab_type": "text"
      },
      "source": [
        "<a href=\"https://colab.research.google.com/github/Vengadore/Notebooks/blob/master/Training_optic_Discs_in_Resnet.ipynb\" target=\"_parent\"><img src=\"https://colab.research.google.com/assets/colab-badge.svg\" alt=\"Open In Colab\"/></a>"
      ]
    },
    {
      "cell_type": "markdown",
      "metadata": {
        "id": "nVm5Ats_YVEZ"
      },
      "source": [
        "# Diabetic Retinopathy Detection\n",
        "\n",
        "Kaggle has a large competition of Diabetic Retinopathy detection which can be found here:\n",
        "https://www.kaggle.com/c/diabetic-retinopathy-detection/\n",
        "\n",
        "Their dataset consists in 35126 images labeled from 0 to 4 according to the degree of Retinopathy.\n",
        "An analysis of the data is provided in this notebook."
      ]
    },
    {
      "cell_type": "code",
      "metadata": {
        "colab": {
          "base_uri": "https://localhost:8080/"
        },
        "id": "QABUN5czaGrr",
        "outputId": "4a40007c-4304-4c25-e18a-95b01ba3b180"
      },
      "source": [
        "!rm -rf sample_data\n",
        "!nvidia-smi"
      ],
      "execution_count": 1,
      "outputs": [
        {
          "output_type": "stream",
          "text": [
            "Sun Feb 21 06:11:32 2021       \n",
            "+-----------------------------------------------------------------------------+\n",
            "| NVIDIA-SMI 460.39       Driver Version: 460.32.03    CUDA Version: 11.2     |\n",
            "|-------------------------------+----------------------+----------------------+\n",
            "| GPU  Name        Persistence-M| Bus-Id        Disp.A | Volatile Uncorr. ECC |\n",
            "| Fan  Temp  Perf  Pwr:Usage/Cap|         Memory-Usage | GPU-Util  Compute M. |\n",
            "|                               |                      |               MIG M. |\n",
            "|===============================+======================+======================|\n",
            "|   0  Tesla T4            Off  | 00000000:00:04.0 Off |                    0 |\n",
            "| N/A   68C    P8    12W /  70W |      0MiB / 15109MiB |      0%      Default |\n",
            "|                               |                      |                  N/A |\n",
            "+-------------------------------+----------------------+----------------------+\n",
            "                                                                               \n",
            "+-----------------------------------------------------------------------------+\n",
            "| Processes:                                                                  |\n",
            "|  GPU   GI   CI        PID   Type   Process name                  GPU Memory |\n",
            "|        ID   ID                                                   Usage      |\n",
            "|=============================================================================|\n",
            "|  No running processes found                                                 |\n",
            "+-----------------------------------------------------------------------------+\n"
          ],
          "name": "stdout"
        }
      ]
    },
    {
      "cell_type": "markdown",
      "metadata": {
        "id": "MrtmQaiBbcy5"
      },
      "source": [
        "### Install dependencies"
      ]
    },
    {
      "cell_type": "code",
      "metadata": {
        "id": "gKfg7kcTbb4h"
      },
      "source": [
        "from IPython.display import clear_output\n",
        "\n",
        "!pip install torch==1.7.1+cu101 torchvision==0.8.1+cu101 -f https://download.pytorch.org/whl/torch_stable.html\n",
        "!pip install efficientnet_pytorch\n",
        "clear_output(wait=False)"
      ],
      "execution_count": 2,
      "outputs": []
    },
    {
      "cell_type": "markdown",
      "metadata": {
        "id": "AO_cEyuIeDjq"
      },
      "source": [
        "## Load data from local drive\n"
      ]
    },
    {
      "cell_type": "code",
      "metadata": {
        "colab": {
          "base_uri": "https://localhost:8080/"
        },
        "id": "BWk0Ox2ueHNB",
        "outputId": "29e3ebe3-8e30-4dab-cc3b-ed22709c68eb"
      },
      "source": [
        "!wget -O File.zip \"https://correoipn-my.sharepoint.com/:u:/g/personal/ccarrillog1400_alumno_ipn_mx/ETdcB8GscyBAkhUFvNMzpoUBLLgg7ej9Q3t4rK_bR8ngSA?download=1\"\n",
        "!unzip File.zip\n",
        "!rm File.zip\n",
        "clear_output(wait=False)\n",
        "print(\"Data Downloaded\")"
      ],
      "execution_count": 3,
      "outputs": [
        {
          "output_type": "stream",
          "text": [
            "Data Downloaded\n"
          ],
          "name": "stdout"
        }
      ]
    },
    {
      "cell_type": "code",
      "metadata": {
        "colab": {
          "base_uri": "https://localhost:8080/"
        },
        "id": "PUCY7oQLorC9",
        "outputId": "7f1ce4c1-f822-422b-e65e-f61116a3167f"
      },
      "source": [
        "!rm checkpoint*"
      ],
      "execution_count": 4,
      "outputs": [
        {
          "output_type": "stream",
          "text": [
            "rm: cannot remove 'checkpoint*': No such file or directory\n"
          ],
          "name": "stdout"
        }
      ]
    },
    {
      "cell_type": "code",
      "metadata": {
        "colab": {
          "base_uri": "https://localhost:8080/",
          "height": 206
        },
        "id": "dNqkjvcUetED",
        "outputId": "4a98e461-b299-4f90-9bbe-1c46b69f72b5"
      },
      "source": [
        "import pandas as pd\n",
        "import os\n",
        "\n",
        "Bad =  pd.DataFrame({\"imageFilename\":[os.path.join(\"./OpticDiscs/Neovessels\",File) for File in os.listdir(\"./OpticDiscs/Neovessels\") if \".jpeg\" in File]})\n",
        "Good = pd.DataFrame({\"imageFilename\":[os.path.join(\"./OpticDiscs/Good images\",File) for File in os.listdir(\"./OpticDiscs/Good images\") if \".jpeg\" in File]}).sample(len(Bad),random_state = 42)\n",
        "\n",
        "data = pd.concat((Good,Bad),axis = 0)\n",
        "data.head()\n",
        "data['class'] = data['imageFilename'].apply(lambda x : 1 if \"Good\" in x else 0)\n",
        "data = data.reset_index()\n",
        "data = data[['imageFilename','class']]\n",
        "data.head()"
      ],
      "execution_count": 5,
      "outputs": [
        {
          "output_type": "execute_result",
          "data": {
            "text/html": [
              "<div>\n",
              "<style scoped>\n",
              "    .dataframe tbody tr th:only-of-type {\n",
              "        vertical-align: middle;\n",
              "    }\n",
              "\n",
              "    .dataframe tbody tr th {\n",
              "        vertical-align: top;\n",
              "    }\n",
              "\n",
              "    .dataframe thead th {\n",
              "        text-align: right;\n",
              "    }\n",
              "</style>\n",
              "<table border=\"1\" class=\"dataframe\">\n",
              "  <thead>\n",
              "    <tr style=\"text-align: right;\">\n",
              "      <th></th>\n",
              "      <th>imageFilename</th>\n",
              "      <th>class</th>\n",
              "    </tr>\n",
              "  </thead>\n",
              "  <tbody>\n",
              "    <tr>\n",
              "      <th>0</th>\n",
              "      <td>./OpticDiscs/Good images/4270_left.jpeg</td>\n",
              "      <td>1</td>\n",
              "    </tr>\n",
              "    <tr>\n",
              "      <th>1</th>\n",
              "      <td>./OpticDiscs/Good images/26079_left.jpeg</td>\n",
              "      <td>1</td>\n",
              "    </tr>\n",
              "    <tr>\n",
              "      <th>2</th>\n",
              "      <td>./OpticDiscs/Good images/4998_right.jpeg</td>\n",
              "      <td>1</td>\n",
              "    </tr>\n",
              "    <tr>\n",
              "      <th>3</th>\n",
              "      <td>./OpticDiscs/Good images/21026_right.jpeg</td>\n",
              "      <td>1</td>\n",
              "    </tr>\n",
              "    <tr>\n",
              "      <th>4</th>\n",
              "      <td>./OpticDiscs/Good images/40631_left.jpeg</td>\n",
              "      <td>1</td>\n",
              "    </tr>\n",
              "  </tbody>\n",
              "</table>\n",
              "</div>"
            ],
            "text/plain": [
              "                               imageFilename  class\n",
              "0    ./OpticDiscs/Good images/4270_left.jpeg      1\n",
              "1   ./OpticDiscs/Good images/26079_left.jpeg      1\n",
              "2   ./OpticDiscs/Good images/4998_right.jpeg      1\n",
              "3  ./OpticDiscs/Good images/21026_right.jpeg      1\n",
              "4   ./OpticDiscs/Good images/40631_left.jpeg      1"
            ]
          },
          "metadata": {
            "tags": []
          },
          "execution_count": 5
        }
      ]
    },
    {
      "cell_type": "code",
      "metadata": {
        "colab": {
          "base_uri": "https://localhost:8080/"
        },
        "id": "s3N0Ue5MCvlk",
        "outputId": "561db0a1-726a-4505-b6d6-a1d61a3bafc8"
      },
      "source": [
        "len(data)"
      ],
      "execution_count": 6,
      "outputs": [
        {
          "output_type": "execute_result",
          "data": {
            "text/plain": [
              "374"
            ]
          },
          "metadata": {
            "tags": []
          },
          "execution_count": 6
        }
      ]
    },
    {
      "cell_type": "markdown",
      "metadata": {
        "id": "deKSOu-Kd8Yk"
      },
      "source": [
        "#### Split data"
      ]
    },
    {
      "cell_type": "code",
      "metadata": {
        "id": "4w3TUlaqd7qi"
      },
      "source": [
        "from sklearn.model_selection import train_test_split\n",
        "\n",
        "Train,Validation = train_test_split(data,test_size = 0.40,random_state = 65)\n",
        "X_train = Train['imageFilename']\n",
        "y_train = Train['class']\n",
        "#Split data\n",
        "X_validation, X_test, y_validation, y_test = train_test_split(Validation['imageFilename'], Validation['class'], test_size=0.50, random_state=65)\n"
      ],
      "execution_count": 7,
      "outputs": []
    },
    {
      "cell_type": "code",
      "metadata": {
        "colab": {
          "base_uri": "https://localhost:8080/"
        },
        "id": "n3hQn37YfvsA",
        "outputId": "b47ff319-6f02-43cb-d565-588891b4fb41"
      },
      "source": [
        "print(\"Datos de entrenamiento:\")\r\n",
        "print(y_train.value_counts())\r\n",
        "print(\"Datos de validación:\")\r\n",
        "print(y_validation.value_counts())\r\n",
        "print(\"Datos de test:\")\r\n",
        "print(y_test.value_counts())"
      ],
      "execution_count": 8,
      "outputs": [
        {
          "output_type": "stream",
          "text": [
            "Datos de entrenamiento:\n",
            "0    119\n",
            "1    105\n",
            "Name: class, dtype: int64\n",
            "Datos de validación:\n",
            "1    44\n",
            "0    31\n",
            "Name: class, dtype: int64\n",
            "Datos de test:\n",
            "1    38\n",
            "0    37\n",
            "Name: class, dtype: int64\n"
          ],
          "name": "stdout"
        }
      ]
    },
    {
      "cell_type": "code",
      "metadata": {
        "colab": {
          "base_uri": "https://localhost:8080/",
          "height": 206
        },
        "id": "nVIy3dn7eKFq",
        "outputId": "1738f000-cde4-41f0-9c98-d86d916422f3"
      },
      "source": [
        "test_data = pd.DataFrame({'image':X_test,'class':y_test})\n",
        "test_data['image'] = test_data['image'].apply(lambda x : x.split('/')[-1])\n",
        "test_data.head()"
      ],
      "execution_count": 9,
      "outputs": [
        {
          "output_type": "execute_result",
          "data": {
            "text/html": [
              "<div>\n",
              "<style scoped>\n",
              "    .dataframe tbody tr th:only-of-type {\n",
              "        vertical-align: middle;\n",
              "    }\n",
              "\n",
              "    .dataframe tbody tr th {\n",
              "        vertical-align: top;\n",
              "    }\n",
              "\n",
              "    .dataframe thead th {\n",
              "        text-align: right;\n",
              "    }\n",
              "</style>\n",
              "<table border=\"1\" class=\"dataframe\">\n",
              "  <thead>\n",
              "    <tr style=\"text-align: right;\">\n",
              "      <th></th>\n",
              "      <th>image</th>\n",
              "      <th>class</th>\n",
              "    </tr>\n",
              "  </thead>\n",
              "  <tbody>\n",
              "    <tr>\n",
              "      <th>198</th>\n",
              "      <td>37829_left.jpeg</td>\n",
              "      <td>0</td>\n",
              "    </tr>\n",
              "    <tr>\n",
              "      <th>9</th>\n",
              "      <td>29712_left.jpeg</td>\n",
              "      <td>1</td>\n",
              "    </tr>\n",
              "    <tr>\n",
              "      <th>132</th>\n",
              "      <td>32085_right.jpeg</td>\n",
              "      <td>1</td>\n",
              "    </tr>\n",
              "    <tr>\n",
              "      <th>259</th>\n",
              "      <td>11896_left.jpeg</td>\n",
              "      <td>0</td>\n",
              "    </tr>\n",
              "    <tr>\n",
              "      <th>208</th>\n",
              "      <td>21096_left.jpeg</td>\n",
              "      <td>0</td>\n",
              "    </tr>\n",
              "  </tbody>\n",
              "</table>\n",
              "</div>"
            ],
            "text/plain": [
              "                image  class\n",
              "198   37829_left.jpeg      0\n",
              "9     29712_left.jpeg      1\n",
              "132  32085_right.jpeg      1\n",
              "259   11896_left.jpeg      0\n",
              "208   21096_left.jpeg      0"
            ]
          },
          "metadata": {
            "tags": []
          },
          "execution_count": 9
        }
      ]
    },
    {
      "cell_type": "code",
      "metadata": {
        "id": "1YsYT7VjerXq"
      },
      "source": [
        "test_data.to_csv('test_data.csv',index=False)"
      ],
      "execution_count": 10,
      "outputs": []
    },
    {
      "cell_type": "markdown",
      "metadata": {
        "id": "mPh3qDdIdkHh"
      },
      "source": [
        "## Definition of the model"
      ]
    },
    {
      "cell_type": "code",
      "metadata": {
        "id": "Z-FUmuJidoy3",
        "outputId": "56f1848c-e08e-428d-9406-e0748ae0ce44",
        "colab": {
          "base_uri": "https://localhost:8080/",
          "height": 86,
          "referenced_widgets": [
            "d993cdf1e0804a0f9e0ada9126338bfd",
            "43271eac65ef49d2b8da3a96ac3631ec",
            "0bd5d7273875480989f9a33e2cc7687b",
            "9ba8ccc7334f4dafa851a84aeab598b0",
            "5b3e356b842d46438c75291dced0ec49",
            "66c1d1de9e744e6cb0a31bcd1ce7116a",
            "e0fced23f2874787bb4095a5c7e6489c",
            "d09c9518c3b44773a0a89f5523bfeacc"
          ]
        }
      },
      "source": [
        "import torchvision.models as models\n",
        "import torch\n",
        "network_name = 'resnet18'\n",
        "model = models.resnet18(pretrained = True)"
      ],
      "execution_count": 11,
      "outputs": [
        {
          "output_type": "stream",
          "text": [
            "Downloading: \"https://download.pytorch.org/models/resnet18-5c106cde.pth\" to /root/.cache/torch/hub/checkpoints/resnet18-5c106cde.pth\n"
          ],
          "name": "stderr"
        },
        {
          "output_type": "display_data",
          "data": {
            "application/vnd.jupyter.widget-view+json": {
              "model_id": "d993cdf1e0804a0f9e0ada9126338bfd",
              "version_minor": 0,
              "version_major": 2
            },
            "text/plain": [
              "HBox(children=(FloatProgress(value=0.0, max=46827520.0), HTML(value='')))"
            ]
          },
          "metadata": {
            "tags": []
          }
        },
        {
          "output_type": "stream",
          "text": [
            "\n"
          ],
          "name": "stdout"
        }
      ]
    },
    {
      "cell_type": "code",
      "metadata": {
        "colab": {
          "base_uri": "https://localhost:8080/"
        },
        "id": "drpW39Qwj3l9",
        "outputId": "8b484760-d599-4786-fda0-91103f2b8361"
      },
      "source": [
        "model.fc"
      ],
      "execution_count": 12,
      "outputs": [
        {
          "output_type": "execute_result",
          "data": {
            "text/plain": [
              "Linear(in_features=512, out_features=1000, bias=True)"
            ]
          },
          "metadata": {
            "tags": []
          },
          "execution_count": 12
        }
      ]
    },
    {
      "cell_type": "code",
      "metadata": {
        "id": "Cu_aoH7-tBsT"
      },
      "source": [
        "## Change efficientnet final layer\n",
        "model.fc = torch.nn.Linear(in_features=512,out_features=2,bias = True)"
      ],
      "execution_count": 13,
      "outputs": []
    },
    {
      "cell_type": "code",
      "metadata": {
        "colab": {
          "base_uri": "https://localhost:8080/"
        },
        "id": "dNns-LOy6TrK",
        "outputId": "51b11bb0-d0b5-45ed-ff21-9ff3b00783b9"
      },
      "source": [
        "def count_parameters(model):\r\n",
        "    return sum(p.numel() for p in model.parameters() if p.requires_grad)\r\n",
        "\r\n",
        "count_parameters(model)"
      ],
      "execution_count": 14,
      "outputs": [
        {
          "output_type": "execute_result",
          "data": {
            "text/plain": [
              "11177538"
            ]
          },
          "metadata": {
            "tags": []
          },
          "execution_count": 14
        }
      ]
    },
    {
      "cell_type": "code",
      "metadata": {
        "id": "5BR_Hs12gAqx"
      },
      "source": [
        "from torchvision.transforms import Resize,ToTensor,Compose,Normalize\n",
        "from torchvision.transforms import RandomHorizontalFlip,RandomVerticalFlip,RandomRotation,ColorJitter,RandomResizedCrop,RandomPerspective,GaussianBlur\n",
        "from PIL import Image\n",
        "\n",
        "transforms = Compose([RandomHorizontalFlip(),RandomVerticalFlip(),\n",
        "                      RandomRotation(180),ColorJitter(0.5,0.5,0.5),\n",
        "                      RandomResizedCrop((224 ,224), scale=(0.7, 1.2)),\n",
        "                      RandomPerspective(),\n",
        "                      GaussianBlur((3,3))]) # Transformations for the training images\n",
        "\n",
        "composed = Compose([Resize(224), # Resize to a fit size for efficientnet\n",
        "                    ToTensor(),  # Convert into sensor\n",
        "                    Normalize((0.5, 0.5, 0.5), (0.5, 0.5, 0.5))]) # Normalize image"
      ],
      "execution_count": 15,
      "outputs": []
    },
    {
      "cell_type": "markdown",
      "metadata": {
        "id": "mWg1p7EQtqVZ"
      },
      "source": [
        "### Training parameters"
      ]
    },
    {
      "cell_type": "code",
      "metadata": {
        "id": "EiT-MlPutsZR"
      },
      "source": [
        "device = torch.device('cuda' if torch.cuda.is_available() else 'cpu')\n",
        "model.to(device);\n",
        "seed = 17\n",
        "torch.manual_seed(seed)\n",
        "criterion = torch.nn.CrossEntropyLoss()\n",
        "optimizer = torch.optim.Adam(model.parameters(), lr=0.00001)"
      ],
      "execution_count": 16,
      "outputs": []
    },
    {
      "cell_type": "code",
      "metadata": {
        "colab": {
          "base_uri": "https://localhost:8080/"
        },
        "id": "iJWflI4JoVRW",
        "outputId": "357ff1e4-ca50-4dc6-d442-7ed7ab740e70"
      },
      "source": [
        "try:\n",
        "    model = torch.load('./checkpoint_b0_11.ph', map_location=device)\n",
        "except:\n",
        "    print(\"No Checkpoint loaded\")"
      ],
      "execution_count": 17,
      "outputs": [
        {
          "output_type": "stream",
          "text": [
            "No Checkpoint loaded\n"
          ],
          "name": "stdout"
        }
      ]
    },
    {
      "cell_type": "code",
      "metadata": {
        "id": "lcTzzyr5uUdr"
      },
      "source": [
        "classes = {0:[0,0,0,0,1],\n",
        "           1:[0,0,0,1,0],\n",
        "           2:[0,0,1,0,0],\n",
        "           3:[0,1,0,0,0],\n",
        "           4:[1,0,0,0,0]}"
      ],
      "execution_count": 18,
      "outputs": []
    },
    {
      "cell_type": "code",
      "metadata": {
        "colab": {
          "base_uri": "https://localhost:8080/"
        },
        "id": "RkvlQWRQtjXo",
        "outputId": "06157f65-ab1f-440e-fd2a-4fc9d23dc5d5"
      },
      "source": [
        "from tqdm import tqdm\n",
        "import random\n",
        "random.seed(seed)\n",
        "\n",
        "epochs = 100\n",
        "batch_size = 1  # I will use batch size of 1 to keep the ratio of each image\n",
        "\n",
        "TRAINING_acc = []\n",
        "VALIDATION_acc = []\n",
        "BEST_val_acc = 0.0\n",
        "\n",
        "for epoch in range(epochs):\n",
        "    \n",
        "    indexes = [idx for idx in range(len(X_train))]\n",
        "    pbar = tqdm( range(len(X_train)//batch_size),ncols = 100)\n",
        "    running_loss = 0.0\n",
        "    running_acc = 0.0\n",
        "    t = 0\n",
        "\n",
        "    for step in pbar:\n",
        "        # Load data\n",
        "        idx = random.sample(indexes,batch_size)\n",
        "        X = X_train.iloc[idx]\n",
        "        y = y_train.iloc[idx]\n",
        "\n",
        "        # Remove indexes\n",
        "        [indexes.remove(i) for i in idx]\n",
        "\n",
        "        # Load images\n",
        "        try:\n",
        "            images = [Image.open(File) for File in X]\n",
        "        except:\n",
        "            continue\n",
        "        # Load y_true\n",
        "        y_true = torch.LongTensor([c for c in y]).to(device)\n",
        "        \n",
        "        # Convert images to tensor\n",
        "        x_batch = torch.FloatTensor().to(device)\n",
        "        for image in images:\n",
        "            P = transforms(image)\n",
        "            P = composed(P).unsqueeze(0).to(device)\n",
        "            x_batch = torch.cat((x_batch,P))\n",
        "\n",
        "        # zero the parameter gradients\n",
        "        optimizer.zero_grad()\n",
        "        # forward + backward + optimize\n",
        "        outputs = model(x_batch)\n",
        "        loss = criterion(outputs, y_true)\n",
        "        loss.backward()\n",
        "        optimizer.step()\n",
        "        # print statistics\n",
        "        running_loss += loss.item()\n",
        "        t += batch_size\n",
        "\n",
        "        _, preds = torch.max(outputs, 1)\n",
        "        running_acc += torch.sum(preds == y_true).cpu().detach().numpy()\n",
        "        acc = torch.sum(preds == y_true).cpu().detach().numpy()/batch_size;\n",
        "        pbar.set_description(\"Epoch: {} Accuracy: {:0.5f} Loss: {:0.5f} \".format(epoch+1,running_acc/t,loss.item()))\n",
        "    #Validation\n",
        "    TRAINING_acc.append(running_acc/t)\n",
        "    val_acc = 0.0\n",
        "    val_loss = 0.0\n",
        "    t = 0\n",
        "    for point in range(len(X_validation)//batch_size):\n",
        "        with torch.no_grad():\n",
        "\n",
        "            X = X_validation.iloc[point*batch_size:(point+1)*batch_size]\n",
        "            y = y_validation.iloc[point*batch_size:(point+1)*batch_size]\n",
        "\n",
        "\n",
        "            # Load images\n",
        "            try:\n",
        "                images = [Image.open(File) for File in X]\n",
        "            except:\n",
        "                continue\n",
        "            # Load y_true\n",
        "            y_true = torch.LongTensor([c for c in y]).to(device)\n",
        "            \n",
        "            # Convert images to tensor\n",
        "            x_batch = torch.FloatTensor().to(device)\n",
        "            for image in images:\n",
        "                P = composed(image).unsqueeze(0).to(device)\n",
        "                x_batch = torch.cat((x_batch,P))\n",
        "\n",
        "            \n",
        "            outputs = model(x_batch)\n",
        "            loss = criterion(outputs, y_true)\n",
        "            val_loss += loss.item()\n",
        "            t += batch_size\n",
        "            _, preds = torch.max(outputs, 1)\n",
        "            val_acc += torch.sum(preds == y_true).cpu().detach().numpy()\n",
        "    VALIDATION_acc.append(val_acc/t)\n",
        "    print(\"Validation -- Accuracy: {:0.5f} Loss: {:0.5f} \\n\".format(val_acc/t,loss.item()))\n",
        "    if val_acc/t > BEST_val_acc:\n",
        "        try:\n",
        "            torch.save(model,\"/content/checkpoint_{}_{}_{:0.5f}.ph\".format(network_name,epoch+1,val_acc/t))\n",
        "            BEST_val_acc = val_acc/t\n",
        "        except:\n",
        "            continue"
      ],
      "execution_count": 19,
      "outputs": [
        {
          "output_type": "stream",
          "text": [
            "Epoch: 1 Accuracy: 0.48661 Loss: 0.66310 : 100%|██████████████████| 224/224 [00:15<00:00, 14.89it/s]\n",
            "Epoch: 2 Accuracy: 1.00000 Loss: 0.68875 :   1%|▏                   | 2/224 [00:00<00:11, 19.40it/s]"
          ],
          "name": "stderr"
        },
        {
          "output_type": "stream",
          "text": [
            "Validation -- Accuracy: 0.41333 Loss: 0.70493 \n",
            "\n"
          ],
          "name": "stdout"
        },
        {
          "output_type": "stream",
          "text": [
            "Epoch: 2 Accuracy: 0.53571 Loss: 0.72966 : 100%|██████████████████| 224/224 [00:14<00:00, 15.05it/s]\n",
            "Epoch: 3 Accuracy: 0.00000 Loss: 0.74467 :   1%|▏                   | 2/224 [00:00<00:16, 13.32it/s]"
          ],
          "name": "stderr"
        },
        {
          "output_type": "stream",
          "text": [
            "Validation -- Accuracy: 0.41333 Loss: 0.71641 \n",
            "\n"
          ],
          "name": "stdout"
        },
        {
          "output_type": "stream",
          "text": [
            "Epoch: 3 Accuracy: 0.53125 Loss: 0.71953 : 100%|██████████████████| 224/224 [00:14<00:00, 15.00it/s]\n",
            "Epoch: 4 Accuracy: 0.66667 Loss: 0.62864 :   1%|▏                   | 2/224 [00:00<00:13, 16.11it/s]"
          ],
          "name": "stderr"
        },
        {
          "output_type": "stream",
          "text": [
            "Validation -- Accuracy: 0.41333 Loss: 0.72414 \n",
            "\n"
          ],
          "name": "stdout"
        },
        {
          "output_type": "stream",
          "text": [
            "Epoch: 4 Accuracy: 0.52679 Loss: 0.61214 : 100%|██████████████████| 224/224 [00:14<00:00, 15.03it/s]\n",
            "Epoch: 5 Accuracy: 1.00000 Loss: 0.65054 :   1%|▏                   | 2/224 [00:00<00:19, 11.43it/s]"
          ],
          "name": "stderr"
        },
        {
          "output_type": "stream",
          "text": [
            "Validation -- Accuracy: 0.41333 Loss: 0.73017 \n",
            "\n"
          ],
          "name": "stdout"
        },
        {
          "output_type": "stream",
          "text": [
            "Epoch: 5 Accuracy: 0.54464 Loss: 0.64348 : 100%|██████████████████| 224/224 [00:14<00:00, 14.94it/s]\n",
            "Epoch: 6 Accuracy: 0.50000 Loss: 0.61276 :   1%|▏                   | 2/224 [00:00<00:11, 19.57it/s]"
          ],
          "name": "stderr"
        },
        {
          "output_type": "stream",
          "text": [
            "Validation -- Accuracy: 0.41333 Loss: 0.70417 \n",
            "\n"
          ],
          "name": "stdout"
        },
        {
          "output_type": "stream",
          "text": [
            "Epoch: 6 Accuracy: 0.59375 Loss: 0.58095 : 100%|██████████████████| 224/224 [00:15<00:00, 14.93it/s]\n",
            "Epoch: 7 Accuracy: 0.50000 Loss: 0.62202 :   1%|▏                   | 2/224 [00:00<00:16, 13.77it/s]"
          ],
          "name": "stderr"
        },
        {
          "output_type": "stream",
          "text": [
            "Validation -- Accuracy: 0.41333 Loss: 0.76933 \n",
            "\n"
          ],
          "name": "stdout"
        },
        {
          "output_type": "stream",
          "text": [
            "Epoch: 7 Accuracy: 0.53125 Loss: 0.74368 : 100%|██████████████████| 224/224 [00:14<00:00, 15.03it/s]\n",
            "Epoch: 8 Accuracy: 0.66667 Loss: 0.67504 :   1%|▏                   | 2/224 [00:00<00:11, 18.53it/s]"
          ],
          "name": "stderr"
        },
        {
          "output_type": "stream",
          "text": [
            "Validation -- Accuracy: 0.41333 Loss: 0.72696 \n",
            "\n"
          ],
          "name": "stdout"
        },
        {
          "output_type": "stream",
          "text": [
            "Epoch: 8 Accuracy: 0.62500 Loss: 0.66441 : 100%|██████████████████| 224/224 [00:14<00:00, 15.12it/s]\n",
            "Epoch: 9 Accuracy: 0.66667 Loss: 0.68001 :   1%|▏                   | 2/224 [00:00<00:13, 16.95it/s]"
          ],
          "name": "stderr"
        },
        {
          "output_type": "stream",
          "text": [
            "Validation -- Accuracy: 0.41333 Loss: 0.70184 \n",
            "\n"
          ],
          "name": "stdout"
        },
        {
          "output_type": "stream",
          "text": [
            "Epoch: 9 Accuracy: 0.57143 Loss: 0.83397 : 100%|██████████████████| 224/224 [00:14<00:00, 15.05it/s]\n",
            "  0%|                                                                       | 0/224 [00:00<?, ?it/s]"
          ],
          "name": "stderr"
        },
        {
          "output_type": "stream",
          "text": [
            "Validation -- Accuracy: 0.42667 Loss: 0.71299 \n",
            "\n"
          ],
          "name": "stdout"
        },
        {
          "output_type": "stream",
          "text": [
            "Epoch: 10 Accuracy: 0.63839 Loss: 0.63871 : 100%|█████████████████| 224/224 [00:14<00:00, 15.04it/s]\n",
            "Epoch: 11 Accuracy: 1.00000 Loss: 0.66372 :   0%|                           | 0/224 [00:00<?, ?it/s]"
          ],
          "name": "stderr"
        },
        {
          "output_type": "stream",
          "text": [
            "Validation -- Accuracy: 0.62667 Loss: 0.67319 \n",
            "\n"
          ],
          "name": "stdout"
        },
        {
          "output_type": "stream",
          "text": [
            "Epoch: 11 Accuracy: 0.70536 Loss: 0.44189 : 100%|█████████████████| 224/224 [00:14<00:00, 15.11it/s]\n",
            "Epoch: 12 Accuracy: 1.00000 Loss: 0.45345 :   0%|                           | 0/224 [00:00<?, ?it/s]"
          ],
          "name": "stderr"
        },
        {
          "output_type": "stream",
          "text": [
            "Validation -- Accuracy: 0.72000 Loss: 0.66843 \n",
            "\n"
          ],
          "name": "stdout"
        },
        {
          "output_type": "stream",
          "text": [
            "Epoch: 12 Accuracy: 0.72321 Loss: 0.95049 : 100%|█████████████████| 224/224 [00:14<00:00, 15.10it/s]\n",
            "Epoch: 13 Accuracy: 1.00000 Loss: 0.52168 :   0%|                           | 0/224 [00:00<?, ?it/s]"
          ],
          "name": "stderr"
        },
        {
          "output_type": "stream",
          "text": [
            "Validation -- Accuracy: 0.73333 Loss: 0.59646 \n",
            "\n"
          ],
          "name": "stdout"
        },
        {
          "output_type": "stream",
          "text": [
            "Epoch: 13 Accuracy: 0.81250 Loss: 0.74285 : 100%|█████████████████| 224/224 [00:14<00:00, 14.98it/s]\n",
            "  0%|                                                                       | 0/224 [00:00<?, ?it/s]"
          ],
          "name": "stderr"
        },
        {
          "output_type": "stream",
          "text": [
            "Validation -- Accuracy: 0.74667 Loss: 0.50725 \n",
            "\n"
          ],
          "name": "stdout"
        },
        {
          "output_type": "stream",
          "text": [
            "Epoch: 14 Accuracy: 0.78125 Loss: 0.35364 : 100%|█████████████████| 224/224 [00:14<00:00, 15.09it/s]\n",
            "Epoch: 15 Accuracy: 1.00000 Loss: 0.20636 :   0%|                           | 0/224 [00:00<?, ?it/s]"
          ],
          "name": "stderr"
        },
        {
          "output_type": "stream",
          "text": [
            "Validation -- Accuracy: 0.76000 Loss: 0.46255 \n",
            "\n"
          ],
          "name": "stdout"
        },
        {
          "output_type": "stream",
          "text": [
            "Epoch: 15 Accuracy: 0.78125 Loss: 0.26343 : 100%|█████████████████| 224/224 [00:14<00:00, 15.00it/s]\n",
            "Epoch: 16 Accuracy: 1.00000 Loss: 0.26776 :   0%|                           | 0/224 [00:00<?, ?it/s]"
          ],
          "name": "stderr"
        },
        {
          "output_type": "stream",
          "text": [
            "Validation -- Accuracy: 0.78667 Loss: 0.41991 \n",
            "\n"
          ],
          "name": "stdout"
        },
        {
          "output_type": "stream",
          "text": [
            "Epoch: 16 Accuracy: 0.83929 Loss: 1.14291 : 100%|█████████████████| 224/224 [00:14<00:00, 15.00it/s]\n",
            "Epoch: 17 Accuracy: 1.00000 Loss: 0.27528 :   0%|                           | 0/224 [00:00<?, ?it/s]"
          ],
          "name": "stderr"
        },
        {
          "output_type": "stream",
          "text": [
            "Validation -- Accuracy: 0.78667 Loss: 0.32214 \n",
            "\n"
          ],
          "name": "stdout"
        },
        {
          "output_type": "stream",
          "text": [
            "Epoch: 17 Accuracy: 0.84821 Loss: 0.18577 : 100%|█████████████████| 224/224 [00:14<00:00, 15.12it/s]\n",
            "Epoch: 18 Accuracy: 1.00000 Loss: 0.42088 :   0%|                           | 0/224 [00:00<?, ?it/s]"
          ],
          "name": "stderr"
        },
        {
          "output_type": "stream",
          "text": [
            "Validation -- Accuracy: 0.85333 Loss: 0.36180 \n",
            "\n"
          ],
          "name": "stdout"
        },
        {
          "output_type": "stream",
          "text": [
            "Epoch: 18 Accuracy: 0.83482 Loss: 0.26516 : 100%|█████████████████| 224/224 [00:14<00:00, 15.00it/s]\n",
            "Epoch: 19 Accuracy: 1.00000 Loss: 0.20710 :   1%|▏                  | 2/224 [00:00<00:14, 14.96it/s]"
          ],
          "name": "stderr"
        },
        {
          "output_type": "stream",
          "text": [
            "Validation -- Accuracy: 0.84000 Loss: 0.42932 \n",
            "\n"
          ],
          "name": "stdout"
        },
        {
          "output_type": "stream",
          "text": [
            "Epoch: 19 Accuracy: 0.84821 Loss: 0.09708 : 100%|█████████████████| 224/224 [00:15<00:00, 14.77it/s]\n",
            "Epoch: 20 Accuracy: 1.00000 Loss: 0.38620 :   1%|▏                  | 2/224 [00:00<00:15, 14.45it/s]"
          ],
          "name": "stderr"
        },
        {
          "output_type": "stream",
          "text": [
            "Validation -- Accuracy: 0.85333 Loss: 0.31320 \n",
            "\n"
          ],
          "name": "stdout"
        },
        {
          "output_type": "stream",
          "text": [
            "Epoch: 20 Accuracy: 0.88839 Loss: 0.12111 : 100%|█████████████████| 224/224 [00:15<00:00, 14.43it/s]\n",
            "Epoch: 21 Accuracy: 0.50000 Loss: 0.08045 :   1%|▏                  | 2/224 [00:00<00:15, 14.18it/s]"
          ],
          "name": "stderr"
        },
        {
          "output_type": "stream",
          "text": [
            "Validation -- Accuracy: 0.84000 Loss: 0.27496 \n",
            "\n"
          ],
          "name": "stdout"
        },
        {
          "output_type": "stream",
          "text": [
            "Epoch: 21 Accuracy: 0.87500 Loss: 0.12582 : 100%|█████████████████| 224/224 [00:15<00:00, 14.47it/s]\n",
            "Epoch: 22 Accuracy: 1.00000 Loss: 0.21797 :   1%|▏                  | 2/224 [00:00<00:15, 14.41it/s]"
          ],
          "name": "stderr"
        },
        {
          "output_type": "stream",
          "text": [
            "Validation -- Accuracy: 0.82667 Loss: 0.18208 \n",
            "\n"
          ],
          "name": "stdout"
        },
        {
          "output_type": "stream",
          "text": [
            "Epoch: 22 Accuracy: 0.87946 Loss: 0.11693 : 100%|█████████████████| 224/224 [00:15<00:00, 14.61it/s]\n",
            "  0%|                                                                       | 0/224 [00:00<?, ?it/s]"
          ],
          "name": "stderr"
        },
        {
          "output_type": "stream",
          "text": [
            "Validation -- Accuracy: 0.82667 Loss: 0.20922 \n",
            "\n"
          ],
          "name": "stdout"
        },
        {
          "output_type": "stream",
          "text": [
            "Epoch: 23 Accuracy: 0.87946 Loss: 1.09263 : 100%|█████████████████| 224/224 [00:15<00:00, 14.88it/s]\n",
            "Epoch: 24 Accuracy: 1.00000 Loss: 0.18428 :   0%|                           | 0/224 [00:00<?, ?it/s]"
          ],
          "name": "stderr"
        },
        {
          "output_type": "stream",
          "text": [
            "Validation -- Accuracy: 0.88000 Loss: 0.19156 \n",
            "\n"
          ],
          "name": "stdout"
        },
        {
          "output_type": "stream",
          "text": [
            "Epoch: 24 Accuracy: 0.90179 Loss: 0.68733 : 100%|█████████████████| 224/224 [00:15<00:00, 14.86it/s]\n",
            "Epoch: 25 Accuracy: 1.00000 Loss: 0.10516 :   0%|                           | 0/224 [00:00<?, ?it/s]"
          ],
          "name": "stderr"
        },
        {
          "output_type": "stream",
          "text": [
            "Validation -- Accuracy: 0.85333 Loss: 0.16823 \n",
            "\n"
          ],
          "name": "stdout"
        },
        {
          "output_type": "stream",
          "text": [
            "Epoch: 25 Accuracy: 0.88393 Loss: 0.57233 : 100%|█████████████████| 224/224 [00:15<00:00, 14.83it/s]\n",
            "Epoch: 26 Accuracy: 1.00000 Loss: 0.07658 :   1%|▏                  | 2/224 [00:00<00:13, 16.89it/s]"
          ],
          "name": "stderr"
        },
        {
          "output_type": "stream",
          "text": [
            "Validation -- Accuracy: 0.85333 Loss: 0.16464 \n",
            "\n"
          ],
          "name": "stdout"
        },
        {
          "output_type": "stream",
          "text": [
            "Epoch: 26 Accuracy: 0.87500 Loss: 0.05901 : 100%|█████████████████| 224/224 [00:15<00:00, 14.81it/s]\n",
            "  0%|                                                                       | 0/224 [00:00<?, ?it/s]"
          ],
          "name": "stderr"
        },
        {
          "output_type": "stream",
          "text": [
            "Validation -- Accuracy: 0.89333 Loss: 0.17981 \n",
            "\n"
          ],
          "name": "stdout"
        },
        {
          "output_type": "stream",
          "text": [
            "Epoch: 27 Accuracy: 0.87054 Loss: 0.06463 : 100%|█████████████████| 224/224 [00:15<00:00, 14.28it/s]\n",
            "Epoch: 28 Accuracy: 1.00000 Loss: 0.07881 :   0%|                   | 1/224 [00:00<00:23,  9.44it/s]"
          ],
          "name": "stderr"
        },
        {
          "output_type": "stream",
          "text": [
            "Validation -- Accuracy: 0.86667 Loss: 0.13285 \n",
            "\n"
          ],
          "name": "stdout"
        },
        {
          "output_type": "stream",
          "text": [
            "Epoch: 28 Accuracy: 0.93304 Loss: 0.34084 : 100%|█████████████████| 224/224 [00:15<00:00, 14.00it/s]\n",
            "Epoch: 29 Accuracy: 1.00000 Loss: 0.19597 :   1%|▏                  | 2/224 [00:00<00:16, 13.11it/s]"
          ],
          "name": "stderr"
        },
        {
          "output_type": "stream",
          "text": [
            "Validation -- Accuracy: 0.89333 Loss: 0.13630 \n",
            "\n"
          ],
          "name": "stdout"
        },
        {
          "output_type": "stream",
          "text": [
            "Epoch: 29 Accuracy: 0.90625 Loss: 0.56210 : 100%|█████████████████| 224/224 [00:15<00:00, 14.19it/s]\n",
            "Epoch: 30 Accuracy: 1.00000 Loss: 0.07000 :   1%|▏                  | 2/224 [00:00<00:18, 12.15it/s]"
          ],
          "name": "stderr"
        },
        {
          "output_type": "stream",
          "text": [
            "Validation -- Accuracy: 0.88000 Loss: 0.14561 \n",
            "\n"
          ],
          "name": "stdout"
        },
        {
          "output_type": "stream",
          "text": [
            "Epoch: 30 Accuracy: 0.91071 Loss: 0.29489 : 100%|█████████████████| 224/224 [00:15<00:00, 14.13it/s]\n",
            "Epoch: 31 Accuracy: 0.66667 Loss: 0.09954 :   1%|▎                  | 3/224 [00:00<00:12, 18.14it/s]"
          ],
          "name": "stderr"
        },
        {
          "output_type": "stream",
          "text": [
            "Validation -- Accuracy: 0.89333 Loss: 0.15898 \n",
            "\n"
          ],
          "name": "stdout"
        },
        {
          "output_type": "stream",
          "text": [
            "Epoch: 31 Accuracy: 0.89732 Loss: 0.08648 : 100%|█████████████████| 224/224 [00:15<00:00, 14.26it/s]\n",
            "Epoch: 32 Accuracy: 1.00000 Loss: 0.05994 :   1%|▏                  | 2/224 [00:00<00:18, 11.80it/s]"
          ],
          "name": "stderr"
        },
        {
          "output_type": "stream",
          "text": [
            "Validation -- Accuracy: 0.86667 Loss: 0.20870 \n",
            "\n"
          ],
          "name": "stdout"
        },
        {
          "output_type": "stream",
          "text": [
            "Epoch: 32 Accuracy: 0.91071 Loss: 0.06170 : 100%|█████████████████| 224/224 [00:15<00:00, 14.50it/s]\n",
            "Epoch: 33 Accuracy: 1.00000 Loss: 0.05034 :   1%|▎                  | 3/224 [00:00<00:11, 19.40it/s]"
          ],
          "name": "stderr"
        },
        {
          "output_type": "stream",
          "text": [
            "Validation -- Accuracy: 0.88000 Loss: 0.11281 \n",
            "\n"
          ],
          "name": "stdout"
        },
        {
          "output_type": "stream",
          "text": [
            "Epoch: 33 Accuracy: 0.90179 Loss: 0.04792 : 100%|█████████████████| 224/224 [00:15<00:00, 14.56it/s]\n",
            "Epoch: 34 Accuracy: 1.00000 Loss: 0.12203 :   1%|▏                  | 2/224 [00:00<00:11, 18.89it/s]"
          ],
          "name": "stderr"
        },
        {
          "output_type": "stream",
          "text": [
            "Validation -- Accuracy: 0.86667 Loss: 0.11529 \n",
            "\n"
          ],
          "name": "stdout"
        },
        {
          "output_type": "stream",
          "text": [
            "Epoch: 34 Accuracy: 0.91964 Loss: 0.04724 : 100%|█████████████████| 224/224 [00:15<00:00, 14.50it/s]\n",
            "Epoch: 35 Accuracy: 1.00000 Loss: 0.13635 :   1%|▎                  | 3/224 [00:00<00:09, 22.70it/s]"
          ],
          "name": "stderr"
        },
        {
          "output_type": "stream",
          "text": [
            "Validation -- Accuracy: 0.86667 Loss: 0.10049 \n",
            "\n"
          ],
          "name": "stdout"
        },
        {
          "output_type": "stream",
          "text": [
            "Epoch: 35 Accuracy: 0.93750 Loss: 0.11751 : 100%|█████████████████| 224/224 [00:15<00:00, 14.56it/s]\n",
            "Epoch: 36 Accuracy: 1.00000 Loss: 0.25434 :   1%|▏                  | 2/224 [00:00<00:18, 12.29it/s]"
          ],
          "name": "stderr"
        },
        {
          "output_type": "stream",
          "text": [
            "Validation -- Accuracy: 0.86667 Loss: 0.08740 \n",
            "\n"
          ],
          "name": "stdout"
        },
        {
          "output_type": "stream",
          "text": [
            "Epoch: 36 Accuracy: 0.95089 Loss: 0.05427 : 100%|█████████████████| 224/224 [00:15<00:00, 14.41it/s]\n",
            "Epoch: 37 Accuracy: 1.00000 Loss: 0.10495 :   1%|▏                  | 2/224 [00:00<00:14, 15.67it/s]"
          ],
          "name": "stderr"
        },
        {
          "output_type": "stream",
          "text": [
            "Validation -- Accuracy: 0.85333 Loss: 0.08597 \n",
            "\n"
          ],
          "name": "stdout"
        },
        {
          "output_type": "stream",
          "text": [
            "Epoch: 37 Accuracy: 0.93304 Loss: 0.03078 : 100%|█████████████████| 224/224 [00:15<00:00, 14.44it/s]\n",
            "Epoch: 38 Accuracy: 1.00000 Loss: 0.03698 :   1%|▎                  | 3/224 [00:00<00:09, 22.12it/s]"
          ],
          "name": "stderr"
        },
        {
          "output_type": "stream",
          "text": [
            "Validation -- Accuracy: 0.88000 Loss: 0.09195 \n",
            "\n"
          ],
          "name": "stdout"
        },
        {
          "output_type": "stream",
          "text": [
            "Epoch: 38 Accuracy: 0.91071 Loss: 0.05399 : 100%|█████████████████| 224/224 [00:15<00:00, 14.61it/s]\n",
            "Epoch: 39 Accuracy: 1.00000 Loss: 0.06168 :   1%|▏                  | 2/224 [00:00<00:14, 15.19it/s]"
          ],
          "name": "stderr"
        },
        {
          "output_type": "stream",
          "text": [
            "Validation -- Accuracy: 0.89333 Loss: 0.08274 \n",
            "\n"
          ],
          "name": "stdout"
        },
        {
          "output_type": "stream",
          "text": [
            "Epoch: 39 Accuracy: 0.93304 Loss: 2.09235 : 100%|█████████████████| 224/224 [00:15<00:00, 14.92it/s]\n",
            "Epoch: 40 Accuracy: 0.66667 Loss: 0.10526 :   1%|▏                  | 2/224 [00:00<00:12, 17.98it/s]"
          ],
          "name": "stderr"
        },
        {
          "output_type": "stream",
          "text": [
            "Validation -- Accuracy: 0.89333 Loss: 0.08192 \n",
            "\n"
          ],
          "name": "stdout"
        },
        {
          "output_type": "stream",
          "text": [
            "Epoch: 40 Accuracy: 0.91964 Loss: 0.04360 : 100%|█████████████████| 224/224 [00:14<00:00, 15.02it/s]\n",
            "Epoch: 41 Accuracy: 1.00000 Loss: 0.13447 :   0%|                           | 0/224 [00:00<?, ?it/s]"
          ],
          "name": "stderr"
        },
        {
          "output_type": "stream",
          "text": [
            "Validation -- Accuracy: 0.85333 Loss: 0.07991 \n",
            "\n"
          ],
          "name": "stdout"
        },
        {
          "output_type": "stream",
          "text": [
            "Epoch: 41 Accuracy: 0.92857 Loss: 0.06359 : 100%|█████████████████| 224/224 [00:15<00:00, 14.89it/s]\n",
            "Epoch: 42 Accuracy: 1.00000 Loss: 0.15360 :   1%|▏                  | 2/224 [00:00<00:15, 14.27it/s]"
          ],
          "name": "stderr"
        },
        {
          "output_type": "stream",
          "text": [
            "Validation -- Accuracy: 0.88000 Loss: 0.09094 \n",
            "\n"
          ],
          "name": "stdout"
        },
        {
          "output_type": "stream",
          "text": [
            "Epoch: 42 Accuracy: 0.92411 Loss: 0.02409 : 100%|█████████████████| 224/224 [00:15<00:00, 14.85it/s]\n",
            "Epoch: 43 Accuracy: 1.00000 Loss: 0.05506 :   0%|                           | 0/224 [00:00<?, ?it/s]"
          ],
          "name": "stderr"
        },
        {
          "output_type": "stream",
          "text": [
            "Validation -- Accuracy: 0.90667 Loss: 0.09795 \n",
            "\n"
          ],
          "name": "stdout"
        },
        {
          "output_type": "stream",
          "text": [
            "Epoch: 43 Accuracy: 0.93304 Loss: 0.03091 : 100%|█████████████████| 224/224 [00:15<00:00, 14.76it/s]\n",
            "Epoch: 44 Accuracy: 1.00000 Loss: 0.03163 :   1%|▏                  | 2/224 [00:00<00:11, 18.86it/s]"
          ],
          "name": "stderr"
        },
        {
          "output_type": "stream",
          "text": [
            "Validation -- Accuracy: 0.88000 Loss: 0.07255 \n",
            "\n"
          ],
          "name": "stdout"
        },
        {
          "output_type": "stream",
          "text": [
            "Epoch: 44 Accuracy: 0.92411 Loss: 2.23938 : 100%|█████████████████| 224/224 [00:15<00:00, 14.89it/s]\n",
            "Epoch: 45 Accuracy: 1.00000 Loss: 0.05652 :   1%|▏                  | 2/224 [00:00<00:14, 14.91it/s]"
          ],
          "name": "stderr"
        },
        {
          "output_type": "stream",
          "text": [
            "Validation -- Accuracy: 0.89333 Loss: 0.06698 \n",
            "\n"
          ],
          "name": "stdout"
        },
        {
          "output_type": "stream",
          "text": [
            "Epoch: 45 Accuracy: 0.93750 Loss: 0.04807 : 100%|█████████████████| 224/224 [00:14<00:00, 14.95it/s]\n",
            "Epoch: 46 Accuracy: 1.00000 Loss: 0.05081 :   1%|▏                  | 2/224 [00:00<00:12, 17.83it/s]"
          ],
          "name": "stderr"
        },
        {
          "output_type": "stream",
          "text": [
            "Validation -- Accuracy: 0.88000 Loss: 0.08134 \n",
            "\n"
          ],
          "name": "stdout"
        },
        {
          "output_type": "stream",
          "text": [
            "Epoch: 46 Accuracy: 0.94196 Loss: 0.07308 : 100%|█████████████████| 224/224 [00:14<00:00, 14.96it/s]\n",
            "Epoch: 47 Accuracy: 0.66667 Loss: 0.02773 :   1%|▎                  | 3/224 [00:00<00:10, 20.53it/s]"
          ],
          "name": "stderr"
        },
        {
          "output_type": "stream",
          "text": [
            "Validation -- Accuracy: 0.85333 Loss: 0.06539 \n",
            "\n"
          ],
          "name": "stdout"
        },
        {
          "output_type": "stream",
          "text": [
            "Epoch: 47 Accuracy: 0.93750 Loss: 0.02413 : 100%|█████████████████| 224/224 [00:14<00:00, 15.03it/s]\n",
            "Epoch: 48 Accuracy: 1.00000 Loss: 0.11928 :   1%|▏                  | 2/224 [00:00<00:17, 12.76it/s]"
          ],
          "name": "stderr"
        },
        {
          "output_type": "stream",
          "text": [
            "Validation -- Accuracy: 0.89333 Loss: 0.06544 \n",
            "\n"
          ],
          "name": "stdout"
        },
        {
          "output_type": "stream",
          "text": [
            "Epoch: 48 Accuracy: 0.93304 Loss: 0.02650 : 100%|█████████████████| 224/224 [00:15<00:00, 14.85it/s]\n",
            "Epoch: 49 Accuracy: 1.00000 Loss: 0.02077 :   0%|                           | 0/224 [00:00<?, ?it/s]"
          ],
          "name": "stderr"
        },
        {
          "output_type": "stream",
          "text": [
            "Validation -- Accuracy: 0.92000 Loss: 0.06663 \n",
            "\n"
          ],
          "name": "stdout"
        },
        {
          "output_type": "stream",
          "text": [
            "Epoch: 49 Accuracy: 0.92411 Loss: 0.03130 : 100%|█████████████████| 224/224 [00:15<00:00, 14.80it/s]\n",
            "Epoch: 50 Accuracy: 1.00000 Loss: 0.03487 :   1%|▏                  | 2/224 [00:00<00:13, 16.49it/s]"
          ],
          "name": "stderr"
        },
        {
          "output_type": "stream",
          "text": [
            "Validation -- Accuracy: 0.85333 Loss: 0.06307 \n",
            "\n"
          ],
          "name": "stdout"
        },
        {
          "output_type": "stream",
          "text": [
            "Epoch: 50 Accuracy: 0.93304 Loss: 0.09229 : 100%|█████████████████| 224/224 [00:14<00:00, 15.00it/s]\n",
            "Epoch: 51 Accuracy: 1.00000 Loss: 0.06003 :   1%|▏                  | 2/224 [00:00<00:12, 17.31it/s]"
          ],
          "name": "stderr"
        },
        {
          "output_type": "stream",
          "text": [
            "Validation -- Accuracy: 0.92000 Loss: 0.09793 \n",
            "\n"
          ],
          "name": "stdout"
        },
        {
          "output_type": "stream",
          "text": [
            "Epoch: 51 Accuracy: 0.93304 Loss: 0.03458 : 100%|█████████████████| 224/224 [00:14<00:00, 14.95it/s]\n",
            "Epoch: 52 Accuracy: 1.00000 Loss: 0.02543 :   1%|▎                  | 3/224 [00:00<00:11, 19.32it/s]"
          ],
          "name": "stderr"
        },
        {
          "output_type": "stream",
          "text": [
            "Validation -- Accuracy: 0.85333 Loss: 0.06924 \n",
            "\n"
          ],
          "name": "stdout"
        },
        {
          "output_type": "stream",
          "text": [
            "Epoch: 52 Accuracy: 0.95982 Loss: 0.04407 : 100%|█████████████████| 224/224 [00:14<00:00, 14.99it/s]\n",
            "Epoch: 53 Accuracy: 1.00000 Loss: 0.02464 :   1%|▏                  | 2/224 [00:00<00:12, 17.86it/s]"
          ],
          "name": "stderr"
        },
        {
          "output_type": "stream",
          "text": [
            "Validation -- Accuracy: 0.89333 Loss: 0.06472 \n",
            "\n"
          ],
          "name": "stdout"
        },
        {
          "output_type": "stream",
          "text": [
            "Epoch: 53 Accuracy: 0.95536 Loss: 3.25185 : 100%|█████████████████| 224/224 [00:14<00:00, 14.95it/s]\n",
            "Epoch: 54 Accuracy: 1.00000 Loss: 0.02132 :   1%|▏                  | 2/224 [00:00<00:13, 16.56it/s]"
          ],
          "name": "stderr"
        },
        {
          "output_type": "stream",
          "text": [
            "Validation -- Accuracy: 0.88000 Loss: 0.05881 \n",
            "\n"
          ],
          "name": "stdout"
        },
        {
          "output_type": "stream",
          "text": [
            "Epoch: 54 Accuracy: 0.94643 Loss: 0.02927 : 100%|█████████████████| 224/224 [00:14<00:00, 14.93it/s]\n",
            "Epoch: 55 Accuracy: 1.00000 Loss: 0.03213 :   1%|▎                  | 3/224 [00:00<00:11, 19.16it/s]"
          ],
          "name": "stderr"
        },
        {
          "output_type": "stream",
          "text": [
            "Validation -- Accuracy: 0.85333 Loss: 0.04472 \n",
            "\n"
          ],
          "name": "stdout"
        },
        {
          "output_type": "stream",
          "text": [
            "Epoch: 55 Accuracy: 0.94196 Loss: 0.02875 : 100%|█████████████████| 224/224 [00:15<00:00, 14.92it/s]\n",
            "Epoch: 56 Accuracy: 1.00000 Loss: 0.01762 :   1%|▏                  | 2/224 [00:00<00:19, 11.67it/s]"
          ],
          "name": "stderr"
        },
        {
          "output_type": "stream",
          "text": [
            "Validation -- Accuracy: 0.88000 Loss: 0.05066 \n",
            "\n"
          ],
          "name": "stdout"
        },
        {
          "output_type": "stream",
          "text": [
            "Epoch: 56 Accuracy: 0.93304 Loss: 0.02219 : 100%|█████████████████| 224/224 [00:14<00:00, 15.05it/s]\n",
            "Epoch: 57 Accuracy: 1.00000 Loss: 0.11940 :   1%|▏                  | 2/224 [00:00<00:11, 19.28it/s]"
          ],
          "name": "stderr"
        },
        {
          "output_type": "stream",
          "text": [
            "Validation -- Accuracy: 0.85333 Loss: 0.06197 \n",
            "\n"
          ],
          "name": "stdout"
        },
        {
          "output_type": "stream",
          "text": [
            "Epoch: 57 Accuracy: 0.94643 Loss: 0.03016 : 100%|█████████████████| 224/224 [00:14<00:00, 15.08it/s]\n",
            "Epoch: 58 Accuracy: 1.00000 Loss: 0.21813 :   1%|▏                  | 2/224 [00:00<00:17, 12.36it/s]"
          ],
          "name": "stderr"
        },
        {
          "output_type": "stream",
          "text": [
            "Validation -- Accuracy: 0.90667 Loss: 0.08223 \n",
            "\n"
          ],
          "name": "stdout"
        },
        {
          "output_type": "stream",
          "text": [
            "Epoch: 58 Accuracy: 0.96429 Loss: 0.07781 : 100%|█████████████████| 224/224 [00:14<00:00, 15.25it/s]\n",
            "Epoch: 59 Accuracy: 1.00000 Loss: 0.01798 :   1%|▏                  | 2/224 [00:00<00:16, 13.71it/s]"
          ],
          "name": "stderr"
        },
        {
          "output_type": "stream",
          "text": [
            "Validation -- Accuracy: 0.84000 Loss: 0.05016 \n",
            "\n"
          ],
          "name": "stdout"
        },
        {
          "output_type": "stream",
          "text": [
            "Epoch: 59 Accuracy: 0.95982 Loss: 0.01561 : 100%|█████████████████| 224/224 [00:14<00:00, 15.01it/s]\n",
            "Epoch: 60 Accuracy: 1.00000 Loss: 0.01807 :   1%|▏                  | 2/224 [00:00<00:12, 17.94it/s]"
          ],
          "name": "stderr"
        },
        {
          "output_type": "stream",
          "text": [
            "Validation -- Accuracy: 0.89333 Loss: 0.05658 \n",
            "\n"
          ],
          "name": "stdout"
        },
        {
          "output_type": "stream",
          "text": [
            "Epoch: 60 Accuracy: 0.96429 Loss: 0.02260 : 100%|█████████████████| 224/224 [00:14<00:00, 15.07it/s]\n",
            "Epoch: 61 Accuracy: 1.00000 Loss: 0.67543 :   1%|▏                  | 2/224 [00:00<00:13, 16.10it/s]"
          ],
          "name": "stderr"
        },
        {
          "output_type": "stream",
          "text": [
            "Validation -- Accuracy: 0.92000 Loss: 0.04978 \n",
            "\n"
          ],
          "name": "stdout"
        },
        {
          "output_type": "stream",
          "text": [
            "Epoch: 61 Accuracy: 0.91071 Loss: 0.02980 : 100%|█████████████████| 224/224 [00:14<00:00, 15.10it/s]\n",
            "Epoch: 62 Accuracy: 1.00000 Loss: 0.05247 :   1%|▏                  | 2/224 [00:00<00:15, 13.93it/s]"
          ],
          "name": "stderr"
        },
        {
          "output_type": "stream",
          "text": [
            "Validation -- Accuracy: 0.89333 Loss: 0.06458 \n",
            "\n"
          ],
          "name": "stdout"
        },
        {
          "output_type": "stream",
          "text": [
            "Epoch: 62 Accuracy: 0.95536 Loss: 0.05806 : 100%|█████████████████| 224/224 [00:14<00:00, 15.10it/s]\n",
            "Epoch: 63 Accuracy: 1.00000 Loss: 0.01418 :   1%|▏                  | 2/224 [00:00<00:16, 13.57it/s]"
          ],
          "name": "stderr"
        },
        {
          "output_type": "stream",
          "text": [
            "Validation -- Accuracy: 0.92000 Loss: 0.11266 \n",
            "\n"
          ],
          "name": "stdout"
        },
        {
          "output_type": "stream",
          "text": [
            "Epoch: 63 Accuracy: 0.96429 Loss: 0.02191 : 100%|█████████████████| 224/224 [00:14<00:00, 15.04it/s]\n",
            "Epoch: 64 Accuracy: 1.00000 Loss: 0.04591 :   1%|▏                  | 2/224 [00:00<00:17, 13.04it/s]"
          ],
          "name": "stderr"
        },
        {
          "output_type": "stream",
          "text": [
            "Validation -- Accuracy: 0.89333 Loss: 0.05798 \n",
            "\n"
          ],
          "name": "stdout"
        },
        {
          "output_type": "stream",
          "text": [
            "Epoch: 64 Accuracy: 0.93304 Loss: 0.08101 : 100%|█████████████████| 224/224 [00:14<00:00, 15.08it/s]\n",
            "Epoch: 65 Accuracy: 0.66667 Loss: 0.05525 :   1%|▎                  | 3/224 [00:00<00:11, 19.05it/s]"
          ],
          "name": "stderr"
        },
        {
          "output_type": "stream",
          "text": [
            "Validation -- Accuracy: 0.89333 Loss: 0.05189 \n",
            "\n"
          ],
          "name": "stdout"
        },
        {
          "output_type": "stream",
          "text": [
            "Epoch: 65 Accuracy: 0.95982 Loss: 0.06011 : 100%|█████████████████| 224/224 [00:14<00:00, 15.24it/s]\n",
            "Epoch: 66 Accuracy: 1.00000 Loss: 0.01431 :   1%|▏                  | 2/224 [00:00<00:16, 13.54it/s]"
          ],
          "name": "stderr"
        },
        {
          "output_type": "stream",
          "text": [
            "Validation -- Accuracy: 0.92000 Loss: 0.04925 \n",
            "\n"
          ],
          "name": "stdout"
        },
        {
          "output_type": "stream",
          "text": [
            "Epoch: 66 Accuracy: 0.94643 Loss: 2.85301 : 100%|█████████████████| 224/224 [00:14<00:00, 15.16it/s]\n",
            "Epoch: 67 Accuracy: 1.00000 Loss: 0.11723 :   1%|▏                  | 2/224 [00:00<00:12, 17.58it/s]"
          ],
          "name": "stderr"
        },
        {
          "output_type": "stream",
          "text": [
            "Validation -- Accuracy: 0.90667 Loss: 0.05270 \n",
            "\n"
          ],
          "name": "stdout"
        },
        {
          "output_type": "stream",
          "text": [
            "Epoch: 67 Accuracy: 0.95089 Loss: 0.01667 : 100%|█████████████████| 224/224 [00:14<00:00, 15.08it/s]\n",
            "Epoch: 68 Accuracy: 1.00000 Loss: 0.01726 :   1%|▏                  | 2/224 [00:00<00:19, 11.35it/s]"
          ],
          "name": "stderr"
        },
        {
          "output_type": "stream",
          "text": [
            "Validation -- Accuracy: 0.89333 Loss: 0.03974 \n",
            "\n"
          ],
          "name": "stdout"
        },
        {
          "output_type": "stream",
          "text": [
            "Epoch: 68 Accuracy: 0.97768 Loss: 0.03706 : 100%|█████████████████| 224/224 [00:14<00:00, 15.20it/s]\n",
            "Epoch: 69 Accuracy: 1.00000 Loss: 0.06309 :   1%|▏                  | 2/224 [00:00<00:13, 16.58it/s]"
          ],
          "name": "stderr"
        },
        {
          "output_type": "stream",
          "text": [
            "Validation -- Accuracy: 0.89333 Loss: 0.04736 \n",
            "\n"
          ],
          "name": "stdout"
        },
        {
          "output_type": "stream",
          "text": [
            "Epoch: 69 Accuracy: 0.96875 Loss: 0.01258 : 100%|█████████████████| 224/224 [00:14<00:00, 15.00it/s]\n",
            "Epoch: 70 Accuracy: 1.00000 Loss: 0.01446 :   1%|▏                  | 2/224 [00:00<00:15, 13.96it/s]"
          ],
          "name": "stderr"
        },
        {
          "output_type": "stream",
          "text": [
            "Validation -- Accuracy: 0.88000 Loss: 0.03546 \n",
            "\n"
          ],
          "name": "stdout"
        },
        {
          "output_type": "stream",
          "text": [
            "Epoch: 70 Accuracy: 0.95982 Loss: 0.05900 : 100%|█████████████████| 224/224 [00:14<00:00, 15.14it/s]\n",
            "Epoch: 71 Accuracy: 1.00000 Loss: 0.01749 :   1%|▏                  | 2/224 [00:00<00:17, 13.00it/s]"
          ],
          "name": "stderr"
        },
        {
          "output_type": "stream",
          "text": [
            "Validation -- Accuracy: 0.89333 Loss: 0.04038 \n",
            "\n"
          ],
          "name": "stdout"
        },
        {
          "output_type": "stream",
          "text": [
            "Epoch: 71 Accuracy: 0.95089 Loss: 0.01776 : 100%|█████████████████| 224/224 [00:14<00:00, 15.09it/s]\n",
            "Epoch: 72 Accuracy: 1.00000 Loss: 0.01366 :   1%|▏                  | 2/224 [00:00<00:17, 12.46it/s]"
          ],
          "name": "stderr"
        },
        {
          "output_type": "stream",
          "text": [
            "Validation -- Accuracy: 0.92000 Loss: 0.04221 \n",
            "\n"
          ],
          "name": "stdout"
        },
        {
          "output_type": "stream",
          "text": [
            "Epoch: 72 Accuracy: 0.94643 Loss: 0.02715 : 100%|█████████████████| 224/224 [00:14<00:00, 15.12it/s]\n",
            "Epoch: 73 Accuracy: 1.00000 Loss: 0.01966 :   1%|▏                  | 2/224 [00:00<00:14, 15.41it/s]"
          ],
          "name": "stderr"
        },
        {
          "output_type": "stream",
          "text": [
            "Validation -- Accuracy: 0.92000 Loss: 0.05682 \n",
            "\n"
          ],
          "name": "stdout"
        },
        {
          "output_type": "stream",
          "text": [
            "Epoch: 73 Accuracy: 0.95089 Loss: 0.20666 : 100%|█████████████████| 224/224 [00:14<00:00, 15.23it/s]\n",
            "Epoch: 74 Accuracy: 0.50000 Loss: 0.01633 :   1%|▏                  | 2/224 [00:00<00:14, 15.36it/s]"
          ],
          "name": "stderr"
        },
        {
          "output_type": "stream",
          "text": [
            "Validation -- Accuracy: 0.90667 Loss: 0.06616 \n",
            "\n"
          ],
          "name": "stdout"
        },
        {
          "output_type": "stream",
          "text": [
            "Epoch: 74 Accuracy: 0.95536 Loss: 0.03501 : 100%|█████████████████| 224/224 [00:14<00:00, 15.08it/s]\n",
            "Epoch: 75 Accuracy: 1.00000 Loss: 0.02008 :   1%|▏                  | 2/224 [00:00<00:12, 17.72it/s]"
          ],
          "name": "stderr"
        },
        {
          "output_type": "stream",
          "text": [
            "Validation -- Accuracy: 0.88000 Loss: 0.05640 \n",
            "\n"
          ],
          "name": "stdout"
        },
        {
          "output_type": "stream",
          "text": [
            "Epoch: 75 Accuracy: 0.94196 Loss: 0.18207 : 100%|█████████████████| 224/224 [00:15<00:00, 14.54it/s]\n",
            "Epoch: 76 Accuracy: 1.00000 Loss: 0.02076 :   1%|▏                  | 2/224 [00:00<00:14, 15.20it/s]"
          ],
          "name": "stderr"
        },
        {
          "output_type": "stream",
          "text": [
            "Validation -- Accuracy: 0.88000 Loss: 0.04771 \n",
            "\n"
          ],
          "name": "stdout"
        },
        {
          "output_type": "stream",
          "text": [
            "Epoch: 76 Accuracy: 0.95536 Loss: 0.01070 : 100%|█████████████████| 224/224 [00:15<00:00, 14.60it/s]\n",
            "Epoch: 77 Accuracy: 1.00000 Loss: 0.01497 :   0%|                   | 1/224 [00:00<00:44,  5.04it/s]"
          ],
          "name": "stderr"
        },
        {
          "output_type": "stream",
          "text": [
            "Validation -- Accuracy: 0.90667 Loss: 0.04551 \n",
            "\n"
          ],
          "name": "stdout"
        },
        {
          "output_type": "stream",
          "text": [
            "Epoch: 77 Accuracy: 0.96875 Loss: 0.13119 : 100%|█████████████████| 224/224 [00:15<00:00, 14.64it/s]\n",
            "Epoch: 78 Accuracy: 1.00000 Loss: 0.01115 :   1%|▏                  | 2/224 [00:00<00:12, 18.09it/s]"
          ],
          "name": "stderr"
        },
        {
          "output_type": "stream",
          "text": [
            "Validation -- Accuracy: 0.90667 Loss: 0.04708 \n",
            "\n"
          ],
          "name": "stdout"
        },
        {
          "output_type": "stream",
          "text": [
            "Epoch: 78 Accuracy: 0.96429 Loss: 0.01312 : 100%|█████████████████| 224/224 [00:15<00:00, 14.69it/s]\n",
            "Epoch: 79 Accuracy: 1.00000 Loss: 0.02501 :   1%|▎                  | 3/224 [00:00<00:10, 20.27it/s]"
          ],
          "name": "stderr"
        },
        {
          "output_type": "stream",
          "text": [
            "Validation -- Accuracy: 0.89333 Loss: 0.04563 \n",
            "\n"
          ],
          "name": "stdout"
        },
        {
          "output_type": "stream",
          "text": [
            "Epoch: 79 Accuracy: 0.95536 Loss: 0.01088 : 100%|█████████████████| 224/224 [00:15<00:00, 14.80it/s]\n",
            "Epoch: 80 Accuracy: 1.00000 Loss: 0.52369 :   1%|▎                  | 3/224 [00:00<00:11, 19.04it/s]"
          ],
          "name": "stderr"
        },
        {
          "output_type": "stream",
          "text": [
            "Validation -- Accuracy: 0.88000 Loss: 0.03481 \n",
            "\n"
          ],
          "name": "stdout"
        },
        {
          "output_type": "stream",
          "text": [
            "Epoch: 80 Accuracy: 0.96875 Loss: 0.01771 : 100%|█████████████████| 224/224 [00:14<00:00, 14.94it/s]\n",
            "Epoch: 81 Accuracy: 1.00000 Loss: 0.02023 :   1%|▏                  | 2/224 [00:00<00:16, 13.39it/s]"
          ],
          "name": "stderr"
        },
        {
          "output_type": "stream",
          "text": [
            "Validation -- Accuracy: 0.89333 Loss: 0.04062 \n",
            "\n"
          ],
          "name": "stdout"
        },
        {
          "output_type": "stream",
          "text": [
            "Epoch: 81 Accuracy: 0.96875 Loss: 0.01711 : 100%|█████████████████| 224/224 [00:14<00:00, 15.16it/s]\n",
            "Epoch: 82 Accuracy: 1.00000 Loss: 0.13816 :   1%|▎                  | 3/224 [00:00<00:12, 17.39it/s]"
          ],
          "name": "stderr"
        },
        {
          "output_type": "stream",
          "text": [
            "Validation -- Accuracy: 0.89333 Loss: 0.03588 \n",
            "\n"
          ],
          "name": "stdout"
        },
        {
          "output_type": "stream",
          "text": [
            "Epoch: 82 Accuracy: 0.95982 Loss: 0.06882 : 100%|█████████████████| 224/224 [00:14<00:00, 15.07it/s]\n",
            "Epoch: 83 Accuracy: 1.00000 Loss: 0.00911 :   1%|▏                  | 2/224 [00:00<00:14, 15.75it/s]"
          ],
          "name": "stderr"
        },
        {
          "output_type": "stream",
          "text": [
            "Validation -- Accuracy: 0.92000 Loss: 0.04808 \n",
            "\n"
          ],
          "name": "stdout"
        },
        {
          "output_type": "stream",
          "text": [
            "Epoch: 83 Accuracy: 0.96429 Loss: 0.09075 : 100%|█████████████████| 224/224 [00:14<00:00, 15.01it/s]\n",
            "Epoch: 84 Accuracy: 1.00000 Loss: 0.02146 :   1%|▎                  | 3/224 [00:00<00:08, 24.78it/s]"
          ],
          "name": "stderr"
        },
        {
          "output_type": "stream",
          "text": [
            "Validation -- Accuracy: 0.85333 Loss: 0.02872 \n",
            "\n"
          ],
          "name": "stdout"
        },
        {
          "output_type": "stream",
          "text": [
            "Epoch: 84 Accuracy: 0.96875 Loss: 1.07327 : 100%|█████████████████| 224/224 [00:14<00:00, 15.11it/s]\n",
            "Epoch: 85 Accuracy: 1.00000 Loss: 0.01655 :   1%|▏                  | 2/224 [00:00<00:11, 19.41it/s]"
          ],
          "name": "stderr"
        },
        {
          "output_type": "stream",
          "text": [
            "Validation -- Accuracy: 0.89333 Loss: 0.03475 \n",
            "\n"
          ],
          "name": "stdout"
        },
        {
          "output_type": "stream",
          "text": [
            "Epoch: 85 Accuracy: 0.95982 Loss: 0.02659 : 100%|█████████████████| 224/224 [00:14<00:00, 15.25it/s]\n",
            "Epoch: 86 Accuracy: 1.00000 Loss: 0.01065 :   1%|▏                  | 2/224 [00:00<00:19, 11.54it/s]"
          ],
          "name": "stderr"
        },
        {
          "output_type": "stream",
          "text": [
            "Validation -- Accuracy: 0.88000 Loss: 0.03298 \n",
            "\n"
          ],
          "name": "stdout"
        },
        {
          "output_type": "stream",
          "text": [
            "Epoch: 86 Accuracy: 0.97768 Loss: 0.04589 : 100%|█████████████████| 224/224 [00:14<00:00, 15.16it/s]\n",
            "Epoch: 87 Accuracy: 1.00000 Loss: 0.02684 :   1%|▏                  | 2/224 [00:00<00:15, 14.52it/s]"
          ],
          "name": "stderr"
        },
        {
          "output_type": "stream",
          "text": [
            "Validation -- Accuracy: 0.89333 Loss: 0.03153 \n",
            "\n"
          ],
          "name": "stdout"
        },
        {
          "output_type": "stream",
          "text": [
            "Epoch: 87 Accuracy: 0.96875 Loss: 0.01539 : 100%|█████████████████| 224/224 [00:14<00:00, 15.13it/s]\n",
            "Epoch: 88 Accuracy: 1.00000 Loss: 0.28802 :   0%|                   | 1/224 [00:00<00:26,  8.27it/s]"
          ],
          "name": "stderr"
        },
        {
          "output_type": "stream",
          "text": [
            "Validation -- Accuracy: 0.92000 Loss: 0.03229 \n",
            "\n"
          ],
          "name": "stdout"
        },
        {
          "output_type": "stream",
          "text": [
            "Epoch: 88 Accuracy: 0.95536 Loss: 0.01529 : 100%|█████████████████| 224/224 [00:14<00:00, 15.11it/s]\n",
            "Epoch: 89 Accuracy: 0.33333 Loss: 1.52839 :   1%|▏                  | 2/224 [00:00<00:14, 14.95it/s]"
          ],
          "name": "stderr"
        },
        {
          "output_type": "stream",
          "text": [
            "Validation -- Accuracy: 0.92000 Loss: 0.02337 \n",
            "\n"
          ],
          "name": "stdout"
        },
        {
          "output_type": "stream",
          "text": [
            "Epoch: 89 Accuracy: 0.96875 Loss: 0.05715 : 100%|█████████████████| 224/224 [00:14<00:00, 15.15it/s]\n",
            "Epoch: 90 Accuracy: 1.00000 Loss: 0.08224 :   1%|▏                  | 2/224 [00:00<00:12, 17.88it/s]"
          ],
          "name": "stderr"
        },
        {
          "output_type": "stream",
          "text": [
            "Validation -- Accuracy: 0.90667 Loss: 0.02022 \n",
            "\n"
          ],
          "name": "stdout"
        },
        {
          "output_type": "stream",
          "text": [
            "Epoch: 90 Accuracy: 0.96875 Loss: 0.21277 : 100%|█████████████████| 224/224 [00:14<00:00, 15.06it/s]\n",
            "Epoch: 91 Accuracy: 1.00000 Loss: 0.01207 :   1%|▏                  | 2/224 [00:00<00:17, 12.65it/s]"
          ],
          "name": "stderr"
        },
        {
          "output_type": "stream",
          "text": [
            "Validation -- Accuracy: 0.92000 Loss: 0.03290 \n",
            "\n"
          ],
          "name": "stdout"
        },
        {
          "output_type": "stream",
          "text": [
            "Epoch: 91 Accuracy: 0.96429 Loss: 0.37859 : 100%|█████████████████| 224/224 [00:14<00:00, 15.22it/s]\n",
            "Epoch: 92 Accuracy: 1.00000 Loss: 0.01015 :   1%|▏                  | 2/224 [00:00<00:17, 12.83it/s]"
          ],
          "name": "stderr"
        },
        {
          "output_type": "stream",
          "text": [
            "Validation -- Accuracy: 0.90667 Loss: 0.02668 \n",
            "\n"
          ],
          "name": "stdout"
        },
        {
          "output_type": "stream",
          "text": [
            "Epoch: 92 Accuracy: 0.98214 Loss: 0.00707 : 100%|█████████████████| 224/224 [00:14<00:00, 15.15it/s]\n",
            "Epoch: 93 Accuracy: 0.66667 Loss: 0.02644 :   1%|▏                  | 2/224 [00:00<00:13, 16.94it/s]"
          ],
          "name": "stderr"
        },
        {
          "output_type": "stream",
          "text": [
            "Validation -- Accuracy: 0.89333 Loss: 0.03497 \n",
            "\n"
          ],
          "name": "stdout"
        },
        {
          "output_type": "stream",
          "text": [
            "Epoch: 93 Accuracy: 0.95982 Loss: 0.05825 : 100%|█████████████████| 224/224 [00:14<00:00, 15.14it/s]\n",
            "Epoch: 94 Accuracy: 1.00000 Loss: 0.01151 :   1%|▎                  | 3/224 [00:00<00:11, 19.60it/s]"
          ],
          "name": "stderr"
        },
        {
          "output_type": "stream",
          "text": [
            "Validation -- Accuracy: 0.84000 Loss: 0.02532 \n",
            "\n"
          ],
          "name": "stdout"
        },
        {
          "output_type": "stream",
          "text": [
            "Epoch: 94 Accuracy: 0.97768 Loss: 0.06237 : 100%|█████████████████| 224/224 [00:15<00:00, 14.64it/s]\n",
            "Epoch: 95 Accuracy: 1.00000 Loss: 0.00976 :   0%|                           | 0/224 [00:00<?, ?it/s]"
          ],
          "name": "stderr"
        },
        {
          "output_type": "stream",
          "text": [
            "Validation -- Accuracy: 0.93333 Loss: 0.03096 \n",
            "\n"
          ],
          "name": "stdout"
        },
        {
          "output_type": "stream",
          "text": [
            "Epoch: 95 Accuracy: 0.98661 Loss: 0.00957 : 100%|█████████████████| 224/224 [00:14<00:00, 14.94it/s]\n",
            "Epoch: 96 Accuracy: 1.00000 Loss: 0.03582 :   1%|▏                  | 2/224 [00:00<00:12, 17.35it/s]"
          ],
          "name": "stderr"
        },
        {
          "output_type": "stream",
          "text": [
            "Validation -- Accuracy: 0.92000 Loss: 0.02770 \n",
            "\n"
          ],
          "name": "stdout"
        },
        {
          "output_type": "stream",
          "text": [
            "Epoch: 96 Accuracy: 0.95089 Loss: 0.00634 : 100%|█████████████████| 224/224 [00:14<00:00, 15.13it/s]\n",
            "Epoch: 97 Accuracy: 1.00000 Loss: 0.01238 :   1%|▏                  | 2/224 [00:00<00:15, 14.61it/s]"
          ],
          "name": "stderr"
        },
        {
          "output_type": "stream",
          "text": [
            "Validation -- Accuracy: 0.93333 Loss: 0.03285 \n",
            "\n"
          ],
          "name": "stdout"
        },
        {
          "output_type": "stream",
          "text": [
            "Epoch: 97 Accuracy: 0.97768 Loss: 0.13375 : 100%|█████████████████| 224/224 [00:14<00:00, 15.14it/s]\n",
            "Epoch: 98 Accuracy: 1.00000 Loss: 0.01844 :   1%|▏                  | 2/224 [00:00<00:18, 12.29it/s]"
          ],
          "name": "stderr"
        },
        {
          "output_type": "stream",
          "text": [
            "Validation -- Accuracy: 0.92000 Loss: 0.02752 \n",
            "\n"
          ],
          "name": "stdout"
        },
        {
          "output_type": "stream",
          "text": [
            "Epoch: 98 Accuracy: 0.96429 Loss: 0.01554 : 100%|█████████████████| 224/224 [00:14<00:00, 15.10it/s]\n",
            "Epoch: 99 Accuracy: 1.00000 Loss: 0.00815 :   1%|▏                  | 2/224 [00:00<00:17, 12.71it/s]"
          ],
          "name": "stderr"
        },
        {
          "output_type": "stream",
          "text": [
            "Validation -- Accuracy: 0.90667 Loss: 0.03101 \n",
            "\n"
          ],
          "name": "stdout"
        },
        {
          "output_type": "stream",
          "text": [
            "Epoch: 99 Accuracy: 0.98661 Loss: 0.01957 : 100%|█████████████████| 224/224 [00:14<00:00, 14.98it/s]\n",
            "Epoch: 100 Accuracy: 1.00000 Loss: 0.11530 :   1%|▏                 | 2/224 [00:00<00:11, 19.45it/s]"
          ],
          "name": "stderr"
        },
        {
          "output_type": "stream",
          "text": [
            "Validation -- Accuracy: 0.92000 Loss: 0.03670 \n",
            "\n"
          ],
          "name": "stdout"
        },
        {
          "output_type": "stream",
          "text": [
            "Epoch: 100 Accuracy: 0.95536 Loss: 0.15888 : 100%|████████████████| 224/224 [00:14<00:00, 15.05it/s]\n"
          ],
          "name": "stderr"
        },
        {
          "output_type": "stream",
          "text": [
            "Validation -- Accuracy: 0.92000 Loss: 0.03096 \n",
            "\n"
          ],
          "name": "stdout"
        }
      ]
    },
    {
      "cell_type": "code",
      "metadata": {
        "colab": {
          "base_uri": "https://localhost:8080/",
          "height": 283
        },
        "id": "rpupTOMPlWD8",
        "outputId": "05f3161d-737d-4edc-ee0e-6d1ee0dd7c90"
      },
      "source": [
        "history = pd.DataFrame({\"Train\":TRAINING_acc,\"Validation\":VALIDATION_acc})\n",
        "history.plot()"
      ],
      "execution_count": 20,
      "outputs": [
        {
          "output_type": "execute_result",
          "data": {
            "text/plain": [
              "<matplotlib.axes._subplots.AxesSubplot at 0x7f1c58493f60>"
            ]
          },
          "metadata": {
            "tags": []
          },
          "execution_count": 20
        },
        {
          "output_type": "display_data",
          "data": {
            "image/png": "[encoded data removed]",
            "text/plain": [
              "<Figure size 432x288 with 1 Axes>"
            ]
          },
          "metadata": {
            "tags": [],
            "needs_background": "light"
          }
        }
      ]
    },
    {
      "cell_type": "code",
      "metadata": {
        "colab": {
          "base_uri": "https://localhost:8080/"
        },
        "id": "_PV_uLtQnaO4",
        "outputId": "a7fe3393-beaa-43b5-c099-48a9190c1aaa"
      },
      "source": [
        "!ls"
      ],
      "execution_count": 21,
      "outputs": [
        {
          "output_type": "stream",
          "text": [
            "checkpoint_resnet18_10_0.62667.ph  checkpoint_resnet18_23_0.88000.ph\n",
            "checkpoint_resnet18_1_0.41333.ph   checkpoint_resnet18_26_0.89333.ph\n",
            "checkpoint_resnet18_11_0.72000.ph  checkpoint_resnet18_42_0.90667.ph\n",
            "checkpoint_resnet18_12_0.73333.ph  checkpoint_resnet18_48_0.92000.ph\n",
            "checkpoint_resnet18_13_0.74667.ph  checkpoint_resnet18_9_0.42667.ph\n",
            "checkpoint_resnet18_14_0.76000.ph  checkpoint_resnet18_94_0.93333.ph\n",
            "checkpoint_resnet18_15_0.78667.ph  OpticDiscs\n",
            "checkpoint_resnet18_17_0.85333.ph  test_data.csv\n"
          ],
          "name": "stdout"
        }
      ]
    },
    {
      "cell_type": "code",
      "metadata": {
        "id": "VumKHi2Snf4F"
      },
      "source": [
        "torch.save(model,\"checkpoint.ph\")"
      ],
      "execution_count": null,
      "outputs": []
    },
    {
      "cell_type": "code",
      "metadata": {
        "colab": {
          "base_uri": "https://localhost:8080/"
        },
        "id": "iYI16QYGyqLF",
        "outputId": "98d1f7ea-6778-4672-ffa9-4deb17f7d668"
      },
      "source": [
        "for c in y:\n",
        "  print(c)"
      ],
      "execution_count": null,
      "outputs": [
        {
          "output_type": "stream",
          "text": [
            "1\n"
          ],
          "name": "stdout"
        }
      ]
    },
    {
      "cell_type": "markdown",
      "metadata": {
        "id": "Hv2fODvHJlIM"
      },
      "source": [
        "## Evaluation"
      ]
    },
    {
      "cell_type": "code",
      "metadata": {
        "id": "5ennB90UVVmb"
      },
      "source": [
        "model = torch.load('checkpoint_resnet18_23_0.88000.ph')"
      ],
      "execution_count": 35,
      "outputs": []
    },
    {
      "cell_type": "code",
      "metadata": {
        "id": "VLd2H4FrJnXo"
      },
      "source": [
        "from sklearn.metrics import confusion_matrix\n",
        "import numpy as np"
      ],
      "execution_count": 36,
      "outputs": []
    },
    {
      "cell_type": "code",
      "metadata": {
        "id": "v6nVWUqYJoDh"
      },
      "source": [
        "predicted = []\n",
        "true_values = []\n",
        "all_predicted = []\n",
        "all_true = []\n",
        "for point in range(len(X_test)//batch_size):\n",
        "    with torch.no_grad():\n",
        "\n",
        "        X = X_test.iloc[point*batch_size:(point+1)*batch_size]\n",
        "        y = y_test.iloc[point*batch_size:(point+1)*batch_size]\n",
        "\n",
        "        true_values.append(y.values)\n",
        "        # Load images\n",
        "        try:\n",
        "            images = [Image.open(File) for File in X]\n",
        "        except:\n",
        "            continue\n",
        "        # Load y_true\n",
        "        y_true = torch.LongTensor([c for c in y]).to(device)\n",
        "        \n",
        "        # Convert images to tensor\n",
        "        x_batch = torch.FloatTensor().to(device)\n",
        "        for image in images:\n",
        "            P = composed(image).unsqueeze(0).to(device)\n",
        "            x_batch = torch.cat((x_batch,P))\n",
        "\n",
        "        \n",
        "        outputs = model(x_batch)\n",
        "        loss = criterion(outputs, y_true)\n",
        "        all_predicted.append(outputs.cpu().detach().numpy()[0][1])\n",
        "        all_true.append(y_true.cpu().detach().numpy()[0])\n",
        "        \n",
        "        _, preds = torch.max(outputs, 1)\n",
        "        predicted.append(preds)"
      ],
      "execution_count": 37,
      "outputs": []
    },
    {
      "cell_type": "code",
      "metadata": {
        "id": "NwUWGj_IKoup"
      },
      "source": [
        "true_values = np.array(true_values).reshape(-1)\n",
        "dummy = torch.FloatTensor().to(device)\n",
        "for tensor in predicted:\n",
        "    dummy = torch.cat((dummy,tensor))\n",
        "predicted = dummy.view(-1).cpu().numpy()"
      ],
      "execution_count": 38,
      "outputs": []
    },
    {
      "cell_type": "code",
      "metadata": {
        "colab": {
          "base_uri": "https://localhost:8080/"
        },
        "id": "FjxNUd7jk_-j",
        "outputId": "9b11f521-7182-4b57-cb9a-5cbb19a2fe12"
      },
      "source": [
        "confusion_matrix(true_values, predicted)"
      ],
      "execution_count": 39,
      "outputs": [
        {
          "output_type": "execute_result",
          "data": {
            "text/plain": [
              "array([[29,  8],\n",
              "       [ 4, 34]])"
            ]
          },
          "metadata": {
            "tags": []
          },
          "execution_count": 39
        }
      ]
    },
    {
      "cell_type": "code",
      "metadata": {
        "id": "ukHy0FRQBGil",
        "outputId": "767c6509-fc21-4fea-8b33-597c294cbf1e",
        "colab": {
          "base_uri": "https://localhost:8080/",
          "height": 297
        }
      },
      "source": [
        "from sklearn.metrics import roc_curve\r\n",
        "import matplotlib.pyplot as plt\r\n",
        "from sklearn.metrics import roc_auc_score\r\n",
        "\r\n",
        "ns_fpr, ns_tpr, _ = roc_curve(all_true, all_predicted)\r\n",
        "plt.plot(ns_fpr,ns_tpr)\r\n",
        "plt.xlabel(\"FPR\")\r\n",
        "plt.ylabel(\"TPR\")\r\n",
        "print(roc_auc_score(all_true, all_predicted))"
      ],
      "execution_count": 40,
      "outputs": [
        {
          "output_type": "stream",
          "text": [
            "0.9139402560455191\n"
          ],
          "name": "stdout"
        },
        {
          "output_type": "display_data",
          "data": {
            "image/png": "[encoded data removed]",
            "text/plain": [
              "<Figure size 432x288 with 1 Axes>"
            ]
          },
          "metadata": {
            "tags": [],
            "needs_background": "light"
          }
        }
      ]
    },
    {
      "cell_type": "code",
      "metadata": {
        "id": "mDLX21NQMsD7"
      },
      "source": [
        "!mkdir Results\r\n",
        "roc_data = pd.DataFrame(data = {\"ns_fpr\":ns_fpr,\"ns_tpr\":ns_tpr})\r\n",
        "roc_data.to_csv(\"./Results/\"+network_name+\".csv\")"
      ],
      "execution_count": 28,
      "outputs": []
    },
    {
      "cell_type": "code",
      "metadata": {
        "id": "cSi7ogm5W0ic"
      },
      "source": [
        ""
      ],
      "execution_count": null,
      "outputs": []
    }
  ]
}