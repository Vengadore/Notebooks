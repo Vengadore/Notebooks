{
  "nbformat": 4,
  "nbformat_minor": 0,
  "metadata": {
    "kernelspec": {
      "display_name": "Python 3",
      "language": "python",
      "name": "python3"
    },
    "language_info": {
      "codemirror_mode": {
        "name": "ipython",
        "version": 3
      },
      "file_extension": ".py",
      "mimetype": "text/x-python",
      "name": "python",
      "nbconvert_exporter": "python",
      "pygments_lexer": "ipython3",
      "version": "3.7.9"
    },
    "colab": {
      "name": "UnetSegmentation.ipynb",
      "provenance": [],
      "toc_visible": true,
      "include_colab_link": true
    },
    "accelerator": "GPU"
  },
  "cells": [
    {
      "cell_type": "markdown",
      "metadata": {
        "id": "view-in-github",
        "colab_type": "text"
      },
      "source": [
        "<a href=\"https://colab.research.google.com/github/Vengadore/Notebooks/blob/master/UnetSegmentation.ipynb\" target=\"_parent\"><img src=\"https://colab.research.google.com/assets/colab-badge.svg\" alt=\"Open In Colab\"/></a>"
      ]
    },
    {
      "cell_type": "code",
      "metadata": {
        "id": "EQDr68m233Yr",
        "outputId": "940b5adb-111f-4796-c701-82c3f6889949",
        "colab": {
          "base_uri": "https://localhost:8080/",
          "height": 364
        }
      },
      "source": [
        "!nvidia-smi\n",
        "!rm -rf *"
      ],
      "execution_count": 1,
      "outputs": [
        {
          "output_type": "stream",
          "text": [
            "Tue Oct 20 04:19:50 2020       \n",
            "+-----------------------------------------------------------------------------+\n",
            "| NVIDIA-SMI 455.23.05    Driver Version: 418.67       CUDA Version: 10.1     |\n",
            "|-------------------------------+----------------------+----------------------+\n",
            "| GPU  Name        Persistence-M| Bus-Id        Disp.A | Volatile Uncorr. ECC |\n",
            "| Fan  Temp  Perf  Pwr:Usage/Cap|         Memory-Usage | GPU-Util  Compute M. |\n",
            "|                               |                      |               MIG M. |\n",
            "|===============================+======================+======================|\n",
            "|   0  Tesla P100-PCIE...  Off  | 00000000:00:04.0 Off |                    0 |\n",
            "| N/A   38C    P0    26W / 250W |      0MiB / 16280MiB |      0%      Default |\n",
            "|                               |                      |                 ERR! |\n",
            "+-------------------------------+----------------------+----------------------+\n",
            "                                                                               \n",
            "+-----------------------------------------------------------------------------+\n",
            "| Processes:                                                                  |\n",
            "|  GPU   GI   CI        PID   Type   Process name                  GPU Memory |\n",
            "|        ID   ID                                                   Usage      |\n",
            "|=============================================================================|\n",
            "|  No running processes found                                                 |\n",
            "+-----------------------------------------------------------------------------+\n"
          ],
          "name": "stdout"
        }
      ]
    },
    {
      "cell_type": "code",
      "metadata": {
        "id": "9Zfz1fk63yby",
        "outputId": "27b87590-bc85-42aa-9928-924152498761",
        "colab": {
          "base_uri": "https://localhost:8080/",
          "height": 1000
        }
      },
      "source": [
        "!wget \"https://correoipn-my.sharepoint.com/:u:/g/personal/ccarrillog1400_alumno_ipn_mx/ERgktnjHms9DroR01IFSAsEBGQipq3SG8sjTZUSEQuRK9Q?download=1\"\n",
        "!mv \"ERgktnjHms9DroR01IFSAsEBGQipq3SG8sjTZUSEQuRK9Q?download=1\" \"DRIVE.rar\"\n",
        "!unrar x DRIVE.rar\n",
        "!rm \"DRIVE.rar\""
      ],
      "execution_count": 2,
      "outputs": [
        {
          "output_type": "stream",
          "text": [
            "--2020-10-20 04:19:52--  https://correoipn-my.sharepoint.com/:u:/g/personal/ccarrillog1400_alumno_ipn_mx/ERgktnjHms9DroR01IFSAsEBGQipq3SG8sjTZUSEQuRK9Q?download=1\n",
            "Resolving correoipn-my.sharepoint.com (correoipn-my.sharepoint.com)... 13.107.136.9\n",
            "Connecting to correoipn-my.sharepoint.com (correoipn-my.sharepoint.com)|13.107.136.9|:443... connected.\n",
            "HTTP request sent, awaiting response... 302 Found\n",
            "Location: /personal/ccarrillog1400_alumno_ipn_mx/Documents/Data%20Bases/Other%20Databases/DRIVE.rar?originalPath=aHR0cHM6Ly9jb3JyZW9pcG4tbXkuc2hhcmVwb2ludC5jb20vOnU6L2cvcGVyc29uYWwvY2NhcnJpbGxvZzE0MDBfYWx1bW5vX2lwbl9teC9FUmdrdG5qSG1zOURyb1IwMUlGU0FzRUJHUWlwcTNTRzhzalRaVVNFUXVSSzlRP3J0aW1lPThHRjVaSzkwMkVn [following]\n",
            "--2020-10-20 04:19:52--  https://correoipn-my.sharepoint.com/personal/ccarrillog1400_alumno_ipn_mx/Documents/Data%20Bases/Other%20Databases/DRIVE.rar?originalPath=aHR0cHM6Ly9jb3JyZW9pcG4tbXkuc2hhcmVwb2ludC5jb20vOnU6L2cvcGVyc29uYWwvY2NhcnJpbGxvZzE0MDBfYWx1bW5vX2lwbl9teC9FUmdrdG5qSG1zOURyb1IwMUlGU0FzRUJHUWlwcTNTRzhzalRaVVNFUXVSSzlRP3J0aW1lPThHRjVaSzkwMkVn\n",
            "Reusing existing connection to correoipn-my.sharepoint.com:443.\n",
            "HTTP request sent, awaiting response... 200 OK\n",
            "Length: 29611503 (28M) [application/octet-stream]\n",
            "Saving to: ‘ERgktnjHms9DroR01IFSAsEBGQipq3SG8sjTZUSEQuRK9Q?download=1’\n",
            "\n",
            "ERgktnjHms9DroR01IF 100%[===================>]  28.24M  59.2MB/s    in 0.5s    \n",
            "\n",
            "2020-10-20 04:19:53 (59.2 MB/s) - ‘ERgktnjHms9DroR01IFSAsEBGQipq3SG8sjTZUSEQuRK9Q?download=1’ saved [29611503/29611503]\n",
            "\n",
            "\n",
            "UNRAR 5.50 freeware      Copyright (c) 1993-2017 Alexander Roshal\n",
            "\n",
            "\n",
            "Extracting from DRIVE.rar\n",
            "\n",
            "Creating    test                                                      OK\n",
            "Creating    test/1st_manual                                           OK\n",
            "Extracting  test/1st_manual/01_manual1.tif                               \b\b\b\b  0%\b\b\b\b\b  OK \n",
            "Extracting  test/1st_manual/02_manual1.tif                               \b\b\b\b  0%\b\b\b\b\b  OK \n",
            "Extracting  test/1st_manual/03_manual1.tif                               \b\b\b\b  0%\b\b\b\b\b  OK \n",
            "Extracting  test/1st_manual/04_manual1.tif                               \b\b\b\b  0%\b\b\b\b\b  OK \n",
            "Extracting  test/1st_manual/05_manual1.tif                               \b\b\b\b  0%\b\b\b\b\b  OK \n",
            "Extracting  test/1st_manual/06_manual1.tif                               \b\b\b\b  0%\b\b\b\b\b  OK \n",
            "Extracting  test/1st_manual/07_manual1.tif                               \b\b\b\b  0%\b\b\b\b\b  OK \n",
            "Extracting  test/1st_manual/08_manual1.tif                               \b\b\b\b  0%\b\b\b\b\b  OK \n",
            "Extracting  test/1st_manual/09_manual1.tif                               \b\b\b\b  0%\b\b\b\b\b  OK \n",
            "Extracting  test/1st_manual/10_manual1.tif                               \b\b\b\b  0%\b\b\b\b\b  OK \n",
            "Extracting  test/1st_manual/11_manual1.tif                               \b\b\b\b  0%\b\b\b\b\b  OK \n",
            "Extracting  test/1st_manual/12_manual1.tif                               \b\b\b\b  0%\b\b\b\b\b  OK \n",
            "Extracting  test/1st_manual/13_manual1.tif                               \b\b\b\b  0%\b\b\b\b\b  OK \n",
            "Extracting  test/1st_manual/14_manual1.tif                               \b\b\b\b  0%\b\b\b\b\b  OK \n",
            "Extracting  test/1st_manual/15_manual1.tif                               \b\b\b\b  0%\b\b\b\b\b  OK \n",
            "Extracting  test/1st_manual/16_manual1.tif                               \b\b\b\b  0%\b\b\b\b\b  OK \n",
            "Extracting  test/1st_manual/17_manual1.tif                               \b\b\b\b  0%\b\b\b\b\b  OK \n",
            "Extracting  test/1st_manual/18_manual1.tif                               \b\b\b\b  0%\b\b\b\b\b  OK \n",
            "Extracting  test/1st_manual/19_manual1.tif                               \b\b\b\b  0%\b\b\b\b\b  OK \n",
            "Extracting  test/1st_manual/20_manual1.tif                               \b\b\b\b  0%\b\b\b\b\b  OK \n",
            "Creating    test/2nd_manual                                           OK\n",
            "Extracting  test/2nd_manual/01_manual2.tif                               \b\b\b\b  0%\b\b\b\b\b  OK \n",
            "Extracting  test/2nd_manual/02_manual2.tif                               \b\b\b\b  0%\b\b\b\b\b  OK \n",
            "Extracting  test/2nd_manual/03_manual2.tif                               \b\b\b\b  0%\b\b\b\b\b  OK \n",
            "Extracting  test/2nd_manual/04_manual2.tif                               \b\b\b\b  0%\b\b\b\b\b  OK \n",
            "Extracting  test/2nd_manual/05_manual2.tif                               \b\b\b\b  0%\b\b\b\b\b  OK \n",
            "Extracting  test/2nd_manual/06_manual2.tif                               \b\b\b\b  0%\b\b\b\b\b  OK \n",
            "Extracting  test/2nd_manual/07_manual2.tif                               \b\b\b\b  0%\b\b\b\b\b  OK \n",
            "Extracting  test/2nd_manual/08_manual2.tif                               \b\b\b\b  1%\b\b\b\b\b  OK \n",
            "Extracting  test/2nd_manual/09_manual2.tif                               \b\b\b\b  1%\b\b\b\b\b  OK \n",
            "Extracting  test/2nd_manual/10_manual2.tif                               \b\b\b\b  1%\b\b\b\b\b  OK \n",
            "Extracting  test/2nd_manual/11_manual2.tif                               \b\b\b\b  1%\b\b\b\b\b  OK \n",
            "Extracting  test/2nd_manual/12_manual2.tif                               \b\b\b\b  1%\b\b\b\b\b  OK \n",
            "Extracting  test/2nd_manual/13_manual2.tif                               \b\b\b\b  1%\b\b\b\b\b  OK \n",
            "Extracting  test/2nd_manual/14_manual2.tif                               \b\b\b\b  1%\b\b\b\b\b  OK \n",
            "Extracting  test/2nd_manual/15_manual2.tif                               \b\b\b\b  1%\b\b\b\b\b  OK \n",
            "Extracting  test/2nd_manual/16_manual2.tif                               \b\b\b\b  1%\b\b\b\b\b  OK \n",
            "Extracting  test/2nd_manual/17_manual2.tif                               \b\b\b\b  1%\b\b\b\b\b  OK \n",
            "Extracting  test/2nd_manual/18_manual2.tif                               \b\b\b\b  1%\b\b\b\b\b  OK \n",
            "Extracting  test/2nd_manual/19_manual2.tif                               \b\b\b\b  1%\b\b\b\b\b  OK \n",
            "Extracting  test/2nd_manual/20_manual2.tif                               \b\b\b\b  1%\b\b\b\b\b  OK \n",
            "Creating    test/images                                               OK\n",
            "Extracting  test/images/01_test.tif                                      \b\b\b\b  3%\b\b\b\b\b  OK \n",
            "Extracting  test/images/02_test.tif                                      \b\b\b\b  6%\b\b\b\b\b  OK \n",
            "Extracting  test/images/03_test.tif                                      \b\b\b\b  8%\b\b\b\b\b  OK \n",
            "Extracting  test/images/04_test.tif                                      \b\b\b\b 10%\b\b\b\b\b  OK \n",
            "Extracting  test/images/05_test.tif                                      \b\b\b\b 13%\b\b\b\b\b  OK \n",
            "Extracting  test/images/06_test.tif                                      \b\b\b\b 15%\b\b\b\b\b  OK \n",
            "Extracting  test/images/07_test.tif                                      \b\b\b\b 18%\b\b\b\b\b  OK \n",
            "Extracting  test/images/08_test.tif                                      \b\b\b\b 20%\b\b\b\b\b  OK \n",
            "Extracting  test/images/09_test.tif                                      \b\b\b\b 23%\b\b\b\b\b  OK \n",
            "Extracting  test/images/10_test.tif                                      \b\b\b\b 25%\b\b\b\b\b  OK \n",
            "Extracting  test/images/11_test.tif                                      \b\b\b\b 28%\b\b\b\b\b  OK \n",
            "Extracting  test/images/12_test.tif                                      \b\b\b\b 30%\b\b\b\b\b  OK \n",
            "Extracting  test/images/13_test.tif                                      \b\b\b\b 32%\b\b\b\b\b  OK \n",
            "Extracting  test/images/14_test.tif                                      \b\b\b\b 35%\b\b\b\b\b  OK \n",
            "Extracting  test/images/15_test.tif                                      \b\b\b\b 38%\b\b\b\b\b  OK \n",
            "Extracting  test/images/16_test.tif                                      \b\b\b\b 40%\b\b\b\b\b  OK \n",
            "Extracting  test/images/17_test.tif                                      \b\b\b\b 43%\b\b\b\b\b  OK \n",
            "Extracting  test/images/18_test.tif                                      \b\b\b\b 45%\b\b\b\b\b  OK \n",
            "Extracting  test/images/19_test.tif                                      \b\b\b\b 47%\b\b\b\b\b  OK \n",
            "Extracting  test/images/20_test.tif                                      \b\b\b\b 50%\b\b\b\b\b  OK \n",
            "Creating    test/mask                                                 OK\n",
            "Extracting  test/mask/01_test_mask.tif                                   \b\b\b\b 50%\b\b\b\b\b  OK \n",
            "Extracting  test/mask/02_test_mask.tif                                   \b\b\b\b 50%\b\b\b\b\b  OK \n",
            "Extracting  test/mask/03_test_mask.tif                                   \b\b\b\b 50%\b\b\b\b\b  OK \n",
            "Extracting  test/mask/04_test_mask.tif                                   \b\b\b\b 50%\b\b\b\b\b  OK \n",
            "Extracting  test/mask/05_test_mask.tif                                   \b\b\b\b 50%\b\b\b\b\b  OK \n",
            "Extracting  test/mask/06_test_mask.tif                                   \b\b\b\b 50%\b\b\b\b\b  OK \n",
            "Extracting  test/mask/07_test_mask.tif                                   \b\b\b\b 50%\b\b\b\b\b  OK \n",
            "Extracting  test/mask/08_test_mask.tif                                   \b\b\b\b 50%\b\b\b\b\b  OK \n",
            "Extracting  test/mask/09_test_mask.tif                                   \b\b\b\b 50%\b\b\b\b\b  OK \n",
            "Extracting  test/mask/10_test_mask.tif                                   \b\b\b\b 50%\b\b\b\b\b  OK \n",
            "Extracting  test/mask/11_test_mask.tif                                   \b\b\b\b 50%\b\b\b\b\b  OK \n",
            "Extracting  test/mask/12_test_mask.tif                                   \b\b\b\b 50%\b\b\b\b\b  OK \n",
            "Extracting  test/mask/13_test_mask.tif                                   \b\b\b\b 50%\b\b\b\b\b  OK \n",
            "Extracting  test/mask/14_test_mask.tif                                   \b\b\b\b 50%\b\b\b\b\b  OK \n",
            "Extracting  test/mask/15_test_mask.tif                                   \b\b\b\b 50%\b\b\b\b\b  OK \n",
            "Extracting  test/mask/16_test_mask.tif                                   \b\b\b\b 50%\b\b\b\b\b  OK \n",
            "Extracting  test/mask/17_test_mask.tif                                   \b\b\b\b 50%\b\b\b\b\b  OK \n",
            "Extracting  test/mask/18_test_mask.tif                                   \b\b\b\b 50%\b\b\b\b\b  OK \n",
            "Extracting  test/mask/19_test_mask.tif                                   \b\b\b\b 50%\b\b\b\b\b  OK \n",
            "Extracting  test/mask/20_test_mask.tif                                   \b\b\b\b 50%\b\b\b\b\b  OK \n",
            "Creating    training                                                  OK\n",
            "Creating    training/1st_manual                                       OK\n",
            "Extracting  training/1st_manual/21_manual1.tif                           \b\b\b\b 50%\b\b\b\b\b  OK \n",
            "Extracting  training/1st_manual/22_manual1.tif                           \b\b\b\b 50%\b\b\b\b\b  OK \n",
            "Extracting  training/1st_manual/23_manual1.tif                           \b\b\b\b 50%\b\b\b\b\b  OK \n",
            "Extracting  training/1st_manual/24_manual1.tif                           \b\b\b\b 50%\b\b\b\b\b  OK \n",
            "Extracting  training/1st_manual/25_manual1.tif                           \b\b\b\b 50%\b\b\b\b\b  OK \n",
            "Extracting  training/1st_manual/26_manual1.tif                           \b\b\b\b 50%\b\b\b\b\b  OK \n",
            "Extracting  training/1st_manual/27_manual1.tif                           \b\b\b\b 50%\b\b\b\b\b  OK \n",
            "Extracting  training/1st_manual/28_manual1.tif                           \b\b\b\b 50%\b\b\b\b\b  OK \n",
            "Extracting  training/1st_manual/29_manual1.tif                           \b\b\b\b 50%\b\b\b\b\b  OK \n",
            "Extracting  training/1st_manual/30_manual1.tif                           \b\b\b\b 50%\b\b\b\b\b  OK \n",
            "Extracting  training/1st_manual/31_manual1.tif                           \b\b\b\b 50%\b\b\b\b\b  OK \n",
            "Extracting  training/1st_manual/32_manual1.tif                           \b\b\b\b 50%\b\b\b\b\b  OK \n",
            "Extracting  training/1st_manual/33_manual1.tif                           \b\b\b\b 50%\b\b\b\b\b  OK \n",
            "Extracting  training/1st_manual/34_manual1.tif                           \b\b\b\b 50%\b\b\b\b\b  OK \n",
            "Extracting  training/1st_manual/35_manual1.tif                           \b\b\b\b 50%\b\b\b\b\b  OK \n",
            "Extracting  training/1st_manual/36_manual1.tif                           \b\b\b\b 50%\b\b\b\b\b  OK \n",
            "Extracting  training/1st_manual/37_manual1.tif                           \b\b\b\b 51%\b\b\b\b\b  OK \n",
            "Extracting  training/1st_manual/38_manual1.tif                           \b\b\b\b 51%\b\b\b\b\b  OK \n",
            "Extracting  training/1st_manual/39_manual1.tif                           \b\b\b\b 51%\b\b\b\b\b  OK \n",
            "Extracting  training/1st_manual/40_manual1.tif                           \b\b\b\b 51%\b\b\b\b\b  OK \n",
            "Creating    training/images                                           OK\n",
            "Extracting  training/images/21_training.tif                              \b\b\b\b 53%\b\b\b\b\b  OK \n",
            "Extracting  training/images/22_training.tif                              \b\b\b\b 56%\b\b\b\b\b  OK \n",
            "Extracting  training/images/23_training.tif                              \b\b\b\b 58%\b\b\b\b\b  OK \n",
            "Extracting  training/images/24_training.tif                              \b\b\b\b 60%\b\b\b\b\b  OK \n",
            "Extracting  training/images/25_training.tif                              \b\b\b\b 62%\b\b\b\b\b  OK \n",
            "Extracting  training/images/26_training.tif                              \b\b\b\b 65%\b\b\b\b\b  OK \n",
            "Extracting  training/images/27_training.tif                              \b\b\b\b 67%\b\b\b\b\b  OK \n",
            "Extracting  training/images/28_training.tif                              \b\b\b\b 70%\b\b\b\b\b  OK \n",
            "Extracting  training/images/29_training.tif                              \b\b\b\b 72%\b\b\b\b\b  OK \n",
            "Extracting  training/images/30_training.tif                              \b\b\b\b 74%\b\b\b\b\b  OK \n",
            "Extracting  training/images/31_training.tif                              \b\b\b\b 77%\b\b\b\b\b  OK \n",
            "Extracting  training/images/32_training.tif                              \b\b\b\b 79%\b\b\b\b\b  OK \n",
            "Extracting  training/images/33_training.tif                              \b\b\b\b 82%\b\b\b\b\b  OK \n",
            "Extracting  training/images/34_training.tif                              \b\b\b\b 85%\b\b\b\b\b  OK \n",
            "Extracting  training/images/35_training.tif                              \b\b\b\b 87%\b\b\b\b\b  OK \n",
            "Extracting  training/images/36_training.tif                              \b\b\b\b 90%\b\b\b\b\b  OK \n",
            "Extracting  training/images/37_training.tif                              \b\b\b\b 92%\b\b\b\b\b  OK \n",
            "Extracting  training/images/38_training.tif                              \b\b\b\b 95%\b\b\b\b\b  OK \n",
            "Extracting  training/images/39_training.tif                              \b\b\b\b 97%\b\b\b\b\b  OK \n",
            "Extracting  training/images/40_training.tif                              \b\b\b\b 99%\b\b\b\b\b  OK \n",
            "Creating    training/mask                                             OK\n",
            "Extracting  training/mask/21_training_mask.tif                           \b\b\b\b 99%\b\b\b\b\b  OK \n",
            "Extracting  training/mask/22_training_mask.tif                           \b\b\b\b 99%\b\b\b\b\b  OK \n",
            "Extracting  training/mask/23_training_mask.tif                           \b\b\b\b 99%\b\b\b\b\b  OK \n",
            "Extracting  training/mask/24_training_mask.tif                           \b\b\b\b 99%\b\b\b\b\b  OK \n",
            "Extracting  training/mask/25_training_mask.tif                           \b\b\b\b 99%\b\b\b\b\b  OK \n",
            "Extracting  training/mask/26_training_mask.tif                           \b\b\b\b 99%\b\b\b\b\b  OK \n",
            "Extracting  training/mask/27_training_mask.tif                           \b\b\b\b 99%\b\b\b\b\b  OK \n",
            "Extracting  training/mask/28_training_mask.tif                           \b\b\b\b 99%\b\b\b\b\b  OK \n",
            "Extracting  training/mask/29_training_mask.tif                           \b\b\b\b 99%\b\b\b\b\b  OK \n",
            "Extracting  training/mask/30_training_mask.tif                           \b\b\b\b 99%\b\b\b\b\b  OK \n",
            "Extracting  training/mask/31_training_mask.tif                           \b\b\b\b 99%\b\b\b\b\b  OK \n",
            "Extracting  training/mask/32_training_mask.tif                           \b\b\b\b 99%\b\b\b\b\b  OK \n",
            "Extracting  training/mask/33_training_mask.tif                           \b\b\b\b 99%\b\b\b\b\b  OK \n",
            "Extracting  training/mask/34_training_mask.tif                           \b\b\b\b 99%\b\b\b\b\b  OK \n",
            "Extracting  training/mask/35_training_mask.tif                           \b\b\b\b 99%\b\b\b\b\b  OK \n",
            "Extracting  training/mask/36_training_mask.tif                           \b\b\b\b 99%\b\b\b\b\b  OK \n",
            "Extracting  training/mask/37_training_mask.tif                           \b\b\b\b 99%\b\b\b\b\b  OK \n",
            "Extracting  training/mask/38_training_mask.tif                           \b\b\b\b 99%\b\b\b\b\b  OK \n",
            "Extracting  training/mask/39_training_mask.tif                           \b\b\b\b 99%\b\b\b\b\b  OK \n",
            "Extracting  training/mask/40_training_mask.tif                           \b\b\b\b 99%\b\b\b\b\b  OK \n",
            "Extracting  test_1stmanual.csv                                           \b\b\b\b 99%\b\b\b\b\b  OK \n",
            "Extracting  test_2ndmanual.csv                                           \b\b\b\b 99%\b\b\b\b\b  OK \n",
            "Extracting  training.csv                                                 \b\b\b\b 99%\b\b\b\b\b  OK \n",
            "All OK\n"
          ],
          "name": "stdout"
        }
      ]
    },
    {
      "cell_type": "code",
      "metadata": {
        "id": "JKmeOIhZ4ohh",
        "outputId": "143866c3-0c37-4c41-b785-062a29122f6c",
        "colab": {
          "base_uri": "https://localhost:8080/",
          "height": 121
        }
      },
      "source": [
        "!git clone --depth 1 https://github.com/Vengadore/Segmentation_OPTOS.git"
      ],
      "execution_count": 3,
      "outputs": [
        {
          "output_type": "stream",
          "text": [
            "Cloning into 'Segmentation_OPTOS'...\n",
            "remote: Enumerating objects: 18, done.\u001b[K\n",
            "remote: Counting objects: 100% (18/18), done.\u001b[K\n",
            "remote: Compressing objects: 100% (16/16), done.\u001b[K\n",
            "remote: Total 18 (delta 0), reused 11 (delta 0), pack-reused 0\u001b[K\n",
            "Unpacking objects: 100% (18/18), done.\n"
          ],
          "name": "stdout"
        }
      ]
    },
    {
      "cell_type": "code",
      "metadata": {
        "id": "6teDlZAq3yb-"
      },
      "source": [
        "import matplotlib.pyplot as plt\n",
        "import numpy as np\n",
        "from PIL import Image\n",
        "import pandas as pd\n",
        "import os"
      ],
      "execution_count": 4,
      "outputs": []
    },
    {
      "cell_type": "markdown",
      "metadata": {
        "id": "OM8Uchj73ycG"
      },
      "source": [
        "## Load Data"
      ]
    },
    {
      "cell_type": "code",
      "metadata": {
        "id": "rJ1oXYzd3ycH",
        "outputId": "6bf3925b-f540-465c-8887-a179502cbc8d",
        "colab": {
          "base_uri": "https://localhost:8080/",
          "height": 139
        }
      },
      "source": [
        "path = \"./\"\n",
        "os.listdir(path)"
      ],
      "execution_count": 5,
      "outputs": [
        {
          "output_type": "execute_result",
          "data": {
            "text/plain": [
              "['.config',\n",
              " 'training',\n",
              " 'test',\n",
              " 'training.csv',\n",
              " 'Segmentation_OPTOS',\n",
              " 'test_1stmanual.csv',\n",
              " 'test_2ndmanual.csv']"
            ]
          },
          "metadata": {
            "tags": []
          },
          "execution_count": 5
        }
      ]
    },
    {
      "cell_type": "code",
      "metadata": {
        "id": "TvMjKfKM3ycO",
        "outputId": "b19548e7-8ff5-41f3-f6db-546e02b6bd56",
        "colab": {
          "base_uri": "https://localhost:8080/",
          "height": 206
        }
      },
      "source": [
        "data = pd.read_csv(os.path.join(path,'training.csv'))\n",
        "data_test = pd.read_csv(os.path.join(path,'test_1stmanual.csv'))\n",
        "data.head()"
      ],
      "execution_count": 6,
      "outputs": [
        {
          "output_type": "execute_result",
          "data": {
            "text/html": [
              "<div>\n",
              "<style scoped>\n",
              "    .dataframe tbody tr th:only-of-type {\n",
              "        vertical-align: middle;\n",
              "    }\n",
              "\n",
              "    .dataframe tbody tr th {\n",
              "        vertical-align: top;\n",
              "    }\n",
              "\n",
              "    .dataframe thead th {\n",
              "        text-align: right;\n",
              "    }\n",
              "</style>\n",
              "<table border=\"1\" class=\"dataframe\">\n",
              "  <thead>\n",
              "    <tr style=\"text-align: right;\">\n",
              "      <th></th>\n",
              "      <th>Original</th>\n",
              "      <th>GroundTruth</th>\n",
              "    </tr>\n",
              "  </thead>\n",
              "  <tbody>\n",
              "    <tr>\n",
              "      <th>0</th>\n",
              "      <td>21_training.tif</td>\n",
              "      <td>21_manual1.tif</td>\n",
              "    </tr>\n",
              "    <tr>\n",
              "      <th>1</th>\n",
              "      <td>22_training.tif</td>\n",
              "      <td>22_manual1.tif</td>\n",
              "    </tr>\n",
              "    <tr>\n",
              "      <th>2</th>\n",
              "      <td>23_training.tif</td>\n",
              "      <td>23_manual1.tif</td>\n",
              "    </tr>\n",
              "    <tr>\n",
              "      <th>3</th>\n",
              "      <td>24_training.tif</td>\n",
              "      <td>24_manual1.tif</td>\n",
              "    </tr>\n",
              "    <tr>\n",
              "      <th>4</th>\n",
              "      <td>25_training.tif</td>\n",
              "      <td>25_manual1.tif</td>\n",
              "    </tr>\n",
              "  </tbody>\n",
              "</table>\n",
              "</div>"
            ],
            "text/plain": [
              "          Original     GroundTruth\n",
              "0  21_training.tif  21_manual1.tif\n",
              "1  22_training.tif  22_manual1.tif\n",
              "2  23_training.tif  23_manual1.tif\n",
              "3  24_training.tif  24_manual1.tif\n",
              "4  25_training.tif  25_manual1.tif"
            ]
          },
          "metadata": {
            "tags": []
          },
          "execution_count": 6
        }
      ]
    },
    {
      "cell_type": "code",
      "metadata": {
        "id": "X-zGi1nm3ycU",
        "outputId": "b586e243-50fd-4c82-bf4b-b39bb000db04",
        "colab": {
          "base_uri": "https://localhost:8080/",
          "height": 206
        }
      },
      "source": [
        "data['Original'] = data['Original'].apply(lambda x:os.path.join(path,\"training/images/\"+x))\n",
        "data['GroundTruth'] = data['GroundTruth'].apply(lambda x:os.path.join(path,\"training/1st_manual/\"+x))\n",
        "data.head()"
      ],
      "execution_count": 7,
      "outputs": [
        {
          "output_type": "execute_result",
          "data": {
            "text/html": [
              "<div>\n",
              "<style scoped>\n",
              "    .dataframe tbody tr th:only-of-type {\n",
              "        vertical-align: middle;\n",
              "    }\n",
              "\n",
              "    .dataframe tbody tr th {\n",
              "        vertical-align: top;\n",
              "    }\n",
              "\n",
              "    .dataframe thead th {\n",
              "        text-align: right;\n",
              "    }\n",
              "</style>\n",
              "<table border=\"1\" class=\"dataframe\">\n",
              "  <thead>\n",
              "    <tr style=\"text-align: right;\">\n",
              "      <th></th>\n",
              "      <th>Original</th>\n",
              "      <th>GroundTruth</th>\n",
              "    </tr>\n",
              "  </thead>\n",
              "  <tbody>\n",
              "    <tr>\n",
              "      <th>0</th>\n",
              "      <td>./training/images/21_training.tif</td>\n",
              "      <td>./training/1st_manual/21_manual1.tif</td>\n",
              "    </tr>\n",
              "    <tr>\n",
              "      <th>1</th>\n",
              "      <td>./training/images/22_training.tif</td>\n",
              "      <td>./training/1st_manual/22_manual1.tif</td>\n",
              "    </tr>\n",
              "    <tr>\n",
              "      <th>2</th>\n",
              "      <td>./training/images/23_training.tif</td>\n",
              "      <td>./training/1st_manual/23_manual1.tif</td>\n",
              "    </tr>\n",
              "    <tr>\n",
              "      <th>3</th>\n",
              "      <td>./training/images/24_training.tif</td>\n",
              "      <td>./training/1st_manual/24_manual1.tif</td>\n",
              "    </tr>\n",
              "    <tr>\n",
              "      <th>4</th>\n",
              "      <td>./training/images/25_training.tif</td>\n",
              "      <td>./training/1st_manual/25_manual1.tif</td>\n",
              "    </tr>\n",
              "  </tbody>\n",
              "</table>\n",
              "</div>"
            ],
            "text/plain": [
              "                            Original                           GroundTruth\n",
              "0  ./training/images/21_training.tif  ./training/1st_manual/21_manual1.tif\n",
              "1  ./training/images/22_training.tif  ./training/1st_manual/22_manual1.tif\n",
              "2  ./training/images/23_training.tif  ./training/1st_manual/23_manual1.tif\n",
              "3  ./training/images/24_training.tif  ./training/1st_manual/24_manual1.tif\n",
              "4  ./training/images/25_training.tif  ./training/1st_manual/25_manual1.tif"
            ]
          },
          "metadata": {
            "tags": []
          },
          "execution_count": 7
        }
      ]
    },
    {
      "cell_type": "code",
      "metadata": {
        "id": "YRg73Qvk3ycZ",
        "outputId": "1e3a4d55-63f3-43fc-c258-e52d487ccfa0",
        "colab": {
          "base_uri": "https://localhost:8080/",
          "height": 206
        }
      },
      "source": [
        "data_test['Original'] = data_test['Original'].apply(lambda x:os.path.join(path,\"test/images/\"+x))\n",
        "data_test['GroundTruth'] = data_test['GroundTruth'].apply(lambda x:os.path.join(path,\"test/1st_manual/\"+x))\n",
        "data.head()"
      ],
      "execution_count": 8,
      "outputs": [
        {
          "output_type": "execute_result",
          "data": {
            "text/html": [
              "<div>\n",
              "<style scoped>\n",
              "    .dataframe tbody tr th:only-of-type {\n",
              "        vertical-align: middle;\n",
              "    }\n",
              "\n",
              "    .dataframe tbody tr th {\n",
              "        vertical-align: top;\n",
              "    }\n",
              "\n",
              "    .dataframe thead th {\n",
              "        text-align: right;\n",
              "    }\n",
              "</style>\n",
              "<table border=\"1\" class=\"dataframe\">\n",
              "  <thead>\n",
              "    <tr style=\"text-align: right;\">\n",
              "      <th></th>\n",
              "      <th>Original</th>\n",
              "      <th>GroundTruth</th>\n",
              "    </tr>\n",
              "  </thead>\n",
              "  <tbody>\n",
              "    <tr>\n",
              "      <th>0</th>\n",
              "      <td>./training/images/21_training.tif</td>\n",
              "      <td>./training/1st_manual/21_manual1.tif</td>\n",
              "    </tr>\n",
              "    <tr>\n",
              "      <th>1</th>\n",
              "      <td>./training/images/22_training.tif</td>\n",
              "      <td>./training/1st_manual/22_manual1.tif</td>\n",
              "    </tr>\n",
              "    <tr>\n",
              "      <th>2</th>\n",
              "      <td>./training/images/23_training.tif</td>\n",
              "      <td>./training/1st_manual/23_manual1.tif</td>\n",
              "    </tr>\n",
              "    <tr>\n",
              "      <th>3</th>\n",
              "      <td>./training/images/24_training.tif</td>\n",
              "      <td>./training/1st_manual/24_manual1.tif</td>\n",
              "    </tr>\n",
              "    <tr>\n",
              "      <th>4</th>\n",
              "      <td>./training/images/25_training.tif</td>\n",
              "      <td>./training/1st_manual/25_manual1.tif</td>\n",
              "    </tr>\n",
              "  </tbody>\n",
              "</table>\n",
              "</div>"
            ],
            "text/plain": [
              "                            Original                           GroundTruth\n",
              "0  ./training/images/21_training.tif  ./training/1st_manual/21_manual1.tif\n",
              "1  ./training/images/22_training.tif  ./training/1st_manual/22_manual1.tif\n",
              "2  ./training/images/23_training.tif  ./training/1st_manual/23_manual1.tif\n",
              "3  ./training/images/24_training.tif  ./training/1st_manual/24_manual1.tif\n",
              "4  ./training/images/25_training.tif  ./training/1st_manual/25_manual1.tif"
            ]
          },
          "metadata": {
            "tags": []
          },
          "execution_count": 8
        }
      ]
    },
    {
      "cell_type": "code",
      "metadata": {
        "id": "VcYihmGMMS2E"
      },
      "source": [
        "## Resize training images\n",
        "import os\n",
        "import cv2\n",
        "for i in data['Original']:\n",
        "  I = cv2.imread(i)\n",
        "  I = cv2.resize(I,(584*3, 565*3),cv2.INTER_CUBIC)\n",
        "  I = cv2.imwrite(i,I)"
      ],
      "execution_count": 10,
      "outputs": []
    },
    {
      "cell_type": "code",
      "metadata": {
        "id": "HTTEKk7XNOVC"
      },
      "source": [
        "for i in data['GroundTruth']:\n",
        "  I = cv2.imread(i)\n",
        "  I = cv2.resize(I,(584*3, 565*3),cv2.INTER_CUBIC)\n",
        "  I = cv2.imwrite(i,I)"
      ],
      "execution_count": 15,
      "outputs": []
    },
    {
      "cell_type": "code",
      "metadata": {
        "id": "PLTHm5cHMS_r"
      },
      "source": [
        "for i in data_test['Original']:\n",
        "  I = cv2.imread(i)\n",
        "  I = cv2.resize(I,(584*3, 565*3),cv2.INTER_CUBIC)\n",
        "  I = cv2.imwrite(i,I)\n",
        "for i in data_test['GroundTruth']:\n",
        "  I = cv2.imread(i)\n",
        "  I = cv2.resize(I,(584*3, 565*3),cv2.INTER_CUBIC)\n",
        "  I = cv2.imwrite(i,I)"
      ],
      "execution_count": 16,
      "outputs": []
    },
    {
      "cell_type": "markdown",
      "metadata": {
        "id": "AnxRZb7v3ycf"
      },
      "source": [
        "## Creation of dataloader"
      ]
    },
    {
      "cell_type": "code",
      "metadata": {
        "id": "3hOCzsFm3ycf"
      },
      "source": [
        "from Segmentation_OPTOS.Tools.Generators import Patch_generator\n",
        "import cv2"
      ],
      "execution_count": 17,
      "outputs": []
    },
    {
      "cell_type": "code",
      "metadata": {
        "id": "eMKBzUxB3ycj",
        "outputId": "efdcb022-95af-417a-ea46-f695723d3a94",
        "colab": {
          "base_uri": "https://localhost:8080/",
          "height": 121
        }
      },
      "source": [
        "def x_trans(X):\n",
        "    #X = cv2.resize(X,(584*2, 565*2),cv2.INTER_CUBIC)\n",
        "    #mean,std = cv2.meanStdDev(X)\n",
        "    #_,_,C = X.shape\n",
        "    #for i in range(C):\n",
        "    #    X[:,:,i] = (X[:,:,i]-mean[i])/std[i]\n",
        "    ## Change order of channels\n",
        "    X = X.transpose(2,0,1)\n",
        "    return X\n",
        "\n",
        "def y_trans(X):\n",
        "    # Change order of channels\n",
        "    #X = cv2.resize(X,(584*3, 565*3),cv2.INTER_CUBIC)\n",
        "    X = X.transpose(2,0,1)\n",
        "    X = np.expand_dims(X[0,:,:],axis = 0)\n",
        "    return X\n",
        "\n",
        "Training_patches = Patch_generator.Generator_from_DataFrame(data,patch_size=(63,63),X = 'Original',\n",
        "                                                   y = \"GroundTruth\",n_patches = 80,transforX=x_trans,transfory=y_trans)\n",
        "\n",
        "Validation_patches = Patch_generator.Generator_from_DataFrame(data,patch_size=(63,63),X = 'Original',\n",
        "                                                   y = \"GroundTruth\",n_patches = 80,transforX=x_trans,transfory=y_trans)"
      ],
      "execution_count": 18,
      "outputs": [
        {
          "output_type": "stream",
          "text": [
            "20 files found out of 20 in the DataFrame for X\n",
            "20 files found out of 20 in the DataFrame for y\n",
            "A generator object has been created with 80 per image\n",
            "20 files found out of 20 in the DataFrame for X\n",
            "20 files found out of 20 in the DataFrame for y\n",
            "A generator object has been created with 80 per image\n"
          ],
          "name": "stdout"
        }
      ]
    },
    {
      "cell_type": "markdown",
      "metadata": {
        "id": "Etkf4SYk3ycn"
      },
      "source": [
        "## Definition of the network"
      ]
    },
    {
      "cell_type": "code",
      "metadata": {
        "id": "B-elx4vx3ycp"
      },
      "source": [
        "import torch\n",
        "import torch.nn as nn\n",
        "import torch.nn.functional as F"
      ],
      "execution_count": 19,
      "outputs": []
    },
    {
      "cell_type": "code",
      "metadata": {
        "id": "fVJTA-wn3yct"
      },
      "source": [
        "class Encoder(torch.nn.Module):\n",
        "    def __init__(self):\n",
        "        super(Encoder,self).__init__()\n",
        "        self.conv1 = nn.Conv2d(3,256,(3,3),stride = (1,1),padding=(1,1))\n",
        "        self.norm1 = nn.BatchNorm2d(256)\n",
        "        self.conv2 = nn.Conv2d(256,128,(3,3),stride = (1,1),padding=(1,1))\n",
        "        self.norm2 = nn.BatchNorm2d(128)\n",
        "        self.conv3 = nn.Conv2d(128,64,(3,3),stride = (1,1),padding=(1,1))\n",
        "        self.norm3 = nn.BatchNorm2d(64)\n",
        "        self.max_pool = nn.MaxPool2d((2,2))\n",
        "    def forward(self,x):\n",
        "        x = F.relu(self.conv1(x))\n",
        "        x = self.norm1(x)\n",
        "        x = F.relu(self.conv2(x))\n",
        "        x = self.norm2(x)\n",
        "        x = F.relu(self.conv3(x))\n",
        "        x = self.norm3(x)\n",
        "        x = self.max_pool(x)\n",
        "        return x\n",
        "\n",
        "class Decoder(torch.nn.Module):\n",
        "    def __init__(self):\n",
        "        super(Decoder,self).__init__()\n",
        "        self.conv1T = nn.ConvTranspose2d(64,64,(3,3),padding=(1,1))\n",
        "        self.conv2T = nn.ConvTranspose2d(64,64,(3,3),stride=(2,2),padding=(1,1))\n",
        "        self.conv3T = nn.ConvTranspose2d(64,128,(3,3),padding=(1,1))\n",
        "        self.conv4T = nn.ConvTranspose2d(128,256,(3,3))\n",
        "        self.conv5T = nn.ConvTranspose2d(256,1,(1,1))\n",
        "    def forward(self,x):\n",
        "        x = F.relu(self.conv1T(x))\n",
        "        x = F.relu(self.conv2T(x))\n",
        "        x = F.relu(self.conv3T(x))\n",
        "        x = F.relu(self.conv4T(x))\n",
        "        x = torch.sigmoid(self.conv5T(x))\n",
        "        return x\n",
        "class Model(torch.nn.Module):\n",
        "    def __init__(self):\n",
        "        super(Model,self).__init__()\n",
        "        self.encoder = Encoder()\n",
        "        self.decoder = Decoder()\n",
        "    def forward(self,x):\n",
        "        x = self.encoder.forward(x)\n",
        "        x = self.decoder.forward(x)\n",
        "        return x"
      ],
      "execution_count": 20,
      "outputs": []
    },
    {
      "cell_type": "code",
      "metadata": {
        "id": "cfq96uvv3ycx"
      },
      "source": [
        "model = Model()"
      ],
      "execution_count": 21,
      "outputs": []
    },
    {
      "cell_type": "code",
      "metadata": {
        "id": "4UcNeRMUJWGr"
      },
      "source": [
        "# Load Pretrained Model\n",
        "model = torch.load(\"./Modelo_seg.ph\")"
      ],
      "execution_count": 22,
      "outputs": []
    },
    {
      "cell_type": "code",
      "metadata": {
        "id": "M24FXtgq3yc2"
      },
      "source": [
        "if torch.cuda.is_available():\n",
        "    device = torch.device('cuda:0')\n",
        "else:\n",
        "    device = torch.device('cpu')"
      ],
      "execution_count": 23,
      "outputs": []
    },
    {
      "cell_type": "code",
      "metadata": {
        "id": "GVQAlSzj3yc6"
      },
      "source": [
        "model = model.to(device)"
      ],
      "execution_count": 24,
      "outputs": []
    },
    {
      "cell_type": "code",
      "metadata": {
        "id": "Zwu_oRz0Kj2e",
        "outputId": "c0cdacda-78ee-4837-cc91-cb4d837d8833",
        "colab": {
          "base_uri": "https://localhost:8080/",
          "height": 34
        }
      },
      "source": [
        "63*63*80*len(data)"
      ],
      "execution_count": 25,
      "outputs": [
        {
          "output_type": "execute_result",
          "data": {
            "text/plain": [
              "6350400"
            ]
          },
          "metadata": {
            "tags": []
          },
          "execution_count": 25
        }
      ]
    },
    {
      "cell_type": "markdown",
      "metadata": {
        "id": "YD4OK4Ce3yc9"
      },
      "source": [
        "## Train Network"
      ]
    },
    {
      "cell_type": "code",
      "metadata": {
        "id": "oLk1gLIP3yc-"
      },
      "source": [
        "import torch.optim as optim\n",
        "\n",
        "criterion = nn.BCELoss()\n",
        "optimizer = optim.Adam(model.parameters(), lr=0.001)"
      ],
      "execution_count": 31,
      "outputs": []
    },
    {
      "cell_type": "code",
      "metadata": {
        "id": "qa9-n3Bh3ydB",
        "outputId": "603c6265-e9f7-490c-9893-21537a56bd5e",
        "colab": {
          "base_uri": "https://localhost:8080/",
          "height": 1000
        }
      },
      "source": [
        "for epoch in range(50000):  # loop over the dataset multiple times\n",
        "    running_loss = 0.0\n",
        "    ## Training loop for epoch\n",
        "    Accuracy = 0.0\n",
        "    for i in range(len(data)):\n",
        "        (X,y) = next(Training_patches)\n",
        "        X = torch.FloatTensor(X).to(device)\n",
        "        y = torch.Tensor(y).to(device)\n",
        "        \n",
        "        # zero the parameter gradients\n",
        "        optimizer.zero_grad()\n",
        "        \n",
        "        # forward + backward + optimize\n",
        "        outputs = model(X)\n",
        "        loss = criterion(outputs, y)\n",
        "        loss.backward()\n",
        "        optimizer.step()\n",
        "        \n",
        "        # Accuracy\n",
        "        #Accuracy += np.sum(np.max(y.detach().cpu().numpy()) == np.max(outputs.detach().cpu().numpy()))\n",
        "        # print statistics\n",
        "        running_loss += loss.item()\n",
        "    print(f\"Epoch:{epoch+1} Loss:{running_loss} \")#Accuracy = {Accuracy/6350400}\")\n",
        "\n",
        "print('Finished Training')"
      ],
      "execution_count": null,
      "outputs": [
        {
          "output_type": "stream",
          "text": [
            "Epoch:1 Loss:3.1202880293130875 \n",
            "Epoch:2 Loss:3.1119141578674316 \n",
            "Epoch:3 Loss:2.987684540450573 \n",
            "Epoch:4 Loss:2.8966877833008766 \n",
            "Epoch:5 Loss:3.0306098386645317 \n",
            "Epoch:6 Loss:2.8762096911668777 \n",
            "Epoch:7 Loss:2.9750873893499374 \n",
            "Epoch:8 Loss:3.1399138048291206 \n",
            "Epoch:9 Loss:2.9251852706074715 \n",
            "Epoch:10 Loss:2.857661224901676 \n",
            "Epoch:11 Loss:3.088357239961624 \n",
            "Epoch:12 Loss:2.8867402002215385 \n",
            "Epoch:13 Loss:2.9610773995518684 \n",
            "Epoch:14 Loss:2.9107111617922783 \n",
            "Epoch:15 Loss:2.9461391791701317 \n",
            "Epoch:16 Loss:2.939797103404999 \n",
            "Epoch:17 Loss:2.9199487194418907 \n",
            "Epoch:18 Loss:2.8855530321598053 \n",
            "Epoch:19 Loss:2.8790373504161835 \n",
            "Epoch:20 Loss:2.941558361053467 \n",
            "Epoch:21 Loss:2.867385260760784 \n",
            "Epoch:22 Loss:2.842541977763176 \n",
            "Epoch:23 Loss:2.829879179596901 \n",
            "Epoch:24 Loss:2.813456781208515 \n",
            "Epoch:25 Loss:2.831932380795479 \n",
            "Epoch:26 Loss:2.9501150473952293 \n",
            "Epoch:27 Loss:2.9157369881868362 \n",
            "Epoch:28 Loss:2.763958677649498 \n",
            "Epoch:29 Loss:2.799081511795521 \n",
            "Epoch:30 Loss:2.8480324745178223 \n",
            "Epoch:31 Loss:2.810990460216999 \n",
            "Epoch:32 Loss:2.70425646007061 \n",
            "Epoch:33 Loss:2.7371479347348213 \n",
            "Epoch:34 Loss:2.7919062823057175 \n",
            "Epoch:35 Loss:2.7339015156030655 \n",
            "Epoch:36 Loss:2.724897190928459 \n",
            "Epoch:37 Loss:2.728386163711548 \n",
            "Epoch:38 Loss:2.8137573525309563 \n",
            "Epoch:39 Loss:2.882024072110653 \n",
            "Epoch:40 Loss:2.8172730579972267 \n",
            "Epoch:41 Loss:2.733870044350624 \n",
            "Epoch:42 Loss:2.780581869184971 \n",
            "Epoch:43 Loss:2.7375152856111526 \n",
            "Epoch:44 Loss:2.7134287282824516 \n",
            "Epoch:45 Loss:2.8648089095950127 \n",
            "Epoch:46 Loss:2.8144383504986763 \n",
            "Epoch:47 Loss:2.6149282976984978 \n",
            "Epoch:48 Loss:2.8225032687187195 \n",
            "Epoch:49 Loss:2.7315868511795998 \n",
            "Epoch:50 Loss:2.738715097308159 \n",
            "Epoch:51 Loss:2.6802181601524353 \n",
            "Epoch:52 Loss:2.8604170233011246 \n",
            "Epoch:53 Loss:2.7254737615585327 \n",
            "Epoch:54 Loss:2.7562123388051987 \n",
            "Epoch:55 Loss:2.8048637956380844 \n",
            "Epoch:56 Loss:2.6794441863894463 \n",
            "Epoch:57 Loss:2.833092123270035 \n",
            "Epoch:58 Loss:2.710700675845146 \n",
            "Epoch:59 Loss:2.730747327208519 \n",
            "Epoch:60 Loss:2.711549736559391 \n",
            "Epoch:61 Loss:2.678960219025612 \n",
            "Epoch:62 Loss:2.7790651246905327 \n",
            "Epoch:63 Loss:2.7498245239257812 \n",
            "Epoch:64 Loss:2.726901762187481 \n",
            "Epoch:65 Loss:2.743493251502514 \n",
            "Epoch:66 Loss:2.7799197509884834 \n",
            "Epoch:67 Loss:2.6211070343852043 \n",
            "Epoch:68 Loss:2.74500585347414 \n",
            "Epoch:69 Loss:2.678924560546875 \n",
            "Epoch:70 Loss:2.754971519112587 \n",
            "Epoch:71 Loss:2.701954960823059 \n",
            "Epoch:72 Loss:2.6489436104893684 \n",
            "Epoch:73 Loss:2.641322635114193 \n",
            "Epoch:74 Loss:2.796923041343689 \n",
            "Epoch:75 Loss:2.6774377524852753 \n",
            "Epoch:76 Loss:2.702253706753254 \n",
            "Epoch:77 Loss:2.7010671868920326 \n",
            "Epoch:78 Loss:2.760266438126564 \n",
            "Epoch:79 Loss:2.7020387426018715 \n",
            "Epoch:80 Loss:2.7599684074521065 \n",
            "Epoch:81 Loss:2.700743369758129 \n",
            "Epoch:82 Loss:2.5620096251368523 \n",
            "Epoch:83 Loss:2.7289333194494247 \n",
            "Epoch:84 Loss:2.6374468877911568 \n",
            "Epoch:85 Loss:2.635565511882305 \n",
            "Epoch:86 Loss:2.72051689773798 \n",
            "Epoch:87 Loss:2.7933689057826996 \n",
            "Epoch:88 Loss:2.559620253741741 \n",
            "Epoch:89 Loss:2.67193740606308 \n",
            "Epoch:90 Loss:2.6725798323750496 \n",
            "Epoch:91 Loss:2.824720747768879 \n",
            "Epoch:92 Loss:2.556998573243618 \n",
            "Epoch:93 Loss:2.6714616864919662 \n",
            "Epoch:94 Loss:2.7694997638463974 \n",
            "Epoch:95 Loss:2.6835943311452866 \n",
            "Epoch:96 Loss:2.6901168152689934 \n",
            "Epoch:97 Loss:2.625603199005127 \n",
            "Epoch:98 Loss:2.6724473759531975 \n",
            "Epoch:99 Loss:2.7287213131785393 \n",
            "Epoch:100 Loss:2.6919283717870712 \n",
            "Epoch:101 Loss:2.5974582955241203 \n",
            "Epoch:102 Loss:2.7103302627801895 \n",
            "Epoch:103 Loss:2.5378594771027565 \n",
            "Epoch:104 Loss:2.643426798284054 \n",
            "Epoch:105 Loss:2.5704958587884903 \n",
            "Epoch:106 Loss:2.7143531814217567 \n",
            "Epoch:107 Loss:2.788900539278984 \n",
            "Epoch:108 Loss:2.7629863396286964 \n",
            "Epoch:109 Loss:2.753758743405342 \n",
            "Epoch:110 Loss:2.7783057242631912 \n",
            "Epoch:111 Loss:2.6858202815055847 \n",
            "Epoch:112 Loss:2.750836595892906 \n",
            "Epoch:113 Loss:2.7496523037552834 \n",
            "Epoch:114 Loss:2.6081997007131577 \n",
            "Epoch:115 Loss:2.6312101408839226 \n",
            "Epoch:116 Loss:2.7585087567567825 \n",
            "Epoch:117 Loss:2.723430834710598 \n",
            "Epoch:118 Loss:2.698184974491596 \n",
            "Epoch:119 Loss:2.6992913857102394 \n",
            "Epoch:120 Loss:2.6279415488243103 \n",
            "Epoch:121 Loss:2.623979017138481 \n",
            "Epoch:122 Loss:2.6371299624443054 \n",
            "Epoch:123 Loss:2.5790586173534393 \n",
            "Epoch:124 Loss:2.5573511570692062 \n",
            "Epoch:125 Loss:2.6531468108296394 \n",
            "Epoch:126 Loss:2.729912005364895 \n",
            "Epoch:127 Loss:2.678679682314396 \n",
            "Epoch:128 Loss:2.608549080789089 \n",
            "Epoch:129 Loss:2.7482378780841827 \n",
            "Epoch:130 Loss:2.7094887644052505 \n",
            "Epoch:131 Loss:2.7179933711886406 \n",
            "Epoch:132 Loss:2.5617539808154106 \n",
            "Epoch:133 Loss:2.6338515281677246 \n",
            "Epoch:134 Loss:2.6861652210354805 \n",
            "Epoch:135 Loss:2.6378792449831963 \n",
            "Epoch:136 Loss:2.640010990202427 \n",
            "Epoch:137 Loss:2.5759225860238075 \n",
            "Epoch:138 Loss:2.5934301242232323 \n",
            "Epoch:139 Loss:2.7020482644438744 \n",
            "Epoch:140 Loss:2.57702299952507 \n",
            "Epoch:141 Loss:2.757889077067375 \n",
            "Epoch:142 Loss:2.5557391569018364 \n",
            "Epoch:143 Loss:2.6314310282468796 \n",
            "Epoch:144 Loss:2.588400699198246 \n",
            "Epoch:145 Loss:2.646181993186474 \n",
            "Epoch:146 Loss:2.6373514533042908 \n",
            "Epoch:147 Loss:2.667476385831833 \n",
            "Epoch:148 Loss:2.66219412535429 \n",
            "Epoch:149 Loss:2.577451579272747 \n",
            "Epoch:150 Loss:2.5868014097213745 \n",
            "Epoch:151 Loss:2.5145899280905724 \n",
            "Epoch:152 Loss:2.644367977976799 \n",
            "Epoch:153 Loss:2.700791575014591 \n",
            "Epoch:154 Loss:2.7851564809679985 \n",
            "Epoch:155 Loss:2.5382330045104027 \n",
            "Epoch:156 Loss:2.6544748693704605 \n",
            "Epoch:157 Loss:2.5897697433829308 \n",
            "Epoch:158 Loss:2.564829409122467 \n",
            "Epoch:159 Loss:2.6464658305048943 \n",
            "Epoch:160 Loss:2.671347916126251 \n",
            "Epoch:161 Loss:2.5925635918974876 \n",
            "Epoch:162 Loss:2.622597984969616 \n",
            "Epoch:163 Loss:2.6168272122740746 \n",
            "Epoch:164 Loss:2.7648832574486732 \n",
            "Epoch:165 Loss:2.681711494922638 \n",
            "Epoch:166 Loss:2.6335651874542236 \n",
            "Epoch:167 Loss:2.647958181798458 \n",
            "Epoch:168 Loss:2.7073772847652435 \n",
            "Epoch:169 Loss:2.6332013085484505 \n",
            "Epoch:170 Loss:2.668952874839306 \n",
            "Epoch:171 Loss:2.628584124147892 \n",
            "Epoch:172 Loss:2.51696640253067 \n",
            "Epoch:173 Loss:2.727694161236286 \n",
            "Epoch:174 Loss:2.567935012280941 \n",
            "Epoch:175 Loss:2.5918888598680496 \n",
            "Epoch:176 Loss:2.592619366943836 \n",
            "Epoch:177 Loss:2.5589357763528824 \n",
            "Epoch:178 Loss:2.611331030726433 \n",
            "Epoch:179 Loss:2.709846720099449 \n",
            "Epoch:180 Loss:2.65170194208622 \n",
            "Epoch:181 Loss:2.578524924814701 \n",
            "Epoch:182 Loss:2.7202976047992706 \n",
            "Epoch:183 Loss:2.5839535295963287 \n",
            "Epoch:184 Loss:2.6178442984819412 \n",
            "Epoch:185 Loss:2.600494958460331 \n",
            "Epoch:186 Loss:2.634363017976284 \n",
            "Epoch:187 Loss:2.6123477146029472 \n",
            "Epoch:188 Loss:2.5091539695858955 \n",
            "Epoch:189 Loss:2.6507386192679405 \n",
            "Epoch:190 Loss:2.6370090544223785 \n",
            "Epoch:191 Loss:2.591138795018196 \n",
            "Epoch:192 Loss:2.562013901770115 \n",
            "Epoch:193 Loss:2.699729837477207 \n",
            "Epoch:194 Loss:2.646690897643566 \n",
            "Epoch:195 Loss:2.5176698938012123 \n",
            "Epoch:196 Loss:2.6284400075674057 \n",
            "Epoch:197 Loss:2.6330412104725838 \n",
            "Epoch:198 Loss:2.455355726182461 \n",
            "Epoch:199 Loss:2.5788088366389275 \n",
            "Epoch:200 Loss:2.6613785102963448 \n",
            "Epoch:201 Loss:2.6008368507027626 \n",
            "Epoch:202 Loss:2.7002023309469223 \n",
            "Epoch:203 Loss:2.578641451895237 \n",
            "Epoch:204 Loss:2.47986052185297 \n",
            "Epoch:205 Loss:2.647995136678219 \n",
            "Epoch:206 Loss:2.6843022108078003 \n",
            "Epoch:207 Loss:2.519787110388279 \n",
            "Epoch:208 Loss:2.6502884328365326 \n",
            "Epoch:209 Loss:2.6144584491848946 \n",
            "Epoch:210 Loss:2.6098269149661064 \n",
            "Epoch:211 Loss:2.579805091023445 \n",
            "Epoch:212 Loss:2.5513997301459312 \n",
            "Epoch:213 Loss:2.6353997737169266 \n",
            "Epoch:214 Loss:2.605692356824875 \n",
            "Epoch:215 Loss:2.5729513242840767 \n",
            "Epoch:216 Loss:2.565174363553524 \n",
            "Epoch:217 Loss:2.4848323985934258 \n",
            "Epoch:218 Loss:2.6077481880784035 \n",
            "Epoch:219 Loss:2.5797817930579185 \n",
            "Epoch:220 Loss:2.5844615772366524 \n",
            "Epoch:221 Loss:2.582302488386631 \n",
            "Epoch:222 Loss:2.7436376810073853 \n",
            "Epoch:223 Loss:2.66768217086792 \n",
            "Epoch:224 Loss:2.594893641769886 \n",
            "Epoch:225 Loss:2.534361317753792 \n",
            "Epoch:226 Loss:2.650486260652542 \n",
            "Epoch:227 Loss:2.5288818925619125 \n",
            "Epoch:228 Loss:2.615867532789707 \n",
            "Epoch:229 Loss:2.598540998995304 \n",
            "Epoch:230 Loss:2.5542665012180805 \n",
            "Epoch:231 Loss:2.487998738884926 \n",
            "Epoch:232 Loss:2.5700128003954887 \n",
            "Epoch:233 Loss:2.543665789067745 \n",
            "Epoch:234 Loss:2.6796557903289795 \n",
            "Epoch:235 Loss:2.579386942088604 \n",
            "Epoch:236 Loss:2.639787621796131 \n",
            "Epoch:237 Loss:2.565095029771328 \n",
            "Epoch:238 Loss:2.5262426137924194 \n",
            "Epoch:239 Loss:2.495546393096447 \n",
            "Epoch:240 Loss:2.497517131268978 \n",
            "Epoch:241 Loss:2.5304197669029236 \n",
            "Epoch:242 Loss:2.482065513730049 \n",
            "Epoch:243 Loss:2.6905163377523422 \n",
            "Epoch:244 Loss:2.511937752366066 \n",
            "Epoch:245 Loss:2.6069810166954994 \n",
            "Epoch:246 Loss:2.586918532848358 \n",
            "Epoch:247 Loss:2.5680919215083122 \n",
            "Epoch:248 Loss:2.6284404173493385 \n",
            "Epoch:249 Loss:2.4619272872805595 \n",
            "Epoch:250 Loss:2.7161426097154617 \n",
            "Epoch:251 Loss:2.5517735928297043 \n",
            "Epoch:252 Loss:2.591530464589596 \n",
            "Epoch:253 Loss:2.5676347091794014 \n",
            "Epoch:254 Loss:2.5416634008288383 \n",
            "Epoch:255 Loss:2.5952044501900673 \n",
            "Epoch:256 Loss:2.56704955548048 \n",
            "Epoch:257 Loss:2.449307881295681 \n",
            "Epoch:258 Loss:2.664093002676964 \n",
            "Epoch:259 Loss:2.512767381966114 \n",
            "Epoch:260 Loss:2.520485334098339 \n",
            "Epoch:261 Loss:2.451100192964077 \n",
            "Epoch:262 Loss:2.558403603732586 \n",
            "Epoch:263 Loss:2.4031506925821304 \n",
            "Epoch:264 Loss:2.6662887409329414 \n",
            "Epoch:265 Loss:2.6355163156986237 \n",
            "Epoch:266 Loss:2.618708722293377 \n",
            "Epoch:267 Loss:2.611486405134201 \n",
            "Epoch:268 Loss:2.543886788189411 \n",
            "Epoch:269 Loss:2.456490993499756 \n",
            "Epoch:270 Loss:2.6053279042243958 \n",
            "Epoch:271 Loss:2.6101895198225975 \n",
            "Epoch:272 Loss:2.56836649030447 \n",
            "Epoch:273 Loss:2.494020953774452 \n",
            "Epoch:274 Loss:2.688011571764946 \n",
            "Epoch:275 Loss:2.555051751434803 \n",
            "Epoch:276 Loss:2.608484208583832 \n",
            "Epoch:277 Loss:2.5629862174391747 \n",
            "Epoch:278 Loss:2.574994295835495 \n",
            "Epoch:279 Loss:2.642976902425289 \n",
            "Epoch:280 Loss:2.509999707341194 \n",
            "Epoch:281 Loss:2.5242395773530006 \n",
            "Epoch:282 Loss:2.5333798229694366 \n",
            "Epoch:283 Loss:2.5252160653471947 \n",
            "Epoch:284 Loss:2.4108676090836525 \n",
            "Epoch:285 Loss:2.5318798422813416 \n",
            "Epoch:286 Loss:2.4474456384778023 \n",
            "Epoch:287 Loss:2.6649272441864014 \n",
            "Epoch:288 Loss:2.577139750123024 \n",
            "Epoch:289 Loss:2.511095739901066 \n",
            "Epoch:290 Loss:2.527991347014904 \n",
            "Epoch:291 Loss:2.516450844705105 \n",
            "Epoch:292 Loss:2.3722899854183197 \n",
            "Epoch:293 Loss:2.5650317147374153 \n",
            "Epoch:294 Loss:2.522584490478039 \n",
            "Epoch:295 Loss:2.4835097193717957 \n",
            "Epoch:296 Loss:2.6870239675045013 \n",
            "Epoch:297 Loss:2.5382924899458885 \n",
            "Epoch:298 Loss:2.4458418861031532 \n",
            "Epoch:299 Loss:2.646987624466419 \n",
            "Epoch:300 Loss:2.665542498230934 \n",
            "Epoch:301 Loss:2.638090305030346 \n",
            "Epoch:302 Loss:2.6391424909234047 \n",
            "Epoch:303 Loss:2.4386665523052216 \n",
            "Epoch:304 Loss:2.6047752872109413 \n",
            "Epoch:305 Loss:2.5528573244810104 \n",
            "Epoch:306 Loss:2.5333403795957565 \n",
            "Epoch:307 Loss:2.603242240846157 \n",
            "Epoch:308 Loss:2.661551281809807 \n",
            "Epoch:309 Loss:2.5012155175209045 \n",
            "Epoch:310 Loss:2.6081827357411385 \n",
            "Epoch:311 Loss:2.5140215381979942 \n",
            "Epoch:312 Loss:2.4887150675058365 \n",
            "Epoch:313 Loss:2.5973376855254173 \n",
            "Epoch:314 Loss:2.4183838218450546 \n",
            "Epoch:315 Loss:2.6213613003492355 \n",
            "Epoch:316 Loss:2.449233151972294 \n",
            "Epoch:317 Loss:2.474104031920433 \n",
            "Epoch:318 Loss:2.433151237666607 \n",
            "Epoch:319 Loss:2.4672327265143394 \n",
            "Epoch:320 Loss:2.6061586812138557 \n",
            "Epoch:321 Loss:2.5028092116117477 \n",
            "Epoch:322 Loss:2.5284313559532166 \n",
            "Epoch:323 Loss:2.512434996664524 \n",
            "Epoch:324 Loss:2.5330951809883118 \n",
            "Epoch:325 Loss:2.4709634259343147 \n",
            "Epoch:326 Loss:2.5135875195264816 \n",
            "Epoch:327 Loss:2.4868027418851852 \n",
            "Epoch:328 Loss:2.4678313955664635 \n",
            "Epoch:329 Loss:2.5736987367272377 \n",
            "Epoch:330 Loss:2.4713077172636986 \n",
            "Epoch:331 Loss:2.649528495967388 \n",
            "Epoch:332 Loss:2.559990920126438 \n",
            "Epoch:333 Loss:2.5565453618764877 \n",
            "Epoch:334 Loss:2.513084888458252 \n",
            "Epoch:335 Loss:2.5105466321110725 \n",
            "Epoch:336 Loss:2.594508908689022 \n",
            "Epoch:337 Loss:2.431373506784439 \n",
            "Epoch:338 Loss:2.5897560119628906 \n",
            "Epoch:339 Loss:2.586955241858959 \n",
            "Epoch:340 Loss:2.4362969025969505 \n",
            "Epoch:341 Loss:2.669548347592354 \n",
            "Epoch:342 Loss:2.5032766610383987 \n",
            "Epoch:343 Loss:2.5916872322559357 \n",
            "Epoch:344 Loss:2.5214833468198776 \n",
            "Epoch:345 Loss:2.4543828442692757 \n",
            "Epoch:346 Loss:2.4868777468800545 \n",
            "Epoch:347 Loss:2.4394966065883636 \n",
            "Epoch:348 Loss:2.563469983637333 \n",
            "Epoch:349 Loss:2.5834681317210197 \n",
            "Epoch:350 Loss:2.5829255878925323 \n",
            "Epoch:351 Loss:2.4959817975759506 \n",
            "Epoch:352 Loss:2.478354014456272 \n",
            "Epoch:353 Loss:2.4489063397049904 \n",
            "Epoch:354 Loss:2.4896377697587013 \n",
            "Epoch:355 Loss:2.575090631842613 \n",
            "Epoch:356 Loss:2.532510206103325 \n",
            "Epoch:357 Loss:2.5858526527881622 \n",
            "Epoch:358 Loss:2.4523358047008514 \n",
            "Epoch:359 Loss:2.57037702947855 \n",
            "Epoch:360 Loss:2.4566589668393135 \n",
            "Epoch:361 Loss:2.499515749514103 \n",
            "Epoch:362 Loss:2.6143628358840942 \n",
            "Epoch:363 Loss:2.435213826596737 \n",
            "Epoch:364 Loss:2.403673805296421 \n",
            "Epoch:365 Loss:2.504429168999195 \n",
            "Epoch:366 Loss:2.472596861422062 \n",
            "Epoch:367 Loss:2.5237893611192703 \n",
            "Epoch:368 Loss:2.55050777643919 \n",
            "Epoch:369 Loss:2.5473915562033653 \n",
            "Epoch:370 Loss:2.552412122488022 \n",
            "Epoch:371 Loss:2.499317765235901 \n",
            "Epoch:372 Loss:2.5221327617764473 \n",
            "Epoch:373 Loss:2.4939050003886223 \n",
            "Epoch:374 Loss:2.4749821946024895 \n",
            "Epoch:375 Loss:2.4196114018559456 \n",
            "Epoch:376 Loss:2.5265259966254234 \n",
            "Epoch:377 Loss:2.53902255743742 \n",
            "Epoch:378 Loss:2.5748328492045403 \n",
            "Epoch:379 Loss:2.479845918715 \n",
            "Epoch:380 Loss:2.508684813976288 \n",
            "Epoch:381 Loss:2.4342208057641983 \n",
            "Epoch:382 Loss:2.575593702495098 \n",
            "Epoch:383 Loss:2.562464192509651 \n",
            "Epoch:384 Loss:2.555694058537483 \n",
            "Epoch:385 Loss:2.4906189665198326 \n",
            "Epoch:386 Loss:2.5346136018633842 \n",
            "Epoch:387 Loss:2.490618057549 \n",
            "Epoch:388 Loss:2.5032424703240395 \n",
            "Epoch:389 Loss:2.418219782412052 \n",
            "Epoch:390 Loss:2.586976997554302 \n",
            "Epoch:391 Loss:2.4960228353738785 \n",
            "Epoch:392 Loss:2.5962244272232056 \n",
            "Epoch:393 Loss:2.411357082426548 \n",
            "Epoch:394 Loss:2.6088866218924522 \n",
            "Epoch:395 Loss:2.5508838519454002 \n",
            "Epoch:396 Loss:2.5536131486296654 \n",
            "Epoch:397 Loss:2.590260684490204 \n",
            "Epoch:398 Loss:2.5842150449752808 \n",
            "Epoch:399 Loss:2.402004010975361 \n",
            "Epoch:400 Loss:2.4450637474656105 \n",
            "Epoch:401 Loss:2.423270769417286 \n",
            "Epoch:402 Loss:2.527478516101837 \n",
            "Epoch:403 Loss:2.567400611937046 \n",
            "Epoch:404 Loss:2.4171976819634438 \n",
            "Epoch:405 Loss:2.519453674554825 \n",
            "Epoch:406 Loss:2.483427554368973 \n",
            "Epoch:407 Loss:2.582721322774887 \n",
            "Epoch:408 Loss:2.5042501986026764 \n",
            "Epoch:409 Loss:2.4785119220614433 \n",
            "Epoch:410 Loss:2.437791593372822 \n",
            "Epoch:411 Loss:2.5692989826202393 \n",
            "Epoch:412 Loss:2.531444601714611 \n",
            "Epoch:413 Loss:2.4915775060653687 \n",
            "Epoch:414 Loss:2.531400814652443 \n",
            "Epoch:415 Loss:2.4572209790349007 \n",
            "Epoch:416 Loss:2.4998113736510277 \n",
            "Epoch:417 Loss:2.506360240280628 \n",
            "Epoch:418 Loss:2.481758065521717 \n",
            "Epoch:419 Loss:2.4708809927105904 \n",
            "Epoch:420 Loss:2.393551804125309 \n",
            "Epoch:421 Loss:2.3890864551067352 \n",
            "Epoch:422 Loss:2.443967916071415 \n",
            "Epoch:423 Loss:2.484844535589218 \n",
            "Epoch:424 Loss:2.4971076399087906 \n",
            "Epoch:425 Loss:2.458888240158558 \n",
            "Epoch:426 Loss:2.5089989379048347 \n",
            "Epoch:427 Loss:2.4265337511897087 \n",
            "Epoch:428 Loss:2.5678968876600266 \n",
            "Epoch:429 Loss:2.59343471378088 \n",
            "Epoch:430 Loss:2.463007405400276 \n",
            "Epoch:431 Loss:2.6325360238552094 \n",
            "Epoch:432 Loss:2.439945265650749 \n",
            "Epoch:433 Loss:2.522957853972912 \n",
            "Epoch:434 Loss:2.642805941402912 \n",
            "Epoch:435 Loss:2.4886420518159866 \n",
            "Epoch:436 Loss:2.5653165951371193 \n",
            "Epoch:437 Loss:2.5218662843108177 \n",
            "Epoch:438 Loss:2.5952151119709015 \n",
            "Epoch:439 Loss:2.4892120733857155 \n",
            "Epoch:440 Loss:2.501523345708847 \n",
            "Epoch:441 Loss:2.456139400601387 \n",
            "Epoch:442 Loss:2.4490636587142944 \n",
            "Epoch:443 Loss:2.4542494416236877 \n",
            "Epoch:444 Loss:2.386640101671219 \n",
            "Epoch:445 Loss:2.5081509426236153 \n",
            "Epoch:446 Loss:2.459370531141758 \n",
            "Epoch:447 Loss:2.350501202046871 \n",
            "Epoch:448 Loss:2.5009239464998245 \n",
            "Epoch:449 Loss:2.538341850042343 \n",
            "Epoch:450 Loss:2.528104044497013 \n",
            "Epoch:451 Loss:2.4922112599015236 \n",
            "Epoch:452 Loss:2.4954837635159492 \n",
            "Epoch:453 Loss:2.4803339168429375 \n",
            "Epoch:454 Loss:2.443346731364727 \n",
            "Epoch:455 Loss:2.5353406816720963 \n",
            "Epoch:456 Loss:2.4405973851680756 \n",
            "Epoch:457 Loss:2.5114146769046783 \n",
            "Epoch:458 Loss:2.418278582394123 \n",
            "Epoch:459 Loss:2.6125821694731712 \n",
            "Epoch:460 Loss:2.429051138460636 \n",
            "Epoch:461 Loss:2.398949220776558 \n",
            "Epoch:462 Loss:2.515608571469784 \n",
            "Epoch:463 Loss:2.4726379439234734 \n",
            "Epoch:464 Loss:2.418704181909561 \n",
            "Epoch:465 Loss:2.60485178232193 \n",
            "Epoch:466 Loss:2.477760247886181 \n",
            "Epoch:467 Loss:2.5111704990267754 \n",
            "Epoch:468 Loss:2.5660548359155655 \n",
            "Epoch:469 Loss:2.4038859978318214 \n",
            "Epoch:470 Loss:2.4640278816223145 \n",
            "Epoch:471 Loss:2.540088474750519 \n",
            "Epoch:472 Loss:2.552191250026226 \n",
            "Epoch:473 Loss:2.4054922834038734 \n",
            "Epoch:474 Loss:2.4545237347483635 \n",
            "Epoch:475 Loss:2.446449227631092 \n",
            "Epoch:476 Loss:2.5002425611019135 \n",
            "Epoch:477 Loss:2.4507808163762093 \n",
            "Epoch:478 Loss:2.4814513623714447 \n",
            "Epoch:479 Loss:2.556378923356533 \n",
            "Epoch:480 Loss:2.5596734061837196 \n",
            "Epoch:481 Loss:2.4504267871379852 \n",
            "Epoch:482 Loss:2.4829187765717506 \n",
            "Epoch:483 Loss:2.4359685108065605 \n",
            "Epoch:484 Loss:2.600322887301445 \n",
            "Epoch:485 Loss:2.3592178523540497 \n",
            "Epoch:486 Loss:2.479570761322975 \n",
            "Epoch:487 Loss:2.4727787524461746 \n",
            "Epoch:488 Loss:2.48934143781662 \n",
            "Epoch:489 Loss:2.538591906428337 \n",
            "Epoch:490 Loss:2.5328760743141174 \n",
            "Epoch:491 Loss:2.487700268626213 \n",
            "Epoch:492 Loss:2.544852375984192 \n",
            "Epoch:493 Loss:2.4692489355802536 \n",
            "Epoch:494 Loss:2.3981421813368797 \n",
            "Epoch:495 Loss:2.375309456139803 \n",
            "Epoch:496 Loss:2.3864271864295006 \n",
            "Epoch:497 Loss:2.5046341866254807 \n",
            "Epoch:498 Loss:2.560385137796402 \n",
            "Epoch:499 Loss:2.4836267605423927 \n",
            "Epoch:500 Loss:2.423011861741543 \n",
            "Epoch:501 Loss:2.4817423671483994 \n",
            "Epoch:502 Loss:2.488880753517151 \n",
            "Epoch:503 Loss:2.37335654348135 \n",
            "Epoch:504 Loss:2.5113926380872726 \n",
            "Epoch:505 Loss:2.4360854253172874 \n",
            "Epoch:506 Loss:2.396551564335823 \n",
            "Epoch:507 Loss:2.4552270993590355 \n",
            "Epoch:508 Loss:2.4090787321329117 \n",
            "Epoch:509 Loss:2.440790817141533 \n",
            "Epoch:510 Loss:2.4589142948389053 \n",
            "Epoch:511 Loss:2.4548411071300507 \n",
            "Epoch:512 Loss:2.483017288148403 \n",
            "Epoch:513 Loss:2.4655101224780083 \n",
            "Epoch:514 Loss:2.387444071471691 \n",
            "Epoch:515 Loss:2.4850576147437096 \n",
            "Epoch:516 Loss:2.530589781701565 \n",
            "Epoch:517 Loss:2.51614660769701 \n",
            "Epoch:518 Loss:2.4410058706998825 \n",
            "Epoch:519 Loss:2.412877470254898 \n",
            "Epoch:520 Loss:2.543438620865345 \n",
            "Epoch:521 Loss:2.477042518556118 \n",
            "Epoch:522 Loss:2.4613050520420074 \n",
            "Epoch:523 Loss:2.516691580414772 \n",
            "Epoch:524 Loss:2.5807437896728516 \n",
            "Epoch:525 Loss:2.461419530212879 \n",
            "Epoch:526 Loss:2.469784736633301 \n",
            "Epoch:527 Loss:2.4843495413661003 \n",
            "Epoch:528 Loss:2.4745941907167435 \n",
            "Epoch:529 Loss:2.3974066749215126 \n",
            "Epoch:530 Loss:2.452334426343441 \n",
            "Epoch:531 Loss:2.527756653726101 \n",
            "Epoch:532 Loss:2.3473126739263535 \n",
            "Epoch:533 Loss:2.460132412612438 \n",
            "Epoch:534 Loss:2.521428197622299 \n",
            "Epoch:535 Loss:2.492130421102047 \n",
            "Epoch:536 Loss:2.5107876285910606 \n",
            "Epoch:537 Loss:2.4120924919843674 \n",
            "Epoch:538 Loss:2.554333284497261 \n",
            "Epoch:539 Loss:2.434552736580372 \n",
            "Epoch:540 Loss:2.37394493073225 \n",
            "Epoch:541 Loss:2.538549192249775 \n",
            "Epoch:542 Loss:2.471958763897419 \n",
            "Epoch:543 Loss:2.550566613674164 \n",
            "Epoch:544 Loss:2.4785730242729187 \n",
            "Epoch:545 Loss:2.445727661252022 \n",
            "Epoch:546 Loss:2.479089319705963 \n",
            "Epoch:547 Loss:2.3638434782624245 \n",
            "Epoch:548 Loss:2.563987210392952 \n",
            "Epoch:549 Loss:2.4562567993998528 \n",
            "Epoch:550 Loss:2.514043301343918 \n",
            "Epoch:551 Loss:2.466571070253849 \n",
            "Epoch:552 Loss:2.3639019951224327 \n",
            "Epoch:553 Loss:2.493631564080715 \n",
            "Epoch:554 Loss:2.4495863392949104 \n",
            "Epoch:555 Loss:2.499569483101368 \n",
            "Epoch:556 Loss:2.5166629254817963 \n",
            "Epoch:557 Loss:2.5658323541283607 \n",
            "Epoch:558 Loss:2.647230662405491 \n",
            "Epoch:559 Loss:2.6904963478446007 \n",
            "Epoch:560 Loss:2.5236766934394836 \n",
            "Epoch:561 Loss:2.4714257642626762 \n",
            "Epoch:562 Loss:2.401643291115761 \n",
            "Epoch:563 Loss:2.5215385034680367 \n",
            "Epoch:564 Loss:2.444066137075424 \n",
            "Epoch:565 Loss:2.431831445544958 \n",
            "Epoch:566 Loss:2.4667588621377945 \n",
            "Epoch:567 Loss:2.3723741620779037 \n",
            "Epoch:568 Loss:2.540401853621006 \n",
            "Epoch:569 Loss:2.514270134270191 \n",
            "Epoch:570 Loss:2.465491108596325 \n",
            "Epoch:571 Loss:2.4144511818885803 \n",
            "Epoch:572 Loss:2.3757385313510895 \n",
            "Epoch:573 Loss:2.464539259672165 \n",
            "Epoch:574 Loss:2.3684834986925125 \n",
            "Epoch:575 Loss:2.4194163605570793 \n",
            "Epoch:576 Loss:2.4974107667803764 \n",
            "Epoch:577 Loss:2.48634222894907 \n",
            "Epoch:578 Loss:2.4746707305312157 \n",
            "Epoch:579 Loss:2.479373499751091 \n",
            "Epoch:580 Loss:2.482486441731453 \n",
            "Epoch:581 Loss:2.3061399459838867 \n",
            "Epoch:582 Loss:2.5594801902770996 \n",
            "Epoch:583 Loss:2.430092863738537 \n",
            "Epoch:584 Loss:2.36292028054595 \n",
            "Epoch:585 Loss:2.5239474922418594 \n",
            "Epoch:586 Loss:2.36053766310215 \n",
            "Epoch:587 Loss:2.41172656416893 \n",
            "Epoch:588 Loss:2.480572924017906 \n",
            "Epoch:589 Loss:2.2701868787407875 \n",
            "Epoch:590 Loss:2.3599255830049515 \n",
            "Epoch:591 Loss:2.3921959325671196 \n",
            "Epoch:592 Loss:2.518753305077553 \n",
            "Epoch:593 Loss:2.4486580193042755 \n",
            "Epoch:594 Loss:2.4460596814751625 \n",
            "Epoch:595 Loss:2.4045745581388474 \n",
            "Epoch:596 Loss:2.4799108430743217 \n",
            "Epoch:597 Loss:2.38984152674675 \n",
            "Epoch:598 Loss:2.4544780403375626 \n",
            "Epoch:599 Loss:2.464110143482685 \n",
            "Epoch:600 Loss:2.4604944586753845 \n",
            "Epoch:601 Loss:2.4044009000062943 \n",
            "Epoch:602 Loss:2.4704226925969124 \n",
            "Epoch:603 Loss:2.4228399097919464 \n",
            "Epoch:604 Loss:2.4231278002262115 \n",
            "Epoch:605 Loss:2.4615831449627876 \n",
            "Epoch:606 Loss:2.5259001702070236 \n",
            "Epoch:607 Loss:2.395670473575592 \n",
            "Epoch:608 Loss:2.501838907599449 \n",
            "Epoch:609 Loss:2.3250592201948166 \n",
            "Epoch:610 Loss:2.4321147799491882 \n",
            "Epoch:611 Loss:2.387930430471897 \n",
            "Epoch:612 Loss:2.3981494158506393 \n",
            "Epoch:613 Loss:2.517559178173542 \n",
            "Epoch:614 Loss:2.454936735332012 \n",
            "Epoch:615 Loss:2.391440659761429 \n",
            "Epoch:616 Loss:2.501017175614834 \n",
            "Epoch:617 Loss:2.40353050082922 \n",
            "Epoch:618 Loss:2.472298324108124 \n",
            "Epoch:619 Loss:2.303317829966545 \n",
            "Epoch:620 Loss:2.3866629227995872 \n",
            "Epoch:621 Loss:2.505768395960331 \n",
            "Epoch:622 Loss:2.3912247493863106 \n",
            "Epoch:623 Loss:2.5098260790109634 \n",
            "Epoch:624 Loss:2.5140967592597008 \n",
            "Epoch:625 Loss:2.4568836018443108 \n",
            "Epoch:626 Loss:2.314194194972515 \n",
            "Epoch:627 Loss:2.438985303044319 \n",
            "Epoch:628 Loss:2.468323864042759 \n",
            "Epoch:629 Loss:2.486867055296898 \n",
            "Epoch:630 Loss:2.3650559782981873 \n",
            "Epoch:631 Loss:2.445055343210697 \n",
            "Epoch:632 Loss:2.352993056178093 \n",
            "Epoch:633 Loss:2.4019450917840004 \n",
            "Epoch:634 Loss:2.4556652158498764 \n",
            "Epoch:635 Loss:2.4761146679520607 \n",
            "Epoch:636 Loss:2.3610997423529625 \n",
            "Epoch:637 Loss:2.3970624059438705 \n",
            "Epoch:638 Loss:2.4544809088110924 \n",
            "Epoch:639 Loss:2.4429514929652214 \n",
            "Epoch:640 Loss:2.502443678677082 \n",
            "Epoch:641 Loss:2.4158728048205376 \n",
            "Epoch:642 Loss:2.405525527894497 \n",
            "Epoch:643 Loss:2.436971165239811 \n",
            "Epoch:644 Loss:2.3628663793206215 \n",
            "Epoch:645 Loss:2.3330308496952057 \n",
            "Epoch:646 Loss:2.5160347521305084 \n",
            "Epoch:647 Loss:2.3648209869861603 \n",
            "Epoch:648 Loss:2.475039154291153 \n",
            "Epoch:649 Loss:2.4705735370516777 \n",
            "Epoch:650 Loss:2.481502942740917 \n",
            "Epoch:651 Loss:2.3635891526937485 \n",
            "Epoch:652 Loss:2.434711918234825 \n",
            "Epoch:653 Loss:2.3420466631650925 \n",
            "Epoch:654 Loss:2.483373560011387 \n",
            "Epoch:655 Loss:2.4426429346203804 \n",
            "Epoch:656 Loss:2.3522761091589928 \n",
            "Epoch:657 Loss:2.4528618529438972 \n",
            "Epoch:658 Loss:2.4203110337257385 \n",
            "Epoch:659 Loss:2.47130473703146 \n",
            "Epoch:660 Loss:2.4154485687613487 \n",
            "Epoch:661 Loss:2.443125829100609 \n",
            "Epoch:662 Loss:2.431057244539261 \n",
            "Epoch:663 Loss:2.422343734651804 \n",
            "Epoch:664 Loss:2.3743686228990555 \n",
            "Epoch:665 Loss:2.367369942367077 \n",
            "Epoch:666 Loss:2.426969550549984 \n",
            "Epoch:667 Loss:2.455982059240341 \n",
            "Epoch:668 Loss:2.3349139019846916 \n",
            "Epoch:669 Loss:2.441939376294613 \n",
            "Epoch:670 Loss:2.434753969311714 \n",
            "Epoch:671 Loss:2.3978766947984695 \n",
            "Epoch:672 Loss:2.42645276337862 \n",
            "Epoch:673 Loss:2.3544811755418777 \n",
            "Epoch:674 Loss:2.3604211881756783 \n",
            "Epoch:675 Loss:2.3779976665973663 \n",
            "Epoch:676 Loss:2.422018975019455 \n",
            "Epoch:677 Loss:2.4291303381323814 \n",
            "Epoch:678 Loss:2.4480845034122467 \n",
            "Epoch:679 Loss:2.448236033320427 \n",
            "Epoch:680 Loss:2.3477760702371597 \n",
            "Epoch:681 Loss:2.473395310342312 \n",
            "Epoch:682 Loss:2.5332174971699715 \n",
            "Epoch:683 Loss:2.3464863151311874 \n",
            "Epoch:684 Loss:2.3349293619394302 \n",
            "Epoch:685 Loss:2.4672235399484634 \n",
            "Epoch:686 Loss:2.41117300093174 \n",
            "Epoch:687 Loss:2.5555155985057354 \n",
            "Epoch:688 Loss:2.3840416893363 \n",
            "Epoch:689 Loss:2.40555576980114 \n",
            "Epoch:690 Loss:2.4030768275260925 \n",
            "Epoch:691 Loss:2.475483275949955 \n",
            "Epoch:692 Loss:2.297680176794529 \n",
            "Epoch:693 Loss:2.398569419980049 \n",
            "Epoch:694 Loss:2.424642987549305 \n",
            "Epoch:695 Loss:2.4364426136016846 \n",
            "Epoch:696 Loss:2.5349879041314125 \n",
            "Epoch:697 Loss:2.410827048122883 \n",
            "Epoch:698 Loss:2.547903262078762 \n",
            "Epoch:699 Loss:2.5503602102398872 \n",
            "Epoch:700 Loss:2.394977882504463 \n",
            "Epoch:701 Loss:2.3659886866807938 \n",
            "Epoch:702 Loss:2.369112104177475 \n",
            "Epoch:703 Loss:2.448873706161976 \n",
            "Epoch:704 Loss:2.434147424995899 \n",
            "Epoch:705 Loss:2.4225801676511765 \n",
            "Epoch:706 Loss:2.459748014807701 \n",
            "Epoch:707 Loss:2.4787977561354637 \n",
            "Epoch:708 Loss:2.403639428317547 \n",
            "Epoch:709 Loss:2.4456202909350395 \n",
            "Epoch:710 Loss:2.417801707983017 \n",
            "Epoch:711 Loss:2.4386602863669395 \n",
            "Epoch:712 Loss:2.3468554839491844 \n",
            "Epoch:713 Loss:2.4650644436478615 \n",
            "Epoch:714 Loss:2.45632816106081 \n",
            "Epoch:715 Loss:2.302546836435795 \n",
            "Epoch:716 Loss:2.4452967420220375 \n",
            "Epoch:717 Loss:2.405243404209614 \n",
            "Epoch:718 Loss:2.374187633395195 \n",
            "Epoch:719 Loss:2.4487373307347298 \n",
            "Epoch:720 Loss:2.3592915683984756 \n",
            "Epoch:721 Loss:2.3658808022737503 \n",
            "Epoch:722 Loss:2.349821977317333 \n",
            "Epoch:723 Loss:2.4182245060801506 \n",
            "Epoch:724 Loss:2.329367734491825 \n",
            "Epoch:725 Loss:2.290551535785198 \n",
            "Epoch:726 Loss:2.4392620474100113 \n",
            "Epoch:727 Loss:2.456783451139927 \n",
            "Epoch:728 Loss:2.330689750611782 \n",
            "Epoch:729 Loss:2.4181766286492348 \n",
            "Epoch:730 Loss:2.3396245390176773 \n",
            "Epoch:731 Loss:2.301622189581394 \n",
            "Epoch:732 Loss:2.35841054469347 \n",
            "Epoch:733 Loss:2.394880637526512 \n",
            "Epoch:734 Loss:2.417538531124592 \n",
            "Epoch:735 Loss:2.2645467817783356 \n",
            "Epoch:736 Loss:2.4514654129743576 \n",
            "Epoch:737 Loss:2.4328134804964066 \n",
            "Epoch:738 Loss:2.3619642332196236 \n",
            "Epoch:739 Loss:2.3164874836802483 \n",
            "Epoch:740 Loss:2.537981428205967 \n",
            "Epoch:741 Loss:2.2542397901415825 \n",
            "Epoch:742 Loss:2.447248339653015 \n",
            "Epoch:743 Loss:2.3780453950166702 \n",
            "Epoch:744 Loss:2.3487779051065445 \n",
            "Epoch:745 Loss:2.354685701429844 \n",
            "Epoch:746 Loss:2.506408028304577 \n",
            "Epoch:747 Loss:2.4768164306879044 \n",
            "Epoch:748 Loss:2.424817517399788 \n",
            "Epoch:749 Loss:2.521552085876465 \n"
          ],
          "name": "stdout"
        }
      ]
    },
    {
      "cell_type": "code",
      "metadata": {
        "id": "ff8N_IZZ3ydF"
      },
      "source": [
        "(X,y) = next(Training_patches)\n",
        "X = torch.FloatTensor(X).to(device)\n",
        "y = torch.Tensor(y).to(device)\n",
        "outputs = model(X)"
      ],
      "execution_count": null,
      "outputs": []
    },
    {
      "cell_type": "code",
      "metadata": {
        "id": "DF8pDOJX3ydJ"
      },
      "source": [
        "torch.save(model,\"Modelo_seg.ph\")"
      ],
      "execution_count": 25,
      "outputs": []
    },
    {
      "cell_type": "code",
      "metadata": {
        "id": "rzNKHOpI3ydN"
      },
      "source": [
        "model = torch.load('Modelo_seg.ph')"
      ],
      "execution_count": 26,
      "outputs": []
    },
    {
      "cell_type": "code",
      "metadata": {
        "id": "sT0TxxSx3ydQ"
      },
      "source": [
        "class Image2Generator:\n",
        "    \"\"\" Image_to_Generator(File,patch_size = [32,32],batch_size = 100)\n",
        "        - Reads a DataFrame and creates a Generator that yields the same image divided in patches. The patch must be\n",
        "        smaller than the whole image. The DataFrame must contain the original File.\n",
        "\n",
        "        :param File:           Numpy array containing the image.\n",
        "        :param patch_size:     Size of the patches to generate.\n",
        "        :param batch_size:     Number of patches to generate per batch\n",
        "    \"\"\"\n",
        "\n",
        "    def __init__(self, File, patch_size=[32, 32], batch_size=100):\n",
        "\n",
        "        # Save the size of the patches\n",
        "        self.patch_size = patch_size\n",
        "\n",
        "        # Save the batch size\n",
        "        self.batch_size = batch_size\n",
        "\n",
        "        # If not data found, raise an exception\n",
        "        # if not os.path.isfile(File):\n",
        "        #    raise Exception(f\"Sorry, no data in {File} to process\")\n",
        "\n",
        "        # If found, read image\n",
        "        # X = cv2.imread(File)  # The image is read as BGR\n",
        "        X = cv2.cvtColor(File, cv2.COLOR_BGR2RGB)  # Color space correction is performed\n",
        "        X = cv2.normalize(X, None, alpha=0,  # Normalize image to fit from 0 to 1\n",
        "                          beta=1,\n",
        "                          norm_type=cv2.NORM_MINMAX,\n",
        "                          dtype=cv2.CV_32F)\n",
        "        (self.M, self.N, self.C) = X.shape  # Get the size of the image\n",
        "\n",
        "        # Compute the number of patches\n",
        "        n_patches_x = int(np.ceil(self.M / self.patch_size[0]))\n",
        "        n_patches_y = int(np.ceil(self.N / self.patch_size[1]))\n",
        "\n",
        "        # Create a blank image to store the padded image\n",
        "        self.I = np.zeros([n_patches_x * self.patch_size[0], n_patches_y * self.patch_size[1], self.C])\n",
        "\n",
        "        # Add the original image\n",
        "        self.I[0:self.M, 0:self.N, :] = X\n",
        "\n",
        "        Patches = []\n",
        "\n",
        "        # Create the patches for the image\n",
        "        for X_coordinate in range(0, (n_patches_x) * self.patch_size[0], self.patch_size[0]):  # -- BATCH START\n",
        "            for Y_coordinate in range(0, (n_patches_y) * self.patch_size[1], self.patch_size[1]):\n",
        "                Patches.append(self.I[X_coordinate:X_coordinate + self.patch_size[0],\n",
        "                               Y_coordinate:Y_coordinate + self.patch_size[1], :])\n",
        "\n",
        "        # Store the patches for later retrieval\n",
        "        self.patches = np.array(Patches)\n",
        "        self.n_patches_x = n_patches_x\n",
        "        self.n_patches_y = n_patches_y\n",
        "        self.total_patches = n_patches_y * n_patches_x + ((n_patches_y * n_patches_x) % batch_size)\n",
        "\n",
        "        self.index = 0\n",
        "        # User notification\n",
        "        print(f\"A generator object containing all the image has been created\")\n",
        "\n",
        "    def __next__(self):\n",
        "        \"\"\"\n",
        "        Yields the next training batch.\n",
        "        \"\"\"\n",
        "        # If there are not enough patches to complete the batch fill the remaining with zeros, else return the batch\n",
        "        if self.index + self.batch_size > self.n_patches_x * self.n_patches_y:\n",
        "            fill = np.zeros([self.patch_size[0], self.patch_size[1], self.C])\n",
        "            fill = np.array([fill for i in range(self.index + self.batch_size - self.n_patches_x * self.n_patches_y)])\n",
        "            print(fill.shape)\n",
        "            return np.concatenate((self.patches[self.index:], fill))\n",
        "        else:\n",
        "            to_return = self.patches[self.index: self.index + self.batch_size]\n",
        "            self.index = self.index + self.batch_size\n",
        "            return to_return\n",
        "\n",
        "    def __iter__(self):\n",
        "        return self"
      ],
      "execution_count": 27,
      "outputs": []
    },
    {
      "cell_type": "code",
      "metadata": {
        "id": "W86HhHeL3ydT",
        "outputId": "f3ba6a5b-5d6f-4277-fd29-d73a13122219",
        "colab": {
          "base_uri": "https://localhost:8080/",
          "height": 34
        }
      },
      "source": [
        "I = cv2.imread(data_test['Original'].iloc[0])\n",
        "I = cv2.cvtColor(I,4)\n",
        "I.shape"
      ],
      "execution_count": 28,
      "outputs": [
        {
          "output_type": "execute_result",
          "data": {
            "text/plain": [
              "(584, 565, 3)"
            ]
          },
          "metadata": {
            "tags": []
          },
          "execution_count": 28
        }
      ]
    },
    {
      "cell_type": "code",
      "metadata": {
        "id": "_VLbH1r1GM_W"
      },
      "source": [
        "from Segmentation_OPTOS.Tools.Generators.Patch_generator import Image2Generator,Generator2ImagePT"
      ],
      "execution_count": 35,
      "outputs": []
    },
    {
      "cell_type": "code",
      "metadata": {
        "id": "PPBuiRaw3ydX",
        "outputId": "df71dfe5-ec88-45be-e411-c0089654a467",
        "colab": {
          "base_uri": "https://localhost:8080/",
          "height": 34
        }
      },
      "source": [
        "Test_generator = Image2Generator(I,patch_size=[63,63],batch_size=1)"
      ],
      "execution_count": 36,
      "outputs": [
        {
          "output_type": "stream",
          "text": [
            "A generator object containing all the image has been created\n"
          ],
          "name": "stdout"
        }
      ]
    },
    {
      "cell_type": "code",
      "metadata": {
        "id": "qCvfW8pp3ydb"
      },
      "source": [
        "New_I = Generator2ImagePT(model,Test_generator)"
      ],
      "execution_count": 37,
      "outputs": []
    },
    {
      "cell_type": "code",
      "metadata": {
        "id": "_OdduWXb3ydf",
        "outputId": "59513088-2f04-4ef1-a652-bd91501fdaa9",
        "colab": {
          "base_uri": "https://localhost:8080/",
          "height": 34
        }
      },
      "source": [
        "New_I.shape"
      ],
      "execution_count": 38,
      "outputs": [
        {
          "output_type": "execute_result",
          "data": {
            "text/plain": [
              "(584, 565)"
            ]
          },
          "metadata": {
            "tags": []
          },
          "execution_count": 38
        }
      ]
    },
    {
      "cell_type": "code",
      "metadata": {
        "id": "_yr-cGsO3ydh",
        "outputId": "6754df99-f61d-405a-b252-b8f69787cf9f",
        "colab": {
          "base_uri": "https://localhost:8080/",
          "height": 286
        }
      },
      "source": [
        "plt.imshow(New_I)"
      ],
      "execution_count": 39,
      "outputs": [
        {
          "output_type": "execute_result",
          "data": {
            "text/plain": [
              "<matplotlib.image.AxesImage at 0x7f52202ee978>"
            ]
          },
          "metadata": {
            "tags": []
          },
          "execution_count": 39
        },
        {
          "output_type": "display_data",
          "data": {
            "image/png": "[encoded data removed]",
            "text/plain": [
              "<Figure size 432x288 with 1 Axes>"
            ]
          },
          "metadata": {
            "tags": [],
            "needs_background": "light"
          }
        }
      ]
    },
    {
      "cell_type": "code",
      "metadata": {
        "id": "jP7jcqr7Govh"
      },
      "source": [
        "plt.imsave(\"Example.jpeg\",New_I)"
      ],
      "execution_count": 41,
      "outputs": []
    },
    {
      "cell_type": "code",
      "metadata": {
        "id": "2iICs4G13ydl",
        "outputId": "1463b0d6-c177-4518-eff9-b4f24f63e3d6",
        "colab": {
          "base_uri": "https://localhost:8080/",
          "height": 286
        }
      },
      "source": [
        "plt.imshow(I)"
      ],
      "execution_count": 40,
      "outputs": [
        {
          "output_type": "execute_result",
          "data": {
            "text/plain": [
              "<matplotlib.image.AxesImage at 0x7f522002c6d8>"
            ]
          },
          "metadata": {
            "tags": []
          },
          "execution_count": 40
        },
        {
          "output_type": "display_data",
          "data": {
            "image/png": "[encoded data removed]",
            "text/plain": [
              "<Figure size 432x288 with 1 Axes>"
            ]
          },
          "metadata": {
            "tags": [],
            "needs_background": "light"
          }
        }
      ]
    },
    {
      "cell_type": "code",
      "metadata": {
        "id": "YzLoCDTY3ydo"
      },
      "source": [
        ""
      ],
      "execution_count": null,
      "outputs": []
    }
  ]
}