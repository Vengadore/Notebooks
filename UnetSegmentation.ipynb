{
  "nbformat": 4,
  "nbformat_minor": 0,
  "metadata": {
    "kernelspec": {
      "display_name": "Python 3",
      "language": "python",
      "name": "python3"
    },
    "language_info": {
      "codemirror_mode": {
        "name": "ipython",
        "version": 3
      },
      "file_extension": ".py",
      "mimetype": "text/x-python",
      "name": "python",
      "nbconvert_exporter": "python",
      "pygments_lexer": "ipython3",
      "version": "3.7.9"
    },
    "colab": {
      "name": "UnetSegmentation.ipynb",
      "provenance": [],
      "toc_visible": true,
      "include_colab_link": true
    },
    "accelerator": "GPU"
  },
  "cells": [
    {
      "cell_type": "markdown",
      "metadata": {
        "id": "view-in-github",
        "colab_type": "text"
      },
      "source": [
        "<a href=\"https://colab.research.google.com/github/Vengadore/Notebooks/blob/master/UnetSegmentation.ipynb\" target=\"_parent\"><img src=\"https://colab.research.google.com/assets/colab-badge.svg\" alt=\"Open In Colab\"/></a>"
      ]
    },
    {
      "cell_type": "code",
      "metadata": {
        "id": "EQDr68m233Yr",
        "outputId": "931788de-1d94-4687-a961-7ee08faf7165",
        "colab": {
          "base_uri": "https://localhost:8080/",
          "height": 364
        }
      },
      "source": [
        "!nvidia-smi\n",
        "!rm -rf *"
      ],
      "execution_count": 1,
      "outputs": [
        {
          "output_type": "stream",
          "text": [
            "Thu Oct 22 01:44:49 2020       \n",
            "+-----------------------------------------------------------------------------+\n",
            "| NVIDIA-SMI 455.23.05    Driver Version: 418.67       CUDA Version: 10.1     |\n",
            "|-------------------------------+----------------------+----------------------+\n",
            "| GPU  Name        Persistence-M| Bus-Id        Disp.A | Volatile Uncorr. ECC |\n",
            "| Fan  Temp  Perf  Pwr:Usage/Cap|         Memory-Usage | GPU-Util  Compute M. |\n",
            "|                               |                      |               MIG M. |\n",
            "|===============================+======================+======================|\n",
            "|   0  Tesla T4            Off  | 00000000:00:04.0 Off |                    0 |\n",
            "| N/A   54C    P8    10W /  70W |      0MiB / 15079MiB |      0%      Default |\n",
            "|                               |                      |                 ERR! |\n",
            "+-------------------------------+----------------------+----------------------+\n",
            "                                                                               \n",
            "+-----------------------------------------------------------------------------+\n",
            "| Processes:                                                                  |\n",
            "|  GPU   GI   CI        PID   Type   Process name                  GPU Memory |\n",
            "|        ID   ID                                                   Usage      |\n",
            "|=============================================================================|\n",
            "|  No running processes found                                                 |\n",
            "+-----------------------------------------------------------------------------+\n"
          ],
          "name": "stdout"
        }
      ]
    },
    {
      "cell_type": "code",
      "metadata": {
        "id": "9Zfz1fk63yby",
        "outputId": "c421a987-41b0-42c1-9780-fea876ec4972",
        "colab": {
          "base_uri": "https://localhost:8080/",
          "height": 1000
        }
      },
      "source": [
        "!wget \"https://correoipn-my.sharepoint.com/:u:/g/personal/ccarrillog1400_alumno_ipn_mx/ERgktnjHms9DroR01IFSAsEBGQipq3SG8sjTZUSEQuRK9Q?download=1\"\n",
        "!mv \"ERgktnjHms9DroR01IFSAsEBGQipq3SG8sjTZUSEQuRK9Q?download=1\" \"DRIVE.rar\"\n",
        "!unrar x DRIVE.rar\n",
        "!rm \"DRIVE.rar\""
      ],
      "execution_count": 2,
      "outputs": [
        {
          "output_type": "stream",
          "text": [
            "--2020-10-22 01:44:50--  https://correoipn-my.sharepoint.com/:u:/g/personal/ccarrillog1400_alumno_ipn_mx/ERgktnjHms9DroR01IFSAsEBGQipq3SG8sjTZUSEQuRK9Q?download=1\n",
            "Resolving correoipn-my.sharepoint.com (correoipn-my.sharepoint.com)... 13.107.136.9\n",
            "Connecting to correoipn-my.sharepoint.com (correoipn-my.sharepoint.com)|13.107.136.9|:443... connected.\n",
            "HTTP request sent, awaiting response... 302 Found\n",
            "Location: /personal/ccarrillog1400_alumno_ipn_mx/Documents/Data%20Bases/Other%20Databases/DRIVE.rar?originalPath=aHR0cHM6Ly9jb3JyZW9pcG4tbXkuc2hhcmVwb2ludC5jb20vOnU6L2cvcGVyc29uYWwvY2NhcnJpbGxvZzE0MDBfYWx1bW5vX2lwbl9teC9FUmdrdG5qSG1zOURyb1IwMUlGU0FzRUJHUWlwcTNTRzhzalRaVVNFUXVSSzlRP3J0aW1lPWV6clZFQ3gyMkVn [following]\n",
            "--2020-10-22 01:44:50--  https://correoipn-my.sharepoint.com/personal/ccarrillog1400_alumno_ipn_mx/Documents/Data%20Bases/Other%20Databases/DRIVE.rar?originalPath=aHR0cHM6Ly9jb3JyZW9pcG4tbXkuc2hhcmVwb2ludC5jb20vOnU6L2cvcGVyc29uYWwvY2NhcnJpbGxvZzE0MDBfYWx1bW5vX2lwbl9teC9FUmdrdG5qSG1zOURyb1IwMUlGU0FzRUJHUWlwcTNTRzhzalRaVVNFUXVSSzlRP3J0aW1lPWV6clZFQ3gyMkVn\n",
            "Reusing existing connection to correoipn-my.sharepoint.com:443.\n",
            "HTTP request sent, awaiting response... 200 OK\n",
            "Length: 29611503 (28M) [application/octet-stream]\n",
            "Saving to: ‘ERgktnjHms9DroR01IFSAsEBGQipq3SG8sjTZUSEQuRK9Q?download=1’\n",
            "\n",
            "ERgktnjHms9DroR01IF 100%[===================>]  28.24M  54.2MB/s    in 0.5s    \n",
            "\n",
            "2020-10-22 01:44:51 (54.2 MB/s) - ‘ERgktnjHms9DroR01IFSAsEBGQipq3SG8sjTZUSEQuRK9Q?download=1’ saved [29611503/29611503]\n",
            "\n",
            "\n",
            "UNRAR 5.50 freeware      Copyright (c) 1993-2017 Alexander Roshal\n",
            "\n",
            "\n",
            "Extracting from DRIVE.rar\n",
            "\n",
            "Creating    test                                                      OK\n",
            "Creating    test/1st_manual                                           OK\n",
            "Extracting  test/1st_manual/01_manual1.tif                               \b\b\b\b  0%\b\b\b\b\b  OK \n",
            "Extracting  test/1st_manual/02_manual1.tif                               \b\b\b\b  0%\b\b\b\b\b  OK \n",
            "Extracting  test/1st_manual/03_manual1.tif                               \b\b\b\b  0%\b\b\b\b\b  OK \n",
            "Extracting  test/1st_manual/04_manual1.tif                               \b\b\b\b  0%\b\b\b\b\b  OK \n",
            "Extracting  test/1st_manual/05_manual1.tif                               \b\b\b\b  0%\b\b\b\b\b  OK \n",
            "Extracting  test/1st_manual/06_manual1.tif                               \b\b\b\b  0%\b\b\b\b\b  OK \n",
            "Extracting  test/1st_manual/07_manual1.tif                               \b\b\b\b  0%\b\b\b\b\b  OK \n",
            "Extracting  test/1st_manual/08_manual1.tif                               \b\b\b\b  0%\b\b\b\b\b  OK \n",
            "Extracting  test/1st_manual/09_manual1.tif                               \b\b\b\b  0%\b\b\b\b\b  OK \n",
            "Extracting  test/1st_manual/10_manual1.tif                               \b\b\b\b  0%\b\b\b\b\b  OK \n",
            "Extracting  test/1st_manual/11_manual1.tif                               \b\b\b\b  0%\b\b\b\b\b  OK \n",
            "Extracting  test/1st_manual/12_manual1.tif                               \b\b\b\b  0%\b\b\b\b\b  OK \n",
            "Extracting  test/1st_manual/13_manual1.tif                               \b\b\b\b  0%\b\b\b\b\b  OK \n",
            "Extracting  test/1st_manual/14_manual1.tif                               \b\b\b\b  0%\b\b\b\b\b  OK \n",
            "Extracting  test/1st_manual/15_manual1.tif                               \b\b\b\b  0%\b\b\b\b\b  OK \n",
            "Extracting  test/1st_manual/16_manual1.tif                               \b\b\b\b  0%\b\b\b\b\b  OK \n",
            "Extracting  test/1st_manual/17_manual1.tif                               \b\b\b\b  0%\b\b\b\b\b  OK \n",
            "Extracting  test/1st_manual/18_manual1.tif                               \b\b\b\b  0%\b\b\b\b\b  OK \n",
            "Extracting  test/1st_manual/19_manual1.tif                               \b\b\b\b  0%\b\b\b\b\b  OK \n",
            "Extracting  test/1st_manual/20_manual1.tif                               \b\b\b\b  0%\b\b\b\b\b  OK \n",
            "Creating    test/2nd_manual                                           OK\n",
            "Extracting  test/2nd_manual/01_manual2.tif                               \b\b\b\b  0%\b\b\b\b\b  OK \n",
            "Extracting  test/2nd_manual/02_manual2.tif                               \b\b\b\b  0%\b\b\b\b\b  OK \n",
            "Extracting  test/2nd_manual/03_manual2.tif                               \b\b\b\b  0%\b\b\b\b\b  OK \n",
            "Extracting  test/2nd_manual/04_manual2.tif                               \b\b\b\b  0%\b\b\b\b\b  OK \n",
            "Extracting  test/2nd_manual/05_manual2.tif                               \b\b\b\b  0%\b\b\b\b\b  OK \n",
            "Extracting  test/2nd_manual/06_manual2.tif                               \b\b\b\b  0%\b\b\b\b\b  OK \n",
            "Extracting  test/2nd_manual/07_manual2.tif                               \b\b\b\b  0%\b\b\b\b\b  OK \n",
            "Extracting  test/2nd_manual/08_manual2.tif                               \b\b\b\b  1%\b\b\b\b\b  OK \n",
            "Extracting  test/2nd_manual/09_manual2.tif                               \b\b\b\b  1%\b\b\b\b\b  OK \n",
            "Extracting  test/2nd_manual/10_manual2.tif                               \b\b\b\b  1%\b\b\b\b\b  OK \n",
            "Extracting  test/2nd_manual/11_manual2.tif                               \b\b\b\b  1%\b\b\b\b\b  OK \n",
            "Extracting  test/2nd_manual/12_manual2.tif                               \b\b\b\b  1%\b\b\b\b\b  OK \n",
            "Extracting  test/2nd_manual/13_manual2.tif                               \b\b\b\b  1%\b\b\b\b\b  OK \n",
            "Extracting  test/2nd_manual/14_manual2.tif                               \b\b\b\b  1%\b\b\b\b\b  OK \n",
            "Extracting  test/2nd_manual/15_manual2.tif                               \b\b\b\b  1%\b\b\b\b\b  OK \n",
            "Extracting  test/2nd_manual/16_manual2.tif                               \b\b\b\b  1%\b\b\b\b\b  OK \n",
            "Extracting  test/2nd_manual/17_manual2.tif                               \b\b\b\b  1%\b\b\b\b\b  OK \n",
            "Extracting  test/2nd_manual/18_manual2.tif                               \b\b\b\b  1%\b\b\b\b\b  OK \n",
            "Extracting  test/2nd_manual/19_manual2.tif                               \b\b\b\b  1%\b\b\b\b\b  OK \n",
            "Extracting  test/2nd_manual/20_manual2.tif                               \b\b\b\b  1%\b\b\b\b\b  OK \n",
            "Creating    test/images                                               OK\n",
            "Extracting  test/images/01_test.tif                                      \b\b\b\b  3%\b\b\b\b\b  OK \n",
            "Extracting  test/images/02_test.tif                                      \b\b\b\b  6%\b\b\b\b\b  OK \n",
            "Extracting  test/images/03_test.tif                                      \b\b\b\b  8%\b\b\b\b\b  OK \n",
            "Extracting  test/images/04_test.tif                                      \b\b\b\b 10%\b\b\b\b\b  OK \n",
            "Extracting  test/images/05_test.tif                                      \b\b\b\b 13%\b\b\b\b\b  OK \n",
            "Extracting  test/images/06_test.tif                                      \b\b\b\b 15%\b\b\b\b\b  OK \n",
            "Extracting  test/images/07_test.tif                                      \b\b\b\b 18%\b\b\b\b\b  OK \n",
            "Extracting  test/images/08_test.tif                                      \b\b\b\b 20%\b\b\b\b\b  OK \n",
            "Extracting  test/images/09_test.tif                                      \b\b\b\b 23%\b\b\b\b\b  OK \n",
            "Extracting  test/images/10_test.tif                                      \b\b\b\b 25%\b\b\b\b\b  OK \n",
            "Extracting  test/images/11_test.tif                                      \b\b\b\b 28%\b\b\b\b\b  OK \n",
            "Extracting  test/images/12_test.tif                                      \b\b\b\b 30%\b\b\b\b\b  OK \n",
            "Extracting  test/images/13_test.tif                                      \b\b\b\b 32%\b\b\b\b\b  OK \n",
            "Extracting  test/images/14_test.tif                                      \b\b\b\b 35%\b\b\b\b\b  OK \n",
            "Extracting  test/images/15_test.tif                                      \b\b\b\b 38%\b\b\b\b\b  OK \n",
            "Extracting  test/images/16_test.tif                                      \b\b\b\b 40%\b\b\b\b\b  OK \n",
            "Extracting  test/images/17_test.tif                                      \b\b\b\b 43%\b\b\b\b\b  OK \n",
            "Extracting  test/images/18_test.tif                                      \b\b\b\b 45%\b\b\b\b\b  OK \n",
            "Extracting  test/images/19_test.tif                                      \b\b\b\b 47%\b\b\b\b\b  OK \n",
            "Extracting  test/images/20_test.tif                                      \b\b\b\b 50%\b\b\b\b\b  OK \n",
            "Creating    test/mask                                                 OK\n",
            "Extracting  test/mask/01_test_mask.tif                                   \b\b\b\b 50%\b\b\b\b\b  OK \n",
            "Extracting  test/mask/02_test_mask.tif                                   \b\b\b\b 50%\b\b\b\b\b  OK \n",
            "Extracting  test/mask/03_test_mask.tif                                   \b\b\b\b 50%\b\b\b\b\b  OK \n",
            "Extracting  test/mask/04_test_mask.tif                                   \b\b\b\b 50%\b\b\b\b\b  OK \n",
            "Extracting  test/mask/05_test_mask.tif                                   \b\b\b\b 50%\b\b\b\b\b  OK \n",
            "Extracting  test/mask/06_test_mask.tif                                   \b\b\b\b 50%\b\b\b\b\b  OK \n",
            "Extracting  test/mask/07_test_mask.tif                                   \b\b\b\b 50%\b\b\b\b\b  OK \n",
            "Extracting  test/mask/08_test_mask.tif                                   \b\b\b\b 50%\b\b\b\b\b  OK \n",
            "Extracting  test/mask/09_test_mask.tif                                   \b\b\b\b 50%\b\b\b\b\b  OK \n",
            "Extracting  test/mask/10_test_mask.tif                                   \b\b\b\b 50%\b\b\b\b\b  OK \n",
            "Extracting  test/mask/11_test_mask.tif                                   \b\b\b\b 50%\b\b\b\b\b  OK \n",
            "Extracting  test/mask/12_test_mask.tif                                   \b\b\b\b 50%\b\b\b\b\b  OK \n",
            "Extracting  test/mask/13_test_mask.tif                                   \b\b\b\b 50%\b\b\b\b\b  OK \n",
            "Extracting  test/mask/14_test_mask.tif                                   \b\b\b\b 50%\b\b\b\b\b  OK \n",
            "Extracting  test/mask/15_test_mask.tif                                   \b\b\b\b 50%\b\b\b\b\b  OK \n",
            "Extracting  test/mask/16_test_mask.tif                                   \b\b\b\b 50%\b\b\b\b\b  OK \n",
            "Extracting  test/mask/17_test_mask.tif                                   \b\b\b\b 50%\b\b\b\b\b  OK \n",
            "Extracting  test/mask/18_test_mask.tif                                   \b\b\b\b 50%\b\b\b\b\b  OK \n",
            "Extracting  test/mask/19_test_mask.tif                                   \b\b\b\b 50%\b\b\b\b\b  OK \n",
            "Extracting  test/mask/20_test_mask.tif                                   \b\b\b\b 50%\b\b\b\b\b  OK \n",
            "Creating    training                                                  OK\n",
            "Creating    training/1st_manual                                       OK\n",
            "Extracting  training/1st_manual/21_manual1.tif                           \b\b\b\b 50%\b\b\b\b\b  OK \n",
            "Extracting  training/1st_manual/22_manual1.tif                           \b\b\b\b 50%\b\b\b\b\b  OK \n",
            "Extracting  training/1st_manual/23_manual1.tif                           \b\b\b\b 50%\b\b\b\b\b  OK \n",
            "Extracting  training/1st_manual/24_manual1.tif                           \b\b\b\b 50%\b\b\b\b\b  OK \n",
            "Extracting  training/1st_manual/25_manual1.tif                           \b\b\b\b 50%\b\b\b\b\b  OK \n",
            "Extracting  training/1st_manual/26_manual1.tif                           \b\b\b\b 50%\b\b\b\b\b  OK \n",
            "Extracting  training/1st_manual/27_manual1.tif                           \b\b\b\b 50%\b\b\b\b\b  OK \n",
            "Extracting  training/1st_manual/28_manual1.tif                           \b\b\b\b 50%\b\b\b\b\b  OK \n",
            "Extracting  training/1st_manual/29_manual1.tif                           \b\b\b\b 50%\b\b\b\b\b  OK \n",
            "Extracting  training/1st_manual/30_manual1.tif                           \b\b\b\b 50%\b\b\b\b\b  OK \n",
            "Extracting  training/1st_manual/31_manual1.tif                           \b\b\b\b 50%\b\b\b\b\b  OK \n",
            "Extracting  training/1st_manual/32_manual1.tif                           \b\b\b\b 50%\b\b\b\b\b  OK \n",
            "Extracting  training/1st_manual/33_manual1.tif                           \b\b\b\b 50%\b\b\b\b\b  OK \n",
            "Extracting  training/1st_manual/34_manual1.tif                           \b\b\b\b 50%\b\b\b\b\b  OK \n",
            "Extracting  training/1st_manual/35_manual1.tif                           \b\b\b\b 50%\b\b\b\b\b  OK \n",
            "Extracting  training/1st_manual/36_manual1.tif                           \b\b\b\b 50%\b\b\b\b\b  OK \n",
            "Extracting  training/1st_manual/37_manual1.tif                           \b\b\b\b 51%\b\b\b\b\b  OK \n",
            "Extracting  training/1st_manual/38_manual1.tif                           \b\b\b\b 51%\b\b\b\b\b  OK \n",
            "Extracting  training/1st_manual/39_manual1.tif                           \b\b\b\b 51%\b\b\b\b\b  OK \n",
            "Extracting  training/1st_manual/40_manual1.tif                           \b\b\b\b 51%\b\b\b\b\b  OK \n",
            "Creating    training/images                                           OK\n",
            "Extracting  training/images/21_training.tif                              \b\b\b\b 53%\b\b\b\b\b  OK \n",
            "Extracting  training/images/22_training.tif                              \b\b\b\b 56%\b\b\b\b\b  OK \n",
            "Extracting  training/images/23_training.tif                              \b\b\b\b 58%\b\b\b\b\b  OK \n",
            "Extracting  training/images/24_training.tif                              \b\b\b\b 60%\b\b\b\b\b  OK \n",
            "Extracting  training/images/25_training.tif                              \b\b\b\b 62%\b\b\b\b\b  OK \n",
            "Extracting  training/images/26_training.tif                              \b\b\b\b 65%\b\b\b\b\b  OK \n",
            "Extracting  training/images/27_training.tif                              \b\b\b\b 67%\b\b\b\b\b  OK \n",
            "Extracting  training/images/28_training.tif                              \b\b\b\b 70%\b\b\b\b\b  OK \n",
            "Extracting  training/images/29_training.tif                              \b\b\b\b 72%\b\b\b\b\b  OK \n",
            "Extracting  training/images/30_training.tif                              \b\b\b\b 74%\b\b\b\b\b  OK \n",
            "Extracting  training/images/31_training.tif                              \b\b\b\b 77%\b\b\b\b\b  OK \n",
            "Extracting  training/images/32_training.tif                              \b\b\b\b 79%\b\b\b\b\b  OK \n",
            "Extracting  training/images/33_training.tif                              \b\b\b\b 82%\b\b\b\b\b  OK \n",
            "Extracting  training/images/34_training.tif                              \b\b\b\b 85%\b\b\b\b\b  OK \n",
            "Extracting  training/images/35_training.tif                              \b\b\b\b 87%\b\b\b\b\b  OK \n",
            "Extracting  training/images/36_training.tif                              \b\b\b\b 90%\b\b\b\b\b  OK \n",
            "Extracting  training/images/37_training.tif                              \b\b\b\b 92%\b\b\b\b\b  OK \n",
            "Extracting  training/images/38_training.tif                              \b\b\b\b 95%\b\b\b\b\b  OK \n",
            "Extracting  training/images/39_training.tif                              \b\b\b\b 97%\b\b\b\b\b  OK \n",
            "Extracting  training/images/40_training.tif                              \b\b\b\b 99%\b\b\b\b\b  OK \n",
            "Creating    training/mask                                             OK\n",
            "Extracting  training/mask/21_training_mask.tif                           \b\b\b\b 99%\b\b\b\b\b  OK \n",
            "Extracting  training/mask/22_training_mask.tif                           \b\b\b\b 99%\b\b\b\b\b  OK \n",
            "Extracting  training/mask/23_training_mask.tif                           \b\b\b\b 99%\b\b\b\b\b  OK \n",
            "Extracting  training/mask/24_training_mask.tif                           \b\b\b\b 99%\b\b\b\b\b  OK \n",
            "Extracting  training/mask/25_training_mask.tif                           \b\b\b\b 99%\b\b\b\b\b  OK \n",
            "Extracting  training/mask/26_training_mask.tif                           \b\b\b\b 99%\b\b\b\b\b  OK \n",
            "Extracting  training/mask/27_training_mask.tif                           \b\b\b\b 99%\b\b\b\b\b  OK \n",
            "Extracting  training/mask/28_training_mask.tif                           \b\b\b\b 99%\b\b\b\b\b  OK \n",
            "Extracting  training/mask/29_training_mask.tif                           \b\b\b\b 99%\b\b\b\b\b  OK \n",
            "Extracting  training/mask/30_training_mask.tif                           \b\b\b\b 99%\b\b\b\b\b  OK \n",
            "Extracting  training/mask/31_training_mask.tif                           \b\b\b\b 99%\b\b\b\b\b  OK \n",
            "Extracting  training/mask/32_training_mask.tif                           \b\b\b\b 99%\b\b\b\b\b  OK \n",
            "Extracting  training/mask/33_training_mask.tif                           \b\b\b\b 99%\b\b\b\b\b  OK \n",
            "Extracting  training/mask/34_training_mask.tif                           \b\b\b\b 99%\b\b\b\b\b  OK \n",
            "Extracting  training/mask/35_training_mask.tif                           \b\b\b\b 99%\b\b\b\b\b  OK \n",
            "Extracting  training/mask/36_training_mask.tif                           \b\b\b\b 99%\b\b\b\b\b  OK \n",
            "Extracting  training/mask/37_training_mask.tif                           \b\b\b\b 99%\b\b\b\b\b  OK \n",
            "Extracting  training/mask/38_training_mask.tif                           \b\b\b\b 99%\b\b\b\b\b  OK \n",
            "Extracting  training/mask/39_training_mask.tif                           \b\b\b\b 99%\b\b\b\b\b  OK \n",
            "Extracting  training/mask/40_training_mask.tif                           \b\b\b\b 99%\b\b\b\b\b  OK \n",
            "Extracting  test_1stmanual.csv                                           \b\b\b\b 99%\b\b\b\b\b  OK \n",
            "Extracting  test_2ndmanual.csv                                           \b\b\b\b 99%\b\b\b\b\b  OK \n",
            "Extracting  training.csv                                                 \b\b\b\b 99%\b\b\b\b\b  OK \n",
            "All OK\n"
          ],
          "name": "stdout"
        }
      ]
    },
    {
      "cell_type": "code",
      "metadata": {
        "id": "cnld5s5N4E4K",
        "outputId": "98061089-cb57-4a08-973c-2c806b9c4fc6",
        "colab": {
          "base_uri": "https://localhost:8080/",
          "height": 1000
        }
      },
      "source": [
        "!wget \"https://correoipn-my.sharepoint.com/:u:/g/personal/ccarrillog1400_alumno_ipn_mx/EeJjVR695xFMiVlTmZRPDh8BgZzjgU81MtJbNeyD3GyLQw?download=1\"\n",
        "!mv \"EeJjVR695xFMiVlTmZRPDh8BgZzjgU81MtJbNeyD3GyLQw?download=1\" STARE.zip\n",
        "!unzip STARE.zip\n",
        "!rm STARE.zip"
      ],
      "execution_count": 3,
      "outputs": [
        {
          "output_type": "stream",
          "text": [
            "--2020-10-22 01:44:52--  https://correoipn-my.sharepoint.com/:u:/g/personal/ccarrillog1400_alumno_ipn_mx/EeJjVR695xFMiVlTmZRPDh8BgZzjgU81MtJbNeyD3GyLQw?download=1\n",
            "Resolving correoipn-my.sharepoint.com (correoipn-my.sharepoint.com)... 13.107.136.9\n",
            "Connecting to correoipn-my.sharepoint.com (correoipn-my.sharepoint.com)|13.107.136.9|:443... connected.\n",
            "HTTP request sent, awaiting response... 302 Found\n",
            "Location: /personal/ccarrillog1400_alumno_ipn_mx/Documents/Data%20Bases/Other%20Databases/STARE.zip?originalPath=aHR0cHM6Ly9jb3JyZW9pcG4tbXkuc2hhcmVwb2ludC5jb20vOnU6L2cvcGVyc29uYWwvY2NhcnJpbGxvZzE0MDBfYWx1bW5vX2lwbl9teC9FZUpqVlI2OTV4Rk1pVmxUbVpSUERoOEJnWnpqZ1U4MU10SmJOZXlEM0d5TFF3P3J0aW1lPWZJci1FU3gyMkVn [following]\n",
            "--2020-10-22 01:44:52--  https://correoipn-my.sharepoint.com/personal/ccarrillog1400_alumno_ipn_mx/Documents/Data%20Bases/Other%20Databases/STARE.zip?originalPath=aHR0cHM6Ly9jb3JyZW9pcG4tbXkuc2hhcmVwb2ludC5jb20vOnU6L2cvcGVyc29uYWwvY2NhcnJpbGxvZzE0MDBfYWx1bW5vX2lwbl9teC9FZUpqVlI2OTV4Rk1pVmxUbVpSUERoOEJnWnpqZ1U4MU10SmJOZXlEM0d5TFF3P3J0aW1lPWZJci1FU3gyMkVn\n",
            "Reusing existing connection to correoipn-my.sharepoint.com:443.\n",
            "HTTP request sent, awaiting response... 200 OK\n",
            "Length: 18945150 (18M) [application/x-zip-compressed]\n",
            "Saving to: ‘EeJjVR695xFMiVlTmZRPDh8BgZzjgU81MtJbNeyD3GyLQw?download=1’\n",
            "\n",
            "EeJjVR695xFMiVlTmZR 100%[===================>]  18.07M  56.3MB/s    in 0.3s    \n",
            "\n",
            "2020-10-22 01:44:53 (56.3 MB/s) - ‘EeJjVR695xFMiVlTmZRPDh8BgZzjgU81MtJbNeyD3GyLQw?download=1’ saved [18945150/18945150]\n",
            "\n",
            "Archive:  STARE.zip\n",
            "   creating: STARE/\n",
            "   creating: STARE/GroundTruth/\n",
            "  inflating: STARE/GroundTruth/im0001.vk.ppm  \n",
            "  inflating: STARE/GroundTruth/im0002.vk.ppm  \n",
            "  inflating: STARE/GroundTruth/im0003.vk.ppm  \n",
            "  inflating: STARE/GroundTruth/im0004.vk.ppm  \n",
            "  inflating: STARE/GroundTruth/im0005.vk.ppm  \n",
            "  inflating: STARE/GroundTruth/im0044.vk.ppm  \n",
            "  inflating: STARE/GroundTruth/im0077.vk.ppm  \n",
            "  inflating: STARE/GroundTruth/im0081.vk.ppm  \n",
            "  inflating: STARE/GroundTruth/im0082.vk.ppm  \n",
            "  inflating: STARE/GroundTruth/im0139.vk.ppm  \n",
            "  inflating: STARE/GroundTruth/im0162.vk.ppm  \n",
            "  inflating: STARE/GroundTruth/im0163.vk.ppm  \n",
            "  inflating: STARE/GroundTruth/im0235.vk.ppm  \n",
            "  inflating: STARE/GroundTruth/im0236.vk.ppm  \n",
            "  inflating: STARE/GroundTruth/im0239.vk.ppm  \n",
            "  inflating: STARE/GroundTruth/im0240.vk.ppm  \n",
            "  inflating: STARE/GroundTruth/im0255.vk.ppm  \n",
            "  inflating: STARE/GroundTruth/im0291.vk.ppm  \n",
            "  inflating: STARE/GroundTruth/im0319.vk.ppm  \n",
            "  inflating: STARE/GroundTruth/im0324.vk.ppm  \n",
            "   creating: STARE/Original/\n",
            "  inflating: STARE/Original/im0001.ppm  \n",
            "  inflating: STARE/Original/im0002.ppm  \n",
            "  inflating: STARE/Original/im0003.ppm  \n",
            "  inflating: STARE/Original/im0004.ppm  \n",
            "  inflating: STARE/Original/im0005.ppm  \n",
            "  inflating: STARE/Original/im0044.ppm  \n",
            "  inflating: STARE/Original/im0077.ppm  \n",
            "  inflating: STARE/Original/im0081.ppm  \n",
            "  inflating: STARE/Original/im0082.ppm  \n",
            "  inflating: STARE/Original/im0139.ppm  \n",
            "  inflating: STARE/Original/im0162.ppm  \n",
            "  inflating: STARE/Original/im0163.ppm  \n",
            "  inflating: STARE/Original/im0235.ppm  \n",
            "  inflating: STARE/Original/im0236.ppm  \n",
            "  inflating: STARE/Original/im0239.ppm  \n",
            "  inflating: STARE/Original/im0240.ppm  \n",
            "  inflating: STARE/Original/im0255.ppm  \n",
            "  inflating: STARE/Original/im0291.ppm  \n",
            "  inflating: STARE/Original/im0319.ppm  \n",
            "  inflating: STARE/Original/im0324.ppm  \n",
            "  inflating: STARE/Data.csv          \n"
          ],
          "name": "stdout"
        }
      ]
    },
    {
      "cell_type": "code",
      "metadata": {
        "id": "JKmeOIhZ4ohh",
        "outputId": "b1e6515b-f89b-44d1-e393-1b4d36a28a29",
        "colab": {
          "base_uri": "https://localhost:8080/",
          "height": 121
        }
      },
      "source": [
        "!git clone --depth 1 https://github.com/Vengadore/Segmentation_OPTOS.git"
      ],
      "execution_count": 4,
      "outputs": [
        {
          "output_type": "stream",
          "text": [
            "Cloning into 'Segmentation_OPTOS'...\n",
            "remote: Enumerating objects: 18, done.\u001b[K\n",
            "remote: Counting objects: 100% (18/18), done.\u001b[K\n",
            "remote: Compressing objects: 100% (16/16), done.\u001b[K\n",
            "remote: Total 18 (delta 0), reused 11 (delta 0), pack-reused 0\u001b[K\n",
            "Unpacking objects: 100% (18/18), done.\n"
          ],
          "name": "stdout"
        }
      ]
    },
    {
      "cell_type": "markdown",
      "metadata": {
        "id": "OM8Uchj73ycG"
      },
      "source": [
        "## Load Data"
      ]
    },
    {
      "cell_type": "code",
      "metadata": {
        "id": "nrJm9mpN7eUr"
      },
      "source": [
        "import matplotlib.pyplot as plt\n",
        "import numpy as np\n",
        "from PIL import Image\n",
        "import pandas as pd\n",
        "import os"
      ],
      "execution_count": 1,
      "outputs": []
    },
    {
      "cell_type": "code",
      "metadata": {
        "id": "rJ1oXYzd3ycH",
        "outputId": "f4d9d1ae-34df-41c9-be87-60c6d38bd953",
        "colab": {
          "base_uri": "https://localhost:8080/",
          "height": 191
        }
      },
      "source": [
        "path = \"./\"\n",
        "os.listdir(path)"
      ],
      "execution_count": 2,
      "outputs": [
        {
          "output_type": "execute_result",
          "data": {
            "text/plain": [
              "['.config',\n",
              " 'Modelo_seg.ph',\n",
              " 'training',\n",
              " 'test',\n",
              " 'test_2ndmanual.csv',\n",
              " 'training.csv',\n",
              " 'Modelo_seg(1).ph',\n",
              " 'Segmentation_OPTOS',\n",
              " 'STARE',\n",
              " 'test_1stmanual.csv']"
            ]
          },
          "metadata": {
            "tags": []
          },
          "execution_count": 2
        }
      ]
    },
    {
      "cell_type": "code",
      "metadata": {
        "id": "TvMjKfKM3ycO",
        "outputId": "08078998-3ca5-40cb-c3b8-254e6b9de4b6",
        "colab": {
          "base_uri": "https://localhost:8080/",
          "height": 206
        }
      },
      "source": [
        "data = pd.read_csv(os.path.join(path,'training.csv'))\n",
        "data_test = pd.read_csv(os.path.join(path,'test_1stmanual.csv'))\n",
        "data.head()"
      ],
      "execution_count": 3,
      "outputs": [
        {
          "output_type": "execute_result",
          "data": {
            "text/html": [
              "<div>\n",
              "<style scoped>\n",
              "    .dataframe tbody tr th:only-of-type {\n",
              "        vertical-align: middle;\n",
              "    }\n",
              "\n",
              "    .dataframe tbody tr th {\n",
              "        vertical-align: top;\n",
              "    }\n",
              "\n",
              "    .dataframe thead th {\n",
              "        text-align: right;\n",
              "    }\n",
              "</style>\n",
              "<table border=\"1\" class=\"dataframe\">\n",
              "  <thead>\n",
              "    <tr style=\"text-align: right;\">\n",
              "      <th></th>\n",
              "      <th>Original</th>\n",
              "      <th>GroundTruth</th>\n",
              "    </tr>\n",
              "  </thead>\n",
              "  <tbody>\n",
              "    <tr>\n",
              "      <th>0</th>\n",
              "      <td>21_training.tif</td>\n",
              "      <td>21_manual1.tif</td>\n",
              "    </tr>\n",
              "    <tr>\n",
              "      <th>1</th>\n",
              "      <td>22_training.tif</td>\n",
              "      <td>22_manual1.tif</td>\n",
              "    </tr>\n",
              "    <tr>\n",
              "      <th>2</th>\n",
              "      <td>23_training.tif</td>\n",
              "      <td>23_manual1.tif</td>\n",
              "    </tr>\n",
              "    <tr>\n",
              "      <th>3</th>\n",
              "      <td>24_training.tif</td>\n",
              "      <td>24_manual1.tif</td>\n",
              "    </tr>\n",
              "    <tr>\n",
              "      <th>4</th>\n",
              "      <td>25_training.tif</td>\n",
              "      <td>25_manual1.tif</td>\n",
              "    </tr>\n",
              "  </tbody>\n",
              "</table>\n",
              "</div>"
            ],
            "text/plain": [
              "          Original     GroundTruth\n",
              "0  21_training.tif  21_manual1.tif\n",
              "1  22_training.tif  22_manual1.tif\n",
              "2  23_training.tif  23_manual1.tif\n",
              "3  24_training.tif  24_manual1.tif\n",
              "4  25_training.tif  25_manual1.tif"
            ]
          },
          "metadata": {
            "tags": []
          },
          "execution_count": 3
        }
      ]
    },
    {
      "cell_type": "code",
      "metadata": {
        "id": "X-zGi1nm3ycU",
        "outputId": "dd6a0939-4395-4679-855d-c569074378a3",
        "colab": {
          "base_uri": "https://localhost:8080/",
          "height": 206
        }
      },
      "source": [
        "data['Original'] = data['Original'].apply(lambda x:os.path.join(path,\"training/images/\"+x))\n",
        "data['GroundTruth'] = data['GroundTruth'].apply(lambda x:os.path.join(path,\"training/1st_manual/\"+x))\n",
        "data.head()"
      ],
      "execution_count": 4,
      "outputs": [
        {
          "output_type": "execute_result",
          "data": {
            "text/html": [
              "<div>\n",
              "<style scoped>\n",
              "    .dataframe tbody tr th:only-of-type {\n",
              "        vertical-align: middle;\n",
              "    }\n",
              "\n",
              "    .dataframe tbody tr th {\n",
              "        vertical-align: top;\n",
              "    }\n",
              "\n",
              "    .dataframe thead th {\n",
              "        text-align: right;\n",
              "    }\n",
              "</style>\n",
              "<table border=\"1\" class=\"dataframe\">\n",
              "  <thead>\n",
              "    <tr style=\"text-align: right;\">\n",
              "      <th></th>\n",
              "      <th>Original</th>\n",
              "      <th>GroundTruth</th>\n",
              "    </tr>\n",
              "  </thead>\n",
              "  <tbody>\n",
              "    <tr>\n",
              "      <th>0</th>\n",
              "      <td>./training/images/21_training.tif</td>\n",
              "      <td>./training/1st_manual/21_manual1.tif</td>\n",
              "    </tr>\n",
              "    <tr>\n",
              "      <th>1</th>\n",
              "      <td>./training/images/22_training.tif</td>\n",
              "      <td>./training/1st_manual/22_manual1.tif</td>\n",
              "    </tr>\n",
              "    <tr>\n",
              "      <th>2</th>\n",
              "      <td>./training/images/23_training.tif</td>\n",
              "      <td>./training/1st_manual/23_manual1.tif</td>\n",
              "    </tr>\n",
              "    <tr>\n",
              "      <th>3</th>\n",
              "      <td>./training/images/24_training.tif</td>\n",
              "      <td>./training/1st_manual/24_manual1.tif</td>\n",
              "    </tr>\n",
              "    <tr>\n",
              "      <th>4</th>\n",
              "      <td>./training/images/25_training.tif</td>\n",
              "      <td>./training/1st_manual/25_manual1.tif</td>\n",
              "    </tr>\n",
              "  </tbody>\n",
              "</table>\n",
              "</div>"
            ],
            "text/plain": [
              "                            Original                           GroundTruth\n",
              "0  ./training/images/21_training.tif  ./training/1st_manual/21_manual1.tif\n",
              "1  ./training/images/22_training.tif  ./training/1st_manual/22_manual1.tif\n",
              "2  ./training/images/23_training.tif  ./training/1st_manual/23_manual1.tif\n",
              "3  ./training/images/24_training.tif  ./training/1st_manual/24_manual1.tif\n",
              "4  ./training/images/25_training.tif  ./training/1st_manual/25_manual1.tif"
            ]
          },
          "metadata": {
            "tags": []
          },
          "execution_count": 4
        }
      ]
    },
    {
      "cell_type": "code",
      "metadata": {
        "id": "YRg73Qvk3ycZ",
        "outputId": "c18d90ee-abc5-47c5-848d-108ab98f9be1",
        "colab": {
          "base_uri": "https://localhost:8080/",
          "height": 206
        }
      },
      "source": [
        "data_test['Original'] = data_test['Original'].apply(lambda x:os.path.join(path,\"test/images/\"+x))\n",
        "data_test['GroundTruth'] = data_test['GroundTruth'].apply(lambda x:os.path.join(path,\"test/1st_manual/\"+x))\n",
        "data.head()"
      ],
      "execution_count": 5,
      "outputs": [
        {
          "output_type": "execute_result",
          "data": {
            "text/html": [
              "<div>\n",
              "<style scoped>\n",
              "    .dataframe tbody tr th:only-of-type {\n",
              "        vertical-align: middle;\n",
              "    }\n",
              "\n",
              "    .dataframe tbody tr th {\n",
              "        vertical-align: top;\n",
              "    }\n",
              "\n",
              "    .dataframe thead th {\n",
              "        text-align: right;\n",
              "    }\n",
              "</style>\n",
              "<table border=\"1\" class=\"dataframe\">\n",
              "  <thead>\n",
              "    <tr style=\"text-align: right;\">\n",
              "      <th></th>\n",
              "      <th>Original</th>\n",
              "      <th>GroundTruth</th>\n",
              "    </tr>\n",
              "  </thead>\n",
              "  <tbody>\n",
              "    <tr>\n",
              "      <th>0</th>\n",
              "      <td>./training/images/21_training.tif</td>\n",
              "      <td>./training/1st_manual/21_manual1.tif</td>\n",
              "    </tr>\n",
              "    <tr>\n",
              "      <th>1</th>\n",
              "      <td>./training/images/22_training.tif</td>\n",
              "      <td>./training/1st_manual/22_manual1.tif</td>\n",
              "    </tr>\n",
              "    <tr>\n",
              "      <th>2</th>\n",
              "      <td>./training/images/23_training.tif</td>\n",
              "      <td>./training/1st_manual/23_manual1.tif</td>\n",
              "    </tr>\n",
              "    <tr>\n",
              "      <th>3</th>\n",
              "      <td>./training/images/24_training.tif</td>\n",
              "      <td>./training/1st_manual/24_manual1.tif</td>\n",
              "    </tr>\n",
              "    <tr>\n",
              "      <th>4</th>\n",
              "      <td>./training/images/25_training.tif</td>\n",
              "      <td>./training/1st_manual/25_manual1.tif</td>\n",
              "    </tr>\n",
              "  </tbody>\n",
              "</table>\n",
              "</div>"
            ],
            "text/plain": [
              "                            Original                           GroundTruth\n",
              "0  ./training/images/21_training.tif  ./training/1st_manual/21_manual1.tif\n",
              "1  ./training/images/22_training.tif  ./training/1st_manual/22_manual1.tif\n",
              "2  ./training/images/23_training.tif  ./training/1st_manual/23_manual1.tif\n",
              "3  ./training/images/24_training.tif  ./training/1st_manual/24_manual1.tif\n",
              "4  ./training/images/25_training.tif  ./training/1st_manual/25_manual1.tif"
            ]
          },
          "metadata": {
            "tags": []
          },
          "execution_count": 5
        }
      ]
    },
    {
      "cell_type": "code",
      "metadata": {
        "id": "5hgf4PFI8vGC",
        "outputId": "ebba3d03-924a-4342-e51b-9245d6749b14",
        "colab": {
          "base_uri": "https://localhost:8080/",
          "height": 206
        }
      },
      "source": [
        "Data_stare = pd.read_csv('./STARE/Data.csv')\n",
        "Data_stare['Original'] = Data_stare['Original'].apply(lambda x:os.path.join(path,\"STARE/Original/\"+x))\n",
        "Data_stare['GroundTruth'] = Data_stare['GroundTruth'].apply(lambda x:os.path.join(path,\"STARE/GroundTruth/\"+x))\n",
        "Data_stare.head()"
      ],
      "execution_count": 6,
      "outputs": [
        {
          "output_type": "execute_result",
          "data": {
            "text/html": [
              "<div>\n",
              "<style scoped>\n",
              "    .dataframe tbody tr th:only-of-type {\n",
              "        vertical-align: middle;\n",
              "    }\n",
              "\n",
              "    .dataframe tbody tr th {\n",
              "        vertical-align: top;\n",
              "    }\n",
              "\n",
              "    .dataframe thead th {\n",
              "        text-align: right;\n",
              "    }\n",
              "</style>\n",
              "<table border=\"1\" class=\"dataframe\">\n",
              "  <thead>\n",
              "    <tr style=\"text-align: right;\">\n",
              "      <th></th>\n",
              "      <th>Original</th>\n",
              "      <th>GroundTruth</th>\n",
              "    </tr>\n",
              "  </thead>\n",
              "  <tbody>\n",
              "    <tr>\n",
              "      <th>0</th>\n",
              "      <td>./STARE/Original/im0001.ppm</td>\n",
              "      <td>./STARE/GroundTruth/im0001.vk.ppm</td>\n",
              "    </tr>\n",
              "    <tr>\n",
              "      <th>1</th>\n",
              "      <td>./STARE/Original/im0002.ppm</td>\n",
              "      <td>./STARE/GroundTruth/im0002.vk.ppm</td>\n",
              "    </tr>\n",
              "    <tr>\n",
              "      <th>2</th>\n",
              "      <td>./STARE/Original/im0003.ppm</td>\n",
              "      <td>./STARE/GroundTruth/im0003.vk.ppm</td>\n",
              "    </tr>\n",
              "    <tr>\n",
              "      <th>3</th>\n",
              "      <td>./STARE/Original/im0004.ppm</td>\n",
              "      <td>./STARE/GroundTruth/im0004.vk.ppm</td>\n",
              "    </tr>\n",
              "    <tr>\n",
              "      <th>4</th>\n",
              "      <td>./STARE/Original/im0005.ppm</td>\n",
              "      <td>./STARE/GroundTruth/im0005.vk.ppm</td>\n",
              "    </tr>\n",
              "  </tbody>\n",
              "</table>\n",
              "</div>"
            ],
            "text/plain": [
              "                      Original                        GroundTruth\n",
              "0  ./STARE/Original/im0001.ppm  ./STARE/GroundTruth/im0001.vk.ppm\n",
              "1  ./STARE/Original/im0002.ppm  ./STARE/GroundTruth/im0002.vk.ppm\n",
              "2  ./STARE/Original/im0003.ppm  ./STARE/GroundTruth/im0003.vk.ppm\n",
              "3  ./STARE/Original/im0004.ppm  ./STARE/GroundTruth/im0004.vk.ppm\n",
              "4  ./STARE/Original/im0005.ppm  ./STARE/GroundTruth/im0005.vk.ppm"
            ]
          },
          "metadata": {
            "tags": []
          },
          "execution_count": 6
        }
      ]
    },
    {
      "cell_type": "code",
      "metadata": {
        "id": "NsdFGjZZ9twl"
      },
      "source": [
        "data = data.append(Data_stare).reset_index()\n",
        "data = data[['Original','GroundTruth']]"
      ],
      "execution_count": 7,
      "outputs": []
    },
    {
      "cell_type": "code",
      "metadata": {
        "id": "VcYihmGMMS2E"
      },
      "source": [
        "## Resize training images\n",
        "import os\n",
        "import cv2\n",
        "for i in data['Original']:\n",
        "  I = cv2.imread(i)\n",
        "  (M,N,C) = I.shape\n",
        "  I = cv2.resize(I,(int(N/M*584*4), 584*4),cv2.INTER_CUBIC)\n",
        "  I = cv2.imwrite(i,I)\n",
        "\n",
        "for i in data['GroundTruth']:\n",
        "  I = cv2.imread(i)\n",
        "  (M,N,C) = I.shape\n",
        "  I = cv2.resize(I,(int(N/M*584*4), 584*4),cv2.INTER_NEAREST)\n",
        "  thresh,I = cv2.threshold(I,127,255,cv2.THRESH_BINARY)\n",
        "  I = cv2.imwrite(i,I)"
      ],
      "execution_count": 12,
      "outputs": []
    },
    {
      "cell_type": "code",
      "metadata": {
        "id": "PLTHm5cHMS_r"
      },
      "source": [
        "#Resize Test_images\n",
        "for i in data_test['Original']:\n",
        "  I = cv2.imread(i)\n",
        "  (M,N,C) = I.shape\n",
        "  I = cv2.resize(I,(int(N/M*584*4), 584*4),cv2.INTER_CUBIC)\n",
        "  I = cv2.imwrite(i,I)\n",
        "\n",
        "for i in data_test['GroundTruth']:\n",
        "  I = cv2.imread(i)\n",
        "  (M,N,C) = I.shape\n",
        "  I = cv2.resize(I,(int(N/M*584*4), 584*4),cv2.INTER_NEAREST)\n",
        "  thresh,I = cv2.threshold(I,127,255,cv2.THRESH_BINARY)\n",
        "  I = cv2.imwrite(i,I)"
      ],
      "execution_count": 13,
      "outputs": []
    },
    {
      "cell_type": "markdown",
      "metadata": {
        "id": "AnxRZb7v3ycf"
      },
      "source": [
        "## Creation of dataloader"
      ]
    },
    {
      "cell_type": "code",
      "metadata": {
        "id": "3hOCzsFm3ycf"
      },
      "source": [
        "from Segmentation_OPTOS.Tools.Generators import Patch_generator\n",
        "import cv2"
      ],
      "execution_count": 8,
      "outputs": []
    },
    {
      "cell_type": "code",
      "metadata": {
        "id": "eMKBzUxB3ycj",
        "outputId": "b88cc891-d845-4d2c-a24f-beb01f904cf3",
        "colab": {
          "base_uri": "https://localhost:8080/",
          "height": 121
        }
      },
      "source": [
        "def x_trans(X):\n",
        "    #X = cv2.resize(X,(584*2, 565*2),cv2.INTER_CUBIC)\n",
        "    #mean,std = cv2.meanStdDev(X)\n",
        "    #_,_,C = X.shape\n",
        "    #for i in range(C):\n",
        "    #    X[:,:,i] = (X[:,:,i]-mean[i])/std[i]\n",
        "    ## Change order of channels\n",
        "    X = X.transpose(2,0,1)\n",
        "    return X\n",
        "\n",
        "def y_trans(X):\n",
        "    # Change order of channels\n",
        "    #X = cv2.resize(X,(584*3, 565*3),cv2.INTER_CUBIC)\n",
        "    X = X.transpose(2,0,1)\n",
        "    X = np.expand_dims(X[0,:,:],axis = 0)\n",
        "    return X\n",
        "\n",
        "Training_patches = Patch_generator.Generator_from_DataFrame(data,patch_size=(127,127),X = 'Original',\n",
        "                                                   y = \"GroundTruth\",n_patches = 20,transforX=x_trans,transfory=y_trans)\n",
        "\n",
        "Validation_patches = Patch_generator.Generator_from_DataFrame(data,patch_size=(127,127),X = 'Original',\n",
        "                                                   y = \"GroundTruth\",n_patches = 20,transforX=x_trans,transfory=y_trans)"
      ],
      "execution_count": 9,
      "outputs": [
        {
          "output_type": "stream",
          "text": [
            "40 files found out of 40 in the DataFrame for X\n",
            "40 files found out of 40 in the DataFrame for y\n",
            "A generator object has been created with 20 per image\n",
            "40 files found out of 40 in the DataFrame for X\n",
            "40 files found out of 40 in the DataFrame for y\n",
            "A generator object has been created with 20 per image\n"
          ],
          "name": "stdout"
        }
      ]
    },
    {
      "cell_type": "markdown",
      "metadata": {
        "id": "Etkf4SYk3ycn"
      },
      "source": [
        "## Definition of the network"
      ]
    },
    {
      "cell_type": "code",
      "metadata": {
        "id": "B-elx4vx3ycp"
      },
      "source": [
        "import torch\n",
        "import torch.nn as nn\n",
        "import torch.nn.functional as F"
      ],
      "execution_count": 10,
      "outputs": []
    },
    {
      "cell_type": "code",
      "metadata": {
        "id": "fVJTA-wn3yct"
      },
      "source": [
        "class Encoder(torch.nn.Module):\n",
        "    def __init__(self):\n",
        "        super(Encoder,self).__init__()\n",
        "        self.conv1 = nn.Conv2d(3,256,(3,3),stride = (1,1),padding=(1,1))\n",
        "        self.norm1 = nn.BatchNorm2d(256)\n",
        "        self.conv2 = nn.Conv2d(256,128,(3,3),stride = (1,1),padding=(1,1))\n",
        "        self.norm2 = nn.BatchNorm2d(128)\n",
        "        self.conv3 = nn.Conv2d(128,64,(3,3),stride = (1,1),padding=(1,1))\n",
        "        self.norm3 = nn.BatchNorm2d(64)\n",
        "        self.max_pool = nn.MaxPool2d((2,2))\n",
        "    def forward(self,x):\n",
        "        x = F.relu(self.conv1(x))\n",
        "        x = self.norm1(x)\n",
        "        x = F.relu(self.conv2(x))\n",
        "        x = self.norm2(x)\n",
        "        x = F.relu(self.conv3(x))\n",
        "        x = self.norm3(x)\n",
        "        x = self.max_pool(x)\n",
        "        return x\n",
        "\n",
        "class Decoder(torch.nn.Module):\n",
        "    def __init__(self):\n",
        "        super(Decoder,self).__init__()\n",
        "        self.conv1T = nn.ConvTranspose2d(64,64,(3,3),padding=(1,1))\n",
        "        self.conv2T = nn.ConvTranspose2d(64,64,(3,3),stride=(2,2),padding=(1,1))\n",
        "        self.conv3T = nn.ConvTranspose2d(64,128,(3,3),padding=(1,1))\n",
        "        self.conv4T = nn.ConvTranspose2d(128,256,(3,3))\n",
        "        self.conv5T = nn.ConvTranspose2d(256,1,(1,1))\n",
        "    def forward(self,x):\n",
        "        x = F.relu(self.conv1T(x))\n",
        "        x = F.relu(self.conv2T(x))\n",
        "        x = F.relu(self.conv3T(x))\n",
        "        x = F.relu(self.conv4T(x))\n",
        "        x = torch.sigmoid(self.conv5T(x))\n",
        "        return x\n",
        "class Model(torch.nn.Module):\n",
        "    def __init__(self):\n",
        "        super(Model,self).__init__()\n",
        "        self.encoder = Encoder()\n",
        "        self.decoder = Decoder()\n",
        "    def forward(self,x):\n",
        "        x = self.encoder.forward(x)\n",
        "        x = self.decoder.forward(x)\n",
        "        return x"
      ],
      "execution_count": 11,
      "outputs": []
    },
    {
      "cell_type": "code",
      "metadata": {
        "id": "cfq96uvv3ycx"
      },
      "source": [
        "model = Model()"
      ],
      "execution_count": 12,
      "outputs": []
    },
    {
      "cell_type": "code",
      "metadata": {
        "id": "4UcNeRMUJWGr"
      },
      "source": [
        "# Load Pretrained Model\n",
        "model = torch.load(\"./Modelo_seg.ph\")"
      ],
      "execution_count": 13,
      "outputs": []
    },
    {
      "cell_type": "code",
      "metadata": {
        "id": "M24FXtgq3yc2"
      },
      "source": [
        "if torch.cuda.is_available():\n",
        "    device = torch.device('cuda:0')\n",
        "else:\n",
        "    device = torch.device('cpu')"
      ],
      "execution_count": 14,
      "outputs": []
    },
    {
      "cell_type": "code",
      "metadata": {
        "id": "GVQAlSzj3yc6"
      },
      "source": [
        "model = model.to(device)"
      ],
      "execution_count": 15,
      "outputs": []
    },
    {
      "cell_type": "code",
      "metadata": {
        "id": "Zwu_oRz0Kj2e",
        "outputId": "67afb542-f6b3-400f-fce1-7928017dcf86",
        "colab": {
          "base_uri": "https://localhost:8080/",
          "height": 34
        }
      },
      "source": [
        "63*63*80*len(data)"
      ],
      "execution_count": 61,
      "outputs": [
        {
          "output_type": "execute_result",
          "data": {
            "text/plain": [
              "12700800"
            ]
          },
          "metadata": {
            "tags": []
          },
          "execution_count": 61
        }
      ]
    },
    {
      "cell_type": "markdown",
      "metadata": {
        "id": "YD4OK4Ce3yc9"
      },
      "source": [
        "## Train Network"
      ]
    },
    {
      "cell_type": "code",
      "metadata": {
        "id": "oLk1gLIP3yc-"
      },
      "source": [
        "import torch.optim as optim\n",
        "\n",
        "criterion = nn.BCELoss()\n",
        "optimizer = optim.SGD(model.parameters(), lr=0.000005)"
      ],
      "execution_count": 56,
      "outputs": []
    },
    {
      "cell_type": "code",
      "metadata": {
        "id": "qa9-n3Bh3ydB",
        "outputId": "708d5550-0357-45f6-9705-2ff2702e67cc",
        "colab": {
          "base_uri": "https://localhost:8080/",
          "height": 260
        }
      },
      "source": [
        "for epoch in range(50000):  # loop over the dataset multiple times\n",
        "    running_loss = 0.0\n",
        "    ## Training loop for epoch\n",
        "    Accuracy = 0.0\n",
        "    for i in range(len(data)):\n",
        "        (X,y) = next(Training_patches)\n",
        "        X = torch.FloatTensor(X).to(device)\n",
        "        y = torch.FloatTensor(y).to(device)\n",
        "        \n",
        "        # zero the parameter gradients\n",
        "        optimizer.zero_grad()\n",
        "        \n",
        "        # forward + backward + optimize\n",
        "        outputs = model(X)\n",
        "        loss = criterion(outputs, y)\n",
        "        #train_acc = torch.sum(torch.gt(outputs, 0.5) == torch.gt(y, 0.5))\n",
        "        loss.backward()\n",
        "        optimizer.step()\n",
        "        \n",
        "        # Accuracy\n",
        "        #Accuracy += np.sum(np.max(y.detach().cpu().numpy()) == np.max(outputs.detach().cpu().numpy()))\n",
        "        # print statistics\n",
        "        running_loss += loss.item()\n",
        "    print(f\"Epoch:{epoch+1} Loss:{running_loss} \")#Accuracy = {Accuracy/6350400}\")\n",
        "\n",
        "print('Finished Training')"
      ],
      "execution_count": null,
      "outputs": [
        {
          "output_type": "stream",
          "text": [
            "Epoch:1 Loss:5.33868807926774 \n",
            "Epoch:2 Loss:4.627250581979752 \n",
            "Epoch:3 Loss:4.865244470536709 \n",
            "Epoch:4 Loss:4.765494503080845 \n",
            "Epoch:5 Loss:4.647200010716915 \n",
            "Epoch:6 Loss:4.883049476891756 \n",
            "Epoch:7 Loss:4.83039840310812 \n",
            "Epoch:8 Loss:4.702950097620487 \n",
            "Epoch:9 Loss:5.054580807685852 \n",
            "Epoch:10 Loss:4.777586732059717 \n",
            "Epoch:11 Loss:4.7873909287154675 \n",
            "Epoch:12 Loss:4.800771027803421 \n",
            "Epoch:13 Loss:4.8094498962163925 \n",
            "Epoch:14 Loss:5.1446802765131 \n"
          ],
          "name": "stdout"
        }
      ]
    },
    {
      "cell_type": "code",
      "metadata": {
        "id": "KO3iqE-GEWnE",
        "outputId": "115acca6-0ac3-475d-9c03-a1809a3429c7",
        "colab": {
          "base_uri": "https://localhost:8080/",
          "height": 167
        }
      },
      "source": [
        ""
      ],
      "execution_count": 41,
      "outputs": [
        {
          "output_type": "error",
          "ename": "AttributeError",
          "evalue": "ignored",
          "traceback": [
            "\u001b[0;31m---------------------------------------------------------------------------\u001b[0m",
            "\u001b[0;31mAttributeError\u001b[0m                            Traceback (most recent call last)",
            "\u001b[0;32m<ipython-input-41-f6163c0cc920>\u001b[0m in \u001b[0;36m<module>\u001b[0;34m()\u001b[0m\n\u001b[0;32m----> 1\u001b[0;31m \u001b[0mtorch\u001b[0m\u001b[0;34m.\u001b[0m\u001b[0mLongTensor\u001b[0m\u001b[0;34m(\u001b[0m\u001b[0my\u001b[0m\u001b[0;34m.\u001b[0m\u001b[0mcpu\u001b[0m\u001b[0;34m(\u001b[0m\u001b[0;34m)\u001b[0m\u001b[0;34m.\u001b[0m\u001b[0mastype\u001b[0m\u001b[0;34m(\u001b[0m\u001b[0mtorch\u001b[0m\u001b[0;34m.\u001b[0m\u001b[0mLongTensor\u001b[0m\u001b[0;34m)\u001b[0m\u001b[0;34m)\u001b[0m\u001b[0;34m\u001b[0m\u001b[0;34m\u001b[0m\u001b[0m\n\u001b[0m",
            "\u001b[0;31mAttributeError\u001b[0m: 'Tensor' object has no attribute 'astype'"
          ]
        }
      ]
    },
    {
      "cell_type": "code",
      "metadata": {
        "id": "DF8pDOJX3ydJ"
      },
      "source": [
        "torch.save(model,\"Modelo_seg.ph\")"
      ],
      "execution_count": 46,
      "outputs": []
    },
    {
      "cell_type": "code",
      "metadata": {
        "id": "rzNKHOpI3ydN"
      },
      "source": [
        "model = torch.load('Modelo_seg.ph')"
      ],
      "execution_count": null,
      "outputs": []
    },
    {
      "cell_type": "code",
      "metadata": {
        "id": "_VLbH1r1GM_W"
      },
      "source": [
        "from Segmentation_OPTOS.Tools.Generators.Patch_generator import Image2Generator,Generator2ImagePT"
      ],
      "execution_count": 21,
      "outputs": []
    },
    {
      "cell_type": "code",
      "metadata": {
        "id": "WIRW_tT_fXc1",
        "outputId": "1bf5c280-4956-4915-fc0a-e88b84e78b3d",
        "colab": {
          "base_uri": "https://localhost:8080/",
          "height": 34
        }
      },
      "source": [
        "I = cv2.imread(data_test['Original'].iloc[-2])\n",
        "I.shape"
      ],
      "execution_count": 47,
      "outputs": [
        {
          "output_type": "execute_result",
          "data": {
            "text/plain": [
              "(2336, 2260, 3)"
            ]
          },
          "metadata": {
            "tags": []
          },
          "execution_count": 47
        }
      ]
    },
    {
      "cell_type": "code",
      "metadata": {
        "id": "PPBuiRaw3ydX",
        "outputId": "b03f705a-0998-4afe-e015-4eb34b93ede1",
        "colab": {
          "base_uri": "https://localhost:8080/",
          "height": 34
        }
      },
      "source": [
        "Test_generator = Image2Generator(I,patch_size=[63,63],batch_size=1)"
      ],
      "execution_count": 48,
      "outputs": [
        {
          "output_type": "stream",
          "text": [
            "A generator object containing all the image has been created\n"
          ],
          "name": "stdout"
        }
      ]
    },
    {
      "cell_type": "code",
      "metadata": {
        "id": "qCvfW8pp3ydb"
      },
      "source": [
        "New_I = Generator2ImagePT(model,Test_generator)"
      ],
      "execution_count": 49,
      "outputs": []
    },
    {
      "cell_type": "code",
      "metadata": {
        "id": "_OdduWXb3ydf",
        "outputId": "99c24bfd-9b63-4383-f719-76732e8ef1d3",
        "colab": {
          "base_uri": "https://localhost:8080/",
          "height": 34
        }
      },
      "source": [
        "New_I.shape"
      ],
      "execution_count": 50,
      "outputs": [
        {
          "output_type": "execute_result",
          "data": {
            "text/plain": [
              "(2336, 2260)"
            ]
          },
          "metadata": {
            "tags": []
          },
          "execution_count": 50
        }
      ]
    },
    {
      "cell_type": "code",
      "metadata": {
        "id": "0hz_aHSye9ml",
        "outputId": "3e7cfe1a-930d-4628-b506-0102714d0c86",
        "colab": {
          "base_uri": "https://localhost:8080/",
          "height": 34
        }
      },
      "source": [
        "New_I.max()"
      ],
      "execution_count": 51,
      "outputs": [
        {
          "output_type": "execute_result",
          "data": {
            "text/plain": [
              "1.0"
            ]
          },
          "metadata": {
            "tags": []
          },
          "execution_count": 51
        }
      ]
    },
    {
      "cell_type": "code",
      "metadata": {
        "id": "_yr-cGsO3ydh",
        "outputId": "2055a529-9181-450a-f689-216e852690da",
        "colab": {
          "base_uri": "https://localhost:8080/",
          "height": 286
        }
      },
      "source": [
        "plt.imshow(New_I>0.6)"
      ],
      "execution_count": 52,
      "outputs": [
        {
          "output_type": "execute_result",
          "data": {
            "text/plain": [
              "<matplotlib.image.AxesImage at 0x7f02f87af0f0>"
            ]
          },
          "metadata": {
            "tags": []
          },
          "execution_count": 52
        },
        {
          "output_type": "display_data",
          "data": {
            "image/png": "[encoded data removed]",
            "text/plain": [
              "<Figure size 432x288 with 1 Axes>"
            ]
          },
          "metadata": {
            "tags": [],
            "needs_background": "light"
          }
        }
      ]
    },
    {
      "cell_type": "code",
      "metadata": {
        "id": "jP7jcqr7Govh"
      },
      "source": [
        "plt.imsave(\"Example.jpeg\",New_I)"
      ],
      "execution_count": 42,
      "outputs": []
    },
    {
      "cell_type": "code",
      "metadata": {
        "id": "2iICs4G13ydl",
        "outputId": "9d42aa5a-931e-4400-94b7-95a9a83f7e74",
        "colab": {
          "base_uri": "https://localhost:8080/",
          "height": 286
        }
      },
      "source": [
        "plt.imshow(I)"
      ],
      "execution_count": 43,
      "outputs": [
        {
          "output_type": "execute_result",
          "data": {
            "text/plain": [
              "<matplotlib.image.AxesImage at 0x7f046e04e128>"
            ]
          },
          "metadata": {
            "tags": []
          },
          "execution_count": 43
        },
        {
          "output_type": "display_data",
          "data": {
            "image/png": "[encoded data removed]",
            "text/plain": [
              "<Figure size 432x288 with 1 Axes>"
            ]
          },
          "metadata": {
            "tags": [],
            "needs_background": "light"
          }
        }
      ]
    },
    {
      "cell_type": "code",
      "metadata": {
        "id": "YzLoCDTY3ydo"
      },
      "source": [
        ""
      ],
      "execution_count": null,
      "outputs": []
    }
  ]
}