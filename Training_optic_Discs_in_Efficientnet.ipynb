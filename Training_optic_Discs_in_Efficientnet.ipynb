{
  "nbformat": 4,
  "nbformat_minor": 0,
  "metadata": {
    "colab": {
      "name": "Training optic Discs in Efficientnet.ipynb",
      "provenance": [],
      "toc_visible": true,
      "include_colab_link": true
    },
    "kernelspec": {
      "display_name": "Python 3",
      "language": "python",
      "name": "python3"
    },
    "language_info": {
      "codemirror_mode": {
        "name": "ipython",
        "version": 3
      },
      "file_extension": ".py",
      "mimetype": "text/x-python",
      "name": "python",
      "nbconvert_exporter": "python",
      "pygments_lexer": "ipython3",
      "version": "3.6.10"
    },
    "accelerator": "GPU"
  },
  "cells": [
    {
      "cell_type": "markdown",
      "metadata": {
        "id": "view-in-github",
        "colab_type": "text"
      },
      "source": [
        "<a href=\"https://colab.research.google.com/github/Vengadore/Notebooks/blob/master/Training_optic_Discs_in_Efficientnet.ipynb\" target=\"_parent\"><img src=\"https://colab.research.google.com/assets/colab-badge.svg\" alt=\"Open In Colab\"/></a>"
      ]
    },
    {
      "cell_type": "markdown",
      "metadata": {
        "id": "nVm5Ats_YVEZ"
      },
      "source": [
        "# Diabetic Retinopathy Detection\n",
        "\n",
        "Kaggle has a large competition of Diabetic Retinopathy detection which can be found here:\n",
        "https://www.kaggle.com/c/diabetic-retinopathy-detection/\n",
        "\n",
        "Their dataset consists in 35126 images labeled from 0 to 4 according to the degree of Retinopathy.\n",
        "An analysis of the data is provided in this notebook."
      ]
    },
    {
      "cell_type": "code",
      "metadata": {
        "colab": {
          "base_uri": "https://localhost:8080/"
        },
        "id": "QABUN5czaGrr",
        "outputId": "fe95620e-c7e7-4328-fefb-763b38571230"
      },
      "source": [
        "!rm -rf sample_data\n",
        "!nvidia-smi"
      ],
      "execution_count": 1,
      "outputs": [
        {
          "output_type": "stream",
          "text": [
            "Wed Nov 18 02:11:03 2020       \n",
            "+-----------------------------------------------------------------------------+\n",
            "| NVIDIA-SMI 455.38       Driver Version: 418.67       CUDA Version: 10.1     |\n",
            "|-------------------------------+----------------------+----------------------+\n",
            "| GPU  Name        Persistence-M| Bus-Id        Disp.A | Volatile Uncorr. ECC |\n",
            "| Fan  Temp  Perf  Pwr:Usage/Cap|         Memory-Usage | GPU-Util  Compute M. |\n",
            "|                               |                      |               MIG M. |\n",
            "|===============================+======================+======================|\n",
            "|   0  Tesla T4            Off  | 00000000:00:04.0 Off |                    0 |\n",
            "| N/A   62C    P8    11W /  70W |      0MiB / 15079MiB |      0%      Default |\n",
            "|                               |                      |                 ERR! |\n",
            "+-------------------------------+----------------------+----------------------+\n",
            "                                                                               \n",
            "+-----------------------------------------------------------------------------+\n",
            "| Processes:                                                                  |\n",
            "|  GPU   GI   CI        PID   Type   Process name                  GPU Memory |\n",
            "|        ID   ID                                                   Usage      |\n",
            "|=============================================================================|\n",
            "|  No running processes found                                                 |\n",
            "+-----------------------------------------------------------------------------+\n"
          ],
          "name": "stdout"
        }
      ]
    },
    {
      "cell_type": "markdown",
      "metadata": {
        "id": "MrtmQaiBbcy5"
      },
      "source": [
        "### Install dependencies"
      ]
    },
    {
      "cell_type": "code",
      "metadata": {
        "id": "gKfg7kcTbb4h"
      },
      "source": [
        "from IPython.display import clear_output\n",
        "\n",
        "!pip install torch==1.6.0+cu101 torchvision==0.7.0+cu101 -f https://download.pytorch.org/whl/torch_stable.html\n",
        "!pip install efficientnet_pytorch\n",
        "clear_output(wait=False)"
      ],
      "execution_count": 2,
      "outputs": []
    },
    {
      "cell_type": "markdown",
      "metadata": {
        "id": "AO_cEyuIeDjq"
      },
      "source": [
        "## Load data from local drive\n"
      ]
    },
    {
      "cell_type": "code",
      "metadata": {
        "colab": {
          "base_uri": "https://localhost:8080/"
        },
        "id": "BWk0Ox2ueHNB",
        "outputId": "3d27c880-c35d-40e3-f04b-d4cce7e5ca4b"
      },
      "source": [
        "!wget -O File.zip \"https://correoipn-my.sharepoint.com/:u:/g/personal/ccarrillog1400_alumno_ipn_mx/ETdcB8GscyBAkhUFvNMzpoUBLLgg7ej9Q3t4rK_bR8ngSA?download=1\"\n",
        "!unzip File.zip\n",
        "!rm File.zip\n",
        "clear_output(wait=False)\n",
        "print(\"Data Downloaded\")"
      ],
      "execution_count": 3,
      "outputs": [
        {
          "output_type": "stream",
          "text": [
            "Data Downloaded\n"
          ],
          "name": "stdout"
        }
      ]
    },
    {
      "cell_type": "code",
      "metadata": {
        "id": "PUCY7oQLorC9"
      },
      "source": [
        "!rm checkpoint*"
      ],
      "execution_count": 1,
      "outputs": []
    },
    {
      "cell_type": "code",
      "metadata": {
        "colab": {
          "base_uri": "https://localhost:8080/",
          "height": 206
        },
        "id": "dNqkjvcUetED",
        "outputId": "8ed4887d-0683-4554-9c5f-407c4442c409"
      },
      "source": [
        "import pandas as pd\n",
        "import os\n",
        "\n",
        "Bad =  pd.DataFrame({\"imageFilename\":[os.path.join(\"./OpticDiscs/Neovessels\",File) for File in os.listdir(\"./OpticDiscs/Neovessels\") if \".jpeg\" in File]})\n",
        "Good = pd.DataFrame({\"imageFilename\":[os.path.join(\"./OpticDiscs/Good images\",File) for File in os.listdir(\"./OpticDiscs/Good images\") if \".jpeg\" in File]}).sample(len(Bad),random_state = 42)\n",
        "\n",
        "data = pd.concat((Good,Bad),axis = 0)\n",
        "data.head()\n",
        "data['class'] = data['imageFilename'].apply(lambda x : 1 if \"Good\" in x else 0)\n",
        "data = data.reset_index()\n",
        "data = data[['imageFilename','class']]\n",
        "data.head()"
      ],
      "execution_count": 2,
      "outputs": [
        {
          "output_type": "execute_result",
          "data": {
            "text/html": [
              "<div>\n",
              "<style scoped>\n",
              "    .dataframe tbody tr th:only-of-type {\n",
              "        vertical-align: middle;\n",
              "    }\n",
              "\n",
              "    .dataframe tbody tr th {\n",
              "        vertical-align: top;\n",
              "    }\n",
              "\n",
              "    .dataframe thead th {\n",
              "        text-align: right;\n",
              "    }\n",
              "</style>\n",
              "<table border=\"1\" class=\"dataframe\">\n",
              "  <thead>\n",
              "    <tr style=\"text-align: right;\">\n",
              "      <th></th>\n",
              "      <th>imageFilename</th>\n",
              "      <th>class</th>\n",
              "    </tr>\n",
              "  </thead>\n",
              "  <tbody>\n",
              "    <tr>\n",
              "      <th>0</th>\n",
              "      <td>./OpticDiscs/Good images/4270_left.jpeg</td>\n",
              "      <td>1</td>\n",
              "    </tr>\n",
              "    <tr>\n",
              "      <th>1</th>\n",
              "      <td>./OpticDiscs/Good images/554_left.jpeg</td>\n",
              "      <td>1</td>\n",
              "    </tr>\n",
              "    <tr>\n",
              "      <th>2</th>\n",
              "      <td>./OpticDiscs/Good images/37248_right.jpeg</td>\n",
              "      <td>1</td>\n",
              "    </tr>\n",
              "    <tr>\n",
              "      <th>3</th>\n",
              "      <td>./OpticDiscs/Good images/28657_right.jpeg</td>\n",
              "      <td>1</td>\n",
              "    </tr>\n",
              "    <tr>\n",
              "      <th>4</th>\n",
              "      <td>./OpticDiscs/Good images/34668_right.jpeg</td>\n",
              "      <td>1</td>\n",
              "    </tr>\n",
              "  </tbody>\n",
              "</table>\n",
              "</div>"
            ],
            "text/plain": [
              "                               imageFilename  class\n",
              "0    ./OpticDiscs/Good images/4270_left.jpeg      1\n",
              "1     ./OpticDiscs/Good images/554_left.jpeg      1\n",
              "2  ./OpticDiscs/Good images/37248_right.jpeg      1\n",
              "3  ./OpticDiscs/Good images/28657_right.jpeg      1\n",
              "4  ./OpticDiscs/Good images/34668_right.jpeg      1"
            ]
          },
          "metadata": {
            "tags": []
          },
          "execution_count": 2
        }
      ]
    },
    {
      "cell_type": "code",
      "metadata": {
        "colab": {
          "base_uri": "https://localhost:8080/"
        },
        "id": "s3N0Ue5MCvlk",
        "outputId": "5cb1fed0-0b7c-4b67-d3d0-961d6360f0e1"
      },
      "source": [
        "len(data)"
      ],
      "execution_count": 3,
      "outputs": [
        {
          "output_type": "execute_result",
          "data": {
            "text/plain": [
              "374"
            ]
          },
          "metadata": {
            "tags": []
          },
          "execution_count": 3
        }
      ]
    },
    {
      "cell_type": "markdown",
      "metadata": {
        "id": "deKSOu-Kd8Yk"
      },
      "source": [
        "#### Split data"
      ]
    },
    {
      "cell_type": "code",
      "metadata": {
        "id": "4w3TUlaqd7qi"
      },
      "source": [
        "from sklearn.model_selection import train_test_split\n",
        "\n",
        "#Split data\n",
        "X_train, X_test, y_train, y_test = train_test_split(data['imageFilename'], data['class'], test_size=0.30, random_state=65)"
      ],
      "execution_count": 4,
      "outputs": []
    },
    {
      "cell_type": "code",
      "metadata": {
        "colab": {
          "base_uri": "https://localhost:8080/"
        },
        "id": "n3hQn37YfvsA",
        "outputId": "d2a114ad-9c20-4110-dd0c-10130ffcd3c9"
      },
      "source": [
        "y_train.value_counts()"
      ],
      "execution_count": 5,
      "outputs": [
        {
          "output_type": "execute_result",
          "data": {
            "text/plain": [
              "0    139\n",
              "1    122\n",
              "Name: class, dtype: int64"
            ]
          },
          "metadata": {
            "tags": []
          },
          "execution_count": 5
        }
      ]
    },
    {
      "cell_type": "markdown",
      "metadata": {
        "id": "mPh3qDdIdkHh"
      },
      "source": [
        "## Definition of the model"
      ]
    },
    {
      "cell_type": "code",
      "metadata": {
        "colab": {
          "base_uri": "https://localhost:8080/"
        },
        "id": "Z-FUmuJidoy3",
        "outputId": "bcd153c8-a872-49d9-e730-a77f00e1fc06"
      },
      "source": [
        "from efficientnet_pytorch import EfficientNet\n",
        "import torch\n",
        "network_name = 'efficientnet-b7'\n",
        "model = EfficientNet.from_pretrained(network_name)\n",
        "## Change efficientnet final layer\n",
        "model._fc = torch.nn.Linear(in_features=2560,out_features=2,bias = True)"
      ],
      "execution_count": 6,
      "outputs": [
        {
          "output_type": "stream",
          "text": [
            "Loaded pretrained weights for efficientnet-b7\n"
          ],
          "name": "stdout"
        }
      ]
    },
    {
      "cell_type": "code",
      "metadata": {
        "colab": {
          "base_uri": "https://localhost:8080/"
        },
        "id": "Cu_aoH7-tBsT",
        "outputId": "ef4bd42f-b1c1-4e49-e459-5b8b06655a39"
      },
      "source": [
        "model._fc"
      ],
      "execution_count": 7,
      "outputs": [
        {
          "output_type": "execute_result",
          "data": {
            "text/plain": [
              "Linear(in_features=2560, out_features=2, bias=True)"
            ]
          },
          "metadata": {
            "tags": []
          },
          "execution_count": 7
        }
      ]
    },
    {
      "cell_type": "code",
      "metadata": {
        "id": "5BR_Hs12gAqx"
      },
      "source": [
        "from torchvision.transforms import Resize,ToTensor,Compose,Normalize\n",
        "from torchvision.transforms import RandomHorizontalFlip,RandomVerticalFlip,RandomRotation,ColorJitter\n",
        "from PIL import Image\n",
        "\n",
        "transforms = Compose([RandomHorizontalFlip(),RandomVerticalFlip(),RandomRotation(180),ColorJitter(0.5,0.5,0.5)]) # Transformations for the training images\n",
        "\n",
        "composed = Compose([Resize(400), # Resize to a fit size for efficientnet\n",
        "                    ToTensor(),  # Convert into sensor\n",
        "                    Normalize((0.5, 0.5, 0.5), (0.5, 0.5, 0.5))]) # Normalize image"
      ],
      "execution_count": 8,
      "outputs": []
    },
    {
      "cell_type": "markdown",
      "metadata": {
        "id": "mWg1p7EQtqVZ"
      },
      "source": [
        "### Training parameters"
      ]
    },
    {
      "cell_type": "code",
      "metadata": {
        "id": "EiT-MlPutsZR"
      },
      "source": [
        "device = torch.device('cuda' if torch.cuda.is_available() else 'cpu')\n",
        "model.to(device);\n",
        "torch.manual_seed(17)\n",
        "criterion = torch.nn.CrossEntropyLoss()\n",
        "optimizer = torch.optim.Adam(model.parameters(), lr=0.00001)"
      ],
      "execution_count": 9,
      "outputs": []
    },
    {
      "cell_type": "code",
      "metadata": {
        "colab": {
          "base_uri": "https://localhost:8080/"
        },
        "id": "iJWflI4JoVRW",
        "outputId": "76e16fe8-681d-497b-b40d-4a48b4654914"
      },
      "source": [
        "try:\n",
        "    model = torch.load('./checkpoint_b0_11.ph', map_location=device)\n",
        "except:\n",
        "    print(\"No Checkpoint loaded\")"
      ],
      "execution_count": 10,
      "outputs": [
        {
          "output_type": "stream",
          "text": [
            "No Checkpoint loaded\n"
          ],
          "name": "stdout"
        }
      ]
    },
    {
      "cell_type": "code",
      "metadata": {
        "id": "lcTzzyr5uUdr"
      },
      "source": [
        "classes = {0:[0,0,0,0,1],\n",
        "           1:[0,0,0,1,0],\n",
        "           2:[0,0,1,0,0],\n",
        "           3:[0,1,0,0,0],\n",
        "           4:[1,0,0,0,0]}"
      ],
      "execution_count": 11,
      "outputs": []
    },
    {
      "cell_type": "code",
      "metadata": {
        "colab": {
          "base_uri": "https://localhost:8080/"
        },
        "id": "RkvlQWRQtjXo",
        "outputId": "51f1aa7f-5944-40b0-d8b1-a68035ee0262"
      },
      "source": [
        "from tqdm import tqdm\n",
        "import random\n",
        "\n",
        "epochs = 100\n",
        "batch_size = 1\n",
        "\n",
        "for epoch in range(epochs):\n",
        "    \n",
        "    indexes = [idx for idx in range(len(X_train))]\n",
        "    pbar = tqdm( range(len(X_train)//batch_size),ncols = 100)\n",
        "    running_loss = 0.0\n",
        "    running_acc = 0.0\n",
        "    t = 0\n",
        "\n",
        "    for step in pbar:\n",
        "        # Load data\n",
        "        idx = random.sample(indexes,batch_size)\n",
        "        X = X_train.iloc[idx]\n",
        "        y = y_train.iloc[idx]\n",
        "\n",
        "        # Remove indexes\n",
        "        [indexes.remove(i) for i in idx]\n",
        "\n",
        "        # Load images\n",
        "        try:\n",
        "            images = [Image.open(File) for File in X]\n",
        "        except:\n",
        "            continue\n",
        "        # Load y_true\n",
        "        y_true = torch.LongTensor([c for c in y]).to(device)\n",
        "        \n",
        "        # Convert images to tensor\n",
        "        x_batch = torch.FloatTensor().to(device)\n",
        "        for image in images:\n",
        "            P = transforms(image)\n",
        "            P = composed(P).unsqueeze(0).to(device)\n",
        "            x_batch = torch.cat((x_batch,P))\n",
        "\n",
        "        # zero the parameter gradients\n",
        "        optimizer.zero_grad()\n",
        "        # forward + backward + optimize\n",
        "        outputs = model(x_batch)\n",
        "        loss = criterion(outputs, y_true)\n",
        "        loss.backward()\n",
        "        optimizer.step()\n",
        "        # print statistics\n",
        "        running_loss += loss.item()\n",
        "        t += batch_size\n",
        "\n",
        "        _, preds = torch.max(outputs, 1)\n",
        "        running_acc += torch.sum(preds == y_true).cpu().detach().numpy()\n",
        "        acc = torch.sum(preds == y_true).cpu().detach().numpy()/batch_size;\n",
        "        pbar.set_description(\"Epoch: {} Accuracy: {:0.5f} Loss: {:0.5f} \".format(epoch+1,running_acc/t,loss.item()))\n",
        "    #Validation\n",
        "    val_acc = 0.0\n",
        "    val_loss = 0.0\n",
        "    t = 0\n",
        "    for point in range(len(X_test)//batch_size):\n",
        "        with torch.no_grad():\n",
        "\n",
        "            X = X_test.iloc[point*batch_size:(point+1)*batch_size]\n",
        "            y = y_test.iloc[point*batch_size:(point+1)*batch_size]\n",
        "\n",
        "\n",
        "            # Load images\n",
        "            try:\n",
        "                images = [Image.open(File) for File in X]\n",
        "            except:\n",
        "                continue\n",
        "            # Load y_true\n",
        "            y_true = torch.LongTensor([c for c in y]).to(device)\n",
        "            \n",
        "            # Convert images to tensor\n",
        "            x_batch = torch.FloatTensor().to(device)\n",
        "            for image in images:\n",
        "                P = composed(image).unsqueeze(0).to(device)\n",
        "                x_batch = torch.cat((x_batch,P))\n",
        "\n",
        "            \n",
        "            outputs = model(x_batch)\n",
        "            loss = criterion(outputs, y_true)\n",
        "            val_loss += loss.item()\n",
        "            t += batch_size\n",
        "            _, preds = torch.max(outputs, 1)\n",
        "            val_acc += torch.sum(preds == y_true).cpu().detach().numpy()\n",
        "    print(\"Validation -- Accuracy: {:0.5f} Loss: {:0.5f} \\n\".format(val_acc/t,loss.item()))\n",
        "    try:\n",
        "        torch.save(model,\"/content/checkpoint_{}_{}_{:0.5f}.ph\".format(network_name,epoch+1,val_acc/t))\n",
        "    except:\n",
        "        continue"
      ],
      "execution_count": 29,
      "outputs": [
        {
          "output_type": "stream",
          "text": [
            "\n",
            "  0%|                                                                       | 0/261 [00:00<?, ?it/s]\u001b[A\n",
            "Epoch: 1 Accuracy: 1.00000 Loss: 0.00473 :   0%|                            | 0/261 [00:00<?, ?it/s]\u001b[A\n",
            "Epoch: 1 Accuracy: 1.00000 Loss: 0.00473 :   0%|                    | 1/261 [00:00<01:43,  2.52it/s]\u001b[A\n",
            "Epoch: 1 Accuracy: 1.00000 Loss: 0.00135 :   0%|                    | 1/261 [00:00<01:43,  2.52it/s]\u001b[A\n",
            "Epoch: 1 Accuracy: 1.00000 Loss: 0.00135 :   1%|▏                   | 2/261 [00:00<01:41,  2.54it/s]\u001b[A\n",
            "Epoch: 1 Accuracy: 1.00000 Loss: 0.00373 :   1%|▏                   | 2/261 [00:01<01:41,  2.54it/s]\u001b[A\n",
            "Epoch: 1 Accuracy: 1.00000 Loss: 0.00373 :   1%|▏                   | 3/261 [00:01<01:36,  2.68it/s]\u001b[A\n",
            "Epoch: 1 Accuracy: 1.00000 Loss: 0.00304 :   1%|▏                   | 3/261 [00:01<01:36,  2.68it/s]\u001b[A\n",
            "Epoch: 1 Accuracy: 1.00000 Loss: 0.00304 :   2%|▎                   | 4/261 [00:01<01:32,  2.78it/s]\u001b[A\n",
            "Epoch: 1 Accuracy: 1.00000 Loss: 0.00021 :   2%|▎                   | 4/261 [00:01<01:32,  2.78it/s]\u001b[A\n",
            "Epoch: 1 Accuracy: 1.00000 Loss: 0.00021 :   2%|▍                   | 5/261 [00:01<01:35,  2.67it/s]\u001b[A\n",
            "Epoch: 1 Accuracy: 1.00000 Loss: 0.00079 :   2%|▍                   | 5/261 [00:02<01:35,  2.67it/s]\u001b[A\n",
            "Epoch: 1 Accuracy: 1.00000 Loss: 0.00079 :   2%|▍                   | 6/261 [00:02<01:33,  2.74it/s]\u001b[A\n",
            "Epoch: 1 Accuracy: 1.00000 Loss: 0.00060 :   2%|▍                   | 6/261 [00:02<01:33,  2.74it/s]\u001b[A\n",
            "Epoch: 1 Accuracy: 1.00000 Loss: 0.00060 :   3%|▌                   | 7/261 [00:02<01:32,  2.76it/s]\u001b[A\n",
            "Epoch: 1 Accuracy: 1.00000 Loss: 0.04396 :   3%|▌                   | 7/261 [00:02<01:32,  2.76it/s]\u001b[A\n",
            "Epoch: 1 Accuracy: 1.00000 Loss: 0.04396 :   3%|▌                   | 8/261 [00:02<01:34,  2.69it/s]\u001b[A\n",
            "Epoch: 1 Accuracy: 1.00000 Loss: 0.00045 :   3%|▌                   | 8/261 [00:03<01:34,  2.69it/s]\u001b[A\n",
            "Epoch: 1 Accuracy: 1.00000 Loss: 0.00045 :   3%|▋                   | 9/261 [00:03<01:44,  2.42it/s]\u001b[A\n",
            "Epoch: 1 Accuracy: 1.00000 Loss: 0.00049 :   3%|▋                   | 9/261 [00:03<01:44,  2.42it/s]\u001b[A\n",
            "Epoch: 1 Accuracy: 1.00000 Loss: 0.00049 :   4%|▋                  | 10/261 [00:03<01:38,  2.55it/s]\u001b[A\n",
            "Epoch: 1 Accuracy: 1.00000 Loss: 0.00194 :   4%|▋                  | 10/261 [00:04<01:38,  2.55it/s]\u001b[A\n",
            "Epoch: 1 Accuracy: 1.00000 Loss: 0.00194 :   4%|▊                  | 11/261 [00:04<01:36,  2.60it/s]\u001b[A\n",
            "Epoch: 1 Accuracy: 1.00000 Loss: 0.00129 :   4%|▊                  | 11/261 [00:04<01:36,  2.60it/s]\u001b[A\n",
            "Epoch: 1 Accuracy: 1.00000 Loss: 0.00129 :   5%|▊                  | 12/261 [00:04<01:33,  2.67it/s]\u001b[A\n",
            "Epoch: 1 Accuracy: 1.00000 Loss: 0.00164 :   5%|▊                  | 12/261 [00:04<01:33,  2.67it/s]\u001b[A\n",
            "Epoch: 1 Accuracy: 1.00000 Loss: 0.00164 :   5%|▉                  | 13/261 [00:04<01:32,  2.69it/s]\u001b[A\n",
            "Epoch: 1 Accuracy: 1.00000 Loss: 0.00278 :   5%|▉                  | 13/261 [00:05<01:32,  2.69it/s]\u001b[A\n",
            "Epoch: 1 Accuracy: 1.00000 Loss: 0.00278 :   5%|█                  | 14/261 [00:05<01:29,  2.77it/s]\u001b[A\n",
            "Epoch: 1 Accuracy: 1.00000 Loss: 0.00414 :   5%|█                  | 14/261 [00:05<01:29,  2.77it/s]\u001b[A\n",
            "Epoch: 1 Accuracy: 1.00000 Loss: 0.00414 :   6%|█                  | 15/261 [00:05<01:31,  2.70it/s]\u001b[A\n",
            "Epoch: 1 Accuracy: 1.00000 Loss: 0.00223 :   6%|█                  | 15/261 [00:06<01:31,  2.70it/s]\u001b[A\n",
            "Epoch: 1 Accuracy: 1.00000 Loss: 0.00223 :   6%|█▏                 | 16/261 [00:06<01:34,  2.60it/s]\u001b[A\n",
            "Epoch: 1 Accuracy: 1.00000 Loss: 0.00057 :   6%|█▏                 | 16/261 [00:06<01:34,  2.60it/s]\u001b[A\n",
            "Epoch: 1 Accuracy: 1.00000 Loss: 0.00057 :   7%|█▏                 | 17/261 [00:06<01:31,  2.67it/s]\u001b[A\n",
            "Epoch: 1 Accuracy: 1.00000 Loss: 0.00354 :   7%|█▏                 | 17/261 [00:06<01:31,  2.67it/s]\u001b[A\n",
            "Epoch: 1 Accuracy: 1.00000 Loss: 0.00354 :   7%|█▎                 | 18/261 [00:06<01:26,  2.81it/s]\u001b[A\n",
            "Epoch: 1 Accuracy: 1.00000 Loss: 0.00176 :   7%|█▎                 | 18/261 [00:07<01:26,  2.81it/s]\u001b[A\n",
            "Epoch: 1 Accuracy: 1.00000 Loss: 0.00176 :   7%|█▍                 | 19/261 [00:07<01:25,  2.82it/s]\u001b[A\n",
            "Epoch: 1 Accuracy: 1.00000 Loss: 0.00040 :   7%|█▍                 | 19/261 [00:07<01:25,  2.82it/s]\u001b[A\n",
            "Epoch: 1 Accuracy: 1.00000 Loss: 0.00040 :   8%|█▍                 | 20/261 [00:07<01:29,  2.70it/s]\u001b[A\n",
            "Epoch: 1 Accuracy: 1.00000 Loss: 0.00190 :   8%|█▍                 | 20/261 [00:07<01:29,  2.70it/s]\u001b[A\n",
            "Epoch: 1 Accuracy: 1.00000 Loss: 0.00190 :   8%|█▌                 | 21/261 [00:07<01:26,  2.77it/s]\u001b[A\n",
            "Epoch: 1 Accuracy: 1.00000 Loss: 0.00081 :   8%|█▌                 | 21/261 [00:08<01:26,  2.77it/s]\u001b[A\n",
            "Epoch: 1 Accuracy: 1.00000 Loss: 0.00081 :   8%|█▌                 | 22/261 [00:08<01:27,  2.73it/s]\u001b[A\n",
            "Epoch: 1 Accuracy: 1.00000 Loss: 0.00084 :   8%|█▌                 | 22/261 [00:08<01:27,  2.73it/s]\u001b[A\n",
            "Epoch: 1 Accuracy: 1.00000 Loss: 0.00084 :   9%|█▋                 | 23/261 [00:08<01:26,  2.75it/s]\u001b[A\n",
            "Epoch: 1 Accuracy: 1.00000 Loss: 0.00503 :   9%|█▋                 | 23/261 [00:09<01:26,  2.75it/s]\u001b[A\n",
            "Epoch: 1 Accuracy: 1.00000 Loss: 0.00503 :   9%|█▋                 | 24/261 [00:09<01:37,  2.43it/s]\u001b[A\n",
            "Epoch: 1 Accuracy: 1.00000 Loss: 0.00751 :   9%|█▋                 | 24/261 [00:09<01:37,  2.43it/s]\u001b[A\n",
            "Epoch: 1 Accuracy: 1.00000 Loss: 0.00751 :  10%|█▊                 | 25/261 [00:09<01:36,  2.45it/s]\u001b[A\n",
            "Epoch: 1 Accuracy: 1.00000 Loss: 0.00161 :  10%|█▊                 | 25/261 [00:09<01:36,  2.45it/s]\u001b[A\n",
            "Epoch: 1 Accuracy: 1.00000 Loss: 0.00161 :  10%|█▉                 | 26/261 [00:09<01:32,  2.54it/s]\u001b[A\n",
            "Epoch: 1 Accuracy: 1.00000 Loss: 0.00061 :  10%|█▉                 | 26/261 [00:10<01:32,  2.54it/s]\u001b[A\n",
            "Epoch: 1 Accuracy: 1.00000 Loss: 0.00061 :  10%|█▉                 | 27/261 [00:10<01:27,  2.66it/s]\u001b[A\n",
            "Epoch: 1 Accuracy: 1.00000 Loss: 0.00475 :  10%|█▉                 | 27/261 [00:10<01:27,  2.66it/s]\u001b[A\n",
            "Epoch: 1 Accuracy: 1.00000 Loss: 0.00475 :  11%|██                 | 28/261 [00:10<01:23,  2.78it/s]\u001b[A\n",
            "Epoch: 1 Accuracy: 1.00000 Loss: 0.00335 :  11%|██                 | 28/261 [00:10<01:23,  2.78it/s]\u001b[A\n",
            "Epoch: 1 Accuracy: 1.00000 Loss: 0.00335 :  11%|██                 | 29/261 [00:10<01:27,  2.66it/s]\u001b[A\n",
            "Epoch: 1 Accuracy: 1.00000 Loss: 0.00242 :  11%|██                 | 29/261 [00:11<01:27,  2.66it/s]\u001b[A\n",
            "Epoch: 1 Accuracy: 1.00000 Loss: 0.00242 :  11%|██▏                | 30/261 [00:11<01:30,  2.56it/s]\u001b[A\n",
            "Epoch: 1 Accuracy: 1.00000 Loss: 0.00368 :  11%|██▏                | 30/261 [00:11<01:30,  2.56it/s]\u001b[A\n",
            "Epoch: 1 Accuracy: 1.00000 Loss: 0.00368 :  12%|██▎                | 31/261 [00:11<01:26,  2.66it/s]\u001b[A\n",
            "Epoch: 1 Accuracy: 1.00000 Loss: 0.00307 :  12%|██▎                | 31/261 [00:11<01:26,  2.66it/s]\u001b[A\n",
            "Epoch: 1 Accuracy: 1.00000 Loss: 0.00307 :  12%|██▎                | 32/261 [00:11<01:25,  2.69it/s]\u001b[A\n",
            "Epoch: 1 Accuracy: 1.00000 Loss: 0.01181 :  12%|██▎                | 32/261 [00:12<01:25,  2.69it/s]\u001b[A\n",
            "Epoch: 1 Accuracy: 1.00000 Loss: 0.01181 :  13%|██▍                | 33/261 [00:12<01:21,  2.80it/s]\u001b[A\n",
            "Epoch: 1 Accuracy: 1.00000 Loss: 0.00161 :  13%|██▍                | 33/261 [00:12<01:21,  2.80it/s]\u001b[A\n",
            "Epoch: 1 Accuracy: 1.00000 Loss: 0.00161 :  13%|██▍                | 34/261 [00:12<01:19,  2.84it/s]\u001b[A\n",
            "Epoch: 1 Accuracy: 1.00000 Loss: 0.00052 :  13%|██▍                | 34/261 [00:13<01:19,  2.84it/s]\u001b[A\n",
            "Epoch: 1 Accuracy: 1.00000 Loss: 0.00052 :  13%|██▌                | 35/261 [00:13<01:21,  2.76it/s]\u001b[A\n",
            "Epoch: 1 Accuracy: 1.00000 Loss: 0.00071 :  13%|██▌                | 35/261 [00:13<01:21,  2.76it/s]\u001b[A\n",
            "Epoch: 1 Accuracy: 1.00000 Loss: 0.00071 :  14%|██▌                | 36/261 [00:13<01:22,  2.74it/s]\u001b[A\n",
            "Epoch: 1 Accuracy: 1.00000 Loss: 0.00210 :  14%|██▌                | 36/261 [00:13<01:22,  2.74it/s]\u001b[A\n",
            "Epoch: 1 Accuracy: 1.00000 Loss: 0.00210 :  14%|██▋                | 37/261 [00:13<01:19,  2.81it/s]\u001b[A\n",
            "Epoch: 1 Accuracy: 1.00000 Loss: 0.00024 :  14%|██▋                | 37/261 [00:14<01:19,  2.81it/s]\u001b[A\n",
            "Epoch: 1 Accuracy: 1.00000 Loss: 0.00024 :  15%|██▊                | 38/261 [00:14<01:24,  2.63it/s]\u001b[A\n",
            "Epoch: 1 Accuracy: 1.00000 Loss: 0.00201 :  15%|██▊                | 38/261 [00:14<01:24,  2.63it/s]\u001b[A\n",
            "Epoch: 1 Accuracy: 1.00000 Loss: 0.00201 :  15%|██▊                | 39/261 [00:14<01:22,  2.69it/s]\u001b[A\n",
            "Epoch: 1 Accuracy: 1.00000 Loss: 0.00208 :  15%|██▊                | 39/261 [00:14<01:22,  2.69it/s]\u001b[A\n",
            "Epoch: 1 Accuracy: 1.00000 Loss: 0.00208 :  15%|██▉                | 40/261 [00:14<01:21,  2.71it/s]\u001b[A\n",
            "Epoch: 1 Accuracy: 1.00000 Loss: 0.00130 :  15%|██▉                | 40/261 [00:15<01:21,  2.71it/s]\u001b[A\n",
            "Epoch: 1 Accuracy: 1.00000 Loss: 0.00130 :  16%|██▉                | 41/261 [00:15<01:21,  2.70it/s]\u001b[A\n",
            "Epoch: 1 Accuracy: 1.00000 Loss: 0.00155 :  16%|██▉                | 41/261 [00:15<01:21,  2.70it/s]\u001b[A\n",
            "Epoch: 1 Accuracy: 1.00000 Loss: 0.00155 :  16%|███                | 42/261 [00:15<01:23,  2.63it/s]\u001b[A\n",
            "Epoch: 1 Accuracy: 1.00000 Loss: 0.00541 :  16%|███                | 42/261 [00:16<01:23,  2.63it/s]\u001b[A\n",
            "Epoch: 1 Accuracy: 1.00000 Loss: 0.00541 :  16%|███▏               | 43/261 [00:16<01:21,  2.66it/s]\u001b[A\n",
            "Epoch: 1 Accuracy: 1.00000 Loss: 0.00338 :  16%|███▏               | 43/261 [00:16<01:21,  2.66it/s]\u001b[A\n",
            "Epoch: 1 Accuracy: 1.00000 Loss: 0.00338 :  17%|███▏               | 44/261 [00:16<01:24,  2.57it/s]\u001b[A\n",
            "Epoch: 1 Accuracy: 1.00000 Loss: 0.00391 :  17%|███▏               | 44/261 [00:16<01:24,  2.57it/s]\u001b[A\n",
            "Epoch: 1 Accuracy: 1.00000 Loss: 0.00391 :  17%|███▎               | 45/261 [00:16<01:25,  2.51it/s]\u001b[A\n",
            "Epoch: 1 Accuracy: 1.00000 Loss: 0.01047 :  17%|███▎               | 45/261 [00:17<01:25,  2.51it/s]\u001b[A\n",
            "Epoch: 1 Accuracy: 1.00000 Loss: 0.01047 :  18%|███▎               | 46/261 [00:17<01:22,  2.60it/s]\u001b[A\n",
            "Epoch: 1 Accuracy: 1.00000 Loss: 0.00426 :  18%|███▎               | 46/261 [00:17<01:22,  2.60it/s]\u001b[A\n",
            "Epoch: 1 Accuracy: 1.00000 Loss: 0.00426 :  18%|███▍               | 47/261 [00:17<01:25,  2.51it/s]\u001b[A\n",
            "Epoch: 1 Accuracy: 1.00000 Loss: 0.00186 :  18%|███▍               | 47/261 [00:18<01:25,  2.51it/s]\u001b[A\n",
            "Epoch: 1 Accuracy: 1.00000 Loss: 0.00186 :  18%|███▍               | 48/261 [00:18<01:21,  2.63it/s]\u001b[A\n",
            "Epoch: 1 Accuracy: 1.00000 Loss: 0.69246 :  18%|███▍               | 48/261 [00:18<01:21,  2.63it/s]\u001b[A\n",
            "Epoch: 1 Accuracy: 1.00000 Loss: 0.69246 :  19%|███▌               | 49/261 [00:18<01:29,  2.37it/s]\u001b[A\n",
            "Epoch: 1 Accuracy: 1.00000 Loss: 0.06562 :  19%|███▌               | 49/261 [00:19<01:29,  2.37it/s]\u001b[A\n",
            "Epoch: 1 Accuracy: 1.00000 Loss: 0.06562 :  19%|███▋               | 50/261 [00:19<01:38,  2.14it/s]\u001b[A\n",
            "Epoch: 1 Accuracy: 1.00000 Loss: 0.00129 :  19%|███▋               | 50/261 [00:19<01:38,  2.14it/s]\u001b[A\n",
            "Epoch: 1 Accuracy: 1.00000 Loss: 0.00129 :  20%|███▋               | 51/261 [00:19<01:32,  2.26it/s]\u001b[A\n",
            "Epoch: 1 Accuracy: 1.00000 Loss: 0.00161 :  20%|███▋               | 51/261 [00:19<01:32,  2.26it/s]\u001b[A\n",
            "Epoch: 1 Accuracy: 1.00000 Loss: 0.00161 :  20%|███▊               | 52/261 [00:19<01:29,  2.34it/s]\u001b[A\n",
            "Epoch: 1 Accuracy: 1.00000 Loss: 0.00204 :  20%|███▊               | 52/261 [00:20<01:29,  2.34it/s]\u001b[A\n",
            "Epoch: 1 Accuracy: 1.00000 Loss: 0.00204 :  20%|███▊               | 53/261 [00:20<01:23,  2.48it/s]\u001b[A\n",
            "Epoch: 1 Accuracy: 1.00000 Loss: 0.00029 :  20%|███▊               | 53/261 [00:20<01:23,  2.48it/s]\u001b[A\n",
            "Epoch: 1 Accuracy: 1.00000 Loss: 0.00029 :  21%|███▉               | 54/261 [00:20<01:21,  2.54it/s]\u001b[A\n",
            "Epoch: 1 Accuracy: 1.00000 Loss: 0.00089 :  21%|███▉               | 54/261 [00:21<01:21,  2.54it/s]\u001b[A\n",
            "Epoch: 1 Accuracy: 1.00000 Loss: 0.00089 :  21%|████               | 55/261 [00:21<01:23,  2.47it/s]\u001b[A\n",
            "Epoch: 1 Accuracy: 1.00000 Loss: 0.00085 :  21%|████               | 55/261 [00:21<01:23,  2.47it/s]\u001b[A\n",
            "Epoch: 1 Accuracy: 1.00000 Loss: 0.00085 :  21%|████               | 56/261 [00:21<01:18,  2.62it/s]\u001b[A\n",
            "Epoch: 1 Accuracy: 1.00000 Loss: 0.01022 :  21%|████               | 56/261 [00:21<01:18,  2.62it/s]\u001b[A\n",
            "Epoch: 1 Accuracy: 1.00000 Loss: 0.01022 :  22%|████▏              | 57/261 [00:21<01:18,  2.60it/s]\u001b[A\n",
            "Epoch: 1 Accuracy: 1.00000 Loss: 0.00133 :  22%|████▏              | 57/261 [00:22<01:18,  2.60it/s]\u001b[A\n",
            "Epoch: 1 Accuracy: 1.00000 Loss: 0.00133 :  22%|████▏              | 58/261 [00:22<01:24,  2.41it/s]\u001b[A\n",
            "Epoch: 1 Accuracy: 1.00000 Loss: 0.00165 :  22%|████▏              | 58/261 [00:22<01:24,  2.41it/s]\u001b[A\n",
            "Epoch: 1 Accuracy: 1.00000 Loss: 0.00165 :  23%|████▎              | 59/261 [00:22<01:19,  2.55it/s]\u001b[A\n",
            "Epoch: 1 Accuracy: 1.00000 Loss: 0.00136 :  23%|████▎              | 59/261 [00:22<01:19,  2.55it/s]\u001b[A\n",
            "Epoch: 1 Accuracy: 1.00000 Loss: 0.00136 :  23%|████▎              | 60/261 [00:22<01:14,  2.70it/s]\u001b[A\n",
            "Epoch: 1 Accuracy: 1.00000 Loss: 0.00082 :  23%|████▎              | 60/261 [00:23<01:14,  2.70it/s]\u001b[A\n",
            "Epoch: 1 Accuracy: 1.00000 Loss: 0.00082 :  23%|████▍              | 61/261 [00:23<01:11,  2.78it/s]\u001b[A\n",
            "Epoch: 1 Accuracy: 1.00000 Loss: 0.00187 :  23%|████▍              | 61/261 [00:23<01:11,  2.78it/s]\u001b[A\n",
            "Epoch: 1 Accuracy: 1.00000 Loss: 0.00187 :  24%|████▌              | 62/261 [00:23<01:18,  2.53it/s]\u001b[A\n",
            "Epoch: 1 Accuracy: 0.98413 Loss: 5.95864 :  24%|████▌              | 62/261 [00:24<01:18,  2.53it/s]\u001b[A\n",
            "Epoch: 1 Accuracy: 0.98413 Loss: 5.95864 :  24%|████▌              | 63/261 [00:24<01:20,  2.47it/s]\u001b[A\n",
            "Epoch: 1 Accuracy: 0.98438 Loss: 0.00034 :  24%|████▌              | 63/261 [00:24<01:20,  2.47it/s]\u001b[A\n",
            "Epoch: 1 Accuracy: 0.98438 Loss: 0.00034 :  25%|████▋              | 64/261 [00:24<01:19,  2.48it/s]\u001b[A\n",
            "Epoch: 1 Accuracy: 0.98462 Loss: 0.01364 :  25%|████▋              | 64/261 [00:24<01:19,  2.48it/s]\u001b[A\n",
            "Epoch: 1 Accuracy: 0.98462 Loss: 0.01364 :  25%|████▋              | 65/261 [00:24<01:15,  2.60it/s]\u001b[A\n",
            "Epoch: 1 Accuracy: 0.98485 Loss: 0.00032 :  25%|████▋              | 65/261 [00:25<01:15,  2.60it/s]\u001b[A\n",
            "Epoch: 1 Accuracy: 0.98485 Loss: 0.00032 :  25%|████▊              | 66/261 [00:25<01:13,  2.67it/s]\u001b[A\n",
            "Epoch: 1 Accuracy: 0.98507 Loss: 0.00081 :  25%|████▊              | 66/261 [00:25<01:13,  2.67it/s]\u001b[A\n",
            "Epoch: 1 Accuracy: 0.98507 Loss: 0.00081 :  26%|████▉              | 67/261 [00:25<01:10,  2.74it/s]\u001b[A\n",
            "Epoch: 1 Accuracy: 0.98529 Loss: 0.00590 :  26%|████▉              | 67/261 [00:25<01:10,  2.74it/s]\u001b[A\n",
            "Epoch: 1 Accuracy: 0.98529 Loss: 0.00590 :  26%|████▉              | 68/261 [00:25<01:08,  2.82it/s]\u001b[A\n",
            "Epoch: 1 Accuracy: 0.98551 Loss: 0.00264 :  26%|████▉              | 68/261 [00:26<01:08,  2.82it/s]\u001b[A\n",
            "Epoch: 1 Accuracy: 0.98551 Loss: 0.00264 :  26%|█████              | 69/261 [00:26<01:11,  2.69it/s]\u001b[A\n",
            "Epoch: 1 Accuracy: 0.97143 Loss: 1.05660 :  26%|█████              | 69/261 [00:26<01:11,  2.69it/s]\u001b[A\n",
            "Epoch: 1 Accuracy: 0.97143 Loss: 1.05660 :  27%|█████              | 70/261 [00:26<01:09,  2.77it/s]\u001b[A\n",
            "Epoch: 1 Accuracy: 0.97183 Loss: 0.00740 :  27%|█████              | 70/261 [00:26<01:09,  2.77it/s]\u001b[A\n",
            "Epoch: 1 Accuracy: 0.97183 Loss: 0.00740 :  27%|█████▏             | 71/261 [00:26<01:06,  2.84it/s]\u001b[A\n",
            "Epoch: 1 Accuracy: 0.97222 Loss: 0.00047 :  27%|█████▏             | 71/261 [00:27<01:06,  2.84it/s]\u001b[A\n",
            "Epoch: 1 Accuracy: 0.97222 Loss: 0.00047 :  28%|█████▏             | 72/261 [00:27<01:07,  2.81it/s]\u001b[A\n",
            "Epoch: 1 Accuracy: 0.97260 Loss: 0.00179 :  28%|█████▏             | 72/261 [00:27<01:07,  2.81it/s]\u001b[A\n",
            "Epoch: 1 Accuracy: 0.97260 Loss: 0.00179 :  28%|█████▎             | 73/261 [00:27<01:08,  2.74it/s]\u001b[A\n",
            "Epoch: 1 Accuracy: 0.97297 Loss: 0.00042 :  28%|█████▎             | 73/261 [00:28<01:08,  2.74it/s]\u001b[A\n",
            "Epoch: 1 Accuracy: 0.97297 Loss: 0.00042 :  28%|█████▍             | 74/261 [00:28<01:13,  2.53it/s]\u001b[A\n",
            "Epoch: 1 Accuracy: 0.97333 Loss: 0.00026 :  28%|█████▍             | 74/261 [00:28<01:13,  2.53it/s]\u001b[A\n",
            "Epoch: 1 Accuracy: 0.97333 Loss: 0.00026 :  29%|█████▍             | 75/261 [00:28<01:16,  2.44it/s]\u001b[A\n",
            "Epoch: 1 Accuracy: 0.97368 Loss: 0.00189 :  29%|█████▍             | 75/261 [00:28<01:16,  2.44it/s]\u001b[A\n",
            "Epoch: 1 Accuracy: 0.97368 Loss: 0.00189 :  29%|█████▌             | 76/261 [00:28<01:11,  2.58it/s]\u001b[A\n",
            "Epoch: 1 Accuracy: 0.97403 Loss: 0.00031 :  29%|█████▌             | 76/261 [00:29<01:11,  2.58it/s]\u001b[A\n",
            "Epoch: 1 Accuracy: 0.97403 Loss: 0.00031 :  30%|█████▌             | 77/261 [00:29<01:12,  2.54it/s]\u001b[A\n",
            "Epoch: 1 Accuracy: 0.97436 Loss: 0.00406 :  30%|█████▌             | 77/261 [00:29<01:12,  2.54it/s]\u001b[A\n",
            "Epoch: 1 Accuracy: 0.97436 Loss: 0.00406 :  30%|█████▋             | 78/261 [00:29<01:10,  2.61it/s]\u001b[A\n",
            "Epoch: 1 Accuracy: 0.97468 Loss: 0.01518 :  30%|█████▋             | 78/261 [00:30<01:10,  2.61it/s]\u001b[A\n",
            "Epoch: 1 Accuracy: 0.97468 Loss: 0.01518 :  30%|█████▊             | 79/261 [00:30<01:19,  2.30it/s]\u001b[A\n",
            "Epoch: 1 Accuracy: 0.97500 Loss: 0.00024 :  30%|█████▊             | 79/261 [00:30<01:19,  2.30it/s]\u001b[A\n",
            "Epoch: 1 Accuracy: 0.97500 Loss: 0.00024 :  31%|█████▊             | 80/261 [00:30<01:18,  2.31it/s]\u001b[A\n",
            "Epoch: 1 Accuracy: 0.97531 Loss: 0.00358 :  31%|█████▊             | 80/261 [00:31<01:18,  2.31it/s]\u001b[A\n",
            "Epoch: 1 Accuracy: 0.97531 Loss: 0.00358 :  31%|█████▉             | 81/261 [00:31<01:13,  2.44it/s]\u001b[A\n",
            "Epoch: 1 Accuracy: 0.97561 Loss: 0.00019 :  31%|█████▉             | 81/261 [00:31<01:13,  2.44it/s]\u001b[A\n",
            "Epoch: 1 Accuracy: 0.97561 Loss: 0.00019 :  31%|█████▉             | 82/261 [00:31<01:18,  2.28it/s]\u001b[A\n",
            "Epoch: 1 Accuracy: 0.97590 Loss: 0.00041 :  31%|█████▉             | 82/261 [00:31<01:18,  2.28it/s]\u001b[A\n",
            "Epoch: 1 Accuracy: 0.97590 Loss: 0.00041 :  32%|██████             | 83/261 [00:31<01:12,  2.45it/s]\u001b[A\n",
            "Epoch: 1 Accuracy: 0.97619 Loss: 0.00034 :  32%|██████             | 83/261 [00:32<01:12,  2.45it/s]\u001b[A\n",
            "Epoch: 1 Accuracy: 0.97619 Loss: 0.00034 :  32%|██████             | 84/261 [00:32<01:10,  2.52it/s]\u001b[A\n",
            "Epoch: 1 Accuracy: 0.97647 Loss: 0.00731 :  32%|██████             | 84/261 [00:32<01:10,  2.52it/s]\u001b[A\n",
            "Epoch: 1 Accuracy: 0.97647 Loss: 0.00731 :  33%|██████▏            | 85/261 [00:32<01:07,  2.61it/s]\u001b[A\n",
            "Epoch: 1 Accuracy: 0.97674 Loss: 0.00404 :  33%|██████▏            | 85/261 [00:32<01:07,  2.61it/s]\u001b[A\n",
            "Epoch: 1 Accuracy: 0.97674 Loss: 0.00404 :  33%|██████▎            | 86/261 [00:32<01:03,  2.74it/s]\u001b[A\n",
            "Epoch: 1 Accuracy: 0.97701 Loss: 0.00165 :  33%|██████▎            | 86/261 [00:33<01:03,  2.74it/s]\u001b[A\n",
            "Epoch: 1 Accuracy: 0.97701 Loss: 0.00165 :  33%|██████▎            | 87/261 [00:33<01:02,  2.78it/s]\u001b[A\n",
            "Epoch: 1 Accuracy: 0.97727 Loss: 0.00222 :  33%|██████▎            | 87/261 [00:33<01:02,  2.78it/s]\u001b[A\n",
            "Epoch: 1 Accuracy: 0.97727 Loss: 0.00222 :  34%|██████▍            | 88/261 [00:33<01:05,  2.63it/s]\u001b[A\n",
            "Epoch: 1 Accuracy: 0.97753 Loss: 0.05257 :  34%|██████▍            | 88/261 [00:34<01:05,  2.63it/s]\u001b[A\n",
            "Epoch: 1 Accuracy: 0.97753 Loss: 0.05257 :  34%|██████▍            | 89/261 [00:34<01:05,  2.61it/s]\u001b[A\n",
            "Epoch: 1 Accuracy: 0.97778 Loss: 0.00780 :  34%|██████▍            | 89/261 [00:34<01:05,  2.61it/s]\u001b[A\n",
            "Epoch: 1 Accuracy: 0.97778 Loss: 0.00780 :  34%|██████▌            | 90/261 [00:34<01:03,  2.70it/s]\u001b[A\n",
            "Epoch: 1 Accuracy: 0.97802 Loss: 0.00025 :  34%|██████▌            | 90/261 [00:34<01:03,  2.70it/s]\u001b[A\n",
            "Epoch: 1 Accuracy: 0.97802 Loss: 0.00025 :  35%|██████▌            | 91/261 [00:34<01:03,  2.66it/s]\u001b[A\n",
            "Epoch: 1 Accuracy: 0.97826 Loss: 0.00413 :  35%|██████▌            | 91/261 [00:35<01:03,  2.66it/s]\u001b[A\n",
            "Epoch: 1 Accuracy: 0.97826 Loss: 0.00413 :  35%|██████▋            | 92/261 [00:35<01:02,  2.70it/s]\u001b[A\n",
            "Epoch: 1 Accuracy: 0.97849 Loss: 0.00380 :  35%|██████▋            | 92/261 [00:35<01:02,  2.70it/s]\u001b[A\n",
            "Epoch: 1 Accuracy: 0.97849 Loss: 0.00380 :  36%|██████▊            | 93/261 [00:35<01:05,  2.57it/s]\u001b[A\n",
            "Epoch: 1 Accuracy: 0.97872 Loss: 0.00045 :  36%|██████▊            | 93/261 [00:35<01:05,  2.57it/s]\u001b[A\n",
            "Epoch: 1 Accuracy: 0.97872 Loss: 0.00045 :  36%|██████▊            | 94/261 [00:35<01:01,  2.69it/s]\u001b[A\n",
            "Epoch: 1 Accuracy: 0.97895 Loss: 0.08796 :  36%|██████▊            | 94/261 [00:36<01:01,  2.69it/s]\u001b[A\n",
            "Epoch: 1 Accuracy: 0.97895 Loss: 0.08796 :  36%|██████▉            | 95/261 [00:36<01:16,  2.18it/s]\u001b[A\n",
            "Epoch: 1 Accuracy: 0.97917 Loss: 0.00151 :  36%|██████▉            | 95/261 [00:37<01:16,  2.18it/s]\u001b[A\n",
            "Epoch: 1 Accuracy: 0.97917 Loss: 0.00151 :  37%|██████▉            | 96/261 [00:37<01:12,  2.27it/s]\u001b[A\n",
            "Epoch: 1 Accuracy: 0.97938 Loss: 0.00242 :  37%|██████▉            | 96/261 [00:37<01:12,  2.27it/s]\u001b[A\n",
            "Epoch: 1 Accuracy: 0.97938 Loss: 0.00242 :  37%|███████            | 97/261 [00:37<01:07,  2.43it/s]\u001b[A\n",
            "Epoch: 1 Accuracy: 0.97959 Loss: 0.00047 :  37%|███████            | 97/261 [00:37<01:07,  2.43it/s]\u001b[A\n",
            "Epoch: 1 Accuracy: 0.97959 Loss: 0.00047 :  38%|███████▏           | 98/261 [00:37<01:04,  2.53it/s]\u001b[A\n",
            "Epoch: 1 Accuracy: 0.97980 Loss: 0.06048 :  38%|███████▏           | 98/261 [00:38<01:04,  2.53it/s]\u001b[A\n",
            "Epoch: 1 Accuracy: 0.97980 Loss: 0.06048 :  38%|███████▏           | 99/261 [00:38<01:01,  2.63it/s]\u001b[A\n",
            "Epoch: 1 Accuracy: 0.98000 Loss: 0.00677 :  38%|███████▏           | 99/261 [00:38<01:01,  2.63it/s]\u001b[A\n",
            "Epoch: 1 Accuracy: 0.98000 Loss: 0.00677 :  38%|██████▉           | 100/261 [00:38<01:01,  2.61it/s]\u001b[A\n",
            "Epoch: 1 Accuracy: 0.98020 Loss: 0.00248 :  38%|██████▉           | 100/261 [00:38<01:01,  2.61it/s]\u001b[A\n",
            "Epoch: 1 Accuracy: 0.98020 Loss: 0.00248 :  39%|██████▉           | 101/261 [00:38<00:59,  2.68it/s]\u001b[A\n",
            "Epoch: 1 Accuracy: 0.98039 Loss: 0.00827 :  39%|██████▉           | 101/261 [00:39<00:59,  2.68it/s]\u001b[A\n",
            "Epoch: 1 Accuracy: 0.98039 Loss: 0.00827 :  39%|███████           | 102/261 [00:39<00:56,  2.79it/s]\u001b[A\n",
            "Epoch: 1 Accuracy: 0.98058 Loss: 0.00056 :  39%|███████           | 102/261 [00:39<00:56,  2.79it/s]\u001b[A\n",
            "Epoch: 1 Accuracy: 0.98058 Loss: 0.00056 :  39%|███████           | 103/261 [00:39<00:58,  2.70it/s]\u001b[A\n",
            "Epoch: 1 Accuracy: 0.98077 Loss: 0.12502 :  39%|███████           | 103/261 [00:40<00:58,  2.70it/s]\u001b[A\n",
            "Epoch: 1 Accuracy: 0.98077 Loss: 0.12502 :  40%|███████▏          | 104/261 [00:40<01:07,  2.34it/s]\u001b[A\n",
            "Epoch: 1 Accuracy: 0.98095 Loss: 0.00057 :  40%|███████▏          | 104/261 [00:40<01:07,  2.34it/s]\u001b[A\n",
            "Epoch: 1 Accuracy: 0.98095 Loss: 0.00057 :  40%|███████▏          | 105/261 [00:40<01:02,  2.51it/s]\u001b[A\n",
            "Epoch: 1 Accuracy: 0.98113 Loss: 0.00068 :  40%|███████▏          | 105/261 [00:40<01:02,  2.51it/s]\u001b[A\n",
            "Epoch: 1 Accuracy: 0.98113 Loss: 0.00068 :  41%|███████▎          | 106/261 [00:40<00:59,  2.60it/s]\u001b[A\n",
            "Epoch: 1 Accuracy: 0.98131 Loss: 0.00144 :  41%|███████▎          | 106/261 [00:41<00:59,  2.60it/s]\u001b[A\n",
            "Epoch: 1 Accuracy: 0.98131 Loss: 0.00144 :  41%|███████▍          | 107/261 [00:41<00:57,  2.67it/s]\u001b[A\n",
            "Epoch: 1 Accuracy: 0.98148 Loss: 0.00320 :  41%|███████▍          | 107/261 [00:41<00:57,  2.67it/s]\u001b[A\n",
            "Epoch: 1 Accuracy: 0.98148 Loss: 0.00320 :  41%|███████▍          | 108/261 [00:41<00:57,  2.66it/s]\u001b[A\n",
            "Epoch: 1 Accuracy: 0.98165 Loss: 0.00096 :  41%|███████▍          | 108/261 [00:41<00:57,  2.66it/s]\u001b[A\n",
            "Epoch: 1 Accuracy: 0.98165 Loss: 0.00096 :  42%|███████▌          | 109/261 [00:41<00:55,  2.72it/s]\u001b[A\n",
            "Epoch: 1 Accuracy: 0.98182 Loss: 0.00074 :  42%|███████▌          | 109/261 [00:42<00:55,  2.72it/s]\u001b[A\n",
            "Epoch: 1 Accuracy: 0.98182 Loss: 0.00074 :  42%|███████▌          | 110/261 [00:42<00:53,  2.80it/s]\u001b[A\n",
            "Epoch: 1 Accuracy: 0.98198 Loss: 0.02228 :  42%|███████▌          | 110/261 [00:42<00:53,  2.80it/s]\u001b[A\n",
            "Epoch: 1 Accuracy: 0.98198 Loss: 0.02228 :  43%|███████▋          | 111/261 [00:42<00:55,  2.72it/s]\u001b[A\n",
            "Epoch: 1 Accuracy: 0.98214 Loss: 0.00106 :  43%|███████▋          | 111/261 [00:42<00:55,  2.72it/s]\u001b[A\n",
            "Epoch: 1 Accuracy: 0.98214 Loss: 0.00106 :  43%|███████▋          | 112/261 [00:42<00:52,  2.82it/s]\u001b[A\n",
            "Epoch: 1 Accuracy: 0.98230 Loss: 0.00133 :  43%|███████▋          | 112/261 [00:43<00:52,  2.82it/s]\u001b[A\n",
            "Epoch: 1 Accuracy: 0.98230 Loss: 0.00133 :  43%|███████▊          | 113/261 [00:43<00:54,  2.72it/s]\u001b[A\n",
            "Epoch: 1 Accuracy: 0.98246 Loss: 0.00076 :  43%|███████▊          | 113/261 [00:43<00:54,  2.72it/s]\u001b[A\n",
            "Epoch: 1 Accuracy: 0.98246 Loss: 0.00076 :  44%|███████▊          | 114/261 [00:43<00:51,  2.83it/s]\u001b[A\n",
            "Epoch: 1 Accuracy: 0.98261 Loss: 0.00047 :  44%|███████▊          | 114/261 [00:44<00:51,  2.83it/s]\u001b[A\n",
            "Epoch: 1 Accuracy: 0.98261 Loss: 0.00047 :  44%|███████▉          | 115/261 [00:44<00:53,  2.75it/s]\u001b[A\n",
            "Epoch: 1 Accuracy: 0.98276 Loss: 0.00242 :  44%|███████▉          | 115/261 [00:44<00:53,  2.75it/s]\u001b[A\n",
            "Epoch: 1 Accuracy: 0.98276 Loss: 0.00242 :  44%|████████          | 116/261 [00:44<00:51,  2.81it/s]\u001b[A\n",
            "Epoch: 1 Accuracy: 0.98291 Loss: 0.01306 :  44%|████████          | 116/261 [00:44<00:51,  2.81it/s]\u001b[A\n",
            "Epoch: 1 Accuracy: 0.98291 Loss: 0.01306 :  45%|████████          | 117/261 [00:44<00:50,  2.83it/s]\u001b[A\n",
            "Epoch: 1 Accuracy: 0.98305 Loss: 0.00269 :  45%|████████          | 117/261 [00:45<00:50,  2.83it/s]\u001b[A\n",
            "Epoch: 1 Accuracy: 0.98305 Loss: 0.00269 :  45%|████████▏         | 118/261 [00:45<00:50,  2.81it/s]\u001b[A\n",
            "Epoch: 1 Accuracy: 0.98319 Loss: 0.03089 :  45%|████████▏         | 118/261 [00:45<00:50,  2.81it/s]\u001b[A\n",
            "Epoch: 1 Accuracy: 0.98319 Loss: 0.03089 :  46%|████████▏         | 119/261 [00:45<00:52,  2.72it/s]\u001b[A\n",
            "Epoch: 1 Accuracy: 0.98333 Loss: 0.00524 :  46%|████████▏         | 119/261 [00:45<00:52,  2.72it/s]\u001b[A\n",
            "Epoch: 1 Accuracy: 0.98333 Loss: 0.00524 :  46%|████████▎         | 120/261 [00:45<00:52,  2.69it/s]\u001b[A\n",
            "Epoch: 1 Accuracy: 0.98347 Loss: 0.00408 :  46%|████████▎         | 120/261 [00:46<00:52,  2.69it/s]\u001b[A\n",
            "Epoch: 1 Accuracy: 0.98347 Loss: 0.00408 :  46%|████████▎         | 121/261 [00:46<00:52,  2.67it/s]\u001b[A\n",
            "Epoch: 1 Accuracy: 0.98361 Loss: 0.00028 :  46%|████████▎         | 121/261 [00:46<00:52,  2.67it/s]\u001b[A\n",
            "Epoch: 1 Accuracy: 0.98361 Loss: 0.00028 :  47%|████████▍         | 122/261 [00:46<00:52,  2.64it/s]\u001b[A\n",
            "Epoch: 1 Accuracy: 0.98374 Loss: 0.00104 :  47%|████████▍         | 122/261 [00:46<00:52,  2.64it/s]\u001b[A\n",
            "Epoch: 1 Accuracy: 0.98374 Loss: 0.00104 :  47%|████████▍         | 123/261 [00:46<00:51,  2.71it/s]\u001b[A\n",
            "Epoch: 1 Accuracy: 0.98387 Loss: 0.00073 :  47%|████████▍         | 123/261 [00:47<00:51,  2.71it/s]\u001b[A\n",
            "Epoch: 1 Accuracy: 0.98387 Loss: 0.00073 :  48%|████████▌         | 124/261 [00:47<00:49,  2.75it/s]\u001b[A\n",
            "Epoch: 1 Accuracy: 0.98400 Loss: 0.00094 :  48%|████████▌         | 124/261 [00:47<00:49,  2.75it/s]\u001b[A\n",
            "Epoch: 1 Accuracy: 0.98400 Loss: 0.00094 :  48%|████████▌         | 125/261 [00:47<00:49,  2.77it/s]\u001b[A\n",
            "Epoch: 1 Accuracy: 0.98413 Loss: 0.00065 :  48%|████████▌         | 125/261 [00:48<00:49,  2.77it/s]\u001b[A\n",
            "Epoch: 1 Accuracy: 0.98413 Loss: 0.00065 :  48%|████████▋         | 126/261 [00:48<00:49,  2.75it/s]\u001b[A\n",
            "Epoch: 1 Accuracy: 0.98425 Loss: 0.10634 :  48%|████████▋         | 126/261 [00:48<00:49,  2.75it/s]\u001b[A\n",
            "Epoch: 1 Accuracy: 0.98425 Loss: 0.10634 :  49%|████████▊         | 127/261 [00:48<00:53,  2.52it/s]\u001b[A\n",
            "Epoch: 1 Accuracy: 0.98438 Loss: 0.00025 :  49%|████████▊         | 127/261 [00:48<00:53,  2.52it/s]\u001b[A\n",
            "Epoch: 1 Accuracy: 0.98438 Loss: 0.00025 :  49%|████████▊         | 128/261 [00:48<00:53,  2.49it/s]\u001b[A\n",
            "Epoch: 1 Accuracy: 0.98450 Loss: 0.00054 :  49%|████████▊         | 128/261 [00:49<00:53,  2.49it/s]\u001b[A\n",
            "Epoch: 1 Accuracy: 0.98450 Loss: 0.00054 :  49%|████████▉         | 129/261 [00:49<00:50,  2.61it/s]\u001b[A\n",
            "Epoch: 1 Accuracy: 0.98462 Loss: 0.00093 :  49%|████████▉         | 129/261 [00:49<00:50,  2.61it/s]\u001b[A\n",
            "Epoch: 1 Accuracy: 0.98462 Loss: 0.00093 :  50%|████████▉         | 130/261 [00:49<00:47,  2.74it/s]\u001b[A\n",
            "Epoch: 1 Accuracy: 0.98473 Loss: 0.00477 :  50%|████████▉         | 130/261 [00:49<00:47,  2.74it/s]\u001b[A\n",
            "Epoch: 1 Accuracy: 0.98473 Loss: 0.00477 :  50%|█████████         | 131/261 [00:49<00:46,  2.81it/s]\u001b[A\n",
            "Epoch: 1 Accuracy: 0.98485 Loss: 0.06036 :  50%|█████████         | 131/261 [00:50<00:46,  2.81it/s]\u001b[A\n",
            "Epoch: 1 Accuracy: 0.98485 Loss: 0.06036 :  51%|█████████         | 132/261 [00:50<00:47,  2.73it/s]\u001b[A\n",
            "Epoch: 1 Accuracy: 0.98496 Loss: 0.00352 :  51%|█████████         | 132/261 [00:50<00:47,  2.73it/s]\u001b[A\n",
            "Epoch: 1 Accuracy: 0.98496 Loss: 0.00352 :  51%|█████████▏        | 133/261 [00:50<00:45,  2.81it/s]\u001b[A\n",
            "Epoch: 1 Accuracy: 0.97761 Loss: 2.71887 :  51%|█████████▏        | 133/261 [00:51<00:45,  2.81it/s]\u001b[A\n",
            "Epoch: 1 Accuracy: 0.97761 Loss: 2.71887 :  51%|█████████▏        | 134/261 [00:51<00:45,  2.78it/s]\u001b[A\n",
            "Epoch: 1 Accuracy: 0.97778 Loss: 0.00131 :  51%|█████████▏        | 134/261 [00:51<00:45,  2.78it/s]\u001b[A\n",
            "Epoch: 1 Accuracy: 0.97778 Loss: 0.00131 :  52%|█████████▎        | 135/261 [00:51<00:43,  2.89it/s]\u001b[A\n",
            "Epoch: 1 Accuracy: 0.97794 Loss: 0.00210 :  52%|█████████▎        | 135/261 [00:51<00:43,  2.89it/s]\u001b[A\n",
            "Epoch: 1 Accuracy: 0.97794 Loss: 0.00210 :  52%|█████████▍        | 136/261 [00:51<00:54,  2.30it/s]\u001b[A\n",
            "Epoch: 1 Accuracy: 0.97810 Loss: 0.00048 :  52%|█████████▍        | 136/261 [00:52<00:54,  2.30it/s]\u001b[A\n",
            "Epoch: 1 Accuracy: 0.97810 Loss: 0.00048 :  52%|█████████▍        | 137/261 [00:52<00:51,  2.40it/s]\u001b[A\n",
            "Epoch: 1 Accuracy: 0.97826 Loss: 0.00089 :  52%|█████████▍        | 137/261 [00:52<00:51,  2.40it/s]\u001b[A\n",
            "Epoch: 1 Accuracy: 0.97826 Loss: 0.00089 :  53%|█████████▌        | 138/261 [00:52<00:47,  2.59it/s]\u001b[A\n",
            "Epoch: 1 Accuracy: 0.97842 Loss: 0.03319 :  53%|█████████▌        | 138/261 [00:53<00:47,  2.59it/s]\u001b[A\n",
            "Epoch: 1 Accuracy: 0.97842 Loss: 0.03319 :  53%|█████████▌        | 139/261 [00:53<00:47,  2.59it/s]\u001b[A\n",
            "Epoch: 1 Accuracy: 0.97857 Loss: 0.00273 :  53%|█████████▌        | 139/261 [00:53<00:47,  2.59it/s]\u001b[A\n",
            "Epoch: 1 Accuracy: 0.97857 Loss: 0.00273 :  54%|█████████▋        | 140/261 [00:53<00:47,  2.54it/s]\u001b[A\n",
            "Epoch: 1 Accuracy: 0.97872 Loss: 0.00174 :  54%|█████████▋        | 140/261 [00:53<00:47,  2.54it/s]\u001b[A\n",
            "Epoch: 1 Accuracy: 0.97872 Loss: 0.00174 :  54%|█████████▋        | 141/261 [00:53<00:46,  2.61it/s]\u001b[A\n",
            "Epoch: 1 Accuracy: 0.97887 Loss: 0.00080 :  54%|█████████▋        | 141/261 [00:54<00:46,  2.61it/s]\u001b[A\n",
            "Epoch: 1 Accuracy: 0.97887 Loss: 0.00080 :  54%|█████████▊        | 142/261 [00:54<00:44,  2.67it/s]\u001b[A\n",
            "Epoch: 1 Accuracy: 0.97902 Loss: 0.00040 :  54%|█████████▊        | 142/261 [00:54<00:44,  2.67it/s]\u001b[A\n",
            "Epoch: 1 Accuracy: 0.97902 Loss: 0.00040 :  55%|█████████▊        | 143/261 [00:54<00:43,  2.73it/s]\u001b[A\n",
            "Epoch: 1 Accuracy: 0.97917 Loss: 0.00435 :  55%|█████████▊        | 143/261 [00:54<00:43,  2.73it/s]\u001b[A\n",
            "Epoch: 1 Accuracy: 0.97917 Loss: 0.00435 :  55%|█████████▉        | 144/261 [00:54<00:41,  2.79it/s]\u001b[A\n",
            "Epoch: 1 Accuracy: 0.97931 Loss: 0.00204 :  55%|█████████▉        | 144/261 [00:55<00:41,  2.79it/s]\u001b[A\n",
            "Epoch: 1 Accuracy: 0.97931 Loss: 0.00204 :  56%|██████████        | 145/261 [00:55<00:42,  2.73it/s]\u001b[A\n",
            "Epoch: 1 Accuracy: 0.97945 Loss: 0.10336 :  56%|██████████        | 145/261 [00:55<00:42,  2.73it/s]\u001b[A\n",
            "Epoch: 1 Accuracy: 0.97945 Loss: 0.10336 :  56%|██████████        | 146/261 [00:55<00:42,  2.70it/s]\u001b[A\n",
            "Epoch: 1 Accuracy: 0.97959 Loss: 0.00110 :  56%|██████████        | 146/261 [00:56<00:42,  2.70it/s]\u001b[A\n",
            "Epoch: 1 Accuracy: 0.97959 Loss: 0.00110 :  56%|██████████▏       | 147/261 [00:56<00:45,  2.53it/s]\u001b[A\n",
            "Epoch: 1 Accuracy: 0.97973 Loss: 0.00030 :  56%|██████████▏       | 147/261 [00:56<00:45,  2.53it/s]\u001b[A\n",
            "Epoch: 1 Accuracy: 0.97973 Loss: 0.00030 :  57%|██████████▏       | 148/261 [00:56<00:44,  2.53it/s]\u001b[A\n",
            "Epoch: 1 Accuracy: 0.97987 Loss: 0.00145 :  57%|██████████▏       | 148/261 [00:56<00:44,  2.53it/s]\u001b[A\n",
            "Epoch: 1 Accuracy: 0.97987 Loss: 0.00145 :  57%|██████████▎       | 149/261 [00:56<00:42,  2.62it/s]\u001b[A\n",
            "Epoch: 1 Accuracy: 0.98000 Loss: 0.00162 :  57%|██████████▎       | 149/261 [00:57<00:42,  2.62it/s]\u001b[A\n",
            "Epoch: 1 Accuracy: 0.98000 Loss: 0.00162 :  57%|██████████▎       | 150/261 [00:57<00:44,  2.51it/s]\u001b[A\n",
            "Epoch: 1 Accuracy: 0.98013 Loss: 0.00195 :  57%|██████████▎       | 150/261 [00:57<00:44,  2.51it/s]\u001b[A\n",
            "Epoch: 1 Accuracy: 0.98013 Loss: 0.00195 :  58%|██████████▍       | 151/261 [00:57<00:41,  2.64it/s]\u001b[A\n",
            "Epoch: 1 Accuracy: 0.98026 Loss: 0.03132 :  58%|██████████▍       | 151/261 [00:57<00:41,  2.64it/s]\u001b[A\n",
            "Epoch: 1 Accuracy: 0.98026 Loss: 0.03132 :  58%|██████████▍       | 152/261 [00:57<00:41,  2.65it/s]\u001b[A\n",
            "Epoch: 1 Accuracy: 0.98039 Loss: 0.00291 :  58%|██████████▍       | 152/261 [00:58<00:41,  2.65it/s]\u001b[A\n",
            "Epoch: 1 Accuracy: 0.98039 Loss: 0.00291 :  59%|██████████▌       | 153/261 [00:58<00:42,  2.55it/s]\u001b[A\n",
            "Epoch: 1 Accuracy: 0.98052 Loss: 0.00075 :  59%|██████████▌       | 153/261 [00:58<00:42,  2.55it/s]\u001b[A\n",
            "Epoch: 1 Accuracy: 0.98052 Loss: 0.00075 :  59%|██████████▌       | 154/261 [00:58<00:39,  2.68it/s]\u001b[A\n",
            "Epoch: 1 Accuracy: 0.98065 Loss: 0.00166 :  59%|██████████▌       | 154/261 [00:59<00:39,  2.68it/s]\u001b[A\n",
            "Epoch: 1 Accuracy: 0.98065 Loss: 0.00166 :  59%|██████████▋       | 155/261 [00:59<00:39,  2.71it/s]\u001b[A\n",
            "Epoch: 1 Accuracy: 0.98077 Loss: 0.00210 :  59%|██████████▋       | 155/261 [00:59<00:39,  2.71it/s]\u001b[A\n",
            "Epoch: 1 Accuracy: 0.98077 Loss: 0.00210 :  60%|██████████▊       | 156/261 [00:59<00:41,  2.51it/s]\u001b[A\n",
            "Epoch: 1 Accuracy: 0.98089 Loss: 0.00071 :  60%|██████████▊       | 156/261 [00:59<00:41,  2.51it/s]\u001b[A\n",
            "Epoch: 1 Accuracy: 0.98089 Loss: 0.00071 :  60%|██████████▊       | 157/261 [00:59<00:39,  2.63it/s]\u001b[A\n",
            "Epoch: 1 Accuracy: 0.98101 Loss: 0.24550 :  60%|██████████▊       | 157/261 [01:00<00:39,  2.63it/s]\u001b[A\n",
            "Epoch: 1 Accuracy: 0.98101 Loss: 0.24550 :  61%|██████████▉       | 158/261 [01:00<00:39,  2.61it/s]\u001b[A\n",
            "Epoch: 1 Accuracy: 0.98113 Loss: 0.00077 :  61%|██████████▉       | 158/261 [01:00<00:39,  2.61it/s]\u001b[A\n",
            "Epoch: 1 Accuracy: 0.98113 Loss: 0.00077 :  61%|██████████▉       | 159/261 [01:00<00:40,  2.54it/s]\u001b[A\n",
            "Epoch: 1 Accuracy: 0.98125 Loss: 0.00424 :  61%|██████████▉       | 159/261 [01:01<00:40,  2.54it/s]\u001b[A\n",
            "Epoch: 1 Accuracy: 0.98125 Loss: 0.00424 :  61%|███████████       | 160/261 [01:01<00:41,  2.41it/s]\u001b[A\n",
            "Epoch: 1 Accuracy: 0.98137 Loss: 0.09221 :  61%|███████████       | 160/261 [01:01<00:41,  2.41it/s]\u001b[A\n",
            "Epoch: 1 Accuracy: 0.98137 Loss: 0.09221 :  62%|███████████       | 161/261 [01:01<00:38,  2.57it/s]\u001b[A\n",
            "Epoch: 1 Accuracy: 0.98148 Loss: 0.00078 :  62%|███████████       | 161/261 [01:01<00:38,  2.57it/s]\u001b[A\n",
            "Epoch: 1 Accuracy: 0.98148 Loss: 0.00078 :  62%|███████████▏      | 162/261 [01:01<00:39,  2.54it/s]\u001b[A\n",
            "Epoch: 1 Accuracy: 0.98160 Loss: 0.00085 :  62%|███████████▏      | 162/261 [01:02<00:39,  2.54it/s]\u001b[A\n",
            "Epoch: 1 Accuracy: 0.98160 Loss: 0.00085 :  62%|███████████▏      | 163/261 [01:02<00:37,  2.59it/s]\u001b[A\n",
            "Epoch: 1 Accuracy: 0.98171 Loss: 0.02570 :  62%|███████████▏      | 163/261 [01:02<00:37,  2.59it/s]\u001b[A\n",
            "Epoch: 1 Accuracy: 0.98171 Loss: 0.02570 :  63%|███████████▎      | 164/261 [01:02<00:36,  2.64it/s]\u001b[A\n",
            "Epoch: 1 Accuracy: 0.98182 Loss: 0.00102 :  63%|███████████▎      | 164/261 [01:02<00:36,  2.64it/s]\u001b[A\n",
            "Epoch: 1 Accuracy: 0.98182 Loss: 0.00102 :  63%|███████████▍      | 165/261 [01:02<00:36,  2.66it/s]\u001b[A\n",
            "Epoch: 1 Accuracy: 0.98193 Loss: 0.00150 :  63%|███████████▍      | 165/261 [01:03<00:36,  2.66it/s]\u001b[A\n",
            "Epoch: 1 Accuracy: 0.98193 Loss: 0.00150 :  64%|███████████▍      | 166/261 [01:03<00:34,  2.75it/s]\u001b[A\n",
            "Epoch: 1 Accuracy: 0.98204 Loss: 0.00428 :  64%|███████████▍      | 166/261 [01:03<00:34,  2.75it/s]\u001b[A\n",
            "Epoch: 1 Accuracy: 0.98204 Loss: 0.00428 :  64%|███████████▌      | 167/261 [01:03<00:33,  2.77it/s]\u001b[A\n",
            "Epoch: 1 Accuracy: 0.98214 Loss: 0.00080 :  64%|███████████▌      | 167/261 [01:04<00:33,  2.77it/s]\u001b[A\n",
            "Epoch: 1 Accuracy: 0.98214 Loss: 0.00080 :  64%|███████████▌      | 168/261 [01:04<00:33,  2.78it/s]\u001b[A\n",
            "Epoch: 1 Accuracy: 0.98225 Loss: 0.02917 :  64%|███████████▌      | 168/261 [01:04<00:33,  2.78it/s]\u001b[A\n",
            "Epoch: 1 Accuracy: 0.98225 Loss: 0.02917 :  65%|███████████▋      | 169/261 [01:04<00:33,  2.76it/s]\u001b[A\n",
            "Epoch: 1 Accuracy: 0.97647 Loss: 0.81236 :  65%|███████████▋      | 169/261 [01:04<00:33,  2.76it/s]\u001b[A\n",
            "Epoch: 1 Accuracy: 0.97647 Loss: 0.81236 :  65%|███████████▋      | 170/261 [01:04<00:33,  2.72it/s]\u001b[A\n",
            "Epoch: 1 Accuracy: 0.97661 Loss: 0.00255 :  65%|███████████▋      | 170/261 [01:05<00:33,  2.72it/s]\u001b[A\n",
            "Epoch: 1 Accuracy: 0.97661 Loss: 0.00255 :  66%|███████████▊      | 171/261 [01:05<00:32,  2.80it/s]\u001b[A\n",
            "Epoch: 1 Accuracy: 0.97674 Loss: 0.00078 :  66%|███████████▊      | 171/261 [01:05<00:32,  2.80it/s]\u001b[A\n",
            "Epoch: 1 Accuracy: 0.97674 Loss: 0.00078 :  66%|███████████▊      | 172/261 [01:05<00:31,  2.79it/s]\u001b[A\n",
            "Epoch: 1 Accuracy: 0.97688 Loss: 0.01530 :  66%|███████████▊      | 172/261 [01:05<00:31,  2.79it/s]\u001b[A\n",
            "Epoch: 1 Accuracy: 0.97688 Loss: 0.01530 :  66%|███████████▉      | 173/261 [01:05<00:31,  2.78it/s]\u001b[A\n",
            "Epoch: 1 Accuracy: 0.97701 Loss: 0.00135 :  66%|███████████▉      | 173/261 [01:06<00:31,  2.78it/s]\u001b[A\n",
            "Epoch: 1 Accuracy: 0.97701 Loss: 0.00135 :  67%|████████████      | 174/261 [01:06<00:31,  2.74it/s]\u001b[A\n",
            "Epoch: 1 Accuracy: 0.97714 Loss: 0.02210 :  67%|████████████      | 174/261 [01:06<00:31,  2.74it/s]\u001b[A\n",
            "Epoch: 1 Accuracy: 0.97714 Loss: 0.02210 :  67%|████████████      | 175/261 [01:06<00:31,  2.77it/s]\u001b[A\n",
            "Epoch: 1 Accuracy: 0.97727 Loss: 0.01896 :  67%|████████████      | 175/261 [01:06<00:31,  2.77it/s]\u001b[A\n",
            "Epoch: 1 Accuracy: 0.97727 Loss: 0.01896 :  67%|████████████▏     | 176/261 [01:06<00:30,  2.81it/s]\u001b[A\n",
            "Epoch: 1 Accuracy: 0.97740 Loss: 0.00056 :  67%|████████████▏     | 176/261 [01:07<00:30,  2.81it/s]\u001b[A\n",
            "Epoch: 1 Accuracy: 0.97740 Loss: 0.00056 :  68%|████████████▏     | 177/261 [01:07<00:30,  2.79it/s]\u001b[A\n",
            "Epoch: 1 Accuracy: 0.97753 Loss: 0.00207 :  68%|████████████▏     | 177/261 [01:07<00:30,  2.79it/s]\u001b[A\n",
            "Epoch: 1 Accuracy: 0.97753 Loss: 0.00207 :  68%|████████████▎     | 178/261 [01:07<00:30,  2.73it/s]\u001b[A\n",
            "Epoch: 1 Accuracy: 0.97765 Loss: 0.00071 :  68%|████████████▎     | 178/261 [01:08<00:30,  2.73it/s]\u001b[A\n",
            "Epoch: 1 Accuracy: 0.97765 Loss: 0.00071 :  69%|████████████▎     | 179/261 [01:08<00:32,  2.50it/s]\u001b[A\n",
            "Epoch: 1 Accuracy: 0.97778 Loss: 0.03468 :  69%|████████████▎     | 179/261 [01:08<00:32,  2.50it/s]\u001b[A\n",
            "Epoch: 1 Accuracy: 0.97778 Loss: 0.03468 :  69%|████████████▍     | 180/261 [01:08<00:34,  2.34it/s]\u001b[A\n",
            "Epoch: 1 Accuracy: 0.97790 Loss: 0.00901 :  69%|████████████▍     | 180/261 [01:09<00:34,  2.34it/s]\u001b[A\n",
            "Epoch: 1 Accuracy: 0.97790 Loss: 0.00901 :  69%|████████████▍     | 181/261 [01:09<00:35,  2.25it/s]\u001b[A\n",
            "Epoch: 1 Accuracy: 0.97802 Loss: 0.00059 :  69%|████████████▍     | 181/261 [01:09<00:35,  2.25it/s]\u001b[A\n",
            "Epoch: 1 Accuracy: 0.97802 Loss: 0.00059 :  70%|████████████▌     | 182/261 [01:09<00:33,  2.33it/s]\u001b[A\n",
            "Epoch: 1 Accuracy: 0.97814 Loss: 0.00073 :  70%|████████████▌     | 182/261 [01:09<00:33,  2.33it/s]\u001b[A\n",
            "Epoch: 1 Accuracy: 0.97814 Loss: 0.00073 :  70%|████████████▌     | 183/261 [01:09<00:32,  2.42it/s]\u001b[A\n",
            "Epoch: 1 Accuracy: 0.97826 Loss: 0.00240 :  70%|████████████▌     | 183/261 [01:10<00:32,  2.42it/s]\u001b[A\n",
            "Epoch: 1 Accuracy: 0.97826 Loss: 0.00240 :  70%|████████████▋     | 184/261 [01:10<00:30,  2.53it/s]\u001b[A\n",
            "Epoch: 1 Accuracy: 0.97838 Loss: 0.00146 :  70%|████████████▋     | 184/261 [01:10<00:30,  2.53it/s]\u001b[A\n",
            "Epoch: 1 Accuracy: 0.97838 Loss: 0.00146 :  71%|████████████▊     | 185/261 [01:10<00:29,  2.62it/s]\u001b[A\n",
            "Epoch: 1 Accuracy: 0.97849 Loss: 0.01187 :  71%|████████████▊     | 185/261 [01:10<00:29,  2.62it/s]\u001b[A\n",
            "Epoch: 1 Accuracy: 0.97849 Loss: 0.01187 :  71%|████████████▊     | 186/261 [01:10<00:27,  2.68it/s]\u001b[A\n",
            "Epoch: 1 Accuracy: 0.97861 Loss: 0.00020 :  71%|████████████▊     | 186/261 [01:11<00:27,  2.68it/s]\u001b[A\n",
            "Epoch: 1 Accuracy: 0.97861 Loss: 0.00020 :  72%|████████████▉     | 187/261 [01:11<00:27,  2.68it/s]\u001b[A\n",
            "Epoch: 1 Accuracy: 0.97872 Loss: 0.00284 :  72%|████████████▉     | 187/261 [01:11<00:27,  2.68it/s]\u001b[A\n",
            "Epoch: 1 Accuracy: 0.97872 Loss: 0.00284 :  72%|████████████▉     | 188/261 [01:11<00:27,  2.65it/s]\u001b[A\n",
            "Epoch: 1 Accuracy: 0.97884 Loss: 0.04055 :  72%|████████████▉     | 188/261 [01:12<00:27,  2.65it/s]\u001b[A\n",
            "Epoch: 1 Accuracy: 0.97884 Loss: 0.04055 :  72%|█████████████     | 189/261 [01:12<00:27,  2.64it/s]\u001b[A\n",
            "Epoch: 1 Accuracy: 0.97895 Loss: 0.00377 :  72%|█████████████     | 189/261 [01:12<00:27,  2.64it/s]\u001b[A\n",
            "Epoch: 1 Accuracy: 0.97895 Loss: 0.00377 :  73%|█████████████     | 190/261 [01:12<00:29,  2.39it/s]\u001b[A\n",
            "Epoch: 1 Accuracy: 0.97906 Loss: 0.00235 :  73%|█████████████     | 190/261 [01:12<00:29,  2.39it/s]\u001b[A\n",
            "Epoch: 1 Accuracy: 0.97906 Loss: 0.00235 :  73%|█████████████▏    | 191/261 [01:12<00:28,  2.44it/s]\u001b[A\n",
            "Epoch: 1 Accuracy: 0.97917 Loss: 0.00051 :  73%|█████████████▏    | 191/261 [01:13<00:28,  2.44it/s]\u001b[A\n",
            "Epoch: 1 Accuracy: 0.97917 Loss: 0.00051 :  74%|█████████████▏    | 192/261 [01:13<00:27,  2.54it/s]\u001b[A\n",
            "Epoch: 1 Accuracy: 0.97927 Loss: 0.00663 :  74%|█████████████▏    | 192/261 [01:13<00:27,  2.54it/s]\u001b[A\n",
            "Epoch: 1 Accuracy: 0.97927 Loss: 0.00663 :  74%|█████████████▎    | 193/261 [01:13<00:25,  2.64it/s]\u001b[A\n",
            "Epoch: 1 Accuracy: 0.97938 Loss: 0.01538 :  74%|█████████████▎    | 193/261 [01:14<00:25,  2.64it/s]\u001b[A\n",
            "Epoch: 1 Accuracy: 0.97938 Loss: 0.01538 :  74%|█████████████▍    | 194/261 [01:14<00:28,  2.36it/s]\u001b[A\n",
            "Epoch: 1 Accuracy: 0.97949 Loss: 0.00032 :  74%|█████████████▍    | 194/261 [01:14<00:28,  2.36it/s]\u001b[A\n",
            "Epoch: 1 Accuracy: 0.97949 Loss: 0.00032 :  75%|█████████████▍    | 195/261 [01:14<00:27,  2.41it/s]\u001b[A\n",
            "Epoch: 1 Accuracy: 0.97959 Loss: 0.00059 :  75%|█████████████▍    | 195/261 [01:15<00:27,  2.41it/s]\u001b[A\n",
            "Epoch: 1 Accuracy: 0.97959 Loss: 0.00059 :  75%|█████████████▌    | 196/261 [01:15<00:27,  2.33it/s]\u001b[A\n",
            "Epoch: 1 Accuracy: 0.97970 Loss: 0.00109 :  75%|█████████████▌    | 196/261 [01:15<00:27,  2.33it/s]\u001b[A\n",
            "Epoch: 1 Accuracy: 0.97970 Loss: 0.00109 :  75%|█████████████▌    | 197/261 [01:15<00:26,  2.40it/s]\u001b[A\n",
            "Epoch: 1 Accuracy: 0.97980 Loss: 0.00217 :  75%|█████████████▌    | 197/261 [01:15<00:26,  2.40it/s]\u001b[A\n",
            "Epoch: 1 Accuracy: 0.97980 Loss: 0.00217 :  76%|█████████████▋    | 198/261 [01:15<00:25,  2.50it/s]\u001b[A\n",
            "Epoch: 1 Accuracy: 0.97990 Loss: 0.00050 :  76%|█████████████▋    | 198/261 [01:16<00:25,  2.50it/s]\u001b[A\n",
            "Epoch: 1 Accuracy: 0.97990 Loss: 0.00050 :  76%|█████████████▋    | 199/261 [01:16<00:23,  2.61it/s]\u001b[A\n",
            "Epoch: 1 Accuracy: 0.98000 Loss: 0.00057 :  76%|█████████████▋    | 199/261 [01:16<00:23,  2.61it/s]\u001b[A\n",
            "Epoch: 1 Accuracy: 0.98000 Loss: 0.00057 :  77%|█████████████▊    | 200/261 [01:16<00:23,  2.62it/s]\u001b[A\n",
            "Epoch: 1 Accuracy: 0.98010 Loss: 0.00109 :  77%|█████████████▊    | 200/261 [01:16<00:23,  2.62it/s]\u001b[A\n",
            "Epoch: 1 Accuracy: 0.98010 Loss: 0.00109 :  77%|█████████████▊    | 201/261 [01:16<00:23,  2.51it/s]\u001b[A\n",
            "Epoch: 1 Accuracy: 0.98020 Loss: 0.17552 :  77%|█████████████▊    | 201/261 [01:17<00:23,  2.51it/s]\u001b[A\n",
            "Epoch: 1 Accuracy: 0.98020 Loss: 0.17552 :  77%|█████████████▉    | 202/261 [01:17<00:25,  2.34it/s]\u001b[A\n",
            "Epoch: 1 Accuracy: 0.98030 Loss: 0.00108 :  77%|█████████████▉    | 202/261 [01:17<00:25,  2.34it/s]\u001b[A\n",
            "Epoch: 1 Accuracy: 0.98030 Loss: 0.00108 :  78%|██████████████    | 203/261 [01:17<00:23,  2.44it/s]\u001b[A\n",
            "Epoch: 1 Accuracy: 0.98039 Loss: 0.00018 :  78%|██████████████    | 203/261 [01:18<00:23,  2.44it/s]\u001b[A\n",
            "Epoch: 1 Accuracy: 0.98039 Loss: 0.00018 :  78%|██████████████    | 204/261 [01:18<00:23,  2.38it/s]\u001b[A\n",
            "Epoch: 1 Accuracy: 0.98049 Loss: 0.00207 :  78%|██████████████    | 204/261 [01:18<00:23,  2.38it/s]\u001b[A\n",
            "Epoch: 1 Accuracy: 0.98049 Loss: 0.00207 :  79%|██████████████▏   | 205/261 [01:18<00:21,  2.55it/s]\u001b[A\n",
            "Epoch: 1 Accuracy: 0.98058 Loss: 0.00047 :  79%|██████████████▏   | 205/261 [01:19<00:21,  2.55it/s]\u001b[A\n",
            "Epoch: 1 Accuracy: 0.98058 Loss: 0.00047 :  79%|██████████████▏   | 206/261 [01:19<00:21,  2.53it/s]\u001b[A\n",
            "Epoch: 1 Accuracy: 0.98068 Loss: 0.00048 :  79%|██████████████▏   | 206/261 [01:19<00:21,  2.53it/s]\u001b[A\n",
            "Epoch: 1 Accuracy: 0.98068 Loss: 0.00048 :  79%|██████████████▎   | 207/261 [01:19<00:21,  2.53it/s]\u001b[A\n",
            "Epoch: 1 Accuracy: 0.98077 Loss: 0.00093 :  79%|██████████████▎   | 207/261 [01:19<00:21,  2.53it/s]\u001b[A\n",
            "Epoch: 1 Accuracy: 0.98077 Loss: 0.00093 :  80%|██████████████▎   | 208/261 [01:19<00:20,  2.53it/s]\u001b[A\n",
            "Epoch: 1 Accuracy: 0.98086 Loss: 0.00424 :  80%|██████████████▎   | 208/261 [01:20<00:20,  2.53it/s]\u001b[A\n",
            "Epoch: 1 Accuracy: 0.98086 Loss: 0.00424 :  80%|██████████████▍   | 209/261 [01:20<00:20,  2.59it/s]\u001b[A\n",
            "Epoch: 1 Accuracy: 0.98095 Loss: 0.00064 :  80%|██████████████▍   | 209/261 [01:20<00:20,  2.59it/s]\u001b[A\n",
            "Epoch: 1 Accuracy: 0.98095 Loss: 0.00064 :  80%|██████████████▍   | 210/261 [01:20<00:20,  2.49it/s]\u001b[A\n",
            "Epoch: 1 Accuracy: 0.98104 Loss: 0.00758 :  80%|██████████████▍   | 210/261 [01:21<00:20,  2.49it/s]\u001b[A\n",
            "Epoch: 1 Accuracy: 0.98104 Loss: 0.00758 :  81%|██████████████▌   | 211/261 [01:21<00:20,  2.47it/s]\u001b[A\n",
            "Epoch: 1 Accuracy: 0.98113 Loss: 0.00039 :  81%|██████████████▌   | 211/261 [01:21<00:20,  2.47it/s]\u001b[A\n",
            "Epoch: 1 Accuracy: 0.98113 Loss: 0.00039 :  81%|██████████████▌   | 212/261 [01:21<00:19,  2.51it/s]\u001b[A\n",
            "Epoch: 1 Accuracy: 0.98122 Loss: 0.08821 :  81%|██████████████▌   | 212/261 [01:21<00:19,  2.51it/s]\u001b[A\n",
            "Epoch: 1 Accuracy: 0.98122 Loss: 0.08821 :  82%|██████████████▋   | 213/261 [01:21<00:21,  2.28it/s]\u001b[A\n",
            "Epoch: 1 Accuracy: 0.98131 Loss: 0.00030 :  82%|██████████████▋   | 213/261 [01:22<00:21,  2.28it/s]\u001b[A\n",
            "Epoch: 1 Accuracy: 0.98131 Loss: 0.00030 :  82%|██████████████▊   | 214/261 [01:22<00:19,  2.41it/s]\u001b[A\n",
            "Epoch: 1 Accuracy: 0.98140 Loss: 0.00138 :  82%|██████████████▊   | 214/261 [01:22<00:19,  2.41it/s]\u001b[A\n",
            "Epoch: 1 Accuracy: 0.98140 Loss: 0.00138 :  82%|██████████████▊   | 215/261 [01:22<00:18,  2.51it/s]\u001b[A\n",
            "Epoch: 1 Accuracy: 0.98148 Loss: 0.00045 :  82%|██████████████▊   | 215/261 [01:23<00:18,  2.51it/s]\u001b[A\n",
            "Epoch: 1 Accuracy: 0.98148 Loss: 0.00045 :  83%|██████████████▉   | 216/261 [01:23<00:17,  2.56it/s]\u001b[A\n",
            "Epoch: 1 Accuracy: 0.98157 Loss: 0.00817 :  83%|██████████████▉   | 216/261 [01:23<00:17,  2.56it/s]\u001b[A\n",
            "Epoch: 1 Accuracy: 0.98157 Loss: 0.00817 :  83%|██████████████▉   | 217/261 [01:23<00:16,  2.60it/s]\u001b[A\n",
            "Epoch: 1 Accuracy: 0.98165 Loss: 0.00048 :  83%|██████████████▉   | 217/261 [01:23<00:16,  2.60it/s]\u001b[A\n",
            "Epoch: 1 Accuracy: 0.98165 Loss: 0.00048 :  84%|███████████████   | 218/261 [01:23<00:16,  2.54it/s]\u001b[A\n",
            "Epoch: 1 Accuracy: 0.98174 Loss: 0.00042 :  84%|███████████████   | 218/261 [01:24<00:16,  2.54it/s]\u001b[A\n",
            "Epoch: 1 Accuracy: 0.98174 Loss: 0.00042 :  84%|███████████████   | 219/261 [01:24<00:16,  2.51it/s]\u001b[A\n",
            "Epoch: 1 Accuracy: 0.98182 Loss: 0.00603 :  84%|███████████████   | 219/261 [01:24<00:16,  2.51it/s]\u001b[A\n",
            "Epoch: 1 Accuracy: 0.98182 Loss: 0.00603 :  84%|███████████████▏  | 220/261 [01:24<00:15,  2.65it/s]\u001b[A\n",
            "Epoch: 1 Accuracy: 0.98190 Loss: 0.00135 :  84%|███████████████▏  | 220/261 [01:24<00:15,  2.65it/s]\u001b[A\n",
            "Epoch: 1 Accuracy: 0.98190 Loss: 0.00135 :  85%|███████████████▏  | 221/261 [01:24<00:14,  2.69it/s]\u001b[A\n",
            "Epoch: 1 Accuracy: 0.98198 Loss: 0.00135 :  85%|███████████████▏  | 221/261 [01:25<00:14,  2.69it/s]\u001b[A\n",
            "Epoch: 1 Accuracy: 0.98198 Loss: 0.00135 :  85%|███████████████▎  | 222/261 [01:25<00:14,  2.63it/s]\u001b[A\n",
            "Epoch: 1 Accuracy: 0.98206 Loss: 0.03345 :  85%|███████████████▎  | 222/261 [01:25<00:14,  2.63it/s]\u001b[A\n",
            "Epoch: 1 Accuracy: 0.98206 Loss: 0.03345 :  85%|███████████████▍  | 223/261 [01:25<00:14,  2.68it/s]\u001b[A\n",
            "Epoch: 1 Accuracy: 0.98214 Loss: 0.00141 :  85%|███████████████▍  | 223/261 [01:26<00:14,  2.68it/s]\u001b[A\n",
            "Epoch: 1 Accuracy: 0.98214 Loss: 0.00141 :  86%|███████████████▍  | 224/261 [01:26<00:13,  2.68it/s]\u001b[A\n",
            "Epoch: 1 Accuracy: 0.98222 Loss: 0.10059 :  86%|███████████████▍  | 224/261 [01:26<00:13,  2.68it/s]\u001b[A\n",
            "Epoch: 1 Accuracy: 0.98222 Loss: 0.10059 :  86%|███████████████▌  | 225/261 [01:26<00:13,  2.75it/s]\u001b[A\n",
            "Epoch: 1 Accuracy: 0.98230 Loss: 0.00093 :  86%|███████████████▌  | 225/261 [01:26<00:13,  2.75it/s]\u001b[A\n",
            "Epoch: 1 Accuracy: 0.98230 Loss: 0.00093 :  87%|███████████████▌  | 226/261 [01:26<00:12,  2.73it/s]\u001b[A\n",
            "Epoch: 1 Accuracy: 0.98238 Loss: 0.01125 :  87%|███████████████▌  | 226/261 [01:27<00:12,  2.73it/s]\u001b[A\n",
            "Epoch: 1 Accuracy: 0.98238 Loss: 0.01125 :  87%|███████████████▋  | 227/261 [01:27<00:12,  2.78it/s]\u001b[A\n",
            "Epoch: 1 Accuracy: 0.98246 Loss: 0.04053 :  87%|███████████████▋  | 227/261 [01:27<00:12,  2.78it/s]\u001b[A\n",
            "Epoch: 1 Accuracy: 0.98246 Loss: 0.04053 :  87%|███████████████▋  | 228/261 [01:27<00:12,  2.60it/s]\u001b[A\n",
            "Epoch: 1 Accuracy: 0.98253 Loss: 0.00072 :  87%|███████████████▋  | 228/261 [01:28<00:12,  2.60it/s]\u001b[A\n",
            "Epoch: 1 Accuracy: 0.98253 Loss: 0.00072 :  88%|███████████████▊  | 229/261 [01:28<00:13,  2.34it/s]\u001b[A\n",
            "Epoch: 1 Accuracy: 0.98261 Loss: 0.00039 :  88%|███████████████▊  | 229/261 [01:28<00:13,  2.34it/s]\u001b[A\n",
            "Epoch: 1 Accuracy: 0.98261 Loss: 0.00039 :  88%|███████████████▊  | 230/261 [01:28<00:13,  2.37it/s]\u001b[A\n",
            "Epoch: 1 Accuracy: 0.98268 Loss: 0.01212 :  88%|███████████████▊  | 230/261 [01:28<00:13,  2.37it/s]\u001b[A\n",
            "Epoch: 1 Accuracy: 0.98268 Loss: 0.01212 :  89%|███████████████▉  | 231/261 [01:28<00:12,  2.47it/s]\u001b[A\n",
            "Epoch: 1 Accuracy: 0.98276 Loss: 0.00252 :  89%|███████████████▉  | 231/261 [01:29<00:12,  2.47it/s]\u001b[A\n",
            "Epoch: 1 Accuracy: 0.98276 Loss: 0.00252 :  89%|████████████████  | 232/261 [01:29<00:11,  2.55it/s]\u001b[A\n",
            "Epoch: 1 Accuracy: 0.98283 Loss: 0.00189 :  89%|████████████████  | 232/261 [01:29<00:11,  2.55it/s]\u001b[A\n",
            "Epoch: 1 Accuracy: 0.98283 Loss: 0.00189 :  89%|████████████████  | 233/261 [01:29<00:11,  2.45it/s]\u001b[A\n",
            "Epoch: 1 Accuracy: 0.98291 Loss: 0.00368 :  89%|████████████████  | 233/261 [01:29<00:11,  2.45it/s]\u001b[A\n",
            "Epoch: 1 Accuracy: 0.98291 Loss: 0.00368 :  90%|████████████████▏ | 234/261 [01:29<00:10,  2.58it/s]\u001b[A\n",
            "Epoch: 1 Accuracy: 0.98298 Loss: 0.00037 :  90%|████████████████▏ | 234/261 [01:30<00:10,  2.58it/s]\u001b[A\n",
            "Epoch: 1 Accuracy: 0.98298 Loss: 0.00037 :  90%|████████████████▏ | 235/261 [01:30<00:10,  2.54it/s]\u001b[A\n",
            "Epoch: 1 Accuracy: 0.98305 Loss: 0.00055 :  90%|████████████████▏ | 235/261 [01:30<00:10,  2.54it/s]\u001b[A\n",
            "Epoch: 1 Accuracy: 0.98305 Loss: 0.00055 :  90%|████████████████▎ | 236/261 [01:30<00:09,  2.51it/s]\u001b[A\n",
            "Epoch: 1 Accuracy: 0.98312 Loss: 0.00063 :  90%|████████████████▎ | 236/261 [01:31<00:09,  2.51it/s]\u001b[A\n",
            "Epoch: 1 Accuracy: 0.98312 Loss: 0.00063 :  91%|████████████████▎ | 237/261 [01:31<00:09,  2.47it/s]\u001b[A\n",
            "Epoch: 1 Accuracy: 0.98319 Loss: 0.00147 :  91%|████████████████▎ | 237/261 [01:31<00:09,  2.47it/s]\u001b[A\n",
            "Epoch: 1 Accuracy: 0.98319 Loss: 0.00147 :  91%|████████████████▍ | 238/261 [01:31<00:08,  2.57it/s]\u001b[A\n",
            "Epoch: 1 Accuracy: 0.98326 Loss: 0.00186 :  91%|████████████████▍ | 238/261 [01:31<00:08,  2.57it/s]\u001b[A\n",
            "Epoch: 1 Accuracy: 0.98326 Loss: 0.00186 :  92%|████████████████▍ | 239/261 [01:31<00:08,  2.63it/s]\u001b[A\n",
            "Epoch: 1 Accuracy: 0.98333 Loss: 0.03940 :  92%|████████████████▍ | 239/261 [01:32<00:08,  2.63it/s]\u001b[A\n",
            "Epoch: 1 Accuracy: 0.98333 Loss: 0.03940 :  92%|████████████████▌ | 240/261 [01:32<00:08,  2.56it/s]\u001b[A\n",
            "Epoch: 1 Accuracy: 0.98340 Loss: 0.00068 :  92%|████████████████▌ | 240/261 [01:32<00:08,  2.56it/s]\u001b[A\n",
            "Epoch: 1 Accuracy: 0.98340 Loss: 0.00068 :  92%|████████████████▌ | 241/261 [01:32<00:07,  2.62it/s]\u001b[A\n",
            "Epoch: 1 Accuracy: 0.98347 Loss: 0.01515 :  92%|████████████████▌ | 241/261 [01:33<00:07,  2.62it/s]\u001b[A\n",
            "Epoch: 1 Accuracy: 0.98347 Loss: 0.01515 :  93%|████████████████▋ | 242/261 [01:33<00:07,  2.68it/s]\u001b[A\n",
            "Epoch: 1 Accuracy: 0.98354 Loss: 0.00334 :  93%|████████████████▋ | 242/261 [01:33<00:07,  2.68it/s]\u001b[A\n",
            "Epoch: 1 Accuracy: 0.98354 Loss: 0.00334 :  93%|████████████████▊ | 243/261 [01:33<00:06,  2.63it/s]\u001b[A\n",
            "Epoch: 1 Accuracy: 0.98361 Loss: 0.02512 :  93%|████████████████▊ | 243/261 [01:33<00:06,  2.63it/s]\u001b[A\n",
            "Epoch: 1 Accuracy: 0.98361 Loss: 0.02512 :  93%|████████████████▊ | 244/261 [01:33<00:06,  2.57it/s]\u001b[A\n",
            "Epoch: 1 Accuracy: 0.98367 Loss: 0.04181 :  93%|████████████████▊ | 244/261 [01:34<00:06,  2.57it/s]\u001b[A\n",
            "Epoch: 1 Accuracy: 0.98367 Loss: 0.04181 :  94%|████████████████▉ | 245/261 [01:34<00:06,  2.66it/s]\u001b[A\n",
            "Epoch: 1 Accuracy: 0.98374 Loss: 0.00723 :  94%|████████████████▉ | 245/261 [01:34<00:06,  2.66it/s]\u001b[A\n",
            "Epoch: 1 Accuracy: 0.98374 Loss: 0.00723 :  94%|████████████████▉ | 246/261 [01:34<00:05,  2.62it/s]\u001b[A\n",
            "Epoch: 1 Accuracy: 0.98381 Loss: 0.04645 :  94%|████████████████▉ | 246/261 [01:35<00:05,  2.62it/s]\u001b[A\n",
            "Epoch: 1 Accuracy: 0.98381 Loss: 0.04645 :  95%|█████████████████ | 247/261 [01:35<00:05,  2.59it/s]\u001b[A\n",
            "Epoch: 1 Accuracy: 0.98387 Loss: 0.00242 :  95%|█████████████████ | 247/261 [01:35<00:05,  2.59it/s]\u001b[A\n",
            "Epoch: 1 Accuracy: 0.98387 Loss: 0.00242 :  95%|█████████████████ | 248/261 [01:35<00:04,  2.64it/s]\u001b[A\n",
            "Epoch: 1 Accuracy: 0.98394 Loss: 0.00035 :  95%|█████████████████ | 248/261 [01:35<00:04,  2.64it/s]\u001b[A\n",
            "Epoch: 1 Accuracy: 0.98394 Loss: 0.00035 :  95%|█████████████████▏| 249/261 [01:35<00:04,  2.53it/s]\u001b[A\n",
            "Epoch: 1 Accuracy: 0.98400 Loss: 0.00446 :  95%|█████████████████▏| 249/261 [01:36<00:04,  2.53it/s]\u001b[A\n",
            "Epoch: 1 Accuracy: 0.98400 Loss: 0.00446 :  96%|█████████████████▏| 250/261 [01:36<00:04,  2.56it/s]\u001b[A\n",
            "Epoch: 1 Accuracy: 0.98406 Loss: 0.00054 :  96%|█████████████████▏| 250/261 [01:36<00:04,  2.56it/s]\u001b[A\n",
            "Epoch: 1 Accuracy: 0.98406 Loss: 0.00054 :  96%|█████████████████▎| 251/261 [01:36<00:03,  2.62it/s]\u001b[A\n",
            "Epoch: 1 Accuracy: 0.98413 Loss: 0.00121 :  96%|█████████████████▎| 251/261 [01:36<00:03,  2.62it/s]\u001b[A\n",
            "Epoch: 1 Accuracy: 0.98413 Loss: 0.00121 :  97%|█████████████████▍| 252/261 [01:36<00:03,  2.70it/s]\u001b[A\n",
            "Epoch: 1 Accuracy: 0.98419 Loss: 0.00063 :  97%|█████████████████▍| 252/261 [01:37<00:03,  2.70it/s]\u001b[A\n",
            "Epoch: 1 Accuracy: 0.98419 Loss: 0.00063 :  97%|█████████████████▍| 253/261 [01:37<00:02,  2.67it/s]\u001b[A\n",
            "Epoch: 1 Accuracy: 0.98425 Loss: 0.00100 :  97%|█████████████████▍| 253/261 [01:37<00:02,  2.67it/s]\u001b[A\n",
            "Epoch: 1 Accuracy: 0.98425 Loss: 0.00100 :  97%|█████████████████▌| 254/261 [01:37<00:02,  2.76it/s]\u001b[A\n",
            "Epoch: 1 Accuracy: 0.98431 Loss: 0.00739 :  97%|█████████████████▌| 254/261 [01:37<00:02,  2.76it/s]\u001b[A\n",
            "Epoch: 1 Accuracy: 0.98431 Loss: 0.00739 :  98%|█████████████████▌| 255/261 [01:37<00:02,  2.83it/s]\u001b[A\n",
            "Epoch: 1 Accuracy: 0.98438 Loss: 0.00059 :  98%|█████████████████▌| 255/261 [01:38<00:02,  2.83it/s]\u001b[A\n",
            "Epoch: 1 Accuracy: 0.98438 Loss: 0.00059 :  98%|█████████████████▋| 256/261 [01:38<00:01,  2.78it/s]\u001b[A\n",
            "Epoch: 1 Accuracy: 0.98444 Loss: 0.01396 :  98%|█████████████████▋| 256/261 [01:38<00:01,  2.78it/s]\u001b[A\n",
            "Epoch: 1 Accuracy: 0.98444 Loss: 0.01396 :  98%|█████████████████▋| 257/261 [01:38<00:01,  2.82it/s]\u001b[A\n",
            "Epoch: 1 Accuracy: 0.98450 Loss: 0.00205 :  98%|█████████████████▋| 257/261 [01:39<00:01,  2.82it/s]\u001b[A\n",
            "Epoch: 1 Accuracy: 0.98450 Loss: 0.00205 :  99%|█████████████████▊| 258/261 [01:39<00:01,  2.75it/s]\u001b[A\n",
            "Epoch: 1 Accuracy: 0.98456 Loss: 0.00135 :  99%|█████████████████▊| 258/261 [01:39<00:01,  2.75it/s]\u001b[A\n",
            "Epoch: 1 Accuracy: 0.98456 Loss: 0.00135 :  99%|█████████████████▊| 259/261 [01:39<00:00,  2.69it/s]\u001b[A\n",
            "Epoch: 1 Accuracy: 0.98462 Loss: 0.00112 :  99%|█████████████████▊| 259/261 [01:39<00:00,  2.69it/s]\u001b[A\n",
            "Epoch: 1 Accuracy: 0.98462 Loss: 0.00112 : 100%|█████████████████▉| 260/261 [01:39<00:00,  2.73it/s]\u001b[A\n",
            "Epoch: 1 Accuracy: 0.98467 Loss: 0.00183 : 100%|█████████████████▉| 260/261 [01:40<00:00,  2.73it/s]\u001b[A\n",
            "Epoch: 1 Accuracy: 0.98467 Loss: 0.00183 : 100%|██████████████████| 261/261 [01:40<00:00,  2.61it/s]\n"
          ],
          "name": "stderr"
        },
        {
          "output_type": "stream",
          "text": [
            "Validation -- Accuracy: 0.93805 Loss: 0.00078 \n",
            "\n"
          ],
          "name": "stdout"
        }
      ]
    },
    {
      "cell_type": "code",
      "metadata": {
        "id": "VumKHi2Snf4F"
      },
      "source": [
        "torch.save(model,\"checkpoint.ph\")"
      ],
      "execution_count": null,
      "outputs": []
    },
    {
      "cell_type": "code",
      "metadata": {
        "id": "iYI16QYGyqLF",
        "colab": {
          "base_uri": "https://localhost:8080/"
        },
        "outputId": "1b3156ec-adae-4863-8ae9-5929d1b85a34"
      },
      "source": [
        "for c in y:\n",
        "  print(c)"
      ],
      "execution_count": 56,
      "outputs": [
        {
          "output_type": "stream",
          "text": [
            "0\n"
          ],
          "name": "stdout"
        }
      ]
    },
    {
      "cell_type": "markdown",
      "metadata": {
        "id": "Hv2fODvHJlIM"
      },
      "source": [
        "## Evaluation"
      ]
    },
    {
      "cell_type": "code",
      "metadata": {
        "id": "5ennB90UVVmb"
      },
      "source": [
        "model = torch.load('checkpoint_efficientnet-b7_33_0.94690.ph')"
      ],
      "execution_count": 30,
      "outputs": []
    },
    {
      "cell_type": "code",
      "metadata": {
        "id": "VLd2H4FrJnXo"
      },
      "source": [
        "from sklearn.metrics import confusion_matrix\n",
        "import numpy as np"
      ],
      "execution_count": 31,
      "outputs": []
    },
    {
      "cell_type": "code",
      "metadata": {
        "id": "v6nVWUqYJoDh"
      },
      "source": [
        "predicted = []\n",
        "true_values = []\n",
        "for point in range(len(X_test)//batch_size):\n",
        "    with torch.no_grad():\n",
        "\n",
        "        X = X_test.iloc[point*batch_size:(point+1)*batch_size]\n",
        "        y = y_test.iloc[point*batch_size:(point+1)*batch_size]\n",
        "\n",
        "        true_values.append(y.values)\n",
        "        # Load images\n",
        "        try:\n",
        "            images = [Image.open(File) for File in X]\n",
        "        except:\n",
        "            continue\n",
        "        # Load y_true\n",
        "        y_true = torch.LongTensor([c for c in y]).to(device)\n",
        "        \n",
        "        # Convert images to tensor\n",
        "        x_batch = torch.FloatTensor().to(device)\n",
        "        for image in images:\n",
        "            P = composed(image).unsqueeze(0).to(device)\n",
        "            x_batch = torch.cat((x_batch,P))\n",
        "\n",
        "        \n",
        "        outputs = model(x_batch)\n",
        "        loss = criterion(outputs, y_true)\n",
        "        \n",
        "        _, preds = torch.max(outputs, 1)\n",
        "        predicted.append(preds)"
      ],
      "execution_count": 32,
      "outputs": []
    },
    {
      "cell_type": "code",
      "metadata": {
        "id": "NwUWGj_IKoup"
      },
      "source": [
        "true_values = np.array(true_values).reshape(-1)\n",
        "dummy = torch.FloatTensor().to(device)\n",
        "for tensor in predicted:\n",
        "    dummy = torch.cat((dummy,tensor))\n",
        "predicted = dummy.view(-1).cpu().numpy()"
      ],
      "execution_count": 33,
      "outputs": []
    },
    {
      "cell_type": "code",
      "metadata": {
        "colab": {
          "base_uri": "https://localhost:8080/"
        },
        "id": "FjxNUd7jk_-j",
        "outputId": "dc4a20a0-837d-41e9-bfc4-9232c62403d7"
      },
      "source": [
        "confusion_matrix(true_values, predicted)"
      ],
      "execution_count": 34,
      "outputs": [
        {
          "output_type": "execute_result",
          "data": {
            "text/plain": [
              "array([[46,  2],\n",
              "       [ 7, 58]])"
            ]
          },
          "metadata": {
            "tags": []
          },
          "execution_count": 34
        }
      ]
    },
    {
      "cell_type": "code",
      "metadata": {
        "id": "ukHy0FRQBGil"
      },
      "source": [
        ""
      ],
      "execution_count": null,
      "outputs": []
    }
  ]
}