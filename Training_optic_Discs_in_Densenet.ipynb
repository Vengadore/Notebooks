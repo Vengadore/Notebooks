{
  "nbformat": 4,
  "nbformat_minor": 0,
  "metadata": {
    "accelerator": "GPU",
    "colab": {
      "name": "Training_optic_Discs_in_Densenet.ipynb",
      "provenance": [],
      "toc_visible": true,
      "include_colab_link": true
    },
    "kernelspec": {
      "display_name": "Python 3",
      "language": "python",
      "name": "python3"
    },
    "language_info": {
      "codemirror_mode": {
        "name": "ipython",
        "version": 3
      },
      "file_extension": ".py",
      "mimetype": "text/x-python",
      "name": "python",
      "nbconvert_exporter": "python",
      "pygments_lexer": "ipython3",
      "version": "3.6.10"
    }
  },
  "cells": [
    {
      "cell_type": "markdown",
      "metadata": {
        "id": "view-in-github",
        "colab_type": "text"
      },
      "source": [
        "<a href=\"https://colab.research.google.com/github/Vengadore/Notebooks/blob/master/Training_optic_Discs_in_Densenet.ipynb\" target=\"_parent\"><img src=\"https://colab.research.google.com/assets/colab-badge.svg\" alt=\"Open In Colab\"/></a>"
      ]
    },
    {
      "cell_type": "markdown",
      "metadata": {
        "id": "nVm5Ats_YVEZ"
      },
      "source": [
        "# Diabetic Retinopathy Detection\n",
        "\n",
        "Kaggle has a large competition of Diabetic Retinopathy detection which can be found here:\n",
        "https://www.kaggle.com/c/diabetic-retinopathy-detection/\n",
        "\n",
        "Their dataset consists in 35126 images labeled from 0 to 4 according to the degree of Retinopathy.\n",
        "An analysis of the data is provided in this notebook."
      ]
    },
    {
      "cell_type": "code",
      "metadata": {
        "colab": {
          "base_uri": "https://localhost:8080/"
        },
        "id": "QABUN5czaGrr",
        "outputId": "f644fee8-eb68-4571-c4a3-5dc5e62e766e"
      },
      "source": [
        "!rm -rf sample_data\n",
        "!nvidia-smi"
      ],
      "execution_count": 1,
      "outputs": [
        {
          "output_type": "stream",
          "text": [
            "Mon Feb 15 19:14:37 2021       \n",
            "+-----------------------------------------------------------------------------+\n",
            "| NVIDIA-SMI 460.39       Driver Version: 460.32.03    CUDA Version: 11.2     |\n",
            "|-------------------------------+----------------------+----------------------+\n",
            "| GPU  Name        Persistence-M| Bus-Id        Disp.A | Volatile Uncorr. ECC |\n",
            "| Fan  Temp  Perf  Pwr:Usage/Cap|         Memory-Usage | GPU-Util  Compute M. |\n",
            "|                               |                      |               MIG M. |\n",
            "|===============================+======================+======================|\n",
            "|   0  Tesla T4            Off  | 00000000:00:04.0 Off |                    0 |\n",
            "| N/A   64C    P8    10W /  70W |      0MiB / 15109MiB |      0%      Default |\n",
            "|                               |                      |                  N/A |\n",
            "+-------------------------------+----------------------+----------------------+\n",
            "                                                                               \n",
            "+-----------------------------------------------------------------------------+\n",
            "| Processes:                                                                  |\n",
            "|  GPU   GI   CI        PID   Type   Process name                  GPU Memory |\n",
            "|        ID   ID                                                   Usage      |\n",
            "|=============================================================================|\n",
            "|  No running processes found                                                 |\n",
            "+-----------------------------------------------------------------------------+\n"
          ],
          "name": "stdout"
        }
      ]
    },
    {
      "cell_type": "markdown",
      "metadata": {
        "id": "MrtmQaiBbcy5"
      },
      "source": [
        "### Install dependencies"
      ]
    },
    {
      "cell_type": "code",
      "metadata": {
        "id": "gKfg7kcTbb4h"
      },
      "source": [
        "from IPython.display import clear_output\n",
        "\n",
        "!pip install torch==1.6.0+cu101 torchvision==0.7.0+cu101 -f https://download.pytorch.org/whl/torch_stable.html\n",
        "!pip install efficientnet_pytorch\n",
        "clear_output(wait=False)"
      ],
      "execution_count": 2,
      "outputs": []
    },
    {
      "cell_type": "markdown",
      "metadata": {
        "id": "AO_cEyuIeDjq"
      },
      "source": [
        "## Load data from local drive\n"
      ]
    },
    {
      "cell_type": "code",
      "metadata": {
        "colab": {
          "base_uri": "https://localhost:8080/"
        },
        "id": "BWk0Ox2ueHNB",
        "outputId": "a70eb273-bee7-43fd-84ff-752c10dc96fc"
      },
      "source": [
        "!wget -O File.zip \"https://correoipn-my.sharepoint.com/:u:/g/personal/ccarrillog1400_alumno_ipn_mx/ETdcB8GscyBAkhUFvNMzpoUBLLgg7ej9Q3t4rK_bR8ngSA?download=1\"\n",
        "!unzip File.zip\n",
        "!rm File.zip\n",
        "clear_output(wait=False)\n",
        "print(\"Data Downloaded\")"
      ],
      "execution_count": 3,
      "outputs": [
        {
          "output_type": "stream",
          "text": [
            "Data Downloaded\n"
          ],
          "name": "stdout"
        }
      ]
    },
    {
      "cell_type": "code",
      "metadata": {
        "id": "PUCY7oQLorC9"
      },
      "source": [
        "!rm checkpoint*"
      ],
      "execution_count": 1,
      "outputs": []
    },
    {
      "cell_type": "code",
      "metadata": {
        "colab": {
          "base_uri": "https://localhost:8080/",
          "height": 206
        },
        "id": "dNqkjvcUetED",
        "outputId": "b900007d-da9f-4799-c04b-2795d620036c"
      },
      "source": [
        "import pandas as pd\n",
        "import os\n",
        "\n",
        "Bad =  pd.DataFrame({\"imageFilename\":[os.path.join(\"./OpticDiscs/Neovessels\",File) for File in os.listdir(\"./OpticDiscs/Neovessels\") if \".jpeg\" in File]})\n",
        "Good = pd.DataFrame({\"imageFilename\":[os.path.join(\"./OpticDiscs/Good images\",File) for File in os.listdir(\"./OpticDiscs/Good images\") if \".jpeg\" in File]}).sample(len(Bad),random_state = 42)\n",
        "\n",
        "data = pd.concat((Good,Bad),axis = 0)\n",
        "data.head()\n",
        "data['class'] = data['imageFilename'].apply(lambda x : 1 if \"Good\" in x else 0)\n",
        "data = data.reset_index()\n",
        "data = data[['imageFilename','class']]\n",
        "data.head()"
      ],
      "execution_count": 2,
      "outputs": [
        {
          "output_type": "execute_result",
          "data": {
            "text/html": [
              "<div>\n",
              "<style scoped>\n",
              "    .dataframe tbody tr th:only-of-type {\n",
              "        vertical-align: middle;\n",
              "    }\n",
              "\n",
              "    .dataframe tbody tr th {\n",
              "        vertical-align: top;\n",
              "    }\n",
              "\n",
              "    .dataframe thead th {\n",
              "        text-align: right;\n",
              "    }\n",
              "</style>\n",
              "<table border=\"1\" class=\"dataframe\">\n",
              "  <thead>\n",
              "    <tr style=\"text-align: right;\">\n",
              "      <th></th>\n",
              "      <th>imageFilename</th>\n",
              "      <th>class</th>\n",
              "    </tr>\n",
              "  </thead>\n",
              "  <tbody>\n",
              "    <tr>\n",
              "      <th>0</th>\n",
              "      <td>./OpticDiscs/Good images/29421_left.jpeg</td>\n",
              "      <td>1</td>\n",
              "    </tr>\n",
              "    <tr>\n",
              "      <th>1</th>\n",
              "      <td>./OpticDiscs/Good images/39934_left.jpeg</td>\n",
              "      <td>1</td>\n",
              "    </tr>\n",
              "    <tr>\n",
              "      <th>2</th>\n",
              "      <td>./OpticDiscs/Good images/26612_right.jpeg</td>\n",
              "      <td>1</td>\n",
              "    </tr>\n",
              "    <tr>\n",
              "      <th>3</th>\n",
              "      <td>./OpticDiscs/Good images/23548_right.jpeg</td>\n",
              "      <td>1</td>\n",
              "    </tr>\n",
              "    <tr>\n",
              "      <th>4</th>\n",
              "      <td>./OpticDiscs/Good images/6541_left.jpeg</td>\n",
              "      <td>1</td>\n",
              "    </tr>\n",
              "  </tbody>\n",
              "</table>\n",
              "</div>"
            ],
            "text/plain": [
              "                               imageFilename  class\n",
              "0   ./OpticDiscs/Good images/29421_left.jpeg      1\n",
              "1   ./OpticDiscs/Good images/39934_left.jpeg      1\n",
              "2  ./OpticDiscs/Good images/26612_right.jpeg      1\n",
              "3  ./OpticDiscs/Good images/23548_right.jpeg      1\n",
              "4    ./OpticDiscs/Good images/6541_left.jpeg      1"
            ]
          },
          "metadata": {
            "tags": []
          },
          "execution_count": 2
        }
      ]
    },
    {
      "cell_type": "code",
      "metadata": {
        "colab": {
          "base_uri": "https://localhost:8080/"
        },
        "id": "s3N0Ue5MCvlk",
        "outputId": "a32f178a-90b4-41b6-931d-203418fe4350"
      },
      "source": [
        "len(data)"
      ],
      "execution_count": 3,
      "outputs": [
        {
          "output_type": "execute_result",
          "data": {
            "text/plain": [
              "374"
            ]
          },
          "metadata": {
            "tags": []
          },
          "execution_count": 3
        }
      ]
    },
    {
      "cell_type": "markdown",
      "metadata": {
        "id": "deKSOu-Kd8Yk"
      },
      "source": [
        "#### Split data"
      ]
    },
    {
      "cell_type": "code",
      "metadata": {
        "id": "4w3TUlaqd7qi"
      },
      "source": [
        "from sklearn.model_selection import train_test_split\n",
        "\n",
        "#Split data\n",
        "X_train, X_test, y_train, y_test = train_test_split(data['imageFilename'], data['class'], test_size=0.30, random_state=65)"
      ],
      "execution_count": 4,
      "outputs": []
    },
    {
      "cell_type": "code",
      "metadata": {
        "colab": {
          "base_uri": "https://localhost:8080/"
        },
        "id": "n3hQn37YfvsA",
        "outputId": "0fa0f02d-c0b4-4a88-bf20-7cb3227b2e7c"
      },
      "source": [
        "y_train.value_counts()"
      ],
      "execution_count": 5,
      "outputs": [
        {
          "output_type": "execute_result",
          "data": {
            "text/plain": [
              "0    139\n",
              "1    122\n",
              "Name: class, dtype: int64"
            ]
          },
          "metadata": {
            "tags": []
          },
          "execution_count": 5
        }
      ]
    },
    {
      "cell_type": "code",
      "metadata": {
        "colab": {
          "base_uri": "https://localhost:8080/",
          "height": 206
        },
        "id": "nVIy3dn7eKFq",
        "outputId": "6b7d3b6c-1bac-42fa-d714-603604119628"
      },
      "source": [
        "test_data = pd.DataFrame({'image':X_test,'class':y_test})\n",
        "test_data['image'] = test_data['image'].apply(lambda x : x.split('/')[-1])\n",
        "test_data.head()"
      ],
      "execution_count": 6,
      "outputs": [
        {
          "output_type": "execute_result",
          "data": {
            "text/html": [
              "<div>\n",
              "<style scoped>\n",
              "    .dataframe tbody tr th:only-of-type {\n",
              "        vertical-align: middle;\n",
              "    }\n",
              "\n",
              "    .dataframe tbody tr th {\n",
              "        vertical-align: top;\n",
              "    }\n",
              "\n",
              "    .dataframe thead th {\n",
              "        text-align: right;\n",
              "    }\n",
              "</style>\n",
              "<table border=\"1\" class=\"dataframe\">\n",
              "  <thead>\n",
              "    <tr style=\"text-align: right;\">\n",
              "      <th></th>\n",
              "      <th>image</th>\n",
              "      <th>class</th>\n",
              "    </tr>\n",
              "  </thead>\n",
              "  <tbody>\n",
              "    <tr>\n",
              "      <th>278</th>\n",
              "      <td>10785_left.jpeg</td>\n",
              "      <td>0</td>\n",
              "    </tr>\n",
              "    <tr>\n",
              "      <th>366</th>\n",
              "      <td>38518_left.jpeg</td>\n",
              "      <td>0</td>\n",
              "    </tr>\n",
              "    <tr>\n",
              "      <th>287</th>\n",
              "      <td>16413_left.jpeg</td>\n",
              "      <td>0</td>\n",
              "    </tr>\n",
              "    <tr>\n",
              "      <th>202</th>\n",
              "      <td>2916_left.jpeg</td>\n",
              "      <td>0</td>\n",
              "    </tr>\n",
              "    <tr>\n",
              "      <th>146</th>\n",
              "      <td>1772_left.jpeg</td>\n",
              "      <td>1</td>\n",
              "    </tr>\n",
              "  </tbody>\n",
              "</table>\n",
              "</div>"
            ],
            "text/plain": [
              "               image  class\n",
              "278  10785_left.jpeg      0\n",
              "366  38518_left.jpeg      0\n",
              "287  16413_left.jpeg      0\n",
              "202   2916_left.jpeg      0\n",
              "146   1772_left.jpeg      1"
            ]
          },
          "metadata": {
            "tags": []
          },
          "execution_count": 6
        }
      ]
    },
    {
      "cell_type": "code",
      "metadata": {
        "id": "1YsYT7VjerXq"
      },
      "source": [
        "test_data.to_csv('test_data.csv',index=False)"
      ],
      "execution_count": 7,
      "outputs": []
    },
    {
      "cell_type": "markdown",
      "metadata": {
        "id": "mPh3qDdIdkHh"
      },
      "source": [
        "## Definition of the model"
      ]
    },
    {
      "cell_type": "code",
      "metadata": {
        "id": "Z-FUmuJidoy3"
      },
      "source": [
        "import torchvision.models as models\n",
        "import torch\n",
        "network_name = 'densenet161'\n",
        "model = models.densenet161(pretrained=True)"
      ],
      "execution_count": 8,
      "outputs": []
    },
    {
      "cell_type": "code",
      "metadata": {
        "colab": {
          "base_uri": "https://localhost:8080/"
        },
        "id": "drpW39Qwj3l9",
        "outputId": "722356a3-d017-477a-bc12-e6dd3025012a"
      },
      "source": [
        "model.classifier"
      ],
      "execution_count": 9,
      "outputs": [
        {
          "output_type": "execute_result",
          "data": {
            "text/plain": [
              "Linear(in_features=2208, out_features=1000, bias=True)"
            ]
          },
          "metadata": {
            "tags": []
          },
          "execution_count": 9
        }
      ]
    },
    {
      "cell_type": "code",
      "metadata": {
        "id": "Cu_aoH7-tBsT"
      },
      "source": [
        "## Change efficientnet final layer\n",
        "model.classifier = torch.nn.Linear(in_features=2208,out_features=2,bias = True)"
      ],
      "execution_count": 10,
      "outputs": []
    },
    {
      "cell_type": "code",
      "metadata": {
        "colab": {
          "base_uri": "https://localhost:8080/"
        },
        "id": "dNns-LOy6TrK",
        "outputId": "b2d81b1e-fb9a-4e3f-828f-72f432cc8b49"
      },
      "source": [
        "def count_parameters(model):\r\n",
        "    return sum(p.numel() for p in model.parameters() if p.requires_grad)\r\n",
        "\r\n",
        "count_parameters(model)"
      ],
      "execution_count": 11,
      "outputs": [
        {
          "output_type": "execute_result",
          "data": {
            "text/plain": [
              "26476418"
            ]
          },
          "metadata": {
            "tags": []
          },
          "execution_count": 11
        }
      ]
    },
    {
      "cell_type": "code",
      "metadata": {
        "id": "5BR_Hs12gAqx"
      },
      "source": [
        "from torchvision.transforms import Resize,ToTensor,Compose,Normalize\n",
        "from torchvision.transforms import RandomHorizontalFlip,RandomVerticalFlip,RandomRotation,ColorJitter\n",
        "from PIL import Image\n",
        "\n",
        "transforms = Compose([RandomHorizontalFlip(),RandomVerticalFlip(),RandomRotation(180),ColorJitter(0.5,0.5,0.5)]) # Transformations for the training images\n",
        "\n",
        "composed = Compose([Resize(224), # Resize to a fit size for efficientnet\n",
        "                    ToTensor(),  # Convert into sensor\n",
        "                    Normalize((0.5, 0.5, 0.5), (0.5, 0.5, 0.5))]) # Normalize image"
      ],
      "execution_count": 12,
      "outputs": []
    },
    {
      "cell_type": "markdown",
      "metadata": {
        "id": "mWg1p7EQtqVZ"
      },
      "source": [
        "### Training parameters"
      ]
    },
    {
      "cell_type": "code",
      "metadata": {
        "id": "EiT-MlPutsZR"
      },
      "source": [
        "device = torch.device('cuda' if torch.cuda.is_available() else 'cpu')\n",
        "model.to(device);\n",
        "seed = 17\n",
        "torch.manual_seed(seed)\n",
        "criterion = torch.nn.CrossEntropyLoss()\n",
        "optimizer = torch.optim.Adam(model.parameters(), lr=0.0001)"
      ],
      "execution_count": 13,
      "outputs": []
    },
    {
      "cell_type": "code",
      "metadata": {
        "colab": {
          "base_uri": "https://localhost:8080/"
        },
        "id": "iJWflI4JoVRW",
        "outputId": "8787ff86-c341-4fac-f794-df724832f717"
      },
      "source": [
        "try:\n",
        "    model = torch.load('./checkpoint_b0_11.ph', map_location=device)\n",
        "except:\n",
        "    print(\"No Checkpoint loaded\")"
      ],
      "execution_count": 14,
      "outputs": [
        {
          "output_type": "stream",
          "text": [
            "No Checkpoint loaded\n"
          ],
          "name": "stdout"
        }
      ]
    },
    {
      "cell_type": "code",
      "metadata": {
        "id": "lcTzzyr5uUdr"
      },
      "source": [
        "classes = {0:[0,0,0,0,1],\n",
        "           1:[0,0,0,1,0],\n",
        "           2:[0,0,1,0,0],\n",
        "           3:[0,1,0,0,0],\n",
        "           4:[1,0,0,0,0]}"
      ],
      "execution_count": 15,
      "outputs": []
    },
    {
      "cell_type": "code",
      "metadata": {
        "colab": {
          "base_uri": "https://localhost:8080/"
        },
        "id": "RkvlQWRQtjXo",
        "outputId": "00afc1ba-9643-49c5-e011-2274dcca2a63"
      },
      "source": [
        "from tqdm import tqdm\n",
        "import random\n",
        "random.seed(seed)\n",
        "\n",
        "epochs = 100\n",
        "batch_size = 1  # I will use batch size of 1 to keep the ratio of each image\n",
        "\n",
        "TRAINING_acc = []\n",
        "VALIDATION_acc = []\n",
        "BEST_val_acc = 0.0\n",
        "\n",
        "for epoch in range(epochs):\n",
        "    \n",
        "    indexes = [idx for idx in range(len(X_train))]\n",
        "    pbar = tqdm( range(len(X_train)//batch_size),ncols = 100)\n",
        "    running_loss = 0.0\n",
        "    running_acc = 0.0\n",
        "    t = 0\n",
        "\n",
        "    for step in pbar:\n",
        "        # Load data\n",
        "        idx = random.sample(indexes,batch_size)\n",
        "        X = X_train.iloc[idx]\n",
        "        y = y_train.iloc[idx]\n",
        "\n",
        "        # Remove indexes\n",
        "        [indexes.remove(i) for i in idx]\n",
        "\n",
        "        # Load images\n",
        "        try:\n",
        "            images = [Image.open(File) for File in X]\n",
        "        except:\n",
        "            continue\n",
        "        # Load y_true\n",
        "        y_true = torch.LongTensor([c for c in y]).to(device)\n",
        "        \n",
        "        # Convert images to tensor\n",
        "        x_batch = torch.FloatTensor().to(device)\n",
        "        for image in images:\n",
        "            P = transforms(image)\n",
        "            P = composed(P).unsqueeze(0).to(device)\n",
        "            x_batch = torch.cat((x_batch,P))\n",
        "\n",
        "        # zero the parameter gradients\n",
        "        optimizer.zero_grad()\n",
        "        # forward + backward + optimize\n",
        "        outputs = model(x_batch)\n",
        "        loss = criterion(outputs, y_true)\n",
        "        loss.backward()\n",
        "        optimizer.step()\n",
        "        # print statistics\n",
        "        running_loss += loss.item()\n",
        "        t += batch_size\n",
        "\n",
        "        _, preds = torch.max(outputs, 1)\n",
        "        running_acc += torch.sum(preds == y_true).cpu().detach().numpy()\n",
        "        acc = torch.sum(preds == y_true).cpu().detach().numpy()/batch_size;\n",
        "        pbar.set_description(\"Epoch: {} Accuracy: {:0.5f} Loss: {:0.5f} \".format(epoch+1,running_acc/t,loss.item()))\n",
        "    #Validation\n",
        "    TRAINING_acc.append(running_acc/t)\n",
        "    val_acc = 0.0\n",
        "    val_loss = 0.0\n",
        "    t = 0\n",
        "    for point in range(len(X_test)//batch_size):\n",
        "        with torch.no_grad():\n",
        "\n",
        "            X = X_test.iloc[point*batch_size:(point+1)*batch_size]\n",
        "            y = y_test.iloc[point*batch_size:(point+1)*batch_size]\n",
        "\n",
        "\n",
        "            # Load images\n",
        "            try:\n",
        "                images = [Image.open(File) for File in X]\n",
        "            except:\n",
        "                continue\n",
        "            # Load y_true\n",
        "            y_true = torch.LongTensor([c for c in y]).to(device)\n",
        "            \n",
        "            # Convert images to tensor\n",
        "            x_batch = torch.FloatTensor().to(device)\n",
        "            for image in images:\n",
        "                P = composed(image).unsqueeze(0).to(device)\n",
        "                x_batch = torch.cat((x_batch,P))\n",
        "\n",
        "            \n",
        "            outputs = model(x_batch)\n",
        "            loss = criterion(outputs, y_true)\n",
        "            val_loss += loss.item()\n",
        "            t += batch_size\n",
        "            _, preds = torch.max(outputs, 1)\n",
        "            val_acc += torch.sum(preds == y_true).cpu().detach().numpy()\n",
        "    VALIDATION_acc.append(val_acc/t)\n",
        "    print(\"Validation -- Accuracy: {:0.5f} Loss: {:0.5f} \\n\".format(val_acc/t,loss.item()))\n",
        "    if val_acc/t > BEST_val_acc:\n",
        "        try:\n",
        "            torch.save(model,\"/content/checkpoint_{}_{}_{:0.5f}.ph\".format(network_name,epoch+1,val_acc/t))\n",
        "            BEST_val_acc = val_acc/t\n",
        "        except:\n",
        "            continue"
      ],
      "execution_count": 16,
      "outputs": [
        {
          "output_type": "stream",
          "text": [
            "Epoch: 1 Accuracy: 0.59770 Loss: 0.32036 : 100%|██████████████████| 261/261 [00:41<00:00,  6.35it/s]\n"
          ],
          "name": "stderr"
        },
        {
          "output_type": "stream",
          "text": [
            "Validation -- Accuracy: 0.71681 Loss: 0.61721 \n",
            "\n"
          ],
          "name": "stdout"
        },
        {
          "output_type": "stream",
          "text": [
            "Epoch: 2 Accuracy: 0.67050 Loss: 1.81878 : 100%|██████████████████| 261/261 [00:40<00:00,  6.42it/s]\n"
          ],
          "name": "stderr"
        },
        {
          "output_type": "stream",
          "text": [
            "Validation -- Accuracy: 0.82301 Loss: 0.58855 \n",
            "\n"
          ],
          "name": "stdout"
        },
        {
          "output_type": "stream",
          "text": [
            "Epoch: 3 Accuracy: 0.72414 Loss: 0.36127 : 100%|██████████████████| 261/261 [00:41<00:00,  6.27it/s]\n"
          ],
          "name": "stderr"
        },
        {
          "output_type": "stream",
          "text": [
            "Validation -- Accuracy: 0.83186 Loss: 0.43877 \n",
            "\n"
          ],
          "name": "stdout"
        },
        {
          "output_type": "stream",
          "text": [
            "Epoch: 4 Accuracy: 0.79693 Loss: 0.11172 : 100%|██████████████████| 261/261 [00:41<00:00,  6.23it/s]\n",
            "Epoch: 5 Accuracy: 1.00000 Loss: 0.15269 :   0%|                    | 1/261 [00:00<00:47,  5.47it/s]"
          ],
          "name": "stderr"
        },
        {
          "output_type": "stream",
          "text": [
            "Validation -- Accuracy: 0.61947 Loss: 0.11213 \n",
            "\n"
          ],
          "name": "stdout"
        },
        {
          "output_type": "stream",
          "text": [
            "Epoch: 5 Accuracy: 0.76628 Loss: 1.10348 : 100%|██████████████████| 261/261 [00:41<00:00,  6.32it/s]\n"
          ],
          "name": "stderr"
        },
        {
          "output_type": "stream",
          "text": [
            "Validation -- Accuracy: 0.84956 Loss: 0.29719 \n",
            "\n"
          ],
          "name": "stdout"
        },
        {
          "output_type": "stream",
          "text": [
            "Epoch: 6 Accuracy: 0.81226 Loss: 0.06719 : 100%|██████████████████| 261/261 [00:41<00:00,  6.35it/s]\n"
          ],
          "name": "stderr"
        },
        {
          "output_type": "stream",
          "text": [
            "Validation -- Accuracy: 0.88496 Loss: 0.14546 \n",
            "\n"
          ],
          "name": "stdout"
        },
        {
          "output_type": "stream",
          "text": [
            "Epoch: 7 Accuracy: 0.79693 Loss: 0.30795 : 100%|██████████████████| 261/261 [00:41<00:00,  6.22it/s]\n",
            "Epoch: 8 Accuracy: 0.00000 Loss: 0.76261 :   0%|                    | 1/261 [00:00<00:42,  6.07it/s]"
          ],
          "name": "stderr"
        },
        {
          "output_type": "stream",
          "text": [
            "Validation -- Accuracy: 0.79646 Loss: 0.26920 \n",
            "\n"
          ],
          "name": "stdout"
        },
        {
          "output_type": "stream",
          "text": [
            "Epoch: 8 Accuracy: 0.80843 Loss: 0.05870 : 100%|██████████████████| 261/261 [00:41<00:00,  6.29it/s]\n",
            "Epoch: 9 Accuracy: 1.00000 Loss: 0.10010 :   0%|                    | 1/261 [00:00<00:40,  6.35it/s]"
          ],
          "name": "stderr"
        },
        {
          "output_type": "stream",
          "text": [
            "Validation -- Accuracy: 0.84071 Loss: 0.07200 \n",
            "\n"
          ],
          "name": "stdout"
        },
        {
          "output_type": "stream",
          "text": [
            "Epoch: 9 Accuracy: 0.84674 Loss: 0.13737 : 100%|██████████████████| 261/261 [00:41<00:00,  6.31it/s]\n"
          ],
          "name": "stderr"
        },
        {
          "output_type": "stream",
          "text": [
            "Validation -- Accuracy: 0.89381 Loss: 0.07778 \n",
            "\n"
          ],
          "name": "stdout"
        },
        {
          "output_type": "stream",
          "text": [
            "Epoch: 10 Accuracy: 0.84291 Loss: 0.54410 : 100%|█████████████████| 261/261 [00:41<00:00,  6.33it/s]\n",
            "Epoch: 11 Accuracy: 1.00000 Loss: 0.07806 :   0%|                   | 1/261 [00:00<00:39,  6.66it/s]"
          ],
          "name": "stderr"
        },
        {
          "output_type": "stream",
          "text": [
            "Validation -- Accuracy: 0.88496 Loss: 0.54480 \n",
            "\n"
          ],
          "name": "stdout"
        },
        {
          "output_type": "stream",
          "text": [
            "Epoch: 11 Accuracy: 0.85824 Loss: 0.09020 : 100%|█████████████████| 261/261 [00:41<00:00,  6.30it/s]\n",
            "Epoch: 12 Accuracy: 1.00000 Loss: 0.03895 :   0%|                   | 1/261 [00:00<00:39,  6.61it/s]"
          ],
          "name": "stderr"
        },
        {
          "output_type": "stream",
          "text": [
            "Validation -- Accuracy: 0.87611 Loss: 0.10865 \n",
            "\n"
          ],
          "name": "stdout"
        },
        {
          "output_type": "stream",
          "text": [
            "Epoch: 12 Accuracy: 0.86973 Loss: 1.49975 : 100%|█████████████████| 261/261 [00:41<00:00,  6.28it/s]\n"
          ],
          "name": "stderr"
        },
        {
          "output_type": "stream",
          "text": [
            "Validation -- Accuracy: 0.91150 Loss: 0.08084 \n",
            "\n"
          ],
          "name": "stdout"
        },
        {
          "output_type": "stream",
          "text": [
            "Epoch: 13 Accuracy: 0.87356 Loss: 0.11162 : 100%|█████████████████| 261/261 [00:40<00:00,  6.39it/s]\n",
            "Epoch: 14 Accuracy: 1.00000 Loss: 0.16410 :   0%|                   | 1/261 [00:00<00:42,  6.11it/s]"
          ],
          "name": "stderr"
        },
        {
          "output_type": "stream",
          "text": [
            "Validation -- Accuracy: 0.90265 Loss: 0.10177 \n",
            "\n"
          ],
          "name": "stdout"
        },
        {
          "output_type": "stream",
          "text": [
            "Epoch: 14 Accuracy: 0.91571 Loss: 0.03265 : 100%|█████████████████| 261/261 [00:41<00:00,  6.28it/s]\n",
            "Epoch: 15 Accuracy: 1.00000 Loss: 0.52602 :   0%|                   | 1/261 [00:00<00:38,  6.72it/s]"
          ],
          "name": "stderr"
        },
        {
          "output_type": "stream",
          "text": [
            "Validation -- Accuracy: 0.84071 Loss: 0.04219 \n",
            "\n"
          ],
          "name": "stdout"
        },
        {
          "output_type": "stream",
          "text": [
            "Epoch: 15 Accuracy: 0.89272 Loss: 0.03173 : 100%|█████████████████| 261/261 [00:41<00:00,  6.36it/s]\n",
            "Epoch: 16 Accuracy: 1.00000 Loss: 0.05985 :   0%|                   | 1/261 [00:00<00:40,  6.45it/s]"
          ],
          "name": "stderr"
        },
        {
          "output_type": "stream",
          "text": [
            "Validation -- Accuracy: 0.90265 Loss: 0.09181 \n",
            "\n"
          ],
          "name": "stdout"
        },
        {
          "output_type": "stream",
          "text": [
            "Epoch: 16 Accuracy: 0.88506 Loss: 0.05311 : 100%|█████████████████| 261/261 [00:41<00:00,  6.36it/s]\n",
            "Epoch: 17 Accuracy: 1.00000 Loss: 0.02538 :   0%|                   | 1/261 [00:00<00:42,  6.15it/s]"
          ],
          "name": "stderr"
        },
        {
          "output_type": "stream",
          "text": [
            "Validation -- Accuracy: 0.88496 Loss: 0.17734 \n",
            "\n"
          ],
          "name": "stdout"
        },
        {
          "output_type": "stream",
          "text": [
            "Epoch: 17 Accuracy: 0.89272 Loss: 0.02113 : 100%|█████████████████| 261/261 [00:41<00:00,  6.35it/s]\n",
            "Epoch: 18 Accuracy: 1.00000 Loss: 0.02815 :   0%|                   | 1/261 [00:00<00:40,  6.40it/s]"
          ],
          "name": "stderr"
        },
        {
          "output_type": "stream",
          "text": [
            "Validation -- Accuracy: 0.76991 Loss: 0.18431 \n",
            "\n"
          ],
          "name": "stdout"
        },
        {
          "output_type": "stream",
          "text": [
            "Epoch: 18 Accuracy: 0.88889 Loss: 0.02355 : 100%|█████████████████| 261/261 [00:40<00:00,  6.37it/s]\n"
          ],
          "name": "stderr"
        },
        {
          "output_type": "stream",
          "text": [
            "Validation -- Accuracy: 0.93805 Loss: 0.56285 \n",
            "\n"
          ],
          "name": "stdout"
        },
        {
          "output_type": "stream",
          "text": [
            "Epoch: 19 Accuracy: 0.86973 Loss: 0.04012 : 100%|█████████████████| 261/261 [00:41<00:00,  6.27it/s]\n",
            "Epoch: 20 Accuracy: 1.00000 Loss: 0.06478 :   0%|                   | 1/261 [00:00<00:47,  5.47it/s]"
          ],
          "name": "stderr"
        },
        {
          "output_type": "stream",
          "text": [
            "Validation -- Accuracy: 0.90265 Loss: 0.33496 \n",
            "\n"
          ],
          "name": "stdout"
        },
        {
          "output_type": "stream",
          "text": [
            "Epoch: 20 Accuracy: 0.91571 Loss: 0.51659 : 100%|█████████████████| 261/261 [00:41<00:00,  6.31it/s]\n",
            "Epoch: 21 Accuracy: 1.00000 Loss: 0.10409 :   0%|                   | 1/261 [00:00<00:43,  5.99it/s]"
          ],
          "name": "stderr"
        },
        {
          "output_type": "stream",
          "text": [
            "Validation -- Accuracy: 0.92920 Loss: 0.24047 \n",
            "\n"
          ],
          "name": "stdout"
        },
        {
          "output_type": "stream",
          "text": [
            "Epoch: 21 Accuracy: 0.91188 Loss: 0.01967 : 100%|█████████████████| 261/261 [00:41<00:00,  6.32it/s]\n",
            "Epoch: 22 Accuracy: 1.00000 Loss: 0.01733 :   0%|                   | 1/261 [00:00<00:47,  5.43it/s]"
          ],
          "name": "stderr"
        },
        {
          "output_type": "stream",
          "text": [
            "Validation -- Accuracy: 0.93805 Loss: 0.04015 \n",
            "\n"
          ],
          "name": "stdout"
        },
        {
          "output_type": "stream",
          "text": [
            "Epoch: 22 Accuracy: 0.88889 Loss: 0.03385 : 100%|█████████████████| 261/261 [00:41<00:00,  6.28it/s]\n",
            "Epoch: 23 Accuracy: 1.00000 Loss: 0.01721 :   0%|                   | 1/261 [00:00<00:36,  7.10it/s]"
          ],
          "name": "stderr"
        },
        {
          "output_type": "stream",
          "text": [
            "Validation -- Accuracy: 0.84071 Loss: 0.01962 \n",
            "\n"
          ],
          "name": "stdout"
        },
        {
          "output_type": "stream",
          "text": [
            "Epoch: 23 Accuracy: 0.90421 Loss: 0.03327 : 100%|█████████████████| 261/261 [00:41<00:00,  6.34it/s]\n",
            "Epoch: 24 Accuracy: 0.00000 Loss: 1.17059 :   0%|                   | 1/261 [00:00<00:34,  7.48it/s]"
          ],
          "name": "stderr"
        },
        {
          "output_type": "stream",
          "text": [
            "Validation -- Accuracy: 0.91150 Loss: 0.26337 \n",
            "\n"
          ],
          "name": "stdout"
        },
        {
          "output_type": "stream",
          "text": [
            "Epoch: 24 Accuracy: 0.91571 Loss: 0.13600 : 100%|█████████████████| 261/261 [00:41<00:00,  6.26it/s]\n",
            "Epoch: 25 Accuracy: 1.00000 Loss: 0.01867 :   0%|                   | 1/261 [00:00<00:42,  6.07it/s]"
          ],
          "name": "stderr"
        },
        {
          "output_type": "stream",
          "text": [
            "Validation -- Accuracy: 0.87611 Loss: 1.26931 \n",
            "\n"
          ],
          "name": "stdout"
        },
        {
          "output_type": "stream",
          "text": [
            "Epoch: 25 Accuracy: 0.91188 Loss: 0.03405 : 100%|█████████████████| 261/261 [00:41<00:00,  6.26it/s]\n",
            "Epoch: 26 Accuracy: 1.00000 Loss: 0.02903 :   0%|                   | 1/261 [00:00<00:41,  6.29it/s]"
          ],
          "name": "stderr"
        },
        {
          "output_type": "stream",
          "text": [
            "Validation -- Accuracy: 0.89381 Loss: 0.03062 \n",
            "\n"
          ],
          "name": "stdout"
        },
        {
          "output_type": "stream",
          "text": [
            "Epoch: 26 Accuracy: 0.94253 Loss: 0.01468 : 100%|█████████████████| 261/261 [00:40<00:00,  6.40it/s]\n",
            "Epoch: 27 Accuracy: 1.00000 Loss: 0.01342 :   0%|                   | 1/261 [00:00<00:50,  5.12it/s]"
          ],
          "name": "stderr"
        },
        {
          "output_type": "stream",
          "text": [
            "Validation -- Accuracy: 0.85841 Loss: 0.01792 \n",
            "\n"
          ],
          "name": "stdout"
        },
        {
          "output_type": "stream",
          "text": [
            "Epoch: 27 Accuracy: 0.92720 Loss: 0.17726 : 100%|█████████████████| 261/261 [00:41<00:00,  6.29it/s]\n",
            "Epoch: 28 Accuracy: 1.00000 Loss: 0.01399 :   0%|                   | 1/261 [00:00<00:34,  7.53it/s]"
          ],
          "name": "stderr"
        },
        {
          "output_type": "stream",
          "text": [
            "Validation -- Accuracy: 0.87611 Loss: 0.01357 \n",
            "\n"
          ],
          "name": "stdout"
        },
        {
          "output_type": "stream",
          "text": [
            "Epoch: 28 Accuracy: 0.92720 Loss: 0.02742 : 100%|█████████████████| 261/261 [00:41<00:00,  6.24it/s]\n",
            "Epoch: 29 Accuracy: 1.00000 Loss: 0.02179 :   0%|                   | 1/261 [00:00<00:39,  6.51it/s]"
          ],
          "name": "stderr"
        },
        {
          "output_type": "stream",
          "text": [
            "Validation -- Accuracy: 0.85841 Loss: 0.06234 \n",
            "\n"
          ],
          "name": "stdout"
        },
        {
          "output_type": "stream",
          "text": [
            "Epoch: 29 Accuracy: 0.91954 Loss: 0.01789 : 100%|█████████████████| 261/261 [00:41<00:00,  6.27it/s]\n",
            "Epoch: 30 Accuracy: 1.00000 Loss: 0.02543 :   0%|                   | 1/261 [00:00<00:51,  5.03it/s]"
          ],
          "name": "stderr"
        },
        {
          "output_type": "stream",
          "text": [
            "Validation -- Accuracy: 0.87611 Loss: 0.08288 \n",
            "\n"
          ],
          "name": "stdout"
        },
        {
          "output_type": "stream",
          "text": [
            "Epoch: 30 Accuracy: 0.93870 Loss: 0.05912 : 100%|█████████████████| 261/261 [00:42<00:00,  6.21it/s]\n",
            "Epoch: 31 Accuracy: 1.00000 Loss: 0.01616 :   0%|                   | 1/261 [00:00<00:42,  6.19it/s]"
          ],
          "name": "stderr"
        },
        {
          "output_type": "stream",
          "text": [
            "Validation -- Accuracy: 0.92920 Loss: 0.07462 \n",
            "\n"
          ],
          "name": "stdout"
        },
        {
          "output_type": "stream",
          "text": [
            "Epoch: 31 Accuracy: 0.95402 Loss: 0.00456 : 100%|█████████████████| 261/261 [00:41<00:00,  6.27it/s]\n",
            "Epoch: 32 Accuracy: 1.00000 Loss: 0.02901 :   0%|                   | 1/261 [00:00<00:42,  6.08it/s]"
          ],
          "name": "stderr"
        },
        {
          "output_type": "stream",
          "text": [
            "Validation -- Accuracy: 0.89381 Loss: 0.07131 \n",
            "\n"
          ],
          "name": "stdout"
        },
        {
          "output_type": "stream",
          "text": [
            "Epoch: 32 Accuracy: 0.96552 Loss: 0.00513 : 100%|█████████████████| 261/261 [00:41<00:00,  6.24it/s]\n",
            "Epoch: 33 Accuracy: 1.00000 Loss: 0.00470 :   0%|                   | 1/261 [00:00<00:37,  6.90it/s]"
          ],
          "name": "stderr"
        },
        {
          "output_type": "stream",
          "text": [
            "Validation -- Accuracy: 0.92920 Loss: 0.08917 \n",
            "\n"
          ],
          "name": "stdout"
        },
        {
          "output_type": "stream",
          "text": [
            "Epoch: 33 Accuracy: 0.90805 Loss: 0.90455 : 100%|█████████████████| 261/261 [00:41<00:00,  6.37it/s]\n",
            "Epoch: 34 Accuracy: 1.00000 Loss: 0.05052 :   0%|                   | 1/261 [00:00<00:35,  7.30it/s]"
          ],
          "name": "stderr"
        },
        {
          "output_type": "stream",
          "text": [
            "Validation -- Accuracy: 0.93805 Loss: 0.01689 \n",
            "\n"
          ],
          "name": "stdout"
        },
        {
          "output_type": "stream",
          "text": [
            "Epoch: 34 Accuracy: 0.94253 Loss: 0.01494 : 100%|█████████████████| 261/261 [00:41<00:00,  6.33it/s]\n",
            "Epoch: 35 Accuracy: 0.00000 Loss: 1.70199 :   0%|                   | 1/261 [00:00<00:48,  5.36it/s]"
          ],
          "name": "stderr"
        },
        {
          "output_type": "stream",
          "text": [
            "Validation -- Accuracy: 0.92035 Loss: 0.01934 \n",
            "\n"
          ],
          "name": "stdout"
        },
        {
          "output_type": "stream",
          "text": [
            "Epoch: 35 Accuracy: 0.93870 Loss: 0.01831 : 100%|█████████████████| 261/261 [00:41<00:00,  6.28it/s]\n",
            "Epoch: 36 Accuracy: 1.00000 Loss: 0.05761 :   0%|                   | 1/261 [00:00<00:43,  5.96it/s]"
          ],
          "name": "stderr"
        },
        {
          "output_type": "stream",
          "text": [
            "Validation -- Accuracy: 0.87611 Loss: 0.03220 \n",
            "\n"
          ],
          "name": "stdout"
        },
        {
          "output_type": "stream",
          "text": [
            "Epoch: 36 Accuracy: 0.92337 Loss: 0.00678 : 100%|█████████████████| 261/261 [00:40<00:00,  6.39it/s]\n",
            "Epoch: 37 Accuracy: 1.00000 Loss: 0.00939 :   0%|                   | 1/261 [00:00<00:45,  5.73it/s]"
          ],
          "name": "stderr"
        },
        {
          "output_type": "stream",
          "text": [
            "Validation -- Accuracy: 0.91150 Loss: 0.24851 \n",
            "\n"
          ],
          "name": "stdout"
        },
        {
          "output_type": "stream",
          "text": [
            "Epoch: 37 Accuracy: 0.93870 Loss: 0.01419 : 100%|█████████████████| 261/261 [00:41<00:00,  6.30it/s]\n",
            "  0%|                                                                       | 0/261 [00:00<?, ?it/s]"
          ],
          "name": "stderr"
        },
        {
          "output_type": "stream",
          "text": [
            "Validation -- Accuracy: 0.86726 Loss: 0.04294 \n",
            "\n"
          ],
          "name": "stdout"
        },
        {
          "output_type": "stream",
          "text": [
            "Epoch: 38 Accuracy: 0.94636 Loss: 0.00809 : 100%|█████████████████| 261/261 [00:41<00:00,  6.26it/s]\n",
            "Epoch: 39 Accuracy: 1.00000 Loss: 0.12168 :   0%|                   | 1/261 [00:00<00:34,  7.59it/s]"
          ],
          "name": "stderr"
        },
        {
          "output_type": "stream",
          "text": [
            "Validation -- Accuracy: 0.81416 Loss: 0.01078 \n",
            "\n"
          ],
          "name": "stdout"
        },
        {
          "output_type": "stream",
          "text": [
            "Epoch: 39 Accuracy: 0.94253 Loss: 0.01375 : 100%|█████████████████| 261/261 [00:40<00:00,  6.37it/s]\n",
            "Epoch: 40 Accuracy: 0.00000 Loss: 2.46419 :   0%|                   | 1/261 [00:00<00:34,  7.49it/s]"
          ],
          "name": "stderr"
        },
        {
          "output_type": "stream",
          "text": [
            "Validation -- Accuracy: 0.82301 Loss: 0.08228 \n",
            "\n"
          ],
          "name": "stdout"
        },
        {
          "output_type": "stream",
          "text": [
            "Epoch: 40 Accuracy: 0.93870 Loss: 0.00685 : 100%|█████████████████| 261/261 [00:41<00:00,  6.30it/s]\n",
            "Epoch: 41 Accuracy: 1.00000 Loss: 0.06686 :   0%|                   | 1/261 [00:00<00:31,  8.34it/s]"
          ],
          "name": "stderr"
        },
        {
          "output_type": "stream",
          "text": [
            "Validation -- Accuracy: 0.87611 Loss: 0.05445 \n",
            "\n"
          ],
          "name": "stdout"
        },
        {
          "output_type": "stream",
          "text": [
            "Epoch: 41 Accuracy: 0.93487 Loss: 0.46288 : 100%|█████████████████| 261/261 [00:41<00:00,  6.26it/s]\n",
            "Epoch: 42 Accuracy: 1.00000 Loss: 0.00708 :   0%|                   | 1/261 [00:00<00:44,  5.80it/s]"
          ],
          "name": "stderr"
        },
        {
          "output_type": "stream",
          "text": [
            "Validation -- Accuracy: 0.84956 Loss: 0.31843 \n",
            "\n"
          ],
          "name": "stdout"
        },
        {
          "output_type": "stream",
          "text": [
            "Epoch: 42 Accuracy: 0.97701 Loss: 0.01502 : 100%|█████████████████| 261/261 [00:41<00:00,  6.33it/s]\n",
            "Epoch: 43 Accuracy: 1.00000 Loss: 0.00769 :   0%|                   | 1/261 [00:00<00:47,  5.43it/s]"
          ],
          "name": "stderr"
        },
        {
          "output_type": "stream",
          "text": [
            "Validation -- Accuracy: 0.91150 Loss: 0.75628 \n",
            "\n"
          ],
          "name": "stdout"
        },
        {
          "output_type": "stream",
          "text": [
            "Epoch: 43 Accuracy: 0.94636 Loss: 0.02293 : 100%|█████████████████| 261/261 [00:41<00:00,  6.35it/s]\n",
            "Epoch: 44 Accuracy: 1.00000 Loss: 0.02007 :   0%|                   | 1/261 [00:00<00:47,  5.48it/s]"
          ],
          "name": "stderr"
        },
        {
          "output_type": "stream",
          "text": [
            "Validation -- Accuracy: 0.88496 Loss: 1.07468 \n",
            "\n"
          ],
          "name": "stdout"
        },
        {
          "output_type": "stream",
          "text": [
            "Epoch: 44 Accuracy: 0.95402 Loss: 0.04016 : 100%|█████████████████| 261/261 [00:41<00:00,  6.33it/s]\n",
            "Epoch: 45 Accuracy: 1.00000 Loss: 0.10378 :   0%|                   | 1/261 [00:00<00:38,  6.73it/s]"
          ],
          "name": "stderr"
        },
        {
          "output_type": "stream",
          "text": [
            "Validation -- Accuracy: 0.91150 Loss: 0.06204 \n",
            "\n"
          ],
          "name": "stdout"
        },
        {
          "output_type": "stream",
          "text": [
            "Epoch: 45 Accuracy: 0.95019 Loss: 0.33658 : 100%|█████████████████| 261/261 [00:40<00:00,  6.38it/s]\n",
            "Epoch: 46 Accuracy: 1.00000 Loss: 0.04067 :   0%|                   | 1/261 [00:00<00:39,  6.56it/s]"
          ],
          "name": "stderr"
        },
        {
          "output_type": "stream",
          "text": [
            "Validation -- Accuracy: 0.91150 Loss: 1.21352 \n",
            "\n"
          ],
          "name": "stdout"
        },
        {
          "output_type": "stream",
          "text": [
            "Epoch: 46 Accuracy: 0.95019 Loss: 0.02373 : 100%|█████████████████| 261/261 [00:41<00:00,  6.31it/s]\n",
            "Epoch: 47 Accuracy: 1.00000 Loss: 0.00441 :   0%|                   | 1/261 [00:00<00:40,  6.40it/s]"
          ],
          "name": "stderr"
        },
        {
          "output_type": "stream",
          "text": [
            "Validation -- Accuracy: 0.88496 Loss: 0.21807 \n",
            "\n"
          ],
          "name": "stdout"
        },
        {
          "output_type": "stream",
          "text": [
            "Epoch: 47 Accuracy: 0.95785 Loss: 0.00444 : 100%|█████████████████| 261/261 [00:41<00:00,  6.34it/s]\n",
            "Epoch: 48 Accuracy: 1.00000 Loss: 0.00718 :   0%|                   | 1/261 [00:00<00:37,  7.02it/s]"
          ],
          "name": "stderr"
        },
        {
          "output_type": "stream",
          "text": [
            "Validation -- Accuracy: 0.90265 Loss: 0.00648 \n",
            "\n"
          ],
          "name": "stdout"
        },
        {
          "output_type": "stream",
          "text": [
            "Epoch: 48 Accuracy: 0.93487 Loss: 0.00240 : 100%|█████████████████| 261/261 [00:41<00:00,  6.36it/s]\n",
            "Epoch: 49 Accuracy: 1.00000 Loss: 0.07273 :   0%|                   | 1/261 [00:00<00:41,  6.33it/s]"
          ],
          "name": "stderr"
        },
        {
          "output_type": "stream",
          "text": [
            "Validation -- Accuracy: 0.89381 Loss: 0.00479 \n",
            "\n"
          ],
          "name": "stdout"
        },
        {
          "output_type": "stream",
          "text": [
            "Epoch: 49 Accuracy: 0.97701 Loss: 0.00358 : 100%|█████████████████| 261/261 [00:41<00:00,  6.28it/s]\n",
            "Epoch: 50 Accuracy: 1.00000 Loss: 0.00951 :   0%|                   | 1/261 [00:00<00:48,  5.40it/s]"
          ],
          "name": "stderr"
        },
        {
          "output_type": "stream",
          "text": [
            "Validation -- Accuracy: 0.92920 Loss: 0.03497 \n",
            "\n"
          ],
          "name": "stdout"
        },
        {
          "output_type": "stream",
          "text": [
            "Epoch: 50 Accuracy: 0.96169 Loss: 0.06446 : 100%|█████████████████| 261/261 [00:41<00:00,  6.30it/s]\n",
            "Epoch: 51 Accuracy: 1.00000 Loss: 0.02396 :   0%|                   | 1/261 [00:00<00:36,  7.09it/s]"
          ],
          "name": "stderr"
        },
        {
          "output_type": "stream",
          "text": [
            "Validation -- Accuracy: 0.88496 Loss: 0.03343 \n",
            "\n"
          ],
          "name": "stdout"
        },
        {
          "output_type": "stream",
          "text": [
            "Epoch: 51 Accuracy: 0.95019 Loss: 0.02904 : 100%|█████████████████| 261/261 [00:41<00:00,  6.36it/s]\n",
            "Epoch: 52 Accuracy: 1.00000 Loss: 0.04130 :   0%|                   | 1/261 [00:00<00:38,  6.83it/s]"
          ],
          "name": "stderr"
        },
        {
          "output_type": "stream",
          "text": [
            "Validation -- Accuracy: 0.77876 Loss: 1.39966 \n",
            "\n"
          ],
          "name": "stdout"
        },
        {
          "output_type": "stream",
          "text": [
            "Epoch: 52 Accuracy: 0.93870 Loss: 0.01195 : 100%|█████████████████| 261/261 [00:41<00:00,  6.35it/s]\n",
            "Epoch: 53 Accuracy: 1.00000 Loss: 0.00451 :   0%|                   | 1/261 [00:00<00:42,  6.15it/s]"
          ],
          "name": "stderr"
        },
        {
          "output_type": "stream",
          "text": [
            "Validation -- Accuracy: 0.91150 Loss: 0.03310 \n",
            "\n"
          ],
          "name": "stdout"
        },
        {
          "output_type": "stream",
          "text": [
            "Epoch: 53 Accuracy: 0.99234 Loss: 0.00148 : 100%|█████████████████| 261/261 [00:40<00:00,  6.43it/s]\n",
            "Epoch: 54 Accuracy: 1.00000 Loss: 0.08940 :   0%|                   | 1/261 [00:00<00:32,  7.94it/s]"
          ],
          "name": "stderr"
        },
        {
          "output_type": "stream",
          "text": [
            "Validation -- Accuracy: 0.93805 Loss: 0.10628 \n",
            "\n"
          ],
          "name": "stdout"
        },
        {
          "output_type": "stream",
          "text": [
            "Epoch: 54 Accuracy: 0.94636 Loss: 0.01418 : 100%|█████████████████| 261/261 [00:41<00:00,  6.36it/s]\n",
            "Epoch: 55 Accuracy: 1.00000 Loss: 0.01316 :   0%|                   | 1/261 [00:00<00:37,  6.91it/s]"
          ],
          "name": "stderr"
        },
        {
          "output_type": "stream",
          "text": [
            "Validation -- Accuracy: 0.84071 Loss: 0.50681 \n",
            "\n"
          ],
          "name": "stdout"
        },
        {
          "output_type": "stream",
          "text": [
            "Epoch: 55 Accuracy: 0.96935 Loss: 0.00606 : 100%|█████████████████| 261/261 [00:41<00:00,  6.27it/s]\n",
            "Epoch: 56 Accuracy: 1.00000 Loss: 0.12608 :   0%|                   | 1/261 [00:00<00:33,  7.85it/s]"
          ],
          "name": "stderr"
        },
        {
          "output_type": "stream",
          "text": [
            "Validation -- Accuracy: 0.90265 Loss: 0.01278 \n",
            "\n"
          ],
          "name": "stdout"
        },
        {
          "output_type": "stream",
          "text": [
            "Epoch: 56 Accuracy: 0.95402 Loss: 0.12514 : 100%|█████████████████| 261/261 [00:41<00:00,  6.33it/s]\n",
            "Epoch: 57 Accuracy: 1.00000 Loss: 0.00868 :   0%|                   | 1/261 [00:00<00:42,  6.11it/s]"
          ],
          "name": "stderr"
        },
        {
          "output_type": "stream",
          "text": [
            "Validation -- Accuracy: 0.92920 Loss: 0.08215 \n",
            "\n"
          ],
          "name": "stdout"
        },
        {
          "output_type": "stream",
          "text": [
            "Epoch: 57 Accuracy: 0.95402 Loss: 0.00304 : 100%|█████████████████| 261/261 [00:41<00:00,  6.34it/s]\n",
            "Epoch: 58 Accuracy: 1.00000 Loss: 0.00750 :   0%|                   | 1/261 [00:00<00:44,  5.81it/s]"
          ],
          "name": "stderr"
        },
        {
          "output_type": "stream",
          "text": [
            "Validation -- Accuracy: 0.93805 Loss: 0.01615 \n",
            "\n"
          ],
          "name": "stdout"
        },
        {
          "output_type": "stream",
          "text": [
            "Epoch: 58 Accuracy: 0.96169 Loss: 0.00616 : 100%|█████████████████| 261/261 [00:41<00:00,  6.35it/s]\n",
            "Epoch: 59 Accuracy: 1.00000 Loss: 0.00243 :   0%|                   | 1/261 [00:00<00:43,  5.91it/s]"
          ],
          "name": "stderr"
        },
        {
          "output_type": "stream",
          "text": [
            "Validation -- Accuracy: 0.92035 Loss: 0.02632 \n",
            "\n"
          ],
          "name": "stdout"
        },
        {
          "output_type": "stream",
          "text": [
            "Epoch: 59 Accuracy: 0.93870 Loss: 0.03737 : 100%|█████████████████| 261/261 [00:41<00:00,  6.35it/s]\n",
            "Epoch: 60 Accuracy: 1.00000 Loss: 0.02385 :   0%|                   | 1/261 [00:00<00:31,  8.21it/s]"
          ],
          "name": "stderr"
        },
        {
          "output_type": "stream",
          "text": [
            "Validation -- Accuracy: 0.90265 Loss: 0.79356 \n",
            "\n"
          ],
          "name": "stdout"
        },
        {
          "output_type": "stream",
          "text": [
            "Epoch: 60 Accuracy: 0.97318 Loss: 0.19041 : 100%|█████████████████| 261/261 [00:40<00:00,  6.40it/s]\n"
          ],
          "name": "stderr"
        },
        {
          "output_type": "stream",
          "text": [
            "Validation -- Accuracy: 0.96460 Loss: 0.30135 \n",
            "\n"
          ],
          "name": "stdout"
        },
        {
          "output_type": "stream",
          "text": [
            "Epoch: 61 Accuracy: 0.95785 Loss: 0.02220 : 100%|█████████████████| 261/261 [00:40<00:00,  6.40it/s]\n",
            "Epoch: 62 Accuracy: 1.00000 Loss: 0.00921 :   0%|                   | 1/261 [00:00<00:29,  8.67it/s]"
          ],
          "name": "stderr"
        },
        {
          "output_type": "stream",
          "text": [
            "Validation -- Accuracy: 0.92035 Loss: 0.13332 \n",
            "\n"
          ],
          "name": "stdout"
        },
        {
          "output_type": "stream",
          "text": [
            "Epoch: 62 Accuracy: 0.99617 Loss: 0.00127 : 100%|█████████████████| 261/261 [00:41<00:00,  6.24it/s]\n",
            "Epoch: 63 Accuracy: 1.00000 Loss: 0.00191 :   0%|                   | 1/261 [00:00<00:42,  6.13it/s]"
          ],
          "name": "stderr"
        },
        {
          "output_type": "stream",
          "text": [
            "Validation -- Accuracy: 0.90265 Loss: 0.00410 \n",
            "\n"
          ],
          "name": "stdout"
        },
        {
          "output_type": "stream",
          "text": [
            "Epoch: 63 Accuracy: 0.94636 Loss: 1.47064 : 100%|█████████████████| 261/261 [00:41<00:00,  6.33it/s]\n",
            "Epoch: 64 Accuracy: 1.00000 Loss: 0.00859 :   0%|                   | 1/261 [00:00<00:37,  6.93it/s]"
          ],
          "name": "stderr"
        },
        {
          "output_type": "stream",
          "text": [
            "Validation -- Accuracy: 0.94690 Loss: 0.02576 \n",
            "\n"
          ],
          "name": "stdout"
        },
        {
          "output_type": "stream",
          "text": [
            "Epoch: 64 Accuracy: 0.95402 Loss: 0.00535 : 100%|█████████████████| 261/261 [00:40<00:00,  6.39it/s]\n",
            "Epoch: 65 Accuracy: 1.00000 Loss: 0.05099 :   0%|                   | 1/261 [00:00<00:40,  6.36it/s]"
          ],
          "name": "stderr"
        },
        {
          "output_type": "stream",
          "text": [
            "Validation -- Accuracy: 0.83186 Loss: 1.08127 \n",
            "\n"
          ],
          "name": "stdout"
        },
        {
          "output_type": "stream",
          "text": [
            "Epoch: 65 Accuracy: 0.97318 Loss: 0.00150 : 100%|█████████████████| 261/261 [00:41<00:00,  6.32it/s]\n",
            "  0%|                                                                       | 0/261 [00:00<?, ?it/s]"
          ],
          "name": "stderr"
        },
        {
          "output_type": "stream",
          "text": [
            "Validation -- Accuracy: 0.88496 Loss: 1.20786 \n",
            "\n"
          ],
          "name": "stdout"
        },
        {
          "output_type": "stream",
          "text": [
            "Epoch: 66 Accuracy: 0.97701 Loss: 0.01972 : 100%|█████████████████| 261/261 [00:41<00:00,  6.30it/s]\n",
            "Epoch: 67 Accuracy: 1.00000 Loss: 0.00839 :   0%|                   | 1/261 [00:00<00:31,  8.32it/s]"
          ],
          "name": "stderr"
        },
        {
          "output_type": "stream",
          "text": [
            "Validation -- Accuracy: 0.96460 Loss: 0.27589 \n",
            "\n"
          ],
          "name": "stdout"
        },
        {
          "output_type": "stream",
          "text": [
            "Epoch: 67 Accuracy: 0.97701 Loss: 0.00149 : 100%|█████████████████| 261/261 [00:41<00:00,  6.33it/s]\n",
            "Epoch: 68 Accuracy: 1.00000 Loss: 0.00200 :   0%|                   | 1/261 [00:00<00:38,  6.72it/s]"
          ],
          "name": "stderr"
        },
        {
          "output_type": "stream",
          "text": [
            "Validation -- Accuracy: 0.89381 Loss: 1.96407 \n",
            "\n"
          ],
          "name": "stdout"
        },
        {
          "output_type": "stream",
          "text": [
            "Epoch: 68 Accuracy: 0.94253 Loss: 0.01015 : 100%|█████████████████| 261/261 [00:41<00:00,  6.24it/s]\n",
            "Epoch: 69 Accuracy: 1.00000 Loss: 0.04256 :   0%|                   | 1/261 [00:00<00:41,  6.24it/s]"
          ],
          "name": "stderr"
        },
        {
          "output_type": "stream",
          "text": [
            "Validation -- Accuracy: 0.96460 Loss: 0.20416 \n",
            "\n"
          ],
          "name": "stdout"
        },
        {
          "output_type": "stream",
          "text": [
            "Epoch: 69 Accuracy: 0.97701 Loss: 0.00234 : 100%|█████████████████| 261/261 [00:41<00:00,  6.23it/s]\n",
            "Epoch: 70 Accuracy: 1.00000 Loss: 0.05024 :   0%|                   | 1/261 [00:00<00:40,  6.48it/s]"
          ],
          "name": "stderr"
        },
        {
          "output_type": "stream",
          "text": [
            "Validation -- Accuracy: 0.90265 Loss: 1.59190 \n",
            "\n"
          ],
          "name": "stdout"
        },
        {
          "output_type": "stream",
          "text": [
            "Epoch: 70 Accuracy: 0.98084 Loss: 0.03969 : 100%|█████████████████| 261/261 [00:41<00:00,  6.30it/s]\n",
            "Epoch: 71 Accuracy: 1.00000 Loss: 0.00391 :   0%|                   | 1/261 [00:00<00:40,  6.39it/s]"
          ],
          "name": "stderr"
        },
        {
          "output_type": "stream",
          "text": [
            "Validation -- Accuracy: 0.92920 Loss: 0.24365 \n",
            "\n"
          ],
          "name": "stdout"
        },
        {
          "output_type": "stream",
          "text": [
            "Epoch: 71 Accuracy: 0.97318 Loss: 0.47274 : 100%|█████████████████| 261/261 [00:41<00:00,  6.23it/s]\n",
            "Epoch: 72 Accuracy: 1.00000 Loss: 0.00155 :   0%|                   | 1/261 [00:00<00:51,  5.06it/s]"
          ],
          "name": "stderr"
        },
        {
          "output_type": "stream",
          "text": [
            "Validation -- Accuracy: 0.92920 Loss: 0.00945 \n",
            "\n"
          ],
          "name": "stdout"
        },
        {
          "output_type": "stream",
          "text": [
            "Epoch: 72 Accuracy: 0.96552 Loss: 0.01027 : 100%|█████████████████| 261/261 [00:41<00:00,  6.25it/s]\n",
            "Epoch: 73 Accuracy: 1.00000 Loss: 0.39062 :   0%|                   | 1/261 [00:00<00:40,  6.39it/s]"
          ],
          "name": "stderr"
        },
        {
          "output_type": "stream",
          "text": [
            "Validation -- Accuracy: 0.91150 Loss: 0.37416 \n",
            "\n"
          ],
          "name": "stdout"
        },
        {
          "output_type": "stream",
          "text": [
            "Epoch: 73 Accuracy: 0.95019 Loss: 0.01772 : 100%|█████████████████| 261/261 [00:41<00:00,  6.25it/s]\n",
            "Epoch: 74 Accuracy: 1.00000 Loss: 0.00274 :   0%|                   | 1/261 [00:00<00:37,  7.00it/s]"
          ],
          "name": "stderr"
        },
        {
          "output_type": "stream",
          "text": [
            "Validation -- Accuracy: 0.86726 Loss: 3.80102 \n",
            "\n"
          ],
          "name": "stdout"
        },
        {
          "output_type": "stream",
          "text": [
            "Epoch: 74 Accuracy: 0.96552 Loss: 0.00234 : 100%|█████████████████| 261/261 [00:41<00:00,  6.29it/s]\n",
            "Epoch: 75 Accuracy: 1.00000 Loss: 0.00270 :   0%|                   | 1/261 [00:00<00:40,  6.37it/s]"
          ],
          "name": "stderr"
        },
        {
          "output_type": "stream",
          "text": [
            "Validation -- Accuracy: 0.91150 Loss: 0.03100 \n",
            "\n"
          ],
          "name": "stdout"
        },
        {
          "output_type": "stream",
          "text": [
            "Epoch: 75 Accuracy: 0.97701 Loss: 0.01873 : 100%|█████████████████| 261/261 [00:41<00:00,  6.29it/s]\n",
            "Epoch: 76 Accuracy: 1.00000 Loss: 0.00090 :   0%|                   | 1/261 [00:00<00:34,  7.47it/s]"
          ],
          "name": "stderr"
        },
        {
          "output_type": "stream",
          "text": [
            "Validation -- Accuracy: 0.90265 Loss: 1.50133 \n",
            "\n"
          ],
          "name": "stdout"
        },
        {
          "output_type": "stream",
          "text": [
            "Epoch: 76 Accuracy: 0.98084 Loss: 0.00238 : 100%|█████████████████| 261/261 [00:42<00:00,  6.15it/s]\n",
            "  0%|                                                                       | 0/261 [00:00<?, ?it/s]"
          ],
          "name": "stderr"
        },
        {
          "output_type": "stream",
          "text": [
            "Validation -- Accuracy: 0.92920 Loss: 0.06085 \n",
            "\n"
          ],
          "name": "stdout"
        },
        {
          "output_type": "stream",
          "text": [
            "Epoch: 77 Accuracy: 0.97701 Loss: 0.00170 : 100%|█████████████████| 261/261 [00:42<00:00,  6.18it/s]\n",
            "Epoch: 78 Accuracy: 1.00000 Loss: 0.00459 :   0%|                   | 1/261 [00:00<00:33,  7.82it/s]"
          ],
          "name": "stderr"
        },
        {
          "output_type": "stream",
          "text": [
            "Validation -- Accuracy: 0.94690 Loss: 0.00795 \n",
            "\n"
          ],
          "name": "stdout"
        },
        {
          "output_type": "stream",
          "text": [
            "Epoch: 78 Accuracy: 0.97318 Loss: 0.00269 : 100%|█████████████████| 261/261 [00:41<00:00,  6.34it/s]\n",
            "Epoch: 79 Accuracy: 1.00000 Loss: 0.00341 :   0%|                   | 1/261 [00:00<00:45,  5.70it/s]"
          ],
          "name": "stderr"
        },
        {
          "output_type": "stream",
          "text": [
            "Validation -- Accuracy: 0.89381 Loss: 0.08400 \n",
            "\n"
          ],
          "name": "stdout"
        },
        {
          "output_type": "stream",
          "text": [
            "Epoch: 79 Accuracy: 0.98851 Loss: 0.00420 : 100%|█████████████████| 261/261 [00:41<00:00,  6.26it/s]\n",
            "  0%|                                                                       | 0/261 [00:00<?, ?it/s]"
          ],
          "name": "stderr"
        },
        {
          "output_type": "stream",
          "text": [
            "Validation -- Accuracy: 0.95575 Loss: 1.82118 \n",
            "\n"
          ],
          "name": "stdout"
        },
        {
          "output_type": "stream",
          "text": [
            "Epoch: 80 Accuracy: 0.97318 Loss: 0.06622 : 100%|█████████████████| 261/261 [00:43<00:00,  6.06it/s]\n",
            "Epoch: 81 Accuracy: 1.00000 Loss: 0.19099 :   0%|                   | 1/261 [00:00<00:34,  7.54it/s]"
          ],
          "name": "stderr"
        },
        {
          "output_type": "stream",
          "text": [
            "Validation -- Accuracy: 0.88496 Loss: 1.18911 \n",
            "\n"
          ],
          "name": "stdout"
        },
        {
          "output_type": "stream",
          "text": [
            "Epoch: 81 Accuracy: 0.96552 Loss: 0.00760 : 100%|█████████████████| 261/261 [00:41<00:00,  6.33it/s]\n",
            "  0%|                                                                       | 0/261 [00:00<?, ?it/s]"
          ],
          "name": "stderr"
        },
        {
          "output_type": "stream",
          "text": [
            "Validation -- Accuracy: 0.85841 Loss: 0.99285 \n",
            "\n"
          ],
          "name": "stdout"
        },
        {
          "output_type": "stream",
          "text": [
            "Epoch: 82 Accuracy: 0.97701 Loss: 0.00402 : 100%|█████████████████| 261/261 [00:42<00:00,  6.10it/s]\n",
            "Epoch: 83 Accuracy: 1.00000 Loss: 0.00361 :   0%|                   | 1/261 [00:00<00:37,  6.92it/s]"
          ],
          "name": "stderr"
        },
        {
          "output_type": "stream",
          "text": [
            "Validation -- Accuracy: 0.91150 Loss: 0.19290 \n",
            "\n"
          ],
          "name": "stdout"
        },
        {
          "output_type": "stream",
          "text": [
            "Epoch: 83 Accuracy: 0.99617 Loss: 0.00627 : 100%|█████████████████| 261/261 [00:41<00:00,  6.35it/s]\n",
            "Epoch: 84 Accuracy: 1.00000 Loss: 0.00064 :   0%|                   | 1/261 [00:00<00:45,  5.70it/s]"
          ],
          "name": "stderr"
        },
        {
          "output_type": "stream",
          "text": [
            "Validation -- Accuracy: 0.92920 Loss: 0.00601 \n",
            "\n"
          ],
          "name": "stdout"
        },
        {
          "output_type": "stream",
          "text": [
            "Epoch: 84 Accuracy: 0.98851 Loss: 0.00050 : 100%|█████████████████| 261/261 [00:40<00:00,  6.38it/s]\n",
            "  0%|                                                                       | 0/261 [00:00<?, ?it/s]"
          ],
          "name": "stderr"
        },
        {
          "output_type": "stream",
          "text": [
            "Validation -- Accuracy: 0.88496 Loss: 0.79629 \n",
            "\n"
          ],
          "name": "stdout"
        },
        {
          "output_type": "stream",
          "text": [
            "Epoch: 85 Accuracy: 0.97701 Loss: 0.00164 : 100%|█████████████████| 261/261 [00:41<00:00,  6.25it/s]\n",
            "Epoch: 86 Accuracy: 1.00000 Loss: 0.00127 :   0%|                   | 1/261 [00:00<00:37,  6.91it/s]"
          ],
          "name": "stderr"
        },
        {
          "output_type": "stream",
          "text": [
            "Validation -- Accuracy: 0.87611 Loss: 0.19617 \n",
            "\n"
          ],
          "name": "stdout"
        },
        {
          "output_type": "stream",
          "text": [
            "Epoch: 86 Accuracy: 0.97318 Loss: 0.00727 : 100%|█████████████████| 261/261 [00:41<00:00,  6.29it/s]\n",
            "Epoch: 87 Accuracy: 1.00000 Loss: 0.00525 :   0%|                   | 1/261 [00:00<00:31,  8.13it/s]"
          ],
          "name": "stderr"
        },
        {
          "output_type": "stream",
          "text": [
            "Validation -- Accuracy: 0.93805 Loss: 0.00629 \n",
            "\n"
          ],
          "name": "stdout"
        },
        {
          "output_type": "stream",
          "text": [
            "Epoch: 87 Accuracy: 0.96169 Loss: 0.00305 : 100%|█████████████████| 261/261 [00:41<00:00,  6.29it/s]\n",
            "  0%|                                                                       | 0/261 [00:00<?, ?it/s]"
          ],
          "name": "stderr"
        },
        {
          "output_type": "stream",
          "text": [
            "Validation -- Accuracy: 0.86726 Loss: 0.00364 \n",
            "\n"
          ],
          "name": "stdout"
        },
        {
          "output_type": "stream",
          "text": [
            "Epoch: 88 Accuracy: 0.99234 Loss: 0.00074 : 100%|█████████████████| 261/261 [00:41<00:00,  6.35it/s]\n",
            "Epoch: 89 Accuracy: 1.00000 Loss: 0.00155 :   0%|                   | 1/261 [00:00<00:37,  6.99it/s]"
          ],
          "name": "stderr"
        },
        {
          "output_type": "stream",
          "text": [
            "Validation -- Accuracy: 0.94690 Loss: 0.00274 \n",
            "\n"
          ],
          "name": "stdout"
        },
        {
          "output_type": "stream",
          "text": [
            "Epoch: 89 Accuracy: 0.99234 Loss: 0.23721 : 100%|█████████████████| 261/261 [00:41<00:00,  6.31it/s]\n",
            "Epoch: 90 Accuracy: 1.00000 Loss: 0.00311 :   0%|                   | 1/261 [00:00<00:35,  7.25it/s]"
          ],
          "name": "stderr"
        },
        {
          "output_type": "stream",
          "text": [
            "Validation -- Accuracy: 0.93805 Loss: 0.06714 \n",
            "\n"
          ],
          "name": "stdout"
        },
        {
          "output_type": "stream",
          "text": [
            "Epoch: 90 Accuracy: 0.92337 Loss: 0.17076 : 100%|█████████████████| 261/261 [00:41<00:00,  6.31it/s]\n",
            "Epoch: 91 Accuracy: 0.00000 Loss: 4.93905 :   0%|                   | 1/261 [00:00<00:38,  6.80it/s]"
          ],
          "name": "stderr"
        },
        {
          "output_type": "stream",
          "text": [
            "Validation -- Accuracy: 0.90265 Loss: 0.77329 \n",
            "\n"
          ],
          "name": "stdout"
        },
        {
          "output_type": "stream",
          "text": [
            "Epoch: 91 Accuracy: 0.96169 Loss: 0.01323 : 100%|█████████████████| 261/261 [00:41<00:00,  6.36it/s]\n",
            "Epoch: 92 Accuracy: 1.00000 Loss: 0.02584 :   0%|                   | 1/261 [00:00<00:40,  6.34it/s]"
          ],
          "name": "stderr"
        },
        {
          "output_type": "stream",
          "text": [
            "Validation -- Accuracy: 0.92920 Loss: 0.12614 \n",
            "\n"
          ],
          "name": "stdout"
        },
        {
          "output_type": "stream",
          "text": [
            "Epoch: 92 Accuracy: 0.97701 Loss: 0.00718 : 100%|█████████████████| 261/261 [00:41<00:00,  6.35it/s]\n",
            "Epoch: 93 Accuracy: 1.00000 Loss: 0.00998 :   0%|                   | 1/261 [00:00<00:39,  6.57it/s]"
          ],
          "name": "stderr"
        },
        {
          "output_type": "stream",
          "text": [
            "Validation -- Accuracy: 0.92035 Loss: 0.74742 \n",
            "\n"
          ],
          "name": "stdout"
        },
        {
          "output_type": "stream",
          "text": [
            "Epoch: 93 Accuracy: 0.97318 Loss: 0.00347 : 100%|█████████████████| 261/261 [00:41<00:00,  6.31it/s]\n",
            "Epoch: 94 Accuracy: 1.00000 Loss: 0.00398 :   0%|                   | 1/261 [00:00<00:34,  7.51it/s]"
          ],
          "name": "stderr"
        },
        {
          "output_type": "stream",
          "text": [
            "Validation -- Accuracy: 0.93805 Loss: 1.57550 \n",
            "\n"
          ],
          "name": "stdout"
        },
        {
          "output_type": "stream",
          "text": [
            "Epoch: 94 Accuracy: 0.99234 Loss: 0.00046 : 100%|█████████████████| 261/261 [00:40<00:00,  6.37it/s]\n",
            "Epoch: 95 Accuracy: 1.00000 Loss: 0.00109 :   0%|                   | 1/261 [00:00<00:37,  6.88it/s]"
          ],
          "name": "stderr"
        },
        {
          "output_type": "stream",
          "text": [
            "Validation -- Accuracy: 0.92920 Loss: 1.68218 \n",
            "\n"
          ],
          "name": "stdout"
        },
        {
          "output_type": "stream",
          "text": [
            "Epoch: 95 Accuracy: 1.00000 Loss: 0.00131 : 100%|█████████████████| 261/261 [00:41<00:00,  6.33it/s]\n",
            "Epoch: 96 Accuracy: 1.00000 Loss: 0.00086 :   0%|                   | 1/261 [00:00<00:36,  7.08it/s]"
          ],
          "name": "stderr"
        },
        {
          "output_type": "stream",
          "text": [
            "Validation -- Accuracy: 0.95575 Loss: 0.77060 \n",
            "\n"
          ],
          "name": "stdout"
        },
        {
          "output_type": "stream",
          "text": [
            "Epoch: 96 Accuracy: 0.99234 Loss: 0.00139 : 100%|█████████████████| 261/261 [00:41<00:00,  6.30it/s]\n",
            "Epoch: 97 Accuracy: 1.00000 Loss: 0.00483 :   0%|                   | 1/261 [00:00<00:48,  5.33it/s]"
          ],
          "name": "stderr"
        },
        {
          "output_type": "stream",
          "text": [
            "Validation -- Accuracy: 0.86726 Loss: 5.17769 \n",
            "\n"
          ],
          "name": "stdout"
        },
        {
          "output_type": "stream",
          "text": [
            "Epoch: 97 Accuracy: 0.94636 Loss: 0.00447 : 100%|█████████████████| 261/261 [00:40<00:00,  6.37it/s]\n",
            "Epoch: 98 Accuracy: 1.00000 Loss: 0.03300 :   0%|                   | 1/261 [00:00<00:40,  6.42it/s]"
          ],
          "name": "stderr"
        },
        {
          "output_type": "stream",
          "text": [
            "Validation -- Accuracy: 0.88496 Loss: 4.43206 \n",
            "\n"
          ],
          "name": "stdout"
        },
        {
          "output_type": "stream",
          "text": [
            "Epoch: 98 Accuracy: 0.98084 Loss: 0.00201 : 100%|█████████████████| 261/261 [00:41<00:00,  6.29it/s]\n",
            "Epoch: 99 Accuracy: 1.00000 Loss: 0.00191 :   0%|                   | 1/261 [00:00<00:32,  8.12it/s]"
          ],
          "name": "stderr"
        },
        {
          "output_type": "stream",
          "text": [
            "Validation -- Accuracy: 0.94690 Loss: 0.55870 \n",
            "\n"
          ],
          "name": "stdout"
        },
        {
          "output_type": "stream",
          "text": [
            "Epoch: 99 Accuracy: 0.99617 Loss: 0.00153 : 100%|█████████████████| 261/261 [00:41<00:00,  6.26it/s]\n",
            "Epoch: 100 Accuracy: 1.00000 Loss: 0.00215 :   0%|                  | 1/261 [00:00<00:37,  6.89it/s]"
          ],
          "name": "stderr"
        },
        {
          "output_type": "stream",
          "text": [
            "Validation -- Accuracy: 0.94690 Loss: 0.20613 \n",
            "\n"
          ],
          "name": "stdout"
        },
        {
          "output_type": "stream",
          "text": [
            "Epoch: 100 Accuracy: 0.96169 Loss: 0.00355 : 100%|████████████████| 261/261 [00:42<00:00,  6.16it/s]\n"
          ],
          "name": "stderr"
        },
        {
          "output_type": "stream",
          "text": [
            "Validation -- Accuracy: 0.90265 Loss: 0.81185 \n",
            "\n"
          ],
          "name": "stdout"
        }
      ]
    },
    {
      "cell_type": "code",
      "metadata": {
        "colab": {
          "base_uri": "https://localhost:8080/",
          "height": 283
        },
        "id": "rpupTOMPlWD8",
        "outputId": "43b8fa0b-5d21-46fb-c4b8-46706627afca"
      },
      "source": [
        "history = pd.DataFrame({\"Train\":TRAINING_acc,\"Validation\":VALIDATION_acc})\n",
        "history.plot()"
      ],
      "execution_count": 17,
      "outputs": [
        {
          "output_type": "execute_result",
          "data": {
            "text/plain": [
              "<matplotlib.axes._subplots.AxesSubplot at 0x7f9320d34518>"
            ]
          },
          "metadata": {
            "tags": []
          },
          "execution_count": 17
        },
        {
          "output_type": "display_data",
          "data": {
            "image/png": "[encoded data removed]",
            "text/plain": [
              "<Figure size 432x288 with 1 Axes>"
            ]
          },
          "metadata": {
            "tags": [],
            "needs_background": "light"
          }
        }
      ]
    },
    {
      "cell_type": "code",
      "metadata": {
        "colab": {
          "base_uri": "https://localhost:8080/"
        },
        "id": "_PV_uLtQnaO4",
        "outputId": "ef5daa59-f200-4e7a-fc1f-1284931874b6"
      },
      "source": [
        "!ls"
      ],
      "execution_count": 18,
      "outputs": [
        {
          "output_type": "stream",
          "text": [
            "checkpoint_densenet161_1_0.71681.ph   checkpoint_densenet161_60_0.96460.ph\n",
            "checkpoint_densenet161_12_0.91150.ph  checkpoint_densenet161_6_0.88496.ph\n",
            "checkpoint_densenet161_18_0.93805.ph  checkpoint_densenet161_9_0.89381.ph\n",
            "checkpoint_densenet161_2_0.82301.ph   OpticDiscs\n",
            "checkpoint_densenet161_3_0.83186.ph   test_data.csv\n",
            "checkpoint_densenet161_5_0.84956.ph\n"
          ],
          "name": "stdout"
        }
      ]
    },
    {
      "cell_type": "code",
      "metadata": {
        "id": "VumKHi2Snf4F"
      },
      "source": [
        "torch.save(model,\"checkpoint.ph\")"
      ],
      "execution_count": 19,
      "outputs": []
    },
    {
      "cell_type": "code",
      "metadata": {
        "colab": {
          "base_uri": "https://localhost:8080/"
        },
        "id": "iYI16QYGyqLF",
        "outputId": "7148a34d-54aa-4c76-aafd-ebeb4d4b4e6e"
      },
      "source": [
        "for c in y:\n",
        "  print(c)"
      ],
      "execution_count": 20,
      "outputs": [
        {
          "output_type": "stream",
          "text": [
            "1\n"
          ],
          "name": "stdout"
        }
      ]
    },
    {
      "cell_type": "markdown",
      "metadata": {
        "id": "Hv2fODvHJlIM"
      },
      "source": [
        "## Evaluation"
      ]
    },
    {
      "cell_type": "code",
      "metadata": {
        "id": "5ennB90UVVmb"
      },
      "source": [
        "model = torch.load('checkpoint_densenet161_60_0.96460.ph')"
      ],
      "execution_count": 22,
      "outputs": []
    },
    {
      "cell_type": "code",
      "metadata": {
        "id": "VLd2H4FrJnXo"
      },
      "source": [
        "from sklearn.metrics import confusion_matrix\n",
        "import numpy as np"
      ],
      "execution_count": 23,
      "outputs": []
    },
    {
      "cell_type": "code",
      "metadata": {
        "id": "v6nVWUqYJoDh"
      },
      "source": [
        "predicted = []\n",
        "true_values = []\n",
        "for point in range(len(X_test)//batch_size):\n",
        "    with torch.no_grad():\n",
        "\n",
        "        X = X_test.iloc[point*batch_size:(point+1)*batch_size]\n",
        "        y = y_test.iloc[point*batch_size:(point+1)*batch_size]\n",
        "\n",
        "        true_values.append(y.values)\n",
        "        # Load images\n",
        "        try:\n",
        "            images = [Image.open(File) for File in X]\n",
        "        except:\n",
        "            continue\n",
        "        # Load y_true\n",
        "        y_true = torch.LongTensor([c for c in y]).to(device)\n",
        "        \n",
        "        # Convert images to tensor\n",
        "        x_batch = torch.FloatTensor().to(device)\n",
        "        for image in images:\n",
        "            P = composed(image).unsqueeze(0).to(device)\n",
        "            x_batch = torch.cat((x_batch,P))\n",
        "\n",
        "        \n",
        "        outputs = model(x_batch)\n",
        "        loss = criterion(outputs, y_true)\n",
        "        \n",
        "        _, preds = torch.max(outputs, 1)\n",
        "        predicted.append(preds)"
      ],
      "execution_count": 24,
      "outputs": []
    },
    {
      "cell_type": "code",
      "metadata": {
        "id": "NwUWGj_IKoup"
      },
      "source": [
        "true_values = np.array(true_values).reshape(-1)\n",
        "dummy = torch.FloatTensor().to(device)\n",
        "for tensor in predicted:\n",
        "    dummy = torch.cat((dummy,tensor))\n",
        "predicted = dummy.view(-1).cpu().numpy()"
      ],
      "execution_count": 25,
      "outputs": []
    },
    {
      "cell_type": "code",
      "metadata": {
        "colab": {
          "base_uri": "https://localhost:8080/"
        },
        "id": "FjxNUd7jk_-j",
        "outputId": "f8fdb6d3-6128-4a29-dc89-1e0abfccbed3"
      },
      "source": [
        "confusion_matrix(true_values, predicted)"
      ],
      "execution_count": 26,
      "outputs": [
        {
          "output_type": "execute_result",
          "data": {
            "text/plain": [
              "array([[44,  4],\n",
              "       [ 0, 65]])"
            ]
          },
          "metadata": {
            "tags": []
          },
          "execution_count": 26
        }
      ]
    },
    {
      "cell_type": "code",
      "metadata": {
        "id": "ukHy0FRQBGil"
      },
      "source": [
        ""
      ],
      "execution_count": null,
      "outputs": []
    }
  ]
}