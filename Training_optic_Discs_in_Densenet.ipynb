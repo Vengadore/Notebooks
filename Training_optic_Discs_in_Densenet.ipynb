{
  "nbformat": 4,
  "nbformat_minor": 0,
  "metadata": {
    "accelerator": "GPU",
    "colab": {
      "name": "Training_optic_Discs_in_Densenet.ipynb",
      "provenance": [],
      "toc_visible": true,
      "include_colab_link": true
    },
    "kernelspec": {
      "display_name": "Python 3",
      "language": "python",
      "name": "python3"
    },
    "language_info": {
      "codemirror_mode": {
        "name": "ipython",
        "version": 3
      },
      "file_extension": ".py",
      "mimetype": "text/x-python",
      "name": "python",
      "nbconvert_exporter": "python",
      "pygments_lexer": "ipython3",
      "version": "3.6.10"
    },
    "widgets": {
      "application/vnd.jupyter.widget-state+json": {
        "23e1369c9c8c45909e96ad9b1c97aa5f": {
          "model_module": "@jupyter-widgets/controls",
          "model_name": "HBoxModel",
          "state": {
            "_view_name": "HBoxView",
            "_dom_classes": [],
            "_model_name": "HBoxModel",
            "_view_module": "@jupyter-widgets/controls",
            "_model_module_version": "1.5.0",
            "_view_count": null,
            "_view_module_version": "1.5.0",
            "box_style": "",
            "layout": "IPY_MODEL_70439f6e3c314e97a93e75c904fbbcfd",
            "_model_module": "@jupyter-widgets/controls",
            "children": [
              "IPY_MODEL_b057ff5140534250bf01aafbcdc2a3b8",
              "IPY_MODEL_758b6f6e3cbb42adb9e773242c92fb74"
            ]
          }
        },
        "70439f6e3c314e97a93e75c904fbbcfd": {
          "model_module": "@jupyter-widgets/base",
          "model_name": "LayoutModel",
          "state": {
            "_view_name": "LayoutView",
            "grid_template_rows": null,
            "right": null,
            "justify_content": null,
            "_view_module": "@jupyter-widgets/base",
            "overflow": null,
            "_model_module_version": "1.2.0",
            "_view_count": null,
            "flex_flow": null,
            "width": null,
            "min_width": null,
            "border": null,
            "align_items": null,
            "bottom": null,
            "_model_module": "@jupyter-widgets/base",
            "top": null,
            "grid_column": null,
            "overflow_y": null,
            "overflow_x": null,
            "grid_auto_flow": null,
            "grid_area": null,
            "grid_template_columns": null,
            "flex": null,
            "_model_name": "LayoutModel",
            "justify_items": null,
            "grid_row": null,
            "max_height": null,
            "align_content": null,
            "visibility": null,
            "align_self": null,
            "height": null,
            "min_height": null,
            "padding": null,
            "grid_auto_rows": null,
            "grid_gap": null,
            "max_width": null,
            "order": null,
            "_view_module_version": "1.2.0",
            "grid_template_areas": null,
            "object_position": null,
            "object_fit": null,
            "grid_auto_columns": null,
            "margin": null,
            "display": null,
            "left": null
          }
        },
        "b057ff5140534250bf01aafbcdc2a3b8": {
          "model_module": "@jupyter-widgets/controls",
          "model_name": "FloatProgressModel",
          "state": {
            "_view_name": "ProgressView",
            "style": "IPY_MODEL_5c79498839d7469780029b30fa2dc3d5",
            "_dom_classes": [],
            "description": "100%",
            "_model_name": "FloatProgressModel",
            "bar_style": "success",
            "max": 115730790,
            "_view_module": "@jupyter-widgets/controls",
            "_model_module_version": "1.5.0",
            "value": 115730790,
            "_view_count": null,
            "_view_module_version": "1.5.0",
            "orientation": "horizontal",
            "min": 0,
            "description_tooltip": null,
            "_model_module": "@jupyter-widgets/controls",
            "layout": "IPY_MODEL_431a2046c5384c279475c6a0f0a33584"
          }
        },
        "758b6f6e3cbb42adb9e773242c92fb74": {
          "model_module": "@jupyter-widgets/controls",
          "model_name": "HTMLModel",
          "state": {
            "_view_name": "HTMLView",
            "style": "IPY_MODEL_203bcc77bfe0488caa09da7e9689bd6b",
            "_dom_classes": [],
            "description": "",
            "_model_name": "HTMLModel",
            "placeholder": "​",
            "_view_module": "@jupyter-widgets/controls",
            "_model_module_version": "1.5.0",
            "value": " 110M/110M [00:02&lt;00:00, 46.4MB/s]",
            "_view_count": null,
            "_view_module_version": "1.5.0",
            "description_tooltip": null,
            "_model_module": "@jupyter-widgets/controls",
            "layout": "IPY_MODEL_0fb53be1acf74be89a27c3217cea6192"
          }
        },
        "5c79498839d7469780029b30fa2dc3d5": {
          "model_module": "@jupyter-widgets/controls",
          "model_name": "ProgressStyleModel",
          "state": {
            "_view_name": "StyleView",
            "_model_name": "ProgressStyleModel",
            "description_width": "initial",
            "_view_module": "@jupyter-widgets/base",
            "_model_module_version": "1.5.0",
            "_view_count": null,
            "_view_module_version": "1.2.0",
            "bar_color": null,
            "_model_module": "@jupyter-widgets/controls"
          }
        },
        "431a2046c5384c279475c6a0f0a33584": {
          "model_module": "@jupyter-widgets/base",
          "model_name": "LayoutModel",
          "state": {
            "_view_name": "LayoutView",
            "grid_template_rows": null,
            "right": null,
            "justify_content": null,
            "_view_module": "@jupyter-widgets/base",
            "overflow": null,
            "_model_module_version": "1.2.0",
            "_view_count": null,
            "flex_flow": null,
            "width": null,
            "min_width": null,
            "border": null,
            "align_items": null,
            "bottom": null,
            "_model_module": "@jupyter-widgets/base",
            "top": null,
            "grid_column": null,
            "overflow_y": null,
            "overflow_x": null,
            "grid_auto_flow": null,
            "grid_area": null,
            "grid_template_columns": null,
            "flex": null,
            "_model_name": "LayoutModel",
            "justify_items": null,
            "grid_row": null,
            "max_height": null,
            "align_content": null,
            "visibility": null,
            "align_self": null,
            "height": null,
            "min_height": null,
            "padding": null,
            "grid_auto_rows": null,
            "grid_gap": null,
            "max_width": null,
            "order": null,
            "_view_module_version": "1.2.0",
            "grid_template_areas": null,
            "object_position": null,
            "object_fit": null,
            "grid_auto_columns": null,
            "margin": null,
            "display": null,
            "left": null
          }
        },
        "203bcc77bfe0488caa09da7e9689bd6b": {
          "model_module": "@jupyter-widgets/controls",
          "model_name": "DescriptionStyleModel",
          "state": {
            "_view_name": "StyleView",
            "_model_name": "DescriptionStyleModel",
            "description_width": "",
            "_view_module": "@jupyter-widgets/base",
            "_model_module_version": "1.5.0",
            "_view_count": null,
            "_view_module_version": "1.2.0",
            "_model_module": "@jupyter-widgets/controls"
          }
        },
        "0fb53be1acf74be89a27c3217cea6192": {
          "model_module": "@jupyter-widgets/base",
          "model_name": "LayoutModel",
          "state": {
            "_view_name": "LayoutView",
            "grid_template_rows": null,
            "right": null,
            "justify_content": null,
            "_view_module": "@jupyter-widgets/base",
            "overflow": null,
            "_model_module_version": "1.2.0",
            "_view_count": null,
            "flex_flow": null,
            "width": null,
            "min_width": null,
            "border": null,
            "align_items": null,
            "bottom": null,
            "_model_module": "@jupyter-widgets/base",
            "top": null,
            "grid_column": null,
            "overflow_y": null,
            "overflow_x": null,
            "grid_auto_flow": null,
            "grid_area": null,
            "grid_template_columns": null,
            "flex": null,
            "_model_name": "LayoutModel",
            "justify_items": null,
            "grid_row": null,
            "max_height": null,
            "align_content": null,
            "visibility": null,
            "align_self": null,
            "height": null,
            "min_height": null,
            "padding": null,
            "grid_auto_rows": null,
            "grid_gap": null,
            "max_width": null,
            "order": null,
            "_view_module_version": "1.2.0",
            "grid_template_areas": null,
            "object_position": null,
            "object_fit": null,
            "grid_auto_columns": null,
            "margin": null,
            "display": null,
            "left": null
          }
        }
      }
    }
  },
  "cells": [
    {
      "cell_type": "markdown",
      "metadata": {
        "id": "view-in-github",
        "colab_type": "text"
      },
      "source": [
        "<a href=\"https://colab.research.google.com/github/Vengadore/Notebooks/blob/master/Training_optic_Discs_in_Densenet.ipynb\" target=\"_parent\"><img src=\"https://colab.research.google.com/assets/colab-badge.svg\" alt=\"Open In Colab\"/></a>"
      ]
    },
    {
      "cell_type": "markdown",
      "metadata": {
        "id": "nVm5Ats_YVEZ"
      },
      "source": [
        "# Diabetic Retinopathy Detection\n",
        "\n",
        "Kaggle has a large competition of Diabetic Retinopathy detection which can be found here:\n",
        "https://www.kaggle.com/c/diabetic-retinopathy-detection/\n",
        "\n",
        "Their dataset consists in 35126 images labeled from 0 to 4 according to the degree of Retinopathy.\n",
        "An analysis of the data is provided in this notebook."
      ]
    },
    {
      "cell_type": "code",
      "metadata": {
        "colab": {
          "base_uri": "https://localhost:8080/"
        },
        "id": "QABUN5czaGrr",
        "outputId": "5496cfb5-ab8e-419a-92a0-38a7f16543ae"
      },
      "source": [
        "!rm -rf sample_data\n",
        "!nvidia-smi"
      ],
      "execution_count": 1,
      "outputs": [
        {
          "output_type": "stream",
          "text": [
            "Tue Apr 27 02:47:10 2021       \n",
            "+-----------------------------------------------------------------------------+\n",
            "| NVIDIA-SMI 465.19.01    Driver Version: 460.32.03    CUDA Version: 11.2     |\n",
            "|-------------------------------+----------------------+----------------------+\n",
            "| GPU  Name        Persistence-M| Bus-Id        Disp.A | Volatile Uncorr. ECC |\n",
            "| Fan  Temp  Perf  Pwr:Usage/Cap|         Memory-Usage | GPU-Util  Compute M. |\n",
            "|                               |                      |               MIG M. |\n",
            "|===============================+======================+======================|\n",
            "|   0  Tesla T4            Off  | 00000000:00:04.0 Off |                    0 |\n",
            "| N/A   56C    P8    11W /  70W |      0MiB / 15109MiB |      0%      Default |\n",
            "|                               |                      |                  N/A |\n",
            "+-------------------------------+----------------------+----------------------+\n",
            "                                                                               \n",
            "+-----------------------------------------------------------------------------+\n",
            "| Processes:                                                                  |\n",
            "|  GPU   GI   CI        PID   Type   Process name                  GPU Memory |\n",
            "|        ID   ID                                                   Usage      |\n",
            "|=============================================================================|\n",
            "|  No running processes found                                                 |\n",
            "+-----------------------------------------------------------------------------+\n"
          ],
          "name": "stdout"
        }
      ]
    },
    {
      "cell_type": "markdown",
      "metadata": {
        "id": "MrtmQaiBbcy5"
      },
      "source": [
        "### Install dependencies"
      ]
    },
    {
      "cell_type": "code",
      "metadata": {
        "id": "gKfg7kcTbb4h"
      },
      "source": [
        "from IPython.display import clear_output\n",
        "\n",
        "#!pip install torch==1.7.1+cu101 torchvision==0.8.1+cu101 -f https://download.pytorch.org/whl/torch_stable.html\n",
        "#!pip install efficientnet_pytorch\n",
        "clear_output(wait=False)"
      ],
      "execution_count": 2,
      "outputs": []
    },
    {
      "cell_type": "markdown",
      "metadata": {
        "id": "AO_cEyuIeDjq"
      },
      "source": [
        "## Load data from local drive\n"
      ]
    },
    {
      "cell_type": "code",
      "metadata": {
        "colab": {
          "base_uri": "https://localhost:8080/"
        },
        "id": "BWk0Ox2ueHNB",
        "outputId": "a5ab39c8-3cd1-4643-a7d5-e4bb74f45b8a"
      },
      "source": [
        "## ORIGINAL DATA\n",
        "\n",
        "!wget -O File.zip \"https://correoipn-my.sharepoint.com/:u:/g/personal/ccarrillog1400_alumno_ipn_mx/ETdcB8GscyBAkhUFvNMzpoUBLLgg7ej9Q3t4rK_bR8ngSA?download=1\"\n",
        "!unzip File.zip\n",
        "!rm File.zip\n",
        "clear_output(wait=False)\n",
        "print(\"Data Downloaded\")"
      ],
      "execution_count": 4,
      "outputs": [
        {
          "output_type": "stream",
          "text": [
            "Data Downloaded\n"
          ],
          "name": "stdout"
        }
      ]
    },
    {
      "cell_type": "code",
      "metadata": {
        "id": "NTK15B1S1QLg"
      },
      "source": [
        "!wget -O File.zip \"https://correoipn-my.sharepoint.com/:u:/g/personal/ccarrillog1400_alumno_ipn_mx/Ea5EziAZKiVGgvYIqubZk04BSQOx4B1IMXLqQu8Fc5nKOA?download=1\"\n",
        "!unzip File.zip\n",
        "!rm File.zip\n",
        "clear_output(wait = False)"
      ],
      "execution_count": 5,
      "outputs": []
    },
    {
      "cell_type": "code",
      "metadata": {
        "id": "PUCY7oQLorC9",
        "outputId": "41984ac3-2caa-4644-da46-11a74c1566c3",
        "colab": {
          "base_uri": "https://localhost:8080/"
        }
      },
      "source": [
        "!rm checkpoint*"
      ],
      "execution_count": 6,
      "outputs": [
        {
          "output_type": "stream",
          "text": [
            "rm: cannot remove 'checkpoint*': No such file or directory\n"
          ],
          "name": "stdout"
        }
      ]
    },
    {
      "cell_type": "code",
      "metadata": {
        "colab": {
          "base_uri": "https://localhost:8080/",
          "height": 206
        },
        "id": "dNqkjvcUetED",
        "outputId": "37b658a0-424e-4221-aee5-f1c5e28c5a8d"
      },
      "source": [
        "import pandas as pd\n",
        "import os\n",
        "\n",
        "Bad =  pd.DataFrame({\"imageFilename\":[os.path.join(\"./OpticDiscs/LVL4_OD\",File) for File in os.listdir(\"./OpticDiscs/LVL4_OD\") if \".jpeg\" in File]})\n",
        "Good = pd.DataFrame({\"imageFilename\":[os.path.join(\"./OpticDiscs/LVL0_OD\",File) for File in os.listdir(\"./OpticDiscs/LVL0_OD\") if \".jpeg\" in File]}).sample(len(Bad),random_state = 42)\n",
        "\n",
        "data = pd.concat((Good,Bad),axis = 0)\n",
        "data.head()\n",
        "data['class'] = data['imageFilename'].apply(lambda x : 1 if \"LVL0\" in x else 0)\n",
        "data = data.reset_index()\n",
        "data = data[['imageFilename','class']]\n",
        "data.head()"
      ],
      "execution_count": 7,
      "outputs": [
        {
          "output_type": "execute_result",
          "data": {
            "text/html": [
              "<div>\n",
              "<style scoped>\n",
              "    .dataframe tbody tr th:only-of-type {\n",
              "        vertical-align: middle;\n",
              "    }\n",
              "\n",
              "    .dataframe tbody tr th {\n",
              "        vertical-align: top;\n",
              "    }\n",
              "\n",
              "    .dataframe thead th {\n",
              "        text-align: right;\n",
              "    }\n",
              "</style>\n",
              "<table border=\"1\" class=\"dataframe\">\n",
              "  <thead>\n",
              "    <tr style=\"text-align: right;\">\n",
              "      <th></th>\n",
              "      <th>imageFilename</th>\n",
              "      <th>class</th>\n",
              "    </tr>\n",
              "  </thead>\n",
              "  <tbody>\n",
              "    <tr>\n",
              "      <th>0</th>\n",
              "      <td>./OpticDiscs/LVL0_OD/263_p_41307_right.jpeg</td>\n",
              "      <td>1</td>\n",
              "    </tr>\n",
              "    <tr>\n",
              "      <th>1</th>\n",
              "      <td>./OpticDiscs/LVL0_OD/258_p_40410_right.jpeg</td>\n",
              "      <td>1</td>\n",
              "    </tr>\n",
              "    <tr>\n",
              "      <th>2</th>\n",
              "      <td>./OpticDiscs/LVL0_OD/186_p_29423_right.jpeg</td>\n",
              "      <td>1</td>\n",
              "    </tr>\n",
              "    <tr>\n",
              "      <th>3</th>\n",
              "      <td>./OpticDiscs/LVL0_OD/182_p_28949_right.jpeg</td>\n",
              "      <td>1</td>\n",
              "    </tr>\n",
              "    <tr>\n",
              "      <th>4</th>\n",
              "      <td>./OpticDiscs/LVL0_OD/8_p_1772_left.jpeg</td>\n",
              "      <td>1</td>\n",
              "    </tr>\n",
              "  </tbody>\n",
              "</table>\n",
              "</div>"
            ],
            "text/plain": [
              "                                 imageFilename  class\n",
              "0  ./OpticDiscs/LVL0_OD/263_p_41307_right.jpeg      1\n",
              "1  ./OpticDiscs/LVL0_OD/258_p_40410_right.jpeg      1\n",
              "2  ./OpticDiscs/LVL0_OD/186_p_29423_right.jpeg      1\n",
              "3  ./OpticDiscs/LVL0_OD/182_p_28949_right.jpeg      1\n",
              "4      ./OpticDiscs/LVL0_OD/8_p_1772_left.jpeg      1"
            ]
          },
          "metadata": {
            "tags": []
          },
          "execution_count": 7
        }
      ]
    },
    {
      "cell_type": "code",
      "metadata": {
        "colab": {
          "base_uri": "https://localhost:8080/"
        },
        "id": "s3N0Ue5MCvlk",
        "outputId": "f7bdd2d6-0e1f-4115-a5eb-d85cce1613cc"
      },
      "source": [
        "len(data)"
      ],
      "execution_count": 8,
      "outputs": [
        {
          "output_type": "execute_result",
          "data": {
            "text/plain": [
              "396"
            ]
          },
          "metadata": {
            "tags": []
          },
          "execution_count": 8
        }
      ]
    },
    {
      "cell_type": "markdown",
      "metadata": {
        "id": "deKSOu-Kd8Yk"
      },
      "source": [
        "#### Split data"
      ]
    },
    {
      "cell_type": "code",
      "metadata": {
        "id": "4w3TUlaqd7qi"
      },
      "source": [
        "from sklearn.model_selection import train_test_split\n",
        "\n",
        "Train,Validation = train_test_split(data,test_size = 0.40,random_state = 65)\n",
        "X_train = Train['imageFilename']\n",
        "y_train = Train['class']\n",
        "#Split data\n",
        "X_validation, X_test, y_validation, y_test = train_test_split(Validation['imageFilename'], Validation['class'], test_size=0.50, random_state=65)\n"
      ],
      "execution_count": 9,
      "outputs": []
    },
    {
      "cell_type": "code",
      "metadata": {
        "colab": {
          "base_uri": "https://localhost:8080/"
        },
        "id": "n3hQn37YfvsA",
        "outputId": "a5b1a874-92ee-43fa-b33a-cd9aed734b15"
      },
      "source": [
        "print(\"Datos de entrenamiento:\")\n",
        "print(y_train.value_counts())\n",
        "print(\"Datos de validación:\")\n",
        "print(y_validation.value_counts())\n",
        "print(\"Datos de test:\")\n",
        "print(y_test.value_counts())"
      ],
      "execution_count": 10,
      "outputs": [
        {
          "output_type": "stream",
          "text": [
            "Datos de entrenamiento:\n",
            "0    122\n",
            "1    115\n",
            "Name: class, dtype: int64\n",
            "Datos de validación:\n",
            "0    40\n",
            "1    39\n",
            "Name: class, dtype: int64\n",
            "Datos de test:\n",
            "1    44\n",
            "0    36\n",
            "Name: class, dtype: int64\n"
          ],
          "name": "stdout"
        }
      ]
    },
    {
      "cell_type": "code",
      "metadata": {
        "colab": {
          "base_uri": "https://localhost:8080/",
          "height": 206
        },
        "id": "nVIy3dn7eKFq",
        "outputId": "19154beb-58dc-40fe-bc29-5b5876b251c7"
      },
      "source": [
        "test_data = pd.DataFrame({'image':X_test,'class':y_test})\n",
        "test_data['image'] = test_data['image'].apply(lambda x : x.split('/')[-1])\n",
        "test_data.head()"
      ],
      "execution_count": 11,
      "outputs": [
        {
          "output_type": "execute_result",
          "data": {
            "text/html": [
              "<div>\n",
              "<style scoped>\n",
              "    .dataframe tbody tr th:only-of-type {\n",
              "        vertical-align: middle;\n",
              "    }\n",
              "\n",
              "    .dataframe tbody tr th {\n",
              "        vertical-align: top;\n",
              "    }\n",
              "\n",
              "    .dataframe thead th {\n",
              "        text-align: right;\n",
              "    }\n",
              "</style>\n",
              "<table border=\"1\" class=\"dataframe\">\n",
              "  <thead>\n",
              "    <tr style=\"text-align: right;\">\n",
              "      <th></th>\n",
              "      <th>image</th>\n",
              "      <th>class</th>\n",
              "    </tr>\n",
              "  </thead>\n",
              "  <tbody>\n",
              "    <tr>\n",
              "      <th>43</th>\n",
              "      <td>151_p_23982_right.jpeg</td>\n",
              "      <td>1</td>\n",
              "    </tr>\n",
              "    <tr>\n",
              "      <th>156</th>\n",
              "      <td>69_p_11365_left.jpeg</td>\n",
              "      <td>1</td>\n",
              "    </tr>\n",
              "    <tr>\n",
              "      <th>56</th>\n",
              "      <td>266_p_41580_left.jpeg</td>\n",
              "      <td>1</td>\n",
              "    </tr>\n",
              "    <tr>\n",
              "      <th>67</th>\n",
              "      <td>279_p_43467_left.jpeg</td>\n",
              "      <td>1</td>\n",
              "    </tr>\n",
              "    <tr>\n",
              "      <th>190</th>\n",
              "      <td>233_p_36533_left.jpeg</td>\n",
              "      <td>1</td>\n",
              "    </tr>\n",
              "  </tbody>\n",
              "</table>\n",
              "</div>"
            ],
            "text/plain": [
              "                      image  class\n",
              "43   151_p_23982_right.jpeg      1\n",
              "156    69_p_11365_left.jpeg      1\n",
              "56    266_p_41580_left.jpeg      1\n",
              "67    279_p_43467_left.jpeg      1\n",
              "190   233_p_36533_left.jpeg      1"
            ]
          },
          "metadata": {
            "tags": []
          },
          "execution_count": 11
        }
      ]
    },
    {
      "cell_type": "code",
      "metadata": {
        "id": "1YsYT7VjerXq"
      },
      "source": [
        "test_data.to_csv('test_data.csv',index=False)"
      ],
      "execution_count": 12,
      "outputs": []
    },
    {
      "cell_type": "markdown",
      "metadata": {
        "id": "mPh3qDdIdkHh"
      },
      "source": [
        "## Definition of the model"
      ]
    },
    {
      "cell_type": "code",
      "metadata": {
        "id": "Z-FUmuJidoy3",
        "outputId": "b230b3ec-ae47-49ed-bb5e-472281680a5c",
        "colab": {
          "base_uri": "https://localhost:8080/",
          "height": 86,
          "referenced_widgets": [
            "23e1369c9c8c45909e96ad9b1c97aa5f",
            "70439f6e3c314e97a93e75c904fbbcfd",
            "b057ff5140534250bf01aafbcdc2a3b8",
            "758b6f6e3cbb42adb9e773242c92fb74",
            "5c79498839d7469780029b30fa2dc3d5",
            "431a2046c5384c279475c6a0f0a33584",
            "203bcc77bfe0488caa09da7e9689bd6b",
            "0fb53be1acf74be89a27c3217cea6192"
          ]
        }
      },
      "source": [
        "import torchvision.models as models\n",
        "import torch\n",
        "network_name = 'densenet161'\n",
        "model = models.densenet161(pretrained=True)"
      ],
      "execution_count": 13,
      "outputs": [
        {
          "output_type": "stream",
          "text": [
            "Downloading: \"https://download.pytorch.org/models/densenet161-8d451a50.pth\" to /root/.cache/torch/hub/checkpoints/densenet161-8d451a50.pth\n"
          ],
          "name": "stderr"
        },
        {
          "output_type": "display_data",
          "data": {
            "application/vnd.jupyter.widget-view+json": {
              "model_id": "23e1369c9c8c45909e96ad9b1c97aa5f",
              "version_minor": 0,
              "version_major": 2
            },
            "text/plain": [
              "HBox(children=(FloatProgress(value=0.0, max=115730790.0), HTML(value='')))"
            ]
          },
          "metadata": {
            "tags": []
          }
        },
        {
          "output_type": "stream",
          "text": [
            "\n"
          ],
          "name": "stdout"
        }
      ]
    },
    {
      "cell_type": "code",
      "metadata": {
        "colab": {
          "base_uri": "https://localhost:8080/"
        },
        "id": "drpW39Qwj3l9",
        "outputId": "87505aea-dac3-4b00-ed69-61d54de0d46a"
      },
      "source": [
        "model.classifier"
      ],
      "execution_count": 14,
      "outputs": [
        {
          "output_type": "execute_result",
          "data": {
            "text/plain": [
              "Linear(in_features=2208, out_features=1000, bias=True)"
            ]
          },
          "metadata": {
            "tags": []
          },
          "execution_count": 14
        }
      ]
    },
    {
      "cell_type": "code",
      "metadata": {
        "id": "Cu_aoH7-tBsT"
      },
      "source": [
        "## Change efficientnet final layer\n",
        "model.classifier = torch.nn.Linear(in_features=2208,out_features=2,bias = True)"
      ],
      "execution_count": 15,
      "outputs": []
    },
    {
      "cell_type": "code",
      "metadata": {
        "colab": {
          "base_uri": "https://localhost:8080/"
        },
        "id": "dNns-LOy6TrK",
        "outputId": "446580fd-59f3-43e3-a807-d647e3f9dd84"
      },
      "source": [
        "def count_parameters(model):\n",
        "    return sum(p.numel() for p in model.parameters() if p.requires_grad)\n",
        "\n",
        "count_parameters(model)"
      ],
      "execution_count": 16,
      "outputs": [
        {
          "output_type": "execute_result",
          "data": {
            "text/plain": [
              "26476418"
            ]
          },
          "metadata": {
            "tags": []
          },
          "execution_count": 16
        }
      ]
    },
    {
      "cell_type": "code",
      "metadata": {
        "id": "5BR_Hs12gAqx"
      },
      "source": [
        "from torchvision.transforms import Resize,ToTensor,Compose,Normalize\n",
        "from torchvision.transforms import RandomHorizontalFlip,RandomVerticalFlip,RandomRotation,ColorJitter,RandomResizedCrop,RandomPerspective,GaussianBlur\n",
        "from PIL import Image\n",
        "\n",
        "transforms = Compose([RandomHorizontalFlip(),RandomVerticalFlip(),\n",
        "                      RandomRotation(180),ColorJitter(0.5,0.5,0.5),\n",
        "                      RandomResizedCrop((224 ,224), scale=(0.7, 1.2)),\n",
        "                      RandomPerspective(),\n",
        "                      GaussianBlur((3,3))]) # Transformations for the training images\n",
        "\n",
        "composed = Compose([Resize(224), # Resize to a fit size for efficientnet\n",
        "                    ToTensor(),  # Convert into sensor\n",
        "                    Normalize((0.5, 0.5, 0.5), (0.5, 0.5, 0.5))]) # Normalize image"
      ],
      "execution_count": 17,
      "outputs": []
    },
    {
      "cell_type": "markdown",
      "metadata": {
        "id": "mWg1p7EQtqVZ"
      },
      "source": [
        "### Training parameters"
      ]
    },
    {
      "cell_type": "code",
      "metadata": {
        "id": "EiT-MlPutsZR"
      },
      "source": [
        "device = torch.device('cuda' if torch.cuda.is_available() else 'cpu')\n",
        "model.to(device);\n",
        "seed = 17\n",
        "torch.manual_seed(seed)\n",
        "criterion = torch.nn.CrossEntropyLoss()\n",
        "optimizer = torch.optim.Adam(model.parameters(), lr=0.00005)"
      ],
      "execution_count": 18,
      "outputs": []
    },
    {
      "cell_type": "code",
      "metadata": {
        "id": "iJWflI4JoVRW",
        "outputId": "ba57fcec-1a4d-4d25-b127-a15bec4a65a6",
        "colab": {
          "base_uri": "https://localhost:8080/"
        }
      },
      "source": [
        "try:\n",
        "    model = torch.load('./checkpoint_densenet161_87_0.93333.ph', map_location=device)\n",
        "except:\n",
        "    print(\"No Checkpoint loaded\")"
      ],
      "execution_count": 19,
      "outputs": [
        {
          "output_type": "stream",
          "text": [
            "No Checkpoint loaded\n"
          ],
          "name": "stdout"
        }
      ]
    },
    {
      "cell_type": "code",
      "metadata": {
        "id": "lcTzzyr5uUdr"
      },
      "source": [
        "classes = {0:[0,0,0,0,1],\n",
        "           1:[0,0,0,1,0],\n",
        "           2:[0,0,1,0,0],\n",
        "           3:[0,1,0,0,0],\n",
        "           4:[1,0,0,0,0]}"
      ],
      "execution_count": 20,
      "outputs": []
    },
    {
      "cell_type": "code",
      "metadata": {
        "colab": {
          "base_uri": "https://localhost:8080/"
        },
        "id": "RkvlQWRQtjXo",
        "outputId": "beb10369-3714-4cfd-e015-c3d42b5e6a14"
      },
      "source": [
        "from tqdm import tqdm\n",
        "import random\n",
        "random.seed(seed)\n",
        "\n",
        "epochs = 100\n",
        "batch_size = 1  # I will use batch size of 1 to keep the ratio of each image\n",
        "\n",
        "TRAINING_acc = []\n",
        "VALIDATION_acc = []\n",
        "BEST_val_acc = 0.0\n",
        "\n",
        "for epoch in range(epochs):\n",
        "    \n",
        "    indexes = [idx for idx in range(len(X_train))]\n",
        "    pbar = tqdm( range(len(X_train)//batch_size),ncols = 100)\n",
        "    running_loss = 0.0\n",
        "    running_acc = 0.0\n",
        "    t = 0\n",
        "\n",
        "    for step in pbar:\n",
        "        # Load data\n",
        "        idx = random.sample(indexes,batch_size)\n",
        "        X = X_train.iloc[idx]\n",
        "        y = y_train.iloc[idx]\n",
        "\n",
        "        # Remove indexes\n",
        "        [indexes.remove(i) for i in idx]\n",
        "\n",
        "        # Load images\n",
        "        try:\n",
        "            images = [Image.open(File) for File in X]\n",
        "        except:\n",
        "            continue\n",
        "        # Load y_true\n",
        "        y_true = torch.LongTensor([c for c in y]).to(device)\n",
        "        \n",
        "        # Convert images to tensor\n",
        "        x_batch = torch.FloatTensor().to(device)\n",
        "        for image in images:\n",
        "            P = transforms(image)\n",
        "            P = composed(P).unsqueeze(0).to(device)\n",
        "            x_batch = torch.cat((x_batch,P))\n",
        "\n",
        "        # zero the parameter gradients\n",
        "        optimizer.zero_grad()\n",
        "        # forward + backward + optimize\n",
        "        outputs = model(x_batch)\n",
        "        loss = criterion(outputs, y_true)\n",
        "        loss.backward()\n",
        "        optimizer.step()\n",
        "        # print statistics\n",
        "        running_loss += loss.item()\n",
        "        t += batch_size\n",
        "\n",
        "        _, preds = torch.max(outputs, 1)\n",
        "        running_acc += torch.sum(preds == y_true).cpu().detach().numpy()\n",
        "        acc = torch.sum(preds == y_true).cpu().detach().numpy()/batch_size;\n",
        "        pbar.set_description(\"Epoch: {} Accuracy: {:0.5f} Loss: {:0.5f} \".format(epoch+1,running_acc/t,loss.item()))\n",
        "    #Validation\n",
        "    TRAINING_acc.append(running_acc/t)\n",
        "    val_acc = 0.0\n",
        "    val_loss = 0.0\n",
        "    t = 0\n",
        "    for point in range(len(X_validation)//batch_size):\n",
        "        with torch.no_grad():\n",
        "\n",
        "            X = X_validation.iloc[point*batch_size:(point+1)*batch_size]\n",
        "            y = y_validation.iloc[point*batch_size:(point+1)*batch_size]\n",
        "\n",
        "\n",
        "            # Load images\n",
        "            try:\n",
        "                images = [Image.open(File) for File in X]\n",
        "            except:\n",
        "                continue\n",
        "            # Load y_true\n",
        "            y_true = torch.LongTensor([c for c in y]).to(device)\n",
        "            \n",
        "            # Convert images to tensor\n",
        "            x_batch = torch.FloatTensor().to(device)\n",
        "            for image in images:\n",
        "                P = composed(image).unsqueeze(0).to(device)\n",
        "                x_batch = torch.cat((x_batch,P))\n",
        "\n",
        "            \n",
        "            outputs = model(x_batch)\n",
        "            loss = criterion(outputs, y_true)\n",
        "            val_loss += loss.item()\n",
        "            t += batch_size\n",
        "            _, preds = torch.max(outputs, 1)\n",
        "            val_acc += torch.sum(preds == y_true).cpu().detach().numpy()\n",
        "    VALIDATION_acc.append(val_acc/t)\n",
        "    print(\"Validation -- Accuracy: {:0.5f} Loss: {:0.5f} \\n\".format(val_acc/t,loss.item()))\n",
        "    if val_acc/t > BEST_val_acc:\n",
        "        try:\n",
        "            torch.save(model,\"/content/checkpoint_{}_{}_{:0.5f}.ph\".format(network_name,epoch+1,val_acc/t))\n",
        "            BEST_val_acc = val_acc/t\n",
        "        except:\n",
        "            continue"
      ],
      "execution_count": 21,
      "outputs": [
        {
          "output_type": "stream",
          "text": [
            "Epoch: 1 Accuracy: 0.51477 Loss: 0.78669 : 100%|██████████████████| 237/237 [00:36<00:00,  6.56it/s]\n"
          ],
          "name": "stderr"
        },
        {
          "output_type": "stream",
          "text": [
            "Validation -- Accuracy: 0.50633 Loss: 0.72086 \n",
            "\n"
          ],
          "name": "stdout"
        },
        {
          "output_type": "stream",
          "text": [
            "Epoch: 2 Accuracy: 0.53165 Loss: 0.63316 : 100%|██████████████████| 237/237 [00:35<00:00,  6.72it/s]\n",
            "Epoch: 3 Accuracy: 1.00000 Loss: 0.66840 :   0%|                    | 1/237 [00:00<00:28,  8.15it/s]"
          ],
          "name": "stderr"
        },
        {
          "output_type": "stream",
          "text": [
            "Validation -- Accuracy: 0.50633 Loss: 0.59783 \n",
            "\n"
          ],
          "name": "stdout"
        },
        {
          "output_type": "stream",
          "text": [
            "Epoch: 3 Accuracy: 0.58228 Loss: 0.49688 : 100%|██████████████████| 237/237 [00:35<00:00,  6.74it/s]\n"
          ],
          "name": "stderr"
        },
        {
          "output_type": "stream",
          "text": [
            "Validation -- Accuracy: 0.62025 Loss: 0.54636 \n",
            "\n"
          ],
          "name": "stdout"
        },
        {
          "output_type": "stream",
          "text": [
            "Epoch: 4 Accuracy: 0.70042 Loss: 1.34535 : 100%|██████████████████| 237/237 [00:35<00:00,  6.68it/s]\n"
          ],
          "name": "stderr"
        },
        {
          "output_type": "stream",
          "text": [
            "Validation -- Accuracy: 0.74684 Loss: 0.36807 \n",
            "\n"
          ],
          "name": "stdout"
        },
        {
          "output_type": "stream",
          "text": [
            "Epoch: 5 Accuracy: 0.70042 Loss: 0.64777 : 100%|██████████████████| 237/237 [00:36<00:00,  6.57it/s]\n",
            "Epoch: 6 Accuracy: 0.00000 Loss: 1.17692 :   0%|                    | 1/237 [00:00<00:33,  7.10it/s]"
          ],
          "name": "stderr"
        },
        {
          "output_type": "stream",
          "text": [
            "Validation -- Accuracy: 0.70886 Loss: 0.61084 \n",
            "\n"
          ],
          "name": "stdout"
        },
        {
          "output_type": "stream",
          "text": [
            "Epoch: 6 Accuracy: 0.67932 Loss: 0.32651 : 100%|██████████████████| 237/237 [00:36<00:00,  6.54it/s]\n",
            "Epoch: 7 Accuracy: 1.00000 Loss: 0.16925 :   0%|                    | 1/237 [00:00<00:38,  6.09it/s]"
          ],
          "name": "stderr"
        },
        {
          "output_type": "stream",
          "text": [
            "Validation -- Accuracy: 0.73418 Loss: 0.87362 \n",
            "\n"
          ],
          "name": "stdout"
        },
        {
          "output_type": "stream",
          "text": [
            "Epoch: 7 Accuracy: 0.74684 Loss: 0.77883 : 100%|██████████████████| 237/237 [00:35<00:00,  6.60it/s]\n",
            "Epoch: 8 Accuracy: 1.00000 Loss: 0.31720 :   0%|                    | 1/237 [00:00<00:32,  7.21it/s]"
          ],
          "name": "stderr"
        },
        {
          "output_type": "stream",
          "text": [
            "Validation -- Accuracy: 0.65823 Loss: 1.33575 \n",
            "\n"
          ],
          "name": "stdout"
        },
        {
          "output_type": "stream",
          "text": [
            "Epoch: 8 Accuracy: 0.72152 Loss: 0.13755 : 100%|██████████████████| 237/237 [00:35<00:00,  6.71it/s]\n",
            "Epoch: 9 Accuracy: 0.00000 Loss: 1.29874 :   0%|                    | 1/237 [00:00<00:30,  7.82it/s]"
          ],
          "name": "stderr"
        },
        {
          "output_type": "stream",
          "text": [
            "Validation -- Accuracy: 0.55696 Loss: 0.12342 \n",
            "\n"
          ],
          "name": "stdout"
        },
        {
          "output_type": "stream",
          "text": [
            "Epoch: 9 Accuracy: 0.81435 Loss: 0.43519 : 100%|██████████████████| 237/237 [00:35<00:00,  6.74it/s]\n"
          ],
          "name": "stderr"
        },
        {
          "output_type": "stream",
          "text": [
            "Validation -- Accuracy: 0.79747 Loss: 0.18069 \n",
            "\n"
          ],
          "name": "stdout"
        },
        {
          "output_type": "stream",
          "text": [
            "Epoch: 10 Accuracy: 0.74684 Loss: 0.48338 : 100%|█████████████████| 237/237 [00:35<00:00,  6.70it/s]\n",
            "Epoch: 11 Accuracy: 0.00000 Loss: 0.81531 :   0%|                   | 1/237 [00:00<00:32,  7.27it/s]"
          ],
          "name": "stderr"
        },
        {
          "output_type": "stream",
          "text": [
            "Validation -- Accuracy: 0.79747 Loss: 0.21052 \n",
            "\n"
          ],
          "name": "stdout"
        },
        {
          "output_type": "stream",
          "text": [
            "Epoch: 11 Accuracy: 0.80169 Loss: 0.14473 : 100%|█████████████████| 237/237 [00:35<00:00,  6.75it/s]\n",
            "Epoch: 12 Accuracy: 0.00000 Loss: 0.95608 :   0%|                   | 1/237 [00:00<00:39,  5.90it/s]"
          ],
          "name": "stderr"
        },
        {
          "output_type": "stream",
          "text": [
            "Validation -- Accuracy: 0.62025 Loss: 0.14806 \n",
            "\n"
          ],
          "name": "stdout"
        },
        {
          "output_type": "stream",
          "text": [
            "Epoch: 12 Accuracy: 0.79747 Loss: 1.22401 : 100%|█████████████████| 237/237 [00:35<00:00,  6.74it/s]\n",
            "Epoch: 13 Accuracy: 1.00000 Loss: 0.12467 :   0%|                   | 1/237 [00:00<00:28,  8.36it/s]"
          ],
          "name": "stderr"
        },
        {
          "output_type": "stream",
          "text": [
            "Validation -- Accuracy: 0.75949 Loss: 0.26230 \n",
            "\n"
          ],
          "name": "stdout"
        },
        {
          "output_type": "stream",
          "text": [
            "Epoch: 13 Accuracy: 0.80591 Loss: 0.09980 : 100%|█████████████████| 237/237 [00:34<00:00,  6.80it/s]\n",
            "Epoch: 14 Accuracy: 1.00000 Loss: 0.16466 :   0%|                   | 1/237 [00:00<00:31,  7.38it/s]"
          ],
          "name": "stderr"
        },
        {
          "output_type": "stream",
          "text": [
            "Validation -- Accuracy: 0.75949 Loss: 0.45449 \n",
            "\n"
          ],
          "name": "stdout"
        },
        {
          "output_type": "stream",
          "text": [
            "Epoch: 14 Accuracy: 0.80169 Loss: 1.33743 : 100%|█████████████████| 237/237 [00:36<00:00,  6.57it/s]\n",
            "Epoch: 15 Accuracy: 1.00000 Loss: 0.67022 :   0%|                   | 1/237 [00:00<00:29,  7.90it/s]"
          ],
          "name": "stderr"
        },
        {
          "output_type": "stream",
          "text": [
            "Validation -- Accuracy: 0.73418 Loss: 0.10766 \n",
            "\n"
          ],
          "name": "stdout"
        },
        {
          "output_type": "stream",
          "text": [
            "Epoch: 15 Accuracy: 0.85232 Loss: 0.07991 : 100%|█████████████████| 237/237 [00:36<00:00,  6.53it/s]\n",
            "Epoch: 16 Accuracy: 1.00000 Loss: 0.07234 :   0%|                   | 1/237 [00:00<00:27,  8.50it/s]"
          ],
          "name": "stderr"
        },
        {
          "output_type": "stream",
          "text": [
            "Validation -- Accuracy: 0.69620 Loss: 0.18181 \n",
            "\n"
          ],
          "name": "stdout"
        },
        {
          "output_type": "stream",
          "text": [
            "Epoch: 16 Accuracy: 0.82278 Loss: 0.07212 : 100%|█████████████████| 237/237 [00:35<00:00,  6.66it/s]\n",
            "Epoch: 17 Accuracy: 0.00000 Loss: 1.55097 :   0%|                   | 1/237 [00:00<00:32,  7.30it/s]"
          ],
          "name": "stderr"
        },
        {
          "output_type": "stream",
          "text": [
            "Validation -- Accuracy: 0.79747 Loss: 0.11291 \n",
            "\n"
          ],
          "name": "stdout"
        },
        {
          "output_type": "stream",
          "text": [
            "Epoch: 17 Accuracy: 0.86498 Loss: 0.09454 : 100%|█████████████████| 237/237 [00:35<00:00,  6.70it/s]\n",
            "Epoch: 18 Accuracy: 1.00000 Loss: 0.31844 :   0%|                   | 1/237 [00:00<00:32,  7.26it/s]"
          ],
          "name": "stderr"
        },
        {
          "output_type": "stream",
          "text": [
            "Validation -- Accuracy: 0.70886 Loss: 0.06235 \n",
            "\n"
          ],
          "name": "stdout"
        },
        {
          "output_type": "stream",
          "text": [
            "Epoch: 18 Accuracy: 0.83966 Loss: 0.15772 : 100%|█████████████████| 237/237 [00:35<00:00,  6.67it/s]\n"
          ],
          "name": "stderr"
        },
        {
          "output_type": "stream",
          "text": [
            "Validation -- Accuracy: 0.82278 Loss: 0.19365 \n",
            "\n"
          ],
          "name": "stdout"
        },
        {
          "output_type": "stream",
          "text": [
            "Epoch: 19 Accuracy: 0.86076 Loss: 0.05728 : 100%|█████████████████| 237/237 [00:35<00:00,  6.66it/s]\n",
            "Epoch: 20 Accuracy: 1.00000 Loss: 0.06893 :   0%|                   | 1/237 [00:00<00:35,  6.60it/s]"
          ],
          "name": "stderr"
        },
        {
          "output_type": "stream",
          "text": [
            "Validation -- Accuracy: 0.79747 Loss: 0.09693 \n",
            "\n"
          ],
          "name": "stdout"
        },
        {
          "output_type": "stream",
          "text": [
            "Epoch: 20 Accuracy: 0.85654 Loss: 0.22553 : 100%|█████████████████| 237/237 [00:35<00:00,  6.63it/s]\n",
            "Epoch: 21 Accuracy: 1.00000 Loss: 0.05601 :   0%|                   | 1/237 [00:00<00:33,  7.13it/s]"
          ],
          "name": "stderr"
        },
        {
          "output_type": "stream",
          "text": [
            "Validation -- Accuracy: 0.79747 Loss: 0.16334 \n",
            "\n"
          ],
          "name": "stdout"
        },
        {
          "output_type": "stream",
          "text": [
            "Epoch: 21 Accuracy: 0.88608 Loss: 0.13255 : 100%|█████████████████| 237/237 [00:35<00:00,  6.63it/s]\n",
            "Epoch: 22 Accuracy: 1.00000 Loss: 0.05765 :   0%|                   | 1/237 [00:00<00:32,  7.37it/s]"
          ],
          "name": "stderr"
        },
        {
          "output_type": "stream",
          "text": [
            "Validation -- Accuracy: 0.74684 Loss: 0.06042 \n",
            "\n"
          ],
          "name": "stdout"
        },
        {
          "output_type": "stream",
          "text": [
            "Epoch: 22 Accuracy: 0.89030 Loss: 0.09802 : 100%|█████████████████| 237/237 [00:35<00:00,  6.61it/s]\n",
            "  0%|                                                                       | 0/237 [00:00<?, ?it/s]"
          ],
          "name": "stderr"
        },
        {
          "output_type": "stream",
          "text": [
            "Validation -- Accuracy: 0.77215 Loss: 0.04750 \n",
            "\n"
          ],
          "name": "stdout"
        },
        {
          "output_type": "stream",
          "text": [
            "Epoch: 23 Accuracy: 0.85654 Loss: 2.29882 : 100%|█████████████████| 237/237 [00:36<00:00,  6.43it/s]\n",
            "Epoch: 24 Accuracy: 0.00000 Loss: 2.94026 :   0%|                   | 1/237 [00:00<00:33,  7.09it/s]"
          ],
          "name": "stderr"
        },
        {
          "output_type": "stream",
          "text": [
            "Validation -- Accuracy: 0.65823 Loss: 0.04696 \n",
            "\n"
          ],
          "name": "stdout"
        },
        {
          "output_type": "stream",
          "text": [
            "Epoch: 24 Accuracy: 0.89451 Loss: 0.04540 : 100%|█████████████████| 237/237 [00:36<00:00,  6.44it/s]\n"
          ],
          "name": "stderr"
        },
        {
          "output_type": "stream",
          "text": [
            "Validation -- Accuracy: 0.87342 Loss: 0.10585 \n",
            "\n"
          ],
          "name": "stdout"
        },
        {
          "output_type": "stream",
          "text": [
            "Epoch: 25 Accuracy: 0.87342 Loss: 0.04674 : 100%|█████████████████| 237/237 [00:36<00:00,  6.52it/s]\n",
            "Epoch: 26 Accuracy: 1.00000 Loss: 0.04600 :   0%|                   | 1/237 [00:00<00:32,  7.17it/s]"
          ],
          "name": "stderr"
        },
        {
          "output_type": "stream",
          "text": [
            "Validation -- Accuracy: 0.79747 Loss: 0.07260 \n",
            "\n"
          ],
          "name": "stdout"
        },
        {
          "output_type": "stream",
          "text": [
            "Epoch: 26 Accuracy: 0.86498 Loss: 0.20441 : 100%|█████████████████| 237/237 [00:35<00:00,  6.65it/s]\n",
            "Epoch: 27 Accuracy: 1.00000 Loss: 0.09176 :   0%|                   | 1/237 [00:00<00:40,  5.88it/s]"
          ],
          "name": "stderr"
        },
        {
          "output_type": "stream",
          "text": [
            "Validation -- Accuracy: 0.77215 Loss: 0.08989 \n",
            "\n"
          ],
          "name": "stdout"
        },
        {
          "output_type": "stream",
          "text": [
            "Epoch: 27 Accuracy: 0.84388 Loss: 2.25701 : 100%|█████████████████| 237/237 [00:35<00:00,  6.67it/s]\n",
            "Epoch: 28 Accuracy: 1.00000 Loss: 0.30534 :   0%|                   | 1/237 [00:00<00:39,  6.01it/s]"
          ],
          "name": "stderr"
        },
        {
          "output_type": "stream",
          "text": [
            "Validation -- Accuracy: 0.68354 Loss: 0.03855 \n",
            "\n"
          ],
          "name": "stdout"
        },
        {
          "output_type": "stream",
          "text": [
            "Epoch: 28 Accuracy: 0.90295 Loss: 0.15718 : 100%|█████████████████| 237/237 [00:35<00:00,  6.67it/s]\n",
            "Epoch: 29 Accuracy: 1.00000 Loss: 0.36042 :   0%|                   | 1/237 [00:00<00:33,  7.08it/s]"
          ],
          "name": "stderr"
        },
        {
          "output_type": "stream",
          "text": [
            "Validation -- Accuracy: 0.83544 Loss: 0.06615 \n",
            "\n"
          ],
          "name": "stdout"
        },
        {
          "output_type": "stream",
          "text": [
            "Epoch: 29 Accuracy: 0.89451 Loss: 0.15711 : 100%|█████████████████| 237/237 [00:35<00:00,  6.71it/s]\n",
            "Epoch: 30 Accuracy: 1.00000 Loss: 0.03928 :   0%|                   | 1/237 [00:00<00:34,  6.77it/s]"
          ],
          "name": "stderr"
        },
        {
          "output_type": "stream",
          "text": [
            "Validation -- Accuracy: 0.87342 Loss: 0.19888 \n",
            "\n"
          ],
          "name": "stdout"
        },
        {
          "output_type": "stream",
          "text": [
            "Epoch: 30 Accuracy: 0.86076 Loss: 0.03285 : 100%|█████████████████| 237/237 [00:35<00:00,  6.72it/s]\n",
            "Epoch: 31 Accuracy: 1.00000 Loss: 0.03370 :   0%|                   | 1/237 [00:00<00:29,  8.02it/s]"
          ],
          "name": "stderr"
        },
        {
          "output_type": "stream",
          "text": [
            "Validation -- Accuracy: 0.83544 Loss: 0.96745 \n",
            "\n"
          ],
          "name": "stdout"
        },
        {
          "output_type": "stream",
          "text": [
            "Epoch: 31 Accuracy: 0.91561 Loss: 0.06037 : 100%|█████████████████| 237/237 [00:35<00:00,  6.66it/s]\n",
            "Epoch: 32 Accuracy: 1.00000 Loss: 0.05758 :   0%|                   | 1/237 [00:00<00:33,  7.14it/s]"
          ],
          "name": "stderr"
        },
        {
          "output_type": "stream",
          "text": [
            "Validation -- Accuracy: 0.78481 Loss: 0.38842 \n",
            "\n"
          ],
          "name": "stdout"
        },
        {
          "output_type": "stream",
          "text": [
            "Epoch: 32 Accuracy: 0.88186 Loss: 0.06528 : 100%|█████████████████| 237/237 [00:35<00:00,  6.71it/s]\n",
            "Epoch: 33 Accuracy: 1.00000 Loss: 0.03860 :   0%|                   | 1/237 [00:00<00:34,  6.83it/s]"
          ],
          "name": "stderr"
        },
        {
          "output_type": "stream",
          "text": [
            "Validation -- Accuracy: 0.84810 Loss: 0.45491 \n",
            "\n"
          ],
          "name": "stdout"
        },
        {
          "output_type": "stream",
          "text": [
            "Epoch: 33 Accuracy: 0.89030 Loss: 0.09003 : 100%|█████████████████| 237/237 [00:35<00:00,  6.68it/s]\n",
            "Epoch: 34 Accuracy: 1.00000 Loss: 0.03419 :   0%|                   | 1/237 [00:00<00:32,  7.27it/s]"
          ],
          "name": "stderr"
        },
        {
          "output_type": "stream",
          "text": [
            "Validation -- Accuracy: 0.84810 Loss: 0.17862 \n",
            "\n"
          ],
          "name": "stdout"
        },
        {
          "output_type": "stream",
          "text": [
            "Epoch: 34 Accuracy: 0.91139 Loss: 0.25312 : 100%|█████████████████| 237/237 [00:35<00:00,  6.69it/s]\n",
            "Epoch: 35 Accuracy: 1.00000 Loss: 0.14790 :   0%|                   | 1/237 [00:00<00:34,  6.88it/s]"
          ],
          "name": "stderr"
        },
        {
          "output_type": "stream",
          "text": [
            "Validation -- Accuracy: 0.70886 Loss: 0.03703 \n",
            "\n"
          ],
          "name": "stdout"
        },
        {
          "output_type": "stream",
          "text": [
            "Epoch: 35 Accuracy: 0.89873 Loss: 0.02458 : 100%|█████████████████| 237/237 [00:35<00:00,  6.61it/s]\n",
            "Epoch: 36 Accuracy: 1.00000 Loss: 0.03225 :   0%|                   | 1/237 [00:00<00:32,  7.35it/s]"
          ],
          "name": "stderr"
        },
        {
          "output_type": "stream",
          "text": [
            "Validation -- Accuracy: 0.75949 Loss: 0.04672 \n",
            "\n"
          ],
          "name": "stdout"
        },
        {
          "output_type": "stream",
          "text": [
            "Epoch: 36 Accuracy: 0.87342 Loss: 0.01176 : 100%|█████████████████| 237/237 [00:35<00:00,  6.66it/s]\n",
            "Epoch: 37 Accuracy: 1.00000 Loss: 0.03389 :   0%|                   | 1/237 [00:00<00:31,  7.52it/s]"
          ],
          "name": "stderr"
        },
        {
          "output_type": "stream",
          "text": [
            "Validation -- Accuracy: 0.74684 Loss: 0.03264 \n",
            "\n"
          ],
          "name": "stdout"
        },
        {
          "output_type": "stream",
          "text": [
            "Epoch: 37 Accuracy: 0.90717 Loss: 0.08266 : 100%|█████████████████| 237/237 [00:35<00:00,  6.67it/s]\n",
            "Epoch: 38 Accuracy: 1.00000 Loss: 0.12662 :   0%|                   | 1/237 [00:00<00:30,  7.67it/s]"
          ],
          "name": "stderr"
        },
        {
          "output_type": "stream",
          "text": [
            "Validation -- Accuracy: 0.84810 Loss: 0.01967 \n",
            "\n"
          ],
          "name": "stdout"
        },
        {
          "output_type": "stream",
          "text": [
            "Epoch: 38 Accuracy: 0.89030 Loss: 0.02921 : 100%|█████████████████| 237/237 [00:35<00:00,  6.68it/s]\n",
            "Epoch: 39 Accuracy: 1.00000 Loss: 0.06868 :   0%|                   | 1/237 [00:00<00:39,  6.00it/s]"
          ],
          "name": "stderr"
        },
        {
          "output_type": "stream",
          "text": [
            "Validation -- Accuracy: 0.74684 Loss: 0.02167 \n",
            "\n"
          ],
          "name": "stdout"
        },
        {
          "output_type": "stream",
          "text": [
            "Epoch: 39 Accuracy: 0.96203 Loss: 0.02843 : 100%|█████████████████| 237/237 [00:35<00:00,  6.62it/s]\n",
            "Epoch: 40 Accuracy: 1.00000 Loss: 0.02007 :   0%|                   | 1/237 [00:00<00:42,  5.49it/s]"
          ],
          "name": "stderr"
        },
        {
          "output_type": "stream",
          "text": [
            "Validation -- Accuracy: 0.79747 Loss: 0.02367 \n",
            "\n"
          ],
          "name": "stdout"
        },
        {
          "output_type": "stream",
          "text": [
            "Epoch: 40 Accuracy: 0.91983 Loss: 0.11293 : 100%|█████████████████| 237/237 [00:35<00:00,  6.64it/s]\n",
            "Epoch: 41 Accuracy: 1.00000 Loss: 0.16404 :   0%|                   | 1/237 [00:00<00:32,  7.25it/s]"
          ],
          "name": "stderr"
        },
        {
          "output_type": "stream",
          "text": [
            "Validation -- Accuracy: 0.77215 Loss: 0.06147 \n",
            "\n"
          ],
          "name": "stdout"
        },
        {
          "output_type": "stream",
          "text": [
            "Epoch: 41 Accuracy: 0.93249 Loss: 0.02257 : 100%|█████████████████| 237/237 [00:35<00:00,  6.59it/s]\n",
            "Epoch: 42 Accuracy: 1.00000 Loss: 0.02043 :   0%|                   | 1/237 [00:00<00:32,  7.16it/s]"
          ],
          "name": "stderr"
        },
        {
          "output_type": "stream",
          "text": [
            "Validation -- Accuracy: 0.72152 Loss: 0.01792 \n",
            "\n"
          ],
          "name": "stdout"
        },
        {
          "output_type": "stream",
          "text": [
            "Epoch: 42 Accuracy: 0.93249 Loss: 0.03328 : 100%|█████████████████| 237/237 [00:36<00:00,  6.55it/s]\n"
          ],
          "name": "stderr"
        },
        {
          "output_type": "stream",
          "text": [
            "Validation -- Accuracy: 0.88608 Loss: 0.05734 \n",
            "\n"
          ],
          "name": "stdout"
        },
        {
          "output_type": "stream",
          "text": [
            "Epoch: 43 Accuracy: 0.90295 Loss: 0.31757 : 100%|█████████████████| 237/237 [00:35<00:00,  6.73it/s]\n",
            "Epoch: 44 Accuracy: 1.00000 Loss: 0.02594 :   0%|                   | 1/237 [00:00<00:36,  6.52it/s]"
          ],
          "name": "stderr"
        },
        {
          "output_type": "stream",
          "text": [
            "Validation -- Accuracy: 0.81013 Loss: 0.02483 \n",
            "\n"
          ],
          "name": "stdout"
        },
        {
          "output_type": "stream",
          "text": [
            "Epoch: 44 Accuracy: 0.91983 Loss: 0.08566 : 100%|█████████████████| 237/237 [00:34<00:00,  6.89it/s]\n",
            "Epoch: 45 Accuracy: 1.00000 Loss: 0.04548 :   0%|                   | 1/237 [00:00<00:30,  7.69it/s]"
          ],
          "name": "stderr"
        },
        {
          "output_type": "stream",
          "text": [
            "Validation -- Accuracy: 0.78481 Loss: 0.01363 \n",
            "\n"
          ],
          "name": "stdout"
        },
        {
          "output_type": "stream",
          "text": [
            "Epoch: 45 Accuracy: 0.94937 Loss: 0.03175 : 100%|█████████████████| 237/237 [00:34<00:00,  6.95it/s]\n",
            "Epoch: 46 Accuracy: 1.00000 Loss: 0.03370 :   0%|                   | 1/237 [00:00<00:33,  6.98it/s]"
          ],
          "name": "stderr"
        },
        {
          "output_type": "stream",
          "text": [
            "Validation -- Accuracy: 0.75949 Loss: 0.01148 \n",
            "\n"
          ],
          "name": "stdout"
        },
        {
          "output_type": "stream",
          "text": [
            "Epoch: 46 Accuracy: 0.91139 Loss: 0.02051 : 100%|█████████████████| 237/237 [00:33<00:00,  6.97it/s]\n",
            "Epoch: 47 Accuracy: 1.00000 Loss: 0.08240 :   0%|                   | 1/237 [00:00<00:30,  7.67it/s]"
          ],
          "name": "stderr"
        },
        {
          "output_type": "stream",
          "text": [
            "Validation -- Accuracy: 0.75949 Loss: 0.03353 \n",
            "\n"
          ],
          "name": "stdout"
        },
        {
          "output_type": "stream",
          "text": [
            "Epoch: 47 Accuracy: 0.90295 Loss: 0.01608 : 100%|█████████████████| 237/237 [00:34<00:00,  6.85it/s]\n",
            "Epoch: 48 Accuracy: 1.00000 Loss: 0.03412 :   0%|                   | 1/237 [00:00<00:29,  8.12it/s]"
          ],
          "name": "stderr"
        },
        {
          "output_type": "stream",
          "text": [
            "Validation -- Accuracy: 0.83544 Loss: 0.01380 \n",
            "\n"
          ],
          "name": "stdout"
        },
        {
          "output_type": "stream",
          "text": [
            "Epoch: 48 Accuracy: 0.94093 Loss: 0.02829 : 100%|█████████████████| 237/237 [00:34<00:00,  6.89it/s]\n",
            "Epoch: 49 Accuracy: 1.00000 Loss: 0.11895 :   0%|                   | 1/237 [00:00<00:30,  7.64it/s]"
          ],
          "name": "stderr"
        },
        {
          "output_type": "stream",
          "text": [
            "Validation -- Accuracy: 0.70886 Loss: 0.10254 \n",
            "\n"
          ],
          "name": "stdout"
        },
        {
          "output_type": "stream",
          "text": [
            "Epoch: 49 Accuracy: 0.92827 Loss: 0.03939 : 100%|█████████████████| 237/237 [00:34<00:00,  6.96it/s]\n",
            "Epoch: 50 Accuracy: 1.00000 Loss: 0.03380 :   0%|                   | 1/237 [00:00<00:32,  7.22it/s]"
          ],
          "name": "stderr"
        },
        {
          "output_type": "stream",
          "text": [
            "Validation -- Accuracy: 0.77215 Loss: 0.00843 \n",
            "\n"
          ],
          "name": "stdout"
        },
        {
          "output_type": "stream",
          "text": [
            "Epoch: 50 Accuracy: 0.94515 Loss: 0.02130 : 100%|█████████████████| 237/237 [00:34<00:00,  6.95it/s]\n",
            "Epoch: 51 Accuracy: 1.00000 Loss: 0.03854 :   0%|                   | 1/237 [00:00<00:34,  6.77it/s]"
          ],
          "name": "stderr"
        },
        {
          "output_type": "stream",
          "text": [
            "Validation -- Accuracy: 0.74684 Loss: 0.02336 \n",
            "\n"
          ],
          "name": "stdout"
        },
        {
          "output_type": "stream",
          "text": [
            "Epoch: 51 Accuracy: 0.94093 Loss: 0.02273 : 100%|█████████████████| 237/237 [00:34<00:00,  6.91it/s]\n",
            "Epoch: 52 Accuracy: 1.00000 Loss: 0.02147 :   0%|                   | 1/237 [00:00<00:32,  7.27it/s]"
          ],
          "name": "stderr"
        },
        {
          "output_type": "stream",
          "text": [
            "Validation -- Accuracy: 0.88608 Loss: 0.02024 \n",
            "\n"
          ],
          "name": "stdout"
        },
        {
          "output_type": "stream",
          "text": [
            "Epoch: 52 Accuracy: 0.93671 Loss: 0.43720 : 100%|█████████████████| 237/237 [00:34<00:00,  6.88it/s]\n",
            "Epoch: 53 Accuracy: 1.00000 Loss: 0.03430 :   0%|                   | 1/237 [00:00<00:34,  6.92it/s]"
          ],
          "name": "stderr"
        },
        {
          "output_type": "stream",
          "text": [
            "Validation -- Accuracy: 0.74684 Loss: 0.00936 \n",
            "\n"
          ],
          "name": "stdout"
        },
        {
          "output_type": "stream",
          "text": [
            "Epoch: 53 Accuracy: 0.96203 Loss: 2.00882 : 100%|█████████████████| 237/237 [00:33<00:00,  7.02it/s]\n",
            "Epoch: 54 Accuracy: 0.00000 Loss: 1.79124 :   0%|                   | 1/237 [00:00<00:27,  8.66it/s]"
          ],
          "name": "stderr"
        },
        {
          "output_type": "stream",
          "text": [
            "Validation -- Accuracy: 0.78481 Loss: 0.01026 \n",
            "\n"
          ],
          "name": "stdout"
        },
        {
          "output_type": "stream",
          "text": [
            "Epoch: 54 Accuracy: 0.90717 Loss: 0.00668 : 100%|█████████████████| 237/237 [00:33<00:00,  7.00it/s]\n",
            "Epoch: 55 Accuracy: 0.00000 Loss: 0.78734 :   0%|                   | 1/237 [00:00<00:28,  8.22it/s]"
          ],
          "name": "stderr"
        },
        {
          "output_type": "stream",
          "text": [
            "Validation -- Accuracy: 0.58228 Loss: 0.00601 \n",
            "\n"
          ],
          "name": "stdout"
        },
        {
          "output_type": "stream",
          "text": [
            "Epoch: 55 Accuracy: 0.92405 Loss: 0.03188 : 100%|█████████████████| 237/237 [00:33<00:00,  7.03it/s]\n",
            "Epoch: 56 Accuracy: 1.00000 Loss: 0.01162 :   0%|                   | 1/237 [00:00<00:35,  6.64it/s]"
          ],
          "name": "stderr"
        },
        {
          "output_type": "stream",
          "text": [
            "Validation -- Accuracy: 0.83544 Loss: 0.01027 \n",
            "\n"
          ],
          "name": "stdout"
        },
        {
          "output_type": "stream",
          "text": [
            "Epoch: 56 Accuracy: 0.91983 Loss: 0.04551 : 100%|█████████████████| 237/237 [00:34<00:00,  6.94it/s]\n",
            "Epoch: 57 Accuracy: 1.00000 Loss: 0.08839 :   0%|                   | 1/237 [00:00<00:29,  7.95it/s]"
          ],
          "name": "stderr"
        },
        {
          "output_type": "stream",
          "text": [
            "Validation -- Accuracy: 0.82278 Loss: 0.00692 \n",
            "\n"
          ],
          "name": "stdout"
        },
        {
          "output_type": "stream",
          "text": [
            "Epoch: 57 Accuracy: 0.93249 Loss: 0.02943 : 100%|█████████████████| 237/237 [00:33<00:00,  7.01it/s]\n",
            "Epoch: 58 Accuracy: 1.00000 Loss: 0.02660 :   0%|                   | 1/237 [00:00<00:30,  7.73it/s]"
          ],
          "name": "stderr"
        },
        {
          "output_type": "stream",
          "text": [
            "Validation -- Accuracy: 0.84810 Loss: 0.01169 \n",
            "\n"
          ],
          "name": "stdout"
        },
        {
          "output_type": "stream",
          "text": [
            "Epoch: 58 Accuracy: 0.92827 Loss: 0.04603 : 100%|█████████████████| 237/237 [00:33<00:00,  7.01it/s]\n",
            "Epoch: 59 Accuracy: 1.00000 Loss: 0.19923 :   0%|                   | 1/237 [00:00<00:31,  7.54it/s]"
          ],
          "name": "stderr"
        },
        {
          "output_type": "stream",
          "text": [
            "Validation -- Accuracy: 0.82278 Loss: 0.01351 \n",
            "\n"
          ],
          "name": "stdout"
        },
        {
          "output_type": "stream",
          "text": [
            "Epoch: 59 Accuracy: 0.94515 Loss: 0.00899 : 100%|█████████████████| 237/237 [00:34<00:00,  6.88it/s]\n",
            "Epoch: 60 Accuracy: 0.00000 Loss: 0.81591 :   0%|                   | 1/237 [00:00<00:39,  5.95it/s]"
          ],
          "name": "stderr"
        },
        {
          "output_type": "stream",
          "text": [
            "Validation -- Accuracy: 0.86076 Loss: 0.00835 \n",
            "\n"
          ],
          "name": "stdout"
        },
        {
          "output_type": "stream",
          "text": [
            "Epoch: 60 Accuracy: 0.95359 Loss: 0.00869 : 100%|█████████████████| 237/237 [00:34<00:00,  6.95it/s]\n",
            "Epoch: 61 Accuracy: 1.00000 Loss: 0.00975 :   0%|                   | 1/237 [00:00<00:33,  7.05it/s]"
          ],
          "name": "stderr"
        },
        {
          "output_type": "stream",
          "text": [
            "Validation -- Accuracy: 0.87342 Loss: 0.01413 \n",
            "\n"
          ],
          "name": "stdout"
        },
        {
          "output_type": "stream",
          "text": [
            "Epoch: 61 Accuracy: 0.93249 Loss: 0.05982 : 100%|█████████████████| 237/237 [00:34<00:00,  6.87it/s]\n",
            "Epoch: 62 Accuracy: 1.00000 Loss: 0.02536 :   0%|                   | 1/237 [00:00<00:30,  7.85it/s]"
          ],
          "name": "stderr"
        },
        {
          "output_type": "stream",
          "text": [
            "Validation -- Accuracy: 0.84810 Loss: 0.00927 \n",
            "\n"
          ],
          "name": "stdout"
        },
        {
          "output_type": "stream",
          "text": [
            "Epoch: 62 Accuracy: 0.97046 Loss: 0.05663 : 100%|█████████████████| 237/237 [00:34<00:00,  6.91it/s]\n",
            "Epoch: 63 Accuracy: 1.00000 Loss: 0.00945 :   0%|                   | 1/237 [00:00<00:34,  6.87it/s]"
          ],
          "name": "stderr"
        },
        {
          "output_type": "stream",
          "text": [
            "Validation -- Accuracy: 0.81013 Loss: 0.03253 \n",
            "\n"
          ],
          "name": "stdout"
        },
        {
          "output_type": "stream",
          "text": [
            "Epoch: 63 Accuracy: 0.95781 Loss: 0.00602 : 100%|█████████████████| 237/237 [00:34<00:00,  6.84it/s]\n",
            "Epoch: 64 Accuracy: 1.00000 Loss: 0.00492 :   0%|                   | 1/237 [00:00<00:30,  7.62it/s]"
          ],
          "name": "stderr"
        },
        {
          "output_type": "stream",
          "text": [
            "Validation -- Accuracy: 0.78481 Loss: 0.00633 \n",
            "\n"
          ],
          "name": "stdout"
        },
        {
          "output_type": "stream",
          "text": [
            "Epoch: 64 Accuracy: 0.94937 Loss: 0.01514 : 100%|█████████████████| 237/237 [00:34<00:00,  6.92it/s]\n",
            "Epoch: 65 Accuracy: 0.00000 Loss: 2.44846 :   0%|                   | 1/237 [00:00<00:34,  6.82it/s]"
          ],
          "name": "stderr"
        },
        {
          "output_type": "stream",
          "text": [
            "Validation -- Accuracy: 0.82278 Loss: 0.01715 \n",
            "\n"
          ],
          "name": "stdout"
        },
        {
          "output_type": "stream",
          "text": [
            "Epoch: 65 Accuracy: 0.94093 Loss: 0.38743 : 100%|█████████████████| 237/237 [00:34<00:00,  6.95it/s]\n",
            "Epoch: 66 Accuracy: 1.00000 Loss: 0.01809 :   0%|                   | 1/237 [00:00<00:32,  7.32it/s]"
          ],
          "name": "stderr"
        },
        {
          "output_type": "stream",
          "text": [
            "Validation -- Accuracy: 0.79747 Loss: 0.05969 \n",
            "\n"
          ],
          "name": "stdout"
        },
        {
          "output_type": "stream",
          "text": [
            "Epoch: 66 Accuracy: 0.94937 Loss: 0.02216 : 100%|█████████████████| 237/237 [00:34<00:00,  6.85it/s]\n",
            "Epoch: 67 Accuracy: 1.00000 Loss: 0.00600 :   0%|                   | 1/237 [00:00<00:32,  7.21it/s]"
          ],
          "name": "stderr"
        },
        {
          "output_type": "stream",
          "text": [
            "Validation -- Accuracy: 0.87342 Loss: 0.00989 \n",
            "\n"
          ],
          "name": "stdout"
        },
        {
          "output_type": "stream",
          "text": [
            "Epoch: 67 Accuracy: 0.94515 Loss: 0.01443 : 100%|█████████████████| 237/237 [00:34<00:00,  6.89it/s]\n",
            "Epoch: 68 Accuracy: 1.00000 Loss: 0.00510 :   0%|                   | 1/237 [00:00<00:37,  6.23it/s]"
          ],
          "name": "stderr"
        },
        {
          "output_type": "stream",
          "text": [
            "Validation -- Accuracy: 0.81013 Loss: 0.00747 \n",
            "\n"
          ],
          "name": "stdout"
        },
        {
          "output_type": "stream",
          "text": [
            "Epoch: 68 Accuracy: 0.97046 Loss: 0.00835 : 100%|█████████████████| 237/237 [00:34<00:00,  6.91it/s]\n",
            "Epoch: 69 Accuracy: 1.00000 Loss: 0.02747 :   0%|                   | 1/237 [00:00<00:30,  7.65it/s]"
          ],
          "name": "stderr"
        },
        {
          "output_type": "stream",
          "text": [
            "Validation -- Accuracy: 0.83544 Loss: 0.02091 \n",
            "\n"
          ],
          "name": "stdout"
        },
        {
          "output_type": "stream",
          "text": [
            "Epoch: 69 Accuracy: 0.94515 Loss: 0.00924 : 100%|█████████████████| 237/237 [00:33<00:00,  6.98it/s]\n",
            "  0%|                                                                       | 0/237 [00:00<?, ?it/s]"
          ],
          "name": "stderr"
        },
        {
          "output_type": "stream",
          "text": [
            "Validation -- Accuracy: 0.70886 Loss: 0.00891 \n",
            "\n"
          ],
          "name": "stdout"
        },
        {
          "output_type": "stream",
          "text": [
            "Epoch: 70 Accuracy: 0.95359 Loss: 0.10665 : 100%|█████████████████| 237/237 [00:34<00:00,  6.91it/s]\n",
            "Epoch: 71 Accuracy: 1.00000 Loss: 0.62443 :   0%|                   | 1/237 [00:00<00:30,  7.85it/s]"
          ],
          "name": "stderr"
        },
        {
          "output_type": "stream",
          "text": [
            "Validation -- Accuracy: 0.81013 Loss: 0.00931 \n",
            "\n"
          ],
          "name": "stdout"
        },
        {
          "output_type": "stream",
          "text": [
            "Epoch: 71 Accuracy: 0.93249 Loss: 0.01880 : 100%|█████████████████| 237/237 [00:34<00:00,  6.80it/s]\n",
            "Epoch: 72 Accuracy: 1.00000 Loss: 0.24437 :   0%|                   | 1/237 [00:00<00:31,  7.39it/s]"
          ],
          "name": "stderr"
        },
        {
          "output_type": "stream",
          "text": [
            "Validation -- Accuracy: 0.83544 Loss: 0.01254 \n",
            "\n"
          ],
          "name": "stdout"
        },
        {
          "output_type": "stream",
          "text": [
            "Epoch: 72 Accuracy: 0.96203 Loss: 0.01228 : 100%|█████████████████| 237/237 [00:34<00:00,  6.85it/s]\n",
            "Epoch: 73 Accuracy: 1.00000 Loss: 0.00655 :   0%|                   | 1/237 [00:00<00:35,  6.63it/s]"
          ],
          "name": "stderr"
        },
        {
          "output_type": "stream",
          "text": [
            "Validation -- Accuracy: 0.86076 Loss: 0.01602 \n",
            "\n"
          ],
          "name": "stdout"
        },
        {
          "output_type": "stream",
          "text": [
            "Epoch: 73 Accuracy: 0.94515 Loss: 0.00890 : 100%|█████████████████| 237/237 [00:34<00:00,  6.86it/s]\n",
            "Epoch: 74 Accuracy: 1.00000 Loss: 0.12363 :   0%|                   | 1/237 [00:00<00:36,  6.40it/s]"
          ],
          "name": "stderr"
        },
        {
          "output_type": "stream",
          "text": [
            "Validation -- Accuracy: 0.81013 Loss: 0.04593 \n",
            "\n"
          ],
          "name": "stdout"
        },
        {
          "output_type": "stream",
          "text": [
            "Epoch: 74 Accuracy: 0.96203 Loss: 0.00518 : 100%|█████████████████| 237/237 [00:34<00:00,  6.86it/s]\n",
            "Epoch: 75 Accuracy: 1.00000 Loss: 0.00946 :   0%|                   | 1/237 [00:00<00:33,  7.13it/s]"
          ],
          "name": "stderr"
        },
        {
          "output_type": "stream",
          "text": [
            "Validation -- Accuracy: 0.88608 Loss: 0.00757 \n",
            "\n"
          ],
          "name": "stdout"
        },
        {
          "output_type": "stream",
          "text": [
            "Epoch: 75 Accuracy: 0.97890 Loss: 0.01270 : 100%|█████████████████| 237/237 [00:34<00:00,  6.89it/s]\n",
            "Epoch: 76 Accuracy: 1.00000 Loss: 0.01258 :   0%|                   | 1/237 [00:00<00:27,  8.57it/s]"
          ],
          "name": "stderr"
        },
        {
          "output_type": "stream",
          "text": [
            "Validation -- Accuracy: 0.84810 Loss: 0.00653 \n",
            "\n"
          ],
          "name": "stdout"
        },
        {
          "output_type": "stream",
          "text": [
            "Epoch: 76 Accuracy: 0.94937 Loss: 0.00403 : 100%|█████████████████| 237/237 [00:33<00:00,  6.98it/s]\n",
            "Epoch: 77 Accuracy: 1.00000 Loss: 0.01229 :   0%|                   | 1/237 [00:00<00:30,  7.70it/s]"
          ],
          "name": "stderr"
        },
        {
          "output_type": "stream",
          "text": [
            "Validation -- Accuracy: 0.79747 Loss: 0.00580 \n",
            "\n"
          ],
          "name": "stdout"
        },
        {
          "output_type": "stream",
          "text": [
            "Epoch: 77 Accuracy: 0.97468 Loss: 0.00433 : 100%|█████████████████| 237/237 [00:33<00:00,  7.00it/s]\n",
            "Epoch: 78 Accuracy: 1.00000 Loss: 0.01000 :   0%|                   | 1/237 [00:00<00:35,  6.71it/s]"
          ],
          "name": "stderr"
        },
        {
          "output_type": "stream",
          "text": [
            "Validation -- Accuracy: 0.87342 Loss: 0.00678 \n",
            "\n"
          ],
          "name": "stdout"
        },
        {
          "output_type": "stream",
          "text": [
            "Epoch: 78 Accuracy: 0.96203 Loss: 0.00817 : 100%|█████████████████| 237/237 [00:33<00:00,  6.99it/s]\n",
            "Epoch: 79 Accuracy: 1.00000 Loss: 0.00730 :   0%|                   | 1/237 [00:00<00:36,  6.54it/s]"
          ],
          "name": "stderr"
        },
        {
          "output_type": "stream",
          "text": [
            "Validation -- Accuracy: 0.86076 Loss: 0.01090 \n",
            "\n"
          ],
          "name": "stdout"
        },
        {
          "output_type": "stream",
          "text": [
            "Epoch: 79 Accuracy: 0.94937 Loss: 0.31868 : 100%|█████████████████| 237/237 [00:34<00:00,  6.95it/s]\n",
            "Epoch: 80 Accuracy: 1.00000 Loss: 0.00719 :   0%|                   | 1/237 [00:00<00:32,  7.29it/s]"
          ],
          "name": "stderr"
        },
        {
          "output_type": "stream",
          "text": [
            "Validation -- Accuracy: 0.75949 Loss: 0.00585 \n",
            "\n"
          ],
          "name": "stdout"
        },
        {
          "output_type": "stream",
          "text": [
            "Epoch: 80 Accuracy: 0.95781 Loss: 0.00636 : 100%|█████████████████| 237/237 [00:34<00:00,  6.84it/s]\n",
            "Epoch: 81 Accuracy: 1.00000 Loss: 0.02274 :   0%|                   | 1/237 [00:00<00:30,  7.65it/s]"
          ],
          "name": "stderr"
        },
        {
          "output_type": "stream",
          "text": [
            "Validation -- Accuracy: 0.83544 Loss: 0.00755 \n",
            "\n"
          ],
          "name": "stdout"
        },
        {
          "output_type": "stream",
          "text": [
            "Epoch: 81 Accuracy: 0.96203 Loss: 0.00717 : 100%|█████████████████| 237/237 [00:34<00:00,  6.83it/s]\n",
            "Epoch: 82 Accuracy: 1.00000 Loss: 0.01730 :   0%|                   | 1/237 [00:00<00:32,  7.30it/s]"
          ],
          "name": "stderr"
        },
        {
          "output_type": "stream",
          "text": [
            "Validation -- Accuracy: 0.84810 Loss: 0.00692 \n",
            "\n"
          ],
          "name": "stdout"
        },
        {
          "output_type": "stream",
          "text": [
            "Epoch: 82 Accuracy: 0.97046 Loss: 0.00724 : 100%|█████████████████| 237/237 [00:34<00:00,  6.85it/s]\n",
            "Epoch: 83 Accuracy: 1.00000 Loss: 0.00483 :   0%|                   | 1/237 [00:00<00:30,  7.69it/s]"
          ],
          "name": "stderr"
        },
        {
          "output_type": "stream",
          "text": [
            "Validation -- Accuracy: 0.88608 Loss: 0.00712 \n",
            "\n"
          ],
          "name": "stdout"
        },
        {
          "output_type": "stream",
          "text": [
            "Epoch: 83 Accuracy: 0.97890 Loss: 0.00553 : 100%|█████████████████| 237/237 [00:34<00:00,  6.86it/s]\n",
            "Epoch: 84 Accuracy: 1.00000 Loss: 0.01723 :   0%|                   | 1/237 [00:00<00:34,  6.91it/s]"
          ],
          "name": "stderr"
        },
        {
          "output_type": "stream",
          "text": [
            "Validation -- Accuracy: 0.81013 Loss: 0.00688 \n",
            "\n"
          ],
          "name": "stdout"
        },
        {
          "output_type": "stream",
          "text": [
            "Epoch: 84 Accuracy: 0.95781 Loss: 0.00699 : 100%|█████████████████| 237/237 [00:34<00:00,  6.87it/s]\n",
            "Epoch: 85 Accuracy: 1.00000 Loss: 0.00818 :   0%|                   | 1/237 [00:00<00:33,  7.02it/s]"
          ],
          "name": "stderr"
        },
        {
          "output_type": "stream",
          "text": [
            "Validation -- Accuracy: 0.87342 Loss: 0.00792 \n",
            "\n"
          ],
          "name": "stdout"
        },
        {
          "output_type": "stream",
          "text": [
            "Epoch: 85 Accuracy: 0.96624 Loss: 0.01021 : 100%|█████████████████| 237/237 [00:34<00:00,  6.81it/s]\n",
            "Epoch: 86 Accuracy: 1.00000 Loss: 0.00664 :   0%|                   | 1/237 [00:00<00:34,  6.81it/s]"
          ],
          "name": "stderr"
        },
        {
          "output_type": "stream",
          "text": [
            "Validation -- Accuracy: 0.86076 Loss: 0.00454 \n",
            "\n"
          ],
          "name": "stdout"
        },
        {
          "output_type": "stream",
          "text": [
            "Epoch: 86 Accuracy: 0.97046 Loss: 0.01160 : 100%|█████████████████| 237/237 [00:34<00:00,  6.85it/s]\n",
            "Epoch: 87 Accuracy: 1.00000 Loss: 0.03098 :   0%|                   | 1/237 [00:00<00:28,  8.24it/s]"
          ],
          "name": "stderr"
        },
        {
          "output_type": "stream",
          "text": [
            "Validation -- Accuracy: 0.86076 Loss: 0.00593 \n",
            "\n"
          ],
          "name": "stdout"
        },
        {
          "output_type": "stream",
          "text": [
            "Epoch: 87 Accuracy: 0.93671 Loss: 0.01032 : 100%|█████████████████| 237/237 [00:34<00:00,  6.82it/s]\n",
            "  0%|                                                                       | 0/237 [00:00<?, ?it/s]"
          ],
          "name": "stderr"
        },
        {
          "output_type": "stream",
          "text": [
            "Validation -- Accuracy: 0.87342 Loss: 0.00588 \n",
            "\n"
          ],
          "name": "stdout"
        },
        {
          "output_type": "stream",
          "text": [
            "Epoch: 88 Accuracy: 0.96203 Loss: 0.00882 : 100%|█████████████████| 237/237 [00:35<00:00,  6.76it/s]\n",
            "Epoch: 89 Accuracy: 1.00000 Loss: 0.38656 :   0%|                   | 1/237 [00:00<00:29,  8.08it/s]"
          ],
          "name": "stderr"
        },
        {
          "output_type": "stream",
          "text": [
            "Validation -- Accuracy: 0.86076 Loss: 0.00455 \n",
            "\n"
          ],
          "name": "stdout"
        },
        {
          "output_type": "stream",
          "text": [
            "Epoch: 89 Accuracy: 0.97468 Loss: 0.01138 : 100%|█████████████████| 237/237 [00:35<00:00,  6.74it/s]\n",
            "Epoch: 90 Accuracy: 1.00000 Loss: 0.00909 :   0%|                   | 1/237 [00:00<00:30,  7.61it/s]"
          ],
          "name": "stderr"
        },
        {
          "output_type": "stream",
          "text": [
            "Validation -- Accuracy: 0.87342 Loss: 0.00396 \n",
            "\n"
          ],
          "name": "stdout"
        },
        {
          "output_type": "stream",
          "text": [
            "Epoch: 90 Accuracy: 0.96203 Loss: 0.00591 : 100%|█████████████████| 237/237 [00:35<00:00,  6.74it/s]\n",
            "Epoch: 91 Accuracy: 1.00000 Loss: 0.00598 :   0%|                   | 1/237 [00:00<00:31,  7.60it/s]"
          ],
          "name": "stderr"
        },
        {
          "output_type": "stream",
          "text": [
            "Validation -- Accuracy: 0.82278 Loss: 0.00313 \n",
            "\n"
          ],
          "name": "stdout"
        },
        {
          "output_type": "stream",
          "text": [
            "Epoch: 91 Accuracy: 0.97046 Loss: 0.01169 : 100%|█████████████████| 237/237 [00:35<00:00,  6.75it/s]\n",
            "Epoch: 92 Accuracy: 1.00000 Loss: 0.05097 :   0%|                   | 1/237 [00:00<00:31,  7.40it/s]"
          ],
          "name": "stderr"
        },
        {
          "output_type": "stream",
          "text": [
            "Validation -- Accuracy: 0.87342 Loss: 0.00469 \n",
            "\n"
          ],
          "name": "stdout"
        },
        {
          "output_type": "stream",
          "text": [
            "Epoch: 92 Accuracy: 0.98312 Loss: 0.00423 : 100%|█████████████████| 237/237 [00:34<00:00,  6.83it/s]\n",
            "Epoch: 93 Accuracy: 1.00000 Loss: 0.02632 :   0%|                   | 1/237 [00:00<00:31,  7.43it/s]"
          ],
          "name": "stderr"
        },
        {
          "output_type": "stream",
          "text": [
            "Validation -- Accuracy: 0.74684 Loss: 0.00430 \n",
            "\n"
          ],
          "name": "stdout"
        },
        {
          "output_type": "stream",
          "text": [
            "Epoch: 93 Accuracy: 0.95359 Loss: 0.03353 : 100%|█████████████████| 237/237 [00:34<00:00,  6.86it/s]\n",
            "Epoch: 94 Accuracy: 1.00000 Loss: 0.14256 :   0%|                   | 1/237 [00:00<00:30,  7.84it/s]"
          ],
          "name": "stderr"
        },
        {
          "output_type": "stream",
          "text": [
            "Validation -- Accuracy: 0.78481 Loss: 0.00628 \n",
            "\n"
          ],
          "name": "stdout"
        },
        {
          "output_type": "stream",
          "text": [
            "Epoch: 94 Accuracy: 0.96624 Loss: 0.00424 : 100%|█████████████████| 237/237 [00:34<00:00,  6.84it/s]\n",
            "Epoch: 95 Accuracy: 1.00000 Loss: 0.00409 :   0%|                   | 1/237 [00:00<00:34,  6.86it/s]"
          ],
          "name": "stderr"
        },
        {
          "output_type": "stream",
          "text": [
            "Validation -- Accuracy: 0.84810 Loss: 0.00377 \n",
            "\n"
          ],
          "name": "stdout"
        },
        {
          "output_type": "stream",
          "text": [
            "Epoch: 95 Accuracy: 0.95781 Loss: 0.00413 : 100%|█████████████████| 237/237 [00:34<00:00,  6.78it/s]\n",
            "Epoch: 96 Accuracy: 1.00000 Loss: 0.03003 :   0%|                   | 1/237 [00:00<00:30,  7.82it/s]"
          ],
          "name": "stderr"
        },
        {
          "output_type": "stream",
          "text": [
            "Validation -- Accuracy: 0.82278 Loss: 0.02858 \n",
            "\n"
          ],
          "name": "stdout"
        },
        {
          "output_type": "stream",
          "text": [
            "Epoch: 96 Accuracy: 0.94515 Loss: 0.21807 : 100%|█████████████████| 237/237 [00:34<00:00,  6.78it/s]\n",
            "Epoch: 97 Accuracy: 1.00000 Loss: 0.02530 :   0%|                   | 1/237 [00:00<00:29,  7.91it/s]"
          ],
          "name": "stderr"
        },
        {
          "output_type": "stream",
          "text": [
            "Validation -- Accuracy: 0.86076 Loss: 0.00704 \n",
            "\n"
          ],
          "name": "stdout"
        },
        {
          "output_type": "stream",
          "text": [
            "Epoch: 97 Accuracy: 0.96203 Loss: 0.00580 : 100%|█████████████████| 237/237 [00:34<00:00,  6.78it/s]\n",
            "Epoch: 98 Accuracy: 1.00000 Loss: 0.00567 :   0%|                   | 1/237 [00:00<00:34,  6.88it/s]"
          ],
          "name": "stderr"
        },
        {
          "output_type": "stream",
          "text": [
            "Validation -- Accuracy: 0.88608 Loss: 0.00527 \n",
            "\n"
          ],
          "name": "stdout"
        },
        {
          "output_type": "stream",
          "text": [
            "Epoch: 98 Accuracy: 0.97890 Loss: 0.03256 : 100%|█████████████████| 237/237 [00:35<00:00,  6.67it/s]\n",
            "Epoch: 99 Accuracy: 1.00000 Loss: 0.05396 :   0%|                   | 1/237 [00:00<00:31,  7.42it/s]"
          ],
          "name": "stderr"
        },
        {
          "output_type": "stream",
          "text": [
            "Validation -- Accuracy: 0.88608 Loss: 0.00273 \n",
            "\n"
          ],
          "name": "stdout"
        },
        {
          "output_type": "stream",
          "text": [
            "Epoch: 99 Accuracy: 0.97468 Loss: 0.00779 : 100%|█████████████████| 237/237 [00:35<00:00,  6.74it/s]\n",
            "Epoch: 100 Accuracy: 1.00000 Loss: 0.00400 :   0%|                  | 1/237 [00:00<00:31,  7.57it/s]"
          ],
          "name": "stderr"
        },
        {
          "output_type": "stream",
          "text": [
            "Validation -- Accuracy: 0.88608 Loss: 0.00540 \n",
            "\n"
          ],
          "name": "stdout"
        },
        {
          "output_type": "stream",
          "text": [
            "Epoch: 100 Accuracy: 0.96203 Loss: 0.01125 : 100%|████████████████| 237/237 [00:35<00:00,  6.71it/s]\n"
          ],
          "name": "stderr"
        },
        {
          "output_type": "stream",
          "text": [
            "Validation -- Accuracy: 0.74684 Loss: 0.00435 \n",
            "\n"
          ],
          "name": "stdout"
        }
      ]
    },
    {
      "cell_type": "code",
      "metadata": {
        "colab": {
          "base_uri": "https://localhost:8080/",
          "height": 283
        },
        "id": "rpupTOMPlWD8",
        "outputId": "800670f7-a48e-41a0-a852-c9587152412a"
      },
      "source": [
        "history = pd.DataFrame({\"Train\":TRAINING_acc,\"Validation\":VALIDATION_acc})\n",
        "history.plot()"
      ],
      "execution_count": null,
      "outputs": [
        {
          "output_type": "execute_result",
          "data": {
            "text/plain": [
              "<matplotlib.axes._subplots.AxesSubplot at 0x7f43a17a44e0>"
            ]
          },
          "metadata": {
            "tags": []
          },
          "execution_count": 17
        },
        {
          "output_type": "display_data",
          "data": {
            "image/png": "[encoded data removed]",
            "text/plain": [
              "<Figure size 432x288 with 1 Axes>"
            ]
          },
          "metadata": {
            "tags": [],
            "needs_background": "light"
          }
        }
      ]
    },
    {
      "cell_type": "code",
      "metadata": {
        "id": "HKcqur-COdox",
        "outputId": "ad451bcb-3e51-473b-f020-38fc05536abc",
        "colab": {
          "base_uri": "https://localhost:8080/",
          "height": 284
        }
      },
      "source": [
        "history = pd.DataFrame({\"Train\":TRAINING_acc,\"Validation\":VALIDATION_acc})\n",
        "history.plot()"
      ],
      "execution_count": 22,
      "outputs": [
        {
          "output_type": "execute_result",
          "data": {
            "text/plain": [
              "<matplotlib.axes._subplots.AxesSubplot at 0x7f6b79894a10>"
            ]
          },
          "metadata": {
            "tags": []
          },
          "execution_count": 22
        },
        {
          "output_type": "display_data",
          "data": {
            "image/png": "[encoded data removed]",
            "text/plain": [
              "<Figure size 432x288 with 1 Axes>"
            ]
          },
          "metadata": {
            "tags": [],
            "needs_background": "light"
          }
        }
      ]
    },
    {
      "cell_type": "code",
      "metadata": {
        "colab": {
          "base_uri": "https://localhost:8080/"
        },
        "id": "_PV_uLtQnaO4",
        "outputId": "78de8942-9ec4-462e-cc9e-fc8ab5a5036d"
      },
      "source": [
        "!ls"
      ],
      "execution_count": 23,
      "outputs": [
        {
          "output_type": "stream",
          "text": [
            "checkpoint_densenet161_1_0.50633.ph   checkpoint_densenet161_42_0.88608.ph\n",
            "checkpoint_densenet161_18_0.82278.ph  checkpoint_densenet161_9_0.79747.ph\n",
            "checkpoint_densenet161_24_0.87342.ph  OpticDiscs\n",
            "checkpoint_densenet161_3_0.62025.ph   test_data.csv\n",
            "checkpoint_densenet161_4_0.74684.ph\n"
          ],
          "name": "stdout"
        }
      ]
    },
    {
      "cell_type": "code",
      "metadata": {
        "id": "VumKHi2Snf4F"
      },
      "source": [
        "torch.save(model,\"checkpointDENSENET.ph\")"
      ],
      "execution_count": null,
      "outputs": []
    },
    {
      "cell_type": "code",
      "metadata": {
        "colab": {
          "base_uri": "https://localhost:8080/"
        },
        "id": "iYI16QYGyqLF",
        "outputId": "7148a34d-54aa-4c76-aafd-ebeb4d4b4e6e"
      },
      "source": [
        "for c in y:\n",
        "  print(c)"
      ],
      "execution_count": null,
      "outputs": [
        {
          "output_type": "stream",
          "text": [
            "1\n"
          ],
          "name": "stdout"
        }
      ]
    },
    {
      "cell_type": "markdown",
      "metadata": {
        "id": "Hv2fODvHJlIM"
      },
      "source": [
        "## Evaluation"
      ]
    },
    {
      "cell_type": "code",
      "metadata": {
        "id": "5ennB90UVVmb"
      },
      "source": [
        "model = torch.load('checkpoint_densenet161_15_0.89333.ph')"
      ],
      "execution_count": null,
      "outputs": []
    },
    {
      "cell_type": "code",
      "metadata": {
        "id": "VLd2H4FrJnXo"
      },
      "source": [
        "from sklearn.metrics import confusion_matrix\n",
        "import numpy as np"
      ],
      "execution_count": null,
      "outputs": []
    },
    {
      "cell_type": "code",
      "metadata": {
        "id": "v6nVWUqYJoDh"
      },
      "source": [
        "predicted = []\n",
        "true_values = []\n",
        "all_predicted = []\n",
        "all_true = []\n",
        "for point in range(len(X_test)//batch_size):\n",
        "    with torch.no_grad():\n",
        "\n",
        "        X = X_test.iloc[point*batch_size:(point+1)*batch_size]\n",
        "        y = y_test.iloc[point*batch_size:(point+1)*batch_size]\n",
        "\n",
        "        true_values.append(y.values)\n",
        "        # Load images\n",
        "        try:\n",
        "            images = [Image.open(File) for File in X]\n",
        "        except:\n",
        "            continue\n",
        "        # Load y_true\n",
        "        y_true = torch.LongTensor([c for c in y]).to(device)\n",
        "        \n",
        "        # Convert images to tensor\n",
        "        x_batch = torch.FloatTensor().to(device)\n",
        "        for image in images:\n",
        "            P = composed(image).unsqueeze(0).to(device)\n",
        "            x_batch = torch.cat((x_batch,P))\n",
        "\n",
        "        \n",
        "        outputs = model(x_batch)\n",
        "        loss = criterion(outputs, y_true)\n",
        "        all_predicted.append(outputs.cpu().detach().numpy()[0][1])\n",
        "        all_true.append(y_true.cpu().detach().numpy()[0])\n",
        "        \n",
        "        _, preds = torch.max(outputs, 1)\n",
        "        predicted.append(preds)"
      ],
      "execution_count": null,
      "outputs": []
    },
    {
      "cell_type": "code",
      "metadata": {
        "id": "NwUWGj_IKoup"
      },
      "source": [
        "true_values = np.array(true_values).reshape(-1)\n",
        "dummy = torch.FloatTensor().to(device)\n",
        "for tensor in predicted:\n",
        "    dummy = torch.cat((dummy,tensor))\n",
        "predicted = dummy.view(-1).cpu().numpy()"
      ],
      "execution_count": null,
      "outputs": []
    },
    {
      "cell_type": "code",
      "metadata": {
        "colab": {
          "base_uri": "https://localhost:8080/"
        },
        "id": "FjxNUd7jk_-j",
        "outputId": "f2d91746-e21c-4057-eb1e-c2833e95bafa"
      },
      "source": [
        "confusion_matrix(true_values, predicted)"
      ],
      "execution_count": null,
      "outputs": [
        {
          "output_type": "execute_result",
          "data": {
            "text/plain": [
              "array([[33,  4],\n",
              "       [ 5, 33]])"
            ]
          },
          "metadata": {
            "tags": []
          },
          "execution_count": 20
        }
      ]
    },
    {
      "cell_type": "code",
      "metadata": {
        "id": "ukHy0FRQBGil",
        "colab": {
          "base_uri": "https://localhost:8080/"
        },
        "outputId": "85824769-5c95-4c40-8f88-6db562c519ef"
      },
      "source": [
        "from sklearn.metrics import roc_curve\n",
        "import matplotlib.pyplot as plt\n",
        "from sklearn.metrics import roc_auc_score\n",
        "\n",
        "ns_fpr, ns_tpr, _ = roc_curve(all_true, all_predicted)\n",
        "plt.plot(ns_fpr,ns_tpr)\n",
        "plt.xlabel(\"FPR\")\n",
        "plt.ylabel(\"TPR\")\n",
        "print(roc_auc_score(all_true, all_predicted))"
      ],
      "execution_count": null,
      "outputs": [
        {
          "output_type": "execute_result",
          "data": {
            "text/plain": [
              "0.88"
            ]
          },
          "metadata": {
            "tags": []
          },
          "execution_count": 23
        }
      ]
    },
    {
      "cell_type": "code",
      "metadata": {
        "id": "OnKODPkQuxfE"
      },
      "source": [
        ""
      ],
      "execution_count": null,
      "outputs": []
    }
  ]
}