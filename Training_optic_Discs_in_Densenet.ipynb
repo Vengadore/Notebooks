{
  "nbformat": 4,
  "nbformat_minor": 0,
  "metadata": {
    "accelerator": "GPU",
    "colab": {
      "name": "Training_optic_Discs_in_Densenet.ipynb",
      "provenance": [],
      "toc_visible": true,
      "include_colab_link": true
    },
    "kernelspec": {
      "display_name": "Python 3",
      "language": "python",
      "name": "python3"
    },
    "language_info": {
      "codemirror_mode": {
        "name": "ipython",
        "version": 3
      },
      "file_extension": ".py",
      "mimetype": "text/x-python",
      "name": "python",
      "nbconvert_exporter": "python",
      "pygments_lexer": "ipython3",
      "version": "3.6.10"
    }
  },
  "cells": [
    {
      "cell_type": "markdown",
      "metadata": {
        "id": "view-in-github",
        "colab_type": "text"
      },
      "source": [
        "<a href=\"https://colab.research.google.com/github/Vengadore/Notebooks/blob/master/Training_optic_Discs_in_Densenet.ipynb\" target=\"_parent\"><img src=\"https://colab.research.google.com/assets/colab-badge.svg\" alt=\"Open In Colab\"/></a>"
      ]
    },
    {
      "cell_type": "markdown",
      "metadata": {
        "id": "nVm5Ats_YVEZ"
      },
      "source": [
        "# Diabetic Retinopathy Detection\n",
        "\n",
        "Kaggle has a large competition of Diabetic Retinopathy detection which can be found here:\n",
        "https://www.kaggle.com/c/diabetic-retinopathy-detection/\n",
        "\n",
        "Their dataset consists in 35126 images labeled from 0 to 4 according to the degree of Retinopathy.\n",
        "An analysis of the data is provided in this notebook."
      ]
    },
    {
      "cell_type": "code",
      "metadata": {
        "colab": {
          "base_uri": "https://localhost:8080/"
        },
        "id": "QABUN5czaGrr",
        "outputId": "20b04de1-c49a-4cb5-9f9f-efa7bf5349b2"
      },
      "source": [
        "!rm -rf sample_data\n",
        "!nvidia-smi"
      ],
      "execution_count": 2,
      "outputs": [
        {
          "output_type": "stream",
          "text": [
            "Sat Feb 20 23:31:21 2021       \n",
            "+-----------------------------------------------------------------------------+\n",
            "| NVIDIA-SMI 460.39       Driver Version: 460.32.03    CUDA Version: 11.2     |\n",
            "|-------------------------------+----------------------+----------------------+\n",
            "| GPU  Name        Persistence-M| Bus-Id        Disp.A | Volatile Uncorr. ECC |\n",
            "| Fan  Temp  Perf  Pwr:Usage/Cap|         Memory-Usage | GPU-Util  Compute M. |\n",
            "|                               |                      |               MIG M. |\n",
            "|===============================+======================+======================|\n",
            "|   0  Tesla T4            Off  | 00000000:00:04.0 Off |                    0 |\n",
            "| N/A   52C    P8    10W /  70W |      0MiB / 15109MiB |      0%      Default |\n",
            "|                               |                      |                  N/A |\n",
            "+-------------------------------+----------------------+----------------------+\n",
            "                                                                               \n",
            "+-----------------------------------------------------------------------------+\n",
            "| Processes:                                                                  |\n",
            "|  GPU   GI   CI        PID   Type   Process name                  GPU Memory |\n",
            "|        ID   ID                                                   Usage      |\n",
            "|=============================================================================|\n",
            "|  No running processes found                                                 |\n",
            "+-----------------------------------------------------------------------------+\n"
          ],
          "name": "stdout"
        }
      ]
    },
    {
      "cell_type": "markdown",
      "metadata": {
        "id": "MrtmQaiBbcy5"
      },
      "source": [
        "### Install dependencies"
      ]
    },
    {
      "cell_type": "code",
      "metadata": {
        "id": "gKfg7kcTbb4h"
      },
      "source": [
        "from IPython.display import clear_output\n",
        "\n",
        "!pip install torch==1.7.1+cu101 torchvision==0.8.1+cu101 -f https://download.pytorch.org/whl/torch_stable.html\n",
        "!pip install efficientnet_pytorch\n",
        "clear_output(wait=False)"
      ],
      "execution_count": 3,
      "outputs": []
    },
    {
      "cell_type": "markdown",
      "metadata": {
        "id": "AO_cEyuIeDjq"
      },
      "source": [
        "## Load data from local drive\n"
      ]
    },
    {
      "cell_type": "code",
      "metadata": {
        "colab": {
          "base_uri": "https://localhost:8080/"
        },
        "id": "BWk0Ox2ueHNB",
        "outputId": "494cd949-d3f3-431f-ecdd-fa35af05e4ad"
      },
      "source": [
        "!wget -O File.zip \"https://correoipn-my.sharepoint.com/:u:/g/personal/ccarrillog1400_alumno_ipn_mx/ETdcB8GscyBAkhUFvNMzpoUBLLgg7ej9Q3t4rK_bR8ngSA?download=1\"\n",
        "!unzip File.zip\n",
        "!rm File.zip\n",
        "clear_output(wait=False)\n",
        "print(\"Data Downloaded\")"
      ],
      "execution_count": 4,
      "outputs": [
        {
          "output_type": "stream",
          "text": [
            "Data Downloaded\n"
          ],
          "name": "stdout"
        }
      ]
    },
    {
      "cell_type": "code",
      "metadata": {
        "id": "PUCY7oQLorC9"
      },
      "source": [
        "!rm checkpoint*"
      ],
      "execution_count": 1,
      "outputs": []
    },
    {
      "cell_type": "code",
      "metadata": {
        "colab": {
          "base_uri": "https://localhost:8080/",
          "height": 206
        },
        "id": "dNqkjvcUetED",
        "outputId": "e1649da7-acad-45df-9a3a-08c9ddf39835"
      },
      "source": [
        "import pandas as pd\n",
        "import os\n",
        "\n",
        "Bad =  pd.DataFrame({\"imageFilename\":[os.path.join(\"./OpticDiscs/Neovessels\",File) for File in os.listdir(\"./OpticDiscs/Neovessels\") if \".jpeg\" in File]})\n",
        "Good = pd.DataFrame({\"imageFilename\":[os.path.join(\"./OpticDiscs/Good images\",File) for File in os.listdir(\"./OpticDiscs/Good images\") if \".jpeg\" in File]}).sample(len(Bad),random_state = 42)\n",
        "\n",
        "data = pd.concat((Good,Bad),axis = 0)\n",
        "data.head()\n",
        "data['class'] = data['imageFilename'].apply(lambda x : 1 if \"Good\" in x else 0)\n",
        "data = data.reset_index()\n",
        "data = data[['imageFilename','class']]\n",
        "data.head()"
      ],
      "execution_count": 1,
      "outputs": [
        {
          "output_type": "execute_result",
          "data": {
            "text/html": [
              "<div>\n",
              "<style scoped>\n",
              "    .dataframe tbody tr th:only-of-type {\n",
              "        vertical-align: middle;\n",
              "    }\n",
              "\n",
              "    .dataframe tbody tr th {\n",
              "        vertical-align: top;\n",
              "    }\n",
              "\n",
              "    .dataframe thead th {\n",
              "        text-align: right;\n",
              "    }\n",
              "</style>\n",
              "<table border=\"1\" class=\"dataframe\">\n",
              "  <thead>\n",
              "    <tr style=\"text-align: right;\">\n",
              "      <th></th>\n",
              "      <th>imageFilename</th>\n",
              "      <th>class</th>\n",
              "    </tr>\n",
              "  </thead>\n",
              "  <tbody>\n",
              "    <tr>\n",
              "      <th>0</th>\n",
              "      <td>./OpticDiscs/Good images/4270_left.jpeg</td>\n",
              "      <td>1</td>\n",
              "    </tr>\n",
              "    <tr>\n",
              "      <th>1</th>\n",
              "      <td>./OpticDiscs/Good images/26079_left.jpeg</td>\n",
              "      <td>1</td>\n",
              "    </tr>\n",
              "    <tr>\n",
              "      <th>2</th>\n",
              "      <td>./OpticDiscs/Good images/4998_right.jpeg</td>\n",
              "      <td>1</td>\n",
              "    </tr>\n",
              "    <tr>\n",
              "      <th>3</th>\n",
              "      <td>./OpticDiscs/Good images/21026_right.jpeg</td>\n",
              "      <td>1</td>\n",
              "    </tr>\n",
              "    <tr>\n",
              "      <th>4</th>\n",
              "      <td>./OpticDiscs/Good images/40631_left.jpeg</td>\n",
              "      <td>1</td>\n",
              "    </tr>\n",
              "  </tbody>\n",
              "</table>\n",
              "</div>"
            ],
            "text/plain": [
              "                               imageFilename  class\n",
              "0    ./OpticDiscs/Good images/4270_left.jpeg      1\n",
              "1   ./OpticDiscs/Good images/26079_left.jpeg      1\n",
              "2   ./OpticDiscs/Good images/4998_right.jpeg      1\n",
              "3  ./OpticDiscs/Good images/21026_right.jpeg      1\n",
              "4   ./OpticDiscs/Good images/40631_left.jpeg      1"
            ]
          },
          "metadata": {
            "tags": []
          },
          "execution_count": 1
        }
      ]
    },
    {
      "cell_type": "code",
      "metadata": {
        "colab": {
          "base_uri": "https://localhost:8080/"
        },
        "id": "s3N0Ue5MCvlk",
        "outputId": "e55baff0-ec88-4bef-fab9-9c963b6e18e7"
      },
      "source": [
        "len(data)"
      ],
      "execution_count": 2,
      "outputs": [
        {
          "output_type": "execute_result",
          "data": {
            "text/plain": [
              "374"
            ]
          },
          "metadata": {
            "tags": []
          },
          "execution_count": 2
        }
      ]
    },
    {
      "cell_type": "markdown",
      "metadata": {
        "id": "deKSOu-Kd8Yk"
      },
      "source": [
        "#### Split data"
      ]
    },
    {
      "cell_type": "code",
      "metadata": {
        "id": "4w3TUlaqd7qi"
      },
      "source": [
        "from sklearn.model_selection import train_test_split\n",
        "\n",
        "Train,Validation = train_test_split(data,test_size = 0.40,random_state = 65)\n",
        "X_train = Train['imageFilename']\n",
        "y_train = Train['class']\n",
        "#Split data\n",
        "X_validation, X_test, y_validation, y_test = train_test_split(Validation['imageFilename'], Validation['class'], test_size=0.50, random_state=65)\n"
      ],
      "execution_count": 3,
      "outputs": []
    },
    {
      "cell_type": "code",
      "metadata": {
        "colab": {
          "base_uri": "https://localhost:8080/"
        },
        "id": "n3hQn37YfvsA",
        "outputId": "a4f048f1-4072-4432-e27a-a8f8d792618f"
      },
      "source": [
        "print(\"Datos de entrenamiento:\")\r\n",
        "print(y_train.value_counts())\r\n",
        "print(\"Datos de validación:\")\r\n",
        "print(y_validation.value_counts())\r\n",
        "print(\"Datos de test:\")\r\n",
        "print(y_test.value_counts())"
      ],
      "execution_count": 4,
      "outputs": [
        {
          "output_type": "stream",
          "text": [
            "Datos de entrenamiento:\n",
            "0    119\n",
            "1    105\n",
            "Name: class, dtype: int64\n",
            "Datos de validación:\n",
            "1    44\n",
            "0    31\n",
            "Name: class, dtype: int64\n",
            "Datos de test:\n",
            "1    38\n",
            "0    37\n",
            "Name: class, dtype: int64\n"
          ],
          "name": "stdout"
        }
      ]
    },
    {
      "cell_type": "code",
      "metadata": {
        "colab": {
          "base_uri": "https://localhost:8080/",
          "height": 206
        },
        "id": "nVIy3dn7eKFq",
        "outputId": "added063-6f7c-4ce2-e9c4-45a0be0d33a8"
      },
      "source": [
        "test_data = pd.DataFrame({'image':X_test,'class':y_test})\n",
        "test_data['image'] = test_data['image'].apply(lambda x : x.split('/')[-1])\n",
        "test_data.head()"
      ],
      "execution_count": 5,
      "outputs": [
        {
          "output_type": "execute_result",
          "data": {
            "text/html": [
              "<div>\n",
              "<style scoped>\n",
              "    .dataframe tbody tr th:only-of-type {\n",
              "        vertical-align: middle;\n",
              "    }\n",
              "\n",
              "    .dataframe tbody tr th {\n",
              "        vertical-align: top;\n",
              "    }\n",
              "\n",
              "    .dataframe thead th {\n",
              "        text-align: right;\n",
              "    }\n",
              "</style>\n",
              "<table border=\"1\" class=\"dataframe\">\n",
              "  <thead>\n",
              "    <tr style=\"text-align: right;\">\n",
              "      <th></th>\n",
              "      <th>image</th>\n",
              "      <th>class</th>\n",
              "    </tr>\n",
              "  </thead>\n",
              "  <tbody>\n",
              "    <tr>\n",
              "      <th>198</th>\n",
              "      <td>37829_left.jpeg</td>\n",
              "      <td>0</td>\n",
              "    </tr>\n",
              "    <tr>\n",
              "      <th>9</th>\n",
              "      <td>29712_left.jpeg</td>\n",
              "      <td>1</td>\n",
              "    </tr>\n",
              "    <tr>\n",
              "      <th>132</th>\n",
              "      <td>32085_right.jpeg</td>\n",
              "      <td>1</td>\n",
              "    </tr>\n",
              "    <tr>\n",
              "      <th>259</th>\n",
              "      <td>11896_left.jpeg</td>\n",
              "      <td>0</td>\n",
              "    </tr>\n",
              "    <tr>\n",
              "      <th>208</th>\n",
              "      <td>21096_left.jpeg</td>\n",
              "      <td>0</td>\n",
              "    </tr>\n",
              "  </tbody>\n",
              "</table>\n",
              "</div>"
            ],
            "text/plain": [
              "                image  class\n",
              "198   37829_left.jpeg      0\n",
              "9     29712_left.jpeg      1\n",
              "132  32085_right.jpeg      1\n",
              "259   11896_left.jpeg      0\n",
              "208   21096_left.jpeg      0"
            ]
          },
          "metadata": {
            "tags": []
          },
          "execution_count": 5
        }
      ]
    },
    {
      "cell_type": "code",
      "metadata": {
        "id": "1YsYT7VjerXq"
      },
      "source": [
        "test_data.to_csv('test_data.csv',index=False)"
      ],
      "execution_count": 6,
      "outputs": []
    },
    {
      "cell_type": "markdown",
      "metadata": {
        "id": "mPh3qDdIdkHh"
      },
      "source": [
        "## Definition of the model"
      ]
    },
    {
      "cell_type": "code",
      "metadata": {
        "id": "Z-FUmuJidoy3"
      },
      "source": [
        "import torchvision.models as models\n",
        "import torch\n",
        "network_name = 'densenet161'\n",
        "model = models.densenet161(pretrained=True)"
      ],
      "execution_count": 7,
      "outputs": []
    },
    {
      "cell_type": "code",
      "metadata": {
        "colab": {
          "base_uri": "https://localhost:8080/"
        },
        "id": "drpW39Qwj3l9",
        "outputId": "b5e1d4fc-03e0-46d1-fe25-e6c99f43b17c"
      },
      "source": [
        "model.classifier"
      ],
      "execution_count": 8,
      "outputs": [
        {
          "output_type": "execute_result",
          "data": {
            "text/plain": [
              "Linear(in_features=2208, out_features=1000, bias=True)"
            ]
          },
          "metadata": {
            "tags": []
          },
          "execution_count": 8
        }
      ]
    },
    {
      "cell_type": "code",
      "metadata": {
        "id": "Cu_aoH7-tBsT"
      },
      "source": [
        "## Change efficientnet final layer\n",
        "model.classifier = torch.nn.Linear(in_features=2208,out_features=2,bias = True)"
      ],
      "execution_count": 9,
      "outputs": []
    },
    {
      "cell_type": "code",
      "metadata": {
        "colab": {
          "base_uri": "https://localhost:8080/"
        },
        "id": "dNns-LOy6TrK",
        "outputId": "37f63983-df44-45f5-84a6-2d99d3182251"
      },
      "source": [
        "def count_parameters(model):\r\n",
        "    return sum(p.numel() for p in model.parameters() if p.requires_grad)\r\n",
        "\r\n",
        "count_parameters(model)"
      ],
      "execution_count": 10,
      "outputs": [
        {
          "output_type": "execute_result",
          "data": {
            "text/plain": [
              "26476418"
            ]
          },
          "metadata": {
            "tags": []
          },
          "execution_count": 10
        }
      ]
    },
    {
      "cell_type": "code",
      "metadata": {
        "id": "5BR_Hs12gAqx"
      },
      "source": [
        "from torchvision.transforms import Resize,ToTensor,Compose,Normalize\n",
        "from torchvision.transforms import RandomHorizontalFlip,RandomVerticalFlip,RandomRotation,ColorJitter,RandomResizedCrop,RandomPerspective,GaussianBlur\n",
        "from PIL import Image\n",
        "\n",
        "transforms = Compose([RandomHorizontalFlip(),RandomVerticalFlip(),\n",
        "                      RandomRotation(180),ColorJitter(0.5,0.5,0.5),\n",
        "                      RandomResizedCrop((224 ,224), scale=(0.7, 1.2)),\n",
        "                      RandomPerspective(),\n",
        "                      GaussianBlur((3,3))]) # Transformations for the training images\n",
        "\n",
        "composed = Compose([Resize(224), # Resize to a fit size for efficientnet\n",
        "                    ToTensor(),  # Convert into sensor\n",
        "                    Normalize((0.5, 0.5, 0.5), (0.5, 0.5, 0.5))]) # Normalize image"
      ],
      "execution_count": 11,
      "outputs": []
    },
    {
      "cell_type": "markdown",
      "metadata": {
        "id": "mWg1p7EQtqVZ"
      },
      "source": [
        "### Training parameters"
      ]
    },
    {
      "cell_type": "code",
      "metadata": {
        "id": "EiT-MlPutsZR"
      },
      "source": [
        "device = torch.device('cuda' if torch.cuda.is_available() else 'cpu')\n",
        "model.to(device);\n",
        "seed = 17\n",
        "torch.manual_seed(seed)\n",
        "criterion = torch.nn.CrossEntropyLoss()\n",
        "optimizer = torch.optim.Adam(model.parameters(), lr=0.00005)"
      ],
      "execution_count": 13,
      "outputs": []
    },
    {
      "cell_type": "code",
      "metadata": {
        "id": "iJWflI4JoVRW"
      },
      "source": [
        "try:\n",
        "    model = torch.load('./checkpoint_densenet161_87_0.93333.ph', map_location=device)\n",
        "except:\n",
        "    print(\"No Checkpoint loaded\")"
      ],
      "execution_count": 14,
      "outputs": []
    },
    {
      "cell_type": "code",
      "metadata": {
        "id": "lcTzzyr5uUdr"
      },
      "source": [
        "classes = {0:[0,0,0,0,1],\n",
        "           1:[0,0,0,1,0],\n",
        "           2:[0,0,1,0,0],\n",
        "           3:[0,1,0,0,0],\n",
        "           4:[1,0,0,0,0]}"
      ],
      "execution_count": 15,
      "outputs": []
    },
    {
      "cell_type": "code",
      "metadata": {
        "colab": {
          "base_uri": "https://localhost:8080/"
        },
        "id": "RkvlQWRQtjXo",
        "outputId": "0390776e-d450-46d8-e23a-d636c4e75caf"
      },
      "source": [
        "from tqdm import tqdm\n",
        "import random\n",
        "random.seed(seed)\n",
        "\n",
        "epochs = 100\n",
        "batch_size = 1  # I will use batch size of 1 to keep the ratio of each image\n",
        "\n",
        "TRAINING_acc = []\n",
        "VALIDATION_acc = []\n",
        "BEST_val_acc = 0.0\n",
        "\n",
        "for epoch in range(epochs):\n",
        "    \n",
        "    indexes = [idx for idx in range(len(X_train))]\n",
        "    pbar = tqdm( range(len(X_train)//batch_size),ncols = 100)\n",
        "    running_loss = 0.0\n",
        "    running_acc = 0.0\n",
        "    t = 0\n",
        "\n",
        "    for step in pbar:\n",
        "        # Load data\n",
        "        idx = random.sample(indexes,batch_size)\n",
        "        X = X_train.iloc[idx]\n",
        "        y = y_train.iloc[idx]\n",
        "\n",
        "        # Remove indexes\n",
        "        [indexes.remove(i) for i in idx]\n",
        "\n",
        "        # Load images\n",
        "        try:\n",
        "            images = [Image.open(File) for File in X]\n",
        "        except:\n",
        "            continue\n",
        "        # Load y_true\n",
        "        y_true = torch.LongTensor([c for c in y]).to(device)\n",
        "        \n",
        "        # Convert images to tensor\n",
        "        x_batch = torch.FloatTensor().to(device)\n",
        "        for image in images:\n",
        "            P = transforms(image)\n",
        "            P = composed(P).unsqueeze(0).to(device)\n",
        "            x_batch = torch.cat((x_batch,P))\n",
        "\n",
        "        # zero the parameter gradients\n",
        "        optimizer.zero_grad()\n",
        "        # forward + backward + optimize\n",
        "        outputs = model(x_batch)\n",
        "        loss = criterion(outputs, y_true)\n",
        "        loss.backward()\n",
        "        optimizer.step()\n",
        "        # print statistics\n",
        "        running_loss += loss.item()\n",
        "        t += batch_size\n",
        "\n",
        "        _, preds = torch.max(outputs, 1)\n",
        "        running_acc += torch.sum(preds == y_true).cpu().detach().numpy()\n",
        "        acc = torch.sum(preds == y_true).cpu().detach().numpy()/batch_size;\n",
        "        pbar.set_description(\"Epoch: {} Accuracy: {:0.5f} Loss: {:0.5f} \".format(epoch+1,running_acc/t,loss.item()))\n",
        "    #Validation\n",
        "    TRAINING_acc.append(running_acc/t)\n",
        "    val_acc = 0.0\n",
        "    val_loss = 0.0\n",
        "    t = 0\n",
        "    for point in range(len(X_validation)//batch_size):\n",
        "        with torch.no_grad():\n",
        "\n",
        "            X = X_validation.iloc[point*batch_size:(point+1)*batch_size]\n",
        "            y = y_validation.iloc[point*batch_size:(point+1)*batch_size]\n",
        "\n",
        "\n",
        "            # Load images\n",
        "            try:\n",
        "                images = [Image.open(File) for File in X]\n",
        "            except:\n",
        "                continue\n",
        "            # Load y_true\n",
        "            y_true = torch.LongTensor([c for c in y]).to(device)\n",
        "            \n",
        "            # Convert images to tensor\n",
        "            x_batch = torch.FloatTensor().to(device)\n",
        "            for image in images:\n",
        "                P = composed(image).unsqueeze(0).to(device)\n",
        "                x_batch = torch.cat((x_batch,P))\n",
        "\n",
        "            \n",
        "            outputs = model(x_batch)\n",
        "            loss = criterion(outputs, y_true)\n",
        "            val_loss += loss.item()\n",
        "            t += batch_size\n",
        "            _, preds = torch.max(outputs, 1)\n",
        "            val_acc += torch.sum(preds == y_true).cpu().detach().numpy()\n",
        "    VALIDATION_acc.append(val_acc/t)\n",
        "    print(\"Validation -- Accuracy: {:0.5f} Loss: {:0.5f} \\n\".format(val_acc/t,loss.item()))\n",
        "    if val_acc/t > BEST_val_acc:\n",
        "        try:\n",
        "            torch.save(model,\"/content/checkpoint_{}_{}_{:0.5f}.ph\".format(network_name,epoch+1,val_acc/t))\n",
        "            BEST_val_acc = val_acc/t\n",
        "        except:\n",
        "            continue"
      ],
      "execution_count": 16,
      "outputs": [
        {
          "output_type": "stream",
          "text": [
            "Epoch: 1 Accuracy: 0.98214 Loss: 0.01787 : 100%|██████████████████| 224/224 [00:28<00:00,  7.90it/s]\n"
          ],
          "name": "stderr"
        },
        {
          "output_type": "stream",
          "text": [
            "Validation -- Accuracy: 0.93333 Loss: 0.01861 \n",
            "\n"
          ],
          "name": "stdout"
        },
        {
          "output_type": "stream",
          "text": [
            "Epoch: 2 Accuracy: 0.96429 Loss: 0.00744 : 100%|██████████████████| 224/224 [00:28<00:00,  7.86it/s]\n",
            "Epoch: 3 Accuracy: 1.00000 Loss: 0.08373 :   0%|                    | 1/224 [00:00<00:26,  8.29it/s]"
          ],
          "name": "stderr"
        },
        {
          "output_type": "stream",
          "text": [
            "Validation -- Accuracy: 0.93333 Loss: 0.01861 \n",
            "\n"
          ],
          "name": "stdout"
        },
        {
          "output_type": "stream",
          "text": [
            "Epoch: 3 Accuracy: 0.97768 Loss: 0.00697 : 100%|██████████████████| 224/224 [00:28<00:00,  7.94it/s]\n",
            "Epoch: 4 Accuracy: 1.00000 Loss: 0.00780 :   0%|                    | 1/224 [00:00<00:26,  8.54it/s]"
          ],
          "name": "stderr"
        },
        {
          "output_type": "stream",
          "text": [
            "Validation -- Accuracy: 0.93333 Loss: 0.01861 \n",
            "\n"
          ],
          "name": "stdout"
        },
        {
          "output_type": "stream",
          "text": [
            "Epoch: 4 Accuracy: 0.95536 Loss: 0.00902 : 100%|██████████████████| 224/224 [00:28<00:00,  7.94it/s]\n",
            "Epoch: 5 Accuracy: 1.00000 Loss: 0.01140 :   0%|                    | 1/224 [00:00<00:28,  7.91it/s]"
          ],
          "name": "stderr"
        },
        {
          "output_type": "stream",
          "text": [
            "Validation -- Accuracy: 0.93333 Loss: 0.01861 \n",
            "\n"
          ],
          "name": "stdout"
        },
        {
          "output_type": "stream",
          "text": [
            "Epoch: 5 Accuracy: 0.96875 Loss: 0.11495 : 100%|██████████████████| 224/224 [00:28<00:00,  7.98it/s]\n",
            "Epoch: 6 Accuracy: 1.00000 Loss: 0.00759 :   0%|                    | 1/224 [00:00<00:24,  9.25it/s]"
          ],
          "name": "stderr"
        },
        {
          "output_type": "stream",
          "text": [
            "Validation -- Accuracy: 0.93333 Loss: 0.01861 \n",
            "\n"
          ],
          "name": "stdout"
        },
        {
          "output_type": "stream",
          "text": [
            "Epoch: 6 Accuracy: 0.97768 Loss: 0.01180 : 100%|██████████████████| 224/224 [00:28<00:00,  7.94it/s]\n",
            "Epoch: 7 Accuracy: 1.00000 Loss: 0.00917 :   0%|                    | 1/224 [00:00<00:30,  7.22it/s]"
          ],
          "name": "stderr"
        },
        {
          "output_type": "stream",
          "text": [
            "Validation -- Accuracy: 0.93333 Loss: 0.01861 \n",
            "\n"
          ],
          "name": "stdout"
        },
        {
          "output_type": "stream",
          "text": [
            "Epoch: 7 Accuracy: 0.95982 Loss: 0.02282 : 100%|██████████████████| 224/224 [00:28<00:00,  7.96it/s]\n",
            "Epoch: 8 Accuracy: 1.00000 Loss: 0.01681 :   0%|                    | 1/224 [00:00<00:25,  8.88it/s]"
          ],
          "name": "stderr"
        },
        {
          "output_type": "stream",
          "text": [
            "Validation -- Accuracy: 0.93333 Loss: 0.01861 \n",
            "\n"
          ],
          "name": "stdout"
        },
        {
          "output_type": "stream",
          "text": [
            "Epoch: 8 Accuracy: 0.96429 Loss: 0.01373 : 100%|██████████████████| 224/224 [00:28<00:00,  7.92it/s]\n",
            "Epoch: 9 Accuracy: 1.00000 Loss: 0.01219 :   0%|                    | 1/224 [00:00<00:30,  7.20it/s]"
          ],
          "name": "stderr"
        },
        {
          "output_type": "stream",
          "text": [
            "Validation -- Accuracy: 0.93333 Loss: 0.01861 \n",
            "\n"
          ],
          "name": "stdout"
        },
        {
          "output_type": "stream",
          "text": [
            "Epoch: 9 Accuracy: 0.97321 Loss: 0.01165 : 100%|██████████████████| 224/224 [00:28<00:00,  7.93it/s]\n",
            "Epoch: 10 Accuracy: 1.00000 Loss: 0.11547 :   0%|                   | 1/224 [00:00<00:33,  6.68it/s]"
          ],
          "name": "stderr"
        },
        {
          "output_type": "stream",
          "text": [
            "Validation -- Accuracy: 0.93333 Loss: 0.01861 \n",
            "\n"
          ],
          "name": "stdout"
        },
        {
          "output_type": "stream",
          "text": [
            "Epoch: 10 Accuracy: 0.98214 Loss: 0.01510 : 100%|█████████████████| 224/224 [00:28<00:00,  7.97it/s]\n",
            "Epoch: 11 Accuracy: 1.00000 Loss: 0.01224 :   0%|                   | 1/224 [00:00<00:24,  9.18it/s]"
          ],
          "name": "stderr"
        },
        {
          "output_type": "stream",
          "text": [
            "Validation -- Accuracy: 0.93333 Loss: 0.01861 \n",
            "\n"
          ],
          "name": "stdout"
        },
        {
          "output_type": "stream",
          "text": [
            "Epoch: 11 Accuracy: 0.95536 Loss: 0.02450 : 100%|█████████████████| 224/224 [00:28<00:00,  7.88it/s]\n",
            "Epoch: 12 Accuracy: 1.00000 Loss: 0.00721 :   0%|                   | 1/224 [00:00<00:29,  7.46it/s]"
          ],
          "name": "stderr"
        },
        {
          "output_type": "stream",
          "text": [
            "Validation -- Accuracy: 0.93333 Loss: 0.01861 \n",
            "\n"
          ],
          "name": "stdout"
        },
        {
          "output_type": "stream",
          "text": [
            "Epoch: 12 Accuracy: 0.95982 Loss: 0.04364 : 100%|█████████████████| 224/224 [00:28<00:00,  7.85it/s]\n",
            "Epoch: 13 Accuracy: 1.00000 Loss: 0.04953 :   0%|                           | 0/224 [00:00<?, ?it/s]"
          ],
          "name": "stderr"
        },
        {
          "output_type": "stream",
          "text": [
            "Validation -- Accuracy: 0.93333 Loss: 0.01861 \n",
            "\n"
          ],
          "name": "stdout"
        },
        {
          "output_type": "stream",
          "text": [
            "Epoch: 13 Accuracy: 0.95536 Loss: 0.22613 : 100%|█████████████████| 224/224 [00:28<00:00,  7.97it/s]\n",
            "Epoch: 14 Accuracy: 1.00000 Loss: 0.15336 :   0%|                   | 1/224 [00:00<00:30,  7.22it/s]"
          ],
          "name": "stderr"
        },
        {
          "output_type": "stream",
          "text": [
            "Validation -- Accuracy: 0.93333 Loss: 0.01861 \n",
            "\n"
          ],
          "name": "stdout"
        },
        {
          "output_type": "stream",
          "text": [
            "Epoch: 14 Accuracy: 0.96875 Loss: 1.23427 : 100%|█████████████████| 224/224 [00:28<00:00,  7.93it/s]\n",
            "Epoch: 15 Accuracy: 1.00000 Loss: 0.00964 :   0%|                   | 1/224 [00:00<00:26,  8.57it/s]"
          ],
          "name": "stderr"
        },
        {
          "output_type": "stream",
          "text": [
            "Validation -- Accuracy: 0.93333 Loss: 0.01861 \n",
            "\n"
          ],
          "name": "stdout"
        },
        {
          "output_type": "stream",
          "text": [
            "Epoch: 15 Accuracy: 0.95536 Loss: 0.00596 : 100%|█████████████████| 224/224 [00:28<00:00,  7.97it/s]\n",
            "Epoch: 16 Accuracy: 1.00000 Loss: 0.45691 :   0%|                           | 0/224 [00:00<?, ?it/s]"
          ],
          "name": "stderr"
        },
        {
          "output_type": "stream",
          "text": [
            "Validation -- Accuracy: 0.93333 Loss: 0.01861 \n",
            "\n"
          ],
          "name": "stdout"
        },
        {
          "output_type": "stream",
          "text": [
            "Epoch: 16 Accuracy: 0.95982 Loss: 0.01048 : 100%|█████████████████| 224/224 [00:28<00:00,  7.95it/s]\n",
            "Epoch: 17 Accuracy: 1.00000 Loss: 0.03049 :   0%|                   | 1/224 [00:00<00:29,  7.61it/s]"
          ],
          "name": "stderr"
        },
        {
          "output_type": "stream",
          "text": [
            "Validation -- Accuracy: 0.93333 Loss: 0.01861 \n",
            "\n"
          ],
          "name": "stdout"
        },
        {
          "output_type": "stream",
          "text": [
            "Epoch: 17 Accuracy: 0.95089 Loss: 0.00993 : 100%|█████████████████| 224/224 [00:28<00:00,  7.97it/s]\n",
            "Epoch: 18 Accuracy: 1.00000 Loss: 0.02641 :   0%|                           | 0/224 [00:00<?, ?it/s]"
          ],
          "name": "stderr"
        },
        {
          "output_type": "stream",
          "text": [
            "Validation -- Accuracy: 0.93333 Loss: 0.01861 \n",
            "\n"
          ],
          "name": "stdout"
        },
        {
          "output_type": "stream",
          "text": [
            "Epoch: 18 Accuracy: 0.95536 Loss: 0.01688 : 100%|█████████████████| 224/224 [00:27<00:00,  8.01it/s]\n",
            "Epoch: 19 Accuracy: 1.00000 Loss: 0.05446 :   0%|                   | 1/224 [00:00<00:25,  8.65it/s]"
          ],
          "name": "stderr"
        },
        {
          "output_type": "stream",
          "text": [
            "Validation -- Accuracy: 0.93333 Loss: 0.01861 \n",
            "\n"
          ],
          "name": "stdout"
        },
        {
          "output_type": "stream",
          "text": [
            "Epoch: 19 Accuracy: 0.98661 Loss: 0.05818 : 100%|█████████████████| 224/224 [00:28<00:00,  7.91it/s]\n",
            "Epoch: 20 Accuracy: 1.00000 Loss: 0.06668 :   0%|                   | 1/224 [00:00<00:31,  7.06it/s]"
          ],
          "name": "stderr"
        },
        {
          "output_type": "stream",
          "text": [
            "Validation -- Accuracy: 0.93333 Loss: 0.01861 \n",
            "\n"
          ],
          "name": "stdout"
        },
        {
          "output_type": "stream",
          "text": [
            "Epoch: 20 Accuracy: 0.97768 Loss: 0.00908 : 100%|█████████████████| 224/224 [00:28<00:00,  7.93it/s]\n",
            "Epoch: 21 Accuracy: 1.00000 Loss: 0.07767 :   0%|                   | 1/224 [00:00<00:33,  6.64it/s]"
          ],
          "name": "stderr"
        },
        {
          "output_type": "stream",
          "text": [
            "Validation -- Accuracy: 0.93333 Loss: 0.01861 \n",
            "\n"
          ],
          "name": "stdout"
        },
        {
          "output_type": "stream",
          "text": [
            "Epoch: 21 Accuracy: 0.95536 Loss: 0.02109 : 100%|█████████████████| 224/224 [00:28<00:00,  7.99it/s]\n",
            "Epoch: 22 Accuracy: 1.00000 Loss: 0.00849 :   0%|                   | 1/224 [00:00<00:30,  7.34it/s]"
          ],
          "name": "stderr"
        },
        {
          "output_type": "stream",
          "text": [
            "Validation -- Accuracy: 0.93333 Loss: 0.01861 \n",
            "\n"
          ],
          "name": "stdout"
        },
        {
          "output_type": "stream",
          "text": [
            "Epoch: 22 Accuracy: 0.95982 Loss: 0.04740 : 100%|█████████████████| 224/224 [00:28<00:00,  7.88it/s]\n",
            "  0%|                                                                       | 0/224 [00:00<?, ?it/s]"
          ],
          "name": "stderr"
        },
        {
          "output_type": "stream",
          "text": [
            "Validation -- Accuracy: 0.93333 Loss: 0.01861 \n",
            "\n"
          ],
          "name": "stdout"
        },
        {
          "output_type": "stream",
          "text": [
            "Epoch: 23 Accuracy: 0.97321 Loss: 0.00977 : 100%|█████████████████| 224/224 [00:27<00:00,  8.01it/s]\n",
            "Epoch: 24 Accuracy: 0.00000 Loss: 0.91742 :   0%|                   | 1/224 [00:00<00:27,  8.18it/s]"
          ],
          "name": "stderr"
        },
        {
          "output_type": "stream",
          "text": [
            "Validation -- Accuracy: 0.93333 Loss: 0.01861 \n",
            "\n"
          ],
          "name": "stdout"
        },
        {
          "output_type": "stream",
          "text": [
            "Epoch: 24 Accuracy: 0.97768 Loss: 0.01241 : 100%|█████████████████| 224/224 [00:28<00:00,  7.94it/s]\n",
            "Epoch: 25 Accuracy: 1.00000 Loss: 0.00721 :   0%|                   | 1/224 [00:00<00:32,  6.87it/s]"
          ],
          "name": "stderr"
        },
        {
          "output_type": "stream",
          "text": [
            "Validation -- Accuracy: 0.93333 Loss: 0.01861 \n",
            "\n"
          ],
          "name": "stdout"
        },
        {
          "output_type": "stream",
          "text": [
            "Epoch: 25 Accuracy: 0.96429 Loss: 0.01425 : 100%|█████████████████| 224/224 [00:28<00:00,  7.96it/s]\n",
            "Epoch: 26 Accuracy: 1.00000 Loss: 0.01789 :   0%|                   | 1/224 [00:00<00:23,  9.32it/s]"
          ],
          "name": "stderr"
        },
        {
          "output_type": "stream",
          "text": [
            "Validation -- Accuracy: 0.93333 Loss: 0.01861 \n",
            "\n"
          ],
          "name": "stdout"
        },
        {
          "output_type": "stream",
          "text": [
            "Epoch: 26 Accuracy: 0.96875 Loss: 0.02823 : 100%|█████████████████| 224/224 [00:28<00:00,  7.89it/s]\n",
            "Epoch: 27 Accuracy: 0.00000 Loss: 1.67042 :   0%|                   | 1/224 [00:00<00:42,  5.23it/s]"
          ],
          "name": "stderr"
        },
        {
          "output_type": "stream",
          "text": [
            "Validation -- Accuracy: 0.93333 Loss: 0.01861 \n",
            "\n"
          ],
          "name": "stdout"
        },
        {
          "output_type": "stream",
          "text": [
            "Epoch: 27 Accuracy: 0.96429 Loss: 0.02324 : 100%|█████████████████| 224/224 [00:28<00:00,  7.87it/s]\n",
            "Epoch: 28 Accuracy: 1.00000 Loss: 0.01784 :   0%|                   | 1/224 [00:00<00:34,  6.44it/s]"
          ],
          "name": "stderr"
        },
        {
          "output_type": "stream",
          "text": [
            "Validation -- Accuracy: 0.93333 Loss: 0.01861 \n",
            "\n"
          ],
          "name": "stdout"
        },
        {
          "output_type": "stream",
          "text": [
            "Epoch: 28 Accuracy: 0.95982 Loss: 0.00738 : 100%|█████████████████| 224/224 [00:28<00:00,  7.91it/s]\n",
            "Epoch: 29 Accuracy: 1.00000 Loss: 0.00862 :   0%|                   | 1/224 [00:00<00:22,  9.71it/s]"
          ],
          "name": "stderr"
        },
        {
          "output_type": "stream",
          "text": [
            "Validation -- Accuracy: 0.93333 Loss: 0.01861 \n",
            "\n"
          ],
          "name": "stdout"
        },
        {
          "output_type": "stream",
          "text": [
            "Epoch: 29 Accuracy: 0.96429 Loss: 0.14639 : 100%|█████████████████| 224/224 [00:28<00:00,  7.91it/s]\n",
            "Epoch: 30 Accuracy: 1.00000 Loss: 0.01900 :   0%|                   | 1/224 [00:00<00:25,  8.67it/s]"
          ],
          "name": "stderr"
        },
        {
          "output_type": "stream",
          "text": [
            "Validation -- Accuracy: 0.93333 Loss: 0.01861 \n",
            "\n"
          ],
          "name": "stdout"
        },
        {
          "output_type": "stream",
          "text": [
            "Epoch: 30 Accuracy: 0.96429 Loss: 0.01675 : 100%|█████████████████| 224/224 [00:28<00:00,  7.86it/s]\n",
            "Epoch: 31 Accuracy: 1.00000 Loss: 0.02101 :   0%|                           | 0/224 [00:00<?, ?it/s]"
          ],
          "name": "stderr"
        },
        {
          "output_type": "stream",
          "text": [
            "Validation -- Accuracy: 0.93333 Loss: 0.01861 \n",
            "\n"
          ],
          "name": "stdout"
        },
        {
          "output_type": "stream",
          "text": [
            "Epoch: 31 Accuracy: 0.95536 Loss: 0.03025 : 100%|█████████████████| 224/224 [00:28<00:00,  7.91it/s]\n",
            "Epoch: 32 Accuracy: 1.00000 Loss: 0.00727 :   0%|                   | 1/224 [00:00<00:34,  6.49it/s]"
          ],
          "name": "stderr"
        },
        {
          "output_type": "stream",
          "text": [
            "Validation -- Accuracy: 0.93333 Loss: 0.01861 \n",
            "\n"
          ],
          "name": "stdout"
        },
        {
          "output_type": "stream",
          "text": [
            "Epoch: 32 Accuracy: 0.97768 Loss: 0.00705 : 100%|█████████████████| 224/224 [00:29<00:00,  7.69it/s]\n",
            "Epoch: 33 Accuracy: 1.00000 Loss: 0.01253 :   1%|▏                  | 2/224 [00:00<00:21, 10.17it/s]"
          ],
          "name": "stderr"
        },
        {
          "output_type": "stream",
          "text": [
            "Validation -- Accuracy: 0.93333 Loss: 0.01861 \n",
            "\n"
          ],
          "name": "stdout"
        },
        {
          "output_type": "stream",
          "text": [
            "Epoch: 33 Accuracy: 0.95536 Loss: 0.01033 : 100%|█████████████████| 224/224 [00:28<00:00,  7.75it/s]\n",
            "Epoch: 34 Accuracy: 1.00000 Loss: 0.02897 :   0%|                   | 1/224 [00:00<00:24,  9.07it/s]"
          ],
          "name": "stderr"
        },
        {
          "output_type": "stream",
          "text": [
            "Validation -- Accuracy: 0.93333 Loss: 0.01861 \n",
            "\n"
          ],
          "name": "stdout"
        },
        {
          "output_type": "stream",
          "text": [
            "Epoch: 34 Accuracy: 0.94196 Loss: 0.05271 : 100%|█████████████████| 224/224 [00:29<00:00,  7.70it/s]\n",
            "Epoch: 35 Accuracy: 1.00000 Loss: 0.02326 :   1%|▏                  | 2/224 [00:00<00:21, 10.11it/s]"
          ],
          "name": "stderr"
        },
        {
          "output_type": "stream",
          "text": [
            "Validation -- Accuracy: 0.93333 Loss: 0.01861 \n",
            "\n"
          ],
          "name": "stdout"
        },
        {
          "output_type": "stream",
          "text": [
            "Epoch: 35 Accuracy: 0.95982 Loss: 0.01359 : 100%|█████████████████| 224/224 [00:28<00:00,  7.75it/s]\n",
            "Epoch: 36 Accuracy: 1.00000 Loss: 0.00856 :   0%|                   | 1/224 [00:00<00:33,  6.61it/s]"
          ],
          "name": "stderr"
        },
        {
          "output_type": "stream",
          "text": [
            "Validation -- Accuracy: 0.93333 Loss: 0.01861 \n",
            "\n"
          ],
          "name": "stdout"
        },
        {
          "output_type": "stream",
          "text": [
            "Epoch: 36 Accuracy: 0.96875 Loss: 0.00692 : 100%|█████████████████| 224/224 [00:29<00:00,  7.66it/s]\n",
            "Epoch: 37 Accuracy: 1.00000 Loss: 0.01432 :   0%|                   | 1/224 [00:00<00:28,  7.81it/s]"
          ],
          "name": "stderr"
        },
        {
          "output_type": "stream",
          "text": [
            "Validation -- Accuracy: 0.93333 Loss: 0.01861 \n",
            "\n"
          ],
          "name": "stdout"
        },
        {
          "output_type": "stream",
          "text": [
            "Epoch: 37 Accuracy: 0.95982 Loss: 0.01542 : 100%|█████████████████| 224/224 [00:29<00:00,  7.62it/s]\n",
            "Epoch: 38 Accuracy: 1.00000 Loss: 0.04719 :   0%|                   | 1/224 [00:00<00:22, 10.00it/s]"
          ],
          "name": "stderr"
        },
        {
          "output_type": "stream",
          "text": [
            "Validation -- Accuracy: 0.93333 Loss: 0.01861 \n",
            "\n"
          ],
          "name": "stdout"
        },
        {
          "output_type": "stream",
          "text": [
            "Epoch: 38 Accuracy: 0.96875 Loss: 0.09003 : 100%|█████████████████| 224/224 [00:29<00:00,  7.64it/s]\n",
            "Epoch: 39 Accuracy: 1.00000 Loss: 0.00885 :   0%|                   | 1/224 [00:00<00:27,  8.11it/s]"
          ],
          "name": "stderr"
        },
        {
          "output_type": "stream",
          "text": [
            "Validation -- Accuracy: 0.93333 Loss: 0.01861 \n",
            "\n"
          ],
          "name": "stdout"
        },
        {
          "output_type": "stream",
          "text": [
            "Epoch: 39 Accuracy: 0.97321 Loss: 0.06031 : 100%|█████████████████| 224/224 [00:29<00:00,  7.56it/s]\n",
            "Epoch: 40 Accuracy: 1.00000 Loss: 0.01171 :   0%|                   | 1/224 [00:00<00:24,  9.01it/s]"
          ],
          "name": "stderr"
        },
        {
          "output_type": "stream",
          "text": [
            "Validation -- Accuracy: 0.93333 Loss: 0.01861 \n",
            "\n"
          ],
          "name": "stdout"
        },
        {
          "output_type": "stream",
          "text": [
            "Epoch: 40 Accuracy: 0.95982 Loss: 0.07019 : 100%|█████████████████| 224/224 [00:29<00:00,  7.62it/s]\n",
            "Epoch: 41 Accuracy: 1.00000 Loss: 0.01442 :   0%|                   | 1/224 [00:00<00:28,  7.73it/s]"
          ],
          "name": "stderr"
        },
        {
          "output_type": "stream",
          "text": [
            "Validation -- Accuracy: 0.93333 Loss: 0.01861 \n",
            "\n"
          ],
          "name": "stdout"
        },
        {
          "output_type": "stream",
          "text": [
            "Epoch: 41 Accuracy: 0.95536 Loss: 0.01285 : 100%|█████████████████| 224/224 [00:29<00:00,  7.59it/s]\n",
            "Epoch: 42 Accuracy: 1.00000 Loss: 0.01212 :   0%|                   | 1/224 [00:00<00:25,  8.77it/s]"
          ],
          "name": "stderr"
        },
        {
          "output_type": "stream",
          "text": [
            "Validation -- Accuracy: 0.93333 Loss: 0.01861 \n",
            "\n"
          ],
          "name": "stdout"
        },
        {
          "output_type": "stream",
          "text": [
            "Epoch: 42 Accuracy: 0.98214 Loss: 0.00989 : 100%|█████████████████| 224/224 [00:29<00:00,  7.62it/s]\n",
            "Epoch: 43 Accuracy: 1.00000 Loss: 0.01492 :   0%|                   | 1/224 [00:00<00:25,  8.85it/s]"
          ],
          "name": "stderr"
        },
        {
          "output_type": "stream",
          "text": [
            "Validation -- Accuracy: 0.93333 Loss: 0.01861 \n",
            "\n"
          ],
          "name": "stdout"
        },
        {
          "output_type": "stream",
          "text": [
            "Epoch: 43 Accuracy: 0.96875 Loss: 0.02691 : 100%|█████████████████| 224/224 [00:29<00:00,  7.66it/s]\n",
            "Epoch: 44 Accuracy: 1.00000 Loss: 0.00932 :   0%|                           | 0/224 [00:00<?, ?it/s]"
          ],
          "name": "stderr"
        },
        {
          "output_type": "stream",
          "text": [
            "Validation -- Accuracy: 0.93333 Loss: 0.01861 \n",
            "\n"
          ],
          "name": "stdout"
        },
        {
          "output_type": "stream",
          "text": [
            "Epoch: 44 Accuracy: 0.97768 Loss: 0.00778 : 100%|█████████████████| 224/224 [00:29<00:00,  7.66it/s]\n",
            "Epoch: 45 Accuracy: 1.00000 Loss: 0.01402 :   0%|                   | 1/224 [00:00<00:24,  9.16it/s]"
          ],
          "name": "stderr"
        },
        {
          "output_type": "stream",
          "text": [
            "Validation -- Accuracy: 0.93333 Loss: 0.01861 \n",
            "\n"
          ],
          "name": "stdout"
        },
        {
          "output_type": "stream",
          "text": [
            "Epoch: 45 Accuracy: 0.99107 Loss: 0.03474 : 100%|█████████████████| 224/224 [00:29<00:00,  7.62it/s]\n",
            "Epoch: 46 Accuracy: 1.00000 Loss: 0.02527 :   0%|                   | 1/224 [00:00<00:26,  8.39it/s]"
          ],
          "name": "stderr"
        },
        {
          "output_type": "stream",
          "text": [
            "Validation -- Accuracy: 0.93333 Loss: 0.01861 \n",
            "\n"
          ],
          "name": "stdout"
        },
        {
          "output_type": "stream",
          "text": [
            "Epoch: 46 Accuracy: 0.95536 Loss: 0.48119 : 100%|█████████████████| 224/224 [00:29<00:00,  7.60it/s]\n",
            "Epoch: 47 Accuracy: 1.00000 Loss: 0.00754 :   0%|                           | 0/224 [00:00<?, ?it/s]"
          ],
          "name": "stderr"
        },
        {
          "output_type": "stream",
          "text": [
            "Validation -- Accuracy: 0.93333 Loss: 0.01861 \n",
            "\n"
          ],
          "name": "stdout"
        },
        {
          "output_type": "stream",
          "text": [
            "Epoch: 47 Accuracy: 0.94643 Loss: 0.02102 : 100%|█████████████████| 224/224 [00:29<00:00,  7.65it/s]\n",
            "Epoch: 48 Accuracy: 1.00000 Loss: 0.02097 :   0%|                   | 1/224 [00:00<00:28,  7.77it/s]"
          ],
          "name": "stderr"
        },
        {
          "output_type": "stream",
          "text": [
            "Validation -- Accuracy: 0.93333 Loss: 0.01861 \n",
            "\n"
          ],
          "name": "stdout"
        },
        {
          "output_type": "stream",
          "text": [
            "Epoch: 48 Accuracy: 0.97768 Loss: 0.01989 : 100%|█████████████████| 224/224 [00:29<00:00,  7.58it/s]\n",
            "Epoch: 49 Accuracy: 1.00000 Loss: 0.01918 :   1%|▏                  | 2/224 [00:00<00:21, 10.40it/s]"
          ],
          "name": "stderr"
        },
        {
          "output_type": "stream",
          "text": [
            "Validation -- Accuracy: 0.93333 Loss: 0.01861 \n",
            "\n"
          ],
          "name": "stdout"
        },
        {
          "output_type": "stream",
          "text": [
            "Epoch: 49 Accuracy: 0.96429 Loss: 0.05149 : 100%|█████████████████| 224/224 [00:29<00:00,  7.56it/s]\n",
            "Epoch: 50 Accuracy: 1.00000 Loss: 0.03752 :   0%|                   | 1/224 [00:00<00:25,  8.66it/s]"
          ],
          "name": "stderr"
        },
        {
          "output_type": "stream",
          "text": [
            "Validation -- Accuracy: 0.93333 Loss: 0.01861 \n",
            "\n"
          ],
          "name": "stdout"
        },
        {
          "output_type": "stream",
          "text": [
            "Epoch: 50 Accuracy: 0.96429 Loss: 0.03275 : 100%|█████████████████| 224/224 [00:29<00:00,  7.63it/s]\n",
            "Epoch: 51 Accuracy: 1.00000 Loss: 0.02566 :   0%|                           | 0/224 [00:00<?, ?it/s]"
          ],
          "name": "stderr"
        },
        {
          "output_type": "stream",
          "text": [
            "Validation -- Accuracy: 0.93333 Loss: 0.01861 \n",
            "\n"
          ],
          "name": "stdout"
        },
        {
          "output_type": "stream",
          "text": [
            "Epoch: 51 Accuracy: 0.97321 Loss: 0.01982 : 100%|█████████████████| 224/224 [00:29<00:00,  7.58it/s]\n",
            "Epoch: 52 Accuracy: 1.00000 Loss: 0.01697 :   0%|                   | 1/224 [00:00<00:25,  8.62it/s]"
          ],
          "name": "stderr"
        },
        {
          "output_type": "stream",
          "text": [
            "Validation -- Accuracy: 0.93333 Loss: 0.01861 \n",
            "\n"
          ],
          "name": "stdout"
        },
        {
          "output_type": "stream",
          "text": [
            "Epoch: 52 Accuracy: 0.95982 Loss: 0.02456 : 100%|█████████████████| 224/224 [00:29<00:00,  7.56it/s]\n",
            "Epoch: 53 Accuracy: 1.00000 Loss: 0.00746 :   0%|                   | 1/224 [00:00<00:24,  9.05it/s]"
          ],
          "name": "stderr"
        },
        {
          "output_type": "stream",
          "text": [
            "Validation -- Accuracy: 0.93333 Loss: 0.01861 \n",
            "\n"
          ],
          "name": "stdout"
        },
        {
          "output_type": "stream",
          "text": [
            "Epoch: 53 Accuracy: 0.96875 Loss: 0.01236 : 100%|█████████████████| 224/224 [00:29<00:00,  7.59it/s]\n",
            "Epoch: 54 Accuracy: 1.00000 Loss: 0.00777 :   0%|                   | 1/224 [00:00<00:31,  7.02it/s]"
          ],
          "name": "stderr"
        },
        {
          "output_type": "stream",
          "text": [
            "Validation -- Accuracy: 0.93333 Loss: 0.01861 \n",
            "\n"
          ],
          "name": "stdout"
        },
        {
          "output_type": "stream",
          "text": [
            "Epoch: 54 Accuracy: 0.97768 Loss: 0.00959 : 100%|█████████████████| 224/224 [00:29<00:00,  7.53it/s]\n",
            "Epoch: 55 Accuracy: 1.00000 Loss: 0.01631 :   0%|                   | 1/224 [00:00<00:22,  9.99it/s]"
          ],
          "name": "stderr"
        },
        {
          "output_type": "stream",
          "text": [
            "Validation -- Accuracy: 0.93333 Loss: 0.01861 \n",
            "\n"
          ],
          "name": "stdout"
        },
        {
          "output_type": "stream",
          "text": [
            "Epoch: 55 Accuracy: 0.95536 Loss: 0.00665 : 100%|█████████████████| 224/224 [00:29<00:00,  7.55it/s]\n",
            "Epoch: 56 Accuracy: 1.00000 Loss: 0.21384 :   0%|                   | 1/224 [00:00<00:29,  7.56it/s]"
          ],
          "name": "stderr"
        },
        {
          "output_type": "stream",
          "text": [
            "Validation -- Accuracy: 0.93333 Loss: 0.01861 \n",
            "\n"
          ],
          "name": "stdout"
        },
        {
          "output_type": "stream",
          "text": [
            "Epoch: 56 Accuracy: 0.96875 Loss: 0.00878 : 100%|█████████████████| 224/224 [00:29<00:00,  7.52it/s]\n",
            "Epoch: 57 Accuracy: 1.00000 Loss: 0.00737 :   0%|                   | 1/224 [00:00<00:23,  9.56it/s]"
          ],
          "name": "stderr"
        },
        {
          "output_type": "stream",
          "text": [
            "Validation -- Accuracy: 0.93333 Loss: 0.01861 \n",
            "\n"
          ],
          "name": "stdout"
        },
        {
          "output_type": "stream",
          "text": [
            "Epoch: 57 Accuracy: 0.96875 Loss: 0.01024 : 100%|█████████████████| 224/224 [00:29<00:00,  7.57it/s]\n",
            "Epoch: 58 Accuracy: 0.00000 Loss: 2.32244 :   0%|                   | 1/224 [00:00<00:32,  6.93it/s]"
          ],
          "name": "stderr"
        },
        {
          "output_type": "stream",
          "text": [
            "Validation -- Accuracy: 0.93333 Loss: 0.01861 \n",
            "\n"
          ],
          "name": "stdout"
        },
        {
          "output_type": "stream",
          "text": [
            "Epoch: 58 Accuracy: 0.97321 Loss: 0.13303 : 100%|█████████████████| 224/224 [00:29<00:00,  7.53it/s]\n",
            "Epoch: 59 Accuracy: 1.00000 Loss: 0.05711 :   0%|                   | 1/224 [00:00<00:23,  9.40it/s]"
          ],
          "name": "stderr"
        },
        {
          "output_type": "stream",
          "text": [
            "Validation -- Accuracy: 0.93333 Loss: 0.01861 \n",
            "\n"
          ],
          "name": "stdout"
        },
        {
          "output_type": "stream",
          "text": [
            "Epoch: 59 Accuracy: 0.95982 Loss: 0.01135 : 100%|█████████████████| 224/224 [00:29<00:00,  7.60it/s]\n",
            "Epoch: 60 Accuracy: 1.00000 Loss: 0.00694 :   0%|                   | 1/224 [00:00<00:30,  7.31it/s]"
          ],
          "name": "stderr"
        },
        {
          "output_type": "stream",
          "text": [
            "Validation -- Accuracy: 0.93333 Loss: 0.01861 \n",
            "\n"
          ],
          "name": "stdout"
        },
        {
          "output_type": "stream",
          "text": [
            "Epoch: 60 Accuracy: 0.98661 Loss: 0.01388 : 100%|█████████████████| 224/224 [00:29<00:00,  7.60it/s]\n",
            "Epoch: 61 Accuracy: 1.00000 Loss: 0.32674 :   0%|                   | 1/224 [00:00<00:22,  9.91it/s]"
          ],
          "name": "stderr"
        },
        {
          "output_type": "stream",
          "text": [
            "Validation -- Accuracy: 0.93333 Loss: 0.01861 \n",
            "\n"
          ],
          "name": "stdout"
        },
        {
          "output_type": "stream",
          "text": [
            "Epoch: 61 Accuracy: 0.96429 Loss: 0.00950 : 100%|█████████████████| 224/224 [00:29<00:00,  7.67it/s]\n",
            "Epoch: 62 Accuracy: 1.00000 Loss: 0.05137 :   0%|                   | 1/224 [00:00<00:31,  7.05it/s]"
          ],
          "name": "stderr"
        },
        {
          "output_type": "stream",
          "text": [
            "Validation -- Accuracy: 0.93333 Loss: 0.01861 \n",
            "\n"
          ],
          "name": "stdout"
        },
        {
          "output_type": "stream",
          "text": [
            "Epoch: 62 Accuracy: 0.97768 Loss: 0.01354 : 100%|█████████████████| 224/224 [00:28<00:00,  7.73it/s]\n",
            "Epoch: 63 Accuracy: 1.00000 Loss: 0.00564 :   0%|                   | 1/224 [00:00<00:28,  7.71it/s]"
          ],
          "name": "stderr"
        },
        {
          "output_type": "stream",
          "text": [
            "Validation -- Accuracy: 0.93333 Loss: 0.01861 \n",
            "\n"
          ],
          "name": "stdout"
        },
        {
          "output_type": "stream",
          "text": [
            "Epoch: 63 Accuracy: 0.95536 Loss: 0.01055 : 100%|█████████████████| 224/224 [00:28<00:00,  7.74it/s]\n",
            "Epoch: 64 Accuracy: 1.00000 Loss: 0.01161 :   0%|                   | 1/224 [00:00<00:30,  7.36it/s]"
          ],
          "name": "stderr"
        },
        {
          "output_type": "stream",
          "text": [
            "Validation -- Accuracy: 0.93333 Loss: 0.01861 \n",
            "\n"
          ],
          "name": "stdout"
        },
        {
          "output_type": "stream",
          "text": [
            "Epoch: 64 Accuracy: 0.97321 Loss: 0.02180 : 100%|█████████████████| 224/224 [00:28<00:00,  7.74it/s]\n",
            "Epoch: 65 Accuracy: 1.00000 Loss: 0.02602 :   0%|                   | 1/224 [00:00<00:22,  9.78it/s]"
          ],
          "name": "stderr"
        },
        {
          "output_type": "stream",
          "text": [
            "Validation -- Accuracy: 0.93333 Loss: 0.01861 \n",
            "\n"
          ],
          "name": "stdout"
        },
        {
          "output_type": "stream",
          "text": [
            "Epoch: 65 Accuracy: 0.97768 Loss: 0.01568 : 100%|█████████████████| 224/224 [00:28<00:00,  7.73it/s]\n",
            "Epoch: 66 Accuracy: 1.00000 Loss: 0.00789 :   0%|                   | 1/224 [00:00<00:33,  6.74it/s]"
          ],
          "name": "stderr"
        },
        {
          "output_type": "stream",
          "text": [
            "Validation -- Accuracy: 0.93333 Loss: 0.01861 \n",
            "\n"
          ],
          "name": "stdout"
        },
        {
          "output_type": "stream",
          "text": [
            "Epoch: 66 Accuracy: 0.97768 Loss: 0.00832 : 100%|█████████████████| 224/224 [00:28<00:00,  7.78it/s]\n",
            "Epoch: 67 Accuracy: 1.00000 Loss: 0.08390 :   0%|                   | 1/224 [00:00<00:22,  9.84it/s]"
          ],
          "name": "stderr"
        },
        {
          "output_type": "stream",
          "text": [
            "Validation -- Accuracy: 0.93333 Loss: 0.01861 \n",
            "\n"
          ],
          "name": "stdout"
        },
        {
          "output_type": "stream",
          "text": [
            "Epoch: 67 Accuracy: 0.96429 Loss: 0.03090 : 100%|█████████████████| 224/224 [00:29<00:00,  7.70it/s]\n",
            "Epoch: 68 Accuracy: 1.00000 Loss: 0.03533 :   0%|                   | 1/224 [00:00<00:35,  6.29it/s]"
          ],
          "name": "stderr"
        },
        {
          "output_type": "stream",
          "text": [
            "Validation -- Accuracy: 0.93333 Loss: 0.01861 \n",
            "\n"
          ],
          "name": "stdout"
        },
        {
          "output_type": "stream",
          "text": [
            "Epoch: 68 Accuracy: 0.97321 Loss: 0.25184 : 100%|█████████████████| 224/224 [00:28<00:00,  7.76it/s]\n",
            "Epoch: 69 Accuracy: 1.00000 Loss: 0.01083 :   0%|                           | 0/224 [00:00<?, ?it/s]"
          ],
          "name": "stderr"
        },
        {
          "output_type": "stream",
          "text": [
            "Validation -- Accuracy: 0.93333 Loss: 0.01861 \n",
            "\n"
          ],
          "name": "stdout"
        },
        {
          "output_type": "stream",
          "text": [
            "Epoch: 69 Accuracy: 0.97321 Loss: 0.03855 : 100%|█████████████████| 224/224 [00:28<00:00,  7.75it/s]\n",
            "Epoch: 70 Accuracy: 1.00000 Loss: 0.01404 :   0%|                   | 1/224 [00:00<00:26,  8.32it/s]"
          ],
          "name": "stderr"
        },
        {
          "output_type": "stream",
          "text": [
            "Validation -- Accuracy: 0.93333 Loss: 0.01861 \n",
            "\n"
          ],
          "name": "stdout"
        },
        {
          "output_type": "stream",
          "text": [
            "Epoch: 70 Accuracy: 0.96429 Loss: 0.01671 : 100%|█████████████████| 224/224 [00:29<00:00,  7.72it/s]\n",
            "Epoch: 71 Accuracy: 1.00000 Loss: 0.00893 :   0%|                   | 1/224 [00:00<00:31,  7.08it/s]"
          ],
          "name": "stderr"
        },
        {
          "output_type": "stream",
          "text": [
            "Validation -- Accuracy: 0.93333 Loss: 0.01861 \n",
            "\n"
          ],
          "name": "stdout"
        },
        {
          "output_type": "stream",
          "text": [
            "Epoch: 71 Accuracy: 0.95982 Loss: 0.01377 : 100%|█████████████████| 224/224 [00:28<00:00,  7.77it/s]\n",
            "Epoch: 72 Accuracy: 1.00000 Loss: 0.04196 :   0%|                   | 1/224 [00:00<00:29,  7.58it/s]"
          ],
          "name": "stderr"
        },
        {
          "output_type": "stream",
          "text": [
            "Validation -- Accuracy: 0.93333 Loss: 0.01861 \n",
            "\n"
          ],
          "name": "stdout"
        },
        {
          "output_type": "stream",
          "text": [
            "Epoch: 72 Accuracy: 0.95982 Loss: 0.01505 : 100%|█████████████████| 224/224 [00:28<00:00,  7.79it/s]\n",
            "Epoch: 73 Accuracy: 1.00000 Loss: 0.02216 :   0%|                   | 1/224 [00:00<00:32,  6.90it/s]"
          ],
          "name": "stderr"
        },
        {
          "output_type": "stream",
          "text": [
            "Validation -- Accuracy: 0.93333 Loss: 0.01861 \n",
            "\n"
          ],
          "name": "stdout"
        },
        {
          "output_type": "stream",
          "text": [
            "Epoch: 73 Accuracy: 0.96875 Loss: 0.11928 : 100%|█████████████████| 224/224 [00:28<00:00,  7.81it/s]\n",
            "Epoch: 74 Accuracy: 1.00000 Loss: 0.02805 :   0%|                   | 1/224 [00:00<00:29,  7.68it/s]"
          ],
          "name": "stderr"
        },
        {
          "output_type": "stream",
          "text": [
            "Validation -- Accuracy: 0.93333 Loss: 0.01861 \n",
            "\n"
          ],
          "name": "stdout"
        },
        {
          "output_type": "stream",
          "text": [
            "Epoch: 74 Accuracy: 0.96429 Loss: 0.01495 : 100%|█████████████████| 224/224 [00:28<00:00,  7.73it/s]\n",
            "Epoch: 75 Accuracy: 1.00000 Loss: 0.01531 :   0%|                   | 1/224 [00:00<00:27,  8.23it/s]"
          ],
          "name": "stderr"
        },
        {
          "output_type": "stream",
          "text": [
            "Validation -- Accuracy: 0.93333 Loss: 0.01861 \n",
            "\n"
          ],
          "name": "stdout"
        },
        {
          "output_type": "stream",
          "text": [
            "Epoch: 75 Accuracy: 0.96875 Loss: 0.00751 : 100%|█████████████████| 224/224 [00:28<00:00,  7.76it/s]\n",
            "Epoch: 76 Accuracy: 1.00000 Loss: 0.03500 :   0%|                   | 1/224 [00:00<00:26,  8.56it/s]"
          ],
          "name": "stderr"
        },
        {
          "output_type": "stream",
          "text": [
            "Validation -- Accuracy: 0.93333 Loss: 0.01861 \n",
            "\n"
          ],
          "name": "stdout"
        },
        {
          "output_type": "stream",
          "text": [
            "Epoch: 76 Accuracy: 0.97321 Loss: 0.00693 : 100%|█████████████████| 224/224 [00:28<00:00,  7.74it/s]\n",
            "  0%|                                                                       | 0/224 [00:00<?, ?it/s]"
          ],
          "name": "stderr"
        },
        {
          "output_type": "stream",
          "text": [
            "Validation -- Accuracy: 0.93333 Loss: 0.01861 \n",
            "\n"
          ],
          "name": "stdout"
        },
        {
          "output_type": "stream",
          "text": [
            "Epoch: 77 Accuracy: 0.98214 Loss: 0.03010 : 100%|█████████████████| 224/224 [00:29<00:00,  7.71it/s]\n",
            "Epoch: 78 Accuracy: 1.00000 Loss: 0.06643 :   0%|                   | 1/224 [00:00<00:25,  8.76it/s]"
          ],
          "name": "stderr"
        },
        {
          "output_type": "stream",
          "text": [
            "Validation -- Accuracy: 0.93333 Loss: 0.01861 \n",
            "\n"
          ],
          "name": "stdout"
        },
        {
          "output_type": "stream",
          "text": [
            "Epoch: 78 Accuracy: 0.98661 Loss: 0.16472 : 100%|█████████████████| 224/224 [00:29<00:00,  7.71it/s]\n",
            "Epoch: 79 Accuracy: 1.00000 Loss: 0.00681 :   0%|                   | 1/224 [00:00<00:29,  7.60it/s]"
          ],
          "name": "stderr"
        },
        {
          "output_type": "stream",
          "text": [
            "Validation -- Accuracy: 0.93333 Loss: 0.01861 \n",
            "\n"
          ],
          "name": "stdout"
        },
        {
          "output_type": "stream",
          "text": [
            "Epoch: 79 Accuracy: 0.97321 Loss: 0.01863 : 100%|█████████████████| 224/224 [00:29<00:00,  7.61it/s]\n",
            "Epoch: 80 Accuracy: 1.00000 Loss: 0.01679 :   0%|                   | 1/224 [00:00<00:23,  9.42it/s]"
          ],
          "name": "stderr"
        },
        {
          "output_type": "stream",
          "text": [
            "Validation -- Accuracy: 0.93333 Loss: 0.01861 \n",
            "\n"
          ],
          "name": "stdout"
        },
        {
          "output_type": "stream",
          "text": [
            "Epoch: 80 Accuracy: 0.95982 Loss: 0.03162 : 100%|█████████████████| 224/224 [00:29<00:00,  7.62it/s]\n",
            "Epoch: 81 Accuracy: 1.00000 Loss: 0.00546 :   0%|                   | 1/224 [00:00<00:34,  6.50it/s]"
          ],
          "name": "stderr"
        },
        {
          "output_type": "stream",
          "text": [
            "Validation -- Accuracy: 0.93333 Loss: 0.01861 \n",
            "\n"
          ],
          "name": "stdout"
        },
        {
          "output_type": "stream",
          "text": [
            "Epoch: 81 Accuracy: 0.97768 Loss: 0.58727 : 100%|█████████████████| 224/224 [00:29<00:00,  7.62it/s]\n",
            "Epoch: 82 Accuracy: 1.00000 Loss: 0.03316 :   0%|                   | 1/224 [00:00<00:22,  9.82it/s]"
          ],
          "name": "stderr"
        },
        {
          "output_type": "stream",
          "text": [
            "Validation -- Accuracy: 0.93333 Loss: 0.01861 \n",
            "\n"
          ],
          "name": "stdout"
        },
        {
          "output_type": "stream",
          "text": [
            "Epoch: 82 Accuracy: 0.98661 Loss: 0.26167 : 100%|█████████████████| 224/224 [00:29<00:00,  7.55it/s]\n",
            "Epoch: 83 Accuracy: 1.00000 Loss: 0.03626 :   0%|                   | 1/224 [00:00<00:29,  7.47it/s]"
          ],
          "name": "stderr"
        },
        {
          "output_type": "stream",
          "text": [
            "Validation -- Accuracy: 0.93333 Loss: 0.01861 \n",
            "\n"
          ],
          "name": "stdout"
        },
        {
          "output_type": "stream",
          "text": [
            "Epoch: 83 Accuracy: 0.99554 Loss: 0.00803 : 100%|█████████████████| 224/224 [00:29<00:00,  7.57it/s]\n",
            "Epoch: 84 Accuracy: 1.00000 Loss: 0.01093 :   1%|▏                  | 2/224 [00:00<00:21, 10.26it/s]"
          ],
          "name": "stderr"
        },
        {
          "output_type": "stream",
          "text": [
            "Validation -- Accuracy: 0.93333 Loss: 0.01861 \n",
            "\n"
          ],
          "name": "stdout"
        },
        {
          "output_type": "stream",
          "text": [
            "Epoch: 84 Accuracy: 0.96875 Loss: 0.02202 : 100%|█████████████████| 224/224 [00:29<00:00,  7.54it/s]\n",
            "Epoch: 85 Accuracy: 1.00000 Loss: 0.00619 :   0%|                   | 1/224 [00:00<00:25,  8.80it/s]"
          ],
          "name": "stderr"
        },
        {
          "output_type": "stream",
          "text": [
            "Validation -- Accuracy: 0.93333 Loss: 0.01861 \n",
            "\n"
          ],
          "name": "stdout"
        },
        {
          "output_type": "stream",
          "text": [
            "Epoch: 85 Accuracy: 0.96875 Loss: 0.00936 : 100%|█████████████████| 224/224 [00:29<00:00,  7.58it/s]\n",
            "Epoch: 86 Accuracy: 1.00000 Loss: 0.19240 :   0%|                   | 1/224 [00:00<00:23,  9.67it/s]"
          ],
          "name": "stderr"
        },
        {
          "output_type": "stream",
          "text": [
            "Validation -- Accuracy: 0.93333 Loss: 0.01861 \n",
            "\n"
          ],
          "name": "stdout"
        },
        {
          "output_type": "stream",
          "text": [
            "Epoch: 86 Accuracy: 0.98661 Loss: 0.01241 : 100%|█████████████████| 224/224 [00:29<00:00,  7.57it/s]\n",
            "Epoch: 87 Accuracy: 1.00000 Loss: 0.23926 :   0%|                   | 1/224 [00:00<00:28,  7.79it/s]"
          ],
          "name": "stderr"
        },
        {
          "output_type": "stream",
          "text": [
            "Validation -- Accuracy: 0.93333 Loss: 0.01861 \n",
            "\n"
          ],
          "name": "stdout"
        },
        {
          "output_type": "stream",
          "text": [
            "Epoch: 87 Accuracy: 0.98661 Loss: 0.00724 : 100%|█████████████████| 224/224 [00:29<00:00,  7.53it/s]\n",
            "Epoch: 88 Accuracy: 0.00000 Loss: 1.18151 :   0%|                   | 1/224 [00:00<00:40,  5.54it/s]"
          ],
          "name": "stderr"
        },
        {
          "output_type": "stream",
          "text": [
            "Validation -- Accuracy: 0.93333 Loss: 0.01861 \n",
            "\n"
          ],
          "name": "stdout"
        },
        {
          "output_type": "stream",
          "text": [
            "Epoch: 88 Accuracy: 0.96429 Loss: 0.00643 : 100%|█████████████████| 224/224 [00:29<00:00,  7.57it/s]\n",
            "Epoch: 89 Accuracy: 1.00000 Loss: 0.00724 :   0%|                   | 1/224 [00:00<00:24,  9.14it/s]"
          ],
          "name": "stderr"
        },
        {
          "output_type": "stream",
          "text": [
            "Validation -- Accuracy: 0.93333 Loss: 0.01861 \n",
            "\n"
          ],
          "name": "stdout"
        },
        {
          "output_type": "stream",
          "text": [
            "Epoch: 89 Accuracy: 0.95982 Loss: 0.07416 : 100%|█████████████████| 224/224 [00:30<00:00,  7.45it/s]\n",
            "Epoch: 90 Accuracy: 1.00000 Loss: 0.00925 :   0%|                   | 1/224 [00:00<00:29,  7.65it/s]"
          ],
          "name": "stderr"
        },
        {
          "output_type": "stream",
          "text": [
            "Validation -- Accuracy: 0.93333 Loss: 0.01861 \n",
            "\n"
          ],
          "name": "stdout"
        },
        {
          "output_type": "stream",
          "text": [
            "Epoch: 90 Accuracy: 0.97321 Loss: 0.09594 : 100%|█████████████████| 224/224 [00:29<00:00,  7.47it/s]\n",
            "Epoch: 91 Accuracy: 1.00000 Loss: 0.00892 :   0%|                   | 1/224 [00:00<00:34,  6.54it/s]"
          ],
          "name": "stderr"
        },
        {
          "output_type": "stream",
          "text": [
            "Validation -- Accuracy: 0.93333 Loss: 0.01861 \n",
            "\n"
          ],
          "name": "stdout"
        },
        {
          "output_type": "stream",
          "text": [
            "Epoch: 91 Accuracy: 0.96429 Loss: 0.01787 : 100%|█████████████████| 224/224 [00:29<00:00,  7.49it/s]\n",
            "Epoch: 92 Accuracy: 1.00000 Loss: 0.02023 :   0%|                   | 1/224 [00:00<00:27,  8.14it/s]"
          ],
          "name": "stderr"
        },
        {
          "output_type": "stream",
          "text": [
            "Validation -- Accuracy: 0.93333 Loss: 0.01861 \n",
            "\n"
          ],
          "name": "stdout"
        },
        {
          "output_type": "stream",
          "text": [
            "Epoch: 92 Accuracy: 0.96429 Loss: 0.02127 : 100%|█████████████████| 224/224 [00:29<00:00,  7.49it/s]\n",
            "Epoch: 93 Accuracy: 1.00000 Loss: 0.00926 :   0%|                   | 1/224 [00:00<00:24,  9.20it/s]"
          ],
          "name": "stderr"
        },
        {
          "output_type": "stream",
          "text": [
            "Validation -- Accuracy: 0.93333 Loss: 0.01861 \n",
            "\n"
          ],
          "name": "stdout"
        },
        {
          "output_type": "stream",
          "text": [
            "Epoch: 93 Accuracy: 0.96875 Loss: 0.01463 : 100%|█████████████████| 224/224 [00:29<00:00,  7.51it/s]\n",
            "Epoch: 94 Accuracy: 1.00000 Loss: 0.01572 :   0%|                   | 1/224 [00:00<00:23,  9.54it/s]"
          ],
          "name": "stderr"
        },
        {
          "output_type": "stream",
          "text": [
            "Validation -- Accuracy: 0.93333 Loss: 0.01861 \n",
            "\n"
          ],
          "name": "stdout"
        },
        {
          "output_type": "stream",
          "text": [
            "Epoch: 94 Accuracy: 0.96429 Loss: 0.02373 : 100%|█████████████████| 224/224 [00:30<00:00,  7.46it/s]\n",
            "Epoch: 95 Accuracy: 1.00000 Loss: 0.00775 :   0%|                   | 1/224 [00:00<00:31,  7.10it/s]"
          ],
          "name": "stderr"
        },
        {
          "output_type": "stream",
          "text": [
            "Validation -- Accuracy: 0.93333 Loss: 0.01861 \n",
            "\n"
          ],
          "name": "stdout"
        },
        {
          "output_type": "stream",
          "text": [
            "Epoch: 95 Accuracy: 0.96429 Loss: 0.00693 : 100%|█████████████████| 224/224 [00:30<00:00,  7.46it/s]\n",
            "Epoch: 96 Accuracy: 1.00000 Loss: 0.04062 :   0%|                           | 0/224 [00:00<?, ?it/s]"
          ],
          "name": "stderr"
        },
        {
          "output_type": "stream",
          "text": [
            "Validation -- Accuracy: 0.93333 Loss: 0.01861 \n",
            "\n"
          ],
          "name": "stdout"
        },
        {
          "output_type": "stream",
          "text": [
            "Epoch: 96 Accuracy: 0.96429 Loss: 0.01221 : 100%|█████████████████| 224/224 [00:30<00:00,  7.41it/s]\n",
            "Epoch: 97 Accuracy: 1.00000 Loss: 0.56866 :   0%|                   | 1/224 [00:00<00:28,  7.81it/s]"
          ],
          "name": "stderr"
        },
        {
          "output_type": "stream",
          "text": [
            "Validation -- Accuracy: 0.93333 Loss: 0.01861 \n",
            "\n"
          ],
          "name": "stdout"
        },
        {
          "output_type": "stream",
          "text": [
            "Epoch: 97 Accuracy: 0.95536 Loss: 0.46458 : 100%|█████████████████| 224/224 [00:29<00:00,  7.48it/s]\n",
            "Epoch: 98 Accuracy: 1.00000 Loss: 0.01012 :   0%|                   | 1/224 [00:00<00:35,  6.30it/s]"
          ],
          "name": "stderr"
        },
        {
          "output_type": "stream",
          "text": [
            "Validation -- Accuracy: 0.93333 Loss: 0.01861 \n",
            "\n"
          ],
          "name": "stdout"
        },
        {
          "output_type": "stream",
          "text": [
            "Epoch: 98 Accuracy: 0.95089 Loss: 0.01968 : 100%|█████████████████| 224/224 [00:29<00:00,  7.47it/s]\n",
            "Epoch: 99 Accuracy: 1.00000 Loss: 0.01340 :   0%|                   | 1/224 [00:00<00:30,  7.39it/s]"
          ],
          "name": "stderr"
        },
        {
          "output_type": "stream",
          "text": [
            "Validation -- Accuracy: 0.93333 Loss: 0.01861 \n",
            "\n"
          ],
          "name": "stdout"
        },
        {
          "output_type": "stream",
          "text": [
            "Epoch: 99 Accuracy: 0.97321 Loss: 0.00590 : 100%|█████████████████| 224/224 [00:30<00:00,  7.44it/s]\n",
            "Epoch: 100 Accuracy: 1.00000 Loss: 0.01359 :   0%|                  | 1/224 [00:00<00:22,  9.73it/s]"
          ],
          "name": "stderr"
        },
        {
          "output_type": "stream",
          "text": [
            "Validation -- Accuracy: 0.93333 Loss: 0.01861 \n",
            "\n"
          ],
          "name": "stdout"
        },
        {
          "output_type": "stream",
          "text": [
            "Epoch: 100 Accuracy: 0.96875 Loss: 0.01117 : 100%|████████████████| 224/224 [00:30<00:00,  7.46it/s]\n"
          ],
          "name": "stderr"
        },
        {
          "output_type": "stream",
          "text": [
            "Validation -- Accuracy: 0.93333 Loss: 0.01861 \n",
            "\n"
          ],
          "name": "stdout"
        }
      ]
    },
    {
      "cell_type": "code",
      "metadata": {
        "colab": {
          "base_uri": "https://localhost:8080/",
          "height": 283
        },
        "id": "rpupTOMPlWD8",
        "outputId": "800670f7-a48e-41a0-a852-c9587152412a"
      },
      "source": [
        "history = pd.DataFrame({\"Train\":TRAINING_acc,\"Validation\":VALIDATION_acc})\n",
        "history.plot()"
      ],
      "execution_count": 17,
      "outputs": [
        {
          "output_type": "execute_result",
          "data": {
            "text/plain": [
              "<matplotlib.axes._subplots.AxesSubplot at 0x7f43a17a44e0>"
            ]
          },
          "metadata": {
            "tags": []
          },
          "execution_count": 17
        },
        {
          "output_type": "display_data",
          "data": {
            "image/png": "[encoded data removed]",
            "text/plain": [
              "<Figure size 432x288 with 1 Axes>"
            ]
          },
          "metadata": {
            "tags": [],
            "needs_background": "light"
          }
        }
      ]
    },
    {
      "cell_type": "code",
      "metadata": {
        "colab": {
          "base_uri": "https://localhost:8080/"
        },
        "id": "_PV_uLtQnaO4",
        "outputId": "ef5daa59-f200-4e7a-fc1f-1284931874b6"
      },
      "source": [
        "!ls"
      ],
      "execution_count": null,
      "outputs": [
        {
          "output_type": "stream",
          "text": [
            "checkpoint_densenet161_1_0.71681.ph   checkpoint_densenet161_60_0.96460.ph\n",
            "checkpoint_densenet161_12_0.91150.ph  checkpoint_densenet161_6_0.88496.ph\n",
            "checkpoint_densenet161_18_0.93805.ph  checkpoint_densenet161_9_0.89381.ph\n",
            "checkpoint_densenet161_2_0.82301.ph   OpticDiscs\n",
            "checkpoint_densenet161_3_0.83186.ph   test_data.csv\n",
            "checkpoint_densenet161_5_0.84956.ph\n"
          ],
          "name": "stdout"
        }
      ]
    },
    {
      "cell_type": "code",
      "metadata": {
        "id": "VumKHi2Snf4F"
      },
      "source": [
        "torch.save(model,\"checkpointDENSENET.ph\")"
      ],
      "execution_count": 22,
      "outputs": []
    },
    {
      "cell_type": "code",
      "metadata": {
        "colab": {
          "base_uri": "https://localhost:8080/"
        },
        "id": "iYI16QYGyqLF",
        "outputId": "7148a34d-54aa-4c76-aafd-ebeb4d4b4e6e"
      },
      "source": [
        "for c in y:\n",
        "  print(c)"
      ],
      "execution_count": null,
      "outputs": [
        {
          "output_type": "stream",
          "text": [
            "1\n"
          ],
          "name": "stdout"
        }
      ]
    },
    {
      "cell_type": "markdown",
      "metadata": {
        "id": "Hv2fODvHJlIM"
      },
      "source": [
        "## Evaluation"
      ]
    },
    {
      "cell_type": "code",
      "metadata": {
        "id": "5ennB90UVVmb"
      },
      "source": [
        "model = torch.load('checkpoint_densenet161_15_0.89333.ph')"
      ],
      "execution_count": 24,
      "outputs": []
    },
    {
      "cell_type": "code",
      "metadata": {
        "id": "VLd2H4FrJnXo"
      },
      "source": [
        "from sklearn.metrics import confusion_matrix\n",
        "import numpy as np"
      ],
      "execution_count": 17,
      "outputs": []
    },
    {
      "cell_type": "code",
      "metadata": {
        "id": "v6nVWUqYJoDh"
      },
      "source": [
        "predicted = []\n",
        "true_values = []\n",
        "for point in range(len(X_test)//batch_size):\n",
        "    with torch.no_grad():\n",
        "\n",
        "        X = X_test.iloc[point*batch_size:(point+1)*batch_size]\n",
        "        y = y_test.iloc[point*batch_size:(point+1)*batch_size]\n",
        "\n",
        "        true_values.append(y.values)\n",
        "        # Load images\n",
        "        try:\n",
        "            images = [Image.open(File) for File in X]\n",
        "        except:\n",
        "            continue\n",
        "        # Load y_true\n",
        "        y_true = torch.LongTensor([c for c in y]).to(device)\n",
        "        \n",
        "        # Convert images to tensor\n",
        "        x_batch = torch.FloatTensor().to(device)\n",
        "        for image in images:\n",
        "            P = composed(image).unsqueeze(0).to(device)\n",
        "            x_batch = torch.cat((x_batch,P))\n",
        "\n",
        "        \n",
        "        outputs = model(x_batch)\n",
        "        loss = criterion(outputs, y_true)\n",
        "        \n",
        "        _, preds = torch.max(outputs, 1)\n",
        "        predicted.append(preds)"
      ],
      "execution_count": 18,
      "outputs": []
    },
    {
      "cell_type": "code",
      "metadata": {
        "id": "NwUWGj_IKoup"
      },
      "source": [
        "true_values = np.array(true_values).reshape(-1)\n",
        "dummy = torch.FloatTensor().to(device)\n",
        "for tensor in predicted:\n",
        "    dummy = torch.cat((dummy,tensor))\n",
        "predicted = dummy.view(-1).cpu().numpy()"
      ],
      "execution_count": 19,
      "outputs": []
    },
    {
      "cell_type": "code",
      "metadata": {
        "colab": {
          "base_uri": "https://localhost:8080/"
        },
        "id": "FjxNUd7jk_-j",
        "outputId": "f2d91746-e21c-4057-eb1e-c2833e95bafa"
      },
      "source": [
        "confusion_matrix(true_values, predicted)"
      ],
      "execution_count": 20,
      "outputs": [
        {
          "output_type": "execute_result",
          "data": {
            "text/plain": [
              "array([[33,  4],\n",
              "       [ 5, 33]])"
            ]
          },
          "metadata": {
            "tags": []
          },
          "execution_count": 20
        }
      ]
    },
    {
      "cell_type": "code",
      "metadata": {
        "id": "ukHy0FRQBGil",
        "outputId": "85824769-5c95-4c40-8f88-6db562c519ef",
        "colab": {
          "base_uri": "https://localhost:8080/"
        }
      },
      "source": [
        "(66)/(75)"
      ],
      "execution_count": 23,
      "outputs": [
        {
          "output_type": "execute_result",
          "data": {
            "text/plain": [
              "0.88"
            ]
          },
          "metadata": {
            "tags": []
          },
          "execution_count": 23
        }
      ]
    },
    {
      "cell_type": "code",
      "metadata": {
        "id": "OnKODPkQuxfE"
      },
      "source": [
        ""
      ],
      "execution_count": null,
      "outputs": []
    }
  ]
}