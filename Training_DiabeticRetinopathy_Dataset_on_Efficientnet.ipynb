{
  "nbformat": 4,
  "nbformat_minor": 0,
  "metadata": {
    "kernelspec": {
      "display_name": "Python 3",
      "language": "python",
      "name": "python3"
    },
    "language_info": {
      "codemirror_mode": {
        "name": "ipython",
        "version": 3
      },
      "file_extension": ".py",
      "mimetype": "text/x-python",
      "name": "python",
      "nbconvert_exporter": "python",
      "pygments_lexer": "ipython3",
      "version": "3.7.4"
    },
    "colab": {
      "name": "Training_DiabeticRetinopathy Dataset on Efficientnet.ipynb",
      "provenance": [],
      "include_colab_link": true
    },
    "accelerator": "GPU",
    "widgets": {
      "application/vnd.jupyter.widget-state+json": {
        "e7c26c8eea41447abc524eb9d459c617": {
          "model_module": "@jupyter-widgets/controls",
          "model_name": "HBoxModel",
          "state": {
            "_view_name": "HBoxView",
            "_dom_classes": [],
            "_model_name": "HBoxModel",
            "_view_module": "@jupyter-widgets/controls",
            "_model_module_version": "1.5.0",
            "_view_count": null,
            "_view_module_version": "1.5.0",
            "box_style": "",
            "layout": "IPY_MODEL_5b59c6f60030407b805746cd0042ea30",
            "_model_module": "@jupyter-widgets/controls",
            "children": [
              "IPY_MODEL_4c198cd7e2f740aea2c613bbf0444e16",
              "IPY_MODEL_f74526197afb44c5aecef30269e2b894"
            ]
          }
        },
        "5b59c6f60030407b805746cd0042ea30": {
          "model_module": "@jupyter-widgets/base",
          "model_name": "LayoutModel",
          "state": {
            "_view_name": "LayoutView",
            "grid_template_rows": null,
            "right": null,
            "justify_content": null,
            "_view_module": "@jupyter-widgets/base",
            "overflow": null,
            "_model_module_version": "1.2.0",
            "_view_count": null,
            "flex_flow": null,
            "width": null,
            "min_width": null,
            "border": null,
            "align_items": null,
            "bottom": null,
            "_model_module": "@jupyter-widgets/base",
            "top": null,
            "grid_column": null,
            "overflow_y": null,
            "overflow_x": null,
            "grid_auto_flow": null,
            "grid_area": null,
            "grid_template_columns": null,
            "flex": null,
            "_model_name": "LayoutModel",
            "justify_items": null,
            "grid_row": null,
            "max_height": null,
            "align_content": null,
            "visibility": null,
            "align_self": null,
            "height": null,
            "min_height": null,
            "padding": null,
            "grid_auto_rows": null,
            "grid_gap": null,
            "max_width": null,
            "order": null,
            "_view_module_version": "1.2.0",
            "grid_template_areas": null,
            "object_position": null,
            "object_fit": null,
            "grid_auto_columns": null,
            "margin": null,
            "display": null,
            "left": null
          }
        },
        "4c198cd7e2f740aea2c613bbf0444e16": {
          "model_module": "@jupyter-widgets/controls",
          "model_name": "FloatProgressModel",
          "state": {
            "_view_name": "ProgressView",
            "style": "IPY_MODEL_d8cffd8e06d04ff2a1e143be859755e8",
            "_dom_classes": [],
            "description": "100%",
            "_model_name": "FloatProgressModel",
            "bar_style": "success",
            "max": 21388428,
            "_view_module": "@jupyter-widgets/controls",
            "_model_module_version": "1.5.0",
            "value": 21388428,
            "_view_count": null,
            "_view_module_version": "1.5.0",
            "orientation": "horizontal",
            "min": 0,
            "description_tooltip": null,
            "_model_module": "@jupyter-widgets/controls",
            "layout": "IPY_MODEL_3f19474e6eb4458083a4feac27c4fce2"
          }
        },
        "f74526197afb44c5aecef30269e2b894": {
          "model_module": "@jupyter-widgets/controls",
          "model_name": "HTMLModel",
          "state": {
            "_view_name": "HTMLView",
            "style": "IPY_MODEL_c6740169da874b3a8c893cc54be6b3fc",
            "_dom_classes": [],
            "description": "",
            "_model_name": "HTMLModel",
            "placeholder": "​",
            "_view_module": "@jupyter-widgets/controls",
            "_model_module_version": "1.5.0",
            "value": " 20.4M/20.4M [00:02&lt;00:00, 9.82MB/s]",
            "_view_count": null,
            "_view_module_version": "1.5.0",
            "description_tooltip": null,
            "_model_module": "@jupyter-widgets/controls",
            "layout": "IPY_MODEL_d89511d2d7f44deb9123df30dd4c4233"
          }
        },
        "d8cffd8e06d04ff2a1e143be859755e8": {
          "model_module": "@jupyter-widgets/controls",
          "model_name": "ProgressStyleModel",
          "state": {
            "_view_name": "StyleView",
            "_model_name": "ProgressStyleModel",
            "description_width": "initial",
            "_view_module": "@jupyter-widgets/base",
            "_model_module_version": "1.5.0",
            "_view_count": null,
            "_view_module_version": "1.2.0",
            "bar_color": null,
            "_model_module": "@jupyter-widgets/controls"
          }
        },
        "3f19474e6eb4458083a4feac27c4fce2": {
          "model_module": "@jupyter-widgets/base",
          "model_name": "LayoutModel",
          "state": {
            "_view_name": "LayoutView",
            "grid_template_rows": null,
            "right": null,
            "justify_content": null,
            "_view_module": "@jupyter-widgets/base",
            "overflow": null,
            "_model_module_version": "1.2.0",
            "_view_count": null,
            "flex_flow": null,
            "width": null,
            "min_width": null,
            "border": null,
            "align_items": null,
            "bottom": null,
            "_model_module": "@jupyter-widgets/base",
            "top": null,
            "grid_column": null,
            "overflow_y": null,
            "overflow_x": null,
            "grid_auto_flow": null,
            "grid_area": null,
            "grid_template_columns": null,
            "flex": null,
            "_model_name": "LayoutModel",
            "justify_items": null,
            "grid_row": null,
            "max_height": null,
            "align_content": null,
            "visibility": null,
            "align_self": null,
            "height": null,
            "min_height": null,
            "padding": null,
            "grid_auto_rows": null,
            "grid_gap": null,
            "max_width": null,
            "order": null,
            "_view_module_version": "1.2.0",
            "grid_template_areas": null,
            "object_position": null,
            "object_fit": null,
            "grid_auto_columns": null,
            "margin": null,
            "display": null,
            "left": null
          }
        },
        "c6740169da874b3a8c893cc54be6b3fc": {
          "model_module": "@jupyter-widgets/controls",
          "model_name": "DescriptionStyleModel",
          "state": {
            "_view_name": "StyleView",
            "_model_name": "DescriptionStyleModel",
            "description_width": "",
            "_view_module": "@jupyter-widgets/base",
            "_model_module_version": "1.5.0",
            "_view_count": null,
            "_view_module_version": "1.2.0",
            "_model_module": "@jupyter-widgets/controls"
          }
        },
        "d89511d2d7f44deb9123df30dd4c4233": {
          "model_module": "@jupyter-widgets/base",
          "model_name": "LayoutModel",
          "state": {
            "_view_name": "LayoutView",
            "grid_template_rows": null,
            "right": null,
            "justify_content": null,
            "_view_module": "@jupyter-widgets/base",
            "overflow": null,
            "_model_module_version": "1.2.0",
            "_view_count": null,
            "flex_flow": null,
            "width": null,
            "min_width": null,
            "border": null,
            "align_items": null,
            "bottom": null,
            "_model_module": "@jupyter-widgets/base",
            "top": null,
            "grid_column": null,
            "overflow_y": null,
            "overflow_x": null,
            "grid_auto_flow": null,
            "grid_area": null,
            "grid_template_columns": null,
            "flex": null,
            "_model_name": "LayoutModel",
            "justify_items": null,
            "grid_row": null,
            "max_height": null,
            "align_content": null,
            "visibility": null,
            "align_self": null,
            "height": null,
            "min_height": null,
            "padding": null,
            "grid_auto_rows": null,
            "grid_gap": null,
            "max_width": null,
            "order": null,
            "_view_module_version": "1.2.0",
            "grid_template_areas": null,
            "object_position": null,
            "object_fit": null,
            "grid_auto_columns": null,
            "margin": null,
            "display": null,
            "left": null
          }
        }
      }
    }
  },
  "cells": [
    {
      "cell_type": "markdown",
      "metadata": {
        "id": "view-in-github",
        "colab_type": "text"
      },
      "source": [
        "<a href=\"https://colab.research.google.com/github/Vengadore/Notebooks/blob/master/Training_DiabeticRetinopathy_Dataset_on_Efficientnet.ipynb\" target=\"_parent\"><img src=\"https://colab.research.google.com/assets/colab-badge.svg\" alt=\"Open In Colab\"/></a>"
      ]
    },
    {
      "cell_type": "markdown",
      "metadata": {
        "id": "nVm5Ats_YVEZ"
      },
      "source": [
        "# Diabetic Retinopathy Detection\n",
        "\n",
        "Kaggle has a large competition of Diabetic Retinopathy detection which can be found here:\n",
        "https://www.kaggle.com/c/diabetic-retinopathy-detection/\n",
        "\n",
        "Their dataset consists in 35126 images labeled from 0 to 4 according to the degree of Retinopathy.\n",
        "An analysis of the data is provided in this notebook."
      ]
    },
    {
      "cell_type": "code",
      "metadata": {
        "id": "QABUN5czaGrr",
        "outputId": "4bab5c14-ec4e-42bf-9c0a-5846fdcc4440",
        "colab": {
          "base_uri": "https://localhost:8080/"
        }
      },
      "source": [
        "!rm -rf sample_data\n",
        "!nvidia-smi"
      ],
      "execution_count": 1,
      "outputs": [
        {
          "output_type": "stream",
          "text": [
            "Sat Nov  7 06:27:47 2020       \n",
            "+-----------------------------------------------------------------------------+\n",
            "| NVIDIA-SMI 455.32.00    Driver Version: 418.67       CUDA Version: 10.1     |\n",
            "|-------------------------------+----------------------+----------------------+\n",
            "| GPU  Name        Persistence-M| Bus-Id        Disp.A | Volatile Uncorr. ECC |\n",
            "| Fan  Temp  Perf  Pwr:Usage/Cap|         Memory-Usage | GPU-Util  Compute M. |\n",
            "|                               |                      |               MIG M. |\n",
            "|===============================+======================+======================|\n",
            "|   0  Tesla T4            Off  | 00000000:00:04.0 Off |                    0 |\n",
            "| N/A   52C    P8    10W /  70W |      0MiB / 15079MiB |      0%      Default |\n",
            "|                               |                      |                 ERR! |\n",
            "+-------------------------------+----------------------+----------------------+\n",
            "                                                                               \n",
            "+-----------------------------------------------------------------------------+\n",
            "| Processes:                                                                  |\n",
            "|  GPU   GI   CI        PID   Type   Process name                  GPU Memory |\n",
            "|        ID   ID                                                   Usage      |\n",
            "|=============================================================================|\n",
            "|  No running processes found                                                 |\n",
            "+-----------------------------------------------------------------------------+\n"
          ],
          "name": "stdout"
        }
      ]
    },
    {
      "cell_type": "code",
      "metadata": {
        "id": "WawlwJsLaUmF",
        "outputId": "206e4fd8-7ad6-4580-ab78-fde06e39e70a",
        "colab": {
          "base_uri": "https://localhost:8080/"
        }
      },
      "source": [
        "from google.colab import drive\n",
        "drive.mount('/content/drive')"
      ],
      "execution_count": 2,
      "outputs": [
        {
          "output_type": "stream",
          "text": [
            "Mounted at /content/drive\n"
          ],
          "name": "stdout"
        }
      ]
    },
    {
      "cell_type": "code",
      "metadata": {
        "id": "O86qGYBCqIuh",
        "outputId": "ea166fc8-76b5-41cb-fb70-0e0eb85bf9b3",
        "colab": {
          "base_uri": "https://localhost:8080/"
        }
      },
      "source": [
        "!cp -R -v /content/drive/My\\ Drive/PDR/ ./"
      ],
      "execution_count": 1,
      "outputs": [
        {
          "output_type": "stream",
          "text": [
            "'/content/drive/My Drive/PDR/trainLabels.csv' -> './PDR/trainLabels.csv'\n",
            "'/content/drive/My Drive/PDR/train/11909_left.jpeg' -> './PDR/train/11909_left.jpeg'\n",
            "'/content/drive/My Drive/PDR/train/11909_right.jpeg' -> './PDR/train/11909_right.jpeg'\n",
            "'/content/drive/My Drive/PDR/train/11910_left.jpeg' -> './PDR/train/11910_left.jpeg'\n",
            "'/content/drive/My Drive/PDR/train/11913_left.jpeg' -> './PDR/train/11913_left.jpeg'\n",
            "'/content/drive/My Drive/PDR/train/11910_right.jpeg' -> './PDR/train/11910_right.jpeg'\n",
            "'/content/drive/My Drive/PDR/train/11913_right.jpeg' -> './PDR/train/11913_right.jpeg'\n",
            "'/content/drive/My Drive/PDR/train/11914_left.jpeg' -> './PDR/train/11914_left.jpeg'\n",
            "'/content/drive/My Drive/PDR/train/11914_right.jpeg' -> './PDR/train/11914_right.jpeg'\n",
            "'/content/drive/My Drive/PDR/train/11915_left.jpeg' -> './PDR/train/11915_left.jpeg'\n",
            "'/content/drive/My Drive/PDR/train/11915_right.jpeg' -> './PDR/train/11915_right.jpeg'\n",
            "'/content/drive/My Drive/PDR/train/11916_left.jpeg' -> './PDR/train/11916_left.jpeg'\n",
            "'/content/drive/My Drive/PDR/train/11916_right.jpeg' -> './PDR/train/11916_right.jpeg'\n",
            "'/content/drive/My Drive/PDR/train/11920_left.jpeg' -> './PDR/train/11920_left.jpeg'\n",
            "'/content/drive/My Drive/PDR/train/11920_right.jpeg' -> './PDR/train/11920_right.jpeg'\n",
            "'/content/drive/My Drive/PDR/train/11923_left.jpeg' -> './PDR/train/11923_left.jpeg'\n",
            "'/content/drive/My Drive/PDR/train/11923_right.jpeg' -> './PDR/train/11923_right.jpeg'\n",
            "'/content/drive/My Drive/PDR/train/11926_left.jpeg' -> './PDR/train/11926_left.jpeg'\n",
            "'/content/drive/My Drive/PDR/train/11926_right.jpeg' -> './PDR/train/11926_right.jpeg'\n",
            "'/content/drive/My Drive/PDR/train/11929_left.jpeg' -> './PDR/train/11929_left.jpeg'\n",
            "'/content/drive/My Drive/PDR/train/11929_right.jpeg' -> './PDR/train/11929_right.jpeg'\n",
            "'/content/drive/My Drive/PDR/train/1192_left.jpeg' -> './PDR/train/1192_left.jpeg'\n",
            "'/content/drive/My Drive/PDR/train/1192_right.jpeg' -> './PDR/train/1192_right.jpeg'\n",
            "'/content/drive/My Drive/PDR/train/11930_left.jpeg' -> './PDR/train/11930_left.jpeg'\n",
            "'/content/drive/My Drive/PDR/train/11930_right.jpeg' -> './PDR/train/11930_right.jpeg'\n",
            "'/content/drive/My Drive/PDR/train/11935_left.jpeg' -> './PDR/train/11935_left.jpeg'\n",
            "'/content/drive/My Drive/PDR/train/11935_right.jpeg' -> './PDR/train/11935_right.jpeg'\n",
            "'/content/drive/My Drive/PDR/train/11937_left.jpeg' -> './PDR/train/11937_left.jpeg'\n",
            "'/content/drive/My Drive/PDR/train/11937_right.jpeg' -> './PDR/train/11937_right.jpeg'\n",
            "'/content/drive/My Drive/PDR/train/11940_left.jpeg' -> './PDR/train/11940_left.jpeg'\n",
            "'/content/drive/My Drive/PDR/train/11940_right.jpeg' -> './PDR/train/11940_right.jpeg'\n",
            "'/content/drive/My Drive/PDR/train/11942_left.jpeg' -> './PDR/train/11942_left.jpeg'\n",
            "'/content/drive/My Drive/PDR/train/11942_right.jpeg' -> './PDR/train/11942_right.jpeg'\n",
            "'/content/drive/My Drive/PDR/train/11943_left.jpeg' -> './PDR/train/11943_left.jpeg'\n",
            "'/content/drive/My Drive/PDR/train/11943_right.jpeg' -> './PDR/train/11943_right.jpeg'\n",
            "'/content/drive/My Drive/PDR/train/11946_left.jpeg' -> './PDR/train/11946_left.jpeg'\n",
            "'/content/drive/My Drive/PDR/train/11946_right.jpeg' -> './PDR/train/11946_right.jpeg'\n",
            "^C\n"
          ],
          "name": "stdout"
        }
      ]
    },
    {
      "cell_type": "markdown",
      "metadata": {
        "id": "MrtmQaiBbcy5"
      },
      "source": [
        "### Install dependencies"
      ]
    },
    {
      "cell_type": "code",
      "metadata": {
        "id": "gKfg7kcTbb4h"
      },
      "source": [
        "from IPython.display import clear_output\n",
        "\n",
        "!pip install torch==1.6.0+cu101 torchvision==0.7.0+cu101 -f https://download.pytorch.org/whl/torch_stable.html\n",
        "!pip install efficientnet_pytorch\n",
        "clear_output(wait=False)"
      ],
      "execution_count": 4,
      "outputs": []
    },
    {
      "cell_type": "markdown",
      "metadata": {
        "id": "8JLlP5peYVEj"
      },
      "source": [
        "### Load annotations"
      ]
    },
    {
      "cell_type": "code",
      "metadata": {
        "id": "f230WQNFdFwj",
        "outputId": "149ea9d7-22ab-4ae6-870c-efc5c55c1b75",
        "colab": {
          "base_uri": "https://localhost:8080/",
          "height": 206
        }
      },
      "source": [
        "import pandas as pd\n",
        "import os\n",
        "\n",
        "data = pd.read_csv(\"/content/drive/My Drive/PDR/trainLabels.csv\")\n",
        "# Append path\n",
        "data['image'] = data['image'].apply(lambda x : os.path.join(\"/content/drive/My Drive/PDR/train\",x+\".jpeg\"))\n",
        "data.head()"
      ],
      "execution_count": 1,
      "outputs": [
        {
          "output_type": "execute_result",
          "data": {
            "text/html": [
              "<div>\n",
              "<style scoped>\n",
              "    .dataframe tbody tr th:only-of-type {\n",
              "        vertical-align: middle;\n",
              "    }\n",
              "\n",
              "    .dataframe tbody tr th {\n",
              "        vertical-align: top;\n",
              "    }\n",
              "\n",
              "    .dataframe thead th {\n",
              "        text-align: right;\n",
              "    }\n",
              "</style>\n",
              "<table border=\"1\" class=\"dataframe\">\n",
              "  <thead>\n",
              "    <tr style=\"text-align: right;\">\n",
              "      <th></th>\n",
              "      <th>image</th>\n",
              "      <th>level</th>\n",
              "    </tr>\n",
              "  </thead>\n",
              "  <tbody>\n",
              "    <tr>\n",
              "      <th>0</th>\n",
              "      <td>/content/drive/My Drive/PDR/train/10_left.jpeg</td>\n",
              "      <td>0</td>\n",
              "    </tr>\n",
              "    <tr>\n",
              "      <th>1</th>\n",
              "      <td>/content/drive/My Drive/PDR/train/10_right.jpeg</td>\n",
              "      <td>0</td>\n",
              "    </tr>\n",
              "    <tr>\n",
              "      <th>2</th>\n",
              "      <td>/content/drive/My Drive/PDR/train/13_left.jpeg</td>\n",
              "      <td>0</td>\n",
              "    </tr>\n",
              "    <tr>\n",
              "      <th>3</th>\n",
              "      <td>/content/drive/My Drive/PDR/train/13_right.jpeg</td>\n",
              "      <td>0</td>\n",
              "    </tr>\n",
              "    <tr>\n",
              "      <th>4</th>\n",
              "      <td>/content/drive/My Drive/PDR/train/15_left.jpeg</td>\n",
              "      <td>1</td>\n",
              "    </tr>\n",
              "  </tbody>\n",
              "</table>\n",
              "</div>"
            ],
            "text/plain": [
              "                                             image  level\n",
              "0   /content/drive/My Drive/PDR/train/10_left.jpeg      0\n",
              "1  /content/drive/My Drive/PDR/train/10_right.jpeg      0\n",
              "2   /content/drive/My Drive/PDR/train/13_left.jpeg      0\n",
              "3  /content/drive/My Drive/PDR/train/13_right.jpeg      0\n",
              "4   /content/drive/My Drive/PDR/train/15_left.jpeg      1"
            ]
          },
          "metadata": {
            "tags": []
          },
          "execution_count": 1
        }
      ]
    },
    {
      "cell_type": "code",
      "metadata": {
        "id": "yhG-9dRFajCx",
        "outputId": "6e05f255-1b74-4549-bcc5-fa89c6f20bb3",
        "colab": {
          "base_uri": "https://localhost:8080/",
          "height": 238
        }
      },
      "source": [
        "data.groupby('level').count()"
      ],
      "execution_count": 2,
      "outputs": [
        {
          "output_type": "execute_result",
          "data": {
            "text/html": [
              "<div>\n",
              "<style scoped>\n",
              "    .dataframe tbody tr th:only-of-type {\n",
              "        vertical-align: middle;\n",
              "    }\n",
              "\n",
              "    .dataframe tbody tr th {\n",
              "        vertical-align: top;\n",
              "    }\n",
              "\n",
              "    .dataframe thead th {\n",
              "        text-align: right;\n",
              "    }\n",
              "</style>\n",
              "<table border=\"1\" class=\"dataframe\">\n",
              "  <thead>\n",
              "    <tr style=\"text-align: right;\">\n",
              "      <th></th>\n",
              "      <th>image</th>\n",
              "    </tr>\n",
              "    <tr>\n",
              "      <th>level</th>\n",
              "      <th></th>\n",
              "    </tr>\n",
              "  </thead>\n",
              "  <tbody>\n",
              "    <tr>\n",
              "      <th>0</th>\n",
              "      <td>25810</td>\n",
              "    </tr>\n",
              "    <tr>\n",
              "      <th>1</th>\n",
              "      <td>2443</td>\n",
              "    </tr>\n",
              "    <tr>\n",
              "      <th>2</th>\n",
              "      <td>5292</td>\n",
              "    </tr>\n",
              "    <tr>\n",
              "      <th>3</th>\n",
              "      <td>873</td>\n",
              "    </tr>\n",
              "    <tr>\n",
              "      <th>4</th>\n",
              "      <td>708</td>\n",
              "    </tr>\n",
              "  </tbody>\n",
              "</table>\n",
              "</div>"
            ],
            "text/plain": [
              "       image\n",
              "level       \n",
              "0      25810\n",
              "1       2443\n",
              "2       5292\n",
              "3        873\n",
              "4        708"
            ]
          },
          "metadata": {
            "tags": []
          },
          "execution_count": 2
        }
      ]
    },
    {
      "cell_type": "code",
      "metadata": {
        "id": "ml1LIdjWLID3"
      },
      "source": [
        "## Sample dataframes to make them even\n",
        "level0 = data[data['level']==0].sample(708,random_state=42)\n",
        "level1 = data[data['level']==1].sample(708,random_state=42)\n",
        "level2 = data[data['level']==2].sample(708,random_state=42)\n",
        "level3 = data[data['level']==3].sample(708,random_state=42)\n",
        "level4 = data[data['level']==4].sample(708,random_state=42)"
      ],
      "execution_count": 3,
      "outputs": []
    },
    {
      "cell_type": "code",
      "metadata": {
        "id": "zhSwBXgHMW4R",
        "outputId": "0c7244ac-5995-4ba1-d375-52192a903f05",
        "colab": {
          "base_uri": "https://localhost:8080/",
          "height": 238
        }
      },
      "source": [
        "new_data = pd.concat((level0,level1,level2,level3,level4),axis=0).reset_index()\n",
        "new_data.groupby('level').count()"
      ],
      "execution_count": 4,
      "outputs": [
        {
          "output_type": "execute_result",
          "data": {
            "text/html": [
              "<div>\n",
              "<style scoped>\n",
              "    .dataframe tbody tr th:only-of-type {\n",
              "        vertical-align: middle;\n",
              "    }\n",
              "\n",
              "    .dataframe tbody tr th {\n",
              "        vertical-align: top;\n",
              "    }\n",
              "\n",
              "    .dataframe thead th {\n",
              "        text-align: right;\n",
              "    }\n",
              "</style>\n",
              "<table border=\"1\" class=\"dataframe\">\n",
              "  <thead>\n",
              "    <tr style=\"text-align: right;\">\n",
              "      <th></th>\n",
              "      <th>index</th>\n",
              "      <th>image</th>\n",
              "    </tr>\n",
              "    <tr>\n",
              "      <th>level</th>\n",
              "      <th></th>\n",
              "      <th></th>\n",
              "    </tr>\n",
              "  </thead>\n",
              "  <tbody>\n",
              "    <tr>\n",
              "      <th>0</th>\n",
              "      <td>708</td>\n",
              "      <td>708</td>\n",
              "    </tr>\n",
              "    <tr>\n",
              "      <th>1</th>\n",
              "      <td>708</td>\n",
              "      <td>708</td>\n",
              "    </tr>\n",
              "    <tr>\n",
              "      <th>2</th>\n",
              "      <td>708</td>\n",
              "      <td>708</td>\n",
              "    </tr>\n",
              "    <tr>\n",
              "      <th>3</th>\n",
              "      <td>708</td>\n",
              "      <td>708</td>\n",
              "    </tr>\n",
              "    <tr>\n",
              "      <th>4</th>\n",
              "      <td>708</td>\n",
              "      <td>708</td>\n",
              "    </tr>\n",
              "  </tbody>\n",
              "</table>\n",
              "</div>"
            ],
            "text/plain": [
              "       index  image\n",
              "level              \n",
              "0        708    708\n",
              "1        708    708\n",
              "2        708    708\n",
              "3        708    708\n",
              "4        708    708"
            ]
          },
          "metadata": {
            "tags": []
          },
          "execution_count": 4
        }
      ]
    },
    {
      "cell_type": "code",
      "metadata": {
        "id": "vkZ8GQP6Mnsw",
        "outputId": "bd765884-7820-4c5f-bc99-4e7a0b23bc25",
        "colab": {
          "base_uri": "https://localhost:8080/",
          "height": 206
        }
      },
      "source": [
        "data = new_data.copy()\n",
        "data.head()"
      ],
      "execution_count": 5,
      "outputs": [
        {
          "output_type": "execute_result",
          "data": {
            "text/html": [
              "<div>\n",
              "<style scoped>\n",
              "    .dataframe tbody tr th:only-of-type {\n",
              "        vertical-align: middle;\n",
              "    }\n",
              "\n",
              "    .dataframe tbody tr th {\n",
              "        vertical-align: top;\n",
              "    }\n",
              "\n",
              "    .dataframe thead th {\n",
              "        text-align: right;\n",
              "    }\n",
              "</style>\n",
              "<table border=\"1\" class=\"dataframe\">\n",
              "  <thead>\n",
              "    <tr style=\"text-align: right;\">\n",
              "      <th></th>\n",
              "      <th>index</th>\n",
              "      <th>image</th>\n",
              "      <th>level</th>\n",
              "    </tr>\n",
              "  </thead>\n",
              "  <tbody>\n",
              "    <tr>\n",
              "      <th>0</th>\n",
              "      <td>13639</td>\n",
              "      <td>/content/drive/My Drive/PDR/train/17123_right....</td>\n",
              "      <td>0</td>\n",
              "    </tr>\n",
              "    <tr>\n",
              "      <th>1</th>\n",
              "      <td>10003</td>\n",
              "      <td>/content/drive/My Drive/PDR/train/12616_right....</td>\n",
              "      <td>0</td>\n",
              "    </tr>\n",
              "    <tr>\n",
              "      <th>2</th>\n",
              "      <td>5196</td>\n",
              "      <td>/content/drive/My Drive/PDR/train/6541_left.jpeg</td>\n",
              "      <td>0</td>\n",
              "    </tr>\n",
              "    <tr>\n",
              "      <th>3</th>\n",
              "      <td>11487</td>\n",
              "      <td>/content/drive/My Drive/PDR/train/14418_right....</td>\n",
              "      <td>0</td>\n",
              "    </tr>\n",
              "    <tr>\n",
              "      <th>4</th>\n",
              "      <td>31342</td>\n",
              "      <td>/content/drive/My Drive/PDR/train/39598_left.jpeg</td>\n",
              "      <td>0</td>\n",
              "    </tr>\n",
              "  </tbody>\n",
              "</table>\n",
              "</div>"
            ],
            "text/plain": [
              "   index                                              image  level\n",
              "0  13639  /content/drive/My Drive/PDR/train/17123_right....      0\n",
              "1  10003  /content/drive/My Drive/PDR/train/12616_right....      0\n",
              "2   5196   /content/drive/My Drive/PDR/train/6541_left.jpeg      0\n",
              "3  11487  /content/drive/My Drive/PDR/train/14418_right....      0\n",
              "4  31342  /content/drive/My Drive/PDR/train/39598_left.jpeg      0"
            ]
          },
          "metadata": {
            "tags": []
          },
          "execution_count": 5
        }
      ]
    },
    {
      "cell_type": "markdown",
      "metadata": {
        "id": "deKSOu-Kd8Yk"
      },
      "source": [
        "#### Split data"
      ]
    },
    {
      "cell_type": "code",
      "metadata": {
        "id": "4w3TUlaqd7qi"
      },
      "source": [
        "from sklearn.model_selection import train_test_split\n",
        "\n",
        "#Split data\n",
        "X_train, X_test, y_train, y_test = train_test_split(data['image'], data['level'], test_size=0.22, random_state=42)"
      ],
      "execution_count": 6,
      "outputs": []
    },
    {
      "cell_type": "markdown",
      "metadata": {
        "id": "mPh3qDdIdkHh"
      },
      "source": [
        "## Definition of the model"
      ]
    },
    {
      "cell_type": "code",
      "metadata": {
        "id": "Z-FUmuJidoy3",
        "outputId": "2bb1d8a5-d8d2-49b8-897c-acd4ecde3727",
        "colab": {
          "base_uri": "https://localhost:8080/",
          "height": 104,
          "referenced_widgets": [
            "e7c26c8eea41447abc524eb9d459c617",
            "5b59c6f60030407b805746cd0042ea30",
            "4c198cd7e2f740aea2c613bbf0444e16",
            "f74526197afb44c5aecef30269e2b894",
            "d8cffd8e06d04ff2a1e143be859755e8",
            "3f19474e6eb4458083a4feac27c4fce2",
            "c6740169da874b3a8c893cc54be6b3fc",
            "d89511d2d7f44deb9123df30dd4c4233"
          ]
        }
      },
      "source": [
        "from efficientnet_pytorch import EfficientNet\n",
        "import torch\n",
        "\n",
        "model = EfficientNet.from_pretrained('efficientnet-b0')\n",
        "## Change efficientnet final layer\n",
        "model._fc = torch.nn.Linear(in_features=1280,out_features=5,bias = True)"
      ],
      "execution_count": 7,
      "outputs": [
        {
          "output_type": "stream",
          "text": [
            "Downloading: \"https://github.com/lukemelas/EfficientNet-PyTorch/releases/download/1.0/efficientnet-b0-355c32eb.pth\" to /root/.cache/torch/hub/checkpoints/efficientnet-b0-355c32eb.pth\n"
          ],
          "name": "stderr"
        },
        {
          "output_type": "display_data",
          "data": {
            "application/vnd.jupyter.widget-view+json": {
              "model_id": "e7c26c8eea41447abc524eb9d459c617",
              "version_minor": 0,
              "version_major": 2
            },
            "text/plain": [
              "HBox(children=(FloatProgress(value=0.0, max=21388428.0), HTML(value='')))"
            ]
          },
          "metadata": {
            "tags": []
          }
        },
        {
          "output_type": "stream",
          "text": [
            "\n",
            "Loaded pretrained weights for efficientnet-b0\n"
          ],
          "name": "stdout"
        }
      ]
    },
    {
      "cell_type": "code",
      "metadata": {
        "id": "5BR_Hs12gAqx"
      },
      "source": [
        "from torchvision.transforms import Resize,ToTensor,Compose,Normalize\n",
        "from torchvision.transforms import RandomHorizontalFlip,RandomVerticalFlip,RandomRotation\n",
        "from PIL import Image\n",
        "\n",
        "transforms = Compose([RandomHorizontalFlip(),RandomVerticalFlip(),RandomRotation(15)]) # Transformations for the training images\n",
        "\n",
        "composed = Compose([Resize((224,312)), # Resize to a fit size for efficientnet\n",
        "                    ToTensor(),  # Convert into sensor\n",
        "                    Normalize((0.5, 0.5, 0.5), (0.5, 0.5, 0.5))]) # Normalize image"
      ],
      "execution_count": 8,
      "outputs": []
    },
    {
      "cell_type": "markdown",
      "metadata": {
        "id": "mWg1p7EQtqVZ"
      },
      "source": [
        "### Training parameters"
      ]
    },
    {
      "cell_type": "code",
      "metadata": {
        "id": "EiT-MlPutsZR"
      },
      "source": [
        "device = torch.device('cuda' if torch.cuda.is_available() else 'cpu')\n",
        "model.to(device);\n",
        "torch.manual_seed(17)\n",
        "criterion = torch.nn.CrossEntropyLoss()\n",
        "optimizer = torch.optim.Adam(model.parameters(), lr=0.0001)"
      ],
      "execution_count": 9,
      "outputs": []
    },
    {
      "cell_type": "code",
      "metadata": {
        "id": "iJWflI4JoVRW",
        "outputId": "e5ca227b-b2f4-4560-c0b6-ab3167ca6ab9",
        "colab": {
          "base_uri": "https://localhost:8080/"
        }
      },
      "source": [
        "try:\n",
        "    model = torch.load('checkpoint.ph').to(device)\n",
        "except:\n",
        "    print(\"No Checkpoint loaded\")"
      ],
      "execution_count": 10,
      "outputs": [
        {
          "output_type": "stream",
          "text": [
            "No Checkpoint loaded\n"
          ],
          "name": "stdout"
        }
      ]
    },
    {
      "cell_type": "code",
      "metadata": {
        "id": "lcTzzyr5uUdr"
      },
      "source": [
        "classes = {0:[0,0,0,0,1],\n",
        "           1:[0,0,0,1,0],\n",
        "           2:[0,0,1,0,0],\n",
        "           3:[0,1,0,0,0],\n",
        "           4:[1,0,0,0,0]}"
      ],
      "execution_count": 11,
      "outputs": []
    },
    {
      "cell_type": "code",
      "metadata": {
        "id": "RkvlQWRQtjXo",
        "outputId": "8d822487-a91e-4f5b-963b-0eec8132cef4",
        "colab": {
          "base_uri": "https://localhost:8080/"
        }
      },
      "source": [
        "from tqdm import tqdm\n",
        "import random\n",
        "\n",
        "epochs = 10\n",
        "batch_size = 64\n",
        "\n",
        "for epoch in range(epochs):\n",
        "\n",
        "    indexes = [idx for idx in range(len(X_train))]\n",
        "    pbar = tqdm( range(len(X_train)//batch_size),ncols = 100)\n",
        "    running_loss = 0.0\n",
        "    running_acc = 0.0\n",
        "    t = 0\n",
        "\n",
        "    for step in pbar:\n",
        "        # Load data\n",
        "        idx = random.sample(indexes,batch_size)\n",
        "        X = X_train.iloc[idx]\n",
        "        y = y_train.iloc[idx]\n",
        "\n",
        "        # Remove indexes\n",
        "        [indexes.remove(i) for i in idx]\n",
        "\n",
        "        # Load images\n",
        "        try:\n",
        "            images = [Image.open(File) for File in X]\n",
        "        except:\n",
        "            continue\n",
        "        # Load y_true\n",
        "        y_true = torch.LongTensor([c for c in y]).to(device)\n",
        "        \n",
        "        # Convert images to tensor\n",
        "        x_batch = torch.FloatTensor().to(device)\n",
        "        for image in images:\n",
        "            P = transforms(image)\n",
        "            P = composed(P).unsqueeze(0).to(device)\n",
        "            x_batch = torch.cat((x_batch,P))\n",
        "\n",
        "        # zero the parameter gradients\n",
        "        optimizer.zero_grad()\n",
        "        # forward + backward + optimize\n",
        "        outputs = model(x_batch)\n",
        "        loss = criterion(outputs, y_true)\n",
        "        loss.backward()\n",
        "        optimizer.step()\n",
        "        # print statistics\n",
        "        running_loss += loss.item()\n",
        "        t += batch_size\n",
        "\n",
        "        _, preds = torch.max(outputs, 1)\n",
        "        running_acc += torch.sum(preds == y_true).cpu().detach().numpy()\n",
        "        acc = torch.sum(preds == y_true).cpu().detach().numpy()/batch_size;\n",
        "        pbar.set_description(\"Epoch: {} Accuracy: {:0.5f} Loss: {:0.5f} \".format(epoch+1,running_acc/t,loss.item()))\n",
        "    #Validation\n",
        "    val_acc = 0.0\n",
        "    val_loss = 0.0\n",
        "    t = 0\n",
        "    for point in range(len(X_test)//batch_size):\n",
        "        with torch.no_grad():\n",
        "\n",
        "            X = X_test.iloc[point*batch_size:(point+1)*batch_size]\n",
        "            y = y_test.iloc[point*batch_size:(point+1)*batch_size]\n",
        "\n",
        "\n",
        "            # Load images\n",
        "            try:\n",
        "                images = [Image.open(File) for File in X]\n",
        "            except:\n",
        "                continue\n",
        "            # Load y_true\n",
        "            y_true = torch.LongTensor([c for c in y]).to(device)\n",
        "            \n",
        "            # Convert images to tensor\n",
        "            x_batch = torch.FloatTensor().to(device)\n",
        "            for image in images:\n",
        "                P = composed(image).unsqueeze(0).to(device)\n",
        "                x_batch = torch.cat((x_batch,P))\n",
        "\n",
        "            \n",
        "            outputs = model(x_batch)\n",
        "            loss = criterion(outputs, y_true)\n",
        "            val_loss += loss.item()\n",
        "            t += batch_size\n",
        "            _, preds = torch.max(outputs, 1)\n",
        "            val_acc += torch.sum(preds == y_true).cpu().detach().numpy()\n",
        "    print(\"\\n Validation -- Accuracy: {:0.5f} Loss: {:0.5f} \".format(val_acc/t,loss.item()))\n",
        "    try:\n",
        "        torch.save(model,\"/content/drive/My Drive/PDR/checkpoint{}.ph\".format(epoch))\n",
        "    except:\n",
        "        continue"
      ],
      "execution_count": 12,
      "outputs": [
        {
          "output_type": "stream",
          "text": [
            "Epoch: 1 Accuracy: 0.33576 Loss: 1.41804 : 100%|████████████████████| 43/43 [23:01<00:00, 32.13s/it]\n",
            "  0%|                                                                        | 0/43 [00:00<?, ?it/s]"
          ],
          "name": "stderr"
        },
        {
          "output_type": "stream",
          "text": [
            "\n",
            " Validation -- Accuracy: 0.40755 Loss: 1.36848 \n"
          ],
          "name": "stdout"
        },
        {
          "output_type": "stream",
          "text": [
            "Epoch: 2 Accuracy: 0.44150 Loss: 1.11833 : 100%|████████████████████| 43/43 [10:57<00:00, 15.29s/it]\n",
            "  0%|                                                                        | 0/43 [00:00<?, ?it/s]"
          ],
          "name": "stderr"
        },
        {
          "output_type": "stream",
          "text": [
            "\n",
            " Validation -- Accuracy: 0.47526 Loss: 1.14137 \n"
          ],
          "name": "stdout"
        },
        {
          "output_type": "stream",
          "text": [
            "Epoch: 3 Accuracy: 0.50109 Loss: 1.19212 : 100%|████████████████████| 43/43 [10:54<00:00, 15.23s/it]\n",
            "  0%|                                                                        | 0/43 [00:00<?, ?it/s]"
          ],
          "name": "stderr"
        },
        {
          "output_type": "stream",
          "text": [
            "\n",
            " Validation -- Accuracy: 0.47656 Loss: 1.08872 \n"
          ],
          "name": "stdout"
        },
        {
          "output_type": "stream",
          "text": [
            "Epoch: 4 Accuracy: 0.52725 Loss: 1.07781 : 100%|████████████████████| 43/43 [10:55<00:00, 15.24s/it]\n"
          ],
          "name": "stderr"
        },
        {
          "output_type": "stream",
          "text": [
            "\n",
            " Validation -- Accuracy: 0.50130 Loss: 0.98855 \n"
          ],
          "name": "stdout"
        },
        {
          "output_type": "stream",
          "text": [
            "Epoch: 5 Accuracy: 0.56650 Loss: 0.92028 : 100%|████████████████████| 43/43 [10:53<00:00, 15.21s/it]\n",
            "  0%|                                                                        | 0/43 [00:00<?, ?it/s]"
          ],
          "name": "stderr"
        },
        {
          "output_type": "stream",
          "text": [
            "\n",
            " Validation -- Accuracy: 0.50521 Loss: 0.96066 \n"
          ],
          "name": "stdout"
        },
        {
          "output_type": "stream",
          "text": [
            "Epoch: 6 Accuracy: 0.58685 Loss: 1.08278 : 100%|████████████████████| 43/43 [11:10<00:00, 15.59s/it]\n",
            "  0%|                                                                        | 0/43 [00:00<?, ?it/s]"
          ],
          "name": "stderr"
        },
        {
          "output_type": "stream",
          "text": [
            "\n",
            " Validation -- Accuracy: 0.51562 Loss: 0.94988 \n"
          ],
          "name": "stdout"
        },
        {
          "output_type": "stream",
          "text": [
            "Epoch: 7 Accuracy: 0.59230 Loss: 0.99861 : 100%|████████████████████| 43/43 [11:06<00:00, 15.50s/it]\n",
            "  0%|                                                                        | 0/43 [00:00<?, ?it/s]"
          ],
          "name": "stderr"
        },
        {
          "output_type": "stream",
          "text": [
            "\n",
            " Validation -- Accuracy: 0.50911 Loss: 0.95398 \n"
          ],
          "name": "stdout"
        },
        {
          "output_type": "stream",
          "text": [
            "Epoch: 8 Accuracy: 0.63917 Loss: 0.92362 : 100%|████████████████████| 43/43 [11:06<00:00, 15.50s/it]\n",
            "  0%|                                                                        | 0/43 [00:00<?, ?it/s]"
          ],
          "name": "stderr"
        },
        {
          "output_type": "stream",
          "text": [
            "\n",
            " Validation -- Accuracy: 0.52474 Loss: 0.97034 \n"
          ],
          "name": "stdout"
        },
        {
          "output_type": "stream",
          "text": [
            "Epoch: 9 Accuracy: 0.65262 Loss: 0.86281 : 100%|████████████████████| 43/43 [11:09<00:00, 15.56s/it]\n",
            "  0%|                                                                        | 0/43 [00:00<?, ?it/s]"
          ],
          "name": "stderr"
        },
        {
          "output_type": "stream",
          "text": [
            "\n",
            " Validation -- Accuracy: 0.52083 Loss: 1.01130 \n"
          ],
          "name": "stdout"
        },
        {
          "output_type": "stream",
          "text": [
            "Epoch: 10 Accuracy: 0.68568 Loss: 0.71870 : 100%|███████████████████| 43/43 [11:08<00:00, 15.55s/it]\n"
          ],
          "name": "stderr"
        },
        {
          "output_type": "stream",
          "text": [
            "\n",
            " Validation -- Accuracy: 0.52083 Loss: 1.03131 \n"
          ],
          "name": "stdout"
        }
      ]
    },
    {
      "cell_type": "code",
      "metadata": {
        "id": "VumKHi2Snf4F"
      },
      "source": [
        "torch.save(model,\"checkpoint.ph\")"
      ],
      "execution_count": 10,
      "outputs": []
    },
    {
      "cell_type": "code",
      "metadata": {
        "id": "iYI16QYGyqLF"
      },
      "source": [
        ""
      ],
      "execution_count": null,
      "outputs": []
    }
  ]
}